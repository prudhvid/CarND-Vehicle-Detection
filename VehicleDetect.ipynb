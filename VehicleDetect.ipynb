{
 "cells": [
  {
   "cell_type": "code",
   "execution_count": 3,
   "metadata": {},
   "outputs": [],
   "source": [
    "%matplotlib inline\n",
    "import matplotlib.image as mpimg\n",
    "import os\n",
    "from glob import iglob\n",
    "import matplotlib.pyplot as plt\n",
    "import numpy as np\n",
    "import cv2\n",
    "import glob\n",
    "import time\n",
    "from skimage.feature import hog\n",
    "from sklearn.svm import LinearSVC, SVC\n",
    "from sklearn.tree import DecisionTreeClassifier\n",
    "from sklearn.preprocessing import StandardScaler\n",
    "from sklearn.cross_validation import train_test_split\n",
    "from scipy.ndimage.measurements import label\n",
    "import math\n",
    "from collections import defaultdict"
   ]
  },
  {
   "cell_type": "code",
   "execution_count": 4,
   "metadata": {
    "collapsed": true
   },
   "outputs": [],
   "source": [
    "def get_hog_features(img, orient, pix_per_cell, cell_per_block, \n",
    "                        vis=False, feature_vec=True):\n",
    "    # Call with two outputs if vis==True\n",
    "    if vis == True:\n",
    "        features, hog_image = hog(img, orientations=orient, \n",
    "                                  pixels_per_cell=(pix_per_cell, pix_per_cell),\n",
    "                                  cells_per_block=(cell_per_block, cell_per_block), \n",
    "                                  transform_sqrt=True, \n",
    "                                  visualise=vis, feature_vector=feature_vec)\n",
    "        return features, hog_image\n",
    "    # Otherwise call with one output\n",
    "    else:\n",
    "        features = hog(img, orientations=orient, \n",
    "                       pixels_per_cell=(pix_per_cell, pix_per_cell),\n",
    "                       cells_per_block=(cell_per_block, cell_per_block), \n",
    "                       transform_sqrt=True, \n",
    "                       visualise=vis, feature_vector=feature_vec)\n",
    "        return features\n",
    "\n",
    "# Define a function to compute binned color features  \n",
    "def bin_spatial(img, size=(32, 32)):\n",
    "    # Use cv2.resize().ravel() to create the feature vector\n",
    "    features = cv2.resize(img, size).ravel() \n",
    "    # Return the feature vector\n",
    "    return features\n",
    "\n",
    "# Define a function to compute color histogram features \n",
    "# NEED TO CHANGE bins_range if reading .png files with mpimg!\n",
    "def color_hist(img, nbins=32, bins_range=(0, 255)):\n",
    "    # Compute the histogram of the color channels separately\n",
    "    channel1_hist = np.histogram(img[:,:,0], bins=nbins, range=bins_range)\n",
    "    channel2_hist = np.histogram(img[:,:,1], bins=nbins, range=bins_range)\n",
    "    channel3_hist = np.histogram(img[:,:,2], bins=nbins, range=bins_range)\n",
    "    # Concatenate the histograms into a single feature vector\n",
    "    hist_features = np.concatenate((channel1_hist[0], channel2_hist[0], channel3_hist[0]))\n",
    "    # Return the individual histograms, bin_centers and feature vector\n",
    "    return hist_features\n",
    "\n",
    "# Define a function to extract features from a list of images\n",
    "# Have this function call bin_spatial() and color_hist()\n",
    "def extract_features(imgs, color_space='RGB', spatial_size=(32, 32),\n",
    "                        hist_bins=32, orient=9,\n",
    "                        pix_per_cell=8, cell_per_block=2, hog_channel=0,\n",
    "                        spatial_feat=True, hist_feat=True, hog_feat=True):\n",
    "    # Create a list to append feature vectors to\n",
    "    features = []\n",
    "    # Iterate through the list of images\n",
    "    for file in imgs:\n",
    "        file_features = []\n",
    "        # Read in each one by one\n",
    "        image = mpimg.imread(file)\n",
    "        if(file.endswith('.png')):\n",
    "            image = (image * 255).astype(np.uint8)\n",
    "            \n",
    "        # apply color conversion if other than 'RGB'\n",
    "        if color_space != 'RGB':\n",
    "            if color_space == 'HSV':\n",
    "                feature_image = cv2.cvtColor(image, cv2.COLOR_RGB2HSV)\n",
    "            elif color_space == 'LUV':\n",
    "                feature_image = cv2.cvtColor(image, cv2.COLOR_RGB2LUV)\n",
    "            elif color_space == 'HLS':\n",
    "                feature_image = cv2.cvtColor(image, cv2.COLOR_RGB2HLS)\n",
    "            elif color_space == 'YUV':\n",
    "                feature_image = cv2.cvtColor(image, cv2.COLOR_RGB2YUV)\n",
    "            elif color_space == 'YCrCb':\n",
    "                feature_image = cv2.cvtColor(image, cv2.COLOR_RGB2YCrCb)\n",
    "        else: feature_image = np.copy(image)\n",
    "\n",
    "        if spatial_feat == True:\n",
    "            spatial_features = bin_spatial(feature_image, size=spatial_size)\n",
    "            file_features.append(spatial_features)\n",
    "        if hist_feat == True:\n",
    "            # Apply color_hist()\n",
    "            hist_features = color_hist(feature_image, nbins=hist_bins)\n",
    "            file_features.append(hist_features)\n",
    "        if hog_feat == True:\n",
    "        # Call get_hog_features() with vis=False, feature_vec=True\n",
    "            if hog_channel == 'ALL':\n",
    "                hog_features = []\n",
    "                for channel in range(feature_image.shape[2]):\n",
    "                    hog_features.append(get_hog_features(feature_image[:,:,channel], \n",
    "                                        orient, pix_per_cell, cell_per_block, \n",
    "                                        vis=False, feature_vec=True))\n",
    "                hog_features = np.ravel(hog_features)        \n",
    "            else:\n",
    "                hog_features = get_hog_features(feature_image[:,:,hog_channel], orient, \n",
    "                            pix_per_cell, cell_per_block, vis=False, feature_vec=True)\n",
    "            # Append the new feature vector to the features list\n",
    "            file_features.append(hog_features)\n",
    "        features.append(np.concatenate(file_features))\n",
    "    # Return list of feature vectors\n",
    "    return features\n",
    "    \n",
    "# Define a function that takes an image,\n",
    "# start and stop positions in both x and y, \n",
    "# window size (x and y dimensions),  \n",
    "# and overlap fraction (for both x and y)\n",
    "def slide_window(img, x_start_stop=[None, None], y_start_stop=[None, None], \n",
    "                    xy_window=(64, 64), xy_overlap=(0.5, 0.5)):\n",
    "    # If x and/or y start/stop positions not defined, set to image size\n",
    "    if x_start_stop[0] == None:\n",
    "        x_start_stop[0] = 0\n",
    "    if x_start_stop[1] == None:\n",
    "        x_start_stop[1] = img.shape[1]\n",
    "    if y_start_stop[0] == None:\n",
    "        y_start_stop[0] = 0\n",
    "    if y_start_stop[1] == None:\n",
    "        y_start_stop[1] = img.shape[0]\n",
    "    # Compute the span of the region to be searched    \n",
    "    xspan = x_start_stop[1] - x_start_stop[0]\n",
    "    yspan = y_start_stop[1] - y_start_stop[0]\n",
    "    # Compute the number of pixels per step in x/y\n",
    "    nx_pix_per_step = np.int(xy_window[0]*(1 - xy_overlap[0]))\n",
    "    ny_pix_per_step = np.int(xy_window[1]*(1 - xy_overlap[1]))\n",
    "    # Compute the number of windows in x/y\n",
    "    nx_buffer = np.int(xy_window[0]*(xy_overlap[0]))\n",
    "    ny_buffer = np.int(xy_window[1]*(xy_overlap[1]))\n",
    "    nx_windows = np.int((xspan-nx_buffer)/nx_pix_per_step) \n",
    "    ny_windows = np.int((yspan-ny_buffer)/ny_pix_per_step) \n",
    "    # Initialize a list to append window positions to\n",
    "    window_list = []\n",
    "    # Loop through finding x and y window positions\n",
    "    # Note: you could vectorize this step, but in practice\n",
    "    # you'll be considering windows one by one with your\n",
    "    # classifier, so looping makes sense\n",
    "    for ys in range(ny_windows):\n",
    "        for xs in range(nx_windows):\n",
    "            # Calculate window position\n",
    "            startx = xs*nx_pix_per_step + x_start_stop[0]\n",
    "            endx = startx + xy_window[0]\n",
    "            starty = ys*ny_pix_per_step + y_start_stop[0]\n",
    "            endy = starty + xy_window[1]\n",
    "            \n",
    "            # Append window position to list\n",
    "            window_list.append(((startx, starty), (endx, endy)))\n",
    "    # Return the list of windows\n",
    "    return window_list\n",
    "\n",
    "# Define a function to draw bounding boxes\n",
    "def draw_boxes(img, bboxes, color=(0, 0, 255), thick=6):\n",
    "    # Make a copy of the image\n",
    "    imcopy = np.copy(img)\n",
    "    # Iterate through the bounding boxes\n",
    "    for bbox in bboxes:\n",
    "        # Draw a rectangle given bbox coordinates\n",
    "        cv2.rectangle(imcopy, bbox[0], bbox[1], color, thick)\n",
    "    # Return the image copy with boxes drawn\n",
    "    return imcopy\n",
    "\n",
    "\n",
    "\n",
    "# Define a function to extract features from a single image window\n",
    "# This function is very similar to extract_features()\n",
    "# just for a single image rather than list of images\n",
    "def single_img_features(img, color_space='RGB', spatial_size=(32, 32),\n",
    "                        hist_bins=32, orient=9, \n",
    "                        pix_per_cell=8, cell_per_block=2, hog_channel=0,\n",
    "                        spatial_feat=True, hist_feat=True, hog_feat=True):    \n",
    "    #1) Define an empty list to receive features\n",
    "    img_features = []\n",
    "    #2) Apply color conversion if other than 'RGB'\n",
    "    if color_space != 'RGB':\n",
    "        if color_space == 'HSV':\n",
    "            feature_image = cv2.cvtColor(img, cv2.COLOR_RGB2HSV)\n",
    "        elif color_space == 'LUV':\n",
    "            feature_image = cv2.cvtColor(img, cv2.COLOR_RGB2LUV)\n",
    "        elif color_space == 'HLS':\n",
    "            feature_image = cv2.cvtColor(img, cv2.COLOR_RGB2HLS)\n",
    "        elif color_space == 'YUV':\n",
    "            feature_image = cv2.cvtColor(img, cv2.COLOR_RGB2YUV)\n",
    "        elif color_space == 'YCrCb':\n",
    "            feature_image = cv2.cvtColor(img, cv2.COLOR_RGB2YCrCb)\n",
    "    else: feature_image = np.copy(img)      \n",
    "    #3) Compute spatial features if flag is set\n",
    "    if spatial_feat == True:\n",
    "        spatial_features = bin_spatial(feature_image, size=spatial_size)\n",
    "        #4) Append features to list\n",
    "        img_features.append(spatial_features)\n",
    "    #5) Compute histogram features if flag is set\n",
    "    if hist_feat == True:\n",
    "        hist_features = color_hist(feature_image, nbins=hist_bins)\n",
    "        #6) Append features to list\n",
    "        img_features.append(hist_features)\n",
    "    #7) Compute HOG features if flag is set\n",
    "    if hog_feat == True:\n",
    "        if hog_channel == 'ALL':\n",
    "            hog_features = []\n",
    "            for channel in range(feature_image.shape[2]):\n",
    "                hog_features.extend(get_hog_features(feature_image[:,:,channel], \n",
    "                                    orient, pix_per_cell, cell_per_block, \n",
    "                                    vis=False, feature_vec=True))      \n",
    "        else:\n",
    "            hog_features = get_hog_features(feature_image[:,:,hog_channel], orient, \n",
    "                        pix_per_cell, cell_per_block, vis=False, feature_vec=True)\n",
    "        #8) Append features to list\n",
    "        img_features.append(hog_features)\n",
    "\n",
    "    #9) Return concatenated array of features\n",
    "    return np.concatenate(img_features)\n",
    "\n",
    "# Define a function you will pass an image \n",
    "# and the list of windows to be searched (output of slide_windows())\n",
    "def search_windows(img, windows, clf, scaler, color_space='RGB', \n",
    "                    spatial_size=(32, 32), hist_bins=32, \n",
    "                    hist_range=(0, 256), orient=9, \n",
    "                    pix_per_cell=8, cell_per_block=2, \n",
    "                    hog_channel=0, spatial_feat=True, \n",
    "                    hist_feat=True, hog_feat=True):\n",
    "\n",
    "    #1) Create an empty list to receive positive detection windows\n",
    "    on_windows = []\n",
    "    #2) Iterate over all windows in the list\n",
    "    for window in windows:\n",
    "        #3) Extract the test window from original image\n",
    "        test_img = cv2.resize(img[window[0][1]:window[1][1], window[0][0]:window[1][0]], (64, 64))      \n",
    "        #4) Extract features for that window using single_img_features()\n",
    "        features = single_img_features(test_img, color_space=color_space, \n",
    "                            spatial_size=spatial_size, hist_bins=hist_bins, \n",
    "                            orient=orient, pix_per_cell=pix_per_cell, \n",
    "                            cell_per_block=cell_per_block, \n",
    "                            hog_channel=hog_channel, spatial_feat=spatial_feat, \n",
    "                            hist_feat=hist_feat, hog_feat=hog_feat)\n",
    "        #5) Scale extracted features to be fed to classifier\n",
    "        test_features = scaler.transform(np.array(features).reshape(1, -1))\n",
    "        #6) Predict using your classifier\n",
    "        prediction = clf.predict(test_features)\n",
    "        #7) If positive (prediction == 1) then save the window\n",
    "        if prediction == 1:\n",
    "            on_windows.append(window)\n",
    "    #8) Return windows for positive detections\n",
    "    return on_windows\n"
   ]
  },
  {
   "cell_type": "code",
   "execution_count": 5,
   "metadata": {},
   "outputs": [
    {
     "name": "stdout",
     "output_type": "stream",
     "text": [
      "8792 8968\n"
     ]
    }
   ],
   "source": [
    "cars = []\n",
    "not_cars = []\n",
    "\n",
    "car_images = 'vehicles/vehicles/**/*.png'\n",
    "noncar_images = 'non-vehicles/non-vehicles/**/*.png'\n",
    "\n",
    "for file in iglob(car_images, recursive=True):\n",
    "    cars.append(file)\n",
    "\n",
    "for file in iglob(noncar_images, recursive=True):\n",
    "    not_cars.append(file)\n",
    "\n",
    "print(len(cars), len(not_cars))"
   ]
  },
  {
   "cell_type": "code",
   "execution_count": 6,
   "metadata": {
    "collapsed": true
   },
   "outputs": [],
   "source": [
    "color_space = 'YUV' # Can be RGB, HSV, LUV, HLS, YUV, YCrCb\n",
    "orient = 9  # HOG orientations\n",
    "pix_per_cell = 8 # HOG pixels per cell\n",
    "cell_per_block = 2 # HOG cells per block\n",
    "hog_channel = \"ALL\" # Can be 0, 1, 2, or \"ALL\"\n",
    "spatial_size = (16, 16) # Spatial binning dimensions\n",
    "hist_bins = 64    # Number of histogram bins\n",
    "spatial_feat = True # Spatial features on or off\n",
    "hist_feat = True # Histogram features on or off\n",
    "hog_feat = True # HOG features on or off\n",
    "y_start_stop = [400, 700] # Min and max in y to search in slide_window()"
   ]
  },
  {
   "cell_type": "code",
   "execution_count": 10,
   "metadata": {},
   "outputs": [
    {
     "name": "stderr",
     "output_type": "stream",
     "text": [
      "/home/prudhvi/anaconda3/lib/python3.6/site-packages/skimage/feature/_hog.py:119: skimage_deprecation: Default value of `block_norm`==`L1` is deprecated and will be changed to `L2-Hys` in v0.15\n",
      "  'be changed to `L2-Hys` in v0.15', skimage_deprecation)\n"
     ]
    },
    {
     "name": "stdout",
     "output_type": "stream",
     "text": [
      "Using: 9 orientations 8 pixels per cell and 2 cells per block\n",
      "Feature vector length: 6252\n",
      "10.73 Seconds to train SVC...\n",
      "Test Accuracy of SVC =  0.9921\n"
     ]
    }
   ],
   "source": [
    "# def train():\n",
    "car_features = extract_features(cars, color_space=color_space, \n",
    "                        spatial_size=spatial_size, hist_bins=hist_bins, \n",
    "                        orient=orient, pix_per_cell=pix_per_cell, \n",
    "                        cell_per_block=cell_per_block, \n",
    "                        hog_channel=hog_channel, spatial_feat=spatial_feat, \n",
    "                        hist_feat=hist_feat, hog_feat=hog_feat)\n",
    "notcar_features = extract_features(not_cars, color_space=color_space, \n",
    "                        spatial_size=spatial_size, hist_bins=hist_bins, \n",
    "                        orient=orient, pix_per_cell=pix_per_cell, \n",
    "                        cell_per_block=cell_per_block, \n",
    "                        hog_channel=hog_channel, spatial_feat=spatial_feat, \n",
    "                        hist_feat=hist_feat, hog_feat=hog_feat)\n",
    "\n",
    "X = np.vstack((car_features, notcar_features)).astype(np.float64)                        \n",
    "# Fit a per-column scaler\n",
    "X_scaler = StandardScaler().fit(X)\n",
    "# Apply the scaler to X\n",
    "scaled_X = X_scaler.transform(X)\n",
    "\n",
    "# Define the labels vector\n",
    "y = np.hstack((np.ones(len(car_features)), np.zeros(len(notcar_features))))\n",
    "\n",
    "# Split up data into randomized training and test sets\n",
    "rand_state = np.random.randint(0, 100)\n",
    "X_train, X_test, y_train, y_test = train_test_split(\n",
    "    scaled_X, y, test_size=0.2, random_state=rand_state)\n",
    "\n",
    "print('Using:',orient,'orientations',pix_per_cell,\n",
    "    'pixels per cell and', cell_per_block,'cells per block')\n",
    "print('Feature vector length:', len(X_train[0]))\n",
    "# Use a linear SVC \n",
    "svc = LinearSVC()\n",
    "# svc = SVC(kernel = 'rbf')\n",
    "# svc = DecisionTreeClassifier(min_samples_split = 10, min_samples_leaf = 5, max_features = 'auto')\n",
    "# Check the training time for the SVC\n",
    "t=time.time()\n",
    "svc.fit(X_train, y_train)\n",
    "t2 = time.time()\n",
    "print(round(t2-t, 2), 'Seconds to train SVC...')\n",
    "\n",
    "print('Test Accuracy of SVC = ', round(svc.score(X_test, y_test), 4))\n",
    "# Check the prediction time for a single sample\n",
    "t=time.time()\n"
   ]
  },
  {
   "cell_type": "code",
   "execution_count": 7,
   "metadata": {
    "collapsed": true
   },
   "outputs": [],
   "source": [
    "def add_heat(heatmap, bbox_list):\n",
    "    # Iterate through list of bboxes\n",
    "    for box in bbox_list:\n",
    "        # Add += 1 for all pixels inside each bbox\n",
    "        # Assuming each \"box\" takes the form ((x1, y1), (x2, y2))\n",
    "        heatmap[box[0][1]:box[1][1], box[0][0]:box[1][0]] += 1\n",
    "\n",
    "    # Return updated heatmap\n",
    "    return heatmap# Iterate through list of bboxes\n",
    "    \n",
    "def apply_threshold(heatmap, threshold):\n",
    "    # Zero out pixels below the threshold\n",
    "    heatmap[heatmap <= threshold] = 0\n",
    "    # Return thresholded map\n",
    "    return heatmap\n",
    "\n",
    "def area(bbox):\n",
    "    return abs((bbox[0][0] - bbox[1][0]) * (bbox[0][1] - bbox[1][1]))\n",
    "\n",
    "bboxes = []\n",
    "bboxes_list = []\n",
    "\n",
    "def draw_labeled_bboxes(img, labels):\n",
    "    maxArea = defaultdict(lambda: ((0,0),(0,0)))\n",
    "    \n",
    "    bbox_temp = []\n",
    "    # Iterate through all detected cars\n",
    "    for car_number in range(1, labels[1]+1):\n",
    "        # Find pixels with each car_number label value\n",
    "        nonzero = (labels[0] == car_number).nonzero()\n",
    "        # Identify x and y values of those pixels\n",
    "        nonzeroy = np.array(nonzero[0])\n",
    "        nonzerox = np.array(nonzero[1])\n",
    "        # Define a bounding box based on min/max x and y\n",
    "        bbox = ((np.min(nonzerox), np.min(nonzeroy)), (np.max(nonzerox), np.max(nonzeroy)))\n",
    "        # Draw the box on the image\n",
    "#         cv2.rectangle(img, bbox[0], bbox[1], (0,255,0), 8)\n",
    "        bbox_temp.append(bbox)\n",
    "    \n",
    "        for (ind,(box, count)) in enumerate(bboxes):\n",
    "            mid = [(box[0][0] + box[1][0])/2, (box[0][1] + box[1][1])/2]\n",
    "            bmid = [(bbox[0][0] + bbox[1][0])/2, (bbox[0][1] + bbox[1][1])/2]\n",
    "#             print(mid, bmid)\n",
    "            if abs(mid[0] - bmid[0]) + abs(mid[1] - bmid[1]) < 300:\n",
    "                if area(bbox) > area(maxArea[ind]):\n",
    "                    maxArea[ind] = bbox\n",
    "                bboxes[ind][1] += 1\n",
    "                break\n",
    "        else:\n",
    "            maxArea[len(bboxes)] = bbox    \n",
    "            bboxes.append([bbox,1])\n",
    "    \n",
    "    bboxes_list.append(bbox_temp)\n",
    "    \n",
    "    for (ind,(box, count)) in enumerate(bboxes):\n",
    "        if area(maxArea[ind]) is 0 and bboxes[ind][1] >= 2.0:\n",
    "            bboxes[ind][1] -= 2.\n",
    "    \n",
    "    print(bboxes)\n",
    "    for (ind, (bbox, count)) in enumerate(bboxes):\n",
    "        fbox = maxArea[ind] if area(maxArea[ind]) > area(bbox) else bbox\n",
    "        if (area(maxArea[ind]) > bboxes[ind][1]) or (area(maxArea[ind]) > 2500):\n",
    "            bboxes[ind][0] = maxArea[ind]\n",
    "#         area check for noise reduction if any\n",
    "        if (count >= 12) and (area(fbox) > 2000) and (fbox[0][0] >= 500):\n",
    "            cv2.rectangle(img, fbox[0], fbox[1], (255,0,0), 8)\n",
    "#         elif count > 0.3:\n",
    "#             bboxes[ind][1] = float(count) - 0.3\n",
    "    # Return the image\n",
    "    return img\n",
    "\n",
    "\n",
    "\n",
    "def draw(image):\n",
    "    image = np.array(image)\n",
    "    draw_image = np.copy(image)\n",
    "    \n",
    "    if not hasattr(draw, \"windows\"):\n",
    "        draw.windows = slide_window(image, x_start_stop=[None, None], y_start_stop=y_start_stop, \n",
    "                    xy_window=(64, 64), xy_overlap=(0.7, 0.7))\n",
    "        draw.windows += slide_window(image, x_start_stop=[None, None], y_start_stop=y_start_stop, \n",
    "                    xy_window=(32, 32), xy_overlap=(0.7, 0.7))\n",
    "    \n",
    "    hot_windows = search_windows(image, draw.windows, svc, X_scaler, color_space=color_space, \n",
    "                        spatial_size=spatial_size, hist_bins=hist_bins, \n",
    "                        orient=orient, pix_per_cell=pix_per_cell, \n",
    "                        cell_per_block=cell_per_block, \n",
    "                        hog_channel=hog_channel, spatial_feat=spatial_feat, \n",
    "                        hist_feat=hist_feat, hog_feat=hog_feat)                       \n",
    "    \n",
    "#     window_img = draw_boxes(draw_image, hot_windows, color=(0, 0, 255), thick=6)                    \n",
    "#     return window_img\n",
    "    \n",
    "    \n",
    "    heat = np.zeros_like(image[:,:,0]).astype(np.float)\n",
    "    # Add heat to each box in box list\n",
    "    heat = add_heat(heat, hot_windows)\n",
    "\n",
    "    # Apply threshold to help remove false positives\n",
    "    heat = apply_threshold(heat, 1)\n",
    "\n",
    "    # Visualize the heatmap when displaying    \n",
    "    heatmap = np.clip(heat, 0, 255)\n",
    "\n",
    "    # Find final boxes from heatmap using label function\n",
    "    labels = label(heatmap)\n",
    "    draw_img = draw_labeled_bboxes(np.copy(image), labels)\n",
    "    \n",
    "    return draw_img\n",
    "    \n",
    "from sklearn.externals import joblib\n",
    "def loadclf(path):\n",
    "    return joblib.load(path)\n",
    "\n",
    "def saveclf(clf, path):\n",
    "    joblib.dump(clf, path)\n",
    "    \n",
    "def savescaler(scaler,path):\n",
    "    joblib.dump(scaler, path)\n",
    "def loadscaler(path):\n",
    "    return joblib.load(path)"
   ]
  },
  {
   "cell_type": "code",
   "execution_count": null,
   "metadata": {
    "collapsed": true,
    "scrolled": true
   },
   "outputs": [],
   "source": [
    "for file in iglob('test_images/*.jpg'):\n",
    "    img = mpimg.imread(file)\n",
    "    img = np.array(img)\n",
    "    plt.figure()\n",
    "    plt.imshow(draw(img))"
   ]
  },
  {
   "cell_type": "code",
   "execution_count": 8,
   "metadata": {
    "scrolled": true
   },
   "outputs": [
    {
     "ename": "NameError",
     "evalue": "name 'svc' is not defined",
     "output_type": "error",
     "traceback": [
      "\u001b[0;31m---------------------------------------------------------------------------\u001b[0m",
      "\u001b[0;31mNameError\u001b[0m                                 Traceback (most recent call last)",
      "\u001b[0;32m<ipython-input-8-283d29e3bdab>\u001b[0m in \u001b[0;36m<module>\u001b[0;34m()\u001b[0m\n\u001b[1;32m     90\u001b[0m     \u001b[0mimg\u001b[0m \u001b[0;34m=\u001b[0m \u001b[0mnp\u001b[0m\u001b[0;34m.\u001b[0m\u001b[0marray\u001b[0m\u001b[0;34m(\u001b[0m\u001b[0mimg\u001b[0m\u001b[0;34m)\u001b[0m\u001b[0;34m\u001b[0m\u001b[0m\n\u001b[1;32m     91\u001b[0m     \u001b[0mplt\u001b[0m\u001b[0;34m.\u001b[0m\u001b[0mfigure\u001b[0m\u001b[0;34m(\u001b[0m\u001b[0;34m)\u001b[0m\u001b[0;34m\u001b[0m\u001b[0m\n\u001b[0;32m---> 92\u001b[0;31m     \u001b[0mout_img\u001b[0m \u001b[0;34m=\u001b[0m \u001b[0mfind_cars\u001b[0m\u001b[0;34m(\u001b[0m\u001b[0mimg\u001b[0m\u001b[0;34m,\u001b[0m \u001b[0my_start_stop\u001b[0m\u001b[0;34m[\u001b[0m\u001b[0;36m0\u001b[0m\u001b[0;34m]\u001b[0m\u001b[0;34m,\u001b[0m \u001b[0my_start_stop\u001b[0m\u001b[0;34m[\u001b[0m\u001b[0;36m1\u001b[0m\u001b[0;34m]\u001b[0m\u001b[0;34m,\u001b[0m \u001b[0mscale\u001b[0m\u001b[0;34m,\u001b[0m \u001b[0msvc\u001b[0m\u001b[0;34m,\u001b[0m \u001b[0mX_scaler\u001b[0m\u001b[0;34m,\u001b[0m \u001b[0morient\u001b[0m\u001b[0;34m,\u001b[0m \u001b[0mpix_per_cell\u001b[0m\u001b[0;34m,\u001b[0m \u001b[0mcell_per_block\u001b[0m\u001b[0;34m,\u001b[0m \u001b[0mspatial_size\u001b[0m\u001b[0;34m,\u001b[0m \u001b[0mhist_bins\u001b[0m\u001b[0;34m)\u001b[0m\u001b[0;34m\u001b[0m\u001b[0m\n\u001b[0m\u001b[1;32m     93\u001b[0m     \u001b[0mplt\u001b[0m\u001b[0;34m.\u001b[0m\u001b[0mimshow\u001b[0m\u001b[0;34m(\u001b[0m\u001b[0mout_img\u001b[0m\u001b[0;34m)\u001b[0m\u001b[0;34m\u001b[0m\u001b[0m\n",
      "\u001b[0;31mNameError\u001b[0m: name 'svc' is not defined"
     ]
    },
    {
     "data": {
      "text/plain": [
       "<matplotlib.figure.Figure at 0x7f087b755048>"
      ]
     },
     "metadata": {},
     "output_type": "display_data"
    }
   ],
   "source": [
    "def convert_color(img, conv='RGB2YCrCb'):\n",
    "    if conv == 'RGB2YCrCb':\n",
    "        return cv2.cvtColor(img, cv2.COLOR_RGB2YCrCb)\n",
    "    if conv == 'BGR2YCrCb':\n",
    "        return cv2.cvtColor(img, cv2.COLOR_BGR2YCrCb)\n",
    "    if conv == 'RGB2LUV':\n",
    "        return cv2.cvtColor(img, cv2.COLOR_RGB2LUV)\n",
    "    if conv == 'HLS':\n",
    "        return cv2.cvtColor(img, cv2.COLOR_RGB2HLS)\n",
    "    return img\n",
    "\n",
    "def find_cars(img, ystart, ystop, scale, svc, X_scaler, orient, pix_per_cell, cell_per_block, spatial_size, hist_bins):\n",
    "    \n",
    "    draw_img = np.copy(img)\n",
    "    img = img.astype(np.float32)/255\n",
    "    \n",
    "    img_tosearch = img[ystart:ystop,:,:]\n",
    "    ctrans_tosearch = convert_color(img_tosearch, conv='HLS')\n",
    "    if scale != 1:\n",
    "        imshape = ctrans_tosearch.shape\n",
    "        ctrans_tosearch = cv2.resize(ctrans_tosearch, (np.int(imshape[1]/scale), np.int(imshape[0]/scale)))\n",
    "        \n",
    "    ch1 = ctrans_tosearch[:,:,0]\n",
    "    ch2 = ctrans_tosearch[:,:,1]\n",
    "    ch3 = ctrans_tosearch[:,:,2]\n",
    "#     print(ch1,ch2,ch3)\n",
    "    # Define blocks and steps as above\n",
    "    nxblocks = (ch1.shape[1] // pix_per_cell) - cell_per_block + 1\n",
    "    nyblocks = (ch1.shape[0] // pix_per_cell) - cell_per_block + 1 \n",
    "    nfeat_per_block = orient*cell_per_block**2\n",
    "    \n",
    "    # 64 was the orginal sampling rate, with 8 cells and 8 pix per cell\n",
    "    window = 64\n",
    "    nblocks_per_window = (window // pix_per_cell) - cell_per_block + 1\n",
    "    cells_per_step = 2  # Instead of overlap, define how many cells to step\n",
    "    nxsteps = (nxblocks - nblocks_per_window) // cells_per_step\n",
    "    nysteps = (nyblocks - nblocks_per_window) // cells_per_step\n",
    "    \n",
    "    # Compute individual channel HOG features for the entire image\n",
    "    hog1 = get_hog_features(ch1, orient, pix_per_cell, cell_per_block, feature_vec=False)\n",
    "    hog2 = get_hog_features(ch2, orient, pix_per_cell, cell_per_block, feature_vec=False)\n",
    "    hog3 = get_hog_features(ch3, orient, pix_per_cell, cell_per_block, feature_vec=False)\n",
    "\n",
    "    for xb in range(nxsteps):\n",
    "        for yb in range(nysteps):\n",
    "            ypos = yb*cells_per_step\n",
    "            xpos = xb*cells_per_step\n",
    "#             Extract HOG for this patch\n",
    "            hog_feat1 = hog1[ypos:ypos+nblocks_per_window, xpos:xpos+nblocks_per_window].ravel() \n",
    "            hog_feat2 = hog2[ypos:ypos+nblocks_per_window, xpos:xpos+nblocks_per_window].ravel() \n",
    "            hog_feat3 = hog3[ypos:ypos+nblocks_per_window, xpos:xpos+nblocks_per_window].ravel() \n",
    "            hog_features = np.hstack((hog_feat1, hog_feat2, hog_feat3))\n",
    "#             hog_features = np.hstack((hog1, hog2, hog3))\n",
    "#             print(len(hog_features))\n",
    "            xleft = xpos*pix_per_cell\n",
    "            ytop = ypos*pix_per_cell\n",
    "\n",
    "            # Extract the image patch\n",
    "            subimg = cv2.resize(ctrans_tosearch[ytop:ytop+window, xleft:xleft+window], (64,64))\n",
    "          \n",
    "            # Get color features\n",
    "            if spatial_feat:\n",
    "                spatial_features = bin_spatial(subimg, size=spatial_size)\n",
    "            else:\n",
    "                spatial_features = []\n",
    "                \n",
    "            if hist_feat:\n",
    "                hist_features = color_hist(subimg, nbins=hist_bins)\n",
    "            else:\n",
    "                hist_features = []\n",
    "\n",
    "            # Scale features and make a prediction\n",
    "            test_features = X_scaler.transform(np.hstack((spatial_features, hist_features, hog_features)).reshape(1, -1))    \n",
    "#             test_features = X_scaler.transform(np.hstack((shape_feat, hist_feat)).reshape(1, -1))    \n",
    "            test_prediction = svc.predict(test_features)\n",
    "            \n",
    "            if test_prediction == 1:\n",
    "                xbox_left = np.int(xleft*scale)\n",
    "                ytop_draw = np.int(ytop*scale)\n",
    "                win_draw = np.int(window*scale)\n",
    "                cv2.rectangle(draw_img,(xbox_left, ytop_draw+ystart),(xbox_left+win_draw,ytop_draw+win_draw+ystart),(0,0,255),6) \n",
    "                \n",
    "    return draw_img\n",
    "\n",
    "scale = 1.0\n",
    "\n",
    "\n",
    "for file in iglob('test_images/*.jpg'):\n",
    "    img = mpimg.imread(file)\n",
    "    img = np.array(img)\n",
    "    plt.figure()\n",
    "    out_img = find_cars(img, y_start_stop[0], y_start_stop[1], scale, svc, X_scaler, orient, pix_per_cell, cell_per_block, spatial_size, hist_bins)\n",
    "    plt.imshow(out_img)\n"
   ]
  },
  {
   "cell_type": "code",
   "execution_count": 15,
   "metadata": {
    "collapsed": true
   },
   "outputs": [],
   "source": [
    "saveclf(svc, 'model.pkl')\n",
    "savescaler(X_scaler, \"scaler.pkl\")"
   ]
  },
  {
   "cell_type": "code",
   "execution_count": 9,
   "metadata": {
    "collapsed": true
   },
   "outputs": [],
   "source": [
    "svc = loadclf('model.pkl')\n",
    "X_scaler = loadscaler(\"scaler.pkl\")"
   ]
  },
  {
   "cell_type": "code",
   "execution_count": 48,
   "metadata": {
    "collapsed": true
   },
   "outputs": [],
   "source": [
    "import pickle\n",
    "# pickle.dump(bboxes_list,  open( \"boxes.p\", \"wb\" ))\n",
    "def non_max_suppression_fast(boxes, overlapThresh):\n",
    "   # if there are no boxes, return an empty list\n",
    "   if len(boxes) == 0:\n",
    "      return []\n",
    "\n",
    "   # if the bounding boxes integers, convert them to floats --\n",
    "   # this is important since we'll be doing a bunch of divisions\n",
    "   if boxes.dtype.kind == \"i\":\n",
    "      boxes = boxes.astype(\"float\")\n",
    "#  \n",
    "   # initialize the list of picked indexes   \n",
    "   pick = []\n",
    "\n",
    "   # grab the coordinates of the bounding boxes\n",
    "   x1 = boxes[:,0]\n",
    "   y1 = boxes[:,1]\n",
    "   x2 = boxes[:,2]\n",
    "   y2 = boxes[:,3]\n",
    "\n",
    "   # compute the area of the bounding boxes and sort the bounding\n",
    "   # boxes by the bottom-right y-coordinate of the bounding box\n",
    "   area = (x2 - x1 + 1) * (y2 - y1 + 1)\n",
    "   idxs = np.argsort(y2)\n",
    "\n",
    "   # keep looping while some indexes still remain in the indexes\n",
    "   # list\n",
    "   while len(idxs) > 0:\n",
    "      # grab the last index in the indexes list and add the\n",
    "      # index value to the list of picked indexes\n",
    "      last = len(idxs) - 1\n",
    "      i = idxs[last]\n",
    "      pick.append(i)\n",
    "\n",
    "      # find the largest (x, y) coordinates for the start of\n",
    "      # the bounding box and the smallest (x, y) coordinates\n",
    "      # for the end of the bounding box\n",
    "      xx1 = np.maximum(x1[i], x1[idxs[:last]])\n",
    "      yy1 = np.maximum(y1[i], y1[idxs[:last]])\n",
    "      xx2 = np.minimum(x2[i], x2[idxs[:last]])\n",
    "      yy2 = np.minimum(y2[i], y2[idxs[:last]])\n",
    "\n",
    "      # compute the width and height of the bounding box\n",
    "      w = np.maximum(0, xx2 - xx1 + 1)\n",
    "      h = np.maximum(0, yy2 - yy1 + 1)\n",
    "\n",
    "      # compute the ratio of overlap\n",
    "      overlap = (w * h) / area[idxs[:last]]\n",
    "\n",
    "      # delete all indexes from the index list that have\n",
    "      idxs = np.delete(idxs, np.concatenate(([last],\n",
    "         np.where(overlap > overlapThresh)[0])))\n",
    "\n",
    "   # return only the bounding boxes that were picked using the\n",
    "   # integer data type\n",
    "   return boxes[pick].astype(\"int\")"
   ]
  },
  {
   "cell_type": "code",
   "execution_count": 51,
   "metadata": {},
   "outputs": [],
   "source": [
    "list_boxes = pickle.load(open(\"boxes.p\", \"rb\"))\n",
    "index = 0\n",
    "bboxes = []\n",
    "\n",
    "def new_draw(img):\n",
    "    global index\n",
    "    maxArea = defaultdict(lambda: ((0,0),(0,0)))\n",
    "    # Iterate through all detected cars\n",
    "    for bbox in list_boxes[index]:\n",
    "\n",
    "        for (ind,(box, count)) in enumerate(bboxes):\n",
    "            mid = [(box[0][0] + box[1][0])/2, (box[0][1] + box[1][1])/2]\n",
    "            bmid = [(bbox[0][0] + bbox[1][0])/2, (bbox[0][1] + bbox[1][1])/2]\n",
    "#             print(mid, bmid)\n",
    "            if abs(mid[0] - bmid[0]) + abs(mid[1] - bmid[1]) < 150:\n",
    "                if area(bbox) > area(maxArea[ind]):\n",
    "                    maxArea[ind] = bbox\n",
    "                bboxes[ind][1] += 1\n",
    "                break\n",
    "        else:\n",
    "            maxArea[len(bboxes)] = bbox    \n",
    "            bboxes.append([bbox,1])\n",
    "\n",
    "    for (ind,(box, count)) in enumerate(bboxes):\n",
    "        if area(maxArea[ind]) is 0 and bboxes[ind][1] >= 2.0:\n",
    "            bboxes[ind][1] -= 2.\n",
    "\n",
    "    print(bboxes)\n",
    "    for (ind, (bbox, count)) in enumerate(bboxes):\n",
    "#         fbox = maxArea[ind] if area(maxArea[ind]) > area(bbox) else bbox\n",
    "        rects = np.array([[maxArea[ind][0][0], maxArea[ind][0][1], maxArea[ind][1][0], maxArea[ind][1][1]],\n",
    "                 [bbox[0][0], bbox[0][1], bbox[1][0], bbox[1][1]]], dtype=np.int32)\n",
    "        fboxes = non_max_suppression_fast(rects, 10000)\n",
    "        if len(fboxes) == 4:\n",
    "            fbox = [[fboxes[0][0], fboxes[0][1]], [fboxes[0][2], fboxes[0][3]]]\n",
    "        else:\n",
    "            fbox = bbox\n",
    "        if (area(maxArea[ind]) > bboxes[ind][1]) or (area(maxArea[ind]) > 3500):\n",
    "            bboxes[ind][0] = maxArea[ind]\n",
    "#         area check for noise reduction if any\n",
    "        if (count >= 25) and (area(fbox) > 2500) and (fbox[0][0] >= 600):\n",
    "            cv2.rectangle(img, fbox[0], fbox[1], (255,0,0), 8)\n",
    "    # Return the image\n",
    "    index += 1\n",
    "    return img"
   ]
  },
  {
   "cell_type": "code",
   "execution_count": 52,
   "metadata": {
    "scrolled": true
   },
   "outputs": [
    {
     "name": "stdout",
     "output_type": "stream",
     "text": [
      "[[((234, 418), (274, 449)), 1]]\n",
      "[MoviePy] >>>> Building video out.mp4\n",
      "[MoviePy] Writing video out.mp4\n"
     ]
    },
    {
     "name": "stderr",
     "output_type": "stream",
     "text": [
      "\n",
      "\n",
      "\n",
      "\r",
      "  0%|          | 0/1136 [00:00<?, ?it/s]"
     ]
    },
    {
     "name": "stdout",
     "output_type": "stream",
     "text": [
      "[[((234, 418), (274, 449)), 2]]\n",
      "[[((234, 418), (274, 449)), 3], [((36, 427), (58, 458)), 1]]\n"
     ]
    },
    {
     "name": "stderr",
     "output_type": "stream",
     "text": [
      "\u001b[A\u001b[A\u001b[A\n",
      "\n",
      "\n",
      "  0%|          | 2/1136 [00:02<19:28,  1.03s/it]\u001b[A\u001b[A\u001b[A"
     ]
    },
    {
     "name": "stdout",
     "output_type": "stream",
     "text": [
      "[[((225, 418), (256, 449)), 4], [((36, 427), (58, 458)), 2], [((1224, 463), (1255, 494)), 1]]\n",
      "[[((225, 418), (238, 449)), 2.0], [((9, 427), (40, 449)), 0.0], [((1224, 463), (1255, 494)), 1]]\n",
      "[[((225, 418), (238, 449)), 0.0], [((9, 427), (40, 449)), 0.0], [((1224, 463), (1255, 494)), 2]]\n",
      "[[((225, 418), (238, 449)), 2.0], [((9, 427), (40, 449)), 0.0], [((1215, 481), (1219, 503)), 0.0]]\n"
     ]
    },
    {
     "name": "stderr",
     "output_type": "stream",
     "text": [
      "\n",
      "\n",
      "\n",
      "  1%|          | 6/1136 [00:02<14:03,  1.34it/s]\u001b[A\u001b[A\u001b[A"
     ]
    },
    {
     "name": "stdout",
     "output_type": "stream",
     "text": [
      "[[((162, 418), (215, 458)), 3.0], [((9, 427), (40, 449)), 0.0], [((1215, 481), (1219, 503)), 0.0]]\n"
     ]
    },
    {
     "name": "stderr",
     "output_type": "stream",
     "text": [
      "\n",
      "\n",
      "\n",
      "  1%|          | 7/1136 [00:02<12:09,  1.55it/s]\u001b[A\u001b[A\u001b[A"
     ]
    },
    {
     "name": "stdout",
     "output_type": "stream",
     "text": [
      "[[((153, 418), (184, 449)), 4.0], [((9, 427), (40, 449)), 0.0], [((1215, 481), (1219, 503)), 0.0]]\n",
      "[[((133, 418), (193, 449)), 7.0], [((9, 427), (40, 449)), 0.0], [((1215, 481), (1219, 503)), 0.0]]\n"
     ]
    },
    {
     "name": "stderr",
     "output_type": "stream",
     "text": [
      "\n",
      "\n",
      "\n",
      "  1%|          | 9/1136 [00:04<13:21,  1.41it/s]\u001b[A\u001b[A\u001b[A"
     ]
    },
    {
     "name": "stdout",
     "output_type": "stream",
     "text": [
      "[[((108, 418), (139, 449)), 8.0], [((9, 427), (40, 449)), 0.0], [((1215, 481), (1219, 503)), 2.0]]\n"
     ]
    },
    {
     "name": "stderr",
     "output_type": "stream",
     "text": [
      "\n",
      "\n",
      "\n",
      "  1%|          | 10/1136 [00:05<12:47,  1.47it/s]\u001b[A\u001b[A\u001b[A"
     ]
    },
    {
     "name": "stdout",
     "output_type": "stream",
     "text": [
      "[[((99, 418), (148, 449)), 9.0], [((9, 427), (40, 449)), 0.0], [((1206, 472), (1237, 494)), 3.0]]\n"
     ]
    },
    {
     "name": "stderr",
     "output_type": "stream",
     "text": [
      "\n",
      "\n",
      "\n",
      "  1%|          | 11/1136 [00:07<21:05,  1.13s/it]\u001b[A\u001b[A\u001b[A"
     ]
    },
    {
     "name": "stdout",
     "output_type": "stream",
     "text": [
      "[[((99, 427), (130, 449)), 11.0], [((9, 427), (40, 449)), 0.0], [((1197, 472), (1228, 503)), 4.0]]\n",
      "[[((27, 400), (112, 463)), 12.0], [((9, 427), (40, 449)), 0.0], [((1197, 463), (1201, 494)), 2.0], [((190, 427), (247, 458)), 1]]\n"
     ]
    },
    {
     "name": "stderr",
     "output_type": "stream",
     "text": [
      "\n",
      "\n",
      "\n",
      "  1%|          | 13/1136 [00:11<26:09,  1.40s/it]\u001b[A\u001b[A\u001b[A"
     ]
    },
    {
     "name": "stdout",
     "output_type": "stream",
     "text": [
      "[[((18, 418), (76, 458)), 13.0], [((9, 427), (40, 449)), 0.0], [((1197, 463), (1201, 494)), 0.0], [((190, 427), (247, 458)), 3]]\n"
     ]
    },
    {
     "name": "stderr",
     "output_type": "stream",
     "text": [
      "\n",
      "\n",
      "\n",
      "  1%|          | 14/1136 [00:12<23:52,  1.28s/it]\u001b[A\u001b[A\u001b[A"
     ]
    },
    {
     "name": "stdout",
     "output_type": "stream",
     "text": [
      "[[((27, 418), (58, 449)), 14.0], [((9, 427), (40, 449)), 0.0], [((1197, 463), (1201, 494)), 3.0], [((198, 427), (229, 458)), 1.0]]\n"
     ]
    },
    {
     "name": "stderr",
     "output_type": "stream",
     "text": [
      "\n",
      "\n",
      "\n",
      "  1%|▏         | 15/1136 [00:13<24:58,  1.34s/it]\u001b[A\u001b[A\u001b[A"
     ]
    },
    {
     "name": "stdout",
     "output_type": "stream",
     "text": [
      "[[((144, 427), (202, 458)), 16.0], [((9, 427), (40, 449)), 0.0], [((1242, 438), (1273, 467)), 6.0], [((198, 427), (229, 458)), 1.0]]\n"
     ]
    },
    {
     "name": "stderr",
     "output_type": "stream",
     "text": [
      "\n",
      "\n",
      "\n",
      "  1%|▏         | 16/1136 [00:14<23:54,  1.28s/it]\u001b[A\u001b[A\u001b[A"
     ]
    },
    {
     "name": "stdout",
     "output_type": "stream",
     "text": [
      "[[((99, 436), (139, 467)), 17.0], [((9, 427), (40, 449)), 0.0], [((1161, 463), (1203, 494)), 8.0], [((198, 427), (229, 458)), 1.0]]\n"
     ]
    },
    {
     "name": "stderr",
     "output_type": "stream",
     "text": [
      "\n",
      "\n",
      "\n",
      "  1%|▏         | 17/1136 [00:15<18:27,  1.01it/s]\u001b[A\u001b[A\u001b[A"
     ]
    },
    {
     "name": "stdout",
     "output_type": "stream",
     "text": [
      "[[((57, 419), (120, 482)), 19.0], [((9, 427), (40, 449)), 0.0], [((1242, 436), (1264, 467)), 6.0], [((198, 427), (229, 458)), 1.0]]\n"
     ]
    },
    {
     "name": "stderr",
     "output_type": "stream",
     "text": [
      "\n",
      "\n",
      "\n",
      "  2%|▏         | 18/1136 [00:15<14:36,  1.28it/s]\u001b[A\u001b[A\u001b[A"
     ]
    },
    {
     "name": "stdout",
     "output_type": "stream",
     "text": [
      "[[((81, 427), (112, 467)), 20.0], [((9, 427), (40, 449)), 0.0], [((1242, 436), (1264, 467)), 7.0], [((198, 427), (229, 458)), 1.0]]\n"
     ]
    },
    {
     "name": "stderr",
     "output_type": "stream",
     "text": [
      "\n",
      "\n",
      "\n",
      "  2%|▏         | 19/1136 [00:16<13:09,  1.41it/s]\u001b[A\u001b[A\u001b[A"
     ]
    },
    {
     "name": "stdout",
     "output_type": "stream",
     "text": [
      "[[((27, 427), (67, 458)), 18.0], [((9, 427), (40, 449)), 0.0], [((1179, 472), (1210, 494)), 10.0], [((198, 427), (229, 458)), 1.0]]\n"
     ]
    },
    {
     "name": "stderr",
     "output_type": "stream",
     "text": [
      "\n",
      "\n",
      "\n",
      "  2%|▏         | 20/1136 [00:17<16:06,  1.16it/s]\u001b[A\u001b[A\u001b[A\n",
      "\n",
      "\n",
      "  2%|▏         | 24/1136 [00:17<11:25,  1.62it/s]\u001b[A\u001b[A\u001b[A"
     ]
    },
    {
     "name": "stdout",
     "output_type": "stream",
     "text": [
      "[[((27, 427), (67, 458)), 16.0], [((9, 427), (40, 449)), 0.0], [((1215, 436), (1264, 503)), 12.0], [((198, 427), (229, 458)), 1.0]]\n",
      "[[((27, 427), (67, 458)), 14.0], [((9, 427), (40, 449)), 0.0], [((1224, 436), (1255, 467)), 13.0], [((198, 427), (229, 458)), 1.0]]\n",
      "[[((27, 427), (67, 458)), 12.0], [((9, 427), (40, 449)), 0.0], [((1143, 463), (1184, 494)), 17.0], [((198, 427), (229, 458)), 1.0]]\n",
      "[[((27, 427), (67, 458)), 10.0], [((9, 427), (40, 449)), 0.0], [((1215, 436), (1228, 467)), 19.0], [((198, 427), (229, 458)), 1.0]]\n",
      "[[((27, 427), (67, 458)), 8.0], [((9, 427), (40, 449)), 0.0], [((1215, 436), (1246, 467)), 20.0], [((198, 427), (229, 458)), 1.0]]\n",
      "[[((27, 427), (67, 458)), 6.0], [((9, 427), (40, 449)), 0.0], [((1170, 463), (1192, 494)), 22.0], [((198, 427), (229, 458)), 1.0]]\n"
     ]
    },
    {
     "name": "stderr",
     "output_type": "stream",
     "text": [
      "\n",
      "\n",
      "\n",
      "  2%|▏         | 26/1136 [00:19<14:25,  1.28it/s]\u001b[A\u001b[A\u001b[A"
     ]
    },
    {
     "name": "stdout",
     "output_type": "stream",
     "text": [
      "[[((27, 427), (67, 458)), 4.0], [((9, 427), (40, 449)), 0.0], [((1216, 445), (1246, 463)), 24.0], [((198, 427), (229, 458)), 1.0]]\n",
      "[[((27, 427), (67, 458)), 2.0], [((9, 427), (40, 449)), 0.0], [((1206, 445), (1237, 467)), 25.0], [((198, 427), (229, 458)), 1.0]]\n"
     ]
    },
    {
     "name": "stderr",
     "output_type": "stream",
     "text": [
      "\n",
      "\n",
      "\n",
      "  2%|▏         | 28/1136 [00:23<19:06,  1.03s/it]\u001b[A\u001b[A\u001b[A"
     ]
    },
    {
     "name": "stdout",
     "output_type": "stream",
     "text": [
      "[[((27, 427), (67, 458)), 0.0], [((9, 427), (40, 449)), 0.0], [((1161, 472), (1165, 494)), 26.0], [((198, 427), (229, 458)), 1.0], [((551, 490), (571, 520)), 1], [((711, 499), (742, 521)), 1]]\n",
      "[[((27, 427), (67, 458)), 0.0], [((9, 427), (40, 449)), 0.0], [((1152, 463), (1165, 476)), 28.0], [((198, 427), (229, 458)), 1.0], [((551, 490), (571, 520)), 1], [((711, 499), (742, 521)), 1]]\n",
      "[[((27, 427), (67, 458)), 0.0], [((9, 427), (40, 449)), 0.0], [((1197, 436), (1273, 520)), 30.0], [((198, 427), (229, 458)), 1.0], [((551, 490), (571, 520)), 1], [((711, 499), (742, 521)), 1]]\n",
      "[[((27, 427), (67, 458)), 0.0], [((9, 427), (40, 449)), 0.0], [((1197, 409), (1279, 521)), 32.0], [((198, 427), (229, 458)), 1.0], [((551, 490), (571, 520)), 1], [((711, 499), (742, 521)), 1]]\n"
     ]
    },
    {
     "name": "stderr",
     "output_type": "stream",
     "text": [
      "\n",
      "\n",
      "\n",
      "  3%|▎         | 32/1136 [00:23<13:37,  1.35it/s]\u001b[A\u001b[A\u001b[A"
     ]
    },
    {
     "name": "stdout",
     "output_type": "stream",
     "text": [
      "[[((27, 427), (67, 458)), 0.0], [((9, 427), (40, 449)), 0.0], [((1216, 409), (1279, 482)), 34.0], [((198, 427), (229, 458)), 1.0], [((551, 490), (571, 520)), 1], [((711, 499), (742, 521)), 1]]\n",
      "[[((27, 427), (67, 458)), 0.0], [((9, 427), (40, 449)), 0.0], [((1197, 400), (1279, 501)), 36.0], [((198, 427), (229, 458)), 1.0], [((551, 490), (571, 520)), 1], [((711, 499), (742, 521)), 1]]\n",
      "[[((27, 427), (67, 458)), 0.0], [((9, 427), (40, 449)), 0.0], [((1188, 400), (1279, 520)), 37.0], [((198, 427), (229, 458)), 1.0], [((551, 490), (571, 520)), 1], [((711, 499), (742, 521)), 1]]\n"
     ]
    },
    {
     "name": "stderr",
     "output_type": "stream",
     "text": [
      "\n",
      "\n",
      "\n",
      "  3%|▎         | 35/1136 [00:27<17:00,  1.08it/s]\u001b[A\u001b[A\u001b[A"
     ]
    },
    {
     "name": "stdout",
     "output_type": "stream",
     "text": [
      "[[((27, 427), (67, 458)), 0.0], [((9, 427), (40, 449)), 0.0], [((1224, 400), (1273, 458)), 38.0], [((198, 427), (229, 458)), 1.0], [((551, 490), (571, 520)), 1], [((711, 499), (742, 521)), 2]]\n"
     ]
    },
    {
     "name": "stderr",
     "output_type": "stream",
     "text": [
      "\n",
      "\n",
      "\n",
      "  3%|▎         | 36/1136 [00:32<39:29,  2.15s/it]\u001b[A\u001b[A\u001b[A"
     ]
    },
    {
     "name": "stdout",
     "output_type": "stream",
     "text": [
      "[[((27, 427), (67, 458)), 0.0], [((9, 427), (40, 449)), 0.0], [((1197, 409), (1273, 521)), 40.0], [((198, 427), (229, 458)), 1.0], [((551, 490), (571, 520)), 1], [((666, 598), (697, 629)), 3]]\n"
     ]
    },
    {
     "name": "stderr",
     "output_type": "stream",
     "text": [
      "\n",
      "\n",
      "\n",
      "  3%|▎         | 37/1136 [00:33<33:59,  1.86s/it]\u001b[A\u001b[A\u001b[A"
     ]
    },
    {
     "name": "stdout",
     "output_type": "stream",
     "text": [
      "[[((27, 427), (67, 458)), 0.0], [((9, 427), (40, 449)), 0.0], [((1178, 400), (1264, 521)), 42.0], [((198, 427), (229, 458)), 1.0], [((551, 490), (571, 520)), 1], [((693, 508), (724, 530)), 4]]\n"
     ]
    },
    {
     "name": "stderr",
     "output_type": "stream",
     "text": [
      "\n",
      "\n",
      "\n",
      "  3%|▎         | 38/1136 [00:36<37:08,  2.03s/it]\u001b[A\u001b[A\u001b[A"
     ]
    },
    {
     "name": "stdout",
     "output_type": "stream",
     "text": [
      "[[((27, 427), (67, 458)), 0.0], [((9, 427), (40, 449)), 0.0], [((1179, 400), (1264, 482)), 44.0], [((198, 427), (229, 458)), 1.0], [((551, 490), (571, 520)), 1], [((657, 598), (688, 629)), 2.0]]\n"
     ]
    },
    {
     "name": "stderr",
     "output_type": "stream",
     "text": [
      "\n",
      "\n",
      "\n",
      "  3%|▎         | 39/1136 [00:47<1:27:40,  4.80s/it]\u001b[A\u001b[A\u001b[A"
     ]
    },
    {
     "name": "stdout",
     "output_type": "stream",
     "text": [
      "[[((27, 427), (67, 458)), 0.0], [((9, 427), (40, 449)), 0.0], [((1178, 400), (1260, 467)), 46.0], [((198, 427), (229, 458)), 1.0], [((551, 490), (571, 520)), 1], [((657, 598), (688, 629)), 0.0]]\n"
     ]
    },
    {
     "name": "stderr",
     "output_type": "stream",
     "text": [
      "\n",
      "\n",
      "\n",
      "  4%|▎         | 40/1136 [00:50<1:19:26,  4.35s/it]\u001b[A\u001b[A\u001b[A"
     ]
    },
    {
     "name": "stdout",
     "output_type": "stream",
     "text": [
      "[[((27, 427), (67, 458)), 0.0], [((9, 427), (40, 449)), 0.0], [((1178, 409), (1255, 467)), 49.0], [((198, 427), (229, 458)), 1.0], [((551, 490), (571, 520)), 1], [((657, 598), (688, 629)), 0.0]]\n"
     ]
    },
    {
     "name": "stderr",
     "output_type": "stream",
     "text": [
      "\n",
      "\n",
      "\n",
      "  4%|▎         | 41/1136 [01:01<1:55:17,  6.32s/it]\u001b[A\u001b[A\u001b[A"
     ]
    },
    {
     "name": "stdout",
     "output_type": "stream",
     "text": [
      "[[((27, 427), (67, 458)), 0.0], [((9, 427), (40, 449)), 0.0], [((1178, 400), (1255, 467)), 52.0], [((198, 427), (229, 458)), 1.0], [((551, 490), (571, 520)), 1], [((657, 598), (688, 629)), 0.0]]\n"
     ]
    },
    {
     "name": "stderr",
     "output_type": "stream",
     "text": [
      "\n",
      "\n",
      "\n",
      "  4%|▎         | 42/1136 [01:03<1:33:25,  5.12s/it]\u001b[A\u001b[A\u001b[A"
     ]
    },
    {
     "name": "stdout",
     "output_type": "stream",
     "text": [
      "[[((27, 427), (67, 458)), 0.0], [((9, 427), (40, 449)), 0.0], [((1197, 409), (1255, 463)), 53.0], [((198, 427), (229, 458)), 1.0], [((551, 490), (571, 520)), 1], [((657, 598), (688, 629)), 0.0]]\n"
     ]
    },
    {
     "name": "stderr",
     "output_type": "stream",
     "text": [
      "\n",
      "\n",
      "\n",
      "  4%|▍         | 43/1136 [01:06<1:19:01,  4.34s/it]\u001b[A\u001b[A\u001b[A"
     ]
    },
    {
     "name": "stdout",
     "output_type": "stream",
     "text": [
      "[[((27, 427), (67, 458)), 0.0], [((9, 427), (40, 449)), 0.0], [((1161, 400), (1246, 521)), 59.0], [((198, 427), (229, 458)), 1.0], [((551, 490), (571, 520)), 1], [((657, 598), (688, 629)), 0.0]]\n"
     ]
    },
    {
     "name": "stderr",
     "output_type": "stream",
     "text": [
      "\n",
      "\n",
      "\n",
      "  4%|▍         | 44/1136 [01:09<1:13:49,  4.06s/it]\u001b[A\u001b[A\u001b[A"
     ]
    },
    {
     "name": "stdout",
     "output_type": "stream",
     "text": [
      "[[((27, 427), (67, 458)), 0.0], [((9, 427), (40, 449)), 0.0], [((1197, 400), (1246, 458)), 62.0], [((198, 427), (229, 458)), 1.0], [((551, 490), (571, 520)), 1], [((657, 598), (688, 629)), 0.0]]\n"
     ]
    },
    {
     "name": "stderr",
     "output_type": "stream",
     "text": [
      "\n",
      "\n",
      "\n",
      "  4%|▍         | 45/1136 [01:10<58:22,  3.21s/it]  \u001b[A\u001b[A\u001b[A"
     ]
    },
    {
     "name": "stdout",
     "output_type": "stream",
     "text": [
      "[[((27, 427), (67, 458)), 0.0], [((9, 427), (40, 449)), 0.0], [((1161, 400), (1241, 467)), 65.0], [((198, 427), (229, 458)), 1.0], [((551, 490), (571, 520)), 1], [((657, 598), (688, 629)), 0.0]]\n"
     ]
    },
    {
     "name": "stderr",
     "output_type": "stream",
     "text": [
      "\n",
      "\n",
      "\n",
      "  4%|▍         | 46/1136 [01:12<46:41,  2.57s/it]\u001b[A\u001b[A\u001b[A"
     ]
    },
    {
     "name": "stdout",
     "output_type": "stream",
     "text": [
      "[[((27, 427), (67, 458)), 1.0], [((9, 427), (40, 449)), 0.0], [((1188, 400), (1241, 463)), 67.0], [((198, 427), (229, 458)), 1.0], [((551, 490), (571, 520)), 1], [((657, 598), (688, 629)), 0.0], [((1107, 481), (1120, 485)), 1]]\n"
     ]
    },
    {
     "name": "stderr",
     "output_type": "stream",
     "text": [
      "\n",
      "\n",
      "\n",
      "  4%|▍         | 47/1136 [01:14<47:14,  2.60s/it]\u001b[A\u001b[A\u001b[A"
     ]
    },
    {
     "name": "stdout",
     "output_type": "stream",
     "text": [
      "[[((36, 562), (58, 593)), 1.0], [((9, 427), (40, 449)), 0.0], [((1152, 427), (1241, 494)), 70.0], [((198, 427), (229, 458)), 1.0], [((551, 490), (571, 520)), 1], [((657, 598), (688, 629)), 0.0], [((1107, 481), (1120, 485)), 1]]\n"
     ]
    },
    {
     "name": "stderr",
     "output_type": "stream",
     "text": [
      "\n",
      "\n",
      "\n",
      "  4%|▍         | 48/1136 [01:18<55:25,  3.06s/it]\u001b[A\u001b[A\u001b[A"
     ]
    },
    {
     "name": "stdout",
     "output_type": "stream",
     "text": [
      "[[((36, 562), (58, 593)), 1.0], [((9, 427), (40, 449)), 0.0], [((1159, 427), (1241, 512)), 72.0], [((198, 427), (229, 458)), 1.0], [((551, 490), (571, 520)), 1], [((657, 598), (688, 629)), 0.0], [((1107, 481), (1120, 485)), 1]]\n",
      "[[((36, 562), (58, 593)), 1.0], [((9, 427), (40, 449)), 0.0], [((1159, 409), (1241, 521)), 74.0], [((198, 427), (229, 458)), 1.0], [((551, 490), (571, 520)), 1], [((657, 598), (688, 629)), 0.0], [((1107, 481), (1120, 485)), 1]]\n"
     ]
    },
    {
     "name": "stderr",
     "output_type": "stream",
     "text": [
      "\n",
      "\n",
      "\n",
      "  4%|▍         | 50/1136 [01:20<44:28,  2.46s/it]\u001b[A\u001b[A\u001b[A"
     ]
    },
    {
     "name": "stdout",
     "output_type": "stream",
     "text": [
      "[[((36, 562), (58, 593)), 1.0], [((9, 427), (40, 449)), 0.0], [((1143, 409), (1246, 520)), 75.0], [((198, 427), (229, 458)), 1.0], [((551, 490), (571, 520)), 1], [((657, 598), (688, 629)), 0.0], [((1107, 481), (1120, 485)), 1]]\n"
     ]
    },
    {
     "name": "stderr",
     "output_type": "stream",
     "text": [
      "\n",
      "\n",
      "\n",
      "  4%|▍         | 51/1136 [01:21<36:34,  2.02s/it]\u001b[A\u001b[A\u001b[A"
     ]
    },
    {
     "name": "stdout",
     "output_type": "stream",
     "text": [
      "[[((36, 562), (58, 593)), 1.0], [((9, 427), (40, 449)), 0.0], [((1159, 400), (1246, 520)), 76.0], [((198, 427), (229, 458)), 1.0], [((551, 490), (571, 520)), 1], [((657, 598), (688, 629)), 0.0], [((1107, 481), (1120, 485)), 1]]\n"
     ]
    },
    {
     "name": "stderr",
     "output_type": "stream",
     "text": [
      "\n",
      "\n",
      "\n",
      "  5%|▍         | 52/1136 [01:22<27:03,  1.50s/it]\u001b[A\u001b[A\u001b[A"
     ]
    },
    {
     "name": "stdout",
     "output_type": "stream",
     "text": [
      "[[((36, 562), (58, 593)), 1.0], [((9, 427), (40, 449)), 0.0], [((1098, 409), (1237, 520)), 77.0], [((198, 427), (229, 458)), 1.0], [((551, 490), (571, 520)), 1], [((657, 598), (688, 629)), 0.0], [((1107, 481), (1120, 485)), 1]]\n"
     ]
    },
    {
     "name": "stderr",
     "output_type": "stream",
     "text": [
      "\n",
      "\n",
      "\n",
      "  5%|▍         | 53/1136 [01:24<31:33,  1.75s/it]\u001b[A\u001b[A\u001b[A"
     ]
    },
    {
     "name": "stdout",
     "output_type": "stream",
     "text": [
      "[[((36, 562), (58, 593)), 1.0], [((9, 427), (40, 449)), 0.0], [((1121, 400), (1237, 520)), 78.0], [((198, 427), (229, 458)), 1.0], [((551, 490), (571, 520)), 1], [((657, 598), (688, 629)), 0.0], [((1107, 481), (1120, 485)), 1]]\n"
     ]
    },
    {
     "name": "stderr",
     "output_type": "stream",
     "text": [
      "\n",
      "\n",
      "\n",
      "  5%|▍         | 54/1136 [01:25<27:00,  1.50s/it]\u001b[A\u001b[A\u001b[A"
     ]
    },
    {
     "name": "stdout",
     "output_type": "stream",
     "text": [
      "[[((36, 562), (58, 593)), 1.0], [((9, 427), (40, 449)), 0.0], [((1098, 400), (1237, 520)), 81.0], [((198, 427), (229, 458)), 1.0], [((551, 490), (571, 520)), 1], [((657, 598), (688, 629)), 0.0], [((1107, 481), (1120, 485)), 1]]\n"
     ]
    },
    {
     "name": "stderr",
     "output_type": "stream",
     "text": [
      "\n",
      "\n",
      "\n",
      "  5%|▍         | 55/1136 [01:27<30:31,  1.69s/it]\u001b[A\u001b[A\u001b[A"
     ]
    },
    {
     "name": "stdout",
     "output_type": "stream",
     "text": [
      "[[((36, 562), (58, 593)), 1.0], [((9, 427), (40, 449)), 0.0], [((1121, 400), (1203, 520)), 82.0], [((198, 427), (229, 458)), 1.0], [((551, 490), (571, 520)), 1], [((657, 598), (688, 629)), 0.0], [((1107, 481), (1120, 485)), 1]]\n",
      "[[((36, 562), (58, 593)), 1.0], [((9, 427), (40, 449)), 0.0], [((1121, 409), (1222, 494)), 83.0], [((198, 427), (229, 458)), 1.0], [((551, 490), (571, 520)), 1], [((657, 598), (688, 629)), 0.0], [((1107, 481), (1120, 485)), 1]]\n"
     ]
    },
    {
     "name": "stderr",
     "output_type": "stream",
     "text": [
      "\n",
      "\n",
      "\n",
      "  5%|▌         | 57/1136 [01:30<29:52,  1.66s/it]\u001b[A\u001b[A\u001b[A"
     ]
    },
    {
     "name": "stdout",
     "output_type": "stream",
     "text": [
      "[[((36, 562), (58, 593)), 1.0], [((9, 427), (40, 449)), 0.0], [((1116, 400), (1222, 512)), 85.0], [((198, 427), (229, 458)), 1.0], [((551, 490), (571, 520)), 1], [((657, 598), (688, 629)), 0.0], [((1107, 481), (1120, 485)), 1]]\n"
     ]
    },
    {
     "name": "stderr",
     "output_type": "stream",
     "text": [
      "\n",
      "\n",
      "\n",
      "  5%|▌         | 58/1136 [01:34<40:05,  2.23s/it]\u001b[A\u001b[A\u001b[A"
     ]
    },
    {
     "name": "stdout",
     "output_type": "stream",
     "text": [
      "[[((36, 562), (58, 593)), 1.0], [((9, 427), (40, 449)), 0.0], [((1140, 409), (1222, 494)), 88.0], [((198, 427), (229, 458)), 1.0], [((551, 490), (571, 520)), 1], [((657, 598), (688, 629)), 0.0], [((1107, 481), (1120, 485)), 1], [((810, 553), (841, 575)), 1]]\n"
     ]
    },
    {
     "name": "stderr",
     "output_type": "stream",
     "text": [
      "\n",
      "\n",
      "\n",
      "  5%|▌         | 59/1136 [01:37<47:00,  2.62s/it]\u001b[A\u001b[A\u001b[A\n",
      "\n",
      "\n",
      "  5%|▌         | 61/1136 [01:37<33:08,  1.85s/it]\u001b[A\u001b[A\u001b[A"
     ]
    },
    {
     "name": "stdout",
     "output_type": "stream",
     "text": [
      "[[((36, 562), (58, 593)), 1.0], [((9, 427), (40, 449)), 0.0], [((1140, 400), (1228, 512)), 90.0], [((198, 427), (229, 458)), 1.0], [((551, 490), (571, 520)), 1], [((657, 598), (688, 629)), 0.0], [((1107, 481), (1120, 485)), 1], [((810, 553), (841, 575)), 2]]\n",
      "[[((36, 562), (58, 593)), 1.0], [((9, 427), (40, 449)), 0.0], [((1140, 400), (1222, 512)), 92.0], [((198, 427), (229, 458)), 1.0], [((551, 490), (571, 520)), 1], [((657, 598), (688, 629)), 0.0], [((1107, 481), (1120, 485)), 1], [((810, 571), (841, 584)), 3], [((936, 616), (940, 629)), 1]]\n",
      "[[((36, 562), (58, 593)), 1.0], [((9, 427), (40, 449)), 0.0], [((1125, 400), (1210, 467)), 97.0], [((198, 427), (229, 458)), 1.0], [((551, 490), (571, 520)), 1], [((657, 598), (688, 629)), 0.0], [((1107, 481), (1120, 485)), 1], [((738, 499), (769, 530)), 1.0], [((936, 616), (940, 629)), 1]]\n"
     ]
    },
    {
     "name": "stderr",
     "output_type": "stream",
     "text": [
      "\n",
      "\n",
      "\n",
      "  5%|▌         | 62/1136 [01:38<26:01,  1.45s/it]\u001b[A\u001b[A\u001b[A"
     ]
    },
    {
     "name": "stdout",
     "output_type": "stream",
     "text": [
      "[[((36, 562), (58, 593)), 1.0], [((9, 427), (40, 449)), 0.0], [((1161, 400), (1210, 458)), 101.0], [((198, 427), (229, 458)), 1.0], [((551, 490), (571, 520)), 1], [((657, 598), (688, 629)), 0.0], [((1107, 481), (1120, 485)), 1], [((738, 499), (769, 530)), 1.0], [((936, 616), (940, 629)), 1]]\n",
      "[[((36, 562), (58, 593)), 1.0], [((9, 427), (40, 449)), 0.0], [((1140, 463), (1219, 512)), 106.0], [((198, 427), (229, 458)), 1.0], [((551, 490), (571, 520)), 1], [((657, 598), (688, 629)), 0.0], [((1107, 481), (1120, 485)), 1], [((738, 499), (769, 530)), 1.0], [((936, 616), (940, 629)), 1]]\n",
      "[[((36, 562), (58, 593)), 1.0], [((9, 427), (40, 449)), 0.0], [((1188, 463), (1255, 530)), 108.0], [((198, 427), (229, 458)), 1.0], [((551, 490), (571, 520)), 1], [((657, 598), (688, 629)), 0.0], [((1107, 481), (1120, 485)), 2], [((738, 499), (769, 530)), 1.0], [((936, 616), (940, 629)), 1]]\n",
      "[[((36, 562), (58, 593)), 1.0], [((9, 427), (40, 449)), 0.0], [((1116, 400), (1203, 521)), 110.0], [((198, 427), (229, 458)), 1.0], [((551, 490), (571, 520)), 2], [((657, 598), (688, 629)), 0.0], [((1080, 463), (1084, 485)), 0.0], [((738, 499), (769, 530)), 1.0], [((936, 616), (940, 629)), 1]]\n",
      "[[((36, 562), (58, 593)), 1.0], [((9, 427), (40, 449)), 0.0], [((1116, 400), (1203, 520)), 112.0], [((198, 427), (229, 458)), 1.0], [((567, 457), (598, 485)), 0.0], [((657, 598), (688, 629)), 0.0], [((1080, 463), (1084, 485)), 0.0], [((738, 499), (769, 530)), 1.0], [((936, 616), (940, 629)), 1]]\n"
     ]
    },
    {
     "name": "stderr",
     "output_type": "stream",
     "text": [
      "\n",
      "\n",
      "\n",
      "  6%|▌         | 67/1136 [01:39<18:48,  1.06s/it]\u001b[A\u001b[A\u001b[A"
     ]
    },
    {
     "name": "stdout",
     "output_type": "stream",
     "text": [
      "[[((36, 562), (58, 593)), 1.0], [((9, 427), (40, 449)), 0.0], [((1116, 409), (1203, 520)), 114.0], [((198, 427), (229, 458)), 1.0], [((567, 457), (598, 485)), 0.0], [((657, 598), (688, 629)), 0.0], [((1080, 463), (1084, 485)), 0.0], [((738, 499), (769, 530)), 1.0], [((936, 616), (940, 629)), 1]]\n",
      "[[((36, 562), (58, 593)), 1.0], [((9, 427), (40, 449)), 0.0], [((1121, 400), (1210, 512)), 116.0], [((198, 427), (229, 458)), 1.0], [((567, 457), (598, 485)), 0.0], [((657, 598), (688, 629)), 0.0], [((1080, 463), (1084, 485)), 0.0], [((738, 499), (769, 530)), 1.0], [((936, 616), (940, 629)), 1]]\n",
      "[[((36, 562), (58, 593)), 1.0], [((9, 427), (40, 449)), 0.0], [((1102, 400), (1203, 512)), 119.0], [((198, 427), (229, 458)), 1.0], [((567, 457), (598, 485)), 1.0], [((657, 598), (688, 629)), 0.0], [((1080, 463), (1084, 485)), 0.0], [((738, 499), (769, 530)), 1.0], [((936, 616), (940, 629)), 1]]\n"
     ]
    },
    {
     "name": "stderr",
     "output_type": "stream",
     "text": [
      "\n",
      "\n",
      "\n",
      "  6%|▋         | 71/1136 [01:39<13:49,  1.28it/s]\u001b[A\u001b[A\u001b[A\n",
      "\n",
      "\n",
      "  7%|▋         | 77/1136 [01:39<09:43,  1.82it/s]"
     ]
    },
    {
     "name": "stdout",
     "output_type": "stream",
     "text": [
      "[[((36, 562), (58, 593)), 1.0], [((9, 427), (40, 449)), 0.0], [((1140, 400), (1201, 463)), 122.0], [((198, 427), (229, 458)), 1.0], [((551, 457), (614, 520)), 1.0], [((657, 598), (688, 629)), 0.0], [((1080, 463), (1084, 485)), 0.0], [((738, 499), (769, 530)), 1.0], [((936, 616), (940, 629)), 1]]\n",
      "[[((36, 562), (58, 593)), 1.0], [((9, 427), (40, 449)), 0.0], [((1116, 400), (1203, 494)), 124.0], [((198, 427), (229, 458)), 1.0], [((551, 457), (614, 520)), 2.0], [((657, 598), (688, 629)), 0.0], [((1080, 463), (1084, 485)), 0.0], [((738, 499), (769, 530)), 1.0], [((936, 616), (940, 629)), 1]]\n",
      "[[((36, 562), (58, 593)), 1.0], [((9, 427), (40, 449)), 0.0], [((1121, 400), (1201, 494)), 127.0], [((198, 427), (229, 458)), 1.0], [((551, 457), (614, 501)), 0.0], [((657, 598), (688, 629)), 0.0], [((1080, 463), (1084, 485)), 0.0], [((738, 499), (769, 530)), 1.0], [((936, 616), (940, 629)), 1]]\n",
      "[[((36, 562), (58, 593)), 1.0], [((9, 427), (40, 449)), 0.0], [((1140, 400), (1203, 503)), 128.0], [((198, 427), (229, 458)), 1.0], [((551, 457), (614, 501)), 0.0], [((657, 598), (688, 629)), 0.0], [((1080, 463), (1084, 485)), 0.0], [((738, 499), (769, 530)), 1.0], [((936, 616), (940, 629)), 1]]\n",
      "[[((36, 562), (58, 593)), 1.0], [((9, 427), (40, 449)), 0.0], [((1121, 400), (1264, 501)), 129.0], [((198, 427), (229, 458)), 1.0], [((551, 457), (614, 501)), 0.0], [((657, 598), (688, 629)), 0.0], [((1080, 463), (1084, 485)), 0.0], [((738, 499), (769, 530)), 1.0], [((936, 616), (940, 629)), 1]]\n",
      "[[((36, 562), (58, 593)), 1.0], [((9, 427), (40, 449)), 0.0], [((1102, 400), (1264, 520)), 132.0], [((198, 427), (229, 458)), 1.0], [((551, 457), (614, 501)), 0.0], [((657, 598), (688, 629)), 0.0], [((1080, 463), (1084, 485)), 0.0], [((738, 499), (769, 530)), 1.0], [((936, 616), (940, 629)), 1]]\n",
      "[[((36, 562), (58, 593)), 1.0], [((9, 427), (40, 449)), 0.0], [((1102, 400), (1184, 503)), 134.0], [((198, 427), (229, 458)), 1.0], [((551, 457), (614, 501)), 1.0], [((657, 598), (688, 629)), 0.0], [((1080, 463), (1084, 485)), 0.0], [((738, 499), (769, 530)), 1.0], [((936, 616), (940, 629)), 1]]\n",
      "[[((36, 562), (58, 593)), 1.0], [((9, 427), (40, 449)), 0.0], [((1102, 400), (1192, 503)), 136.0], [((198, 427), (229, 458)), 1.0], [((551, 457), (614, 501)), 2.0], [((657, 598), (688, 629)), 0.0], [((1080, 463), (1084, 485)), 0.0], [((738, 499), (769, 530)), 1.0], [((936, 616), (940, 629)), 1]]\n",
      "[[((36, 562), (58, 593)), 1.0], [((9, 427), (40, 449)), 0.0], [((1083, 409), (1192, 503)), 138.0], [((198, 427), (229, 458)), 1.0], [((551, 457), (614, 501)), 0.0], [((657, 598), (688, 629)), 0.0], [((1080, 463), (1084, 485)), 0.0], [((738, 499), (769, 530)), 1.0], [((936, 616), (940, 629)), 1]]\n",
      "[[((36, 562), (58, 593)), 1.0], [((9, 427), (40, 449)), 0.0], [((1102, 400), (1192, 503)), 140.0], [((198, 427), (229, 458)), 1.0], [((551, 457), (614, 501)), 0.0], [((657, 598), (688, 629)), 0.0], [((1080, 463), (1084, 485)), 0.0], [((738, 499), (769, 530)), 1.0], [((936, 616), (940, 629)), 1]]\n",
      "[[((36, 562), (58, 593)), 1.0], [((9, 427), (40, 449)), 0.0], [((1102, 400), (1192, 512)), 142.0], [((198, 427), (229, 458)), 1.0], [((551, 457), (614, 501)), 0.0], [((657, 598), (688, 629)), 0.0], [((1080, 463), (1084, 485)), 0.0], [((738, 499), (769, 530)), 1.0], [((936, 616), (940, 629)), 1]]\n",
      "[[((36, 562), (58, 593)), 1.0], [((9, 427), (40, 449)), 0.0], [((1102, 400), (1192, 512)), 143.0], [((198, 427), (229, 458)), 1.0], [((551, 457), (614, 501)), 0.0], [((657, 598), (688, 629)), 0.0], [((1080, 463), (1084, 485)), 0.0], [((738, 499), (769, 530)), 1.0], [((936, 616), (940, 629)), 1]]\n",
      "[[((36, 562), (58, 593)), 1.0], [((9, 427), (40, 449)), 0.0], [((1102, 400), (1260, 512)), 146.0], [((198, 427), (229, 458)), 2.0], [((551, 457), (614, 501)), 0.0], [((657, 598), (688, 629)), 0.0], [((1080, 463), (1084, 485)), 0.0], [((738, 499), (769, 530)), 1.0], [((936, 616), (940, 629)), 1]]\n"
     ]
    },
    {
     "name": "stderr",
     "output_type": "stream",
     "text": [
      "\u001b[A\u001b[A\u001b[A\n",
      "\n",
      "\n",
      "  7%|▋         | 84/1136 [01:40<06:59,  2.51it/s]"
     ]
    },
    {
     "name": "stdout",
     "output_type": "stream",
     "text": [
      "[[((36, 562), (58, 593)), 1.0], [((9, 427), (40, 449)), 0.0], [((1102, 409), (1184, 512)), 150.0], [((297, 454), (319, 458)), 0.0], [((551, 457), (614, 501)), 0.0], [((657, 598), (688, 629)), 0.0], [((1080, 463), (1084, 485)), 0.0], [((738, 499), (769, 530)), 1.0], [((936, 616), (940, 629)), 1]]\n",
      "[[((36, 562), (58, 593)), 1.0], [((9, 427), (40, 449)), 0.0], [((1102, 400), (1184, 512)), 153.0], [((297, 454), (319, 458)), 0.0], [((551, 457), (614, 501)), 0.0], [((657, 598), (688, 629)), 0.0], [((1080, 463), (1084, 485)), 0.0], [((738, 499), (769, 530)), 1.0], [((936, 616), (940, 629)), 1]]\n",
      "[[((36, 562), (58, 593)), 1.0], [((9, 427), (40, 449)), 0.0], [((1098, 400), (1184, 503)), 157.0], [((297, 454), (319, 458)), 0.0], [((551, 457), (614, 501)), 0.0], [((657, 598), (688, 629)), 0.0], [((1080, 463), (1084, 485)), 0.0], [((738, 499), (769, 530)), 1.0], [((936, 616), (940, 629)), 1]]\n",
      "[[((36, 562), (58, 593)), 1.0], [((9, 427), (40, 449)), 0.0], [((1107, 400), (1183, 463)), 161.0], [((297, 454), (319, 458)), 0.0], [((551, 457), (614, 501)), 0.0], [((657, 598), (688, 629)), 1.0], [((1080, 463), (1084, 485)), 0.0], [((738, 499), (769, 530)), 1.0], [((936, 616), (940, 629)), 1], [((1242, 490), (1273, 512)), 1]]\n",
      "[[((36, 562), (58, 593)), 1.0], [((9, 427), (40, 449)), 0.0], [((1121, 400), (1183, 494)), 164.0], [((297, 454), (319, 458)), 0.0], [((551, 457), (614, 501)), 0.0], [((666, 616), (697, 656)), 1.0], [((1080, 463), (1084, 485)), 0.0], [((738, 499), (769, 530)), 1.0], [((936, 616), (940, 629)), 1], [((1242, 490), (1273, 512)), 1]]\n"
     ]
    },
    {
     "name": "stderr",
     "output_type": "stream",
     "text": [
      "\u001b[A\u001b[A\u001b[A\n",
      "\n",
      "\n",
      "  8%|▊         | 89/1136 [01:40<05:41,  3.06it/s]\u001b[A\u001b[A\u001b[A\n",
      "\n",
      "\n",
      "  9%|▊         | 99/1136 [01:40<04:00,  4.31it/s]"
     ]
    },
    {
     "name": "stdout",
     "output_type": "stream",
     "text": [
      "[[((36, 562), (58, 593)), 1.0], [((9, 427), (40, 449)), 0.0], [((1121, 400), (1210, 512)), 167.0], [((297, 454), (319, 458)), 0.0], [((551, 457), (614, 501)), 1.0], [((666, 616), (697, 656)), 2.0], [((1080, 463), (1084, 485)), 0.0], [((738, 499), (769, 530)), 1.0], [((936, 616), (940, 629)), 1], [((1242, 490), (1273, 512)), 1]]\n",
      "[[((36, 562), (58, 593)), 1.0], [((9, 427), (40, 449)), 0.0], [((1083, 400), (1183, 503)), 169.0], [((297, 454), (319, 458)), 0.0], [((540, 481), (562, 512)), 1.0], [((747, 571), (778, 593)), 0.0], [((1080, 463), (1084, 485)), 0.0], [((738, 499), (769, 530)), 1.0], [((936, 616), (940, 629)), 1], [((1242, 490), (1273, 512)), 1]]\n",
      "[[((36, 562), (58, 593)), 1.0], [((9, 427), (40, 449)), 0.0], [((1083, 400), (1165, 503)), 172.0], [((297, 454), (319, 458)), 0.0], [((540, 481), (562, 512)), 1.0], [((747, 571), (778, 593)), 0.0], [((1080, 463), (1084, 485)), 0.0], [((738, 499), (769, 530)), 1.0], [((936, 616), (940, 629)), 1], [((1242, 490), (1273, 512)), 1]]\n",
      "[[((36, 562), (58, 593)), 1.0], [((9, 427), (40, 449)), 0.0], [((1102, 400), (1165, 463)), 175.0], [((297, 454), (319, 458)), 0.0], [((540, 481), (562, 512)), 1.0], [((747, 571), (778, 593)), 0.0], [((1080, 463), (1084, 485)), 0.0], [((738, 499), (769, 530)), 1.0], [((936, 616), (940, 629)), 1], [((1242, 490), (1273, 512)), 2], [((153, 472), (184, 503)), 1]]\n",
      "[[((36, 562), (58, 593)), 1.0], [((9, 427), (40, 449)), 0.0], [((1102, 409), (1174, 503)), 178.0], [((297, 454), (319, 458)), 0.0], [((540, 481), (562, 512)), 1.0], [((747, 571), (778, 593)), 0.0], [((1080, 463), (1084, 485)), 0.0], [((738, 499), (769, 530)), 1.0], [((936, 616), (940, 629)), 1], [((1233, 490), (1264, 521)), 0.0], [((153, 472), (184, 503)), 1]]\n",
      "[[((36, 562), (58, 593)), 1.0], [((9, 427), (40, 449)), 0.0], [((1083, 400), (1174, 503)), 180.0], [((297, 454), (319, 458)), 0.0], [((540, 481), (562, 512)), 1.0], [((747, 571), (778, 593)), 0.0], [((1080, 463), (1084, 485)), 0.0], [((738, 499), (769, 530)), 1.0], [((936, 616), (940, 629)), 1], [((1233, 490), (1264, 521)), 0.0], [((153, 472), (184, 503)), 1]]\n",
      "[[((36, 562), (58, 593)), 1.0], [((9, 427), (40, 449)), 0.0], [((1083, 400), (1174, 503)), 182.0], [((297, 454), (319, 458)), 0.0], [((540, 481), (562, 512)), 1.0], [((747, 571), (778, 593)), 0.0], [((1080, 463), (1084, 485)), 0.0], [((738, 499), (769, 530)), 1.0], [((936, 616), (940, 629)), 1], [((1233, 490), (1264, 521)), 0.0], [((153, 472), (184, 503)), 1]]\n",
      "[[((36, 562), (58, 593)), 1.0], [((9, 427), (40, 449)), 0.0], [((1083, 400), (1174, 503)), 184.0], [((297, 454), (319, 458)), 0.0], [((540, 481), (562, 512)), 1.0], [((747, 571), (778, 593)), 0.0], [((1080, 463), (1084, 485)), 0.0], [((738, 499), (769, 530)), 1.0], [((936, 616), (940, 629)), 1], [((1233, 490), (1264, 521)), 0.0], [((153, 472), (184, 503)), 1]]\n",
      "[[((36, 562), (58, 593)), 1.0], [((9, 427), (40, 449)), 0.0], [((1083, 400), (1174, 501)), 186.0], [((297, 454), (319, 458)), 0.0], [((540, 481), (562, 512)), 1.0], [((747, 571), (778, 593)), 0.0], [((1080, 463), (1084, 485)), 0.0], [((738, 499), (769, 530)), 1.0], [((936, 616), (940, 629)), 1], [((1233, 490), (1264, 521)), 0.0], [((153, 472), (184, 503)), 1]]\n",
      "[[((36, 562), (58, 593)), 1.0], [((9, 427), (40, 449)), 0.0], [((1083, 400), (1174, 503)), 188.0], [((297, 454), (319, 458)), 0.0], [((540, 481), (562, 512)), 1.0], [((747, 571), (778, 593)), 0.0], [((1080, 463), (1084, 485)), 0.0], [((738, 499), (769, 530)), 1.0], [((936, 616), (940, 629)), 1], [((1233, 490), (1264, 521)), 0.0], [((153, 472), (184, 503)), 1]]\n",
      "[[((36, 562), (58, 593)), 1.0], [((9, 427), (40, 449)), 0.0], [((1083, 400), (1174, 503)), 190.0], [((297, 454), (319, 458)), 0.0], [((540, 481), (562, 512)), 1.0], [((747, 571), (778, 593)), 0.0], [((1080, 463), (1084, 485)), 0.0], [((738, 499), (769, 530)), 1.0], [((936, 616), (940, 629)), 1], [((1233, 490), (1264, 521)), 1.0], [((153, 472), (184, 503)), 1], [((630, 607), (634, 629)), 1]]\n"
     ]
    },
    {
     "name": "stderr",
     "output_type": "stream",
     "text": [
      "\u001b[A\u001b[A\u001b[A"
     ]
    },
    {
     "name": "stdout",
     "output_type": "stream",
     "text": [
      "[[((36, 562), (58, 593)), 1.0], [((9, 427), (40, 449)), 0.0], [((1080, 400), (1174, 501)), 192.0], [((297, 454), (319, 458)), 0.0], [((540, 481), (562, 512)), 1.0], [((747, 571), (778, 593)), 0.0], [((1080, 463), (1084, 485)), 0.0], [((738, 499), (769, 530)), 1.0], [((936, 616), (940, 629)), 1], [((1233, 490), (1264, 512)), 1.0], [((153, 472), (184, 503)), 1], [((630, 607), (634, 629)), 1]]\n",
      "[[((36, 562), (58, 593)), 1.0], [((9, 427), (40, 449)), 0.0], [((1071, 400), (1165, 503)), 194.0], [((297, 454), (319, 458)), 0.0], [((540, 481), (562, 512)), 1.0], [((747, 571), (778, 593)), 0.0], [((1080, 463), (1084, 485)), 0.0], [((738, 499), (769, 530)), 1.0], [((936, 616), (940, 629)), 1], [((1233, 490), (1264, 512)), 1.0], [((153, 472), (184, 503)), 1], [((630, 607), (634, 629)), 1]]\n"
     ]
    },
    {
     "name": "stderr",
     "output_type": "stream",
     "text": [
      "\n",
      "\n",
      "\n",
      "\r",
      "  9%|▉         | 103/1136 [01:43<05:32,  3.11it/s]"
     ]
    },
    {
     "name": "stdout",
     "output_type": "stream",
     "text": [
      "[[((36, 562), (58, 593)), 1.0], [((9, 427), (40, 449)), 0.0], [((1071, 409), (1165, 520)), 196.0], [((297, 454), (319, 458)), 0.0], [((540, 481), (562, 512)), 1.0], [((747, 571), (778, 593)), 0.0], [((1080, 463), (1084, 485)), 0.0], [((738, 499), (769, 530)), 1.0], [((936, 616), (940, 629)), 1], [((1233, 490), (1264, 512)), 2.0], [((153, 472), (184, 503)), 1], [((630, 607), (634, 629)), 1]]\n",
      "[[((36, 562), (58, 593)), 1.0], [((9, 427), (40, 449)), 0.0], [((1071, 400), (1192, 520)), 198.0], [((297, 454), (319, 458)), 0.0], [((540, 481), (562, 512)), 1.0], [((747, 571), (778, 593)), 0.0], [((1080, 463), (1084, 485)), 0.0], [((738, 499), (769, 530)), 1.0], [((936, 616), (940, 629)), 1], [((1224, 490), (1255, 520)), 3.0], [((153, 472), (184, 503)), 1], [((630, 607), (634, 629)), 1]]\n"
     ]
    },
    {
     "name": "stderr",
     "output_type": "stream",
     "text": [
      "\u001b[A\u001b[A\u001b[A\n",
      "\n",
      "\n",
      "  9%|▉         | 106/1136 [01:43<04:37,  3.71it/s]"
     ]
    },
    {
     "name": "stdout",
     "output_type": "stream",
     "text": [
      "[[((36, 562), (58, 593)), 1.0], [((9, 427), (40, 449)), 0.0], [((1071, 409), (1165, 503)), 200.0], [((297, 454), (319, 458)), 0.0], [((540, 481), (562, 512)), 1.0], [((747, 571), (778, 593)), 0.0], [((1080, 463), (1084, 485)), 0.0], [((738, 499), (769, 530)), 1.0], [((936, 616), (940, 629)), 1], [((1224, 490), (1260, 521)), 4.0], [((153, 472), (184, 503)), 1], [((630, 607), (634, 629)), 1]]\n",
      "[[((36, 562), (58, 593)), 1.0], [((9, 427), (40, 449)), 0.0], [((1179, 400), (1260, 520)), 202.0], [((297, 454), (319, 458)), 0.0], [((540, 481), (562, 512)), 1.0], [((747, 571), (778, 593)), 0.0], [((1080, 463), (1084, 485)), 0.0], [((738, 499), (769, 530)), 1.0], [((936, 616), (940, 629)), 1], [((1224, 490), (1255, 520)), 2.0], [((153, 472), (184, 503)), 1], [((630, 607), (634, 629)), 1]]\n",
      "[[((36, 562), (58, 593)), 1.0], [((9, 427), (40, 449)), 0.0], [((1071, 400), (1228, 520)), 204.0], [((297, 454), (319, 458)), 0.0], [((540, 481), (562, 512)), 1.0], [((747, 571), (778, 593)), 0.0], [((1080, 463), (1084, 485)), 0.0], [((738, 499), (769, 530)), 1.0], [((936, 616), (940, 629)), 1], [((1224, 490), (1255, 520)), 0.0], [((153, 472), (184, 503)), 1], [((630, 607), (634, 629)), 1]]\n",
      "[[((36, 562), (58, 593)), 1.0], [((9, 427), (40, 449)), 0.0], [((1064, 400), (1260, 520)), 207.0], [((297, 454), (319, 458)), 0.0], [((540, 481), (562, 512)), 1.0], [((747, 571), (778, 593)), 0.0], [((1080, 463), (1084, 485)), 0.0], [((738, 499), (769, 530)), 1.0], [((936, 616), (940, 629)), 1], [((1224, 490), (1255, 520)), 0.0], [((153, 472), (184, 503)), 1], [((630, 607), (634, 629)), 1]]\n",
      "[[((36, 562), (58, 593)), 1.0], [((9, 427), (40, 449)), 0.0], [((1159, 400), (1260, 520)), 212.0], [((297, 454), (319, 458)), 0.0], [((540, 481), (562, 512)), 1.0], [((747, 571), (778, 593)), 0.0], [((1080, 463), (1084, 485)), 0.0], [((738, 499), (769, 530)), 1.0], [((936, 616), (940, 629)), 1], [((1224, 490), (1255, 520)), 0.0], [((153, 472), (184, 503)), 1], [((630, 607), (634, 629)), 1]]\n",
      "[[((36, 562), (58, 593)), 1.0], [((9, 427), (40, 449)), 1.0], [((1064, 400), (1156, 503)), 214.0], [((297, 454), (319, 458)), 0.0], [((540, 481), (562, 512)), 1.0], [((747, 571), (778, 593)), 0.0], [((1080, 463), (1084, 485)), 0.0], [((738, 499), (769, 530)), 1.0], [((936, 616), (940, 629)), 1], [((1224, 490), (1255, 520)), 0.0], [((153, 472), (184, 503)), 2], [((630, 607), (634, 629)), 1]]\n",
      "[[((36, 562), (58, 593)), 1.0], [((18, 427), (40, 458)), 1.0], [((1071, 409), (1156, 501)), 216.0], [((297, 454), (319, 458)), 0.0], [((540, 481), (562, 512)), 1.0], [((747, 571), (778, 593)), 1.0], [((1080, 463), (1084, 485)), 0.0], [((738, 499), (769, 530)), 1.0], [((936, 616), (940, 629)), 1], [((1224, 490), (1255, 520)), 0.0], [((171, 472), (202, 512)), 0.0], [((630, 607), (634, 629)), 1]]\n",
      "[[((36, 562), (58, 593)), 1.0], [((18, 427), (40, 458)), 1.0], [((1064, 400), (1156, 503)), 218.0], [((297, 454), (319, 458)), 1.0], [((540, 481), (562, 512)), 1.0], [((666, 616), (697, 638)), 1.0], [((1080, 463), (1084, 485)), 0.0], [((738, 499), (769, 530)), 1.0], [((936, 616), (940, 629)), 1], [((1224, 490), (1255, 520)), 0.0], [((171, 472), (202, 512)), 0.0], [((630, 607), (634, 629)), 1]]\n"
     ]
    },
    {
     "name": "stderr",
     "output_type": "stream",
     "text": [
      "\u001b[A\u001b[A\u001b[A\n",
      "\n",
      "\n",
      " 10%|▉         | 112/1136 [01:44<03:40,  4.65it/s]"
     ]
    },
    {
     "name": "stdout",
     "output_type": "stream",
     "text": [
      "[[((36, 562), (58, 593)), 1.0], [((18, 427), (40, 458)), 1.0], [((1159, 427), (1260, 521)), 220.0], [((297, 427), (328, 458)), 2.0], [((540, 481), (562, 512)), 1.0], [((666, 616), (697, 638)), 1.0], [((1080, 463), (1084, 485)), 0.0], [((738, 499), (769, 530)), 1.0], [((936, 616), (940, 629)), 1], [((1224, 490), (1255, 520)), 0.0], [((171, 472), (202, 512)), 0.0], [((630, 607), (634, 629)), 1]]\n",
      "[[((36, 562), (58, 593)), 1.0], [((18, 427), (40, 458)), 1.0], [((1064, 400), (1156, 503)), 224.0], [((288, 418), (319, 458)), 3.0], [((540, 481), (562, 512)), 1.0], [((666, 616), (697, 638)), 1.0], [((1080, 463), (1084, 485)), 0.0], [((738, 499), (769, 530)), 1.0], [((936, 616), (940, 629)), 1], [((1224, 490), (1255, 520)), 1.0], [((171, 472), (202, 512)), 0.0], [((630, 607), (634, 629)), 1]]\n",
      "[[((36, 562), (58, 593)), 1.0], [((18, 427), (40, 458)), 1.0], [((1064, 400), (1156, 503)), 226.0], [((288, 427), (319, 458)), 4.0], [((540, 481), (562, 512)), 1.0], [((666, 616), (697, 638)), 1.0], [((1080, 463), (1084, 485)), 0.0], [((738, 499), (769, 530)), 1.0], [((936, 616), (940, 629)), 1], [((1233, 490), (1241, 520)), 2.0], [((171, 472), (202, 512)), 0.0], [((630, 607), (634, 629)), 1]]\n"
     ]
    },
    {
     "name": "stderr",
     "output_type": "stream",
     "text": [
      "\u001b[A\u001b[A\u001b[A\n",
      "\n",
      "\n",
      " 10%|█         | 115/1136 [01:44<03:52,  4.39it/s]"
     ]
    },
    {
     "name": "stdout",
     "output_type": "stream",
     "text": [
      "[[((36, 562), (58, 593)), 2.0], [((18, 427), (40, 458)), 1.0], [((1053, 400), (1156, 503)), 228.0], [((261, 427), (292, 458)), 5.0], [((540, 481), (562, 512)), 1.0], [((666, 616), (697, 638)), 1.0], [((1080, 463), (1084, 485)), 0.0], [((738, 499), (769, 530)), 1.0], [((936, 616), (940, 629)), 1], [((1206, 472), (1241, 512)), 0.0], [((171, 472), (202, 512)), 0.0], [((630, 607), (634, 629)), 1]]\n",
      "[[((27, 490), (58, 494)), 0.0], [((18, 427), (40, 458)), 1.0], [((1064, 400), (1174, 503)), 230.0], [((228, 427), (292, 458)), 6.0], [((540, 481), (562, 512)), 1.0], [((666, 616), (697, 638)), 1.0], [((1080, 463), (1084, 485)), 0.0], [((738, 499), (769, 530)), 1.0], [((936, 616), (940, 629)), 1], [((1206, 472), (1241, 512)), 1.0], [((171, 472), (202, 512)), 0.0], [((630, 607), (634, 629)), 1]]\n",
      "[[((27, 490), (58, 494)), 1.0], [((18, 427), (40, 458)), 1.0], [((1083, 409), (1146, 501)), 234.0], [((216, 436), (247, 458)), 7.0], [((540, 481), (562, 512)), 1.0], [((666, 616), (697, 638)), 4.0], [((1080, 463), (1084, 485)), 0.0], [((738, 499), (769, 530)), 1.0], [((936, 616), (940, 629)), 1], [((1233, 490), (1237, 512)), 2.0], [((171, 472), (202, 512)), 0.0], [((630, 607), (634, 629)), 1]]\n"
     ]
    },
    {
     "name": "stderr",
     "output_type": "stream",
     "text": [
      "\u001b[A\u001b[A\u001b[A\n",
      "\n",
      "\n",
      " 10%|█         | 118/1136 [01:46<05:08,  3.30it/s]"
     ]
    },
    {
     "name": "stdout",
     "output_type": "stream",
     "text": [
      "[[((171, 481), (202, 503)), 3.0], [((18, 427), (40, 458)), 1.0], [((1053, 400), (1147, 501)), 236.0], [((198, 427), (211, 458)), 5.0], [((540, 481), (562, 512)), 1.0], [((666, 616), (697, 647)), 2.0], [((1080, 463), (1084, 485)), 0.0], [((738, 499), (769, 530)), 1.0], [((936, 616), (940, 629)), 1], [((1233, 490), (1237, 512)), 3.0], [((171, 472), (202, 512)), 0.0], [((630, 607), (634, 629)), 1]]\n",
      "[[((207, 427), (215, 458)), 5.0], [((18, 427), (40, 458)), 1.0], [((1053, 400), (1147, 485)), 238.0], [((198, 427), (211, 458)), 3.0], [((540, 481), (562, 512)), 1.0], [((666, 616), (697, 647)), 0.0], [((1080, 463), (1084, 485)), 0.0], [((738, 499), (769, 530)), 1.0], [((936, 616), (940, 629)), 1], [((1206, 481), (1246, 512)), 4.0], [((171, 472), (202, 512)), 0.0], [((630, 607), (634, 629)), 1]]\n",
      "[[((133, 419), (234, 482)), 6.0], [((18, 427), (40, 458)), 1.0], [((1045, 400), (1146, 501)), 240.0], [((198, 427), (211, 458)), 1.0], [((540, 481), (562, 512)), 1.0], [((666, 616), (697, 647)), 0.0], [((1080, 463), (1084, 485)), 0.0], [((738, 499), (769, 530)), 1.0], [((936, 616), (940, 629)), 1], [((1206, 490), (1219, 521)), 2.0], [((171, 472), (202, 512)), 0.0], [((630, 607), (634, 629)), 1]]\n",
      "[[((99, 419), (196, 482)), 8.0], [((18, 427), (40, 458)), 1.0], [((1053, 409), (1147, 494)), 241.0], [((198, 427), (211, 458)), 1.0], [((540, 481), (562, 512)), 1.0], [((666, 616), (697, 647)), 0.0], [((1080, 463), (1084, 485)), 0.0], [((738, 499), (769, 530)), 1.0], [((936, 616), (940, 629)), 1], [((1206, 490), (1219, 521)), 0.0], [((171, 472), (202, 512)), 0.0], [((630, 607), (634, 629)), 1]]\n",
      "[[((117, 419), (215, 482)), 10.0], [((18, 427), (40, 458)), 1.0], [((1053, 409), (1228, 520)), 245.0], [((198, 427), (211, 458)), 1.0], [((540, 481), (562, 512)), 1.0], [((666, 616), (697, 647)), 0.0], [((1080, 463), (1084, 485)), 0.0], [((738, 499), (769, 530)), 1.0], [((936, 616), (940, 629)), 1], [((1206, 490), (1219, 521)), 0.0], [((171, 472), (202, 512)), 0.0], [((630, 607), (634, 629)), 1]]\n"
     ]
    },
    {
     "name": "stderr",
     "output_type": "stream",
     "text": [
      "\u001b[A\u001b[A\u001b[A\n",
      "\n",
      "\n",
      " 11%|█         | 123/1136 [01:47<05:03,  3.34it/s]\u001b[A\u001b[A\u001b[A\n",
      "\n",
      "\n",
      " 12%|█▏        | 132/1136 [01:47<03:33,  4.69it/s]"
     ]
    },
    {
     "name": "stdout",
     "output_type": "stream",
     "text": [
      "[[((57, 418), (120, 482)), 8.0], [((18, 427), (40, 458)), 1.0], [((1045, 400), (1147, 503)), 249.0], [((198, 427), (211, 458)), 1.0], [((540, 481), (562, 512)), 1.0], [((666, 616), (697, 647)), 1.0], [((1080, 463), (1084, 485)), 0.0], [((738, 499), (769, 530)), 1.0], [((936, 616), (940, 629)), 1], [((1206, 490), (1219, 521)), 1.0], [((171, 472), (202, 512)), 0.0], [((630, 607), (634, 629)), 1]]\n",
      "[[((57, 418), (120, 482)), 6.0], [((18, 427), (40, 458)), 1.0], [((1045, 400), (1138, 482)), 252.0], [((198, 427), (211, 458)), 1.0], [((540, 481), (562, 512)), 1.0], [((684, 625), (715, 647)), 2.0], [((1080, 463), (1084, 485)), 0.0], [((738, 499), (769, 530)), 1.0], [((936, 616), (940, 629)), 1], [((1197, 481), (1255, 521)), 2.0], [((171, 472), (202, 512)), 0.0], [((630, 607), (634, 629)), 1]]\n",
      "[[((57, 418), (120, 482)), 7.0], [((18, 427), (40, 458)), 1.0], [((1062, 400), (1138, 503)), 255.0], [((198, 427), (211, 458)), 1.0], [((540, 481), (562, 512)), 1.0], [((684, 607), (724, 647)), 3.0], [((1080, 463), (1084, 485)), 0.0], [((738, 499), (769, 530)), 1.0], [((936, 616), (940, 629)), 1], [((1197, 490), (1210, 521)), 3.0], [((171, 472), (202, 512)), 0.0], [((630, 607), (634, 629)), 1]]\n",
      "[[((27, 436), (49, 467)), 8.0], [((18, 427), (40, 458)), 1.0], [((1045, 400), (1127, 503)), 258.0], [((198, 427), (211, 458)), 1.0], [((540, 481), (562, 512)), 1.0], [((729, 607), (760, 629)), 5.0], [((1080, 463), (1084, 485)), 0.0], [((738, 499), (769, 530)), 1.0], [((936, 616), (940, 629)), 1], [((1197, 490), (1210, 521)), 4.0], [((171, 472), (202, 512)), 0.0], [((630, 607), (634, 629)), 1]]\n",
      "[[((45, 436), (58, 467)), 6.0], [((18, 427), (40, 458)), 1.0], [((1045, 400), (1138, 503)), 261.0], [((198, 427), (211, 458)), 1.0], [((540, 481), (562, 512)), 1.0], [((729, 616), (760, 647)), 6.0], [((1080, 463), (1084, 485)), 0.0], [((738, 499), (769, 530)), 1.0], [((936, 616), (940, 629)), 1], [((1188, 490), (1228, 521)), 5.0], [((171, 472), (202, 512)), 0.0], [((630, 607), (634, 629)), 1]]\n",
      "[[((45, 436), (58, 467)), 4.0], [((18, 427), (40, 458)), 1.0], [((1045, 400), (1138, 503)), 263.0], [((198, 427), (211, 458)), 1.0], [((540, 481), (562, 512)), 1.0], [((603, 616), (634, 638)), 4.0], [((1080, 463), (1084, 485)), 0.0], [((738, 499), (769, 530)), 1.0], [((936, 616), (940, 629)), 1], [((1197, 490), (1210, 521)), 8.0], [((171, 472), (202, 512)), 0.0], [((630, 607), (634, 629)), 1]]\n",
      "[[((45, 436), (58, 467)), 2.0], [((18, 427), (40, 458)), 1.0], [((1045, 400), (1138, 503)), 265.0], [((198, 427), (211, 458)), 1.0], [((540, 481), (562, 512)), 1.0], [((603, 616), (634, 638)), 2.0], [((1080, 463), (1084, 485)), 0.0], [((738, 499), (769, 530)), 1.0], [((936, 616), (940, 629)), 1], [((1224, 481), (1255, 512)), 10.0], [((171, 472), (202, 512)), 0.0], [((630, 607), (634, 629)), 1]]\n",
      "[[((45, 436), (58, 467)), 0.0], [((18, 427), (40, 458)), 1.0], [((1045, 400), (1165, 503)), 268.0], [((198, 427), (211, 458)), 1.0], [((540, 481), (562, 512)), 1.0], [((603, 616), (634, 638)), 0.0], [((1080, 463), (1084, 485)), 0.0], [((738, 499), (769, 530)), 2.0], [((936, 616), (940, 629)), 1], [((1188, 481), (1228, 521)), 8.0], [((171, 472), (202, 512)), 0.0], [((630, 607), (634, 629)), 1]]\n",
      "[[((45, 436), (58, 467)), 0.0], [((18, 427), (40, 458)), 1.0], [((1045, 400), (1127, 503)), 270.0], [((198, 427), (211, 458)), 1.0], [((540, 481), (562, 512)), 1.0], [((603, 616), (634, 638)), 0.0], [((1080, 463), (1084, 485)), 0.0], [((693, 553), (724, 566)), 0.0], [((936, 616), (940, 629)), 2], [((1188, 481), (1228, 521)), 6.0], [((171, 472), (202, 512)), 0.0], [((630, 607), (634, 629)), 1]]\n",
      "[[((45, 436), (58, 467)), 0.0], [((18, 427), (40, 458)), 1.0], [((1045, 400), (1138, 503)), 272.0], [((198, 427), (211, 458)), 1.0], [((540, 481), (562, 512)), 1.0], [((603, 616), (634, 638)), 0.0], [((1080, 463), (1084, 485)), 1.0], [((693, 553), (724, 566)), 0.0], [((891, 634), (922, 656)), 0.0], [((1188, 481), (1228, 521)), 4.0], [((171, 472), (202, 512)), 0.0], [((630, 607), (634, 629)), 1]]\n",
      "[[((45, 436), (58, 467)), 0.0], [((18, 427), (40, 458)), 1.0], [((1045, 400), (1127, 503)), 274.0], [((198, 427), (211, 458)), 1.0], [((540, 481), (562, 512)), 1.0], [((603, 616), (634, 638)), 0.0], [((1188, 481), (1222, 520)), 2.0], [((693, 553), (724, 566)), 0.0], [((891, 634), (922, 656)), 0.0], [((1188, 481), (1228, 521)), 2.0], [((171, 472), (202, 512)), 0.0], [((630, 607), (634, 629)), 1]]\n",
      "[[((45, 436), (58, 467)), 0.0], [((18, 427), (40, 458)), 1.0], [((1045, 409), (1138, 503)), 279.0], [((198, 427), (211, 458)), 1.0], [((540, 481), (562, 512)), 1.0], [((603, 616), (634, 638)), 0.0], [((1188, 457), (1222, 520)), 3.0], [((693, 553), (724, 566)), 0.0], [((891, 634), (922, 656)), 0.0], [((1188, 481), (1228, 521)), 0.0], [((171, 472), (202, 512)), 0.0], [((630, 607), (634, 629)), 1]]\n",
      "[[((45, 436), (58, 467)), 0.0], [((18, 427), (40, 458)), 1.0], [((1045, 400), (1127, 503)), 281.0], [((198, 427), (211, 458)), 1.0], [((540, 481), (562, 512)), 1.0], [((603, 616), (634, 638)), 0.0], [((1224, 481), (1246, 494)), 4.0], [((693, 553), (724, 566)), 0.0], [((891, 634), (922, 656)), 0.0], [((1188, 481), (1228, 521)), 0.0], [((171, 472), (202, 512)), 0.0], [((630, 607), (634, 629)), 1]]\n",
      "[[((45, 436), (58, 467)), 0.0], [((18, 427), (40, 458)), 1.0], [((1045, 400), (1129, 503)), 283.0], [((198, 427), (211, 458)), 1.0], [((540, 481), (562, 512)), 1.0], [((603, 616), (634, 638)), 0.0], [((1188, 481), (1222, 520)), 6.0], [((693, 553), (724, 566)), 0.0], [((891, 634), (922, 656)), 0.0], [((1188, 481), (1228, 521)), 0.0], [((171, 472), (202, 512)), 0.0], [((630, 607), (634, 629)), 1]]\n",
      "[[((45, 436), (58, 467)), 0.0], [((18, 427), (40, 458)), 1.0], [((1045, 400), (1129, 503)), 286.0], [((198, 427), (211, 458)), 1.0], [((540, 481), (562, 512)), 1.0], [((603, 616), (634, 638)), 0.0], [((1188, 457), (1246, 520)), 7.0], [((693, 553), (724, 566)), 0.0], [((891, 634), (922, 656)), 0.0], [((1188, 481), (1228, 521)), 0.0], [((171, 472), (202, 512)), 0.0], [((630, 607), (634, 629)), 1], [((342, 445), (346, 476)), 1]]\n",
      "[[((45, 436), (58, 467)), 0.0], [((18, 427), (40, 458)), 1.0], [((1045, 400), (1127, 503)), 289.0], [((198, 427), (211, 458)), 1.0], [((540, 481), (562, 512)), 1.0], [((603, 616), (634, 638)), 0.0], [((1179, 490), (1210, 521)), 9.0], [((693, 553), (724, 566)), 0.0], [((891, 634), (922, 656)), 0.0], [((1188, 481), (1228, 521)), 0.0], [((171, 472), (202, 512)), 0.0], [((630, 607), (634, 629)), 1], [((342, 445), (346, 476)), 1]]\n"
     ]
    },
    {
     "name": "stderr",
     "output_type": "stream",
     "text": [
      "\u001b[A\u001b[A\u001b[A\n",
      "\n",
      "\n",
      " 12%|█▏        | 138/1136 [01:47<02:34,  6.46it/s]\u001b[A\u001b[A\u001b[A\n",
      "\n",
      "\n",
      " 13%|█▎        | 143/1136 [01:48<01:53,  8.73it/s]\u001b[A\u001b[A\u001b[A"
     ]
    },
    {
     "name": "stdout",
     "output_type": "stream",
     "text": [
      "[[((45, 436), (58, 467)), 0.0], [((18, 427), (40, 458)), 1.0], [((1044, 400), (1127, 503)), 292.0], [((198, 427), (211, 458)), 1.0], [((540, 481), (562, 512)), 1.0], [((603, 616), (634, 638)), 0.0], [((1233, 481), (1260, 501)), 7.0], [((693, 553), (724, 566)), 0.0], [((891, 634), (922, 656)), 0.0], [((1188, 481), (1228, 521)), 0.0], [((171, 472), (202, 512)), 0.0], [((630, 607), (634, 629)), 1], [((342, 445), (346, 476)), 1]]\n",
      "[[((45, 436), (58, 467)), 0.0], [((18, 427), (40, 458)), 1.0], [((1044, 400), (1129, 501)), 296.0], [((198, 427), (211, 458)), 1.0], [((540, 481), (562, 512)), 1.0], [((603, 616), (634, 638)), 0.0], [((1233, 481), (1260, 501)), 8.0], [((693, 553), (724, 566)), 0.0], [((891, 634), (922, 656)), 0.0], [((1188, 481), (1228, 521)), 0.0], [((171, 472), (202, 512)), 0.0], [((630, 607), (634, 629)), 1], [((342, 445), (346, 476)), 1]]\n",
      "[[((45, 436), (58, 467)), 0.0], [((18, 427), (40, 458)), 1.0], [((1044, 400), (1156, 501)), 299.0], [((198, 427), (211, 458)), 2.0], [((540, 481), (562, 512)), 1.0], [((603, 616), (634, 638)), 0.0], [((1188, 490), (1219, 512)), 6.0], [((693, 553), (724, 566)), 0.0], [((891, 634), (922, 656)), 0.0], [((1188, 481), (1228, 521)), 0.0], [((171, 472), (202, 512)), 0.0], [((630, 607), (634, 629)), 1], [((342, 445), (346, 476)), 1]]\n",
      "[[((45, 436), (58, 467)), 0.0], [((18, 427), (40, 458)), 1.0], [((1143, 400), (1255, 485)), 301.0], [((243, 454), (247, 485)), 0.0], [((540, 481), (562, 512)), 1.0], [((603, 616), (634, 638)), 0.0], [((1188, 490), (1219, 512)), 4.0], [((693, 553), (724, 566)), 0.0], [((891, 634), (922, 656)), 0.0], [((1188, 481), (1228, 521)), 0.0], [((171, 472), (202, 512)), 0.0], [((630, 607), (634, 629)), 1], [((342, 445), (346, 476)), 1], [((999, 445), (1012, 476)), 1]]\n",
      "[[((45, 436), (58, 467)), 0.0], [((18, 427), (40, 458)), 1.0], [((1152, 400), (1255, 512)), 302.0], [((243, 454), (247, 485)), 0.0], [((540, 481), (562, 512)), 1.0], [((603, 616), (634, 638)), 0.0], [((1188, 490), (1219, 512)), 2.0], [((693, 553), (724, 566)), 0.0], [((891, 634), (922, 656)), 0.0], [((1188, 481), (1228, 521)), 0.0], [((171, 472), (202, 512)), 0.0], [((630, 607), (634, 629)), 1], [((342, 445), (346, 476)), 1], [((999, 445), (1012, 476)), 2]]\n",
      "[[((45, 436), (58, 467)), 0.0], [((18, 427), (40, 458)), 1.0], [((1045, 400), (1255, 512)), 305.0], [((243, 454), (247, 485)), 0.0], [((540, 481), (562, 512)), 1.0], [((603, 616), (634, 638)), 0.0], [((1188, 490), (1219, 512)), 0.0], [((693, 553), (724, 566)), 0.0], [((891, 634), (922, 656)), 0.0], [((1188, 481), (1228, 521)), 0.0], [((171, 472), (202, 512)), 0.0], [((630, 607), (634, 629)), 1], [((342, 445), (346, 476)), 1], [((1026, 445), (1030, 476)), 0.0]]\n",
      "[[((45, 436), (58, 467)), 0.0], [((18, 427), (40, 458)), 1.0], [((1026, 400), (1129, 501)), 307.0], [((243, 454), (247, 485)), 1.0], [((540, 481), (562, 512)), 1.0], [((603, 616), (634, 638)), 0.0], [((1188, 490), (1219, 512)), 0.0], [((693, 553), (724, 566)), 0.0], [((891, 634), (922, 656)), 0.0], [((1188, 481), (1228, 521)), 0.0], [((171, 472), (202, 512)), 0.0], [((630, 607), (634, 629)), 1], [((342, 445), (346, 476)), 1], [((1026, 445), (1030, 476)), 0.0]]\n",
      "[[((45, 436), (58, 467)), 0.0], [((18, 427), (40, 458)), 1.0], [((1035, 400), (1120, 503)), 310.0], [((324, 418), (328, 449)), 1.0], [((540, 481), (562, 512)), 1.0], [((603, 616), (634, 638)), 0.0], [((1188, 490), (1219, 512)), 1.0], [((693, 553), (724, 566)), 0.0], [((891, 634), (922, 656)), 0.0], [((1188, 481), (1228, 521)), 0.0], [((171, 472), (202, 512)), 0.0], [((630, 607), (634, 629)), 1], [((342, 445), (346, 476)), 1], [((1026, 445), (1030, 476)), 0.0]]\n",
      "[[((45, 436), (58, 467)), 1.0], [((18, 427), (40, 458)), 1.0], [((1045, 400), (1108, 463)), 313.0], [((324, 418), (328, 449)), 1.0], [((540, 481), (562, 512)), 1.0], [((603, 616), (634, 638)), 0.0], [((1188, 481), (1210, 494)), 3.0], [((693, 553), (724, 566)), 0.0], [((891, 634), (922, 656)), 0.0], [((1188, 481), (1228, 521)), 0.0], [((171, 472), (202, 512)), 0.0], [((630, 607), (634, 629)), 1], [((342, 445), (346, 476)), 1], [((1026, 445), (1030, 476)), 0.0]]\n"
     ]
    },
    {
     "name": "stderr",
     "output_type": "stream",
     "text": [
      "\n",
      "\n",
      "\n",
      "\r",
      " 13%|█▎        | 148/1136 [01:49<02:36,  6.30it/s]"
     ]
    },
    {
     "name": "stdout",
     "output_type": "stream",
     "text": [
      "[[((162, 472), (166, 494)), 1.0], [((18, 427), (40, 458)), 1.0], [((1045, 400), (1120, 485)), 315.0], [((324, 418), (328, 449)), 1.0], [((540, 481), (562, 512)), 1.0], [((603, 616), (634, 638)), 1.0], [((1224, 481), (1237, 512)), 4.0], [((693, 553), (724, 566)), 0.0], [((891, 634), (922, 656)), 0.0], [((1188, 481), (1228, 521)), 0.0], [((171, 472), (202, 512)), 0.0], [((630, 607), (634, 629)), 1], [((342, 445), (346, 476)), 1], [((1026, 445), (1030, 476)), 0.0]]\n",
      "[[((162, 472), (166, 494)), 2.0], [((18, 427), (40, 458)), 1.0], [((1071, 409), (1120, 494)), 317.0], [((324, 418), (328, 449)), 1.0], [((540, 481), (562, 512)), 1.0], [((585, 625), (616, 638)), 1.0], [((1224, 481), (1255, 501)), 2.0], [((693, 553), (724, 566)), 0.0], [((891, 634), (922, 656)), 0.0], [((1188, 481), (1228, 521)), 0.0], [((171, 472), (202, 512)), 0.0], [((630, 607), (634, 629)), 1], [((342, 445), (346, 476)), 1], [((1026, 445), (1030, 476)), 0.0]]\n"
     ]
    },
    {
     "name": "stderr",
     "output_type": "stream",
     "text": [
      "\u001b[A\u001b[A\u001b[A\n",
      "\n",
      "\n",
      " 13%|█▎        | 151/1136 [01:50<03:26,  4.76it/s]\u001b[A\u001b[A\u001b[A\n",
      "\n",
      "\n",
      " 14%|█▎        | 154/1136 [01:50<02:39,  6.17it/s]"
     ]
    },
    {
     "name": "stdout",
     "output_type": "stream",
     "text": [
      "[[((19, 490), (40, 501)), 3.0], [((18, 427), (40, 458)), 1.0], [((1045, 400), (1120, 494)), 319.0], [((324, 418), (328, 449)), 1.0], [((540, 481), (562, 512)), 1.0], [((585, 625), (616, 638)), 1.0], [((1224, 481), (1255, 501)), 0.0], [((693, 553), (724, 566)), 0.0], [((891, 634), (922, 656)), 0.0], [((1188, 481), (1228, 521)), 0.0], [((171, 472), (202, 512)), 0.0], [((630, 607), (634, 629)), 1], [((342, 445), (346, 476)), 1], [((1026, 445), (1030, 476)), 0.0]]\n",
      "[[((27, 445), (76, 476)), 1.0], [((18, 427), (40, 458)), 1.0], [((1035, 409), (1120, 485)), 321.0], [((324, 418), (328, 449)), 1.0], [((540, 481), (562, 512)), 1.0], [((585, 625), (616, 638)), 1.0], [((1224, 481), (1255, 501)), 3.0], [((693, 553), (724, 566)), 0.0], [((891, 634), (922, 656)), 0.0], [((1188, 481), (1228, 521)), 0.0], [((171, 472), (202, 512)), 0.0], [((630, 607), (634, 629)), 1], [((342, 445), (346, 476)), 1], [((1026, 445), (1030, 476)), 0.0]]\n",
      "[[((27, 445), (76, 476)), 1.0], [((18, 427), (40, 458)), 1.0], [((1045, 409), (1120, 494)), 323.0], [((324, 418), (328, 449)), 1.0], [((540, 481), (562, 512)), 1.0], [((585, 625), (616, 638)), 1.0], [((1170, 481), (1210, 520)), 4.0], [((693, 553), (724, 566)), 0.0], [((891, 634), (922, 656)), 1.0], [((1188, 481), (1228, 521)), 0.0], [((171, 472), (202, 512)), 0.0], [((630, 607), (634, 629)), 1], [((342, 445), (346, 476)), 1], [((1026, 445), (1030, 476)), 0.0]]\n",
      "[[((27, 445), (76, 476)), 1.0], [((18, 427), (40, 458)), 1.0], [((1045, 409), (1120, 485)), 325.0], [((324, 418), (328, 449)), 1.0], [((540, 481), (562, 512)), 1.0], [((585, 625), (616, 638)), 1.0], [((1197, 490), (1228, 512)), 5.0], [((693, 553), (724, 566)), 0.0], [((810, 598), (841, 638)), 1.0], [((1188, 481), (1228, 521)), 0.0], [((171, 472), (202, 512)), 0.0], [((630, 607), (634, 629)), 1], [((342, 445), (346, 476)), 1], [((1026, 445), (1030, 476)), 0.0]]\n",
      "[[((27, 445), (76, 476)), 1.0], [((18, 427), (40, 458)), 1.0], [((1045, 409), (1108, 503)), 327.0], [((324, 418), (328, 449)), 1.0], [((540, 481), (562, 512)), 1.0], [((585, 625), (616, 638)), 2.0], [((1170, 481), (1203, 520)), 6.0], [((693, 553), (724, 566)), 0.0], [((810, 598), (841, 638)), 1.0], [((1188, 481), (1228, 521)), 0.0], [((171, 472), (202, 512)), 0.0], [((630, 607), (634, 629)), 1], [((342, 445), (346, 476)), 1], [((1026, 445), (1030, 476)), 0.0]]\n",
      "[[((27, 445), (76, 476)), 1.0], [((18, 427), (40, 458)), 1.0], [((1026, 409), (1120, 501)), 330.0], [((324, 418), (328, 449)), 1.0], [((540, 481), (562, 512)), 1.0], [((630, 562), (652, 593)), 3.0], [((1179, 481), (1210, 512)), 7.0], [((693, 553), (724, 566)), 0.0], [((810, 598), (841, 638)), 1.0], [((1188, 481), (1228, 521)), 0.0], [((171, 472), (202, 512)), 0.0], [((630, 607), (634, 629)), 1], [((342, 445), (346, 476)), 1], [((1026, 445), (1030, 476)), 0.0]]\n",
      "[[((27, 445), (76, 476)), 1.0], [((18, 427), (40, 458)), 1.0], [((1026, 409), (1108, 501)), 333.0], [((324, 418), (328, 449)), 1.0], [((540, 481), (562, 512)), 1.0], [((729, 598), (769, 638)), 4.0], [((1197, 481), (1228, 521)), 8.0], [((693, 553), (724, 566)), 0.0], [((810, 598), (841, 638)), 1.0], [((1188, 481), (1228, 521)), 0.0], [((171, 472), (202, 512)), 0.0], [((630, 607), (634, 629)), 1], [((342, 445), (346, 476)), 1], [((1026, 445), (1030, 476)), 0.0]]\n",
      "[[((27, 445), (76, 476)), 1.0], [((18, 427), (40, 458)), 1.0], [((1026, 409), (1108, 503)), 335.0], [((324, 418), (328, 449)), 1.0], [((540, 481), (562, 512)), 1.0], [((738, 625), (760, 638)), 2.0], [((1197, 490), (1201, 512)), 10.0], [((693, 553), (724, 566)), 0.0], [((810, 598), (841, 638)), 1.0], [((1188, 481), (1228, 521)), 0.0], [((171, 472), (202, 512)), 0.0], [((630, 607), (634, 629)), 1], [((342, 445), (346, 476)), 1], [((1026, 445), (1030, 476)), 0.0]]\n",
      "[[((27, 445), (76, 476)), 1.0], [((18, 427), (40, 458)), 1.0], [((1026, 409), (1111, 503)), 338.0], [((324, 418), (328, 449)), 1.0], [((540, 481), (562, 512)), 1.0], [((738, 625), (760, 638)), 0.0], [((1188, 490), (1192, 512)), 11.0], [((693, 553), (724, 566)), 0.0], [((810, 598), (841, 638)), 1.0], [((1188, 481), (1228, 521)), 0.0], [((171, 472), (202, 512)), 0.0], [((630, 607), (634, 629)), 1], [((342, 445), (346, 476)), 1], [((1026, 445), (1030, 476)), 0.0]]\n"
     ]
    },
    {
     "name": "stderr",
     "output_type": "stream",
     "text": [
      "\u001b[A\u001b[A\u001b[A"
     ]
    },
    {
     "name": "stdout",
     "output_type": "stream",
     "text": [
      "[[((27, 445), (76, 476)), 1.0], [((18, 427), (40, 458)), 1.0], [((1026, 409), (1111, 503)), 341.0], [((324, 418), (328, 449)), 1.0], [((540, 481), (562, 512)), 1.0], [((738, 625), (760, 638)), 0.0], [((1170, 457), (1241, 520)), 12.0], [((693, 553), (724, 566)), 0.0], [((810, 598), (841, 638)), 1.0], [((1188, 481), (1228, 521)), 0.0], [((171, 472), (202, 512)), 0.0], [((630, 607), (634, 629)), 1], [((342, 445), (346, 476)), 1], [((1026, 445), (1030, 476)), 0.0]]\n",
      "[[((27, 445), (76, 476)), 1.0], [((18, 427), (40, 458)), 1.0], [((1026, 400), (1108, 503)), 343.0], [((324, 418), (328, 449)), 1.0], [((540, 481), (562, 512)), 1.0], [((738, 625), (760, 638)), 0.0], [((1188, 481), (1219, 501)), 13.0], [((693, 553), (724, 566)), 0.0], [((810, 598), (841, 638)), 1.0], [((1188, 481), (1228, 521)), 0.0], [((171, 472), (202, 512)), 0.0], [((630, 607), (634, 629)), 1], [((342, 445), (346, 476)), 1], [((1026, 445), (1030, 476)), 0.0]]\n",
      "[[((27, 445), (76, 476)), 1.0], [((18, 427), (40, 458)), 1.0], [((1026, 409), (1111, 494)), 345.0], [((324, 418), (328, 449)), 1.0], [((540, 481), (562, 512)), 1.0], [((738, 625), (760, 638)), 0.0], [((1215, 481), (1219, 485)), 11.0], [((693, 553), (724, 566)), 0.0], [((810, 598), (841, 638)), 1.0], [((1188, 481), (1228, 521)), 0.0], [((171, 472), (202, 512)), 0.0], [((630, 607), (634, 629)), 1], [((342, 445), (346, 476)), 1], [((1026, 445), (1030, 476)), 0.0]]\n",
      "[[((27, 445), (76, 476)), 1.0], [((18, 427), (40, 458)), 1.0], [((1125, 400), (1237, 512)), 349.0], [((324, 418), (328, 449)), 1.0], [((540, 481), (562, 512)), 1.0], [((738, 625), (760, 638)), 0.0], [((1215, 481), (1219, 485)), 9.0], [((693, 553), (724, 566)), 0.0], [((810, 598), (841, 638)), 1.0], [((1188, 481), (1228, 521)), 0.0], [((171, 472), (202, 512)), 0.0], [((630, 607), (634, 629)), 1], [((342, 445), (346, 476)), 1], [((1026, 445), (1030, 476)), 0.0]]\n"
     ]
    },
    {
     "name": "stderr",
     "output_type": "stream",
     "text": [
      "\n",
      "\n",
      "\n",
      "\r",
      " 14%|█▍        | 163/1136 [01:51<02:13,  7.30it/s]"
     ]
    },
    {
     "name": "stdout",
     "output_type": "stream",
     "text": [
      "[[((27, 445), (76, 476)), 1.0], [((18, 427), (40, 458)), 1.0], [((1026, 400), (1108, 501)), 351.0], [((324, 418), (328, 449)), 1.0], [((540, 481), (562, 512)), 1.0], [((738, 625), (760, 638)), 0.0], [((1215, 481), (1219, 485)), 10.0], [((693, 553), (724, 566)), 0.0], [((810, 598), (841, 638)), 1.0], [((1188, 481), (1228, 521)), 0.0], [((171, 472), (202, 512)), 0.0], [((630, 607), (634, 629)), 1], [((342, 445), (346, 476)), 1], [((1026, 445), (1030, 476)), 0.0]]\n",
      "[[((27, 445), (76, 476)), 1.0], [((18, 427), (40, 458)), 1.0], [((1026, 409), (1111, 501)), 355.0], [((324, 418), (328, 449)), 1.0], [((540, 481), (562, 512)), 1.0], [((738, 625), (760, 638)), 0.0], [((1161, 481), (1222, 520)), 8.0], [((693, 553), (724, 566)), 0.0], [((810, 598), (841, 638)), 1.0], [((1188, 481), (1228, 521)), 0.0], [((171, 472), (202, 512)), 0.0], [((630, 607), (634, 629)), 1], [((342, 445), (346, 476)), 1], [((1026, 445), (1030, 476)), 0.0]]\n",
      "[[((27, 445), (76, 476)), 1.0], [((18, 427), (40, 458)), 1.0], [((1026, 409), (1111, 503)), 357.0], [((324, 418), (328, 449)), 1.0], [((540, 481), (562, 512)), 1.0], [((738, 625), (760, 638)), 0.0], [((1161, 481), (1222, 520)), 6.0], [((693, 553), (724, 566)), 0.0], [((810, 598), (841, 638)), 1.0], [((1188, 481), (1228, 521)), 0.0], [((171, 472), (202, 512)), 0.0], [((630, 607), (634, 629)), 1], [((342, 445), (346, 476)), 1], [((1026, 445), (1030, 476)), 0.0]]\n"
     ]
    },
    {
     "name": "stderr",
     "output_type": "stream",
     "text": [
      "\u001b[A\u001b[A\u001b[A\n",
      "\n",
      "\n",
      " 15%|█▍        | 166/1136 [01:51<02:00,  8.02it/s]"
     ]
    },
    {
     "name": "stdout",
     "output_type": "stream",
     "text": [
      "[[((27, 445), (76, 476)), 1.0], [((18, 427), (40, 458)), 1.0], [((1116, 400), (1241, 520)), 359.0], [((324, 418), (328, 449)), 1.0], [((540, 481), (562, 512)), 1.0], [((738, 625), (760, 638)), 0.0], [((1161, 481), (1222, 520)), 4.0], [((693, 553), (724, 566)), 0.0], [((810, 598), (841, 638)), 1.0], [((1188, 481), (1228, 521)), 0.0], [((171, 472), (202, 512)), 0.0], [((630, 607), (634, 629)), 1], [((342, 445), (346, 476)), 1], [((1026, 445), (1030, 476)), 0.0]]\n",
      "[[((27, 445), (76, 476)), 1.0], [((18, 427), (40, 458)), 1.0], [((1116, 400), (1241, 512)), 364.0], [((324, 418), (328, 449)), 1.0], [((540, 481), (562, 512)), 1.0], [((738, 625), (760, 638)), 0.0], [((1161, 481), (1222, 520)), 2.0], [((693, 553), (724, 566)), 0.0], [((810, 598), (841, 638)), 1.0], [((1188, 481), (1228, 521)), 0.0], [((171, 472), (202, 512)), 0.0], [((630, 607), (634, 629)), 1], [((342, 445), (346, 476)), 1], [((1026, 445), (1030, 476)), 0.0]]\n"
     ]
    },
    {
     "name": "stderr",
     "output_type": "stream",
     "text": [
      "\u001b[A\u001b[A\u001b[A\n",
      "\n",
      "\n",
      " 15%|█▍        | 168/1136 [01:53<05:03,  3.19it/s]\u001b[A\u001b[A\u001b[A\n",
      "\n",
      "\n",
      " 16%|█▌        | 180/1136 [01:53<03:32,  4.51it/s]"
     ]
    },
    {
     "name": "stdout",
     "output_type": "stream",
     "text": [
      "[[((27, 445), (76, 476)), 1.0], [((18, 427), (40, 458)), 1.0], [((1026, 409), (1093, 503)), 365.0], [((324, 418), (328, 449)), 1.0], [((540, 481), (562, 512)), 1.0], [((738, 625), (760, 638)), 0.0], [((1161, 481), (1222, 520)), 3.0], [((693, 553), (724, 566)), 0.0], [((810, 598), (841, 638)), 1.0], [((1188, 481), (1228, 521)), 0.0], [((171, 472), (202, 512)), 0.0], [((630, 607), (634, 629)), 1], [((342, 445), (346, 476)), 1], [((1026, 445), (1030, 476)), 0.0]]\n",
      "[[((27, 445), (76, 476)), 2.0], [((18, 427), (40, 458)), 1.0], [((1026, 400), (1156, 501)), 367.0], [((324, 418), (328, 449)), 1.0], [((540, 481), (562, 512)), 1.0], [((738, 625), (760, 638)), 0.0], [((1159, 438), (1228, 512)), 1.0], [((693, 553), (724, 566)), 0.0], [((810, 598), (841, 638)), 1.0], [((1188, 481), (1228, 521)), 0.0], [((171, 472), (202, 512)), 0.0], [((630, 607), (634, 629)), 1], [((342, 445), (346, 476)), 1], [((1026, 445), (1030, 476)), 0.0]]\n",
      "[[((54, 436), (76, 467)), 0.0], [((18, 427), (40, 458)), 1.0], [((1026, 400), (1156, 503)), 370.0], [((324, 418), (328, 449)), 1.0], [((540, 481), (562, 512)), 1.0], [((738, 625), (760, 638)), 0.0], [((1159, 438), (1228, 512)), 1.0], [((693, 553), (724, 566)), 0.0], [((810, 598), (841, 638)), 1.0], [((1188, 481), (1228, 521)), 0.0], [((171, 472), (202, 512)), 0.0], [((630, 607), (634, 629)), 1], [((342, 445), (346, 476)), 1], [((1026, 445), (1030, 476)), 0.0]]\n",
      "[[((54, 436), (76, 467)), 0.0], [((18, 427), (40, 458)), 1.0], [((1044, 409), (1108, 503)), 374.0], [((324, 418), (328, 449)), 1.0], [((540, 481), (562, 512)), 1.0], [((738, 625), (760, 638)), 0.0], [((1159, 438), (1228, 512)), 1.0], [((693, 553), (724, 566)), 0.0], [((810, 598), (841, 638)), 1.0], [((1188, 481), (1228, 521)), 0.0], [((171, 472), (202, 512)), 0.0], [((630, 607), (634, 629)), 1], [((342, 445), (346, 476)), 1], [((1026, 445), (1030, 476)), 0.0]]\n",
      "[[((54, 436), (76, 467)), 0.0], [((18, 427), (40, 458)), 1.0], [((1026, 409), (1102, 503)), 377.0], [((324, 418), (328, 449)), 1.0], [((540, 481), (562, 512)), 1.0], [((738, 625), (760, 638)), 0.0], [((1159, 438), (1228, 512)), 1.0], [((693, 553), (724, 566)), 0.0], [((810, 598), (841, 638)), 1.0], [((1188, 481), (1228, 521)), 0.0], [((171, 472), (202, 512)), 0.0], [((630, 607), (634, 629)), 1], [((342, 445), (346, 476)), 1], [((1026, 445), (1030, 476)), 0.0]]\n",
      "[[((54, 436), (76, 467)), 0.0], [((18, 427), (40, 458)), 1.0], [((1026, 409), (1102, 503)), 378.0], [((324, 418), (328, 449)), 1.0], [((540, 481), (562, 512)), 1.0], [((738, 625), (760, 638)), 0.0], [((1159, 438), (1228, 512)), 2.0], [((693, 553), (724, 566)), 0.0], [((810, 598), (841, 638)), 1.0], [((1188, 481), (1228, 521)), 0.0], [((171, 472), (202, 512)), 0.0], [((630, 607), (634, 629)), 1], [((342, 445), (346, 476)), 1], [((1026, 445), (1030, 476)), 0.0]]\n",
      "[[((54, 436), (76, 467)), 0.0], [((18, 427), (40, 458)), 1.0], [((1026, 409), (1174, 503)), 382.0], [((324, 418), (328, 449)), 1.0], [((540, 481), (562, 512)), 1.0], [((738, 625), (760, 638)), 0.0], [((1179, 445), (1222, 501)), 0.0], [((693, 553), (724, 566)), 0.0], [((810, 598), (841, 638)), 1.0], [((1188, 481), (1228, 521)), 0.0], [((171, 472), (202, 512)), 0.0], [((630, 607), (634, 629)), 1], [((342, 445), (346, 476)), 1], [((1026, 445), (1030, 476)), 0.0]]\n",
      "[[((54, 436), (76, 467)), 0.0], [((18, 427), (40, 458)), 1.0], [((1107, 400), (1210, 494)), 384.0], [((324, 418), (328, 449)), 1.0], [((540, 481), (562, 512)), 1.0], [((738, 625), (760, 638)), 0.0], [((1179, 445), (1222, 501)), 0.0], [((693, 553), (724, 566)), 0.0], [((810, 598), (841, 638)), 1.0], [((1188, 481), (1228, 521)), 0.0], [((171, 472), (202, 512)), 0.0], [((630, 607), (634, 629)), 1], [((342, 445), (346, 476)), 1], [((1026, 445), (1030, 476)), 0.0]]\n",
      "[[((54, 436), (76, 467)), 0.0], [((18, 427), (40, 458)), 1.0], [((1026, 409), (1089, 501)), 386.0], [((324, 418), (328, 449)), 1.0], [((540, 481), (562, 512)), 1.0], [((738, 625), (760, 638)), 0.0], [((1179, 445), (1222, 501)), 1.0], [((693, 553), (724, 566)), 0.0], [((810, 598), (841, 638)), 1.0], [((1188, 481), (1228, 521)), 0.0], [((171, 472), (202, 512)), 0.0], [((630, 607), (634, 629)), 1], [((342, 445), (346, 476)), 1], [((1026, 445), (1030, 476)), 0.0]]\n",
      "[[((54, 436), (76, 467)), 0.0], [((18, 427), (40, 458)), 1.0], [((1026, 409), (1089, 476)), 390.0], [((324, 418), (328, 449)), 1.0], [((540, 481), (562, 512)), 1.0], [((738, 625), (760, 638)), 0.0], [((1170, 472), (1222, 512)), 2.0], [((693, 553), (724, 566)), 0.0], [((810, 598), (841, 638)), 1.0], [((1188, 481), (1228, 521)), 0.0], [((171, 472), (202, 512)), 0.0], [((630, 607), (634, 629)), 1], [((342, 445), (346, 476)), 1], [((1026, 445), (1030, 476)), 0.0]]\n",
      "[[((54, 436), (76, 467)), 0.0], [((18, 427), (40, 458)), 1.0], [((1107, 427), (1129, 458)), 395.0], [((324, 418), (328, 449)), 2.0], [((540, 481), (562, 512)), 1.0], [((738, 625), (760, 638)), 0.0], [((1152, 481), (1174, 512)), 0.0], [((693, 553), (724, 566)), 0.0], [((810, 598), (841, 638)), 1.0], [((1188, 481), (1228, 521)), 0.0], [((171, 472), (202, 512)), 0.0], [((630, 607), (634, 629)), 1], [((342, 445), (346, 476)), 1], [((1026, 445), (1030, 476)), 0.0]]\n",
      "[[((54, 436), (76, 467)), 0.0], [((18, 427), (40, 458)), 1.0], [((1007, 419), (1089, 501)), 396.0], [((315, 418), (319, 431)), 0.0], [((540, 481), (562, 512)), 2.0], [((738, 625), (760, 638)), 0.0], [((1152, 481), (1174, 512)), 1.0], [((693, 553), (724, 566)), 0.0], [((810, 598), (841, 638)), 1.0], [((1188, 481), (1228, 521)), 0.0], [((171, 472), (202, 512)), 0.0], [((630, 607), (634, 629)), 1], [((342, 445), (346, 476)), 1], [((1026, 445), (1030, 476)), 0.0]]\n",
      "[[((54, 436), (76, 467)), 0.0], [((18, 427), (40, 458)), 1.0], [((1007, 400), (1138, 501)), 397.0], [((315, 418), (319, 431)), 0.0], [((666, 490), (697, 512)), 0.0], [((738, 625), (760, 638)), 0.0], [((1170, 481), (1201, 501)), 2.0], [((693, 553), (724, 566)), 0.0], [((810, 598), (841, 638)), 1.0], [((1188, 481), (1228, 521)), 0.0], [((171, 472), (202, 512)), 0.0], [((630, 607), (634, 629)), 1], [((342, 445), (346, 476)), 1], [((1026, 445), (1030, 476)), 0.0]]\n",
      "[[((54, 436), (76, 467)), 1.0], [((18, 427), (40, 458)), 1.0], [((1007, 409), (1089, 501)), 399.0], [((315, 418), (319, 431)), 0.0], [((666, 490), (697, 512)), 0.0], [((738, 625), (760, 638)), 0.0], [((1170, 481), (1201, 494)), 3.0], [((693, 553), (724, 566)), 0.0], [((810, 598), (841, 638)), 1.0], [((1188, 481), (1228, 521)), 0.0], [((171, 472), (202, 512)), 0.0], [((630, 607), (634, 629)), 1], [((342, 445), (346, 476)), 1], [((1026, 445), (1030, 476)), 0.0]]\n",
      "[[((126, 427), (148, 458)), 2.0], [((18, 427), (40, 458)), 1.0], [((1007, 400), (1146, 501)), 402.0], [((315, 418), (319, 431)), 0.0], [((666, 490), (697, 512)), 0.0], [((738, 625), (760, 638)), 0.0], [((1170, 463), (1219, 512)), 1.0], [((693, 553), (724, 566)), 0.0], [((810, 598), (841, 638)), 1.0], [((1188, 481), (1228, 521)), 0.0], [((171, 472), (202, 512)), 0.0], [((630, 607), (634, 629)), 1], [((342, 445), (346, 476)), 1], [((1026, 445), (1030, 476)), 0.0]]\n",
      "[[((135, 427), (139, 458)), 0.0], [((18, 427), (40, 458)), 1.0], [((1007, 400), (1093, 501)), 404.0], [((315, 418), (319, 431)), 0.0], [((666, 490), (697, 512)), 0.0], [((738, 625), (760, 638)), 0.0], [((1170, 463), (1219, 512)), 2.0], [((693, 553), (724, 566)), 0.0], [((810, 598), (841, 638)), 1.0], [((1188, 481), (1228, 521)), 0.0], [((171, 472), (202, 512)), 0.0], [((630, 607), (634, 629)), 1], [((342, 445), (346, 476)), 1], [((1026, 445), (1030, 476)), 0.0]]\n"
     ]
    },
    {
     "name": "stderr",
     "output_type": "stream",
     "text": [
      "\u001b[A\u001b[A\u001b[A\n",
      "\n",
      "\n",
      " 16%|█▋        | 185/1136 [01:54<03:37,  4.37it/s]\u001b[A\u001b[A\u001b[A\n",
      "\n",
      "\n",
      " 17%|█▋        | 195/1136 [01:54<02:34,  6.11it/s]"
     ]
    },
    {
     "name": "stdout",
     "output_type": "stream",
     "text": [
      "[[((135, 427), (139, 458)), 1.0], [((18, 427), (40, 458)), 1.0], [((1007, 400), (1146, 501)), 405.0], [((315, 418), (319, 431)), 1.0], [((666, 490), (697, 512)), 0.0], [((738, 625), (760, 638)), 0.0], [((1179, 445), (1210, 476)), 0.0], [((693, 553), (724, 566)), 0.0], [((810, 598), (841, 638)), 1.0], [((1188, 481), (1228, 521)), 0.0], [((171, 472), (202, 512)), 0.0], [((630, 607), (634, 629)), 1], [((342, 445), (346, 476)), 1], [((1026, 445), (1030, 476)), 0.0]]\n",
      "[[((99, 427), (103, 458)), 2.0], [((18, 427), (40, 458)), 1.0], [((1007, 409), (1146, 501)), 407.0], [((279, 463), (310, 494)), 1.0], [((666, 490), (697, 512)), 0.0], [((738, 625), (760, 638)), 0.0], [((1179, 445), (1210, 476)), 0.0], [((693, 553), (724, 566)), 0.0], [((810, 598), (841, 638)), 1.0], [((1188, 481), (1228, 521)), 0.0], [((171, 472), (202, 512)), 0.0], [((630, 607), (634, 629)), 1], [((342, 445), (346, 476)), 1], [((1026, 445), (1030, 476)), 0.0]]\n",
      "[[((45, 427), (112, 467)), 4.0], [((18, 427), (40, 458)), 1.0], [((1007, 409), (1146, 503)), 410.0], [((279, 463), (310, 494)), 2.0], [((666, 490), (697, 512)), 0.0], [((738, 625), (760, 638)), 0.0], [((1179, 445), (1210, 476)), 0.0], [((693, 553), (724, 566)), 0.0], [((810, 598), (841, 638)), 1.0], [((1188, 481), (1228, 521)), 0.0], [((171, 472), (202, 512)), 0.0], [((630, 607), (634, 629)), 1], [((342, 445), (346, 476)), 1], [((1026, 445), (1030, 476)), 0.0]]\n",
      "[[((27, 436), (49, 467)), 5.0], [((18, 427), (40, 458)), 1.0], [((1007, 409), (1089, 501)), 412.0], [((378, 427), (400, 458)), 0.0], [((666, 490), (697, 512)), 0.0], [((738, 625), (760, 638)), 0.0], [((1179, 445), (1210, 476)), 1.0], [((693, 553), (724, 566)), 0.0], [((810, 598), (841, 638)), 1.0], [((1188, 481), (1228, 521)), 0.0], [((171, 472), (202, 512)), 0.0], [((630, 607), (634, 629)), 1], [((342, 445), (346, 476)), 1], [((1026, 445), (1030, 476)), 0.0]]\n",
      "[[((36, 436), (67, 458)), 6.0], [((18, 427), (40, 458)), 1.0], [((1007, 418), (1089, 501)), 415.0], [((378, 427), (400, 458)), 1.0], [((666, 490), (697, 512)), 0.0], [((738, 625), (760, 638)), 0.0], [((1161, 481), (1203, 512)), 3.0], [((693, 553), (724, 566)), 0.0], [((810, 598), (841, 638)), 1.0], [((1188, 481), (1228, 521)), 0.0], [((171, 472), (202, 512)), 0.0], [((630, 607), (634, 629)), 1], [((342, 445), (346, 476)), 1], [((1026, 445), (1030, 476)), 0.0]]\n",
      "[[((9, 436), (40, 467)), 4.0], [((18, 427), (40, 458)), 1.0], [((1007, 409), (1089, 501)), 417.0], [((378, 445), (400, 458)), 1.0], [((666, 490), (697, 512)), 0.0], [((738, 625), (760, 638)), 0.0], [((1161, 481), (1165, 512)), 4.0], [((693, 553), (724, 566)), 0.0], [((810, 598), (841, 638)), 1.0], [((1188, 481), (1228, 521)), 0.0], [((171, 472), (202, 512)), 0.0], [((630, 607), (634, 629)), 1], [((342, 445), (346, 476)), 1], [((1026, 445), (1030, 476)), 0.0]]\n",
      "[[((9, 436), (40, 467)), 2.0], [((18, 427), (40, 458)), 1.0], [((1007, 409), (1089, 501)), 420.0], [((378, 445), (400, 458)), 1.0], [((666, 490), (697, 512)), 0.0], [((738, 625), (760, 638)), 0.0], [((1140, 481), (1203, 512)), 5.0], [((693, 553), (724, 566)), 0.0], [((810, 598), (841, 638)), 1.0], [((1188, 481), (1228, 521)), 0.0], [((171, 472), (202, 512)), 0.0], [((630, 607), (634, 629)), 1], [((342, 445), (346, 476)), 1], [((1026, 445), (1030, 476)), 0.0]]\n",
      "[[((9, 436), (40, 467)), 0.0], [((18, 427), (40, 458)), 1.0], [((1007, 409), (1084, 501)), 423.0], [((378, 445), (400, 458)), 1.0], [((666, 490), (697, 512)), 0.0], [((738, 625), (760, 638)), 0.0], [((1140, 481), (1174, 512)), 7.0], [((693, 553), (724, 566)), 0.0], [((810, 598), (841, 638)), 1.0], [((1188, 481), (1228, 521)), 0.0], [((171, 472), (202, 512)), 0.0], [((630, 607), (634, 629)), 1], [((342, 445), (346, 476)), 1], [((1026, 445), (1030, 476)), 0.0]]\n",
      "[[((9, 436), (40, 467)), 0.0], [((18, 427), (40, 458)), 1.0], [((1007, 409), (1084, 503)), 425.0], [((378, 445), (400, 458)), 1.0], [((666, 490), (697, 512)), 0.0], [((738, 625), (760, 638)), 0.0], [((1140, 481), (1192, 512)), 5.0], [((693, 553), (724, 566)), 0.0], [((810, 598), (841, 638)), 1.0], [((1188, 481), (1228, 521)), 0.0], [((171, 472), (202, 512)), 0.0], [((630, 607), (634, 629)), 1], [((342, 445), (346, 476)), 1], [((1026, 445), (1030, 476)), 0.0]]\n",
      "[[((9, 436), (40, 467)), 1.0], [((18, 427), (40, 458)), 1.0], [((1007, 409), (1089, 501)), 427.0], [((378, 445), (400, 458)), 1.0], [((666, 490), (697, 512)), 0.0], [((738, 625), (760, 638)), 0.0], [((1140, 481), (1192, 512)), 3.0], [((693, 553), (724, 566)), 0.0], [((810, 598), (841, 638)), 1.0], [((1188, 481), (1228, 521)), 0.0], [((171, 472), (202, 512)), 0.0], [((630, 607), (634, 629)), 1], [((342, 445), (346, 476)), 1], [((1026, 445), (1030, 476)), 0.0]]\n",
      "[[((54, 436), (76, 467)), 1.0], [((18, 427), (40, 458)), 1.0], [((1007, 418), (1102, 501)), 429.0], [((378, 445), (400, 458)), 1.0], [((666, 490), (697, 512)), 0.0], [((738, 625), (760, 638)), 0.0], [((1140, 481), (1192, 512)), 1.0], [((693, 553), (724, 566)), 0.0], [((810, 598), (841, 638)), 1.0], [((1188, 481), (1228, 521)), 0.0], [((171, 472), (202, 512)), 0.0], [((630, 607), (634, 629)), 1], [((342, 445), (346, 476)), 1], [((1026, 445), (1030, 476)), 0.0]]\n",
      "[[((54, 436), (76, 467)), 1.0], [((18, 427), (40, 458)), 1.0], [((1007, 409), (1120, 503)), 431.0], [((378, 445), (400, 458)), 1.0], [((666, 490), (697, 512)), 0.0], [((738, 625), (760, 638)), 0.0], [((1140, 481), (1192, 512)), 1.0], [((693, 553), (724, 566)), 0.0], [((810, 598), (841, 638)), 1.0], [((1188, 481), (1228, 521)), 0.0], [((171, 472), (202, 512)), 0.0], [((630, 607), (634, 629)), 1], [((342, 445), (346, 476)), 1], [((1026, 445), (1030, 476)), 0.0]]\n",
      "[[((54, 436), (76, 467)), 1.0], [((18, 427), (40, 458)), 1.0], [((1007, 409), (1129, 501)), 433.0], [((378, 445), (400, 458)), 1.0], [((666, 490), (697, 512)), 0.0], [((738, 625), (760, 638)), 0.0], [((1140, 481), (1192, 512)), 1.0], [((693, 553), (724, 566)), 0.0], [((810, 598), (841, 638)), 1.0], [((1188, 481), (1228, 521)), 0.0], [((171, 472), (202, 512)), 0.0], [((630, 607), (634, 629)), 1], [((342, 445), (346, 476)), 1], [((1026, 445), (1030, 476)), 0.0]]\n",
      "[[((54, 436), (76, 467)), 2.0], [((18, 427), (40, 458)), 1.0], [((1007, 409), (1089, 503)), 435.0], [((378, 445), (400, 458)), 1.0], [((666, 490), (697, 512)), 0.0], [((738, 625), (760, 638)), 0.0], [((1140, 481), (1192, 512)), 1.0], [((693, 553), (724, 566)), 0.0], [((810, 598), (841, 638)), 1.0], [((1188, 481), (1228, 521)), 0.0], [((171, 472), (202, 512)), 0.0], [((630, 607), (634, 629)), 1], [((342, 445), (346, 476)), 1], [((1026, 445), (1030, 476)), 0.0]]\n",
      "[[((81, 490), (103, 521)), 0.0], [((18, 427), (40, 458)), 1.0], [((1007, 409), (1089, 501)), 439.0], [((378, 445), (400, 458)), 1.0], [((666, 490), (697, 512)), 0.0], [((738, 625), (760, 638)), 0.0], [((1140, 481), (1192, 512)), 2.0], [((693, 553), (724, 566)), 0.0], [((810, 598), (841, 638)), 1.0], [((1188, 481), (1228, 521)), 0.0], [((171, 472), (202, 512)), 1.0], [((630, 607), (634, 629)), 1], [((342, 445), (346, 476)), 1], [((1026, 445), (1030, 476)), 0.0]]\n",
      "[[((81, 490), (103, 521)), 0.0], [((18, 427), (40, 458)), 1.0], [((1007, 418), (1084, 494)), 442.0], [((378, 445), (400, 458)), 1.0], [((666, 490), (697, 512)), 0.0], [((738, 625), (760, 638)), 0.0], [((1179, 481), (1184, 482)), 0.0], [((693, 553), (724, 566)), 0.0], [((810, 598), (841, 638)), 1.0], [((1188, 481), (1228, 521)), 0.0], [((225, 481), (256, 503)), 1.0], [((630, 607), (634, 629)), 1], [((342, 445), (346, 476)), 1], [((1026, 445), (1030, 476)), 0.0]]\n"
     ]
    },
    {
     "name": "stderr",
     "output_type": "stream",
     "text": [
      "\u001b[A\u001b[A\u001b[A\n",
      "\n",
      "\n",
      " 18%|█▊        | 202/1136 [01:54<01:51,  8.37it/s]\u001b[A\u001b[A\u001b[A"
     ]
    },
    {
     "name": "stdout",
     "output_type": "stream",
     "text": [
      "[[((81, 490), (103, 521)), 0.0], [((18, 427), (40, 458)), 1.0], [((1007, 418), (1084, 494)), 443.0], [((378, 445), (400, 458)), 1.0], [((666, 490), (697, 512)), 0.0], [((738, 625), (760, 638)), 0.0], [((1179, 481), (1184, 482)), 0.0], [((693, 553), (724, 566)), 0.0], [((810, 598), (841, 638)), 1.0], [((1188, 481), (1228, 521)), 0.0], [((225, 481), (256, 503)), 1.0], [((630, 607), (634, 629)), 1], [((342, 445), (346, 476)), 1], [((1026, 445), (1030, 476)), 0.0]]\n",
      "[[((81, 490), (103, 521)), 0.0], [((18, 427), (40, 458)), 1.0], [((1007, 418), (1174, 512)), 445.0], [((378, 445), (400, 458)), 1.0], [((666, 490), (697, 512)), 0.0], [((738, 625), (760, 638)), 0.0], [((1179, 481), (1184, 482)), 0.0], [((693, 553), (724, 566)), 0.0], [((810, 598), (841, 638)), 1.0], [((1188, 481), (1228, 521)), 0.0], [((225, 481), (256, 503)), 1.0], [((630, 607), (634, 629)), 1], [((342, 445), (346, 476)), 1], [((1026, 445), (1030, 476)), 0.0]]\n",
      "[[((81, 490), (103, 521)), 0.0], [((18, 427), (40, 458)), 1.0], [((1007, 409), (1120, 494)), 446.0], [((378, 445), (400, 458)), 1.0], [((666, 490), (697, 512)), 0.0], [((738, 625), (760, 638)), 0.0], [((1179, 481), (1184, 482)), 0.0], [((693, 553), (724, 566)), 0.0], [((810, 598), (841, 638)), 1.0], [((1188, 481), (1228, 521)), 0.0], [((225, 481), (256, 503)), 1.0], [((630, 607), (634, 629)), 1], [((342, 445), (346, 476)), 1], [((1026, 445), (1030, 476)), 0.0]]\n",
      "[[((81, 490), (103, 521)), 0.0], [((18, 427), (40, 458)), 1.0], [((1007, 419), (1174, 512)), 448.0], [((378, 445), (400, 458)), 1.0], [((666, 490), (697, 512)), 0.0], [((738, 625), (760, 638)), 0.0], [((1179, 481), (1184, 482)), 0.0], [((693, 553), (724, 566)), 0.0], [((810, 598), (841, 638)), 1.0], [((1188, 481), (1228, 521)), 0.0], [((225, 481), (256, 503)), 1.0], [((630, 607), (634, 629)), 1], [((342, 445), (346, 476)), 1], [((1026, 445), (1030, 476)), 0.0]]\n",
      "[[((81, 490), (103, 521)), 0.0], [((18, 427), (40, 458)), 1.0], [((1007, 409), (1075, 494)), 450.0], [((378, 445), (400, 458)), 1.0], [((666, 490), (697, 512)), 0.0], [((738, 625), (760, 638)), 0.0], [((1179, 481), (1184, 482)), 0.0], [((693, 553), (724, 566)), 0.0], [((810, 598), (841, 638)), 1.0], [((1188, 481), (1228, 521)), 0.0], [((225, 481), (256, 503)), 1.0], [((630, 607), (634, 629)), 1], [((342, 445), (346, 476)), 1], [((1026, 445), (1030, 476)), 0.0]]\n",
      "[[((81, 490), (103, 521)), 1.0], [((18, 427), (40, 458)), 1.0], [((1007, 409), (1070, 494)), 452.0], [((378, 445), (400, 458)), 1.0], [((666, 490), (697, 512)), 1.0], [((738, 625), (760, 638)), 0.0], [((1179, 481), (1184, 482)), 0.0], [((693, 553), (724, 566)), 0.0], [((810, 598), (841, 638)), 1.0], [((1188, 481), (1228, 521)), 0.0], [((225, 481), (256, 503)), 1.0], [((630, 607), (634, 629)), 1], [((342, 445), (346, 476)), 1], [((1026, 445), (1030, 476)), 0.0]]\n",
      "[[((171, 499), (202, 512)), 1.0], [((18, 427), (40, 458)), 1.0], [((1102, 427), (1184, 501)), 454.0], [((378, 445), (400, 458)), 1.0], [((747, 508), (760, 530)), 1.0], [((738, 625), (760, 638)), 0.0], [((1179, 481), (1184, 482)), 0.0], [((693, 553), (724, 566)), 0.0], [((810, 598), (841, 638)), 1.0], [((1188, 481), (1228, 521)), 0.0], [((225, 481), (256, 503)), 1.0], [((630, 607), (634, 629)), 1], [((342, 445), (346, 476)), 1], [((1026, 445), (1030, 476)), 0.0]]\n"
     ]
    },
    {
     "name": "stderr",
     "output_type": "stream",
     "text": [
      "\n",
      "\n",
      "\n",
      "\r",
      " 18%|█▊        | 208/1136 [01:54<01:28, 10.50it/s]"
     ]
    },
    {
     "name": "stdout",
     "output_type": "stream",
     "text": [
      "[[((171, 499), (202, 512)), 2.0], [((18, 427), (40, 458)), 1.0], [((1007, 419), (1075, 501)), 456.0], [((378, 445), (400, 458)), 1.0], [((747, 508), (760, 530)), 1.0], [((738, 625), (760, 638)), 0.0], [((1179, 481), (1184, 482)), 0.0], [((693, 553), (724, 566)), 0.0], [((810, 598), (841, 638)), 1.0], [((1188, 481), (1228, 521)), 0.0], [((225, 481), (256, 503)), 1.0], [((630, 607), (634, 629)), 1], [((342, 445), (346, 476)), 1], [((1026, 445), (1030, 476)), 0.0]]\n",
      "[[((171, 436), (196, 467)), 0.0], [((18, 427), (40, 458)), 1.0], [((1007, 409), (1093, 501)), 458.0], [((378, 445), (400, 458)), 1.0], [((747, 508), (760, 530)), 1.0], [((738, 625), (760, 638)), 0.0], [((1179, 481), (1184, 482)), 0.0], [((693, 553), (724, 566)), 0.0], [((810, 598), (841, 638)), 1.0], [((1188, 481), (1228, 521)), 0.0], [((225, 481), (256, 503)), 1.0], [((630, 607), (634, 629)), 1], [((342, 445), (346, 476)), 1], [((1026, 445), (1030, 476)), 0.0]]\n"
     ]
    },
    {
     "name": "stderr",
     "output_type": "stream",
     "text": [
      "\u001b[A\u001b[A\u001b[A"
     ]
    },
    {
     "name": "stdout",
     "output_type": "stream",
     "text": [
      "[[((171, 436), (196, 467)), 1.0], [((18, 427), (40, 458)), 1.0], [((1007, 409), (1075, 501)), 460.0], [((378, 445), (400, 458)), 1.0], [((747, 508), (760, 530)), 1.0], [((738, 625), (760, 638)), 0.0], [((1179, 481), (1184, 482)), 0.0], [((693, 553), (724, 566)), 0.0], [((810, 598), (841, 638)), 1.0], [((1188, 481), (1228, 521)), 0.0], [((225, 481), (256, 503)), 1.0], [((630, 607), (634, 629)), 1], [((342, 445), (346, 476)), 1], [((1026, 445), (1030, 476)), 0.0]]\n",
      "[[((135, 436), (157, 467)), 2.0], [((18, 427), (40, 458)), 1.0], [((1080, 427), (1184, 512)), 463.0], [((378, 445), (400, 458)), 1.0], [((747, 508), (760, 530)), 1.0], [((738, 625), (760, 638)), 0.0], [((1179, 481), (1184, 482)), 0.0], [((693, 553), (724, 566)), 0.0], [((810, 598), (841, 638)), 1.0], [((1188, 481), (1228, 521)), 0.0], [((225, 481), (256, 503)), 1.0], [((630, 607), (634, 629)), 1], [((342, 445), (346, 476)), 1], [((1026, 445), (1030, 476)), 0.0]]\n",
      "[[((76, 436), (139, 501)), 0.0], [((18, 427), (40, 458)), 1.0], [((988, 418), (1075, 501)), 467.0], [((378, 445), (400, 458)), 1.0], [((747, 508), (760, 530)), 1.0], [((738, 625), (760, 638)), 0.0], [((1179, 481), (1184, 482)), 0.0], [((693, 553), (724, 566)), 0.0], [((810, 598), (841, 638)), 1.0], [((1188, 481), (1228, 521)), 0.0], [((225, 481), (256, 503)), 1.0], [((630, 607), (634, 629)), 1], [((342, 445), (346, 476)), 1], [((1026, 445), (1030, 476)), 0.0]]\n",
      "[[((76, 436), (139, 501)), 0.0], [((18, 427), (40, 458)), 1.0], [((988, 419), (1070, 501)), 470.0], [((378, 445), (400, 458)), 1.0], [((747, 508), (760, 530)), 1.0], [((738, 625), (760, 638)), 0.0], [((1179, 481), (1184, 482)), 0.0], [((693, 553), (724, 566)), 0.0], [((810, 598), (841, 638)), 1.0], [((1188, 481), (1228, 521)), 0.0], [((225, 481), (256, 503)), 1.0], [((630, 607), (634, 629)), 1], [((342, 445), (346, 476)), 1], [((1026, 445), (1030, 476)), 0.0]]\n"
     ]
    },
    {
     "name": "stderr",
     "output_type": "stream",
     "text": [
      "\n",
      "\n",
      "\n",
      " 19%|█▉        | 213/1136 [01:57<03:34,  4.30it/s]\u001b[A\u001b[A\u001b[A\n",
      "\n",
      "\n",
      " 19%|█▉        | 217/1136 [01:57<02:37,  5.85it/s]"
     ]
    },
    {
     "name": "stdout",
     "output_type": "stream",
     "text": [
      "[[((76, 436), (139, 501)), 0.0], [((18, 427), (40, 458)), 1.0], [((988, 409), (1070, 501)), 471.0], [((378, 445), (400, 458)), 1.0], [((747, 508), (760, 530)), 1.0], [((738, 625), (760, 638)), 0.0], [((1179, 481), (1184, 482)), 0.0], [((693, 553), (724, 566)), 0.0], [((810, 598), (841, 638)), 1.0], [((1188, 481), (1228, 521)), 0.0], [((225, 481), (256, 503)), 1.0], [((630, 607), (634, 629)), 1], [((342, 445), (346, 476)), 1], [((1026, 445), (1030, 476)), 0.0]]\n",
      "[[((76, 436), (139, 501)), 0.0], [((18, 427), (40, 458)), 1.0], [((988, 409), (1070, 501)), 473.0], [((378, 445), (400, 458)), 1.0], [((747, 508), (760, 530)), 1.0], [((738, 625), (760, 638)), 0.0], [((1179, 481), (1184, 482)), 0.0], [((693, 553), (724, 566)), 0.0], [((810, 598), (841, 638)), 1.0], [((1188, 481), (1228, 521)), 0.0], [((225, 481), (256, 503)), 1.0], [((630, 607), (634, 629)), 1], [((342, 445), (346, 476)), 1], [((1026, 445), (1030, 476)), 0.0]]\n",
      "[[((76, 436), (139, 501)), 0.0], [((18, 427), (40, 458)), 1.0], [((988, 419), (1102, 501)), 475.0], [((378, 445), (400, 458)), 1.0], [((747, 508), (760, 530)), 1.0], [((738, 625), (760, 638)), 0.0], [((1179, 481), (1184, 482)), 0.0], [((693, 553), (724, 566)), 0.0], [((810, 598), (841, 638)), 1.0], [((1188, 481), (1228, 521)), 0.0], [((225, 481), (256, 503)), 1.0], [((630, 607), (634, 629)), 1], [((342, 445), (346, 476)), 1], [((1026, 445), (1030, 476)), 0.0]]\n",
      "[[((76, 436), (139, 501)), 0.0], [((18, 427), (40, 458)), 1.0], [((988, 418), (1089, 501)), 477.0], [((378, 445), (400, 458)), 2.0], [((747, 508), (760, 530)), 1.0], [((738, 625), (760, 638)), 0.0], [((1179, 481), (1184, 482)), 0.0], [((693, 553), (724, 566)), 0.0], [((810, 598), (841, 638)), 1.0], [((1188, 481), (1228, 521)), 0.0], [((225, 481), (256, 503)), 1.0], [((630, 607), (634, 629)), 1], [((342, 445), (346, 476)), 1], [((1026, 445), (1030, 476)), 0.0]]\n",
      "[[((76, 436), (139, 501)), 0.0], [((18, 427), (40, 458)), 1.0], [((988, 418), (1066, 494)), 479.0], [((270, 463), (301, 485)), 0.0], [((747, 508), (760, 530)), 1.0], [((738, 625), (760, 638)), 0.0], [((1179, 481), (1184, 482)), 0.0], [((693, 553), (724, 566)), 0.0], [((810, 598), (841, 638)), 1.0], [((1188, 481), (1228, 521)), 0.0], [((225, 481), (256, 503)), 1.0], [((630, 607), (634, 629)), 1], [((342, 445), (346, 476)), 1], [((1026, 445), (1030, 476)), 0.0]]\n",
      "[[((76, 436), (139, 501)), 0.0], [((18, 427), (40, 458)), 1.0], [((988, 409), (1070, 494)), 481.0], [((270, 463), (301, 485)), 0.0], [((747, 508), (760, 530)), 1.0], [((738, 625), (760, 638)), 0.0], [((1179, 481), (1184, 482)), 0.0], [((693, 553), (724, 566)), 0.0], [((810, 598), (841, 638)), 1.0], [((1188, 481), (1228, 521)), 0.0], [((225, 481), (256, 503)), 1.0], [((630, 607), (634, 629)), 1], [((342, 445), (346, 476)), 1], [((1026, 445), (1030, 476)), 0.0]]\n",
      "[[((76, 436), (139, 501)), 0.0], [((18, 427), (40, 458)), 1.0], [((1071, 427), (1174, 501)), 484.0], [((270, 463), (301, 485)), 0.0], [((747, 508), (760, 530)), 1.0], [((738, 625), (760, 638)), 0.0], [((1179, 481), (1184, 482)), 0.0], [((693, 553), (724, 566)), 0.0], [((810, 598), (841, 638)), 1.0], [((1188, 481), (1228, 521)), 0.0], [((225, 481), (256, 503)), 1.0], [((630, 607), (634, 629)), 1], [((342, 445), (346, 476)), 1], [((1026, 445), (1030, 476)), 0.0]]\n",
      "[[((76, 436), (139, 501)), 0.0], [((18, 427), (40, 458)), 1.0], [((988, 418), (1070, 482)), 485.0], [((270, 463), (301, 485)), 0.0], [((747, 508), (760, 530)), 1.0], [((738, 625), (760, 638)), 0.0], [((1179, 481), (1184, 482)), 0.0], [((693, 553), (724, 566)), 0.0], [((810, 598), (841, 638)), 1.0], [((1188, 481), (1228, 521)), 0.0], [((225, 481), (256, 503)), 1.0], [((630, 607), (634, 629)), 1], [((342, 445), (346, 476)), 1], [((1026, 445), (1030, 476)), 0.0]]\n"
     ]
    },
    {
     "name": "stderr",
     "output_type": "stream",
     "text": [
      "\u001b[A\u001b[A\u001b[A\n",
      "\n",
      "\n",
      " 19%|█▉        | 221/1136 [01:57<01:59,  7.65it/s]\u001b[A\u001b[A\u001b[A"
     ]
    },
    {
     "name": "stdout",
     "output_type": "stream",
     "text": [
      "[[((76, 436), (139, 501)), 0.0], [((18, 427), (40, 458)), 1.0], [((988, 418), (1165, 501)), 486.0], [((270, 463), (301, 485)), 0.0], [((747, 508), (760, 530)), 1.0], [((738, 625), (760, 638)), 0.0], [((1179, 481), (1184, 482)), 0.0], [((693, 553), (724, 566)), 0.0], [((810, 598), (841, 638)), 1.0], [((1188, 481), (1228, 521)), 0.0], [((225, 481), (256, 503)), 1.0], [((630, 607), (634, 629)), 1], [((342, 445), (346, 476)), 1], [((1026, 445), (1030, 476)), 0.0]]\n",
      "[[((76, 436), (139, 501)), 0.0], [((18, 427), (40, 458)), 1.0], [((988, 418), (1165, 501)), 488.0], [((270, 463), (301, 485)), 0.0], [((747, 508), (760, 530)), 1.0], [((738, 625), (760, 638)), 0.0], [((1179, 481), (1184, 482)), 0.0], [((693, 553), (724, 566)), 0.0], [((810, 598), (841, 638)), 1.0], [((1188, 481), (1228, 521)), 0.0], [((225, 481), (256, 503)), 1.0], [((630, 607), (634, 629)), 1], [((342, 445), (346, 476)), 1], [((1026, 445), (1030, 476)), 0.0]]\n",
      "[[((76, 436), (139, 501)), 0.0], [((18, 427), (40, 458)), 1.0], [((1062, 438), (1165, 501)), 491.0], [((270, 463), (301, 485)), 0.0], [((747, 508), (760, 530)), 1.0], [((738, 625), (760, 638)), 0.0], [((1179, 481), (1184, 482)), 0.0], [((693, 553), (724, 566)), 0.0], [((810, 598), (841, 638)), 1.0], [((1188, 481), (1228, 521)), 0.0], [((225, 481), (256, 503)), 1.0], [((630, 607), (634, 629)), 1], [((342, 445), (346, 476)), 1], [((1026, 445), (1030, 476)), 0.0]]\n",
      "[[((76, 436), (139, 501)), 0.0], [((18, 427), (40, 458)), 1.0], [((1083, 427), (1174, 503)), 493.0], [((270, 463), (301, 485)), 0.0], [((747, 508), (760, 530)), 1.0], [((738, 625), (760, 638)), 0.0], [((1179, 481), (1184, 482)), 0.0], [((693, 553), (724, 566)), 0.0], [((810, 598), (841, 638)), 1.0], [((1188, 481), (1228, 521)), 0.0], [((225, 481), (256, 503)), 1.0], [((630, 607), (634, 629)), 1], [((342, 445), (346, 476)), 1], [((1026, 445), (1030, 476)), 0.0]]\n",
      "[[((76, 436), (139, 501)), 0.0], [((18, 427), (40, 458)), 1.0], [((1062, 419), (1174, 501)), 495.0], [((270, 463), (301, 485)), 0.0], [((747, 508), (760, 530)), 1.0], [((738, 625), (760, 638)), 0.0], [((1179, 481), (1184, 482)), 0.0], [((693, 553), (724, 566)), 0.0], [((810, 598), (841, 638)), 1.0], [((1188, 481), (1228, 521)), 0.0], [((225, 481), (256, 503)), 1.0], [((630, 607), (634, 629)), 1], [((342, 445), (346, 476)), 1], [((1026, 445), (1030, 476)), 0.0]]\n",
      "[[((76, 436), (139, 501)), 1.0], [((18, 427), (40, 458)), 1.0], [((1062, 419), (1174, 501)), 496.0], [((270, 463), (301, 485)), 0.0], [((747, 508), (760, 530)), 1.0], [((738, 625), (760, 638)), 0.0], [((1179, 481), (1184, 482)), 0.0], [((693, 553), (724, 566)), 0.0], [((810, 598), (841, 638)), 1.0], [((1188, 481), (1228, 521)), 0.0], [((225, 481), (256, 503)), 1.0], [((630, 607), (634, 629)), 1], [((342, 445), (346, 476)), 1], [((1026, 445), (1030, 476)), 0.0]]\n"
     ]
    },
    {
     "name": "stderr",
     "output_type": "stream",
     "text": [
      "\n",
      "\n",
      "\n",
      "\r",
      " 20%|█▉        | 227/1136 [01:59<02:25,  6.25it/s]"
     ]
    },
    {
     "name": "stdout",
     "output_type": "stream",
     "text": [
      "[[((153, 490), (184, 512)), 2.0], [((18, 427), (40, 458)), 1.0], [((988, 409), (1147, 501)), 497.0], [((270, 463), (301, 485)), 0.0], [((747, 508), (760, 530)), 1.0], [((738, 625), (760, 638)), 0.0], [((1179, 481), (1184, 482)), 0.0], [((693, 553), (724, 566)), 0.0], [((810, 598), (841, 638)), 1.0], [((1188, 481), (1228, 521)), 0.0], [((225, 481), (256, 503)), 1.0], [((630, 607), (634, 629)), 1], [((342, 445), (346, 476)), 1], [((1026, 445), (1030, 476)), 0.0]]\n",
      "[[((162, 490), (184, 521)), 0.0], [((18, 427), (40, 458)), 1.0], [((988, 409), (1108, 501)), 498.0], [((270, 463), (301, 485)), 0.0], [((747, 508), (760, 530)), 1.0], [((738, 625), (760, 638)), 0.0], [((1179, 481), (1184, 482)), 0.0], [((693, 553), (724, 566)), 0.0], [((810, 598), (841, 638)), 1.0], [((1188, 481), (1228, 521)), 0.0], [((225, 481), (256, 503)), 1.0], [((630, 607), (634, 629)), 1], [((342, 445), (346, 476)), 1], [((1026, 445), (1030, 476)), 0.0]]\n",
      "[[((162, 490), (184, 521)), 0.0], [((18, 427), (40, 458)), 1.0], [((988, 418), (1057, 501)), 499.0], [((270, 463), (301, 485)), 0.0], [((747, 508), (760, 530)), 1.0], [((738, 625), (760, 638)), 0.0], [((1179, 481), (1184, 482)), 0.0], [((693, 553), (724, 566)), 0.0], [((810, 598), (841, 638)), 1.0], [((1188, 481), (1228, 521)), 0.0], [((225, 481), (256, 503)), 1.0], [((630, 607), (634, 629)), 1], [((342, 445), (346, 476)), 1], [((1026, 445), (1030, 476)), 0.0]]\n",
      "[[((162, 490), (184, 521)), 0.0], [((18, 427), (40, 458)), 1.0], [((988, 409), (1108, 501)), 501.0], [((270, 463), (301, 485)), 0.0], [((747, 508), (760, 530)), 1.0], [((738, 625), (760, 638)), 0.0], [((1179, 481), (1184, 482)), 0.0], [((693, 553), (724, 566)), 0.0], [((810, 598), (841, 638)), 1.0], [((1188, 481), (1228, 521)), 0.0], [((225, 481), (256, 503)), 1.0], [((630, 607), (634, 629)), 1], [((342, 445), (346, 476)), 1], [((1026, 445), (1030, 476)), 0.0]]\n",
      "[[((162, 490), (184, 521)), 0.0], [((18, 427), (40, 458)), 1.0], [((988, 409), (1108, 501)), 503.0], [((270, 463), (301, 485)), 0.0], [((747, 508), (760, 530)), 1.0], [((738, 625), (760, 638)), 0.0], [((1179, 481), (1184, 482)), 0.0], [((693, 553), (724, 566)), 0.0], [((810, 598), (841, 638)), 2.0], [((1188, 481), (1228, 521)), 0.0], [((225, 481), (256, 503)), 1.0], [((630, 607), (634, 629)), 1], [((342, 445), (346, 476)), 1], [((1026, 445), (1030, 476)), 0.0], [((54, 562), (76, 593)), 1]]\n",
      "[[((162, 490), (184, 521)), 1.0], [((18, 427), (40, 458)), 1.0], [((1064, 438), (1138, 501)), 506.0], [((270, 463), (301, 485)), 0.0], [((747, 508), (760, 530)), 1.0], [((738, 625), (760, 638)), 0.0], [((1179, 481), (1184, 482)), 0.0], [((693, 553), (724, 566)), 0.0], [((918, 598), (949, 620)), 0.0], [((1188, 481), (1228, 521)), 0.0], [((225, 481), (256, 503)), 1.0], [((630, 607), (634, 629)), 1], [((342, 445), (346, 476)), 1], [((1026, 445), (1030, 476)), 0.0], [((54, 562), (76, 593)), 1]]\n"
     ]
    },
    {
     "name": "stderr",
     "output_type": "stream",
     "text": [
      "\u001b[A\u001b[A\u001b[A\n",
      "\n",
      "\n",
      " 21%|██        | 233/1136 [02:01<03:09,  4.77it/s]"
     ]
    },
    {
     "name": "stdout",
     "output_type": "stream",
     "text": [
      "[[((63, 445), (94, 476)), 1.0], [((18, 427), (40, 458)), 1.0], [((988, 409), (1051, 485)), 507.0], [((270, 463), (301, 485)), 0.0], [((747, 508), (760, 530)), 1.0], [((738, 625), (760, 638)), 0.0], [((1179, 481), (1184, 482)), 0.0], [((693, 553), (724, 566)), 0.0], [((918, 598), (949, 620)), 0.0], [((1188, 481), (1228, 521)), 0.0], [((225, 481), (256, 503)), 1.0], [((630, 607), (634, 629)), 1], [((342, 445), (346, 476)), 1], [((1026, 445), (1030, 476)), 0.0], [((54, 562), (76, 593)), 1]]\n",
      "[[((63, 445), (94, 476)), 2.0], [((18, 427), (40, 458)), 1.0], [((990, 418), (1048, 485)), 510.0], [((270, 463), (301, 485)), 0.0], [((747, 508), (760, 530)), 1.0], [((738, 625), (760, 638)), 0.0], [((1179, 481), (1184, 482)), 0.0], [((693, 553), (724, 566)), 0.0], [((918, 598), (949, 620)), 0.0], [((1188, 481), (1228, 521)), 0.0], [((225, 481), (256, 503)), 1.0], [((630, 607), (634, 629)), 1], [((342, 445), (346, 476)), 1], [((1026, 445), (1030, 476)), 0.0], [((54, 562), (76, 593)), 1]]\n",
      "[[((36, 553), (49, 584)), 0.0], [((18, 427), (40, 458)), 1.0], [((1064, 427), (1146, 501)), 513.0], [((270, 463), (301, 485)), 0.0], [((747, 508), (760, 530)), 1.0], [((738, 625), (760, 638)), 0.0], [((1179, 481), (1184, 482)), 0.0], [((693, 553), (724, 566)), 0.0], [((918, 598), (949, 620)), 0.0], [((1188, 481), (1228, 521)), 0.0], [((225, 481), (256, 503)), 1.0], [((630, 607), (634, 629)), 1], [((342, 445), (346, 476)), 1], [((1026, 445), (1030, 476)), 0.0], [((54, 562), (76, 593)), 1]]\n"
     ]
    },
    {
     "name": "stderr",
     "output_type": "stream",
     "text": [
      "\u001b[A\u001b[A\u001b[A\n",
      "\n",
      "\n",
      " 21%|██        | 236/1136 [02:01<03:12,  4.68it/s]"
     ]
    },
    {
     "name": "stdout",
     "output_type": "stream",
     "text": [
      "[[((36, 553), (49, 584)), 0.0], [((18, 427), (40, 458)), 1.0], [((990, 418), (1051, 494)), 516.0], [((270, 463), (301, 485)), 0.0], [((747, 508), (760, 530)), 1.0], [((738, 625), (760, 638)), 0.0], [((1179, 481), (1184, 482)), 0.0], [((693, 553), (724, 566)), 0.0], [((918, 598), (949, 620)), 0.0], [((1188, 481), (1228, 521)), 0.0], [((225, 481), (256, 503)), 1.0], [((630, 607), (634, 629)), 1], [((342, 445), (346, 476)), 1], [((1026, 445), (1030, 476)), 0.0], [((54, 562), (76, 593)), 1]]\n",
      "[[((36, 553), (49, 584)), 0.0], [((18, 427), (40, 458)), 1.0], [((1083, 438), (1127, 501)), 519.0], [((270, 463), (301, 485)), 1.0], [((747, 508), (760, 530)), 2.0], [((738, 625), (760, 638)), 0.0], [((1179, 481), (1184, 482)), 0.0], [((693, 553), (724, 566)), 0.0], [((918, 598), (949, 620)), 0.0], [((1188, 481), (1228, 521)), 0.0], [((225, 481), (256, 503)), 1.0], [((630, 607), (634, 629)), 1], [((342, 445), (346, 476)), 1], [((1026, 445), (1030, 476)), 0.0], [((54, 562), (76, 593)), 1]]\n"
     ]
    },
    {
     "name": "stderr",
     "output_type": "stream",
     "text": [
      "\u001b[A\u001b[A\u001b[A\n",
      "\n",
      "\n",
      " 21%|██        | 238/1136 [02:02<03:18,  4.52it/s]"
     ]
    },
    {
     "name": "stdout",
     "output_type": "stream",
     "text": [
      "[[((36, 553), (49, 584)), 0.0], [((18, 427), (40, 458)), 1.0], [((1083, 438), (1127, 501)), 521.0], [((243, 472), (265, 476)), 1.0], [((747, 589), (778, 611)), 0.0], [((738, 625), (760, 638)), 0.0], [((1179, 481), (1184, 482)), 0.0], [((693, 553), (724, 566)), 0.0], [((918, 598), (949, 620)), 0.0], [((1188, 481), (1228, 521)), 0.0], [((225, 481), (256, 503)), 1.0], [((630, 607), (634, 629)), 1], [((342, 445), (346, 476)), 1], [((1026, 445), (1030, 476)), 0.0], [((54, 562), (76, 593)), 1]]\n",
      "[[((36, 553), (49, 584)), 0.0], [((18, 427), (40, 458)), 1.0], [((1083, 438), (1146, 503)), 522.0], [((243, 472), (265, 476)), 1.0], [((747, 589), (778, 611)), 0.0], [((738, 625), (760, 638)), 0.0], [((1179, 481), (1184, 482)), 0.0], [((693, 553), (724, 566)), 0.0], [((918, 598), (949, 620)), 0.0], [((1188, 481), (1228, 521)), 0.0], [((225, 481), (256, 503)), 1.0], [((630, 607), (634, 629)), 1], [((342, 445), (346, 476)), 1], [((1026, 445), (1030, 476)), 0.0], [((54, 562), (76, 593)), 1]]\n",
      "[[((36, 553), (49, 584)), 0.0], [((18, 427), (40, 458)), 1.0], [((969, 418), (1146, 501)), 525.0], [((243, 472), (265, 476)), 1.0], [((747, 589), (778, 611)), 0.0], [((738, 625), (760, 638)), 0.0], [((1179, 481), (1184, 482)), 0.0], [((693, 553), (724, 566)), 0.0], [((918, 598), (949, 620)), 1.0], [((1188, 481), (1228, 521)), 0.0], [((225, 481), (256, 503)), 1.0], [((630, 607), (634, 629)), 1], [((342, 445), (346, 476)), 1], [((1026, 445), (1030, 476)), 0.0], [((54, 562), (76, 593)), 1]]\n",
      "[[((36, 553), (49, 584)), 0.0], [((18, 427), (40, 458)), 1.0], [((981, 418), (1075, 494)), 527.0], [((243, 472), (265, 476)), 1.0], [((747, 589), (778, 611)), 0.0], [((738, 625), (760, 638)), 0.0], [((1179, 481), (1184, 482)), 0.0], [((693, 553), (724, 566)), 0.0], [((1017, 580), (1030, 593)), 1.0], [((1188, 481), (1228, 521)), 0.0], [((225, 481), (256, 503)), 1.0], [((630, 607), (634, 629)), 1], [((342, 445), (346, 476)), 1], [((1026, 445), (1030, 476)), 0.0], [((54, 562), (76, 593)), 1]]\n",
      "[[((36, 553), (49, 584)), 0.0], [((18, 427), (40, 458)), 1.0], [((1045, 427), (1146, 501)), 529.0], [((243, 472), (265, 476)), 2.0], [((747, 589), (778, 611)), 0.0], [((738, 625), (760, 638)), 0.0], [((1179, 481), (1184, 482)), 0.0], [((693, 553), (724, 566)), 0.0], [((1017, 580), (1030, 593)), 1.0], [((1188, 481), (1228, 521)), 0.0], [((225, 481), (256, 503)), 1.0], [((630, 607), (634, 629)), 1], [((342, 445), (346, 476)), 1], [((1026, 445), (1030, 476)), 0.0], [((54, 562), (76, 593)), 1]]\n",
      "[[((36, 553), (49, 584)), 0.0], [((18, 427), (40, 458)), 1.0], [((1044, 419), (1146, 501)), 531.0], [((153, 445), (193, 476)), 3.0], [((747, 589), (778, 611)), 0.0], [((738, 625), (760, 638)), 0.0], [((1179, 481), (1184, 482)), 0.0], [((693, 553), (724, 566)), 0.0], [((1017, 580), (1030, 593)), 1.0], [((1188, 481), (1228, 521)), 0.0], [((225, 481), (256, 503)), 1.0], [((630, 607), (634, 629)), 1], [((342, 445), (346, 476)), 1], [((1026, 445), (1030, 476)), 0.0], [((54, 562), (76, 593)), 1]]\n",
      "[[((36, 553), (49, 584)), 0.0], [((18, 427), (40, 458)), 2.0], [((969, 418), (1032, 494)), 532.0], [((135, 490), (166, 501)), 1.0], [((747, 589), (778, 611)), 0.0], [((738, 625), (760, 638)), 0.0], [((1179, 481), (1184, 482)), 1.0], [((693, 553), (724, 566)), 0.0], [((1017, 580), (1030, 593)), 1.0], [((1188, 481), (1228, 521)), 0.0], [((225, 481), (256, 503)), 1.0], [((630, 607), (634, 629)), 1], [((342, 445), (346, 476)), 1], [((1026, 445), (1030, 476)), 0.0], [((54, 562), (76, 593)), 1]]\n",
      "[[((36, 553), (49, 584)), 0.0], [((135, 445), (166, 476)), 3.0], [((969, 409), (1089, 501)), 535.0], [((135, 490), (166, 501)), 1.0], [((747, 589), (778, 611)), 0.0], [((738, 625), (760, 638)), 0.0], [((1125, 472), (1129, 503)), 1.0], [((693, 553), (724, 566)), 0.0], [((1017, 580), (1030, 593)), 1.0], [((1188, 481), (1228, 521)), 0.0], [((225, 481), (256, 503)), 1.0], [((630, 607), (634, 629)), 1], [((342, 445), (346, 476)), 1], [((1026, 445), (1030, 476)), 0.0], [((54, 562), (76, 593)), 1]]\n",
      "[[((36, 553), (49, 584)), 0.0], [((108, 445), (130, 476)), 1.0], [((969, 418), (1032, 482)), 537.0], [((135, 490), (166, 501)), 1.0], [((747, 589), (778, 611)), 0.0], [((738, 625), (760, 638)), 0.0], [((1125, 472), (1129, 503)), 1.0], [((693, 553), (724, 566)), 0.0], [((1017, 580), (1030, 593)), 1.0], [((1188, 481), (1228, 521)), 0.0], [((225, 481), (256, 503)), 1.0], [((630, 607), (634, 629)), 1], [((342, 445), (346, 476)), 1], [((1026, 445), (1030, 476)), 0.0], [((54, 562), (76, 593)), 1]]\n",
      "[[((36, 553), (49, 584)), 0.0], [((108, 445), (130, 476)), 1.0], [((1045, 438), (1129, 501)), 539.0], [((135, 490), (166, 501)), 1.0], [((747, 589), (778, 611)), 0.0], [((738, 625), (760, 638)), 0.0], [((1125, 472), (1129, 503)), 1.0], [((693, 553), (724, 566)), 0.0], [((1017, 580), (1030, 593)), 1.0], [((1188, 481), (1228, 521)), 0.0], [((225, 481), (256, 503)), 1.0], [((630, 607), (634, 629)), 1], [((342, 445), (346, 476)), 1], [((1026, 445), (1030, 476)), 1.0], [((54, 562), (76, 593)), 1]]\n",
      "[[((36, 553), (49, 584)), 1.0], [((108, 445), (130, 476)), 1.0], [((1045, 438), (1127, 501)), 542.0], [((135, 490), (166, 501)), 1.0], [((747, 589), (778, 611)), 0.0], [((738, 625), (760, 638)), 0.0], [((1125, 472), (1129, 503)), 1.0], [((693, 553), (724, 566)), 0.0], [((1017, 580), (1030, 593)), 1.0], [((1188, 481), (1228, 521)), 0.0], [((225, 481), (256, 503)), 1.0], [((630, 607), (634, 629)), 1], [((342, 445), (346, 476)), 1], [((969, 419), (976, 431)), 1.0], [((54, 562), (76, 593)), 1]]\n",
      "[[((45, 562), (58, 593)), 1.0], [((108, 445), (130, 476)), 1.0], [((1064, 427), (1127, 501)), 545.0], [((135, 490), (166, 501)), 1.0], [((747, 589), (778, 611)), 0.0], [((738, 625), (760, 638)), 0.0], [((1125, 472), (1129, 503)), 1.0], [((693, 553), (724, 566)), 0.0], [((1017, 580), (1030, 593)), 1.0], [((1188, 481), (1228, 521)), 0.0], [((225, 481), (256, 503)), 1.0], [((630, 607), (634, 629)), 1], [((342, 445), (346, 476)), 1], [((969, 419), (976, 431)), 1.0], [((54, 562), (76, 593)), 1]]\n",
      "[[((45, 562), (58, 593)), 1.0], [((108, 445), (130, 476)), 1.0], [((1044, 438), (1138, 501)), 547.0], [((135, 490), (166, 501)), 2.0], [((747, 589), (778, 611)), 0.0], [((738, 625), (760, 638)), 0.0], [((1125, 472), (1129, 503)), 1.0], [((693, 553), (724, 566)), 0.0], [((1017, 580), (1030, 593)), 1.0], [((1188, 481), (1228, 521)), 0.0], [((225, 481), (256, 503)), 1.0], [((630, 607), (634, 629)), 1], [((342, 445), (346, 476)), 1], [((969, 419), (976, 431)), 1.0], [((54, 562), (76, 593)), 1]]\n"
     ]
    },
    {
     "name": "stderr",
     "output_type": "stream",
     "text": [
      "\u001b[A\u001b[A\u001b[A\n",
      "\n",
      "\n",
      " 22%|██▏       | 251/1136 [02:02<02:27,  6.01it/s]\u001b[A\u001b[A\u001b[A\n",
      "\n",
      "\n",
      " 23%|██▎       | 256/1136 [02:02<01:47,  8.16it/s]"
     ]
    },
    {
     "name": "stdout",
     "output_type": "stream",
     "text": [
      "[[((45, 562), (58, 593)), 1.0], [((108, 445), (130, 476)), 1.0], [((1044, 419), (1120, 501)), 548.0], [((234, 472), (265, 503)), 0.0], [((747, 589), (778, 611)), 0.0], [((738, 625), (760, 638)), 0.0], [((1125, 472), (1129, 503)), 1.0], [((693, 553), (724, 566)), 0.0], [((1017, 580), (1030, 593)), 1.0], [((1188, 481), (1228, 521)), 0.0], [((225, 481), (256, 503)), 1.0], [((630, 607), (634, 629)), 1], [((342, 445), (346, 476)), 1], [((969, 419), (976, 431)), 1.0], [((54, 562), (76, 593)), 1]]\n",
      "[[((45, 562), (58, 593)), 1.0], [((108, 445), (130, 476)), 1.0], [((969, 418), (1127, 501)), 549.0], [((234, 472), (265, 503)), 0.0], [((747, 589), (778, 611)), 0.0], [((738, 625), (760, 638)), 0.0], [((1125, 472), (1129, 503)), 1.0], [((693, 553), (724, 566)), 0.0], [((1017, 580), (1030, 593)), 1.0], [((1188, 481), (1228, 521)), 1.0], [((225, 481), (256, 503)), 1.0], [((630, 607), (634, 629)), 1], [((342, 445), (346, 476)), 1], [((969, 419), (976, 431)), 1.0], [((54, 562), (76, 593)), 1]]\n",
      "[[((45, 562), (58, 593)), 1.0], [((108, 445), (130, 476)), 1.0], [((969, 418), (1129, 501)), 550.0], [((234, 472), (265, 503)), 0.0], [((747, 589), (778, 611)), 0.0], [((738, 625), (760, 638)), 0.0], [((1125, 472), (1129, 503)), 1.0], [((693, 553), (724, 566)), 0.0], [((1017, 580), (1030, 593)), 1.0], [((1179, 589), (1210, 611)), 1.0], [((225, 481), (256, 503)), 1.0], [((630, 607), (634, 629)), 1], [((342, 445), (346, 476)), 1], [((969, 419), (976, 431)), 1.0], [((54, 562), (76, 593)), 1]]\n",
      "[[((45, 562), (58, 593)), 1.0], [((108, 445), (130, 476)), 1.0], [((963, 418), (1146, 501)), 551.0], [((234, 472), (265, 503)), 0.0], [((747, 589), (778, 611)), 0.0], [((738, 625), (760, 638)), 0.0], [((1125, 472), (1129, 503)), 1.0], [((693, 553), (724, 566)), 0.0], [((1017, 580), (1030, 593)), 1.0], [((1179, 589), (1210, 611)), 1.0], [((225, 481), (256, 503)), 1.0], [((630, 607), (634, 629)), 1], [((342, 445), (346, 476)), 1], [((969, 419), (976, 431)), 1.0], [((54, 562), (76, 593)), 1]]\n",
      "[[((45, 562), (58, 593)), 1.0], [((108, 445), (130, 476)), 1.0], [((950, 418), (1127, 501)), 553.0], [((234, 472), (265, 503)), 0.0], [((747, 589), (778, 611)), 0.0], [((738, 625), (760, 638)), 0.0], [((1125, 472), (1129, 503)), 1.0], [((693, 553), (724, 566)), 0.0], [((1017, 580), (1030, 593)), 1.0], [((1179, 589), (1210, 611)), 1.0], [((225, 481), (256, 503)), 1.0], [((630, 607), (634, 629)), 1], [((342, 445), (346, 476)), 1], [((969, 419), (976, 431)), 1.0], [((54, 562), (76, 593)), 1]]\n",
      "[[((45, 562), (58, 593)), 1.0], [((108, 445), (130, 476)), 1.0], [((963, 418), (1013, 482)), 554.0], [((234, 472), (265, 503)), 0.0], [((747, 589), (778, 611)), 0.0], [((738, 625), (760, 638)), 0.0], [((1125, 472), (1129, 503)), 1.0], [((693, 553), (724, 566)), 0.0], [((1017, 580), (1030, 593)), 1.0], [((1179, 589), (1210, 611)), 1.0], [((225, 481), (256, 503)), 1.0], [((630, 607), (634, 629)), 1], [((342, 445), (346, 476)), 1], [((969, 419), (976, 431)), 1.0], [((54, 562), (76, 593)), 1]]\n"
     ]
    },
    {
     "name": "stderr",
     "output_type": "stream",
     "text": [
      "\u001b[A\u001b[A\u001b[A"
     ]
    },
    {
     "name": "stdout",
     "output_type": "stream",
     "text": [
      "[[((45, 562), (58, 593)), 1.0], [((108, 445), (130, 476)), 2.0], [((963, 418), (1075, 482)), 556.0], [((234, 472), (265, 503)), 0.0], [((747, 589), (778, 611)), 0.0], [((738, 625), (760, 638)), 0.0], [((1125, 472), (1129, 503)), 1.0], [((693, 553), (724, 566)), 0.0], [((1017, 580), (1030, 593)), 1.0], [((1179, 589), (1210, 611)), 1.0], [((225, 481), (256, 503)), 1.0], [((630, 607), (634, 629)), 1], [((342, 445), (346, 476)), 1], [((969, 419), (976, 431)), 1.0], [((54, 562), (76, 593)), 1]]\n",
      "[[((45, 562), (58, 593)), 1.0], [((135, 490), (166, 501)), 0.0], [((963, 418), (1013, 482)), 559.0], [((234, 472), (265, 503)), 0.0], [((747, 589), (778, 611)), 0.0], [((738, 625), (760, 638)), 0.0], [((1125, 472), (1129, 503)), 1.0], [((693, 553), (724, 566)), 0.0], [((1017, 580), (1030, 593)), 1.0], [((1179, 589), (1210, 611)), 2.0], [((225, 481), (256, 503)), 1.0], [((630, 607), (634, 629)), 1], [((342, 445), (346, 476)), 1], [((969, 419), (976, 431)), 1.0], [((54, 562), (76, 593)), 1]]\n"
     ]
    },
    {
     "name": "stderr",
     "output_type": "stream",
     "text": [
      "\n",
      "\n",
      "\n",
      "\r",
      " 23%|██▎       | 259/1136 [02:07<08:08,  1.80it/s]"
     ]
    },
    {
     "name": "stdout",
     "output_type": "stream",
     "text": [
      "[[((45, 562), (58, 593)), 1.0], [((135, 490), (166, 501)), 0.0], [((1026, 419), (1108, 501)), 561.0], [((234, 472), (265, 503)), 0.0], [((747, 589), (778, 611)), 1.0], [((738, 625), (760, 638)), 0.0], [((1125, 472), (1129, 503)), 1.0], [((693, 553), (724, 566)), 0.0], [((1017, 580), (1030, 593)), 1.0], [((1224, 607), (1255, 629)), 0.0], [((225, 481), (256, 503)), 1.0], [((630, 607), (634, 629)), 1], [((342, 445), (346, 476)), 1], [((969, 419), (976, 431)), 1.0], [((54, 562), (76, 593)), 1]]\n",
      "[[((45, 562), (58, 593)), 1.0], [((135, 490), (166, 501)), 0.0], [((950, 418), (1013, 485)), 563.0], [((234, 472), (265, 503)), 0.0], [((639, 553), (652, 584)), 1.0], [((738, 625), (760, 638)), 0.0], [((1125, 472), (1129, 503)), 1.0], [((693, 553), (724, 566)), 0.0], [((1017, 580), (1030, 593)), 1.0], [((1224, 607), (1255, 629)), 0.0], [((225, 481), (256, 503)), 1.0], [((630, 607), (634, 629)), 1], [((342, 445), (346, 476)), 1], [((969, 419), (976, 431)), 1.0], [((54, 562), (76, 593)), 1]]\n"
     ]
    },
    {
     "name": "stderr",
     "output_type": "stream",
     "text": [
      "\u001b[A\u001b[A\u001b[A\n",
      "\n",
      "\n",
      " 23%|██▎       | 261/1136 [02:08<07:36,  1.92it/s]"
     ]
    },
    {
     "name": "stdout",
     "output_type": "stream",
     "text": [
      "[[((45, 562), (58, 593)), 1.0], [((135, 490), (166, 501)), 0.0], [((1026, 419), (1089, 482)), 564.0], [((234, 472), (265, 503)), 0.0], [((639, 553), (652, 584)), 1.0], [((738, 625), (760, 638)), 0.0], [((1125, 472), (1129, 503)), 1.0], [((693, 553), (724, 566)), 0.0], [((1017, 580), (1030, 593)), 1.0], [((1224, 607), (1255, 629)), 0.0], [((225, 481), (256, 503)), 1.0], [((630, 607), (634, 629)), 1], [((342, 445), (346, 476)), 1], [((969, 419), (976, 431)), 1.0], [((54, 562), (76, 593)), 1]]\n",
      "[[((45, 562), (58, 593)), 1.0], [((135, 490), (166, 501)), 0.0], [((950, 409), (1102, 494)), 566.0], [((234, 472), (265, 503)), 0.0], [((639, 553), (652, 584)), 1.0], [((738, 625), (760, 638)), 0.0], [((1125, 472), (1129, 503)), 1.0], [((693, 553), (724, 566)), 0.0], [((1017, 580), (1030, 593)), 1.0], [((1224, 607), (1255, 629)), 0.0], [((225, 481), (256, 503)), 1.0], [((630, 607), (634, 629)), 1], [((342, 445), (346, 476)), 1], [((969, 419), (976, 431)), 1.0], [((54, 562), (76, 593)), 1]]\n",
      "[[((45, 562), (58, 593)), 1.0], [((135, 490), (166, 501)), 0.0], [((954, 419), (1030, 485)), 570.0], [((234, 472), (265, 503)), 0.0], [((639, 553), (652, 584)), 2.0], [((738, 625), (760, 638)), 0.0], [((1125, 472), (1129, 503)), 1.0], [((693, 553), (724, 566)), 0.0], [((1017, 580), (1030, 593)), 1.0], [((1224, 607), (1255, 629)), 0.0], [((225, 481), (256, 503)), 1.0], [((630, 607), (634, 629)), 1], [((342, 445), (346, 476)), 1], [((969, 419), (976, 431)), 1.0], [((54, 562), (76, 593)), 1]]\n",
      "[[((45, 562), (58, 593)), 1.0], [((135, 490), (166, 501)), 0.0], [((954, 419), (1003, 485)), 571.0], [((234, 472), (265, 503)), 0.0], [((729, 553), (760, 575)), 0.0], [((738, 625), (760, 638)), 0.0], [((1125, 472), (1129, 503)), 1.0], [((693, 553), (724, 566)), 0.0], [((1017, 580), (1030, 593)), 1.0], [((1224, 607), (1255, 629)), 0.0], [((225, 481), (256, 503)), 1.0], [((630, 607), (634, 629)), 1], [((342, 445), (346, 476)), 1], [((969, 419), (976, 431)), 1.0], [((54, 562), (76, 593)), 1]]\n"
     ]
    },
    {
     "name": "stderr",
     "output_type": "stream",
     "text": [
      "\u001b[A\u001b[A\u001b[A\n",
      "\n",
      "\n",
      " 23%|██▎       | 265/1136 [02:09<06:29,  2.24it/s]"
     ]
    },
    {
     "name": "stdout",
     "output_type": "stream",
     "text": [
      "[[((45, 562), (58, 593)), 2.0], [((135, 490), (166, 501)), 0.0], [((950, 419), (1108, 485)), 572.0], [((234, 472), (265, 503)), 0.0], [((729, 553), (760, 575)), 0.0], [((738, 625), (760, 638)), 0.0], [((1125, 472), (1129, 503)), 1.0], [((693, 553), (724, 566)), 0.0], [((1017, 580), (1030, 593)), 1.0], [((1224, 607), (1255, 629)), 0.0], [((225, 481), (256, 503)), 1.0], [((630, 607), (634, 629)), 1], [((342, 445), (346, 476)), 1], [((969, 419), (976, 431)), 1.0], [((54, 562), (76, 593)), 1]]\n",
      "[[((18, 562), (40, 593)), 0.0], [((135, 490), (166, 501)), 0.0], [((950, 436), (994, 482)), 575.0], [((234, 472), (265, 503)), 0.0], [((729, 553), (760, 575)), 0.0], [((738, 625), (760, 638)), 0.0], [((1125, 472), (1129, 503)), 1.0], [((693, 553), (724, 566)), 0.0], [((1017, 580), (1030, 593)), 1.0], [((1224, 607), (1255, 629)), 0.0], [((225, 481), (256, 503)), 1.0], [((630, 607), (634, 629)), 1], [((342, 445), (346, 476)), 1], [((969, 419), (976, 431)), 1.0], [((54, 562), (76, 593)), 1]]\n"
     ]
    },
    {
     "name": "stderr",
     "output_type": "stream",
     "text": [
      "\u001b[A\u001b[A\u001b[A\n",
      "\n",
      "\n",
      " 24%|██▎       | 267/1136 [02:10<05:39,  2.56it/s]"
     ]
    },
    {
     "name": "stdout",
     "output_type": "stream",
     "text": [
      "[[((18, 562), (40, 593)), 0.0], [((135, 490), (166, 501)), 0.0], [((950, 436), (1013, 482)), 577.0], [((234, 472), (265, 503)), 0.0], [((729, 553), (760, 575)), 0.0], [((738, 625), (760, 638)), 0.0], [((1125, 472), (1129, 503)), 1.0], [((693, 553), (724, 566)), 0.0], [((1017, 580), (1030, 593)), 1.0], [((1224, 607), (1255, 629)), 0.0], [((225, 481), (256, 503)), 1.0], [((630, 607), (634, 629)), 1], [((342, 445), (346, 476)), 1], [((969, 419), (976, 431)), 1.0], [((54, 562), (76, 593)), 1]]\n",
      "[[((18, 562), (40, 593)), 0.0], [((135, 490), (166, 501)), 0.0], [((954, 445), (985, 476)), 578.0], [((234, 472), (265, 503)), 0.0], [((729, 553), (760, 575)), 0.0], [((738, 625), (760, 638)), 0.0], [((1125, 472), (1129, 503)), 1.0], [((693, 553), (724, 566)), 0.0], [((1017, 580), (1030, 593)), 1.0], [((1224, 607), (1255, 629)), 0.0], [((225, 481), (256, 503)), 1.0], [((630, 607), (634, 629)), 1], [((342, 445), (346, 476)), 1], [((969, 419), (976, 431)), 1.0], [((54, 562), (76, 593)), 1]]\n"
     ]
    },
    {
     "name": "stderr",
     "output_type": "stream",
     "text": [
      "\u001b[A\u001b[A\u001b[A\n",
      "\n",
      "\n",
      " 24%|██▎       | 269/1136 [02:11<05:54,  2.44it/s]\u001b[A\u001b[A\u001b[A\n",
      "\n",
      "\n",
      " 24%|██▍       | 278/1136 [02:11<04:08,  3.45it/s]"
     ]
    },
    {
     "name": "stdout",
     "output_type": "stream",
     "text": [
      "[[((18, 562), (40, 593)), 0.0], [((135, 490), (166, 501)), 0.0], [((963, 418), (994, 449)), 580.0], [((234, 472), (265, 503)), 0.0], [((729, 553), (760, 575)), 0.0], [((738, 625), (760, 638)), 0.0], [((1125, 472), (1129, 503)), 1.0], [((693, 553), (724, 566)), 0.0], [((1017, 580), (1030, 593)), 1.0], [((1224, 607), (1255, 629)), 0.0], [((225, 481), (256, 503)), 1.0], [((630, 607), (634, 629)), 1], [((342, 445), (346, 476)), 1], [((969, 419), (976, 431)), 1.0], [((54, 562), (76, 593)), 1]]\n",
      "[[((18, 562), (40, 593)), 0.0], [((135, 490), (166, 501)), 0.0], [((931, 409), (994, 482)), 582.0], [((234, 472), (265, 503)), 0.0], [((729, 553), (760, 575)), 0.0], [((738, 625), (760, 638)), 0.0], [((1125, 472), (1129, 503)), 1.0], [((693, 553), (724, 566)), 0.0], [((1017, 580), (1030, 593)), 1.0], [((1224, 607), (1255, 629)), 0.0], [((225, 481), (256, 503)), 1.0], [((630, 607), (634, 629)), 1], [((342, 445), (346, 476)), 1], [((969, 419), (976, 431)), 1.0], [((54, 562), (76, 593)), 1]]\n",
      "[[((18, 562), (40, 593)), 0.0], [((135, 490), (166, 501)), 0.0], [((931, 409), (994, 476)), 583.0], [((234, 472), (265, 503)), 0.0], [((729, 553), (760, 575)), 0.0], [((738, 625), (760, 638)), 0.0], [((1125, 472), (1129, 503)), 1.0], [((693, 553), (724, 566)), 0.0], [((1017, 580), (1030, 593)), 1.0], [((1224, 607), (1255, 629)), 0.0], [((225, 481), (256, 503)), 1.0], [((630, 607), (634, 629)), 1], [((342, 445), (346, 476)), 1], [((969, 419), (976, 431)), 1.0], [((54, 562), (76, 593)), 1]]\n",
      "[[((18, 562), (40, 593)), 0.0], [((135, 490), (166, 501)), 0.0], [((945, 409), (1089, 482)), 585.0], [((234, 472), (265, 503)), 0.0], [((729, 553), (760, 575)), 0.0], [((738, 625), (760, 638)), 0.0], [((1125, 472), (1129, 503)), 1.0], [((693, 553), (724, 566)), 0.0], [((1017, 580), (1030, 593)), 1.0], [((1224, 607), (1255, 629)), 0.0], [((225, 481), (256, 503)), 1.0], [((630, 607), (634, 629)), 1], [((342, 445), (346, 476)), 1], [((969, 419), (976, 431)), 1.0], [((54, 562), (76, 593)), 1], [((342, 652), (364, 674)), 1]]\n",
      "[[((18, 562), (40, 593)), 0.0], [((135, 490), (166, 501)), 0.0], [((1007, 419), (1070, 482)), 587.0], [((234, 472), (265, 503)), 0.0], [((729, 553), (760, 575)), 0.0], [((738, 625), (760, 638)), 0.0], [((1125, 472), (1129, 503)), 1.0], [((693, 553), (724, 566)), 0.0], [((1017, 580), (1030, 593)), 1.0], [((1224, 607), (1255, 629)), 0.0], [((225, 481), (256, 503)), 1.0], [((630, 607), (634, 629)), 1], [((342, 445), (346, 476)), 1], [((969, 419), (976, 431)), 1.0], [((54, 562), (76, 593)), 1], [((342, 652), (364, 674)), 1]]\n",
      "[[((18, 562), (40, 593)), 0.0], [((135, 490), (166, 501)), 0.0], [((931, 418), (985, 482)), 588.0], [((234, 472), (265, 503)), 0.0], [((729, 553), (760, 575)), 0.0], [((738, 625), (760, 638)), 0.0], [((1125, 472), (1129, 503)), 1.0], [((693, 553), (724, 566)), 0.0], [((1017, 580), (1030, 593)), 1.0], [((1224, 607), (1255, 629)), 0.0], [((225, 481), (256, 503)), 1.0], [((630, 607), (634, 629)), 1], [((342, 445), (346, 476)), 1], [((969, 419), (976, 431)), 1.0], [((54, 562), (76, 593)), 1], [((342, 652), (364, 674)), 1]]\n",
      "[[((18, 562), (40, 593)), 0.0], [((135, 490), (166, 501)), 0.0], [((936, 409), (1032, 482)), 589.0], [((234, 472), (265, 503)), 0.0], [((729, 553), (760, 575)), 0.0], [((738, 625), (760, 638)), 0.0], [((1125, 472), (1129, 503)), 1.0], [((693, 553), (724, 566)), 0.0], [((1017, 580), (1030, 593)), 1.0], [((1224, 607), (1255, 629)), 0.0], [((225, 481), (256, 503)), 1.0], [((630, 607), (634, 629)), 1], [((342, 445), (346, 476)), 1], [((969, 419), (976, 431)), 1.0], [((54, 562), (76, 593)), 1], [((342, 652), (364, 674)), 1]]\n",
      "[[((18, 562), (40, 593)), 0.0], [((135, 490), (166, 501)), 0.0], [((945, 409), (1032, 482)), 590.0], [((234, 472), (265, 503)), 0.0], [((729, 553), (760, 575)), 0.0], [((738, 625), (760, 638)), 0.0], [((1125, 472), (1129, 503)), 1.0], [((693, 553), (724, 566)), 0.0], [((1017, 580), (1030, 593)), 1.0], [((1224, 607), (1255, 629)), 0.0], [((225, 481), (256, 503)), 1.0], [((630, 607), (634, 629)), 1], [((342, 445), (346, 476)), 1], [((969, 419), (976, 431)), 1.0], [((54, 562), (76, 593)), 1], [((342, 652), (364, 674)), 1]]\n",
      "[[((18, 562), (40, 593)), 0.0], [((135, 490), (166, 501)), 0.0], [((931, 409), (1032, 485)), 592.0], [((234, 472), (265, 503)), 0.0], [((729, 553), (760, 575)), 0.0], [((738, 625), (760, 638)), 0.0], [((1125, 472), (1129, 503)), 1.0], [((693, 553), (724, 566)), 0.0], [((1017, 580), (1030, 593)), 1.0], [((1224, 607), (1255, 629)), 0.0], [((225, 481), (256, 503)), 1.0], [((630, 607), (634, 629)), 1], [((342, 445), (346, 476)), 1], [((969, 419), (976, 431)), 1.0], [((54, 562), (76, 593)), 1], [((342, 652), (364, 674)), 1]]\n",
      "[[((18, 562), (40, 593)), 0.0], [((135, 490), (166, 501)), 0.0], [((963, 409), (1032, 482)), 595.0], [((234, 472), (265, 503)), 0.0], [((729, 553), (760, 575)), 0.0], [((738, 625), (760, 638)), 0.0], [((1125, 472), (1129, 503)), 1.0], [((693, 553), (724, 566)), 0.0], [((1017, 580), (1030, 593)), 1.0], [((1224, 607), (1255, 629)), 0.0], [((225, 481), (256, 503)), 1.0], [((630, 607), (634, 629)), 1], [((342, 445), (346, 476)), 1], [((969, 419), (976, 431)), 1.0], [((54, 562), (76, 593)), 1], [((342, 652), (364, 674)), 1]]\n",
      "[[((18, 562), (40, 593)), 0.0], [((135, 490), (166, 501)), 0.0], [((936, 427), (976, 482)), 597.0], [((234, 472), (265, 503)), 0.0], [((729, 553), (760, 575)), 0.0], [((738, 625), (760, 638)), 0.0], [((1125, 472), (1129, 503)), 1.0], [((693, 553), (724, 566)), 0.0], [((1017, 580), (1030, 593)), 1.0], [((1224, 607), (1255, 629)), 0.0], [((225, 481), (256, 503)), 1.0], [((630, 607), (634, 629)), 1], [((342, 445), (346, 476)), 1], [((969, 419), (976, 431)), 1.0], [((54, 562), (76, 593)), 1], [((342, 652), (364, 674)), 1]]\n",
      "[[((18, 562), (40, 593)), 0.0], [((135, 490), (166, 501)), 0.0], [((936, 436), (976, 467)), 601.0], [((234, 472), (265, 503)), 0.0], [((729, 553), (760, 575)), 0.0], [((738, 625), (760, 638)), 0.0], [((1125, 472), (1129, 503)), 1.0], [((693, 553), (724, 566)), 0.0], [((1017, 580), (1030, 593)), 1.0], [((1224, 607), (1255, 629)), 0.0], [((225, 481), (256, 503)), 1.0], [((630, 607), (634, 629)), 1], [((342, 445), (346, 476)), 1], [((969, 419), (976, 431)), 1.0], [((54, 562), (76, 593)), 1], [((342, 652), (364, 674)), 1]]\n",
      "[[((18, 562), (40, 593)), 0.0], [((135, 490), (166, 501)), 0.0], [((936, 418), (976, 467)), 606.0], [((234, 472), (265, 503)), 0.0], [((729, 553), (760, 575)), 0.0], [((738, 625), (760, 638)), 0.0], [((1125, 472), (1129, 503)), 1.0], [((693, 553), (724, 566)), 0.0], [((1017, 580), (1030, 593)), 1.0], [((1224, 607), (1255, 629)), 0.0], [((225, 481), (256, 503)), 1.0], [((630, 607), (634, 629)), 1], [((342, 445), (346, 476)), 1], [((969, 419), (976, 431)), 1.0], [((54, 562), (76, 593)), 1], [((342, 652), (364, 674)), 1]]\n"
     ]
    },
    {
     "name": "stderr",
     "output_type": "stream",
     "text": [
      "\u001b[A\u001b[A\u001b[A\n",
      "\n",
      "\n",
      " 25%|██▍       | 282/1136 [02:11<03:34,  3.99it/s]"
     ]
    },
    {
     "name": "stdout",
     "output_type": "stream",
     "text": [
      "[[((18, 562), (40, 593)), 0.0], [((135, 490), (166, 501)), 0.0], [((936, 436), (976, 467)), 607.0], [((234, 472), (265, 503)), 0.0], [((729, 553), (760, 575)), 1.0], [((738, 625), (760, 638)), 0.0], [((1125, 472), (1129, 503)), 1.0], [((693, 553), (724, 566)), 0.0], [((1017, 580), (1030, 593)), 1.0], [((1224, 607), (1255, 629)), 0.0], [((225, 481), (256, 503)), 1.0], [((630, 607), (634, 629)), 1], [((342, 445), (346, 476)), 1], [((969, 419), (976, 431)), 1.0], [((54, 562), (76, 593)), 1], [((342, 652), (364, 674)), 1]]\n",
      "[[((18, 562), (40, 593)), 0.0], [((135, 490), (166, 501)), 0.0], [((936, 419), (1032, 485)), 611.0], [((234, 472), (265, 503)), 0.0], [((756, 508), (760, 521)), 1.0], [((738, 625), (760, 638)), 0.0], [((1125, 472), (1129, 503)), 1.0], [((693, 553), (724, 566)), 0.0], [((1017, 580), (1030, 593)), 1.0], [((1224, 607), (1255, 629)), 0.0], [((225, 481), (256, 503)), 1.0], [((630, 607), (634, 629)), 1], [((342, 445), (346, 476)), 1], [((969, 419), (976, 431)), 1.0], [((54, 562), (76, 593)), 1], [((342, 652), (364, 674)), 1]]\n",
      "[[((18, 562), (40, 593)), 0.0], [((135, 490), (166, 501)), 0.0], [((990, 419), (1051, 482)), 613.0], [((234, 472), (265, 503)), 0.0], [((756, 508), (760, 521)), 1.0], [((738, 625), (760, 638)), 0.0], [((1125, 472), (1129, 503)), 1.0], [((693, 553), (724, 566)), 0.0], [((1017, 580), (1030, 593)), 1.0], [((1224, 607), (1255, 629)), 0.0], [((225, 481), (256, 503)), 1.0], [((630, 607), (634, 629)), 1], [((342, 445), (346, 476)), 1], [((969, 419), (976, 431)), 1.0], [((54, 562), (76, 593)), 1], [((342, 652), (364, 674)), 1]]\n",
      "[[((18, 562), (40, 593)), 0.0], [((135, 490), (166, 501)), 0.0], [((972, 418), (1051, 485)), 617.0], [((234, 472), (265, 503)), 0.0], [((756, 508), (760, 521)), 1.0], [((738, 625), (760, 638)), 0.0], [((1125, 472), (1129, 503)), 1.0], [((693, 553), (724, 566)), 0.0], [((1017, 580), (1030, 593)), 1.0], [((1224, 607), (1255, 629)), 0.0], [((225, 481), (256, 503)), 1.0], [((630, 607), (634, 629)), 1], [((342, 445), (346, 476)), 1], [((969, 419), (976, 431)), 1.0], [((54, 562), (76, 593)), 1], [((342, 652), (364, 674)), 1]]\n",
      "[[((18, 562), (40, 593)), 1.0], [((135, 490), (166, 501)), 1.0], [((988, 419), (1066, 482)), 620.0], [((234, 472), (265, 503)), 0.0], [((756, 508), (760, 521)), 2.0], [((738, 625), (760, 638)), 0.0], [((1125, 472), (1129, 503)), 1.0], [((693, 553), (724, 566)), 0.0], [((1017, 580), (1030, 593)), 1.0], [((1224, 607), (1255, 629)), 0.0], [((225, 481), (256, 503)), 1.0], [((630, 607), (634, 629)), 1], [((342, 445), (346, 476)), 1], [((969, 419), (976, 431)), 1.0], [((54, 562), (76, 593)), 1], [((342, 652), (364, 674)), 1]]\n",
      "[[((63, 562), (85, 593)), 2.0], [((144, 445), (166, 476)), 1.0], [((1007, 419), (1066, 482)), 621.0], [((234, 472), (265, 503)), 0.0], [((810, 562), (841, 593)), 3.0], [((738, 625), (760, 638)), 0.0], [((1125, 472), (1129, 503)), 1.0], [((693, 553), (724, 566)), 0.0], [((1017, 580), (1030, 593)), 1.0], [((1224, 607), (1255, 629)), 0.0], [((225, 481), (256, 503)), 1.0], [((630, 607), (634, 629)), 1], [((342, 445), (346, 476)), 1], [((969, 419), (976, 431)), 1.0], [((54, 562), (76, 593)), 1], [((342, 652), (364, 674)), 1]]\n",
      "[[((63, 562), (85, 593)), 0.0], [((144, 445), (166, 476)), 1.0], [((1007, 419), (1066, 482)), 624.0], [((234, 472), (265, 503)), 0.0], [((810, 580), (832, 593)), 1.0], [((738, 625), (760, 638)), 1.0], [((1125, 472), (1129, 503)), 1.0], [((693, 553), (724, 566)), 0.0], [((1017, 580), (1030, 593)), 1.0], [((1224, 607), (1255, 629)), 0.0], [((225, 481), (256, 503)), 1.0], [((630, 607), (634, 629)), 1], [((342, 445), (346, 476)), 1], [((969, 419), (976, 431)), 1.0], [((54, 562), (76, 593)), 1], [((342, 652), (364, 674)), 1]]\n",
      "[[((63, 562), (85, 593)), 0.0], [((144, 445), (166, 476)), 1.0], [((963, 419), (1013, 482)), 626.0], [((234, 472), (265, 503)), 0.0], [((810, 580), (832, 593)), 1.0], [((729, 490), (760, 512)), 1.0], [((1125, 472), (1129, 503)), 1.0], [((693, 553), (724, 566)), 0.0], [((1017, 580), (1030, 593)), 1.0], [((1224, 607), (1255, 629)), 0.0], [((225, 481), (256, 503)), 1.0], [((630, 607), (634, 629)), 1], [((342, 445), (346, 476)), 1], [((969, 419), (976, 431)), 1.0], [((54, 562), (76, 593)), 1], [((342, 652), (364, 674)), 1]]\n",
      "[[((63, 562), (85, 593)), 1.0], [((144, 445), (166, 476)), 1.0], [((927, 419), (976, 476)), 627.0], [((234, 472), (265, 503)), 0.0], [((810, 580), (832, 593)), 2.0], [((729, 490), (760, 512)), 1.0], [((1125, 472), (1129, 503)), 1.0], [((693, 553), (724, 566)), 0.0], [((1017, 580), (1030, 593)), 1.0], [((1224, 607), (1255, 629)), 0.0], [((225, 481), (256, 503)), 1.0], [((630, 607), (634, 629)), 1], [((342, 445), (346, 476)), 1], [((969, 419), (976, 431)), 1.0], [((54, 562), (76, 593)), 1], [((342, 652), (364, 674)), 1]]\n",
      "[[((72, 562), (94, 593)), 1.0], [((144, 445), (166, 476)), 1.0], [((927, 419), (1051, 485)), 630.0], [((234, 472), (265, 503)), 0.0], [((774, 625), (805, 629)), 0.0], [((729, 490), (760, 512)), 1.0], [((1125, 472), (1129, 503)), 1.0], [((693, 553), (724, 566)), 0.0], [((1017, 580), (1030, 593)), 1.0], [((1224, 607), (1255, 629)), 0.0], [((225, 481), (256, 503)), 1.0], [((630, 607), (634, 629)), 1], [((342, 445), (346, 476)), 1], [((969, 419), (976, 431)), 1.0], [((54, 562), (76, 593)), 1], [((342, 652), (364, 674)), 1]]\n"
     ]
    },
    {
     "name": "stderr",
     "output_type": "stream",
     "text": [
      "\u001b[A\u001b[A\u001b[A\n",
      "\n",
      "\n",
      " 26%|██▌       | 292/1136 [02:12<02:54,  4.84it/s]"
     ]
    },
    {
     "name": "stdout",
     "output_type": "stream",
     "text": [
      "[[((72, 562), (94, 593)), 1.0], [((144, 445), (166, 476)), 1.0], [((1017, 445), (1048, 476)), 633.0], [((234, 472), (265, 503)), 0.0], [((774, 625), (805, 629)), 0.0], [((729, 490), (760, 512)), 1.0], [((1125, 472), (1129, 503)), 1.0], [((693, 553), (724, 566)), 0.0], [((1017, 580), (1030, 593)), 1.0], [((1224, 607), (1255, 629)), 0.0], [((225, 481), (256, 503)), 1.0], [((630, 607), (634, 629)), 1], [((342, 445), (346, 476)), 1], [((969, 419), (976, 431)), 1.0], [((54, 562), (76, 593)), 1], [((342, 652), (364, 674)), 1]]\n",
      "[[((72, 562), (94, 593)), 1.0], [((144, 445), (166, 476)), 1.0], [((963, 419), (1013, 482)), 635.0], [((234, 472), (265, 503)), 0.0], [((774, 625), (805, 629)), 0.0], [((729, 490), (760, 512)), 1.0], [((1125, 472), (1129, 503)), 1.0], [((693, 553), (724, 566)), 0.0], [((1017, 580), (1030, 593)), 1.0], [((1224, 607), (1255, 629)), 0.0], [((225, 481), (256, 503)), 1.0], [((630, 607), (634, 629)), 1], [((342, 445), (346, 476)), 1], [((969, 419), (976, 431)), 1.0], [((54, 562), (76, 593)), 1], [((342, 652), (364, 674)), 1]]\n"
     ]
    },
    {
     "name": "stderr",
     "output_type": "stream",
     "text": [
      "\u001b[A\u001b[A\u001b[A\n",
      "\n",
      "\n",
      " 26%|██▌       | 294/1136 [02:13<04:13,  3.32it/s]"
     ]
    },
    {
     "name": "stdout",
     "output_type": "stream",
     "text": [
      "[[((72, 562), (94, 593)), 1.0], [((144, 445), (166, 476)), 1.0], [((988, 419), (1039, 482)), 636.0], [((234, 472), (265, 503)), 0.0], [((774, 625), (805, 629)), 0.0], [((729, 490), (760, 512)), 1.0], [((1125, 472), (1129, 503)), 1.0], [((693, 553), (724, 566)), 0.0], [((1017, 580), (1030, 593)), 1.0], [((1224, 607), (1255, 629)), 0.0], [((225, 481), (256, 503)), 1.0], [((630, 607), (634, 629)), 1], [((342, 445), (346, 476)), 1], [((969, 419), (976, 431)), 1.0], [((54, 562), (76, 593)), 1], [((342, 652), (364, 674)), 1]]\n",
      "[[((72, 562), (94, 593)), 1.0], [((144, 445), (166, 476)), 1.0], [((936, 419), (1039, 482)), 638.0], [((234, 472), (265, 503)), 0.0], [((774, 625), (805, 629)), 0.0], [((729, 490), (760, 512)), 1.0], [((1125, 472), (1129, 503)), 1.0], [((693, 553), (724, 566)), 0.0], [((1017, 580), (1030, 593)), 1.0], [((1224, 607), (1255, 629)), 0.0], [((225, 481), (256, 503)), 1.0], [((630, 607), (634, 629)), 1], [((342, 445), (346, 476)), 1], [((969, 419), (976, 431)), 1.0], [((54, 562), (76, 593)), 1], [((342, 652), (364, 674)), 1]]\n"
     ]
    },
    {
     "name": "stderr",
     "output_type": "stream",
     "text": [
      "\u001b[A\u001b[A\u001b[A\n",
      "\n",
      "\n",
      " 26%|██▌       | 296/1136 [02:14<04:40,  3.00it/s]"
     ]
    },
    {
     "name": "stdout",
     "output_type": "stream",
     "text": [
      "[[((72, 562), (94, 593)), 1.0], [((144, 445), (166, 476)), 1.0], [((927, 419), (975, 482)), 640.0], [((234, 472), (265, 503)), 0.0], [((774, 625), (805, 629)), 0.0], [((729, 490), (760, 512)), 1.0], [((1125, 472), (1129, 503)), 1.0], [((693, 553), (724, 566)), 0.0], [((1017, 580), (1030, 593)), 1.0], [((1224, 607), (1255, 629)), 0.0], [((225, 481), (256, 503)), 1.0], [((630, 607), (634, 629)), 1], [((342, 445), (346, 476)), 1], [((969, 419), (976, 431)), 1.0], [((54, 562), (76, 593)), 1], [((342, 652), (364, 674)), 1]]\n",
      "[[((72, 562), (94, 593)), 1.0], [((144, 445), (166, 476)), 1.0], [((918, 419), (975, 482)), 642.0], [((234, 472), (265, 503)), 0.0], [((774, 625), (805, 629)), 2.0], [((729, 490), (760, 512)), 1.0], [((1125, 472), (1129, 503)), 1.0], [((693, 553), (724, 566)), 0.0], [((1017, 580), (1030, 593)), 1.0], [((1224, 607), (1255, 629)), 0.0], [((225, 481), (256, 503)), 1.0], [((630, 607), (634, 629)), 1], [((342, 445), (346, 476)), 1], [((969, 419), (976, 431)), 1.0], [((54, 562), (76, 593)), 1], [((342, 652), (364, 674)), 1]]\n"
     ]
    },
    {
     "name": "stderr",
     "output_type": "stream",
     "text": [
      "\u001b[A\u001b[A\u001b[A\n",
      "\n",
      "\n",
      " 26%|██▌       | 298/1136 [02:17<08:34,  1.63it/s]"
     ]
    },
    {
     "name": "stdout",
     "output_type": "stream",
     "text": [
      "[[((72, 562), (94, 593)), 1.0], [((144, 445), (166, 476)), 1.0], [((918, 419), (975, 482)), 644.0], [((234, 472), (265, 503)), 0.0], [((765, 526), (796, 557)), 3.0], [((729, 490), (760, 512)), 1.0], [((1125, 472), (1129, 503)), 1.0], [((693, 553), (724, 566)), 0.0], [((1017, 580), (1030, 593)), 1.0], [((1224, 607), (1255, 629)), 0.0], [((225, 481), (256, 503)), 1.0], [((630, 607), (634, 629)), 1], [((342, 445), (346, 476)), 1], [((969, 419), (976, 431)), 1.0], [((54, 562), (76, 593)), 1], [((342, 652), (364, 674)), 1]]\n",
      "[[((72, 562), (94, 593)), 1.0], [((144, 445), (166, 476)), 1.0], [((918, 419), (975, 482)), 646.0], [((234, 472), (265, 503)), 0.0], [((828, 553), (850, 584)), 1.0], [((729, 490), (760, 512)), 1.0], [((1125, 472), (1129, 503)), 1.0], [((693, 553), (724, 566)), 0.0], [((1017, 580), (1030, 593)), 1.0], [((1224, 607), (1255, 629)), 0.0], [((225, 481), (256, 503)), 1.0], [((630, 607), (634, 629)), 1], [((342, 445), (346, 476)), 1], [((969, 419), (976, 431)), 1.0], [((54, 562), (76, 593)), 1], [((342, 652), (364, 674)), 1]]\n",
      "[[((72, 562), (94, 593)), 1.0], [((144, 445), (166, 476)), 1.0], [((918, 419), (975, 482)), 648.0], [((234, 472), (265, 503)), 0.0], [((828, 553), (850, 584)), 2.0], [((729, 490), (760, 512)), 1.0], [((1125, 472), (1129, 503)), 1.0], [((693, 553), (724, 566)), 0.0], [((1017, 580), (1030, 593)), 1.0], [((1224, 607), (1255, 629)), 1.0], [((225, 481), (256, 503)), 1.0], [((630, 607), (634, 629)), 1], [((342, 445), (346, 476)), 1], [((969, 419), (976, 431)), 1.0], [((54, 562), (76, 593)), 1], [((342, 652), (364, 674)), 1]]\n"
     ]
    },
    {
     "name": "stderr",
     "output_type": "stream",
     "text": [
      "\u001b[A\u001b[A\u001b[A\n",
      "\n",
      "\n",
      " 26%|██▋       | 301/1136 [02:18<07:27,  1.87it/s]"
     ]
    },
    {
     "name": "stdout",
     "output_type": "stream",
     "text": [
      "[[((72, 562), (94, 593)), 1.0], [((144, 445), (166, 476)), 1.0], [((918, 419), (975, 482)), 650.0], [((234, 472), (265, 503)), 0.0], [((747, 562), (769, 575)), 0.0], [((729, 490), (760, 512)), 1.0], [((1125, 472), (1129, 503)), 1.0], [((693, 553), (724, 566)), 0.0], [((1017, 580), (1030, 593)), 1.0], [((1242, 607), (1264, 629)), 1.0], [((225, 481), (256, 503)), 1.0], [((630, 607), (634, 629)), 1], [((342, 445), (346, 476)), 1], [((969, 419), (976, 431)), 1.0], [((54, 562), (76, 593)), 1], [((342, 652), (364, 674)), 1]]\n",
      "[[((72, 562), (94, 593)), 1.0], [((144, 445), (166, 476)), 1.0], [((988, 419), (1013, 482)), 653.0], [((234, 472), (265, 503)), 0.0], [((747, 562), (769, 575)), 0.0], [((729, 490), (760, 512)), 1.0], [((1125, 472), (1129, 503)), 1.0], [((693, 553), (724, 566)), 0.0], [((1017, 580), (1030, 593)), 1.0], [((1242, 607), (1264, 629)), 1.0], [((225, 481), (256, 503)), 1.0], [((630, 607), (634, 629)), 1], [((342, 445), (346, 476)), 1], [((969, 419), (976, 431)), 1.0], [((54, 562), (76, 593)), 1], [((342, 652), (364, 674)), 1]]\n",
      "[[((72, 562), (94, 593)), 1.0], [((144, 445), (166, 476)), 1.0], [((969, 419), (1032, 482)), 655.0], [((234, 472), (265, 503)), 0.0], [((747, 562), (769, 575)), 0.0], [((729, 490), (760, 512)), 1.0], [((1125, 472), (1129, 503)), 1.0], [((693, 553), (724, 566)), 0.0], [((1017, 580), (1030, 593)), 1.0], [((1242, 607), (1264, 629)), 1.0], [((225, 481), (256, 503)), 1.0], [((630, 607), (634, 629)), 1], [((342, 445), (346, 476)), 1], [((969, 419), (976, 431)), 1.0], [((54, 562), (76, 593)), 1], [((342, 652), (364, 674)), 1]]\n"
     ]
    },
    {
     "name": "stderr",
     "output_type": "stream",
     "text": [
      "\u001b[A\u001b[A\u001b[A\n",
      "\n",
      "\n",
      " 27%|██▋       | 304/1136 [02:18<06:02,  2.30it/s]"
     ]
    },
    {
     "name": "stdout",
     "output_type": "stream",
     "text": [
      "[[((72, 562), (94, 593)), 1.0], [((144, 445), (166, 476)), 1.0], [((918, 409), (958, 467)), 657.0], [((234, 472), (265, 503)), 0.0], [((747, 562), (769, 575)), 0.0], [((729, 490), (760, 512)), 1.0], [((1125, 472), (1129, 503)), 1.0], [((693, 553), (724, 566)), 0.0], [((1017, 580), (1030, 593)), 1.0], [((1242, 607), (1264, 629)), 1.0], [((225, 481), (256, 503)), 1.0], [((630, 607), (634, 629)), 1], [((342, 445), (346, 476)), 1], [((969, 419), (976, 431)), 1.0], [((54, 562), (76, 593)), 1], [((342, 652), (364, 674)), 1]]\n",
      "[[((72, 562), (94, 593)), 1.0], [((144, 445), (166, 476)), 2.0], [((969, 419), (1048, 482)), 660.0], [((234, 472), (265, 503)), 0.0], [((747, 562), (769, 575)), 0.0], [((729, 490), (760, 512)), 1.0], [((1125, 472), (1129, 503)), 1.0], [((693, 553), (724, 566)), 0.0], [((1017, 580), (1030, 593)), 1.0], [((1242, 607), (1264, 629)), 1.0], [((225, 481), (256, 503)), 1.0], [((630, 607), (634, 629)), 1], [((342, 445), (346, 476)), 1], [((969, 419), (976, 431)), 1.0], [((54, 562), (76, 593)), 1], [((342, 652), (364, 674)), 1]]\n"
     ]
    },
    {
     "name": "stderr",
     "output_type": "stream",
     "text": [
      "\u001b[A\u001b[A\u001b[A\n",
      "\n",
      "\n",
      " 27%|██▋       | 306/1136 [02:20<07:31,  1.84it/s]"
     ]
    },
    {
     "name": "stdout",
     "output_type": "stream",
     "text": [
      "[[((72, 562), (94, 593)), 1.0], [((153, 490), (184, 512)), 0.0], [((988, 419), (1048, 482)), 663.0], [((234, 472), (265, 503)), 1.0], [((747, 562), (769, 575)), 0.0], [((729, 490), (760, 512)), 1.0], [((1125, 472), (1129, 503)), 1.0], [((693, 553), (724, 566)), 0.0], [((1017, 580), (1030, 593)), 1.0], [((1242, 607), (1264, 629)), 1.0], [((225, 481), (256, 503)), 1.0], [((630, 607), (634, 629)), 1], [((342, 445), (346, 476)), 1], [((969, 419), (976, 431)), 1.0], [((54, 562), (76, 593)), 1], [((342, 652), (364, 674)), 1]]\n",
      "[[((72, 562), (94, 593)), 1.0], [((153, 490), (184, 512)), 0.0], [((963, 419), (1032, 482)), 664.0], [((297, 445), (319, 467)), 1.0], [((747, 562), (769, 575)), 0.0], [((729, 490), (760, 512)), 1.0], [((1125, 472), (1129, 503)), 1.0], [((693, 553), (724, 566)), 0.0], [((1017, 580), (1030, 593)), 1.0], [((1242, 607), (1264, 629)), 1.0], [((225, 481), (256, 503)), 1.0], [((630, 607), (634, 629)), 1], [((342, 445), (346, 476)), 1], [((969, 419), (976, 431)), 1.0], [((54, 562), (76, 593)), 1], [((342, 652), (364, 674)), 1], [((567, 472), (598, 494)), 1]]\n",
      "[[((72, 562), (94, 593)), 1.0], [((153, 490), (184, 512)), 0.0], [((918, 409), (1032, 482)), 665.0], [((297, 445), (319, 467)), 1.0], [((747, 562), (769, 575)), 1.0], [((729, 490), (760, 512)), 1.0], [((1125, 472), (1129, 503)), 1.0], [((693, 553), (724, 566)), 0.0], [((1017, 580), (1030, 593)), 1.0], [((1242, 607), (1264, 629)), 1.0], [((225, 481), (256, 503)), 1.0], [((630, 607), (634, 629)), 1], [((342, 445), (346, 476)), 1], [((969, 419), (976, 431)), 1.0], [((54, 562), (76, 593)), 1], [((342, 652), (364, 674)), 1], [((567, 472), (598, 494)), 1]]\n",
      "[[((72, 562), (94, 593)), 1.0], [((153, 490), (184, 512)), 0.0], [((927, 409), (1032, 482)), 666.0], [((297, 445), (319, 467)), 1.0], [((747, 526), (778, 539)), 2.0], [((729, 490), (760, 512)), 1.0], [((1125, 472), (1129, 503)), 1.0], [((693, 553), (724, 566)), 0.0], [((1017, 580), (1030, 593)), 2.0], [((1242, 607), (1264, 629)), 1.0], [((225, 481), (256, 503)), 1.0], [((630, 607), (634, 629)), 1], [((342, 445), (346, 476)), 1], [((969, 419), (976, 431)), 1.0], [((54, 562), (76, 593)), 1], [((342, 652), (364, 674)), 1], [((567, 472), (598, 494)), 1]]\n",
      "[[((72, 562), (94, 593)), 1.0], [((153, 490), (184, 512)), 0.0], [((927, 409), (1032, 482)), 668.0], [((297, 445), (319, 467)), 1.0], [((756, 508), (787, 539)), 0.0], [((729, 490), (760, 512)), 1.0], [((1125, 472), (1129, 503)), 1.0], [((693, 553), (724, 566)), 0.0], [((927, 625), (940, 638)), 0.0], [((1242, 607), (1264, 629)), 1.0], [((225, 481), (256, 503)), 1.0], [((630, 607), (634, 629)), 1], [((342, 445), (346, 476)), 1], [((969, 419), (976, 431)), 1.0], [((54, 562), (76, 593)), 1], [((342, 652), (364, 674)), 1], [((567, 472), (598, 494)), 1]]\n",
      "[[((72, 562), (94, 593)), 1.0], [((153, 490), (184, 512)), 0.0], [((918, 409), (1032, 482)), 669.0], [((297, 445), (319, 467)), 1.0], [((756, 508), (787, 539)), 1.0], [((729, 490), (760, 512)), 1.0], [((1125, 472), (1129, 503)), 1.0], [((693, 553), (724, 566)), 0.0], [((927, 625), (940, 638)), 0.0], [((1242, 607), (1264, 629)), 1.0], [((225, 481), (256, 503)), 1.0], [((630, 607), (634, 629)), 1], [((342, 445), (346, 476)), 1], [((969, 419), (976, 431)), 1.0], [((54, 562), (76, 593)), 1], [((342, 652), (364, 674)), 1], [((567, 472), (598, 494)), 1]]\n",
      "[[((72, 562), (94, 593)), 1.0], [((153, 490), (184, 512)), 0.0], [((912, 409), (1039, 482)), 670.0], [((297, 445), (319, 467)), 1.0], [((729, 490), (760, 512)), 2.0], [((729, 490), (760, 512)), 1.0], [((1125, 472), (1129, 503)), 1.0], [((693, 553), (724, 566)), 0.0], [((927, 625), (940, 638)), 0.0], [((1242, 607), (1264, 629)), 1.0], [((225, 481), (256, 503)), 1.0], [((630, 607), (634, 629)), 1], [((342, 445), (346, 476)), 1], [((969, 419), (976, 431)), 1.0], [((54, 562), (76, 593)), 1], [((342, 652), (364, 674)), 1], [((567, 472), (598, 494)), 1]]\n",
      "[[((72, 562), (94, 593)), 1.0], [((153, 490), (184, 512)), 0.0], [((912, 419), (1021, 485)), 671.0], [((297, 445), (319, 467)), 1.0], [((729, 580), (760, 602)), 4.0], [((729, 490), (760, 512)), 1.0], [((1125, 472), (1129, 503)), 1.0], [((693, 553), (724, 566)), 0.0], [((927, 625), (940, 638)), 1.0], [((1242, 607), (1264, 629)), 1.0], [((225, 481), (256, 503)), 1.0], [((630, 607), (634, 629)), 1], [((342, 445), (346, 476)), 1], [((969, 419), (976, 431)), 1.0], [((54, 562), (76, 593)), 1], [((342, 652), (364, 674)), 1], [((567, 472), (598, 494)), 1]]\n"
     ]
    },
    {
     "name": "stderr",
     "output_type": "stream",
     "text": [
      "\u001b[A\u001b[A\u001b[A\n",
      "\n",
      "\n",
      " 28%|██▊       | 314/1136 [02:21<05:33,  2.47it/s]"
     ]
    },
    {
     "name": "stdout",
     "output_type": "stream",
     "text": [
      "[[((72, 562), (94, 593)), 1.0], [((153, 490), (184, 512)), 0.0], [((918, 409), (994, 482)), 672.0], [((297, 445), (319, 467)), 1.0], [((729, 571), (760, 584)), 2.0], [((729, 490), (760, 512)), 1.0], [((1125, 472), (1129, 503)), 1.0], [((693, 553), (724, 566)), 0.0], [((891, 616), (904, 620)), 1.0], [((1242, 607), (1264, 629)), 1.0], [((225, 481), (256, 503)), 1.0], [((630, 607), (634, 629)), 2], [((342, 445), (346, 476)), 1], [((969, 419), (976, 431)), 1.0], [((54, 562), (76, 593)), 1], [((342, 652), (364, 674)), 1], [((567, 472), (598, 494)), 1]]\n",
      "[[((72, 562), (94, 593)), 1.0], [((153, 490), (184, 512)), 0.0], [((912, 419), (1032, 482)), 673.0], [((297, 445), (319, 467)), 1.0], [((729, 571), (760, 584)), 3.0], [((729, 490), (760, 512)), 1.0], [((1125, 472), (1129, 503)), 1.0], [((693, 553), (724, 566)), 0.0], [((891, 616), (904, 620)), 1.0], [((1242, 607), (1264, 629)), 1.0], [((225, 481), (256, 503)), 1.0], [((594, 616), (625, 647)), 0.0], [((342, 445), (346, 476)), 1], [((969, 419), (976, 431)), 1.0], [((54, 562), (76, 593)), 1], [((342, 652), (364, 674)), 1], [((567, 472), (598, 494)), 1]]\n"
     ]
    },
    {
     "name": "stderr",
     "output_type": "stream",
     "text": [
      "\u001b[A\u001b[A\u001b[A\n",
      "\n",
      "\n",
      " 28%|██▊       | 316/1136 [02:21<04:40,  2.92it/s]"
     ]
    },
    {
     "name": "stdout",
     "output_type": "stream",
     "text": [
      "[[((72, 562), (94, 593)), 1.0], [((153, 490), (184, 512)), 0.0], [((912, 418), (1039, 482)), 674.0], [((297, 445), (319, 467)), 1.0], [((846, 562), (877, 593)), 1.0], [((729, 490), (760, 512)), 1.0], [((1125, 472), (1129, 503)), 1.0], [((693, 553), (724, 566)), 0.0], [((891, 616), (904, 620)), 1.0], [((1242, 607), (1264, 629)), 1.0], [((225, 481), (256, 503)), 1.0], [((594, 616), (625, 647)), 0.0], [((342, 445), (346, 476)), 1], [((969, 419), (976, 431)), 1.0], [((54, 562), (76, 593)), 1], [((342, 652), (364, 674)), 1], [((567, 472), (598, 494)), 1]]\n",
      "[[((72, 562), (94, 593)), 1.0], [((153, 490), (184, 512)), 0.0], [((912, 409), (1032, 485)), 675.0], [((297, 445), (319, 467)), 1.0], [((846, 562), (877, 593)), 1.0], [((729, 490), (760, 512)), 1.0], [((1125, 472), (1129, 503)), 1.0], [((693, 553), (724, 566)), 0.0], [((891, 616), (904, 620)), 1.0], [((1242, 607), (1264, 629)), 1.0], [((225, 481), (256, 503)), 1.0], [((594, 616), (625, 647)), 0.0], [((342, 445), (346, 476)), 1], [((969, 419), (976, 431)), 1.0], [((54, 562), (76, 593)), 1], [((342, 652), (364, 674)), 1], [((567, 472), (598, 494)), 1]]\n",
      "[[((72, 562), (94, 593)), 1.0], [((153, 490), (184, 512)), 0.0], [((912, 409), (1032, 482)), 676.0], [((297, 445), (319, 467)), 1.0], [((846, 562), (877, 593)), 1.0], [((729, 490), (760, 512)), 1.0], [((1125, 472), (1129, 503)), 1.0], [((693, 553), (724, 566)), 0.0], [((891, 616), (904, 620)), 1.0], [((1242, 607), (1264, 629)), 1.0], [((225, 481), (256, 503)), 1.0], [((594, 616), (625, 647)), 1.0], [((342, 445), (346, 476)), 1], [((969, 419), (976, 431)), 1.0], [((54, 562), (76, 593)), 1], [((342, 652), (364, 674)), 1], [((567, 472), (598, 494)), 1]]\n",
      "[[((72, 562), (94, 593)), 1.0], [((153, 490), (184, 512)), 0.0], [((912, 409), (1039, 482)), 677.0], [((297, 445), (319, 467)), 1.0], [((846, 562), (877, 593)), 1.0], [((729, 490), (760, 512)), 1.0], [((1125, 472), (1129, 503)), 1.0], [((693, 553), (724, 566)), 0.0], [((891, 616), (904, 620)), 1.0], [((1242, 607), (1264, 629)), 1.0], [((225, 481), (256, 503)), 1.0], [((603, 616), (634, 638)), 1.0], [((342, 445), (346, 476)), 1], [((969, 419), (976, 431)), 1.0], [((54, 562), (76, 593)), 1], [((342, 652), (364, 674)), 1], [((567, 472), (598, 494)), 1]]\n"
     ]
    },
    {
     "name": "stderr",
     "output_type": "stream",
     "text": [
      "\u001b[A\u001b[A\u001b[A\n",
      "\n",
      "\n",
      " 28%|██▊       | 320/1136 [02:22<04:32,  3.00it/s]\u001b[A\u001b[A\u001b[A\n",
      "\n",
      "\n",
      " 28%|██▊       | 322/1136 [02:22<03:30,  3.86it/s]"
     ]
    },
    {
     "name": "stdout",
     "output_type": "stream",
     "text": [
      "[[((72, 562), (94, 593)), 1.0], [((153, 490), (184, 512)), 0.0], [((909, 409), (1021, 482)), 678.0], [((297, 445), (319, 467)), 1.0], [((846, 562), (877, 593)), 2.0], [((729, 490), (760, 512)), 1.0], [((1125, 472), (1129, 503)), 1.0], [((693, 553), (724, 566)), 0.0], [((891, 616), (904, 620)), 1.0], [((1242, 607), (1264, 629)), 1.0], [((225, 481), (256, 503)), 1.0], [((603, 616), (634, 638)), 1.0], [((342, 445), (346, 476)), 1], [((969, 419), (976, 431)), 1.0], [((54, 562), (76, 593)), 1], [((342, 652), (364, 674)), 1], [((567, 472), (598, 494)), 1]]\n",
      "[[((72, 562), (94, 593)), 1.0], [((153, 490), (184, 512)), 0.0], [((909, 409), (1021, 482)), 679.0], [((297, 445), (319, 467)), 1.0], [((747, 553), (769, 557)), 0.0], [((729, 490), (760, 512)), 1.0], [((1125, 472), (1129, 503)), 1.0], [((693, 553), (724, 566)), 0.0], [((891, 616), (904, 620)), 1.0], [((1242, 607), (1264, 629)), 1.0], [((225, 481), (256, 503)), 1.0], [((603, 616), (634, 638)), 1.0], [((342, 445), (346, 476)), 1], [((969, 419), (976, 431)), 1.0], [((54, 562), (76, 593)), 1], [((342, 652), (364, 674)), 1], [((567, 472), (598, 494)), 1]]\n",
      "[[((72, 562), (94, 593)), 2.0], [((153, 490), (184, 512)), 0.0], [((909, 409), (1032, 482)), 680.0], [((297, 445), (319, 467)), 1.0], [((747, 553), (769, 557)), 1.0], [((729, 490), (760, 512)), 1.0], [((1125, 472), (1129, 503)), 1.0], [((693, 553), (724, 566)), 0.0], [((891, 616), (904, 620)), 1.0], [((1242, 607), (1264, 629)), 1.0], [((225, 481), (256, 503)), 1.0], [((603, 616), (634, 638)), 1.0], [((342, 445), (346, 476)), 1], [((969, 419), (976, 431)), 1.0], [((54, 562), (76, 593)), 1], [((342, 652), (364, 674)), 1], [((567, 472), (598, 494)), 1]]\n",
      "[[((90, 445), (120, 476)), 0.0], [((153, 490), (184, 512)), 0.0], [((909, 419), (1032, 482)), 682.0], [((297, 445), (319, 467)), 1.0], [((702, 499), (715, 512)), 1.0], [((729, 490), (760, 512)), 1.0], [((1125, 472), (1129, 503)), 1.0], [((693, 553), (724, 566)), 0.0], [((891, 616), (904, 620)), 1.0], [((1242, 607), (1264, 629)), 1.0], [((225, 481), (256, 503)), 1.0], [((603, 616), (634, 638)), 1.0], [((342, 445), (346, 476)), 1], [((969, 419), (976, 431)), 1.0], [((54, 562), (76, 593)), 1], [((342, 652), (364, 674)), 1], [((567, 472), (598, 494)), 1]]\n"
     ]
    },
    {
     "name": "stderr",
     "output_type": "stream",
     "text": [
      "\u001b[A\u001b[A\u001b[A\n",
      "\n",
      "\n",
      " 29%|██▊       | 324/1136 [02:23<02:44,  4.93it/s]\u001b[A\u001b[A\u001b[A"
     ]
    },
    {
     "name": "stdout",
     "output_type": "stream",
     "text": [
      "[[((90, 445), (120, 476)), 0.0], [((153, 490), (184, 512)), 0.0], [((909, 419), (994, 482)), 684.0], [((297, 445), (319, 467)), 1.0], [((702, 499), (715, 512)), 2.0], [((729, 490), (760, 512)), 1.0], [((1125, 472), (1129, 503)), 1.0], [((693, 553), (724, 566)), 0.0], [((891, 616), (904, 620)), 1.0], [((1242, 607), (1264, 629)), 1.0], [((225, 481), (256, 503)), 1.0], [((603, 616), (634, 638)), 1.0], [((342, 445), (346, 476)), 1], [((969, 419), (976, 431)), 1.0], [((54, 562), (76, 593)), 1], [((342, 652), (364, 674)), 1], [((567, 472), (598, 494)), 1]]\n",
      "[[((90, 445), (120, 476)), 0.0], [((153, 490), (184, 512)), 0.0], [((909, 419), (994, 482)), 685.0], [((297, 445), (319, 467)), 1.0], [((738, 553), (760, 575)), 0.0], [((729, 490), (760, 512)), 1.0], [((1125, 472), (1129, 503)), 1.0], [((693, 553), (724, 566)), 0.0], [((891, 616), (904, 620)), 1.0], [((1242, 607), (1264, 629)), 1.0], [((225, 481), (256, 503)), 1.0], [((603, 616), (634, 638)), 1.0], [((342, 445), (346, 476)), 1], [((969, 419), (976, 431)), 1.0], [((54, 562), (76, 593)), 1], [((342, 652), (364, 674)), 1], [((567, 472), (598, 494)), 1]]\n",
      "[[((90, 445), (120, 476)), 0.0], [((153, 490), (184, 512)), 0.0], [((909, 419), (1032, 482)), 687.0], [((297, 445), (319, 467)), 1.0], [((738, 553), (760, 575)), 0.0], [((729, 490), (760, 512)), 1.0], [((1125, 472), (1129, 503)), 1.0], [((693, 553), (724, 566)), 0.0], [((891, 616), (904, 620)), 1.0], [((1242, 607), (1264, 629)), 1.0], [((225, 481), (256, 503)), 1.0], [((603, 616), (634, 638)), 1.0], [((342, 445), (346, 476)), 1], [((969, 419), (976, 431)), 1.0], [((54, 562), (76, 593)), 1], [((342, 652), (364, 674)), 1], [((567, 472), (598, 494)), 1]]\n",
      "[[((90, 445), (120, 476)), 0.0], [((153, 490), (184, 512)), 0.0], [((954, 419), (994, 482)), 689.0], [((297, 445), (319, 467)), 1.0], [((738, 553), (760, 575)), 0.0], [((729, 490), (760, 512)), 1.0], [((1125, 472), (1129, 503)), 1.0], [((693, 553), (724, 566)), 0.0], [((891, 616), (904, 620)), 1.0], [((1242, 607), (1264, 629)), 1.0], [((225, 481), (256, 503)), 1.0], [((603, 616), (634, 638)), 1.0], [((342, 445), (346, 476)), 1], [((969, 419), (976, 431)), 1.0], [((54, 562), (76, 593)), 1], [((342, 652), (364, 674)), 1], [((567, 472), (598, 494)), 1]]\n",
      "[[((90, 445), (120, 476)), 0.0], [((153, 490), (184, 512)), 0.0], [((969, 419), (1012, 482)), 691.0], [((297, 445), (319, 467)), 1.0], [((738, 553), (760, 575)), 0.0], [((729, 490), (760, 512)), 1.0], [((1125, 472), (1129, 503)), 1.0], [((693, 553), (724, 566)), 0.0], [((891, 616), (904, 620)), 1.0], [((1242, 607), (1264, 629)), 1.0], [((225, 481), (256, 503)), 1.0], [((603, 616), (634, 638)), 1.0], [((342, 445), (346, 476)), 1], [((969, 419), (976, 431)), 1.0], [((54, 562), (76, 593)), 1], [((342, 652), (364, 674)), 1], [((567, 472), (598, 494)), 1]]\n",
      "[[((90, 445), (120, 476)), 0.0], [((153, 490), (184, 512)), 1.0], [((969, 419), (1012, 482)), 693.0], [((297, 445), (319, 467)), 1.0], [((738, 553), (760, 575)), 0.0], [((729, 490), (760, 512)), 1.0], [((1125, 472), (1129, 503)), 1.0], [((693, 553), (724, 566)), 0.0], [((891, 616), (904, 620)), 1.0], [((1242, 607), (1264, 629)), 1.0], [((225, 481), (256, 503)), 1.0], [((603, 616), (634, 638)), 1.0], [((342, 445), (346, 476)), 1], [((969, 419), (976, 431)), 1.0], [((54, 562), (76, 593)), 1], [((342, 652), (364, 674)), 1], [((567, 472), (598, 494)), 1]]\n",
      "[[((90, 445), (120, 476)), 0.0], [((234, 490), (256, 521)), 1.0], [((969, 419), (1012, 482)), 695.0], [((297, 445), (319, 467)), 1.0], [((738, 553), (760, 575)), 0.0], [((729, 490), (760, 512)), 1.0], [((1125, 472), (1129, 503)), 1.0], [((693, 553), (724, 566)), 0.0], [((891, 616), (904, 620)), 1.0], [((1242, 607), (1264, 629)), 1.0], [((225, 481), (256, 503)), 1.0], [((603, 616), (634, 638)), 1.0], [((342, 445), (346, 476)), 1], [((969, 419), (976, 431)), 1.0], [((54, 562), (76, 593)), 1], [((342, 652), (364, 674)), 1], [((567, 472), (598, 494)), 1]]\n"
     ]
    },
    {
     "name": "stderr",
     "output_type": "stream",
     "text": [
      "\n",
      "\n",
      "\n",
      " 29%|██▉       | 331/1136 [02:24<02:57,  4.53it/s]\u001b[A\u001b[A\u001b[A\n",
      "\n",
      "\n",
      " 30%|███       | 343/1136 [02:24<02:04,  6.37it/s]"
     ]
    },
    {
     "name": "stdout",
     "output_type": "stream",
     "text": [
      "[[((90, 445), (120, 476)), 0.0], [((234, 490), (256, 521)), 1.0], [((969, 419), (1012, 482)), 697.0], [((297, 445), (319, 467)), 1.0], [((738, 553), (760, 575)), 1.0], [((729, 490), (760, 512)), 1.0], [((1125, 472), (1129, 503)), 1.0], [((693, 553), (724, 566)), 0.0], [((891, 616), (904, 620)), 1.0], [((1242, 607), (1264, 629)), 1.0], [((225, 481), (256, 503)), 1.0], [((603, 616), (634, 638)), 1.0], [((342, 445), (346, 476)), 1], [((969, 419), (976, 431)), 1.0], [((54, 562), (76, 593)), 2], [((342, 652), (364, 674)), 1], [((567, 472), (598, 494)), 1]]\n",
      "[[((90, 445), (120, 476)), 0.0], [((234, 490), (256, 521)), 1.0], [((969, 419), (1030, 485)), 699.0], [((297, 445), (319, 467)), 1.0], [((819, 616), (841, 638)), 1.0], [((729, 490), (760, 512)), 1.0], [((1125, 472), (1129, 503)), 1.0], [((693, 553), (724, 566)), 0.0], [((891, 616), (904, 620)), 1.0], [((1242, 607), (1264, 629)), 1.0], [((225, 481), (256, 503)), 1.0], [((603, 616), (634, 638)), 1.0], [((342, 445), (346, 476)), 1], [((969, 419), (976, 431)), 1.0], [((135, 607), (184, 647)), 4], [((342, 652), (364, 674)), 1], [((567, 472), (598, 494)), 1]]\n",
      "[[((90, 445), (120, 476)), 0.0], [((234, 490), (256, 521)), 1.0], [((969, 419), (1012, 482)), 701.0], [((297, 445), (319, 467)), 1.0], [((819, 616), (841, 638)), 1.0], [((729, 490), (760, 512)), 1.0], [((1125, 472), (1129, 503)), 1.0], [((693, 553), (724, 566)), 0.0], [((891, 616), (904, 620)), 1.0], [((1242, 607), (1264, 629)), 1.0], [((225, 481), (256, 503)), 1.0], [((603, 616), (634, 638)), 1.0], [((342, 445), (346, 476)), 1], [((969, 419), (976, 431)), 1.0], [((162, 598), (193, 629)), 2.0], [((342, 652), (364, 674)), 1], [((567, 472), (598, 494)), 1]]\n",
      "[[((90, 445), (120, 476)), 0.0], [((234, 490), (256, 521)), 1.0], [((969, 419), (1030, 482)), 703.0], [((297, 445), (319, 467)), 1.0], [((819, 616), (841, 638)), 1.0], [((729, 490), (760, 512)), 1.0], [((1125, 472), (1129, 503)), 1.0], [((693, 553), (724, 566)), 0.0], [((891, 616), (904, 620)), 1.0], [((1242, 607), (1264, 629)), 1.0], [((225, 481), (256, 503)), 1.0], [((603, 616), (634, 638)), 1.0], [((342, 445), (346, 476)), 1], [((969, 419), (976, 431)), 1.0], [((162, 598), (193, 629)), 0.0], [((342, 652), (364, 674)), 1], [((567, 472), (598, 494)), 1]]\n",
      "[[((90, 445), (120, 476)), 0.0], [((234, 490), (256, 521)), 1.0], [((969, 419), (1012, 482)), 705.0], [((297, 445), (319, 467)), 1.0], [((819, 616), (841, 638)), 1.0], [((729, 490), (760, 512)), 1.0], [((1125, 472), (1129, 503)), 1.0], [((693, 553), (724, 566)), 0.0], [((891, 616), (904, 620)), 1.0], [((1242, 607), (1264, 629)), 1.0], [((225, 481), (256, 503)), 1.0], [((603, 616), (634, 638)), 1.0], [((342, 445), (346, 476)), 1], [((969, 419), (976, 431)), 1.0], [((162, 598), (193, 629)), 0.0], [((342, 652), (364, 674)), 1], [((567, 472), (598, 494)), 1]]\n",
      "[[((90, 445), (120, 476)), 0.0], [((234, 490), (256, 521)), 1.0], [((969, 419), (1012, 482)), 707.0], [((297, 445), (319, 467)), 1.0], [((819, 616), (841, 638)), 1.0], [((729, 490), (760, 512)), 1.0], [((1125, 472), (1129, 503)), 1.0], [((693, 553), (724, 566)), 0.0], [((891, 616), (904, 620)), 1.0], [((1242, 607), (1264, 629)), 1.0], [((225, 481), (256, 503)), 1.0], [((603, 616), (634, 638)), 1.0], [((342, 445), (346, 476)), 1], [((969, 419), (976, 431)), 1.0], [((162, 598), (193, 629)), 0.0], [((342, 652), (364, 674)), 1], [((567, 472), (598, 494)), 1]]\n",
      "[[((90, 445), (120, 476)), 0.0], [((234, 490), (256, 521)), 1.0], [((909, 418), (958, 476)), 708.0], [((297, 445), (319, 467)), 1.0], [((819, 616), (841, 638)), 1.0], [((729, 490), (760, 512)), 1.0], [((1125, 472), (1129, 503)), 1.0], [((693, 553), (724, 566)), 0.0], [((891, 616), (904, 620)), 1.0], [((1242, 607), (1264, 629)), 1.0], [((225, 481), (256, 503)), 1.0], [((603, 616), (634, 638)), 1.0], [((342, 445), (346, 476)), 1], [((969, 419), (976, 431)), 1.0], [((162, 598), (193, 629)), 0.0], [((342, 652), (364, 674)), 1], [((567, 472), (598, 494)), 1]]\n",
      "[[((90, 445), (120, 476)), 0.0], [((234, 490), (256, 521)), 1.0], [((909, 418), (1013, 482)), 709.0], [((297, 445), (319, 467)), 1.0], [((819, 616), (841, 638)), 1.0], [((729, 490), (760, 512)), 1.0], [((1125, 472), (1129, 503)), 1.0], [((693, 553), (724, 566)), 0.0], [((891, 616), (904, 620)), 1.0], [((1242, 607), (1264, 629)), 1.0], [((225, 481), (256, 503)), 1.0], [((603, 616), (634, 638)), 1.0], [((342, 445), (346, 476)), 1], [((969, 419), (976, 431)), 1.0], [((162, 598), (193, 629)), 0.0], [((342, 652), (364, 674)), 1], [((567, 472), (598, 494)), 1]]\n",
      "[[((90, 445), (120, 476)), 0.0], [((234, 490), (256, 521)), 1.0], [((909, 418), (1030, 482)), 711.0], [((297, 445), (319, 467)), 1.0], [((819, 616), (841, 638)), 1.0], [((729, 490), (760, 512)), 1.0], [((1125, 472), (1129, 503)), 1.0], [((693, 553), (724, 566)), 0.0], [((891, 616), (904, 620)), 1.0], [((1242, 607), (1264, 629)), 1.0], [((225, 481), (256, 503)), 1.0], [((603, 616), (634, 638)), 1.0], [((342, 445), (346, 476)), 1], [((969, 419), (976, 431)), 1.0], [((162, 598), (193, 629)), 0.0], [((342, 652), (364, 674)), 1], [((567, 472), (598, 494)), 1]]\n",
      "[[((90, 445), (120, 476)), 0.0], [((234, 490), (256, 521)), 1.0], [((969, 419), (1030, 482)), 712.0], [((297, 445), (319, 467)), 1.0], [((819, 616), (841, 638)), 1.0], [((729, 490), (760, 512)), 1.0], [((1125, 472), (1129, 503)), 1.0], [((693, 553), (724, 566)), 0.0], [((891, 616), (904, 620)), 1.0], [((1242, 607), (1264, 629)), 1.0], [((225, 481), (256, 503)), 1.0], [((603, 616), (634, 638)), 1.0], [((342, 445), (346, 476)), 1], [((969, 419), (976, 431)), 1.0], [((162, 598), (193, 629)), 0.0], [((342, 652), (364, 674)), 1], [((567, 472), (598, 494)), 1]]\n",
      "[[((90, 445), (120, 476)), 0.0], [((234, 490), (256, 521)), 1.0], [((909, 418), (1013, 482)), 713.0], [((297, 445), (319, 467)), 1.0], [((819, 616), (841, 638)), 1.0], [((729, 490), (760, 512)), 1.0], [((1125, 472), (1129, 503)), 1.0], [((693, 553), (724, 566)), 0.0], [((891, 616), (904, 620)), 1.0], [((1242, 607), (1264, 629)), 1.0], [((225, 481), (256, 503)), 1.0], [((603, 616), (634, 638)), 1.0], [((342, 445), (346, 476)), 1], [((969, 419), (976, 431)), 1.0], [((162, 598), (193, 629)), 0.0], [((342, 652), (364, 674)), 1], [((567, 472), (598, 494)), 1]]\n",
      "[[((90, 445), (120, 476)), 0.0], [((234, 490), (256, 521)), 1.0], [((909, 419), (1013, 482)), 715.0], [((297, 445), (319, 467)), 1.0], [((819, 616), (841, 638)), 1.0], [((729, 490), (760, 512)), 1.0], [((1125, 472), (1129, 503)), 1.0], [((693, 553), (724, 566)), 0.0], [((891, 616), (904, 620)), 1.0], [((1242, 607), (1264, 629)), 1.0], [((225, 481), (256, 503)), 1.0], [((603, 616), (634, 638)), 1.0], [((342, 445), (346, 476)), 1], [((969, 419), (976, 431)), 1.0], [((162, 598), (193, 629)), 0.0], [((342, 652), (364, 674)), 1], [((567, 472), (598, 494)), 1]]\n",
      "[[((90, 445), (120, 476)), 0.0], [((234, 490), (256, 521)), 1.0], [((954, 419), (1012, 482)), 716.0], [((297, 445), (319, 467)), 1.0], [((819, 616), (841, 638)), 1.0], [((729, 490), (760, 512)), 1.0], [((1125, 472), (1129, 503)), 1.0], [((693, 553), (724, 566)), 0.0], [((891, 616), (904, 620)), 1.0], [((1242, 607), (1264, 629)), 1.0], [((225, 481), (256, 503)), 1.0], [((603, 616), (634, 638)), 1.0], [((342, 445), (346, 476)), 1], [((969, 419), (976, 431)), 1.0], [((162, 598), (193, 629)), 0.0], [((342, 652), (364, 674)), 1], [((567, 472), (598, 494)), 1]]\n",
      "[[((90, 445), (120, 476)), 0.0], [((234, 490), (256, 521)), 1.0], [((909, 419), (1013, 482)), 717.0], [((297, 445), (319, 467)), 1.0], [((819, 616), (841, 638)), 1.0], [((729, 490), (760, 512)), 1.0], [((1125, 472), (1129, 503)), 1.0], [((693, 553), (724, 566)), 0.0], [((891, 616), (904, 620)), 1.0], [((1242, 607), (1264, 629)), 1.0], [((225, 481), (256, 503)), 1.0], [((603, 616), (634, 638)), 1.0], [((342, 445), (346, 476)), 1], [((969, 419), (976, 431)), 1.0], [((162, 598), (193, 629)), 0.0], [((342, 652), (364, 674)), 1], [((567, 472), (598, 494)), 1]]\n",
      "[[((90, 445), (120, 476)), 0.0], [((234, 490), (256, 521)), 1.0], [((909, 418), (1013, 482)), 718.0], [((297, 445), (319, 467)), 1.0], [((819, 616), (841, 638)), 1.0], [((729, 490), (760, 512)), 1.0], [((1125, 472), (1129, 503)), 1.0], [((693, 553), (724, 566)), 0.0], [((891, 616), (904, 620)), 1.0], [((1242, 607), (1264, 629)), 1.0], [((225, 481), (256, 503)), 1.0], [((603, 616), (634, 638)), 1.0], [((342, 445), (346, 476)), 1], [((969, 419), (976, 431)), 1.0], [((162, 598), (193, 629)), 0.0], [((342, 652), (364, 674)), 1], [((567, 472), (598, 494)), 1]]\n",
      "[[((90, 445), (120, 476)), 0.0], [((234, 490), (256, 521)), 1.0], [((918, 418), (1013, 482)), 719.0], [((297, 445), (319, 467)), 1.0], [((819, 616), (841, 638)), 1.0], [((729, 490), (760, 512)), 1.0], [((1125, 472), (1129, 503)), 1.0], [((693, 553), (724, 566)), 0.0], [((891, 616), (904, 620)), 1.0], [((1242, 607), (1264, 629)), 1.0], [((225, 481), (256, 503)), 1.0], [((603, 616), (634, 638)), 1.0], [((342, 445), (346, 476)), 1], [((969, 419), (976, 431)), 1.0], [((162, 598), (193, 629)), 0.0], [((342, 652), (364, 674)), 1], [((567, 472), (598, 494)), 1]]\n",
      "[[((90, 445), (120, 476)), 0.0], [((234, 490), (256, 521)), 1.0], [((918, 418), (1013, 482)), 720.0], [((297, 445), (319, 467)), 1.0], [((819, 616), (841, 638)), 1.0], [((729, 490), (760, 512)), 1.0], [((1125, 472), (1129, 503)), 1.0], [((693, 553), (724, 566)), 0.0], [((891, 616), (904, 620)), 1.0], [((1242, 607), (1264, 629)), 1.0], [((225, 481), (256, 503)), 1.0], [((603, 616), (634, 638)), 1.0], [((342, 445), (346, 476)), 1], [((969, 419), (976, 431)), 1.0], [((162, 598), (193, 629)), 0.0], [((342, 652), (364, 674)), 1], [((567, 472), (598, 494)), 1]]\n",
      "[[((90, 445), (120, 476)), 0.0], [((234, 490), (256, 521)), 1.0], [((918, 418), (1030, 482)), 721.0], [((297, 445), (319, 467)), 1.0], [((819, 616), (841, 638)), 1.0], [((729, 490), (760, 512)), 1.0], [((1125, 472), (1129, 503)), 1.0], [((693, 553), (724, 566)), 0.0], [((891, 616), (904, 620)), 1.0], [((1242, 607), (1264, 629)), 1.0], [((225, 481), (256, 503)), 1.0], [((603, 616), (634, 638)), 1.0], [((342, 445), (346, 476)), 1], [((969, 419), (976, 431)), 1.0], [((162, 598), (193, 629)), 0.0], [((342, 652), (364, 674)), 1], [((567, 472), (598, 494)), 1]]\n"
     ]
    },
    {
     "name": "stderr",
     "output_type": "stream",
     "text": [
      "\u001b[A\u001b[A\u001b[A\n",
      "\n",
      "\n",
      " 31%|███       | 348/1136 [02:25<01:31,  8.61it/s]\u001b[A\u001b[A\u001b[A"
     ]
    },
    {
     "name": "stdout",
     "output_type": "stream",
     "text": [
      "[[((90, 445), (120, 476)), 0.0], [((234, 490), (256, 521)), 1.0], [((931, 419), (1013, 482)), 722.0], [((297, 445), (319, 467)), 1.0], [((819, 616), (841, 638)), 1.0], [((729, 490), (760, 512)), 1.0], [((1125, 472), (1129, 503)), 1.0], [((693, 553), (724, 566)), 0.0], [((891, 616), (904, 620)), 1.0], [((1242, 607), (1264, 629)), 1.0], [((225, 481), (256, 503)), 1.0], [((603, 616), (634, 638)), 1.0], [((342, 445), (346, 476)), 1], [((969, 419), (976, 431)), 1.0], [((162, 598), (193, 629)), 0.0], [((342, 652), (364, 674)), 1], [((567, 472), (598, 494)), 1]]\n",
      "[[((90, 445), (120, 476)), 0.0], [((234, 490), (256, 521)), 1.0], [((936, 419), (1013, 482)), 724.0], [((297, 445), (319, 467)), 1.0], [((819, 616), (841, 638)), 1.0], [((729, 490), (760, 512)), 1.0], [((1125, 472), (1129, 503)), 1.0], [((693, 553), (724, 566)), 0.0], [((891, 616), (904, 620)), 1.0], [((1242, 607), (1264, 629)), 1.0], [((225, 481), (256, 503)), 1.0], [((603, 616), (634, 638)), 1.0], [((342, 445), (346, 476)), 1], [((969, 419), (976, 431)), 1.0], [((162, 598), (193, 629)), 0.0], [((342, 652), (364, 674)), 1], [((567, 472), (598, 494)), 1]]\n",
      "[[((90, 445), (120, 476)), 0.0], [((234, 490), (256, 521)), 1.0], [((909, 419), (1013, 482)), 725.0], [((297, 445), (319, 467)), 1.0], [((819, 616), (841, 638)), 1.0], [((729, 490), (760, 512)), 1.0], [((1125, 472), (1129, 503)), 1.0], [((693, 553), (724, 566)), 0.0], [((891, 616), (904, 620)), 1.0], [((1242, 607), (1264, 629)), 1.0], [((225, 481), (256, 503)), 1.0], [((603, 616), (634, 638)), 1.0], [((342, 445), (346, 476)), 1], [((969, 419), (976, 431)), 1.0], [((162, 598), (193, 629)), 0.0], [((342, 652), (364, 674)), 1], [((567, 472), (598, 494)), 1]]\n"
     ]
    },
    {
     "name": "stderr",
     "output_type": "stream",
     "text": [
      "\n",
      "\n",
      "\n",
      "\r",
      " 31%|███       | 353/1136 [02:25<01:25,  9.18it/s]"
     ]
    },
    {
     "name": "stdout",
     "output_type": "stream",
     "text": [
      "[[((90, 445), (120, 476)), 0.0], [((234, 490), (256, 521)), 1.0], [((909, 409), (1013, 485)), 726.0], [((297, 445), (319, 467)), 1.0], [((819, 616), (841, 638)), 1.0], [((729, 490), (760, 512)), 1.0], [((1125, 472), (1129, 503)), 1.0], [((693, 553), (724, 566)), 0.0], [((891, 616), (904, 620)), 1.0], [((1242, 607), (1264, 629)), 1.0], [((225, 481), (256, 503)), 1.0], [((603, 616), (634, 638)), 1.0], [((342, 445), (346, 476)), 1], [((969, 419), (976, 431)), 1.0], [((162, 598), (193, 629)), 0.0], [((342, 652), (364, 674)), 1], [((567, 472), (598, 494)), 1]]\n",
      "[[((90, 445), (120, 476)), 1.0], [((234, 490), (256, 521)), 1.0], [((909, 409), (1013, 482)), 727.0], [((297, 445), (319, 467)), 1.0], [((819, 616), (841, 638)), 1.0], [((729, 490), (760, 512)), 1.0], [((1125, 472), (1129, 503)), 1.0], [((693, 553), (724, 566)), 0.0], [((891, 616), (904, 620)), 1.0], [((1242, 607), (1264, 629)), 1.0], [((225, 481), (256, 503)), 1.0], [((603, 616), (634, 638)), 1.0], [((342, 445), (346, 476)), 1], [((969, 419), (976, 431)), 1.0], [((162, 598), (193, 629)), 0.0], [((342, 652), (364, 674)), 1], [((567, 472), (598, 494)), 1]]\n",
      "[[((135, 490), (166, 512)), 1.0], [((234, 490), (256, 521)), 1.0], [((909, 409), (1021, 482)), 728.0], [((297, 445), (319, 467)), 1.0], [((819, 616), (841, 638)), 1.0], [((729, 490), (760, 512)), 1.0], [((1125, 472), (1129, 503)), 1.0], [((693, 553), (724, 566)), 0.0], [((891, 616), (904, 620)), 1.0], [((1242, 607), (1264, 629)), 1.0], [((225, 481), (256, 503)), 1.0], [((603, 616), (634, 638)), 1.0], [((342, 445), (346, 476)), 1], [((969, 419), (976, 431)), 1.0], [((162, 598), (193, 629)), 0.0], [((342, 652), (364, 674)), 1], [((567, 472), (598, 494)), 1]]\n"
     ]
    },
    {
     "name": "stderr",
     "output_type": "stream",
     "text": [
      "\u001b[A\u001b[A\u001b[A\n",
      "\n",
      "\n",
      " 31%|███▏      | 357/1136 [02:28<03:38,  3.57it/s]"
     ]
    },
    {
     "name": "stdout",
     "output_type": "stream",
     "text": [
      "[[((135, 490), (166, 512)), 1.0], [((234, 490), (256, 521)), 1.0], [((900, 419), (1013, 482)), 729.0], [((297, 445), (319, 467)), 1.0], [((819, 616), (841, 638)), 1.0], [((729, 490), (760, 512)), 1.0], [((1125, 472), (1129, 503)), 1.0], [((693, 553), (724, 566)), 0.0], [((891, 616), (904, 620)), 1.0], [((1242, 607), (1264, 629)), 1.0], [((225, 481), (256, 503)), 1.0], [((603, 616), (634, 638)), 1.0], [((342, 445), (346, 476)), 1], [((969, 419), (976, 431)), 1.0], [((162, 598), (193, 629)), 0.0], [((342, 652), (364, 674)), 1], [((567, 472), (598, 494)), 1]]\n",
      "[[((135, 490), (166, 512)), 1.0], [((234, 490), (256, 521)), 1.0], [((900, 400), (1013, 482)), 730.0], [((297, 445), (319, 467)), 1.0], [((819, 616), (841, 638)), 1.0], [((729, 490), (760, 512)), 1.0], [((1125, 472), (1129, 503)), 1.0], [((693, 553), (724, 566)), 0.0], [((891, 616), (904, 620)), 1.0], [((1242, 607), (1264, 629)), 1.0], [((225, 481), (256, 503)), 1.0], [((603, 616), (634, 638)), 1.0], [((342, 445), (346, 476)), 1], [((969, 419), (976, 431)), 1.0], [((162, 598), (193, 629)), 0.0], [((342, 652), (364, 674)), 1], [((567, 472), (598, 494)), 1]]\n",
      "[[((135, 490), (166, 512)), 2.0], [((234, 490), (256, 521)), 1.0], [((900, 419), (1013, 482)), 731.0], [((297, 445), (319, 467)), 1.0], [((819, 616), (841, 638)), 1.0], [((729, 490), (760, 512)), 1.0], [((1125, 472), (1129, 503)), 1.0], [((693, 553), (724, 566)), 0.0], [((891, 616), (904, 620)), 1.0], [((1242, 607), (1264, 629)), 1.0], [((225, 481), (256, 503)), 1.0], [((603, 616), (634, 638)), 1.0], [((342, 445), (346, 476)), 1], [((969, 419), (976, 431)), 1.0], [((162, 598), (193, 629)), 0.0], [((342, 652), (364, 674)), 1], [((567, 472), (598, 494)), 1]]\n"
     ]
    },
    {
     "name": "stderr",
     "output_type": "stream",
     "text": [
      "\u001b[A\u001b[A\u001b[A\n",
      "\n",
      "\n",
      " 32%|███▏      | 360/1136 [02:28<02:48,  4.61it/s]"
     ]
    },
    {
     "name": "stdout",
     "output_type": "stream",
     "text": [
      "[[((180, 490), (211, 512)), 0.0], [((234, 490), (256, 521)), 1.0], [((900, 409), (1013, 482)), 732.0], [((297, 445), (319, 467)), 1.0], [((819, 616), (841, 638)), 1.0], [((729, 490), (760, 512)), 1.0], [((1125, 472), (1129, 503)), 1.0], [((693, 553), (724, 566)), 0.0], [((891, 616), (904, 620)), 1.0], [((1242, 607), (1264, 629)), 1.0], [((225, 481), (256, 503)), 1.0], [((603, 616), (634, 638)), 1.0], [((342, 445), (346, 476)), 1], [((969, 419), (976, 431)), 1.0], [((162, 598), (193, 629)), 0.0], [((342, 652), (364, 674)), 1], [((567, 472), (598, 494)), 1]]\n",
      "[[((180, 490), (211, 512)), 0.0], [((234, 490), (256, 521)), 1.0], [((900, 409), (1003, 482)), 733.0], [((297, 445), (319, 467)), 1.0], [((819, 616), (841, 638)), 1.0], [((729, 490), (760, 512)), 1.0], [((1125, 472), (1129, 503)), 1.0], [((693, 553), (724, 566)), 0.0], [((891, 616), (904, 620)), 1.0], [((1242, 607), (1264, 629)), 1.0], [((225, 481), (256, 503)), 1.0], [((603, 616), (634, 638)), 1.0], [((342, 445), (346, 476)), 1], [((969, 419), (976, 431)), 1.0], [((162, 598), (193, 629)), 0.0], [((342, 652), (364, 674)), 1], [((567, 472), (598, 494)), 1]]\n",
      "[[((180, 490), (211, 512)), 0.0], [((234, 490), (256, 521)), 1.0], [((900, 409), (1013, 482)), 734.0], [((297, 445), (319, 467)), 1.0], [((819, 616), (841, 638)), 1.0], [((729, 490), (760, 512)), 1.0], [((1125, 472), (1129, 503)), 1.0], [((693, 553), (724, 566)), 0.0], [((891, 616), (904, 620)), 1.0], [((1242, 607), (1264, 629)), 1.0], [((225, 481), (256, 503)), 1.0], [((603, 616), (634, 638)), 1.0], [((342, 445), (346, 476)), 1], [((969, 419), (976, 431)), 1.0], [((162, 598), (193, 629)), 0.0], [((342, 652), (364, 674)), 1], [((567, 472), (598, 494)), 1]]\n",
      "[[((180, 490), (211, 512)), 0.0], [((234, 490), (256, 521)), 1.0], [((900, 409), (1013, 482)), 735.0], [((297, 445), (319, 467)), 1.0], [((819, 616), (841, 638)), 1.0], [((729, 490), (760, 512)), 1.0], [((1125, 472), (1129, 503)), 1.0], [((693, 553), (724, 566)), 0.0], [((891, 616), (904, 620)), 1.0], [((1242, 607), (1264, 629)), 1.0], [((225, 481), (256, 503)), 1.0], [((603, 616), (634, 638)), 1.0], [((342, 445), (346, 476)), 1], [((969, 419), (976, 431)), 1.0], [((162, 598), (193, 629)), 0.0], [((342, 652), (364, 674)), 1], [((567, 472), (598, 494)), 1]]\n",
      "[[((180, 490), (211, 512)), 0.0], [((234, 490), (256, 521)), 1.0], [((900, 409), (1021, 482)), 736.0], [((297, 445), (319, 467)), 1.0], [((819, 616), (841, 638)), 1.0], [((729, 490), (760, 512)), 1.0], [((1125, 472), (1129, 503)), 1.0], [((693, 553), (724, 566)), 0.0], [((891, 616), (904, 620)), 1.0], [((1242, 607), (1264, 629)), 1.0], [((225, 481), (256, 503)), 1.0], [((603, 616), (634, 638)), 1.0], [((342, 445), (346, 476)), 1], [((969, 419), (976, 431)), 1.0], [((162, 598), (193, 629)), 0.0], [((342, 652), (364, 674)), 1], [((567, 472), (598, 494)), 1]]\n",
      "[[((180, 490), (211, 512)), 0.0], [((234, 490), (256, 521)), 1.0], [((900, 409), (1013, 482)), 737.0], [((297, 445), (319, 467)), 1.0], [((819, 616), (841, 638)), 1.0], [((729, 490), (760, 512)), 1.0], [((1125, 472), (1129, 503)), 1.0], [((693, 553), (724, 566)), 0.0], [((891, 616), (904, 620)), 1.0], [((1242, 607), (1264, 629)), 1.0], [((225, 481), (256, 503)), 1.0], [((603, 616), (634, 638)), 1.0], [((342, 445), (346, 476)), 1], [((969, 419), (976, 431)), 1.0], [((162, 598), (193, 629)), 0.0], [((342, 652), (364, 674)), 1], [((567, 472), (598, 494)), 1], [((504, 571), (517, 584)), 1]]\n"
     ]
    },
    {
     "name": "stderr",
     "output_type": "stream",
     "text": [
      "\u001b[A\u001b[A\u001b[A\n",
      "\n",
      "\n",
      " 32%|███▏      | 364/1136 [02:29<03:14,  3.96it/s]\u001b[A\u001b[A\u001b[A\n",
      "\n",
      "\n",
      " 33%|███▎      | 374/1136 [02:29<02:17,  5.55it/s]"
     ]
    },
    {
     "name": "stdout",
     "output_type": "stream",
     "text": [
      "[[((180, 490), (211, 512)), 0.0], [((234, 490), (256, 521)), 1.0], [((909, 400), (1013, 482)), 740.0], [((297, 445), (319, 467)), 1.0], [((819, 616), (841, 638)), 1.0], [((729, 490), (760, 512)), 1.0], [((1125, 472), (1129, 503)), 3.0], [((693, 553), (724, 566)), 0.0], [((891, 616), (904, 620)), 1.0], [((1242, 607), (1264, 629)), 1.0], [((225, 481), (256, 503)), 1.0], [((603, 616), (634, 638)), 1.0], [((342, 445), (346, 476)), 1], [((969, 419), (976, 431)), 1.0], [((162, 598), (193, 629)), 0.0], [((342, 652), (364, 674)), 1], [((567, 472), (598, 494)), 1], [((504, 571), (517, 584)), 1]]\n",
      "[[((180, 490), (211, 512)), 0.0], [((234, 490), (256, 521)), 1.0], [((950, 419), (1013, 482)), 742.0], [((297, 445), (319, 467)), 1.0], [((819, 616), (841, 638)), 1.0], [((729, 490), (760, 512)), 1.0], [((1159, 419), (1203, 482)), 1.0], [((693, 553), (724, 566)), 0.0], [((891, 616), (904, 620)), 1.0], [((1242, 607), (1264, 629)), 1.0], [((225, 481), (256, 503)), 1.0], [((603, 616), (634, 638)), 1.0], [((342, 445), (346, 476)), 1], [((969, 419), (976, 431)), 1.0], [((162, 598), (193, 629)), 0.0], [((342, 652), (364, 674)), 1], [((567, 472), (598, 494)), 1], [((504, 571), (517, 584)), 1]]\n",
      "[[((180, 490), (211, 512)), 0.0], [((234, 490), (256, 521)), 1.0], [((950, 419), (994, 482)), 743.0], [((297, 445), (319, 467)), 1.0], [((819, 616), (841, 638)), 1.0], [((729, 490), (760, 512)), 1.0], [((1159, 419), (1203, 482)), 2.0], [((693, 553), (724, 566)), 0.0], [((891, 616), (904, 620)), 1.0], [((1242, 607), (1264, 629)), 1.0], [((225, 481), (256, 503)), 1.0], [((603, 616), (634, 638)), 1.0], [((342, 445), (346, 476)), 1], [((969, 419), (976, 431)), 1.0], [((162, 598), (193, 629)), 0.0], [((342, 652), (364, 674)), 1], [((567, 472), (598, 494)), 1], [((504, 571), (517, 584)), 1]]\n",
      "[[((180, 490), (211, 512)), 0.0], [((234, 490), (256, 521)), 1.0], [((912, 419), (994, 482)), 744.0], [((297, 445), (319, 467)), 1.0], [((819, 616), (841, 638)), 1.0], [((729, 490), (760, 512)), 1.0], [((1215, 445), (1237, 476)), 3.0], [((693, 553), (724, 566)), 0.0], [((891, 616), (904, 620)), 1.0], [((1242, 607), (1264, 629)), 1.0], [((225, 481), (256, 503)), 1.0], [((603, 616), (634, 638)), 1.0], [((342, 445), (346, 476)), 1], [((969, 419), (976, 431)), 1.0], [((162, 598), (193, 629)), 0.0], [((342, 652), (364, 674)), 1], [((567, 472), (598, 494)), 1], [((504, 571), (517, 584)), 1]]\n",
      "[[((180, 490), (211, 512)), 0.0], [((234, 490), (256, 521)), 1.0], [((909, 409), (994, 482)), 745.0], [((297, 445), (319, 467)), 1.0], [((819, 616), (841, 638)), 1.0], [((729, 490), (760, 512)), 1.0], [((1143, 436), (1156, 458)), 1.0], [((693, 553), (724, 566)), 0.0], [((891, 616), (904, 620)), 1.0], [((1242, 607), (1264, 629)), 1.0], [((225, 481), (256, 503)), 1.0], [((603, 616), (634, 638)), 1.0], [((342, 445), (346, 476)), 1], [((969, 419), (976, 431)), 1.0], [((162, 598), (193, 629)), 0.0], [((342, 652), (364, 674)), 1], [((567, 472), (598, 494)), 1], [((504, 571), (517, 584)), 1]]\n",
      "[[((180, 490), (211, 512)), 0.0], [((234, 490), (256, 521)), 1.0], [((909, 409), (1013, 482)), 746.0], [((297, 445), (319, 467)), 1.0], [((819, 616), (841, 638)), 1.0], [((729, 490), (760, 512)), 1.0], [((1143, 436), (1156, 458)), 1.0], [((693, 553), (724, 566)), 0.0], [((891, 616), (904, 620)), 1.0], [((1242, 607), (1264, 629)), 1.0], [((225, 481), (256, 503)), 1.0], [((603, 616), (634, 638)), 1.0], [((342, 445), (346, 476)), 1], [((969, 419), (976, 431)), 1.0], [((162, 598), (193, 629)), 0.0], [((342, 652), (364, 674)), 1], [((567, 472), (598, 494)), 1], [((504, 571), (517, 584)), 1]]\n",
      "[[((180, 490), (211, 512)), 0.0], [((234, 490), (256, 521)), 1.0], [((900, 409), (1013, 482)), 747.0], [((297, 445), (319, 467)), 1.0], [((819, 616), (841, 638)), 1.0], [((729, 490), (760, 512)), 1.0], [((1143, 436), (1156, 458)), 1.0], [((693, 553), (724, 566)), 0.0], [((891, 616), (904, 620)), 1.0], [((1242, 607), (1264, 629)), 1.0], [((225, 481), (256, 503)), 1.0], [((603, 616), (634, 638)), 1.0], [((342, 445), (346, 476)), 1], [((969, 419), (976, 431)), 1.0], [((162, 598), (193, 629)), 0.0], [((342, 652), (364, 674)), 1], [((567, 472), (598, 494)), 1], [((504, 571), (517, 584)), 1]]\n",
      "[[((180, 490), (211, 512)), 0.0], [((234, 490), (256, 521)), 1.0], [((909, 409), (1013, 482)), 748.0], [((297, 445), (319, 467)), 1.0], [((819, 616), (841, 638)), 1.0], [((729, 490), (760, 512)), 1.0], [((1143, 436), (1156, 458)), 1.0], [((693, 553), (724, 566)), 0.0], [((891, 616), (904, 620)), 1.0], [((1242, 607), (1264, 629)), 1.0], [((225, 481), (256, 503)), 1.0], [((603, 616), (634, 638)), 1.0], [((342, 445), (346, 476)), 1], [((969, 419), (976, 431)), 1.0], [((162, 598), (193, 629)), 0.0], [((342, 652), (364, 674)), 1], [((567, 472), (598, 494)), 1], [((504, 571), (517, 584)), 1]]\n",
      "[[((180, 490), (211, 512)), 0.0], [((234, 490), (256, 521)), 1.0], [((909, 400), (1021, 482)), 749.0], [((297, 445), (319, 467)), 1.0], [((819, 616), (841, 638)), 1.0], [((729, 490), (760, 512)), 1.0], [((1143, 436), (1156, 458)), 2.0], [((693, 553), (724, 566)), 0.0], [((891, 616), (904, 620)), 1.0], [((1242, 607), (1264, 629)), 1.0], [((225, 481), (256, 503)), 1.0], [((603, 616), (634, 638)), 1.0], [((342, 445), (346, 476)), 1], [((969, 419), (976, 431)), 1.0], [((162, 598), (193, 629)), 0.0], [((342, 652), (364, 674)), 1], [((567, 472), (598, 494)), 1], [((504, 571), (517, 584)), 1]]\n",
      "[[((180, 490), (211, 512)), 0.0], [((234, 490), (256, 521)), 1.0], [((909, 400), (1021, 482)), 750.0], [((297, 445), (319, 467)), 1.0], [((819, 616), (841, 638)), 2.0], [((729, 490), (760, 512)), 1.0], [((1206, 445), (1237, 467)), 3.0], [((693, 553), (724, 566)), 0.0], [((891, 616), (904, 620)), 1.0], [((1242, 607), (1264, 629)), 1.0], [((225, 481), (256, 503)), 1.0], [((603, 616), (634, 638)), 1.0], [((342, 445), (346, 476)), 1], [((969, 419), (976, 431)), 1.0], [((162, 598), (193, 629)), 0.0], [((342, 652), (364, 674)), 1], [((567, 472), (598, 494)), 1], [((504, 571), (517, 584)), 1]]\n",
      "[[((180, 490), (211, 512)), 0.0], [((234, 490), (256, 521)), 1.0], [((900, 409), (994, 463)), 751.0], [((297, 445), (319, 467)), 1.0], [((747, 589), (778, 611)), 3.0], [((729, 490), (760, 512)), 1.0], [((1216, 436), (1279, 482)), 1.0], [((693, 553), (724, 566)), 0.0], [((891, 616), (904, 620)), 1.0], [((1242, 607), (1264, 629)), 1.0], [((225, 481), (256, 503)), 1.0], [((603, 616), (634, 638)), 1.0], [((342, 445), (346, 476)), 1], [((969, 419), (976, 431)), 1.0], [((162, 598), (193, 629)), 0.0], [((342, 652), (364, 674)), 1], [((567, 472), (598, 494)), 1], [((504, 571), (517, 584)), 1]]\n"
     ]
    },
    {
     "name": "stderr",
     "output_type": "stream",
     "text": [
      "\u001b[A\u001b[A\u001b[A"
     ]
    },
    {
     "name": "stdout",
     "output_type": "stream",
     "text": [
      "[[((180, 490), (211, 512)), 0.0], [((234, 490), (256, 521)), 1.0], [((909, 418), (1032, 482)), 752.0], [((297, 445), (319, 467)), 1.0], [((747, 553), (778, 575)), 1.0], [((729, 490), (760, 512)), 1.0], [((1216, 436), (1279, 482)), 1.0], [((693, 553), (724, 566)), 0.0], [((891, 616), (904, 620)), 1.0], [((1242, 607), (1264, 629)), 1.0], [((225, 481), (256, 503)), 1.0], [((603, 616), (634, 638)), 1.0], [((342, 445), (346, 476)), 1], [((969, 419), (976, 431)), 1.0], [((162, 598), (193, 629)), 0.0], [((342, 652), (364, 674)), 1], [((567, 472), (598, 494)), 1], [((504, 571), (517, 584)), 1]]\n",
      "[[((180, 490), (211, 512)), 0.0], [((234, 490), (256, 521)), 1.0], [((900, 409), (1013, 482)), 753.0], [((297, 445), (319, 467)), 1.0], [((747, 553), (778, 575)), 1.0], [((729, 490), (760, 512)), 1.0], [((1216, 436), (1279, 482)), 1.0], [((693, 553), (724, 566)), 0.0], [((891, 616), (904, 620)), 1.0], [((1242, 607), (1264, 629)), 1.0], [((225, 481), (256, 503)), 1.0], [((603, 616), (634, 638)), 1.0], [((342, 445), (346, 476)), 1], [((969, 419), (976, 431)), 1.0], [((162, 598), (193, 629)), 0.0], [((342, 652), (364, 674)), 1], [((567, 472), (598, 494)), 1], [((504, 571), (517, 584)), 1]]\n",
      "[[((180, 490), (211, 512)), 0.0], [((234, 490), (256, 521)), 1.0], [((900, 400), (1013, 482)), 754.0], [((297, 445), (319, 467)), 1.0], [((747, 553), (778, 575)), 1.0], [((729, 490), (760, 512)), 1.0], [((1216, 436), (1279, 482)), 1.0], [((693, 553), (724, 566)), 0.0], [((891, 616), (904, 620)), 1.0], [((1242, 607), (1264, 629)), 1.0], [((225, 481), (256, 503)), 1.0], [((603, 616), (634, 638)), 1.0], [((342, 445), (346, 476)), 1], [((969, 419), (976, 431)), 1.0], [((162, 598), (193, 629)), 0.0], [((342, 652), (364, 674)), 1], [((567, 472), (598, 494)), 1], [((504, 571), (517, 584)), 1]]\n"
     ]
    },
    {
     "name": "stderr",
     "output_type": "stream",
     "text": [
      "\n",
      "\n",
      "\n",
      "\r",
      " 33%|███▎      | 378/1136 [02:31<03:12,  3.94it/s]"
     ]
    },
    {
     "name": "stdout",
     "output_type": "stream",
     "text": [
      "[[((180, 490), (211, 512)), 0.0], [((234, 490), (256, 521)), 1.0], [((909, 400), (1013, 482)), 756.0], [((297, 445), (319, 467)), 1.0], [((747, 553), (778, 575)), 2.0], [((729, 490), (760, 512)), 1.0], [((1216, 436), (1279, 482)), 1.0], [((693, 553), (724, 566)), 0.0], [((891, 616), (904, 620)), 1.0], [((1242, 607), (1264, 629)), 1.0], [((225, 481), (256, 503)), 1.0], [((603, 616), (634, 638)), 1.0], [((342, 445), (346, 476)), 1], [((969, 419), (976, 431)), 1.0], [((162, 598), (193, 629)), 0.0], [((342, 652), (364, 674)), 1], [((567, 472), (598, 494)), 1], [((504, 571), (517, 584)), 1]]\n",
      "[[((180, 490), (211, 512)), 0.0], [((234, 490), (256, 521)), 1.0], [((950, 400), (1013, 482)), 758.0], [((297, 445), (319, 467)), 1.0], [((810, 598), (832, 620)), 0.0], [((729, 490), (760, 512)), 1.0], [((1216, 436), (1279, 482)), 1.0], [((693, 553), (724, 566)), 0.0], [((891, 616), (904, 620)), 1.0], [((1242, 607), (1264, 629)), 1.0], [((225, 481), (256, 503)), 1.0], [((603, 616), (634, 638)), 1.0], [((342, 445), (346, 476)), 1], [((969, 419), (976, 431)), 1.0], [((162, 598), (193, 629)), 0.0], [((342, 652), (364, 674)), 1], [((567, 472), (598, 494)), 1], [((504, 571), (517, 584)), 1]]\n",
      "[[((180, 490), (211, 512)), 0.0], [((234, 490), (256, 521)), 1.0], [((950, 400), (1013, 482)), 760.0], [((297, 445), (319, 467)), 1.0], [((810, 598), (832, 620)), 0.0], [((729, 490), (760, 512)), 1.0], [((1216, 436), (1279, 482)), 1.0], [((693, 553), (724, 566)), 0.0], [((891, 616), (904, 620)), 1.0], [((1242, 607), (1264, 629)), 1.0], [((225, 481), (256, 503)), 1.0], [((603, 616), (634, 638)), 1.0], [((342, 445), (346, 476)), 1], [((969, 419), (976, 431)), 1.0], [((162, 598), (193, 629)), 0.0], [((342, 652), (364, 674)), 1], [((567, 472), (598, 494)), 1], [((504, 571), (517, 584)), 1]]\n",
      "[[((180, 490), (211, 512)), 0.0], [((234, 490), (256, 521)), 1.0], [((950, 400), (1013, 467)), 761.0], [((297, 445), (319, 467)), 1.0], [((810, 598), (832, 620)), 0.0], [((729, 490), (760, 512)), 1.0], [((1216, 436), (1279, 482)), 1.0], [((693, 553), (724, 566)), 0.0], [((891, 616), (904, 620)), 1.0], [((1242, 607), (1264, 629)), 1.0], [((225, 481), (256, 503)), 1.0], [((603, 616), (634, 638)), 1.0], [((342, 445), (346, 476)), 1], [((969, 419), (976, 431)), 1.0], [((162, 598), (193, 629)), 0.0], [((342, 652), (364, 674)), 1], [((567, 472), (598, 494)), 1], [((504, 571), (517, 584)), 1]]\n",
      "[[((180, 490), (211, 512)), 0.0], [((234, 490), (256, 521)), 1.0], [((912, 400), (1013, 467)), 763.0], [((297, 445), (319, 467)), 1.0], [((810, 598), (832, 620)), 0.0], [((729, 490), (760, 512)), 1.0], [((1216, 436), (1279, 482)), 1.0], [((693, 553), (724, 566)), 0.0], [((891, 616), (904, 620)), 1.0], [((1242, 607), (1264, 629)), 1.0], [((225, 481), (256, 503)), 1.0], [((603, 616), (634, 638)), 1.0], [((342, 445), (346, 476)), 1], [((969, 419), (976, 431)), 1.0], [((162, 598), (193, 629)), 0.0], [((342, 652), (364, 674)), 1], [((567, 472), (598, 494)), 1], [((504, 571), (517, 584)), 1]]\n"
     ]
    },
    {
     "name": "stderr",
     "output_type": "stream",
     "text": [
      "\u001b[A\u001b[A\u001b[A\n",
      "\n",
      "\n",
      " 34%|███▎      | 383/1136 [02:31<02:25,  5.17it/s]"
     ]
    },
    {
     "name": "stdout",
     "output_type": "stream",
     "text": [
      "[[((180, 490), (211, 512)), 0.0], [((234, 490), (256, 521)), 1.0], [((950, 419), (1013, 467)), 764.0], [((297, 445), (319, 467)), 1.0], [((810, 598), (832, 620)), 0.0], [((729, 490), (760, 512)), 1.0], [((1216, 436), (1279, 482)), 2.0], [((693, 553), (724, 566)), 0.0], [((891, 616), (904, 620)), 1.0], [((1242, 607), (1264, 629)), 1.0], [((225, 481), (256, 503)), 1.0], [((603, 616), (634, 638)), 1.0], [((342, 445), (346, 476)), 1], [((969, 419), (976, 431)), 1.0], [((162, 598), (193, 629)), 0.0], [((342, 652), (364, 674)), 1], [((567, 472), (598, 494)), 1], [((504, 571), (517, 584)), 1]]\n",
      "[[((180, 490), (211, 512)), 0.0], [((234, 490), (256, 521)), 1.0], [((900, 418), (1013, 482)), 765.0], [((297, 445), (319, 467)), 1.0], [((810, 598), (832, 620)), 0.0], [((729, 490), (760, 512)), 1.0], [((1215, 490), (1237, 521)), 0.0], [((693, 553), (724, 566)), 0.0], [((891, 616), (904, 620)), 1.0], [((1242, 607), (1264, 629)), 1.0], [((225, 481), (256, 503)), 1.0], [((603, 616), (634, 638)), 1.0], [((342, 445), (346, 476)), 1], [((969, 419), (976, 431)), 1.0], [((162, 598), (193, 629)), 0.0], [((342, 652), (364, 674)), 1], [((567, 472), (598, 494)), 1], [((504, 571), (517, 584)), 1]]\n",
      "[[((180, 490), (211, 512)), 0.0], [((234, 490), (256, 521)), 1.0], [((893, 400), (1013, 482)), 766.0], [((297, 445), (319, 467)), 1.0], [((810, 598), (832, 620)), 0.0], [((729, 490), (760, 512)), 1.0], [((1215, 490), (1237, 521)), 0.0], [((693, 553), (724, 566)), 0.0], [((891, 616), (904, 620)), 1.0], [((1242, 607), (1264, 629)), 1.0], [((225, 481), (256, 503)), 1.0], [((603, 616), (634, 638)), 1.0], [((342, 445), (346, 476)), 1], [((969, 419), (976, 431)), 1.0], [((162, 598), (193, 629)), 0.0], [((342, 652), (364, 674)), 1], [((567, 472), (598, 494)), 2], [((504, 571), (517, 584)), 1]]\n",
      "[[((180, 490), (211, 512)), 0.0], [((234, 490), (256, 521)), 1.0], [((912, 409), (1013, 482)), 768.0], [((297, 445), (319, 467)), 1.0], [((810, 598), (832, 620)), 0.0], [((729, 490), (760, 512)), 1.0], [((1215, 490), (1237, 521)), 0.0], [((693, 553), (724, 566)), 0.0], [((891, 616), (904, 620)), 1.0], [((1242, 607), (1264, 629)), 1.0], [((225, 481), (256, 503)), 1.0], [((603, 616), (634, 638)), 1.0], [((342, 445), (346, 476)), 1], [((969, 419), (976, 431)), 1.0], [((162, 598), (193, 629)), 0.0], [((342, 652), (364, 674)), 1], [((531, 499), (553, 521)), 0.0], [((504, 571), (517, 584)), 1]]\n",
      "[[((180, 490), (211, 512)), 0.0], [((234, 490), (256, 521)), 1.0], [((927, 418), (994, 467)), 770.0], [((297, 445), (319, 467)), 1.0], [((810, 598), (832, 620)), 0.0], [((729, 490), (760, 512)), 1.0], [((1215, 490), (1237, 521)), 0.0], [((693, 553), (724, 566)), 0.0], [((891, 616), (904, 620)), 1.0], [((1242, 607), (1264, 629)), 1.0], [((225, 481), (256, 503)), 1.0], [((603, 616), (634, 638)), 1.0], [((342, 445), (346, 476)), 1], [((969, 419), (976, 431)), 1.0], [((162, 598), (193, 629)), 0.0], [((342, 652), (364, 674)), 1], [((531, 499), (553, 521)), 0.0], [((504, 571), (517, 584)), 1]]\n"
     ]
    },
    {
     "name": "stderr",
     "output_type": "stream",
     "text": [
      "\u001b[A\u001b[A\u001b[A\n",
      "\n",
      "\n",
      " 34%|███▍      | 388/1136 [02:32<02:05,  5.94it/s]\u001b[A\u001b[A\u001b[A\n",
      "\n",
      "\n",
      " 35%|███▍      | 396/1136 [02:32<01:30,  8.21it/s]"
     ]
    },
    {
     "name": "stdout",
     "output_type": "stream",
     "text": [
      "[[((180, 490), (211, 512)), 0.0], [((234, 490), (256, 521)), 1.0], [((909, 409), (958, 449)), 771.0], [((297, 445), (319, 467)), 1.0], [((810, 598), (832, 620)), 0.0], [((729, 490), (760, 512)), 1.0], [((1215, 490), (1237, 521)), 0.0], [((693, 553), (724, 566)), 0.0], [((891, 616), (904, 620)), 1.0], [((1242, 607), (1264, 629)), 1.0], [((225, 481), (256, 503)), 1.0], [((603, 616), (634, 638)), 1.0], [((342, 445), (346, 476)), 1], [((969, 419), (976, 431)), 1.0], [((162, 598), (193, 629)), 0.0], [((342, 652), (364, 674)), 1], [((531, 499), (553, 521)), 0.0], [((504, 571), (517, 584)), 1], [((1107, 580), (1138, 602)), 1]]\n",
      "[[((180, 490), (211, 512)), 0.0], [((234, 490), (256, 521)), 1.0], [((900, 409), (994, 482)), 772.0], [((297, 445), (319, 467)), 1.0], [((810, 598), (832, 620)), 1.0], [((729, 490), (760, 512)), 1.0], [((1215, 490), (1237, 521)), 0.0], [((693, 553), (724, 566)), 0.0], [((891, 616), (904, 620)), 1.0], [((1242, 607), (1264, 629)), 1.0], [((225, 481), (256, 503)), 1.0], [((603, 616), (634, 638)), 1.0], [((342, 445), (346, 476)), 1], [((969, 419), (976, 431)), 1.0], [((162, 598), (193, 629)), 0.0], [((342, 652), (364, 674)), 1], [((531, 499), (553, 521)), 0.0], [((504, 571), (517, 584)), 1], [((1107, 580), (1138, 602)), 1]]\n",
      "[[((180, 490), (211, 512)), 0.0], [((234, 490), (256, 521)), 1.0], [((900, 409), (1003, 458)), 775.0], [((297, 445), (319, 467)), 1.0], [((747, 616), (778, 629)), 2.0], [((729, 490), (760, 512)), 1.0], [((1215, 490), (1237, 521)), 0.0], [((693, 553), (724, 566)), 0.0], [((891, 616), (904, 620)), 2.0], [((1242, 607), (1264, 629)), 1.0], [((225, 481), (256, 503)), 1.0], [((603, 616), (634, 638)), 1.0], [((342, 445), (346, 476)), 1], [((969, 419), (976, 431)), 1.0], [((162, 598), (193, 629)), 0.0], [((342, 652), (364, 674)), 1], [((531, 499), (553, 521)), 0.0], [((504, 571), (517, 584)), 1], [((1107, 580), (1138, 602)), 1]]\n",
      "[[((180, 490), (211, 512)), 0.0], [((234, 490), (256, 521)), 1.0], [((950, 419), (985, 458)), 776.0], [((297, 445), (319, 467)), 1.0], [((738, 562), (760, 584)), 5.0], [((729, 490), (760, 512)), 1.0], [((1215, 490), (1237, 521)), 0.0], [((693, 553), (724, 566)), 0.0], [((900, 616), (931, 638)), 3.0], [((1242, 607), (1264, 629)), 1.0], [((225, 481), (256, 503)), 1.0], [((603, 616), (634, 638)), 1.0], [((342, 445), (346, 476)), 1], [((969, 419), (976, 431)), 1.0], [((162, 598), (193, 629)), 0.0], [((342, 652), (364, 674)), 1], [((531, 499), (553, 521)), 0.0], [((504, 571), (517, 584)), 1], [((1107, 580), (1138, 602)), 1]]\n",
      "[[((180, 490), (211, 512)), 0.0], [((234, 490), (256, 521)), 1.0], [((891, 409), (994, 482)), 778.0], [((297, 445), (319, 467)), 1.0], [((666, 607), (697, 638)), 6.0], [((729, 490), (760, 512)), 1.0], [((1215, 490), (1237, 521)), 0.0], [((693, 553), (724, 566)), 0.0], [((891, 625), (922, 656)), 1.0], [((1242, 607), (1264, 629)), 1.0], [((225, 481), (256, 503)), 1.0], [((603, 616), (634, 638)), 1.0], [((342, 445), (346, 476)), 1], [((969, 419), (976, 431)), 1.0], [((162, 598), (193, 629)), 0.0], [((342, 652), (364, 674)), 1], [((531, 499), (553, 521)), 0.0], [((504, 571), (517, 584)), 1], [((1107, 580), (1138, 602)), 1]]\n",
      "[[((180, 490), (211, 512)), 0.0], [((234, 490), (256, 521)), 1.0], [((900, 409), (940, 440)), 780.0], [((297, 445), (319, 467)), 1.0], [((648, 616), (679, 647)), 4.0], [((729, 490), (760, 512)), 1.0], [((1215, 490), (1237, 521)), 0.0], [((693, 553), (724, 566)), 0.0], [((891, 625), (922, 656)), 2.0], [((1242, 607), (1264, 629)), 1.0], [((225, 481), (256, 503)), 1.0], [((603, 616), (634, 638)), 1.0], [((342, 445), (346, 476)), 1], [((969, 419), (976, 431)), 1.0], [((162, 598), (193, 629)), 0.0], [((342, 652), (364, 674)), 1], [((531, 499), (553, 521)), 0.0], [((504, 571), (517, 584)), 1], [((1107, 580), (1138, 602)), 1]]\n",
      "[[((180, 490), (211, 512)), 1.0], [((234, 490), (256, 521)), 1.0], [((891, 409), (931, 449)), 782.0], [((297, 445), (319, 467)), 1.0], [((648, 616), (679, 647)), 2.0], [((729, 490), (760, 512)), 1.0], [((1215, 490), (1237, 521)), 0.0], [((693, 553), (724, 566)), 0.0], [((891, 616), (922, 647)), 0.0], [((1242, 607), (1264, 629)), 1.0], [((225, 481), (256, 503)), 1.0], [((603, 616), (634, 638)), 1.0], [((342, 445), (346, 476)), 1], [((969, 419), (976, 431)), 1.0], [((162, 598), (193, 629)), 0.0], [((342, 652), (364, 674)), 1], [((531, 499), (553, 521)), 0.0], [((504, 571), (517, 584)), 1], [((1107, 580), (1138, 602)), 1]]\n",
      "[[((261, 481), (274, 494)), 1.0], [((234, 490), (256, 521)), 1.0], [((891, 409), (940, 467)), 783.0], [((297, 445), (319, 467)), 1.0], [((648, 616), (679, 647)), 3.0], [((729, 490), (760, 512)), 1.0], [((1215, 490), (1237, 521)), 0.0], [((693, 553), (724, 566)), 0.0], [((891, 616), (922, 647)), 0.0], [((1242, 607), (1264, 629)), 1.0], [((225, 481), (256, 503)), 1.0], [((603, 616), (634, 638)), 1.0], [((342, 445), (346, 476)), 1], [((969, 419), (976, 431)), 1.0], [((162, 598), (193, 629)), 0.0], [((342, 652), (364, 674)), 1], [((531, 499), (553, 521)), 0.0], [((504, 571), (517, 584)), 1], [((1107, 580), (1138, 602)), 1]]\n",
      "[[((261, 481), (274, 494)), 1.0], [((234, 490), (256, 521)), 1.0], [((909, 409), (994, 482)), 785.0], [((297, 445), (319, 467)), 1.0], [((738, 598), (760, 620)), 4.0], [((729, 490), (760, 512)), 1.0], [((1215, 490), (1237, 521)), 0.0], [((693, 553), (724, 566)), 0.0], [((891, 616), (922, 647)), 0.0], [((1242, 607), (1264, 629)), 1.0], [((225, 481), (256, 503)), 1.0], [((603, 616), (634, 638)), 1.0], [((342, 445), (346, 476)), 1], [((969, 419), (976, 431)), 1.0], [((162, 598), (193, 629)), 0.0], [((342, 652), (364, 674)), 1], [((531, 499), (553, 521)), 0.0], [((504, 571), (517, 584)), 1], [((1107, 580), (1138, 602)), 1]]\n",
      "[[((261, 481), (274, 494)), 1.0], [((234, 490), (256, 521)), 1.0], [((931, 419), (1013, 482)), 786.0], [((297, 445), (319, 467)), 1.0], [((702, 517), (706, 530)), 5.0], [((729, 490), (760, 512)), 2.0], [((1215, 490), (1237, 521)), 0.0], [((693, 553), (724, 566)), 0.0], [((891, 616), (922, 647)), 0.0], [((1242, 607), (1264, 629)), 1.0], [((225, 481), (256, 503)), 1.0], [((603, 616), (634, 638)), 2.0], [((342, 445), (346, 476)), 1], [((969, 419), (976, 431)), 1.0], [((162, 598), (193, 629)), 0.0], [((342, 652), (364, 674)), 1], [((531, 499), (553, 521)), 0.0], [((504, 571), (517, 584)), 1], [((1107, 580), (1138, 602)), 1]]\n",
      "[[((261, 481), (274, 494)), 2.0], [((234, 490), (256, 521)), 1.0], [((891, 409), (1013, 482)), 788.0], [((297, 445), (319, 467)), 1.0], [((747, 598), (760, 620)), 7.0], [((765, 598), (796, 629)), 0.0], [((1215, 490), (1237, 521)), 1.0], [((693, 553), (724, 566)), 0.0], [((891, 616), (922, 647)), 0.0], [((1242, 607), (1264, 629)), 1.0], [((225, 481), (256, 503)), 1.0], [((585, 607), (616, 629)), 0.0], [((342, 445), (346, 476)), 1], [((969, 419), (976, 431)), 1.0], [((162, 598), (193, 629)), 0.0], [((342, 652), (364, 674)), 1], [((531, 499), (553, 521)), 0.0], [((504, 571), (517, 584)), 1], [((1107, 580), (1138, 602)), 1], [((18, 481), (40, 512)), 2]]\n",
      "[[((135, 472), (148, 503)), 3.0], [((234, 490), (256, 521)), 1.0], [((891, 419), (940, 467)), 789.0], [((297, 445), (319, 467)), 1.0], [((729, 607), (766, 638)), 8.0], [((765, 598), (796, 629)), 0.0], [((1179, 607), (1201, 620)), 1.0], [((693, 553), (724, 566)), 0.0], [((891, 616), (922, 647)), 0.0], [((1242, 607), (1264, 629)), 1.0], [((225, 481), (256, 503)), 1.0], [((585, 607), (616, 629)), 0.0], [((342, 445), (346, 476)), 1], [((969, 419), (976, 431)), 1.0], [((162, 598), (193, 629)), 0.0], [((342, 652), (364, 674)), 1], [((531, 499), (553, 521)), 0.0], [((504, 571), (517, 584)), 1], [((1107, 580), (1138, 602)), 1], [((18, 481), (40, 512)), 0.0]]\n",
      "[[((117, 499), (121, 512)), 1.0], [((234, 490), (256, 521)), 1.0], [((900, 409), (994, 482)), 790.0], [((297, 445), (319, 467)), 1.0], [((729, 598), (778, 656)), 9.0], [((765, 598), (796, 629)), 0.0], [((1179, 607), (1201, 620)), 1.0], [((693, 553), (724, 566)), 0.0], [((891, 616), (922, 647)), 0.0], [((1242, 607), (1264, 629)), 1.0], [((225, 481), (256, 503)), 1.0], [((585, 607), (616, 629)), 0.0], [((342, 445), (346, 476)), 2], [((969, 419), (976, 431)), 1.0], [((162, 598), (193, 629)), 0.0], [((342, 652), (364, 674)), 1], [((531, 499), (553, 521)), 0.0], [((504, 571), (517, 584)), 1], [((1107, 580), (1138, 602)), 1], [((18, 481), (40, 512)), 0.0]]\n",
      "[[((117, 499), (121, 512)), 3.0], [((234, 490), (256, 521)), 1.0], [((900, 409), (1013, 482)), 791.0], [((297, 445), (319, 467)), 1.0], [((729, 607), (778, 647)), 11.0], [((765, 598), (796, 629)), 0.0], [((1179, 607), (1201, 620)), 1.0], [((693, 553), (724, 566)), 0.0], [((891, 616), (922, 647)), 0.0], [((1242, 607), (1264, 629)), 1.0], [((225, 481), (256, 503)), 1.0], [((585, 607), (616, 629)), 0.0], [((468, 454), (499, 482)), 0.0], [((969, 419), (976, 431)), 1.0], [((162, 598), (193, 629)), 0.0], [((342, 652), (364, 674)), 1], [((531, 499), (553, 521)), 0.0], [((504, 571), (517, 584)), 1], [((1107, 580), (1138, 602)), 1], [((18, 481), (40, 512)), 0.0]]\n"
     ]
    },
    {
     "name": "stderr",
     "output_type": "stream",
     "text": [
      "\u001b[A\u001b[A\u001b[A\n",
      "\n",
      "\n",
      " 35%|███▌      | 402/1136 [02:32<01:12, 10.17it/s]\u001b[A\u001b[A\u001b[A\n",
      "\n",
      "\n",
      " 36%|███▌      | 410/1136 [02:32<00:53, 13.53it/s]"
     ]
    },
    {
     "name": "stdout",
     "output_type": "stream",
     "text": [
      "[[((189, 472), (247, 512)), 1.0], [((234, 490), (256, 521)), 1.0], [((891, 409), (985, 482)), 792.0], [((297, 445), (319, 467)), 1.0], [((756, 607), (760, 629)), 16.0], [((765, 598), (796, 629)), 0.0], [((1179, 607), (1201, 620)), 1.0], [((693, 553), (724, 566)), 0.0], [((891, 616), (922, 647)), 0.0], [((1242, 607), (1264, 629)), 1.0], [((225, 481), (256, 503)), 1.0], [((585, 607), (616, 629)), 0.0], [((468, 454), (499, 482)), 0.0], [((969, 419), (976, 431)), 1.0], [((162, 598), (193, 629)), 0.0], [((342, 652), (364, 674)), 1], [((531, 499), (553, 521)), 0.0], [((504, 571), (517, 584)), 1], [((1107, 580), (1138, 602)), 1], [((18, 481), (40, 512)), 0.0]]\n",
      "[[((189, 472), (247, 512)), 2.0], [((234, 490), (256, 521)), 1.0], [((891, 409), (985, 482)), 793.0], [((297, 445), (319, 467)), 1.0], [((765, 598), (814, 647)), 18.0], [((765, 598), (796, 629)), 0.0], [((1179, 607), (1201, 620)), 1.0], [((693, 553), (724, 566)), 0.0], [((891, 616), (922, 647)), 0.0], [((1242, 607), (1264, 629)), 1.0], [((225, 481), (256, 503)), 1.0], [((585, 607), (616, 629)), 0.0], [((468, 454), (499, 482)), 0.0], [((969, 419), (976, 431)), 1.0], [((162, 598), (193, 629)), 0.0], [((342, 652), (364, 674)), 1], [((531, 499), (553, 521)), 0.0], [((504, 571), (517, 584)), 1], [((1107, 580), (1138, 602)), 1], [((18, 481), (40, 512)), 0.0]]\n",
      "[[((144, 481), (148, 494)), 0.0], [((234, 490), (256, 521)), 1.0], [((891, 409), (994, 482)), 794.0], [((297, 445), (319, 467)), 1.0], [((738, 571), (841, 647)), 19.0], [((765, 598), (796, 629)), 0.0], [((1179, 607), (1201, 620)), 1.0], [((693, 553), (724, 566)), 0.0], [((891, 616), (922, 647)), 0.0], [((1242, 607), (1264, 629)), 1.0], [((225, 481), (256, 503)), 1.0], [((585, 607), (616, 629)), 0.0], [((468, 454), (499, 482)), 0.0], [((969, 419), (976, 431)), 1.0], [((162, 598), (193, 629)), 0.0], [((342, 652), (364, 674)), 1], [((531, 499), (553, 521)), 0.0], [((504, 571), (517, 584)), 1], [((1107, 580), (1138, 602)), 1], [((18, 481), (40, 512)), 0.0]]\n",
      "[[((144, 481), (148, 494)), 0.0], [((234, 490), (256, 521)), 1.0], [((891, 409), (994, 482)), 795.0], [((297, 445), (319, 467)), 2.0], [((810, 607), (841, 647)), 20.0], [((765, 598), (796, 629)), 1.0], [((1179, 607), (1201, 620)), 1.0], [((693, 553), (724, 566)), 0.0], [((891, 616), (922, 647)), 0.0], [((1242, 607), (1264, 629)), 1.0], [((225, 481), (256, 503)), 1.0], [((585, 607), (616, 629)), 0.0], [((468, 454), (499, 482)), 3.0], [((969, 419), (976, 431)), 1.0], [((162, 598), (193, 629)), 0.0], [((342, 652), (364, 674)), 1], [((531, 499), (553, 521)), 0.0], [((504, 571), (517, 584)), 1], [((1107, 580), (1138, 602)), 1], [((18, 481), (40, 512)), 0.0]]\n",
      "[[((144, 481), (148, 494)), 0.0], [((234, 490), (256, 521)), 1.0], [((900, 418), (994, 482)), 796.0], [((351, 454), (382, 476)), 0.0], [((765, 616), (796, 647)), 21.0], [((747, 526), (778, 548)), 1.0], [((1179, 607), (1201, 620)), 1.0], [((693, 553), (724, 566)), 0.0], [((891, 616), (922, 647)), 0.0], [((1242, 607), (1264, 629)), 1.0], [((225, 481), (256, 503)), 1.0], [((585, 607), (616, 629)), 0.0], [((549, 481), (580, 503)), 1.0], [((969, 419), (976, 431)), 1.0], [((162, 598), (193, 629)), 0.0], [((342, 652), (364, 674)), 1], [((531, 499), (553, 521)), 0.0], [((504, 571), (517, 584)), 1], [((1107, 580), (1138, 602)), 1], [((18, 481), (40, 512)), 0.0]]\n",
      "[[((144, 481), (148, 494)), 0.0], [((234, 490), (256, 521)), 1.0], [((891, 418), (994, 482)), 797.0], [((351, 454), (382, 476)), 1.0], [((783, 625), (814, 647)), 19.0], [((747, 526), (778, 548)), 1.0], [((1179, 607), (1201, 620)), 1.0], [((693, 553), (724, 566)), 0.0], [((891, 616), (922, 647)), 0.0], [((1242, 607), (1264, 629)), 1.0], [((225, 481), (256, 503)), 1.0], [((585, 607), (616, 629)), 1.0], [((549, 481), (580, 503)), 1.0], [((969, 419), (976, 431)), 1.0], [((162, 598), (193, 629)), 0.0], [((342, 652), (364, 674)), 1], [((531, 499), (553, 521)), 0.0], [((504, 571), (517, 584)), 1], [((1107, 580), (1138, 602)), 1], [((18, 481), (40, 512)), 0.0]]\n",
      "[[((144, 481), (148, 494)), 0.0], [((234, 490), (256, 521)), 1.0], [((893, 419), (994, 482)), 799.0], [((432, 490), (472, 521)), 1.0], [((783, 625), (814, 647)), 17.0], [((747, 526), (778, 548)), 1.0], [((1179, 607), (1201, 620)), 1.0], [((693, 553), (724, 566)), 0.0], [((891, 616), (922, 647)), 0.0], [((1242, 607), (1264, 629)), 1.0], [((225, 481), (256, 503)), 1.0], [((594, 616), (607, 629)), 2.0], [((549, 481), (580, 503)), 1.0], [((969, 419), (976, 431)), 1.0], [((162, 598), (193, 629)), 0.0], [((342, 652), (364, 674)), 1], [((531, 499), (553, 521)), 0.0], [((504, 571), (517, 584)), 1], [((1107, 580), (1138, 602)), 1], [((18, 481), (40, 512)), 0.0]]\n",
      "[[((144, 481), (148, 494)), 0.0], [((234, 490), (256, 521)), 1.0], [((931, 419), (1013, 482)), 800.0], [((432, 490), (472, 521)), 2.0], [((783, 625), (814, 647)), 15.0], [((747, 526), (778, 548)), 1.0], [((1179, 607), (1201, 620)), 1.0], [((693, 553), (724, 566)), 0.0], [((891, 616), (922, 647)), 0.0], [((1242, 607), (1264, 629)), 1.0], [((225, 481), (256, 503)), 1.0], [((459, 625), (490, 647)), 0.0], [((549, 481), (580, 503)), 1.0], [((969, 419), (976, 431)), 1.0], [((162, 598), (193, 629)), 0.0], [((342, 652), (364, 674)), 1], [((531, 499), (553, 521)), 0.0], [((504, 571), (517, 584)), 1], [((1107, 580), (1138, 602)), 1], [((18, 481), (40, 512)), 0.0]]\n",
      "[[((144, 481), (148, 494)), 0.0], [((234, 490), (256, 521)), 2.0], [((900, 419), (994, 482)), 801.0], [((423, 508), (427, 539)), 3.0], [((783, 625), (814, 647)), 16.0], [((747, 526), (778, 548)), 1.0], [((1179, 607), (1201, 620)), 1.0], [((693, 553), (724, 566)), 0.0], [((891, 616), (922, 647)), 0.0], [((1242, 607), (1264, 629)), 1.0], [((225, 481), (256, 503)), 1.0], [((459, 625), (490, 647)), 0.0], [((549, 481), (580, 503)), 1.0], [((969, 419), (976, 431)), 1.0], [((162, 598), (193, 629)), 0.0], [((342, 652), (364, 674)), 1], [((531, 499), (553, 521)), 0.0], [((504, 571), (517, 584)), 1], [((1107, 580), (1138, 602)), 1], [((18, 481), (40, 512)), 0.0]]\n",
      "[[((144, 481), (148, 494)), 3.0], [((279, 571), (310, 584)), 0.0], [((900, 419), (994, 482)), 802.0], [((324, 571), (346, 593)), 1.0], [((747, 625), (760, 647)), 17.0], [((747, 526), (778, 548)), 1.0], [((1179, 607), (1201, 620)), 1.0], [((693, 553), (724, 566)), 0.0], [((891, 616), (922, 647)), 0.0], [((1242, 607), (1264, 629)), 1.0], [((225, 481), (256, 503)), 1.0], [((459, 625), (490, 647)), 0.0], [((549, 481), (580, 503)), 2.0], [((969, 419), (976, 431)), 1.0], [((162, 598), (193, 629)), 1.0], [((342, 652), (364, 674)), 1], [((531, 499), (553, 521)), 0.0], [((504, 571), (517, 584)), 1], [((1107, 580), (1138, 602)), 1], [((18, 481), (40, 512)), 0.0]]\n",
      "[[((99, 571), (157, 647)), 6.0], [((279, 571), (310, 584)), 0.0], [((912, 400), (994, 482)), 803.0], [((324, 571), (346, 593)), 2.0], [((729, 499), (760, 530)), 19.0], [((747, 526), (778, 548)), 1.0], [((1179, 607), (1201, 620)), 1.0], [((693, 553), (724, 566)), 0.0], [((891, 616), (922, 647)), 0.0], [((1242, 607), (1264, 629)), 1.0], [((225, 481), (256, 503)), 1.0], [((459, 625), (490, 647)), 0.0], [((486, 463), (517, 494)), 0.0], [((969, 419), (976, 431)), 1.0], [((45, 589), (85, 629)), 1.0], [((342, 652), (364, 674)), 1], [((531, 499), (553, 521)), 0.0], [((504, 571), (517, 584)), 1], [((1107, 580), (1138, 602)), 1], [((18, 481), (40, 512)), 0.0]]\n",
      "[[((180, 634), (211, 665)), 9.0], [((279, 571), (310, 584)), 1.0], [((912, 400), (994, 482)), 804.0], [((387, 517), (418, 539)), 0.0], [((729, 535), (760, 575)), 17.0], [((747, 526), (778, 548)), 1.0], [((1179, 607), (1201, 620)), 1.0], [((693, 553), (724, 566)), 0.0], [((891, 616), (922, 647)), 2.0], [((1242, 607), (1264, 629)), 1.0], [((225, 481), (256, 503)), 2.0], [((459, 625), (490, 647)), 0.0], [((486, 463), (517, 494)), 0.0], [((969, 419), (976, 431)), 1.0], [((45, 589), (85, 629)), 2.0], [((342, 652), (364, 674)), 1], [((531, 499), (553, 521)), 0.0], [((504, 571), (517, 584)), 1], [((1107, 580), (1138, 602)), 1], [((18, 481), (40, 512)), 0.0]]\n",
      "[[((189, 643), (220, 674)), 11.0], [((369, 535), (391, 557)), 2.0], [((893, 400), (994, 482)), 805.0], [((387, 517), (418, 539)), 1.0], [((729, 535), (760, 575)), 15.0], [((747, 526), (778, 548)), 1.0], [((1179, 607), (1201, 620)), 1.0], [((693, 553), (724, 566)), 0.0], [((873, 634), (904, 665)), 0.0], [((1242, 607), (1264, 629)), 1.0], [((99, 490), (130, 520)), 0.0], [((459, 625), (490, 647)), 0.0], [((486, 463), (517, 494)), 0.0], [((969, 419), (976, 431)), 1.0], [((18, 643), (40, 665)), 3.0], [((342, 652), (364, 674)), 1], [((531, 499), (553, 521)), 0.0], [((504, 571), (517, 584)), 1], [((1107, 580), (1138, 602)), 1], [((18, 481), (40, 512)), 0.0]]\n",
      "[[((171, 580), (202, 611)), 12.0], [((261, 553), (292, 593)), 3.0], [((893, 400), (994, 482)), 806.0], [((468, 481), (490, 503)), 1.0], [((729, 535), (760, 575)), 13.0], [((747, 526), (778, 548)), 1.0], [((1179, 607), (1201, 620)), 1.0], [((693, 553), (724, 566)), 0.0], [((873, 634), (904, 665)), 0.0], [((1242, 607), (1264, 629)), 1.0], [((99, 490), (130, 520)), 0.0], [((459, 625), (490, 647)), 0.0], [((486, 463), (517, 494)), 0.0], [((969, 419), (976, 431)), 1.0], [((9, 634), (40, 665)), 1.0], [((342, 652), (364, 674)), 1], [((531, 499), (553, 521)), 0.0], [((504, 571), (517, 584)), 1], [((1107, 580), (1138, 602)), 1], [((18, 481), (40, 512)), 0.0]]\n",
      "[[((216, 571), (238, 584)), 13.0], [((315, 553), (355, 602)), 1.0], [((893, 400), (994, 482)), 807.0], [((468, 481), (490, 503)), 3.0], [((729, 535), (760, 575)), 11.0], [((747, 526), (778, 548)), 1.0], [((1179, 607), (1201, 620)), 1.0], [((693, 553), (724, 566)), 0.0], [((873, 634), (904, 665)), 0.0], [((1242, 607), (1264, 629)), 1.0], [((99, 490), (130, 520)), 0.0], [((459, 625), (490, 647)), 0.0], [((486, 463), (517, 494)), 0.0], [((969, 419), (976, 431)), 1.0], [((9, 634), (40, 665)), 1.0], [((342, 652), (364, 674)), 1], [((531, 499), (553, 521)), 0.0], [((504, 571), (517, 584)), 1], [((1107, 580), (1138, 602)), 1], [((18, 481), (40, 512)), 0.0]]\n",
      "[[((171, 643), (202, 665)), 14.0], [((315, 553), (355, 602)), 3.0], [((891, 409), (956, 458)), 808.0], [((441, 490), (454, 512)), 4.0], [((729, 535), (760, 575)), 12.0], [((747, 526), (778, 548)), 1.0], [((1179, 607), (1201, 620)), 1.0], [((693, 553), (724, 566)), 0.0], [((873, 634), (904, 665)), 0.0], [((1242, 607), (1264, 629)), 1.0], [((99, 490), (130, 520)), 0.0], [((459, 625), (490, 647)), 0.0], [((486, 463), (517, 494)), 0.0], [((969, 419), (976, 431)), 1.0], [((9, 634), (40, 665)), 1.0], [((342, 652), (364, 674)), 1], [((531, 499), (553, 521)), 0.0], [((504, 571), (517, 584)), 1], [((1107, 580), (1138, 602)), 1], [((18, 481), (40, 512)), 0.0]]\n",
      "[[((63, 634), (94, 665)), 15.0], [((378, 499), (400, 530)), 4.0], [((891, 409), (958, 458)), 809.0], [((414, 499), (472, 539)), 2.0], [((801, 616), (832, 638)), 10.0], [((747, 526), (778, 548)), 1.0], [((1179, 607), (1201, 620)), 1.0], [((693, 553), (724, 566)), 0.0], [((873, 634), (904, 665)), 0.0], [((1242, 607), (1264, 629)), 1.0], [((99, 490), (130, 520)), 0.0], [((459, 625), (490, 647)), 0.0], [((486, 463), (517, 494)), 0.0], [((969, 419), (976, 431)), 1.0], [((9, 634), (40, 665)), 1.0], [((342, 652), (364, 674)), 2], [((531, 499), (553, 521)), 0.0], [((504, 571), (517, 584)), 1], [((1107, 580), (1138, 602)), 1], [((18, 481), (40, 512)), 0.0]]\n"
     ]
    },
    {
     "name": "stderr",
     "output_type": "stream",
     "text": [
      "\u001b[A\u001b[A\u001b[A\n",
      "\n",
      "\n",
      " 37%|███▋      | 422/1136 [02:33<00:38, 18.41it/s]\u001b[A\u001b[A\u001b[A"
     ]
    },
    {
     "name": "stdout",
     "output_type": "stream",
     "text": [
      "[[((117, 634), (148, 656)), 13.0], [((378, 508), (463, 539)), 5.0], [((891, 409), (956, 458)), 810.0], [((414, 499), (472, 539)), 0.0], [((801, 616), (832, 638)), 8.0], [((747, 526), (778, 548)), 1.0], [((1179, 607), (1201, 620)), 1.0], [((693, 553), (724, 566)), 0.0], [((873, 634), (904, 665)), 0.0], [((1242, 607), (1264, 629)), 1.0], [((99, 490), (130, 520)), 0.0], [((459, 625), (490, 647)), 0.0], [((486, 463), (517, 494)), 0.0], [((969, 419), (976, 431)), 1.0], [((9, 634), (40, 665)), 1.0], [((252, 643), (274, 665)), 3], [((531, 499), (553, 521)), 0.0], [((504, 571), (517, 584)), 1], [((1107, 580), (1138, 602)), 1], [((18, 481), (40, 512)), 0.0]]\n",
      "[[((117, 634), (148, 656)), 11.0], [((531, 517), (544, 539)), 3.0], [((893, 418), (949, 463)), 811.0], [((414, 499), (472, 539)), 1.0], [((801, 616), (832, 638)), 6.0], [((747, 526), (778, 548)), 1.0], [((1179, 607), (1201, 620)), 1.0], [((693, 553), (724, 566)), 0.0], [((873, 634), (904, 665)), 0.0], [((1242, 607), (1264, 629)), 1.0], [((99, 490), (130, 520)), 0.0], [((459, 625), (490, 647)), 0.0], [((486, 463), (517, 494)), 0.0], [((969, 419), (976, 431)), 1.0], [((9, 634), (40, 665)), 1.0], [((252, 562), (283, 593)), 1.0], [((531, 499), (553, 521)), 0.0], [((504, 571), (517, 584)), 1], [((1107, 580), (1138, 602)), 1], [((18, 481), (40, 512)), 0.0]]\n",
      "[[((117, 634), (148, 656)), 13.0], [((531, 517), (544, 539)), 1.0], [((893, 409), (949, 463)), 812.0], [((360, 526), (391, 557)), 1.0], [((801, 616), (832, 638)), 4.0], [((747, 526), (778, 548)), 1.0], [((1179, 607), (1201, 620)), 1.0], [((693, 553), (724, 566)), 0.0], [((873, 634), (904, 665)), 0.0], [((1242, 607), (1264, 629)), 1.0], [((99, 490), (130, 520)), 0.0], [((459, 625), (490, 647)), 0.0], [((486, 463), (517, 494)), 0.0], [((969, 419), (976, 431)), 1.0], [((9, 634), (40, 665)), 2.0], [((252, 562), (283, 593)), 2.0], [((531, 499), (553, 521)), 0.0], [((504, 571), (517, 584)), 1], [((1107, 580), (1138, 602)), 1], [((18, 481), (40, 512)), 0.0]]\n",
      "[[((162, 580), (193, 611)), 14.0], [((531, 517), (544, 539)), 1.0], [((893, 409), (956, 463)), 813.0], [((360, 526), (391, 557)), 1.0], [((801, 616), (832, 638)), 5.0], [((747, 526), (778, 548)), 1.0], [((1179, 607), (1201, 620)), 1.0], [((693, 553), (724, 566)), 0.0], [((873, 634), (904, 665)), 0.0], [((1242, 607), (1264, 629)), 1.0], [((99, 490), (130, 520)), 0.0], [((459, 625), (490, 647)), 0.0], [((486, 463), (517, 494)), 0.0], [((969, 419), (976, 431)), 1.0], [((18, 562), (49, 593)), 0.0], [((243, 571), (265, 602)), 0.0], [((531, 499), (553, 521)), 0.0], [((504, 571), (517, 584)), 1], [((1107, 580), (1138, 602)), 1], [((18, 481), (40, 512)), 0.0]]\n",
      "[[((261, 553), (337, 584)), 12.0], [((531, 517), (544, 539)), 1.0], [((893, 409), (956, 458)), 814.0], [((360, 526), (391, 557)), 1.0], [((738, 571), (769, 593)), 3.0], [((747, 526), (778, 548)), 1.0], [((1179, 607), (1201, 620)), 1.0], [((693, 553), (724, 566)), 0.0], [((873, 634), (904, 665)), 0.0], [((1242, 607), (1264, 629)), 1.0], [((99, 490), (130, 520)), 1.0], [((459, 625), (490, 647)), 0.0], [((486, 463), (517, 494)), 0.0], [((969, 419), (976, 431)), 1.0], [((18, 562), (49, 593)), 0.0], [((243, 571), (265, 602)), 0.0], [((531, 499), (553, 521)), 0.0], [((504, 571), (517, 584)), 1], [((1107, 580), (1138, 602)), 1], [((18, 481), (40, 512)), 0.0]]\n",
      "[[((261, 553), (337, 584)), 10.0], [((531, 517), (544, 539)), 1.0], [((893, 409), (956, 458)), 815.0], [((360, 526), (391, 557)), 1.0], [((738, 571), (769, 593)), 1.0], [((747, 526), (778, 548)), 1.0], [((1179, 607), (1201, 620)), 1.0], [((693, 553), (724, 566)), 0.0], [((873, 634), (904, 665)), 0.0], [((1242, 607), (1264, 629)), 1.0], [((126, 553), (166, 584)), 1.0], [((459, 625), (490, 647)), 0.0], [((486, 463), (517, 494)), 0.0], [((969, 419), (976, 431)), 1.0], [((18, 562), (49, 593)), 0.0], [((243, 571), (265, 602)), 0.0], [((531, 499), (553, 521)), 0.0], [((504, 571), (517, 584)), 1], [((1107, 580), (1138, 602)), 1], [((18, 481), (40, 512)), 0.0]]\n",
      "[[((261, 553), (337, 584)), 8.0], [((531, 517), (544, 539)), 1.0], [((891, 400), (956, 463)), 816.0], [((360, 526), (391, 557)), 1.0], [((738, 571), (769, 593)), 1.0], [((747, 526), (778, 548)), 1.0], [((1179, 607), (1201, 620)), 1.0], [((693, 553), (724, 566)), 0.0], [((873, 634), (904, 665)), 0.0], [((1242, 607), (1264, 629)), 1.0], [((126, 553), (166, 584)), 2.0], [((459, 625), (490, 647)), 0.0], [((486, 463), (517, 494)), 0.0], [((969, 419), (976, 431)), 1.0], [((18, 562), (49, 593)), 0.0], [((243, 571), (265, 602)), 0.0], [((531, 499), (553, 521)), 0.0], [((504, 571), (517, 584)), 1], [((1107, 580), (1138, 602)), 1], [((18, 481), (40, 512)), 0.0]]\n",
      "[[((261, 553), (337, 584)), 6.0], [((531, 517), (544, 539)), 1.0], [((893, 400), (994, 463)), 817.0], [((360, 526), (391, 557)), 1.0], [((738, 571), (769, 593)), 1.0], [((747, 526), (778, 548)), 1.0], [((1179, 607), (1201, 620)), 1.0], [((693, 553), (724, 566)), 0.0], [((873, 634), (904, 665)), 0.0], [((1242, 607), (1264, 629)), 1.0], [((90, 643), (94, 665)), 3.0], [((459, 625), (490, 647)), 0.0], [((486, 463), (517, 494)), 0.0], [((969, 419), (976, 431)), 1.0], [((18, 562), (49, 593)), 0.0], [((243, 571), (265, 602)), 0.0], [((531, 499), (553, 521)), 0.0], [((504, 571), (517, 584)), 1], [((1107, 580), (1138, 602)), 1], [((18, 481), (40, 512)), 0.0]]\n",
      "[[((261, 553), (337, 584)), 7.0], [((531, 517), (544, 539)), 1.0], [((893, 400), (994, 463)), 818.0], [((360, 526), (391, 557)), 1.0], [((738, 571), (769, 593)), 1.0], [((747, 526), (778, 548)), 1.0], [((1179, 607), (1201, 620)), 1.0], [((693, 553), (724, 566)), 0.0], [((873, 634), (904, 665)), 0.0], [((1242, 607), (1264, 629)), 1.0], [((63, 562), (67, 584)), 1.0], [((459, 625), (490, 647)), 0.0], [((486, 463), (517, 494)), 0.0], [((969, 419), (976, 431)), 1.0], [((18, 562), (49, 593)), 0.0], [((243, 571), (265, 602)), 0.0], [((531, 499), (553, 521)), 0.0], [((504, 571), (517, 584)), 1], [((1107, 580), (1138, 602)), 1], [((18, 481), (40, 512)), 0.0]]\n",
      "[[((279, 553), (292, 575)), 5.0], [((531, 517), (544, 539)), 1.0], [((893, 400), (958, 463)), 819.0], [((360, 526), (391, 557)), 1.0], [((738, 571), (769, 593)), 1.0], [((747, 526), (778, 548)), 1.0], [((1179, 607), (1201, 620)), 1.0], [((693, 553), (724, 566)), 0.0], [((873, 634), (904, 665)), 0.0], [((1242, 607), (1264, 629)), 1.0], [((63, 562), (67, 584)), 1.0], [((459, 625), (490, 647)), 0.0], [((486, 463), (517, 494)), 0.0], [((969, 419), (976, 431)), 1.0], [((18, 562), (49, 593)), 0.0], [((243, 571), (265, 602)), 0.0], [((531, 499), (553, 521)), 0.0], [((504, 571), (517, 584)), 1], [((1107, 580), (1138, 602)), 1], [((18, 481), (40, 512)), 0.0]]\n"
     ]
    },
    {
     "name": "stderr",
     "output_type": "stream",
     "text": [
      "\n",
      "\n",
      "\n",
      "\r",
      " 38%|███▊      | 429/1136 [02:33<00:49, 14.36it/s]"
     ]
    },
    {
     "name": "stdout",
     "output_type": "stream",
     "text": [
      "[[((279, 553), (292, 575)), 3.0], [((531, 517), (544, 539)), 1.0], [((900, 400), (958, 463)), 820.0], [((360, 526), (391, 557)), 1.0], [((738, 571), (769, 593)), 1.0], [((747, 526), (778, 548)), 1.0], [((1179, 607), (1201, 620)), 1.0], [((693, 553), (724, 566)), 0.0], [((873, 634), (904, 665)), 0.0], [((1242, 607), (1264, 629)), 1.0], [((63, 562), (67, 584)), 1.0], [((459, 625), (490, 647)), 0.0], [((486, 463), (517, 494)), 0.0], [((969, 419), (976, 431)), 1.0], [((18, 562), (49, 593)), 0.0], [((243, 571), (265, 602)), 0.0], [((531, 499), (553, 521)), 0.0], [((504, 571), (517, 584)), 1], [((1107, 580), (1138, 602)), 1], [((18, 481), (40, 512)), 0.0]]\n",
      "[[((279, 553), (292, 575)), 4.0], [((531, 517), (544, 539)), 1.0], [((893, 400), (958, 463)), 821.0], [((360, 526), (391, 557)), 1.0], [((738, 571), (769, 593)), 1.0], [((747, 526), (778, 548)), 1.0], [((1179, 607), (1201, 620)), 1.0], [((693, 553), (724, 566)), 0.0], [((873, 634), (904, 665)), 0.0], [((1242, 607), (1264, 629)), 1.0], [((63, 562), (67, 584)), 1.0], [((459, 625), (490, 647)), 0.0], [((486, 463), (517, 494)), 0.0], [((969, 419), (976, 431)), 1.0], [((18, 562), (49, 593)), 0.0], [((243, 571), (265, 602)), 0.0], [((531, 499), (553, 521)), 0.0], [((504, 571), (517, 584)), 1], [((1107, 580), (1138, 602)), 1], [((18, 481), (40, 512)), 0.0]]\n",
      "[[((216, 625), (238, 656)), 2.0], [((531, 517), (544, 539)), 1.0], [((891, 400), (958, 463)), 823.0], [((360, 526), (391, 557)), 1.0], [((738, 571), (769, 593)), 1.0], [((747, 526), (778, 548)), 1.0], [((1179, 607), (1201, 620)), 1.0], [((693, 553), (724, 566)), 0.0], [((873, 634), (904, 665)), 0.0], [((1242, 607), (1264, 629)), 1.0], [((63, 562), (67, 584)), 1.0], [((459, 625), (490, 647)), 0.0], [((486, 463), (517, 494)), 0.0], [((969, 419), (976, 431)), 1.0], [((18, 562), (49, 593)), 0.0], [((243, 571), (265, 602)), 0.0], [((531, 499), (553, 521)), 0.0], [((504, 571), (517, 584)), 1], [((1107, 580), (1138, 602)), 1], [((18, 481), (40, 512)), 0.0]]\n",
      "[[((216, 625), (238, 656)), 0.0], [((531, 517), (544, 539)), 1.0], [((909, 400), (956, 463)), 824.0], [((360, 526), (391, 557)), 1.0], [((738, 571), (769, 593)), 1.0], [((747, 526), (778, 548)), 1.0], [((1179, 607), (1201, 620)), 1.0], [((693, 553), (724, 566)), 0.0], [((873, 634), (904, 665)), 0.0], [((1242, 607), (1264, 629)), 1.0], [((63, 562), (67, 584)), 1.0], [((459, 625), (490, 647)), 0.0], [((486, 463), (517, 494)), 0.0], [((969, 419), (976, 431)), 1.0], [((18, 562), (49, 593)), 0.0], [((243, 571), (265, 602)), 0.0], [((531, 499), (553, 521)), 0.0], [((504, 571), (517, 584)), 1], [((1107, 580), (1138, 602)), 1], [((18, 481), (40, 512)), 0.0]]\n"
     ]
    },
    {
     "name": "stderr",
     "output_type": "stream",
     "text": [
      "\u001b[A\u001b[A\u001b[A\n",
      "\n",
      "\n",
      " 38%|███▊      | 434/1136 [02:34<00:43, 16.25it/s]"
     ]
    },
    {
     "name": "stdout",
     "output_type": "stream",
     "text": [
      "[[((216, 625), (238, 656)), 0.0], [((531, 517), (544, 539)), 1.0], [((909, 409), (949, 440)), 825.0], [((360, 526), (391, 557)), 1.0], [((738, 571), (769, 593)), 1.0], [((747, 526), (778, 548)), 1.0], [((1179, 607), (1201, 620)), 1.0], [((693, 553), (724, 566)), 0.0], [((873, 634), (904, 665)), 0.0], [((1242, 607), (1264, 629)), 1.0], [((63, 562), (67, 584)), 1.0], [((459, 625), (490, 647)), 0.0], [((486, 463), (517, 494)), 0.0], [((969, 419), (976, 431)), 1.0], [((18, 562), (49, 593)), 0.0], [((243, 571), (265, 602)), 0.0], [((531, 499), (553, 521)), 0.0], [((504, 571), (517, 584)), 1], [((1107, 580), (1138, 602)), 1], [((18, 481), (40, 512)), 0.0]]\n",
      "[[((216, 625), (238, 656)), 0.0], [((531, 517), (544, 539)), 1.0], [((909, 400), (975, 463)), 826.0], [((360, 526), (391, 557)), 1.0], [((738, 571), (769, 593)), 1.0], [((747, 526), (778, 548)), 1.0], [((1179, 607), (1201, 620)), 1.0], [((693, 553), (724, 566)), 0.0], [((873, 634), (904, 665)), 0.0], [((1242, 607), (1264, 629)), 1.0], [((63, 562), (67, 584)), 1.0], [((459, 625), (490, 647)), 0.0], [((486, 463), (517, 494)), 0.0], [((969, 419), (976, 431)), 1.0], [((18, 562), (49, 593)), 0.0], [((243, 571), (265, 602)), 0.0], [((531, 499), (553, 521)), 0.0], [((504, 571), (517, 584)), 1], [((1107, 580), (1138, 602)), 1], [((18, 481), (40, 512)), 0.0]]\n",
      "[[((216, 625), (238, 656)), 0.0], [((531, 517), (544, 539)), 1.0], [((893, 400), (956, 463)), 827.0], [((360, 526), (391, 557)), 1.0], [((738, 571), (769, 593)), 1.0], [((747, 526), (778, 548)), 1.0], [((1179, 607), (1201, 620)), 1.0], [((693, 553), (724, 566)), 0.0], [((873, 634), (904, 665)), 0.0], [((1242, 607), (1264, 629)), 1.0], [((63, 562), (67, 584)), 1.0], [((459, 625), (490, 647)), 0.0], [((486, 463), (517, 494)), 0.0], [((969, 419), (976, 431)), 1.0], [((18, 562), (49, 593)), 0.0], [((243, 571), (265, 602)), 0.0], [((531, 499), (553, 521)), 0.0], [((504, 571), (517, 584)), 1], [((1107, 580), (1138, 602)), 1], [((18, 481), (40, 512)), 0.0], [((171, 427), (202, 449)), 1]]\n",
      "[[((216, 625), (238, 656)), 0.0], [((531, 517), (544, 539)), 1.0], [((909, 400), (956, 463)), 828.0], [((360, 526), (391, 557)), 1.0], [((738, 571), (769, 593)), 1.0], [((747, 526), (778, 548)), 1.0], [((1179, 607), (1201, 620)), 1.0], [((693, 553), (724, 566)), 0.0], [((873, 634), (904, 665)), 0.0], [((1242, 607), (1264, 629)), 1.0], [((63, 562), (67, 584)), 1.0], [((459, 625), (490, 647)), 0.0], [((486, 463), (517, 494)), 0.0], [((969, 419), (976, 431)), 1.0], [((18, 562), (49, 593)), 0.0], [((243, 571), (265, 602)), 0.0], [((531, 499), (553, 521)), 0.0], [((504, 571), (517, 584)), 1], [((1107, 580), (1138, 602)), 1], [((18, 481), (40, 512)), 0.0], [((171, 427), (202, 449)), 1]]\n",
      "[[((216, 625), (238, 656)), 0.0], [((531, 517), (544, 539)), 1.0], [((909, 400), (958, 463)), 829.0], [((360, 526), (391, 557)), 1.0], [((738, 571), (769, 593)), 1.0], [((747, 526), (778, 548)), 1.0], [((1179, 607), (1201, 620)), 1.0], [((693, 553), (724, 566)), 0.0], [((873, 634), (904, 665)), 0.0], [((1242, 607), (1264, 629)), 1.0], [((63, 562), (67, 584)), 1.0], [((459, 625), (490, 647)), 0.0], [((486, 463), (517, 494)), 0.0], [((969, 419), (976, 431)), 1.0], [((18, 562), (49, 593)), 0.0], [((243, 571), (265, 602)), 0.0], [((531, 499), (553, 521)), 0.0], [((504, 571), (517, 584)), 1], [((1107, 580), (1138, 602)), 1], [((18, 481), (40, 512)), 0.0], [((171, 427), (202, 449)), 1]]\n",
      "[[((216, 625), (238, 656)), 0.0], [((531, 517), (544, 539)), 1.0], [((900, 400), (940, 431)), 830.0], [((360, 526), (391, 557)), 1.0], [((738, 571), (769, 593)), 1.0], [((747, 526), (778, 548)), 1.0], [((1179, 607), (1201, 620)), 1.0], [((693, 553), (724, 566)), 0.0], [((873, 634), (904, 665)), 0.0], [((1242, 607), (1264, 629)), 1.0], [((63, 562), (67, 584)), 1.0], [((459, 625), (490, 647)), 0.0], [((486, 463), (517, 494)), 0.0], [((969, 419), (976, 431)), 1.0], [((18, 562), (49, 593)), 0.0], [((243, 571), (265, 602)), 0.0], [((531, 499), (553, 521)), 0.0], [((504, 571), (517, 584)), 1], [((1107, 580), (1138, 602)), 1], [((18, 481), (40, 512)), 0.0], [((171, 427), (202, 449)), 1]]\n"
     ]
    },
    {
     "name": "stderr",
     "output_type": "stream",
     "text": [
      "\u001b[A\u001b[A\u001b[A\n",
      "\n",
      "\n",
      " 39%|███▊      | 439/1136 [02:34<01:10,  9.92it/s]"
     ]
    },
    {
     "name": "stdout",
     "output_type": "stream",
     "text": [
      "[[((216, 625), (238, 656)), 0.0], [((531, 517), (544, 539)), 1.0], [((893, 400), (985, 463)), 831.0], [((360, 526), (391, 557)), 1.0], [((738, 571), (769, 593)), 1.0], [((747, 526), (778, 548)), 1.0], [((1179, 607), (1201, 620)), 1.0], [((693, 553), (724, 566)), 0.0], [((873, 634), (904, 665)), 0.0], [((1242, 607), (1264, 629)), 1.0], [((63, 562), (67, 584)), 1.0], [((459, 625), (490, 647)), 0.0], [((486, 463), (517, 494)), 0.0], [((969, 419), (976, 431)), 1.0], [((18, 562), (49, 593)), 0.0], [((243, 571), (265, 602)), 0.0], [((531, 499), (553, 521)), 0.0], [((504, 571), (517, 584)), 1], [((1107, 580), (1138, 602)), 1], [((18, 481), (40, 512)), 0.0], [((171, 427), (202, 449)), 3]]\n",
      "[[((216, 625), (238, 656)), 0.0], [((531, 517), (544, 539)), 1.0], [((893, 400), (994, 467)), 832.0], [((360, 526), (391, 557)), 1.0], [((738, 571), (769, 593)), 1.0], [((747, 526), (778, 548)), 1.0], [((1179, 607), (1201, 620)), 1.0], [((693, 553), (724, 566)), 0.0], [((873, 634), (904, 665)), 0.0], [((1242, 607), (1264, 629)), 1.0], [((63, 562), (67, 584)), 1.0], [((459, 625), (490, 647)), 0.0], [((486, 463), (517, 494)), 0.0], [((969, 419), (976, 431)), 1.0], [((18, 562), (49, 593)), 0.0], [((243, 571), (265, 602)), 0.0], [((531, 499), (553, 521)), 0.0], [((504, 571), (517, 584)), 1], [((1107, 580), (1138, 602)), 1], [((18, 481), (40, 512)), 0.0], [((162, 419), (193, 449)), 1.0]]\n",
      "[[((216, 625), (238, 656)), 0.0], [((531, 517), (544, 539)), 1.0], [((912, 400), (975, 463)), 833.0], [((360, 526), (391, 557)), 1.0], [((738, 571), (769, 593)), 1.0], [((747, 526), (778, 548)), 1.0], [((1179, 607), (1201, 620)), 1.0], [((693, 553), (724, 566)), 0.0], [((873, 634), (904, 665)), 0.0], [((1242, 607), (1264, 629)), 1.0], [((63, 562), (67, 584)), 2.0], [((459, 625), (490, 647)), 0.0], [((486, 463), (517, 494)), 0.0], [((969, 419), (976, 431)), 1.0], [((18, 562), (49, 593)), 0.0], [((243, 571), (265, 602)), 0.0], [((531, 499), (553, 521)), 0.0], [((504, 571), (517, 584)), 1], [((1107, 580), (1138, 602)), 1], [((18, 481), (40, 512)), 0.0], [((162, 419), (193, 449)), 1.0]]\n",
      "[[((216, 625), (238, 656)), 0.0], [((531, 517), (544, 539)), 1.0], [((900, 409), (975, 482)), 834.0], [((360, 526), (391, 557)), 1.0], [((738, 571), (769, 593)), 1.0], [((747, 526), (778, 548)), 1.0], [((1179, 607), (1201, 620)), 1.0], [((693, 553), (724, 566)), 0.0], [((873, 634), (904, 665)), 0.0], [((1242, 607), (1264, 629)), 1.0], [((9, 562), (40, 584)), 0.0], [((459, 625), (490, 647)), 0.0], [((486, 463), (517, 494)), 0.0], [((969, 419), (976, 431)), 1.0], [((18, 562), (49, 593)), 0.0], [((243, 571), (265, 602)), 0.0], [((531, 499), (553, 521)), 0.0], [((504, 571), (517, 584)), 1], [((1107, 580), (1138, 602)), 1], [((18, 481), (40, 512)), 0.0], [((162, 419), (193, 449)), 2.0]]\n",
      "[[((216, 625), (238, 656)), 0.0], [((531, 517), (544, 539)), 1.0], [((891, 418), (975, 463)), 835.0], [((360, 526), (391, 557)), 1.0], [((738, 571), (769, 593)), 1.0], [((747, 526), (778, 548)), 1.0], [((1179, 607), (1201, 620)), 1.0], [((693, 553), (724, 566)), 0.0], [((873, 634), (904, 665)), 0.0], [((1242, 607), (1264, 629)), 1.0], [((9, 562), (40, 584)), 0.0], [((459, 625), (490, 647)), 0.0], [((486, 463), (517, 494)), 0.0], [((969, 419), (976, 431)), 1.0], [((18, 562), (49, 593)), 0.0], [((243, 571), (265, 602)), 0.0], [((531, 499), (553, 521)), 0.0], [((504, 571), (517, 584)), 1], [((1107, 580), (1138, 602)), 1], [((18, 481), (40, 512)), 0.0], [((279, 436), (292, 449)), 3.0], [((621, 418), (652, 440)), 1]]\n"
     ]
    },
    {
     "name": "stderr",
     "output_type": "stream",
     "text": [
      "\u001b[A\u001b[A\u001b[A\n",
      "\n",
      "\n",
      " 39%|███▉      | 444/1136 [02:36<01:33,  7.42it/s]"
     ]
    },
    {
     "name": "stdout",
     "output_type": "stream",
     "text": [
      "[[((216, 625), (238, 656)), 0.0], [((531, 517), (544, 539)), 1.0], [((891, 409), (975, 463)), 836.0], [((360, 526), (391, 557)), 1.0], [((738, 571), (769, 593)), 1.0], [((747, 526), (778, 548)), 1.0], [((1179, 607), (1201, 620)), 1.0], [((693, 553), (724, 566)), 0.0], [((873, 634), (904, 665)), 0.0], [((1242, 607), (1264, 629)), 1.0], [((9, 562), (40, 584)), 0.0], [((459, 625), (490, 647)), 0.0], [((486, 463), (517, 494)), 0.0], [((969, 419), (976, 431)), 1.0], [((18, 562), (49, 593)), 0.0], [((243, 571), (265, 602)), 0.0], [((531, 499), (553, 521)), 0.0], [((504, 571), (517, 584)), 1], [((1107, 580), (1138, 602)), 1], [((18, 481), (40, 512)), 0.0], [((234, 427), (265, 440)), 1.0], [((621, 418), (652, 440)), 1]]\n",
      "[[((216, 625), (238, 656)), 0.0], [((531, 517), (544, 539)), 1.0], [((891, 400), (994, 463)), 837.0], [((360, 526), (391, 557)), 1.0], [((738, 571), (769, 593)), 1.0], [((747, 526), (778, 548)), 1.0], [((1179, 607), (1201, 620)), 1.0], [((693, 553), (724, 566)), 0.0], [((873, 634), (904, 665)), 0.0], [((1242, 607), (1264, 629)), 1.0], [((9, 562), (40, 584)), 0.0], [((459, 625), (490, 647)), 0.0], [((486, 463), (517, 494)), 0.0], [((969, 419), (976, 431)), 1.0], [((18, 562), (49, 593)), 0.0], [((243, 571), (265, 602)), 0.0], [((531, 499), (553, 521)), 0.0], [((504, 571), (517, 584)), 1], [((1107, 580), (1138, 602)), 1], [((18, 481), (40, 512)), 0.0], [((234, 427), (265, 440)), 1.0], [((621, 418), (652, 440)), 1]]\n",
      "[[((216, 625), (238, 656)), 0.0], [((531, 517), (544, 539)), 1.0], [((891, 409), (994, 467)), 838.0], [((360, 526), (391, 557)), 1.0], [((738, 571), (769, 593)), 1.0], [((747, 526), (778, 548)), 1.0], [((1179, 607), (1201, 620)), 1.0], [((693, 553), (724, 566)), 0.0], [((873, 634), (904, 665)), 0.0], [((1242, 607), (1264, 629)), 1.0], [((9, 562), (40, 584)), 0.0], [((459, 625), (490, 647)), 0.0], [((486, 463), (517, 494)), 0.0], [((969, 419), (976, 431)), 1.0], [((18, 562), (49, 593)), 0.0], [((243, 571), (265, 602)), 0.0], [((531, 499), (553, 521)), 0.0], [((504, 571), (517, 584)), 1], [((1107, 580), (1138, 602)), 1], [((18, 481), (40, 512)), 0.0], [((234, 427), (265, 440)), 1.0], [((621, 418), (652, 440)), 1]]\n"
     ]
    },
    {
     "name": "stderr",
     "output_type": "stream",
     "text": [
      "\u001b[A\u001b[A\u001b[A\n",
      "\n",
      "\n",
      " 39%|███▉      | 447/1136 [02:37<03:08,  3.65it/s]"
     ]
    },
    {
     "name": "stdout",
     "output_type": "stream",
     "text": [
      "[[((216, 625), (238, 656)), 0.0], [((531, 517), (544, 539)), 1.0], [((912, 400), (985, 463)), 839.0], [((360, 526), (391, 557)), 1.0], [((738, 571), (769, 593)), 1.0], [((747, 526), (778, 548)), 1.0], [((1179, 607), (1201, 620)), 1.0], [((693, 553), (724, 566)), 0.0], [((873, 634), (904, 665)), 0.0], [((1242, 607), (1264, 629)), 1.0], [((9, 562), (40, 584)), 0.0], [((459, 625), (490, 647)), 0.0], [((486, 463), (517, 494)), 0.0], [((969, 419), (976, 431)), 1.0], [((18, 562), (49, 593)), 0.0], [((243, 571), (265, 602)), 0.0], [((531, 499), (553, 521)), 0.0], [((504, 571), (517, 584)), 1], [((1107, 580), (1138, 602)), 1], [((18, 481), (40, 512)), 0.0], [((234, 427), (265, 440)), 1.0], [((621, 418), (652, 440)), 1]]\n",
      "[[((216, 625), (238, 656)), 0.0], [((531, 517), (544, 539)), 1.0], [((912, 400), (994, 467)), 840.0], [((360, 526), (391, 557)), 1.0], [((738, 571), (769, 593)), 1.0], [((747, 526), (778, 548)), 1.0], [((1179, 607), (1201, 620)), 1.0], [((693, 553), (724, 566)), 0.0], [((873, 634), (904, 665)), 0.0], [((1242, 607), (1264, 629)), 1.0], [((9, 562), (40, 584)), 0.0], [((459, 625), (490, 647)), 0.0], [((486, 463), (517, 494)), 0.0], [((969, 419), (976, 431)), 1.0], [((18, 562), (49, 593)), 0.0], [((243, 571), (265, 602)), 0.0], [((531, 499), (553, 521)), 0.0], [((504, 571), (517, 584)), 1], [((1107, 580), (1138, 602)), 1], [((18, 481), (40, 512)), 0.0], [((234, 427), (265, 440)), 1.0], [((621, 418), (652, 440)), 1]]\n"
     ]
    },
    {
     "name": "stderr",
     "output_type": "stream",
     "text": [
      "\u001b[A\u001b[A\u001b[A\n",
      "\n",
      "\n",
      " 40%|███▉      | 449/1136 [02:38<04:02,  2.84it/s]"
     ]
    },
    {
     "name": "stdout",
     "output_type": "stream",
     "text": [
      "[[((216, 625), (238, 656)), 0.0], [((531, 517), (544, 539)), 1.0], [((918, 409), (994, 467)), 842.0], [((360, 526), (391, 557)), 1.0], [((738, 571), (769, 593)), 1.0], [((747, 526), (778, 548)), 1.0], [((1179, 607), (1201, 620)), 1.0], [((693, 553), (724, 566)), 0.0], [((873, 634), (904, 665)), 0.0], [((1242, 607), (1264, 629)), 1.0], [((9, 562), (40, 584)), 0.0], [((459, 625), (490, 647)), 0.0], [((486, 463), (517, 494)), 0.0], [((969, 419), (976, 431)), 1.0], [((18, 562), (49, 593)), 0.0], [((243, 571), (265, 602)), 0.0], [((531, 499), (553, 521)), 0.0], [((504, 571), (517, 584)), 1], [((1107, 580), (1138, 602)), 1], [((18, 481), (40, 512)), 0.0], [((234, 427), (265, 440)), 1.0], [((621, 418), (652, 440)), 1]]\n",
      "[[((216, 625), (238, 656)), 0.0], [((531, 517), (544, 539)), 1.0], [((931, 409), (976, 458)), 843.0], [((360, 526), (391, 557)), 1.0], [((738, 571), (769, 593)), 1.0], [((747, 526), (778, 548)), 1.0], [((1179, 607), (1201, 620)), 1.0], [((693, 553), (724, 566)), 0.0], [((873, 634), (904, 665)), 0.0], [((1242, 607), (1264, 629)), 1.0], [((9, 562), (40, 584)), 0.0], [((459, 625), (490, 647)), 0.0], [((486, 463), (517, 494)), 0.0], [((969, 419), (976, 431)), 1.0], [((18, 562), (49, 593)), 0.0], [((243, 571), (265, 602)), 0.0], [((531, 499), (553, 521)), 0.0], [((504, 571), (517, 584)), 1], [((1107, 580), (1138, 602)), 1], [((18, 481), (40, 512)), 0.0], [((234, 427), (265, 440)), 1.0], [((621, 418), (652, 440)), 1]]\n",
      "[[((216, 625), (238, 656)), 0.0], [((531, 517), (544, 539)), 1.0], [((912, 400), (976, 463)), 844.0], [((360, 526), (391, 557)), 1.0], [((738, 571), (769, 593)), 1.0], [((747, 526), (778, 548)), 1.0], [((1179, 607), (1201, 620)), 1.0], [((693, 553), (724, 566)), 0.0], [((873, 634), (904, 665)), 0.0], [((1242, 607), (1264, 629)), 1.0], [((9, 562), (40, 584)), 0.0], [((459, 625), (490, 647)), 0.0], [((486, 463), (517, 494)), 0.0], [((969, 419), (976, 431)), 1.0], [((18, 562), (49, 593)), 0.0], [((243, 571), (265, 602)), 0.0], [((531, 499), (553, 521)), 0.0], [((504, 571), (517, 584)), 1], [((1107, 580), (1138, 602)), 1], [((18, 481), (40, 512)), 0.0], [((234, 427), (265, 440)), 2.0], [((621, 418), (652, 440)), 1]]\n",
      "[[((216, 625), (238, 656)), 0.0], [((531, 517), (544, 539)), 1.0], [((912, 400), (985, 463)), 845.0], [((360, 526), (391, 557)), 1.0], [((738, 571), (769, 593)), 1.0], [((747, 526), (778, 548)), 1.0], [((1179, 607), (1201, 620)), 1.0], [((693, 553), (724, 566)), 0.0], [((873, 634), (904, 665)), 0.0], [((1242, 607), (1264, 629)), 1.0], [((9, 562), (40, 584)), 0.0], [((459, 625), (490, 647)), 0.0], [((486, 463), (517, 494)), 0.0], [((969, 419), (976, 431)), 1.0], [((18, 562), (49, 593)), 0.0], [((243, 571), (265, 602)), 0.0], [((531, 499), (553, 521)), 0.0], [((504, 571), (517, 584)), 1], [((1107, 580), (1138, 602)), 1], [((18, 481), (40, 512)), 0.0], [((216, 427), (229, 449)), 0.0], [((621, 418), (652, 440)), 2]]\n"
     ]
    },
    {
     "name": "stderr",
     "output_type": "stream",
     "text": [
      "\u001b[A\u001b[A\u001b[A\n",
      "\n",
      "\n",
      " 40%|███▉      | 453/1136 [02:39<03:35,  3.18it/s]"
     ]
    },
    {
     "name": "stdout",
     "output_type": "stream",
     "text": [
      "[[((216, 625), (238, 656)), 0.0], [((531, 517), (544, 539)), 1.0], [((918, 400), (994, 463)), 846.0], [((360, 526), (391, 557)), 1.0], [((738, 571), (769, 593)), 1.0], [((747, 526), (778, 548)), 1.0], [((1179, 607), (1201, 620)), 1.0], [((693, 553), (724, 566)), 0.0], [((873, 634), (904, 665)), 0.0], [((1242, 607), (1264, 629)), 1.0], [((9, 562), (40, 584)), 0.0], [((459, 625), (490, 647)), 0.0], [((486, 463), (517, 494)), 0.0], [((969, 419), (976, 431)), 1.0], [((18, 562), (49, 593)), 0.0], [((243, 571), (265, 602)), 0.0], [((531, 499), (553, 521)), 0.0], [((504, 571), (517, 584)), 1], [((1107, 580), (1138, 602)), 1], [((18, 481), (40, 512)), 1.0], [((216, 427), (229, 449)), 0.0], [((621, 409), (652, 431)), 0.0]]\n",
      "[[((216, 625), (238, 656)), 0.0], [((531, 517), (544, 539)), 1.0], [((931, 419), (994, 463)), 847.0], [((360, 526), (391, 557)), 1.0], [((738, 571), (769, 593)), 1.0], [((747, 526), (778, 548)), 1.0], [((1179, 607), (1201, 620)), 1.0], [((693, 553), (724, 566)), 0.0], [((873, 634), (904, 665)), 0.0], [((1242, 607), (1264, 629)), 1.0], [((9, 562), (40, 584)), 0.0], [((459, 625), (490, 647)), 0.0], [((486, 463), (517, 494)), 0.0], [((969, 419), (976, 431)), 1.0], [((18, 562), (49, 593)), 0.0], [((243, 571), (265, 602)), 0.0], [((531, 499), (553, 521)), 0.0], [((504, 571), (517, 584)), 1], [((1107, 580), (1138, 602)), 1], [((81, 454), (112, 458)), 1.0], [((216, 427), (229, 449)), 0.0], [((621, 409), (652, 431)), 0.0]]\n"
     ]
    },
    {
     "name": "stderr",
     "output_type": "stream",
     "text": [
      "\u001b[A\u001b[A\u001b[A\n",
      "\n",
      "\n",
      " 40%|████      | 455/1136 [02:41<05:11,  2.18it/s]"
     ]
    },
    {
     "name": "stdout",
     "output_type": "stream",
     "text": [
      "[[((216, 625), (238, 656)), 0.0], [((531, 517), (544, 539)), 1.0], [((931, 418), (994, 463)), 848.0], [((360, 526), (391, 557)), 1.0], [((738, 571), (769, 593)), 1.0], [((747, 526), (778, 548)), 1.0], [((1179, 607), (1201, 620)), 1.0], [((693, 553), (724, 566)), 0.0], [((873, 634), (904, 665)), 0.0], [((1242, 607), (1264, 629)), 1.0], [((9, 562), (40, 584)), 1.0], [((459, 625), (490, 647)), 0.0], [((486, 463), (517, 494)), 0.0], [((969, 419), (976, 431)), 1.0], [((18, 562), (49, 593)), 0.0], [((243, 571), (265, 602)), 0.0], [((531, 499), (553, 521)), 0.0], [((504, 571), (517, 584)), 1], [((1107, 580), (1138, 602)), 1], [((81, 454), (112, 458)), 1.0], [((216, 427), (229, 449)), 0.0], [((621, 409), (652, 431)), 0.0]]\n",
      "[[((216, 625), (238, 656)), 0.0], [((531, 517), (544, 539)), 1.0], [((909, 409), (994, 467)), 849.0], [((360, 526), (391, 557)), 1.0], [((738, 571), (769, 593)), 1.0], [((747, 526), (778, 548)), 1.0], [((1179, 607), (1201, 620)), 1.0], [((693, 553), (724, 566)), 0.0], [((873, 634), (904, 665)), 0.0], [((1242, 607), (1264, 629)), 1.0], [((45, 571), (67, 602)), 3.0], [((459, 625), (490, 647)), 0.0], [((486, 463), (517, 494)), 0.0], [((969, 419), (976, 431)), 1.0], [((18, 562), (49, 593)), 0.0], [((243, 571), (265, 602)), 0.0], [((531, 499), (553, 521)), 0.0], [((504, 571), (517, 584)), 1], [((1107, 580), (1138, 602)), 1], [((81, 454), (112, 458)), 1.0], [((216, 427), (229, 449)), 0.0], [((621, 409), (652, 431)), 0.0]]\n",
      "[[((216, 625), (238, 656)), 0.0], [((531, 517), (544, 539)), 1.0], [((912, 400), (994, 467)), 850.0], [((360, 526), (391, 557)), 1.0], [((738, 571), (769, 593)), 1.0], [((747, 526), (778, 548)), 1.0], [((1179, 607), (1201, 620)), 1.0], [((693, 553), (724, 566)), 0.0], [((873, 634), (904, 665)), 0.0], [((1242, 607), (1264, 629)), 1.0], [((45, 571), (67, 602)), 1.0], [((459, 625), (490, 647)), 0.0], [((486, 463), (517, 494)), 0.0], [((969, 419), (976, 431)), 1.0], [((18, 562), (49, 593)), 0.0], [((243, 571), (265, 602)), 0.0], [((531, 499), (553, 521)), 0.0], [((504, 571), (517, 584)), 1], [((1107, 580), (1138, 602)), 1], [((81, 454), (112, 458)), 1.0], [((216, 427), (229, 449)), 0.0], [((621, 409), (652, 431)), 0.0]]\n",
      "[[((216, 625), (238, 656)), 0.0], [((531, 517), (544, 539)), 1.0], [((918, 409), (994, 463)), 851.0], [((360, 526), (391, 557)), 1.0], [((738, 571), (769, 593)), 1.0], [((747, 526), (778, 548)), 1.0], [((1179, 607), (1201, 620)), 1.0], [((693, 553), (724, 566)), 0.0], [((873, 634), (904, 665)), 0.0], [((1242, 607), (1264, 629)), 1.0], [((45, 571), (67, 602)), 1.0], [((459, 625), (490, 647)), 0.0], [((486, 463), (517, 494)), 0.0], [((969, 419), (976, 431)), 1.0], [((18, 562), (49, 593)), 0.0], [((243, 571), (265, 602)), 1.0], [((531, 499), (553, 521)), 0.0], [((504, 571), (517, 584)), 1], [((1107, 580), (1138, 602)), 1], [((81, 454), (112, 458)), 1.0], [((216, 427), (229, 449)), 0.0], [((621, 409), (652, 431)), 0.0]]\n",
      "[[((216, 625), (238, 656)), 0.0], [((531, 517), (544, 539)), 1.0], [((931, 419), (994, 463)), 853.0], [((360, 526), (391, 557)), 1.0], [((738, 571), (769, 593)), 1.0], [((747, 526), (778, 548)), 1.0], [((1179, 607), (1201, 620)), 1.0], [((693, 553), (724, 566)), 0.0], [((873, 634), (904, 665)), 0.0], [((1242, 607), (1264, 629)), 1.0], [((45, 571), (67, 602)), 1.0], [((459, 625), (490, 647)), 0.0], [((486, 463), (517, 494)), 0.0], [((969, 419), (976, 431)), 1.0], [((18, 562), (49, 593)), 0.0], [((243, 454), (256, 476)), 1.0], [((531, 499), (553, 521)), 0.0], [((504, 571), (517, 584)), 1], [((1107, 580), (1138, 602)), 1], [((81, 454), (112, 458)), 1.0], [((216, 427), (229, 449)), 0.0], [((621, 409), (652, 431)), 0.0]]\n"
     ]
    },
    {
     "name": "stderr",
     "output_type": "stream",
     "text": [
      "\u001b[A\u001b[A\u001b[A\n",
      "\n",
      "\n",
      " 40%|████      | 460/1136 [02:41<03:56,  2.85it/s]"
     ]
    },
    {
     "name": "stdout",
     "output_type": "stream",
     "text": [
      "[[((216, 625), (238, 656)), 0.0], [((531, 517), (544, 539)), 1.0], [((931, 400), (994, 463)), 854.0], [((360, 526), (391, 557)), 1.0], [((738, 571), (769, 593)), 1.0], [((747, 526), (778, 548)), 1.0], [((1179, 607), (1201, 620)), 1.0], [((693, 553), (724, 566)), 0.0], [((873, 634), (904, 665)), 0.0], [((1242, 607), (1264, 629)), 1.0], [((45, 571), (67, 602)), 1.0], [((459, 625), (490, 647)), 0.0], [((486, 463), (517, 494)), 0.0], [((969, 419), (976, 431)), 1.0], [((18, 562), (49, 593)), 0.0], [((243, 454), (256, 476)), 1.0], [((531, 499), (553, 521)), 0.0], [((504, 571), (517, 584)), 1], [((1107, 580), (1138, 602)), 1], [((81, 454), (112, 458)), 1.0], [((216, 427), (229, 449)), 0.0], [((621, 409), (652, 431)), 0.0]]\n",
      "[[((216, 625), (238, 656)), 0.0], [((531, 517), (544, 539)), 1.0], [((931, 419), (994, 463)), 855.0], [((360, 526), (391, 557)), 1.0], [((738, 571), (769, 593)), 1.0], [((747, 526), (778, 548)), 1.0], [((1179, 607), (1201, 620)), 1.0], [((693, 553), (724, 566)), 0.0], [((873, 634), (904, 665)), 0.0], [((1242, 607), (1264, 629)), 1.0], [((45, 571), (67, 602)), 2.0], [((459, 625), (490, 647)), 0.0], [((486, 463), (517, 494)), 0.0], [((969, 419), (976, 431)), 1.0], [((18, 562), (49, 593)), 0.0], [((243, 454), (256, 476)), 1.0], [((531, 499), (553, 521)), 0.0], [((504, 571), (517, 584)), 1], [((1107, 580), (1138, 602)), 1], [((81, 454), (112, 458)), 1.0], [((216, 427), (229, 449)), 0.0], [((621, 409), (652, 431)), 0.0]]\n"
     ]
    },
    {
     "name": "stderr",
     "output_type": "stream",
     "text": [
      "\u001b[A\u001b[A\u001b[A\n",
      "\n",
      "\n",
      " 41%|████      | 462/1136 [02:42<03:40,  3.06it/s]"
     ]
    },
    {
     "name": "stdout",
     "output_type": "stream",
     "text": [
      "[[((216, 625), (238, 656)), 0.0], [((531, 517), (544, 539)), 1.0], [((931, 419), (994, 463)), 853.0], [((360, 526), (391, 557)), 1.0], [((738, 571), (769, 593)), 1.0], [((747, 526), (778, 548)), 1.0], [((1179, 607), (1201, 620)), 1.0], [((693, 553), (724, 566)), 0.0], [((873, 634), (904, 665)), 0.0], [((1242, 607), (1264, 629)), 1.0], [((63, 571), (67, 593)), 0.0], [((459, 625), (490, 647)), 0.0], [((486, 463), (517, 494)), 0.0], [((969, 419), (976, 431)), 1.0], [((18, 562), (49, 593)), 0.0], [((243, 454), (256, 476)), 1.0], [((531, 499), (553, 521)), 0.0], [((504, 571), (517, 584)), 1], [((1107, 580), (1138, 602)), 1], [((81, 454), (112, 458)), 1.0], [((216, 427), (229, 449)), 0.0], [((621, 409), (652, 431)), 0.0]]\n",
      "[[((216, 625), (238, 656)), 0.0], [((531, 517), (544, 539)), 1.0], [((931, 419), (994, 463)), 851.0], [((360, 526), (391, 557)), 1.0], [((738, 571), (769, 593)), 1.0], [((747, 526), (778, 548)), 1.0], [((1179, 607), (1201, 620)), 1.0], [((693, 553), (724, 566)), 0.0], [((873, 634), (904, 665)), 0.0], [((1242, 607), (1264, 629)), 1.0], [((63, 571), (67, 593)), 0.0], [((459, 625), (490, 647)), 0.0], [((486, 463), (517, 494)), 0.0], [((969, 419), (976, 431)), 1.0], [((18, 562), (49, 593)), 0.0], [((243, 454), (256, 476)), 1.0], [((531, 499), (553, 521)), 0.0], [((504, 571), (517, 584)), 1], [((1107, 580), (1138, 602)), 1], [((81, 454), (112, 458)), 1.0], [((216, 427), (229, 449)), 0.0], [((621, 409), (652, 431)), 0.0]]\n",
      "[[((216, 625), (238, 656)), 0.0], [((531, 517), (544, 539)), 1.0], [((931, 419), (994, 463)), 852.0], [((360, 526), (391, 557)), 1.0], [((738, 571), (769, 593)), 1.0], [((747, 526), (778, 548)), 1.0], [((1179, 607), (1201, 620)), 1.0], [((693, 553), (724, 566)), 0.0], [((873, 634), (904, 665)), 0.0], [((1242, 607), (1264, 629)), 1.0], [((63, 571), (67, 593)), 0.0], [((459, 625), (490, 647)), 0.0], [((486, 463), (517, 494)), 0.0], [((969, 419), (976, 431)), 1.0], [((18, 562), (49, 593)), 0.0], [((243, 454), (256, 476)), 2.0], [((531, 499), (553, 521)), 0.0], [((504, 571), (517, 584)), 1], [((1107, 580), (1138, 602)), 1], [((81, 454), (112, 458)), 1.0], [((216, 427), (229, 449)), 0.0], [((621, 409), (652, 431)), 0.0]]\n",
      "[[((216, 625), (238, 656)), 0.0], [((531, 517), (544, 539)), 1.0], [((931, 419), (994, 463)), 853.0], [((360, 526), (391, 557)), 1.0], [((738, 571), (769, 593)), 1.0], [((747, 526), (778, 548)), 1.0], [((1179, 607), (1201, 620)), 1.0], [((693, 553), (724, 566)), 0.0], [((873, 634), (904, 665)), 0.0], [((1242, 607), (1264, 629)), 1.0], [((63, 571), (67, 593)), 1.0], [((459, 625), (490, 647)), 0.0], [((486, 463), (517, 494)), 0.0], [((969, 419), (976, 431)), 1.0], [((18, 562), (49, 593)), 0.0], [((266, 419), (310, 482)), 3.0], [((531, 499), (553, 521)), 0.0], [((504, 571), (517, 584)), 1], [((1107, 580), (1138, 602)), 1], [((81, 454), (112, 458)), 1.0], [((216, 427), (229, 449)), 0.0], [((621, 409), (652, 431)), 0.0]]\n",
      "[[((216, 625), (238, 656)), 0.0], [((531, 517), (544, 539)), 1.0], [((945, 409), (994, 458)), 854.0], [((360, 526), (391, 557)), 1.0], [((738, 571), (769, 593)), 1.0], [((747, 526), (778, 548)), 1.0], [((1179, 607), (1201, 620)), 1.0], [((693, 553), (724, 566)), 0.0], [((873, 634), (904, 665)), 0.0], [((1242, 607), (1264, 629)), 1.0], [((27, 580), (58, 602)), 2.0], [((459, 625), (490, 647)), 0.0], [((486, 463), (517, 494)), 0.0], [((969, 419), (976, 431)), 1.0], [((18, 562), (49, 593)), 0.0], [((261, 427), (292, 431)), 1.0], [((531, 499), (553, 521)), 0.0], [((504, 571), (517, 584)), 1], [((1107, 580), (1138, 602)), 1], [((81, 454), (112, 458)), 1.0], [((216, 427), (229, 449)), 0.0], [((621, 409), (652, 431)), 0.0]]\n"
     ]
    },
    {
     "name": "stderr",
     "output_type": "stream",
     "text": [
      "\u001b[A\u001b[A\u001b[A\n",
      "\n",
      "\n",
      " 41%|████      | 467/1136 [02:43<03:29,  3.20it/s]\u001b[A\u001b[A\u001b[A\n",
      "\n",
      "\n",
      " 42%|████▏     | 475/1136 [02:43<02:27,  4.49it/s]"
     ]
    },
    {
     "name": "stdout",
     "output_type": "stream",
     "text": [
      "[[((216, 625), (238, 656)), 0.0], [((531, 517), (544, 539)), 1.0], [((945, 400), (994, 458)), 856.0], [((360, 526), (391, 557)), 1.0], [((738, 571), (769, 593)), 1.0], [((747, 526), (778, 548)), 1.0], [((1179, 607), (1201, 620)), 1.0], [((693, 553), (724, 566)), 0.0], [((873, 634), (904, 665)), 0.0], [((1242, 607), (1264, 629)), 1.0], [((45, 580), (67, 602)), 0.0], [((459, 625), (490, 647)), 0.0], [((486, 463), (517, 494)), 0.0], [((969, 419), (976, 431)), 1.0], [((18, 562), (49, 593)), 0.0], [((261, 427), (292, 431)), 1.0], [((531, 499), (553, 521)), 0.0], [((504, 571), (517, 584)), 1], [((1107, 580), (1138, 602)), 1], [((81, 454), (112, 458)), 1.0], [((216, 427), (229, 449)), 0.0], [((621, 409), (652, 431)), 0.0]]\n",
      "[[((216, 625), (238, 656)), 0.0], [((531, 517), (544, 539)), 1.0], [((931, 400), (994, 463)), 857.0], [((360, 526), (391, 557)), 1.0], [((738, 571), (769, 593)), 1.0], [((747, 526), (778, 548)), 1.0], [((1179, 607), (1201, 620)), 1.0], [((693, 553), (724, 566)), 0.0], [((873, 634), (904, 665)), 0.0], [((1242, 607), (1264, 629)), 1.0], [((45, 580), (67, 602)), 0.0], [((459, 625), (490, 647)), 0.0], [((486, 463), (517, 494)), 0.0], [((969, 419), (976, 431)), 1.0], [((18, 562), (49, 593)), 0.0], [((261, 427), (292, 431)), 2.0], [((531, 499), (553, 521)), 0.0], [((504, 571), (517, 584)), 1], [((1107, 580), (1138, 602)), 1], [((81, 454), (112, 458)), 1.0], [((216, 427), (229, 449)), 0.0], [((621, 409), (652, 431)), 0.0]]\n",
      "[[((216, 625), (238, 656)), 0.0], [((531, 517), (544, 539)), 1.0], [((912, 400), (994, 482)), 858.0], [((360, 526), (391, 557)), 1.0], [((738, 571), (769, 593)), 1.0], [((747, 526), (778, 548)), 1.0], [((1179, 607), (1201, 620)), 1.0], [((693, 553), (724, 566)), 0.0], [((873, 634), (904, 665)), 0.0], [((1242, 607), (1264, 629)), 1.0], [((45, 580), (67, 602)), 0.0], [((459, 625), (490, 647)), 0.0], [((486, 463), (517, 494)), 0.0], [((969, 419), (976, 431)), 1.0], [((18, 562), (49, 593)), 0.0], [((117, 409), (157, 440)), 3.0], [((531, 499), (553, 521)), 0.0], [((504, 571), (517, 584)), 1], [((1107, 580), (1138, 602)), 1], [((81, 454), (112, 458)), 1.0], [((216, 427), (229, 449)), 0.0], [((621, 409), (652, 431)), 0.0]]\n",
      "[[((216, 625), (238, 656)), 0.0], [((531, 517), (544, 539)), 1.0], [((912, 400), (994, 482)), 859.0], [((360, 526), (391, 557)), 1.0], [((738, 571), (769, 593)), 1.0], [((747, 526), (778, 548)), 1.0], [((1179, 607), (1201, 620)), 1.0], [((693, 553), (724, 566)), 0.0], [((873, 634), (904, 665)), 0.0], [((1242, 607), (1264, 629)), 1.0], [((45, 580), (67, 602)), 0.0], [((459, 625), (490, 647)), 0.0], [((486, 463), (517, 494)), 0.0], [((969, 419), (976, 431)), 1.0], [((18, 562), (49, 593)), 0.0], [((90, 427), (112, 458)), 4.0], [((531, 499), (553, 521)), 0.0], [((504, 571), (517, 584)), 1], [((1107, 580), (1138, 602)), 1], [((81, 454), (112, 458)), 1.0], [((216, 427), (229, 449)), 0.0], [((621, 409), (652, 431)), 0.0]]\n",
      "[[((216, 625), (238, 656)), 0.0], [((531, 517), (544, 539)), 1.0], [((912, 400), (994, 482)), 860.0], [((360, 526), (391, 557)), 1.0], [((738, 571), (769, 593)), 1.0], [((747, 526), (778, 548)), 1.0], [((1179, 607), (1201, 620)), 1.0], [((693, 553), (724, 566)), 0.0], [((873, 634), (904, 665)), 0.0], [((1242, 607), (1264, 629)), 1.0], [((45, 580), (67, 602)), 0.0], [((459, 625), (490, 647)), 0.0], [((486, 463), (517, 494)), 0.0], [((969, 419), (976, 431)), 1.0], [((18, 562), (49, 593)), 0.0], [((126, 436), (130, 440)), 2.0], [((531, 499), (553, 521)), 0.0], [((504, 571), (517, 584)), 1], [((1107, 580), (1138, 602)), 1], [((81, 454), (112, 458)), 1.0], [((216, 427), (229, 449)), 0.0], [((621, 409), (652, 431)), 0.0]]\n",
      "[[((216, 625), (238, 656)), 0.0], [((531, 517), (544, 539)), 1.0], [((912, 400), (994, 482)), 861.0], [((360, 526), (391, 557)), 1.0], [((738, 571), (769, 593)), 1.0], [((747, 526), (778, 548)), 1.0], [((1179, 607), (1201, 620)), 1.0], [((693, 553), (724, 566)), 0.0], [((873, 634), (904, 665)), 0.0], [((1242, 607), (1264, 629)), 1.0], [((45, 580), (67, 602)), 0.0], [((459, 625), (490, 647)), 0.0], [((486, 463), (517, 494)), 0.0], [((969, 419), (976, 431)), 1.0], [((18, 562), (49, 593)), 0.0], [((126, 436), (130, 440)), 3.0], [((531, 499), (553, 521)), 0.0], [((504, 571), (517, 584)), 1], [((1107, 580), (1138, 602)), 2], [((81, 454), (112, 458)), 1.0], [((216, 427), (229, 449)), 0.0], [((621, 409), (652, 431)), 0.0]]\n",
      "[[((216, 625), (238, 656)), 0.0], [((531, 517), (544, 539)), 1.0], [((918, 409), (994, 482)), 862.0], [((360, 526), (391, 557)), 1.0], [((738, 571), (769, 593)), 1.0], [((747, 526), (778, 548)), 1.0], [((1179, 607), (1201, 620)), 1.0], [((693, 553), (724, 566)), 0.0], [((873, 634), (904, 665)), 0.0], [((1242, 607), (1264, 629)), 1.0], [((45, 580), (67, 602)), 0.0], [((459, 625), (490, 647)), 0.0], [((486, 463), (517, 494)), 0.0], [((969, 419), (976, 431)), 1.0], [((18, 562), (49, 593)), 0.0], [((153, 436), (184, 467)), 4.0], [((531, 499), (553, 521)), 0.0], [((504, 571), (517, 584)), 1], [((1107, 454), (1120, 485)), 0.0], [((81, 454), (112, 458)), 1.0], [((216, 427), (229, 449)), 0.0], [((621, 409), (652, 431)), 0.0]]\n",
      "[[((216, 625), (238, 656)), 0.0], [((531, 517), (544, 539)), 1.0], [((918, 409), (994, 482)), 863.0], [((360, 526), (391, 557)), 1.0], [((738, 571), (769, 593)), 1.0], [((747, 526), (778, 548)), 1.0], [((1179, 607), (1201, 620)), 1.0], [((693, 553), (724, 566)), 0.0], [((873, 634), (904, 665)), 0.0], [((1242, 607), (1264, 629)), 1.0], [((45, 580), (67, 602)), 0.0], [((459, 625), (490, 647)), 0.0], [((486, 463), (517, 494)), 0.0], [((969, 419), (976, 431)), 1.0], [((18, 562), (49, 593)), 0.0], [((135, 436), (166, 458)), 6.0], [((531, 499), (553, 521)), 0.0], [((504, 571), (517, 584)), 1], [((1107, 454), (1120, 485)), 0.0], [((81, 454), (112, 458)), 1.0], [((216, 427), (229, 449)), 0.0], [((621, 409), (652, 431)), 0.0]]\n",
      "[[((216, 625), (238, 656)), 0.0], [((531, 517), (544, 539)), 1.0], [((931, 400), (994, 467)), 864.0], [((360, 526), (391, 557)), 1.0], [((738, 571), (769, 593)), 1.0], [((747, 526), (778, 548)), 1.0], [((1179, 607), (1201, 620)), 1.0], [((693, 553), (724, 566)), 0.0], [((873, 634), (904, 665)), 0.0], [((1242, 607), (1264, 629)), 1.0], [((45, 580), (67, 602)), 0.0], [((459, 625), (490, 647)), 0.0], [((486, 463), (517, 494)), 0.0], [((969, 419), (976, 431)), 1.0], [((18, 562), (49, 593)), 0.0], [((144, 427), (166, 458)), 4.0], [((531, 499), (553, 521)), 0.0], [((504, 571), (517, 584)), 1], [((1107, 454), (1120, 485)), 0.0], [((81, 454), (112, 458)), 1.0], [((216, 427), (229, 449)), 0.0], [((621, 409), (652, 431)), 0.0]]\n"
     ]
    },
    {
     "name": "stderr",
     "output_type": "stream",
     "text": [
      "\u001b[A\u001b[A\u001b[A\n",
      "\n",
      "\n",
      " 42%|████▏     | 478/1136 [02:44<02:33,  4.29it/s]\u001b[A\u001b[A\u001b[A\n",
      "\n",
      "\n",
      " 43%|████▎     | 489/1136 [02:44<01:47,  6.03it/s]"
     ]
    },
    {
     "name": "stdout",
     "output_type": "stream",
     "text": [
      "[[((216, 625), (238, 656)), 0.0], [((531, 517), (544, 539)), 1.0], [((912, 409), (994, 482)), 865.0], [((360, 526), (391, 557)), 1.0], [((738, 571), (769, 593)), 1.0], [((747, 526), (778, 548)), 1.0], [((1179, 607), (1201, 620)), 1.0], [((693, 553), (724, 566)), 0.0], [((873, 634), (904, 665)), 0.0], [((1242, 607), (1264, 629)), 1.0], [((45, 580), (67, 602)), 0.0], [((459, 625), (490, 647)), 0.0], [((486, 463), (517, 494)), 0.0], [((969, 419), (976, 431)), 1.0], [((18, 562), (49, 593)), 0.0], [((144, 427), (166, 458)), 5.0], [((531, 499), (553, 521)), 0.0], [((504, 571), (517, 584)), 1], [((1107, 454), (1120, 485)), 1.0], [((81, 454), (112, 458)), 1.0], [((216, 427), (229, 449)), 0.0], [((621, 409), (652, 431)), 0.0]]\n",
      "[[((216, 625), (238, 656)), 0.0], [((531, 517), (544, 539)), 1.0], [((912, 409), (994, 482)), 863.0], [((360, 526), (391, 557)), 1.0], [((738, 571), (769, 593)), 1.0], [((747, 526), (778, 548)), 1.0], [((1179, 607), (1201, 620)), 1.0], [((693, 553), (724, 566)), 0.0], [((873, 634), (904, 665)), 0.0], [((1242, 607), (1264, 629)), 1.0], [((45, 580), (67, 602)), 1.0], [((459, 625), (490, 647)), 0.0], [((486, 463), (517, 494)), 0.0], [((969, 419), (976, 431)), 1.0], [((18, 562), (49, 593)), 0.0], [((54, 436), (85, 467)), 6.0], [((531, 499), (553, 521)), 0.0], [((504, 571), (517, 584)), 1], [((1215, 463), (1237, 494)), 1.0], [((81, 454), (112, 458)), 1.0], [((216, 427), (229, 449)), 0.0], [((621, 409), (652, 431)), 0.0]]\n",
      "[[((216, 625), (238, 656)), 0.0], [((531, 517), (544, 539)), 1.0], [((912, 409), (994, 482)), 865.0], [((360, 526), (391, 557)), 1.0], [((738, 571), (769, 593)), 1.0], [((747, 526), (778, 548)), 1.0], [((1179, 607), (1201, 620)), 1.0], [((693, 553), (724, 566)), 0.0], [((873, 634), (904, 665)), 0.0], [((1242, 607), (1264, 629)), 1.0], [((27, 436), (67, 467)), 2.0], [((459, 625), (490, 647)), 0.0], [((486, 463), (517, 494)), 0.0], [((969, 419), (976, 431)), 1.0], [((18, 562), (49, 593)), 0.0], [((81, 409), (121, 449)), 7.0], [((531, 499), (553, 521)), 0.0], [((504, 571), (517, 584)), 1], [((1215, 463), (1237, 494)), 1.0], [((81, 454), (112, 458)), 1.0], [((216, 427), (229, 449)), 0.0], [((621, 409), (652, 431)), 0.0]]\n",
      "[[((216, 625), (238, 656)), 0.0], [((531, 517), (544, 539)), 1.0], [((931, 400), (976, 463)), 867.0], [((360, 526), (391, 557)), 1.0], [((738, 571), (769, 593)), 1.0], [((747, 526), (778, 548)), 1.0], [((1179, 607), (1201, 620)), 1.0], [((693, 553), (724, 566)), 0.0], [((873, 634), (904, 665)), 0.0], [((1242, 607), (1264, 629)), 1.0], [((108, 427), (121, 440)), 4.0], [((459, 625), (490, 647)), 0.0], [((486, 463), (517, 494)), 0.0], [((969, 419), (976, 431)), 1.0], [((18, 562), (49, 593)), 0.0], [((198, 445), (220, 449)), 5.0], [((531, 499), (553, 521)), 0.0], [((504, 571), (517, 584)), 1], [((1215, 463), (1237, 494)), 1.0], [((81, 454), (112, 458)), 1.0], [((216, 427), (229, 449)), 0.0], [((621, 409), (652, 431)), 0.0]]\n",
      "[[((216, 625), (238, 656)), 0.0], [((531, 517), (544, 539)), 1.0], [((931, 400), (994, 467)), 868.0], [((360, 526), (391, 557)), 1.0], [((738, 571), (769, 593)), 1.0], [((747, 526), (778, 548)), 1.0], [((1179, 607), (1201, 620)), 1.0], [((693, 553), (724, 566)), 0.0], [((873, 634), (904, 665)), 0.0], [((1242, 607), (1264, 629)), 1.0], [((54, 427), (85, 458)), 6.0], [((459, 625), (490, 647)), 0.0], [((486, 463), (517, 494)), 0.0], [((969, 419), (976, 431)), 1.0], [((18, 562), (49, 593)), 0.0], [((198, 445), (220, 449)), 3.0], [((531, 499), (553, 521)), 0.0], [((504, 571), (517, 584)), 1], [((1215, 463), (1237, 494)), 1.0], [((81, 454), (112, 458)), 1.0], [((216, 427), (229, 449)), 0.0], [((621, 409), (652, 431)), 0.0]]\n",
      "[[((216, 625), (238, 656)), 0.0], [((531, 517), (544, 539)), 1.0], [((931, 419), (994, 467)), 870.0], [((360, 526), (391, 557)), 1.0], [((738, 571), (769, 593)), 1.0], [((747, 526), (778, 548)), 1.0], [((1179, 607), (1201, 620)), 1.0], [((693, 553), (724, 566)), 0.0], [((873, 634), (904, 665)), 0.0], [((1242, 607), (1264, 629)), 1.0], [((27, 427), (31, 458)), 7.0], [((459, 625), (490, 647)), 0.0], [((486, 463), (517, 494)), 0.0], [((969, 419), (976, 431)), 1.0], [((18, 562), (49, 593)), 0.0], [((198, 445), (220, 449)), 4.0], [((531, 499), (553, 521)), 0.0], [((504, 571), (517, 584)), 1], [((1215, 463), (1237, 494)), 1.0], [((81, 454), (112, 458)), 1.0], [((216, 427), (229, 449)), 0.0], [((621, 409), (652, 431)), 0.0]]\n",
      "[[((216, 625), (238, 656)), 0.0], [((531, 517), (544, 539)), 1.0], [((931, 418), (994, 467)), 872.0], [((360, 526), (391, 557)), 1.0], [((738, 571), (769, 593)), 1.0], [((747, 526), (778, 548)), 1.0], [((1179, 607), (1201, 620)), 1.0], [((693, 553), (724, 566)), 0.0], [((873, 634), (904, 665)), 0.0], [((1242, 607), (1264, 629)), 1.0], [((117, 427), (148, 458)), 10.0], [((459, 625), (490, 647)), 0.0], [((486, 463), (517, 494)), 0.0], [((969, 419), (976, 431)), 1.0], [((18, 562), (49, 593)), 0.0], [((198, 427), (202, 449)), 2.0], [((531, 499), (553, 521)), 0.0], [((504, 571), (517, 584)), 1], [((1215, 463), (1237, 494)), 1.0], [((81, 454), (112, 458)), 1.0], [((216, 427), (229, 449)), 0.0], [((621, 409), (652, 431)), 0.0]]\n",
      "[[((216, 625), (238, 656)), 0.0], [((531, 517), (544, 539)), 1.0], [((954, 419), (994, 476)), 873.0], [((360, 526), (391, 557)), 1.0], [((738, 571), (769, 593)), 1.0], [((747, 526), (778, 548)), 1.0], [((1179, 607), (1201, 620)), 1.0], [((693, 553), (724, 566)), 0.0], [((873, 634), (904, 665)), 0.0], [((1242, 607), (1264, 629)), 1.0], [((0, 427), (76, 467)), 11.0], [((459, 625), (490, 647)), 0.0], [((486, 463), (517, 494)), 0.0], [((969, 419), (976, 431)), 1.0], [((18, 562), (49, 593)), 0.0], [((198, 427), (202, 449)), 0.0], [((531, 499), (553, 521)), 0.0], [((504, 571), (517, 584)), 1], [((1215, 463), (1237, 494)), 1.0], [((81, 454), (112, 458)), 1.0], [((216, 427), (229, 449)), 0.0], [((621, 409), (652, 431)), 0.0]]\n",
      "[[((216, 625), (238, 656)), 0.0], [((531, 517), (544, 539)), 1.0], [((945, 419), (976, 449)), 874.0], [((360, 526), (391, 557)), 1.0], [((738, 571), (769, 593)), 1.0], [((747, 526), (778, 548)), 1.0], [((1179, 607), (1201, 620)), 1.0], [((693, 553), (724, 566)), 0.0], [((873, 634), (904, 665)), 0.0], [((1242, 607), (1264, 629)), 1.0], [((9, 418), (58, 467)), 14.0], [((459, 625), (490, 647)), 0.0], [((486, 463), (517, 494)), 0.0], [((969, 419), (976, 431)), 1.0], [((18, 562), (49, 593)), 0.0], [((198, 427), (202, 449)), 1.0], [((531, 499), (553, 521)), 0.0], [((504, 571), (517, 584)), 1], [((1215, 463), (1237, 494)), 1.0], [((81, 454), (112, 458)), 1.0], [((216, 427), (229, 449)), 0.0], [((621, 409), (652, 431)), 0.0]]\n",
      "[[((216, 625), (238, 656)), 0.0], [((531, 517), (544, 539)), 1.0], [((945, 419), (976, 449)), 875.0], [((360, 526), (391, 557)), 1.0], [((738, 571), (769, 593)), 1.0], [((747, 526), (778, 548)), 1.0], [((1179, 607), (1201, 620)), 1.0], [((693, 553), (724, 566)), 0.0], [((873, 634), (904, 665)), 0.0], [((1242, 607), (1264, 629)), 1.0], [((9, 427), (58, 467)), 16.0], [((459, 625), (490, 647)), 0.0], [((486, 463), (517, 494)), 0.0], [((969, 419), (976, 431)), 1.0], [((18, 562), (49, 593)), 0.0], [((180, 400), (184, 431)), 1.0], [((531, 499), (553, 521)), 0.0], [((504, 571), (517, 584)), 1], [((1215, 463), (1237, 494)), 1.0], [((81, 454), (112, 458)), 1.0], [((216, 427), (229, 449)), 0.0], [((621, 409), (652, 431)), 0.0]]\n",
      "[[((216, 625), (238, 656)), 0.0], [((531, 517), (544, 539)), 1.0], [((945, 419), (976, 449)), 873.0], [((360, 526), (391, 557)), 2.0], [((738, 571), (769, 593)), 1.0], [((747, 526), (778, 548)), 1.0], [((1179, 607), (1201, 620)), 1.0], [((693, 553), (724, 566)), 0.0], [((873, 634), (904, 665)), 0.0], [((1242, 607), (1264, 629)), 1.0], [((0, 427), (40, 467)), 14.0], [((459, 625), (490, 647)), 0.0], [((486, 463), (517, 494)), 0.0], [((969, 419), (976, 431)), 1.0], [((18, 562), (49, 593)), 0.0], [((180, 400), (184, 431)), 1.0], [((531, 499), (553, 521)), 0.0], [((504, 571), (517, 584)), 1], [((1215, 463), (1237, 494)), 1.0], [((81, 454), (112, 458)), 1.0], [((216, 427), (229, 449)), 0.0], [((621, 409), (652, 431)), 0.0]]\n",
      "[[((216, 625), (238, 656)), 0.0], [((531, 517), (544, 539)), 1.0], [((945, 419), (976, 449)), 874.0], [((360, 409), (391, 431)), 0.0], [((738, 571), (769, 593)), 1.0], [((747, 526), (778, 548)), 1.0], [((1179, 607), (1201, 620)), 1.0], [((693, 553), (724, 566)), 0.0], [((873, 634), (904, 665)), 0.0], [((1242, 607), (1264, 629)), 1.0], [((0, 427), (40, 467)), 17.0], [((459, 625), (490, 647)), 0.0], [((486, 463), (517, 494)), 0.0], [((969, 419), (976, 431)), 1.0], [((18, 562), (49, 593)), 0.0], [((180, 400), (184, 431)), 1.0], [((531, 499), (553, 521)), 0.0], [((504, 571), (517, 584)), 1], [((1215, 463), (1237, 494)), 1.0], [((81, 454), (112, 458)), 1.0], [((216, 427), (229, 449)), 0.0], [((621, 409), (652, 431)), 0.0]]\n",
      "[[((216, 625), (238, 656)), 0.0], [((531, 517), (544, 539)), 1.0], [((936, 419), (976, 458)), 875.0], [((360, 409), (391, 431)), 0.0], [((738, 571), (769, 593)), 1.0], [((747, 526), (778, 548)), 2.0], [((1179, 607), (1201, 620)), 1.0], [((693, 553), (724, 566)), 0.0], [((873, 634), (904, 665)), 0.0], [((1242, 607), (1264, 629)), 1.0], [((126, 427), (157, 458)), 15.0], [((459, 625), (490, 647)), 0.0], [((486, 463), (517, 494)), 0.0], [((969, 419), (976, 431)), 1.0], [((18, 562), (49, 593)), 1.0], [((180, 400), (184, 431)), 1.0], [((531, 499), (553, 521)), 0.0], [((504, 571), (517, 584)), 1], [((1215, 463), (1237, 494)), 1.0], [((81, 454), (112, 458)), 1.0], [((216, 427), (229, 449)), 0.0], [((621, 409), (652, 431)), 0.0]]\n",
      "[[((216, 625), (238, 656)), 0.0], [((531, 517), (544, 539)), 1.0], [((954, 436), (985, 467)), 876.0], [((360, 409), (391, 431)), 0.0], [((738, 571), (769, 593)), 1.0], [((648, 472), (679, 503)), 0.0], [((1179, 607), (1201, 620)), 1.0], [((693, 553), (724, 566)), 0.0], [((873, 634), (904, 665)), 0.0], [((1242, 607), (1264, 629)), 1.0], [((126, 427), (157, 458)), 16.0], [((459, 625), (490, 647)), 0.0], [((486, 463), (517, 494)), 0.0], [((969, 419), (976, 431)), 1.0], [((9, 562), (31, 593)), 1.0], [((180, 400), (184, 431)), 1.0], [((531, 499), (553, 521)), 0.0], [((504, 571), (517, 584)), 1], [((1215, 463), (1237, 494)), 1.0], [((81, 454), (112, 458)), 1.0], [((216, 427), (229, 449)), 0.0], [((621, 409), (652, 431)), 0.0]]\n",
      "[[((216, 625), (238, 656)), 0.0], [((531, 517), (544, 539)), 1.0], [((954, 436), (985, 467)), 877.0], [((360, 409), (391, 431)), 0.0], [((738, 571), (769, 593)), 1.0], [((648, 472), (679, 503)), 0.0], [((1179, 607), (1201, 620)), 1.0], [((693, 553), (724, 566)), 0.0], [((873, 634), (904, 665)), 0.0], [((1242, 607), (1264, 629)), 1.0], [((27, 454), (31, 467)), 14.0], [((459, 625), (490, 647)), 0.0], [((486, 463), (517, 494)), 0.0], [((969, 419), (976, 431)), 1.0], [((9, 562), (31, 593)), 1.0], [((180, 400), (184, 431)), 1.0], [((531, 499), (553, 521)), 0.0], [((504, 571), (517, 584)), 1], [((1215, 463), (1237, 494)), 1.0], [((81, 454), (112, 458)), 1.0], [((216, 427), (229, 449)), 0.0], [((621, 409), (652, 431)), 0.0]]\n",
      "[[((216, 625), (238, 656)), 0.0], [((531, 517), (544, 539)), 1.0], [((954, 436), (985, 467)), 878.0], [((360, 409), (391, 431)), 0.0], [((738, 571), (769, 593)), 1.0], [((648, 472), (679, 503)), 0.0], [((1179, 607), (1201, 620)), 1.0], [((693, 553), (724, 566)), 0.0], [((873, 634), (904, 665)), 0.0], [((1242, 607), (1264, 629)), 1.0], [((27, 454), (31, 467)), 15.0], [((459, 625), (490, 647)), 0.0], [((486, 463), (517, 494)), 0.0], [((969, 419), (976, 431)), 1.0], [((9, 562), (31, 593)), 1.0], [((180, 400), (184, 431)), 1.0], [((531, 499), (553, 521)), 0.0], [((504, 571), (517, 584)), 1], [((1215, 463), (1237, 494)), 1.0], [((81, 454), (112, 458)), 1.0], [((216, 427), (229, 449)), 0.0], [((621, 409), (652, 431)), 0.0]]\n",
      "[[((216, 625), (238, 656)), 0.0], [((531, 517), (544, 539)), 1.0], [((918, 418), (985, 482)), 879.0], [((360, 409), (391, 431)), 0.0], [((738, 571), (769, 593)), 1.0], [((648, 472), (679, 503)), 0.0], [((1179, 607), (1201, 620)), 1.0], [((693, 553), (724, 566)), 0.0], [((873, 634), (904, 665)), 0.0], [((1242, 607), (1264, 629)), 1.0], [((108, 445), (112, 449)), 13.0], [((459, 625), (490, 647)), 0.0], [((486, 463), (517, 494)), 0.0], [((969, 419), (976, 431)), 1.0], [((9, 562), (31, 593)), 1.0], [((180, 400), (184, 431)), 1.0], [((531, 499), (553, 521)), 0.0], [((504, 571), (517, 584)), 1], [((1215, 463), (1237, 494)), 1.0], [((81, 454), (112, 458)), 1.0], [((216, 427), (229, 449)), 0.0], [((621, 409), (652, 431)), 0.0]]\n"
     ]
    },
    {
     "name": "stderr",
     "output_type": "stream",
     "text": [
      "\u001b[A\u001b[A\u001b[A\n",
      "\n",
      "\n",
      " 43%|████▎     | 494/1136 [02:44<01:19,  8.09it/s]\u001b[A\u001b[A\u001b[A\n",
      "\n",
      "\n",
      " 44%|████▍     | 499/1136 [02:45<01:00, 10.51it/s]"
     ]
    },
    {
     "name": "stdout",
     "output_type": "stream",
     "text": [
      "[[((216, 625), (238, 656)), 0.0], [((531, 517), (544, 539)), 1.0], [((931, 419), (985, 482)), 880.0], [((360, 409), (391, 431)), 1.0], [((738, 571), (769, 593)), 3.0], [((648, 472), (679, 503)), 0.0], [((1179, 607), (1201, 620)), 1.0], [((693, 553), (724, 566)), 0.0], [((873, 634), (904, 665)), 0.0], [((1242, 607), (1264, 629)), 1.0], [((108, 445), (112, 449)), 11.0], [((459, 625), (490, 647)), 0.0], [((486, 463), (517, 494)), 0.0], [((969, 419), (976, 431)), 1.0], [((9, 562), (31, 593)), 1.0], [((180, 400), (184, 431)), 1.0], [((531, 499), (553, 521)), 0.0], [((504, 571), (517, 584)), 1], [((1215, 463), (1237, 494)), 1.0], [((81, 454), (112, 458)), 1.0], [((216, 427), (229, 449)), 0.0], [((621, 409), (652, 431)), 0.0]]\n",
      "[[((216, 625), (238, 656)), 0.0], [((531, 517), (544, 539)), 1.0], [((912, 418), (976, 482)), 881.0], [((333, 445), (364, 467)), 1.0], [((801, 535), (850, 620)), 6.0], [((648, 472), (679, 503)), 1.0], [((1179, 607), (1201, 620)), 1.0], [((693, 553), (724, 566)), 0.0], [((873, 634), (904, 665)), 0.0], [((1242, 607), (1264, 629)), 1.0], [((108, 445), (112, 449)), 9.0], [((459, 625), (490, 647)), 0.0], [((486, 463), (517, 494)), 0.0], [((969, 419), (976, 431)), 1.0], [((9, 562), (31, 593)), 1.0], [((180, 400), (184, 431)), 1.0], [((531, 499), (553, 521)), 0.0], [((504, 571), (517, 584)), 1], [((1215, 463), (1237, 494)), 1.0], [((81, 454), (112, 458)), 1.0], [((216, 427), (229, 449)), 0.0], [((621, 409), (652, 431)), 0.0]]\n",
      "[[((216, 625), (238, 656)), 0.0], [((531, 517), (544, 539)), 1.0], [((912, 418), (985, 482)), 882.0], [((333, 445), (364, 467)), 2.0], [((828, 571), (877, 611)), 4.0], [((693, 472), (724, 485)), 1.0], [((1179, 607), (1201, 620)), 1.0], [((693, 553), (724, 566)), 0.0], [((873, 634), (904, 665)), 0.0], [((1242, 607), (1264, 629)), 1.0], [((108, 445), (112, 449)), 7.0], [((459, 625), (490, 647)), 0.0], [((486, 463), (517, 494)), 0.0], [((969, 419), (976, 431)), 1.0], [((9, 562), (31, 593)), 1.0], [((180, 400), (184, 431)), 1.0], [((531, 499), (553, 521)), 0.0], [((504, 571), (517, 584)), 1], [((1215, 463), (1237, 494)), 1.0], [((81, 454), (112, 458)), 1.0], [((216, 427), (229, 449)), 0.0], [((621, 409), (652, 431)), 0.0]]\n",
      "[[((216, 625), (238, 656)), 0.0], [((531, 517), (544, 539)), 2.0], [((912, 418), (976, 482)), 883.0], [((297, 427), (319, 431)), 0.0], [((828, 571), (877, 611)), 7.0], [((693, 472), (724, 485)), 1.0], [((1179, 607), (1201, 620)), 1.0], [((693, 553), (724, 566)), 1.0], [((873, 634), (904, 665)), 0.0], [((1242, 607), (1264, 629)), 1.0], [((108, 445), (112, 449)), 5.0], [((459, 625), (490, 647)), 0.0], [((486, 463), (517, 494)), 0.0], [((969, 419), (976, 431)), 1.0], [((9, 562), (31, 593)), 1.0], [((180, 400), (184, 431)), 1.0], [((531, 499), (553, 521)), 0.0], [((504, 571), (517, 584)), 1], [((1215, 463), (1237, 494)), 1.0], [((81, 454), (112, 458)), 1.0], [((216, 427), (229, 449)), 0.0], [((621, 409), (652, 431)), 0.0]]\n",
      "[[((216, 625), (238, 656)), 0.0], [((603, 490), (634, 521)), 3.0], [((931, 419), (975, 482)), 884.0], [((297, 427), (319, 431)), 2.0], [((747, 589), (769, 620)), 9.0], [((693, 472), (724, 485)), 1.0], [((1179, 607), (1201, 620)), 1.0], [((621, 607), (652, 629)), 1.0], [((873, 634), (904, 665)), 0.0], [((1242, 607), (1264, 629)), 1.0], [((108, 445), (112, 449)), 3.0], [((459, 625), (490, 647)), 0.0], [((486, 463), (517, 494)), 0.0], [((969, 419), (976, 431)), 1.0], [((9, 562), (31, 593)), 1.0], [((180, 400), (184, 431)), 1.0], [((531, 499), (553, 521)), 0.0], [((504, 571), (517, 584)), 1], [((1215, 463), (1237, 494)), 1.0], [((81, 454), (112, 458)), 1.0], [((216, 427), (229, 449)), 0.0], [((621, 409), (652, 431)), 0.0]]\n",
      "[[((216, 625), (238, 656)), 0.0], [((603, 499), (634, 530)), 6.0], [((931, 418), (976, 482)), 885.0], [((216, 418), (247, 476)), 5.0], [((729, 553), (760, 575)), 10.0], [((693, 472), (724, 485)), 1.0], [((1179, 607), (1201, 620)), 1.0], [((621, 607), (652, 629)), 1.0], [((873, 634), (904, 665)), 0.0], [((1242, 607), (1264, 629)), 1.0], [((108, 445), (112, 449)), 1.0], [((459, 625), (490, 647)), 0.0], [((486, 463), (517, 494)), 0.0], [((969, 419), (976, 431)), 1.0], [((9, 562), (31, 593)), 1.0], [((180, 400), (184, 431)), 1.0], [((531, 499), (553, 521)), 0.0], [((504, 571), (517, 584)), 1], [((1215, 463), (1237, 494)), 1.0], [((81, 454), (112, 458)), 1.0], [((216, 427), (229, 449)), 0.0], [((621, 409), (652, 431)), 0.0]]\n",
      "[[((216, 625), (238, 656)), 0.0], [((729, 517), (760, 548)), 7.0], [((918, 418), (976, 476)), 886.0], [((162, 418), (202, 449)), 6.0], [((792, 562), (823, 593)), 8.0], [((693, 472), (724, 485)), 1.0], [((1179, 607), (1201, 620)), 1.0], [((621, 607), (652, 629)), 1.0], [((873, 634), (904, 665)), 0.0], [((1242, 607), (1264, 629)), 1.0], [((108, 445), (112, 449)), 1.0], [((459, 625), (490, 647)), 0.0], [((486, 463), (517, 494)), 0.0], [((969, 419), (976, 431)), 1.0], [((9, 562), (31, 593)), 1.0], [((180, 400), (184, 431)), 1.0], [((531, 499), (553, 521)), 0.0], [((504, 571), (517, 584)), 1], [((1215, 463), (1237, 494)), 1.0], [((81, 454), (112, 458)), 1.0], [((216, 427), (229, 449)), 0.0], [((621, 409), (652, 431)), 0.0]]\n",
      "[[((216, 625), (238, 656)), 0.0], [((738, 526), (760, 557)), 10.0], [((918, 418), (975, 476)), 887.0], [((95, 445), (121, 476)), 9.0], [((792, 562), (823, 593)), 6.0], [((693, 472), (724, 485)), 2.0], [((1179, 607), (1201, 620)), 1.0], [((621, 607), (652, 629)), 1.0], [((873, 634), (904, 665)), 0.0], [((1242, 607), (1264, 629)), 1.0], [((108, 445), (112, 449)), 1.0], [((459, 625), (490, 647)), 0.0], [((486, 463), (517, 494)), 0.0], [((969, 419), (976, 431)), 1.0], [((9, 562), (31, 593)), 2.0], [((180, 400), (184, 431)), 1.0], [((531, 499), (553, 521)), 0.0], [((504, 571), (517, 584)), 1], [((1215, 463), (1237, 494)), 1.0], [((81, 454), (112, 458)), 1.0], [((216, 427), (229, 449)), 0.0], [((621, 409), (652, 431)), 0.0]]\n",
      "[[((216, 625), (238, 656)), 0.0], [((648, 526), (679, 548)), 11.0], [((936, 419), (967, 449)), 888.0], [((0, 427), (49, 476)), 7.0], [((792, 562), (823, 593)), 7.0], [((585, 490), (616, 521)), 0.0], [((1179, 607), (1201, 620)), 1.0], [((621, 607), (652, 629)), 1.0], [((873, 634), (904, 665)), 0.0], [((1242, 607), (1264, 629)), 1.0], [((108, 445), (112, 449)), 1.0], [((459, 625), (490, 647)), 0.0], [((486, 463), (517, 494)), 0.0], [((969, 419), (976, 431)), 1.0], [((72, 580), (103, 602)), 0.0], [((180, 400), (184, 431)), 1.0], [((531, 499), (553, 521)), 0.0], [((504, 571), (517, 584)), 1], [((1215, 463), (1237, 494)), 1.0], [((81, 454), (112, 458)), 1.0], [((216, 427), (229, 449)), 0.0], [((621, 409), (652, 431)), 0.0]]\n",
      "[[((216, 625), (238, 656)), 0.0], [((729, 481), (760, 503)), 12.0], [((931, 419), (975, 482)), 889.0], [((0, 427), (49, 476)), 5.0], [((810, 562), (841, 584)), 8.0], [((585, 490), (616, 521)), 0.0], [((1179, 607), (1201, 620)), 1.0], [((621, 607), (652, 629)), 1.0], [((873, 634), (904, 665)), 0.0], [((1242, 607), (1264, 629)), 1.0], [((108, 445), (112, 449)), 1.0], [((459, 625), (490, 647)), 0.0], [((486, 463), (517, 494)), 0.0], [((969, 419), (976, 431)), 1.0], [((72, 580), (103, 602)), 0.0], [((180, 400), (184, 431)), 1.0], [((531, 499), (553, 521)), 0.0], [((504, 571), (517, 584)), 1], [((1215, 463), (1237, 494)), 1.0], [((81, 454), (112, 458)), 1.0], [((216, 427), (229, 449)), 0.0], [((621, 409), (652, 431)), 0.0]]\n"
     ]
    },
    {
     "name": "stderr",
     "output_type": "stream",
     "text": [
      "\u001b[A\u001b[A\u001b[A\n",
      "\n",
      "\n",
      " 44%|████▍     | 505/1136 [02:45<00:45, 13.87it/s]\u001b[A\u001b[A\u001b[A"
     ]
    },
    {
     "name": "stdout",
     "output_type": "stream",
     "text": [
      "[[((216, 625), (238, 656)), 0.0], [((729, 598), (760, 629)), 10.0], [((931, 418), (976, 482)), 890.0], [((0, 427), (49, 476)), 3.0], [((846, 580), (877, 611)), 9.0], [((585, 490), (616, 521)), 1.0], [((1179, 607), (1201, 620)), 1.0], [((621, 607), (652, 629)), 1.0], [((873, 634), (904, 665)), 0.0], [((1242, 607), (1264, 629)), 1.0], [((108, 445), (112, 449)), 1.0], [((459, 625), (490, 647)), 0.0], [((486, 463), (517, 494)), 1.0], [((969, 419), (976, 431)), 1.0], [((72, 580), (103, 602)), 0.0], [((180, 400), (184, 431)), 1.0], [((531, 499), (553, 521)), 0.0], [((504, 571), (517, 584)), 1], [((1215, 463), (1237, 494)), 1.0], [((81, 454), (112, 458)), 1.0], [((216, 427), (229, 449)), 0.0], [((621, 409), (652, 431)), 0.0]]\n",
      "[[((216, 625), (238, 656)), 0.0], [((729, 598), (760, 629)), 12.0], [((931, 419), (976, 482)), 891.0], [((0, 427), (49, 476)), 1.0], [((873, 634), (904, 656)), 7.0], [((603, 499), (616, 530)), 1.0], [((1179, 607), (1201, 620)), 1.0], [((621, 607), (652, 629)), 1.0], [((873, 634), (904, 665)), 0.0], [((1242, 607), (1264, 629)), 1.0], [((108, 445), (112, 449)), 1.0], [((459, 625), (490, 647)), 0.0], [((369, 463), (391, 494)), 1.0], [((969, 419), (976, 431)), 1.0], [((72, 580), (103, 602)), 0.0], [((180, 400), (184, 431)), 1.0], [((531, 499), (553, 521)), 0.0], [((504, 571), (517, 584)), 1], [((1215, 463), (1237, 494)), 1.0], [((81, 454), (112, 458)), 1.0], [((216, 427), (229, 449)), 0.0], [((621, 409), (652, 431)), 0.0]]\n",
      "[[((216, 625), (238, 656)), 0.0], [((666, 544), (697, 575)), 16.0], [((936, 419), (967, 476)), 892.0], [((0, 427), (49, 476)), 1.0], [((873, 634), (904, 656)), 9.0], [((603, 499), (616, 530)), 1.0], [((1179, 607), (1201, 620)), 1.0], [((621, 607), (652, 629)), 1.0], [((873, 634), (904, 665)), 0.0], [((1242, 607), (1264, 629)), 1.0], [((108, 445), (112, 449)), 1.0], [((459, 625), (490, 647)), 0.0], [((369, 463), (391, 494)), 1.0], [((969, 419), (976, 431)), 1.0], [((72, 580), (103, 602)), 0.0], [((180, 400), (184, 431)), 1.0], [((531, 499), (553, 521)), 0.0], [((504, 571), (517, 584)), 1], [((1215, 463), (1237, 494)), 1.0], [((81, 454), (112, 458)), 1.0], [((216, 427), (229, 449)), 0.0], [((621, 409), (652, 431)), 0.0]]\n",
      "[[((216, 625), (238, 656)), 0.0], [((729, 517), (778, 557)), 14.0], [((936, 419), (967, 476)), 894.0], [((0, 427), (49, 476)), 1.0], [((873, 598), (904, 629)), 7.0], [((603, 499), (616, 530)), 1.0], [((1179, 607), (1201, 620)), 1.0], [((621, 607), (652, 629)), 1.0], [((873, 634), (904, 665)), 0.0], [((1242, 607), (1264, 629)), 1.0], [((108, 445), (112, 449)), 1.0], [((459, 625), (490, 647)), 0.0], [((369, 463), (391, 494)), 1.0], [((969, 419), (976, 431)), 1.0], [((72, 580), (103, 602)), 0.0], [((180, 400), (184, 431)), 1.0], [((531, 499), (553, 521)), 0.0], [((504, 571), (517, 584)), 1], [((1215, 463), (1237, 494)), 1.0], [((81, 454), (112, 458)), 1.0], [((216, 427), (229, 449)), 0.0], [((621, 409), (652, 431)), 0.0]]\n",
      "[[((216, 625), (238, 656)), 0.0], [((729, 517), (778, 557)), 12.0], [((936, 427), (967, 458)), 895.0], [((0, 427), (49, 476)), 1.0], [((873, 598), (904, 629)), 5.0], [((603, 499), (616, 530)), 1.0], [((1179, 607), (1201, 620)), 1.0], [((621, 607), (652, 629)), 1.0], [((873, 634), (904, 665)), 0.0], [((1242, 607), (1264, 629)), 1.0], [((108, 445), (112, 449)), 1.0], [((459, 625), (490, 647)), 0.0], [((369, 463), (391, 494)), 1.0], [((969, 419), (976, 431)), 1.0], [((72, 580), (103, 602)), 0.0], [((180, 400), (184, 431)), 1.0], [((531, 499), (553, 521)), 0.0], [((504, 571), (517, 584)), 1], [((1215, 463), (1237, 494)), 1.0], [((81, 454), (112, 458)), 1.0], [((216, 427), (229, 449)), 0.0], [((621, 409), (652, 431)), 0.0]]\n"
     ]
    },
    {
     "name": "stderr",
     "output_type": "stream",
     "text": [
      "\n",
      "\n",
      "\n",
      "\r",
      " 45%|████▍     | 510/1136 [02:45<00:52, 11.87it/s]"
     ]
    },
    {
     "name": "stdout",
     "output_type": "stream",
     "text": [
      "[[((216, 625), (238, 656)), 0.0], [((729, 517), (778, 557)), 10.0], [((909, 418), (975, 467)), 896.0], [((0, 427), (49, 476)), 1.0], [((873, 598), (904, 629)), 6.0], [((603, 499), (616, 530)), 1.0], [((1179, 607), (1201, 620)), 1.0], [((621, 607), (652, 629)), 1.0], [((873, 634), (904, 665)), 0.0], [((1242, 607), (1264, 629)), 1.0], [((108, 445), (112, 449)), 1.0], [((459, 625), (490, 647)), 0.0], [((369, 463), (391, 494)), 1.0], [((969, 419), (976, 431)), 1.0], [((72, 580), (103, 602)), 0.0], [((180, 400), (184, 431)), 1.0], [((531, 499), (553, 521)), 0.0], [((504, 571), (517, 584)), 1], [((1215, 463), (1237, 494)), 1.0], [((81, 454), (112, 458)), 1.0], [((216, 427), (229, 449)), 0.0], [((621, 409), (652, 431)), 0.0]]\n",
      "[[((216, 625), (238, 656)), 0.0], [((729, 517), (778, 557)), 11.0], [((912, 418), (975, 463)), 897.0], [((0, 427), (49, 476)), 1.0], [((855, 607), (859, 629)), 7.0], [((603, 499), (616, 530)), 1.0], [((1179, 607), (1201, 620)), 1.0], [((621, 607), (652, 629)), 1.0], [((873, 634), (904, 665)), 0.0], [((1242, 607), (1264, 629)), 1.0], [((108, 445), (112, 449)), 1.0], [((459, 625), (490, 647)), 0.0], [((369, 463), (391, 494)), 1.0], [((969, 419), (976, 431)), 1.0], [((72, 580), (103, 602)), 0.0], [((180, 400), (184, 431)), 1.0], [((531, 499), (553, 521)), 0.0], [((504, 571), (517, 584)), 1], [((1215, 463), (1237, 494)), 1.0], [((81, 454), (112, 458)), 1.0], [((216, 427), (229, 449)), 0.0], [((621, 409), (652, 431)), 0.0]]\n",
      "[[((216, 625), (238, 656)), 0.0], [((756, 553), (778, 557)), 15.0], [((927, 419), (967, 458)), 898.0], [((0, 427), (49, 476)), 1.0], [((873, 598), (913, 638)), 9.0], [((603, 499), (616, 530)), 1.0], [((1179, 607), (1201, 620)), 1.0], [((621, 607), (652, 629)), 1.0], [((873, 634), (904, 665)), 0.0], [((1242, 607), (1264, 629)), 1.0], [((108, 445), (112, 449)), 2.0], [((459, 625), (490, 647)), 0.0], [((369, 463), (391, 494)), 1.0], [((969, 419), (976, 431)), 1.0], [((72, 580), (103, 602)), 0.0], [((180, 400), (184, 431)), 1.0], [((531, 499), (553, 521)), 0.0], [((504, 571), (517, 584)), 1], [((1215, 463), (1237, 494)), 1.0], [((81, 454), (112, 458)), 1.0], [((216, 427), (229, 449)), 0.0], [((621, 409), (652, 431)), 0.0]]\n",
      "[[((216, 625), (238, 656)), 0.0], [((738, 544), (778, 584)), 16.0], [((936, 419), (967, 449)), 899.0], [((0, 427), (49, 476)), 1.0], [((873, 598), (904, 647)), 10.0], [((603, 499), (616, 530)), 1.0], [((1179, 607), (1201, 620)), 1.0], [((621, 607), (652, 629)), 1.0], [((873, 634), (904, 665)), 0.0], [((1242, 607), (1264, 629)), 1.0], [((162, 490), (193, 521)), 0.0], [((459, 625), (490, 647)), 0.0], [((369, 463), (391, 494)), 1.0], [((969, 419), (976, 431)), 1.0], [((72, 580), (103, 602)), 0.0], [((180, 400), (184, 431)), 1.0], [((531, 499), (553, 521)), 0.0], [((504, 571), (517, 584)), 1], [((1215, 463), (1237, 494)), 1.0], [((81, 454), (112, 458)), 1.0], [((216, 427), (229, 449)), 0.0], [((621, 409), (652, 431)), 0.0]]\n",
      "[[((216, 625), (238, 656)), 0.0], [((747, 607), (778, 638)), 18.0], [((918, 445), (958, 476)), 900.0], [((0, 427), (49, 476)), 1.0], [((891, 616), (904, 620)), 8.0], [((603, 499), (616, 530)), 1.0], [((1179, 607), (1201, 620)), 1.0], [((621, 607), (652, 629)), 1.0], [((873, 634), (904, 665)), 0.0], [((1242, 607), (1264, 629)), 1.0], [((162, 490), (193, 521)), 0.0], [((459, 625), (490, 647)), 0.0], [((369, 463), (391, 494)), 1.0], [((969, 419), (976, 431)), 1.0], [((72, 580), (103, 602)), 0.0], [((180, 400), (184, 431)), 1.0], [((531, 499), (553, 521)), 0.0], [((504, 571), (517, 584)), 1], [((1215, 463), (1237, 494)), 1.0], [((81, 454), (112, 458)), 1.0], [((216, 427), (229, 449)), 0.0], [((621, 409), (652, 431)), 0.0]]\n"
     ]
    },
    {
     "name": "stderr",
     "output_type": "stream",
     "text": [
      "\u001b[A\u001b[A\u001b[A\n",
      "\n",
      "\n",
      " 45%|████▌     | 514/1136 [02:46<00:56, 10.92it/s]"
     ]
    },
    {
     "name": "stdout",
     "output_type": "stream",
     "text": [
      "[[((216, 625), (238, 656)), 0.0], [((729, 607), (778, 647)), 19.0], [((893, 419), (958, 482)), 901.0], [((0, 427), (49, 476)), 1.0], [((891, 616), (904, 620)), 6.0], [((603, 499), (616, 530)), 1.0], [((1179, 607), (1201, 620)), 1.0], [((621, 607), (652, 629)), 1.0], [((873, 634), (904, 665)), 0.0], [((1242, 607), (1264, 629)), 1.0], [((162, 490), (193, 521)), 0.0], [((459, 625), (490, 647)), 0.0], [((369, 463), (391, 494)), 1.0], [((969, 419), (976, 431)), 1.0], [((72, 580), (103, 602)), 0.0], [((180, 400), (184, 431)), 1.0], [((531, 499), (553, 521)), 0.0], [((504, 571), (517, 584)), 1], [((1215, 463), (1237, 494)), 1.0], [((81, 454), (112, 458)), 1.0], [((216, 427), (229, 449)), 0.0], [((621, 409), (652, 431)), 0.0]]\n",
      "[[((216, 625), (238, 656)), 0.0], [((765, 571), (805, 602)), 20.0], [((893, 419), (958, 482)), 902.0], [((0, 427), (49, 476)), 2.0], [((891, 616), (904, 620)), 4.0], [((603, 499), (616, 530)), 1.0], [((1179, 607), (1201, 620)), 1.0], [((621, 607), (652, 629)), 1.0], [((873, 634), (904, 665)), 0.0], [((1242, 607), (1264, 629)), 1.0], [((162, 490), (193, 521)), 0.0], [((459, 625), (490, 647)), 0.0], [((369, 463), (391, 494)), 1.0], [((969, 419), (976, 431)), 1.0], [((72, 580), (103, 602)), 0.0], [((180, 400), (184, 431)), 1.0], [((531, 499), (553, 521)), 0.0], [((504, 571), (517, 584)), 1], [((1215, 463), (1237, 494)), 1.0], [((81, 454), (112, 458)), 1.0], [((216, 427), (229, 449)), 0.0], [((621, 409), (652, 431)), 0.0]]\n"
     ]
    },
    {
     "name": "stderr",
     "output_type": "stream",
     "text": [
      "\u001b[A\u001b[A\u001b[A"
     ]
    },
    {
     "name": "stdout",
     "output_type": "stream",
     "text": [
      "[[((216, 625), (238, 656)), 0.0], [((792, 598), (814, 611)), 23.0], [((893, 419), (967, 482)), 903.0], [((54, 427), (76, 440)), 0.0], [((891, 616), (904, 620)), 2.0], [((603, 499), (616, 530)), 2.0], [((1179, 607), (1201, 620)), 1.0], [((621, 607), (652, 629)), 1.0], [((873, 634), (904, 665)), 0.0], [((1242, 607), (1264, 629)), 1.0], [((162, 490), (193, 521)), 0.0], [((459, 625), (490, 647)), 0.0], [((369, 463), (391, 494)), 2.0], [((969, 419), (976, 431)), 1.0], [((72, 580), (103, 602)), 0.0], [((180, 400), (184, 431)), 1.0], [((531, 499), (553, 521)), 0.0], [((504, 571), (517, 584)), 1], [((1215, 463), (1237, 494)), 1.0], [((81, 454), (112, 458)), 1.0], [((216, 427), (229, 449)), 0.0], [((621, 409), (652, 431)), 0.0]]\n",
      "[[((216, 625), (238, 656)), 0.0], [((783, 544), (814, 566)), 25.0], [((912, 419), (967, 482)), 904.0], [((54, 427), (76, 440)), 1.0], [((891, 616), (904, 620)), 0.0], [((603, 616), (634, 638)), 0.0], [((1179, 607), (1201, 620)), 1.0], [((621, 607), (652, 629)), 1.0], [((873, 634), (904, 665)), 0.0], [((1242, 607), (1264, 629)), 1.0], [((162, 490), (193, 521)), 0.0], [((459, 625), (490, 647)), 0.0], [((360, 490), (364, 494)), 3.0], [((969, 419), (976, 431)), 1.0], [((72, 580), (103, 602)), 0.0], [((180, 400), (184, 431)), 1.0], [((531, 499), (553, 521)), 0.0], [((504, 571), (517, 584)), 1], [((1215, 463), (1237, 494)), 1.0], [((81, 454), (112, 458)), 1.0], [((216, 427), (229, 449)), 0.0], [((621, 409), (652, 431)), 0.0]]\n"
     ]
    },
    {
     "name": "stderr",
     "output_type": "stream",
     "text": [
      "\n",
      "\n",
      "\n",
      "\r",
      " 46%|████▌     | 517/1136 [02:47<02:12,  4.67it/s]"
     ]
    },
    {
     "name": "stdout",
     "output_type": "stream",
     "text": [
      "[[((216, 625), (238, 656)), 0.0], [((801, 544), (832, 566)), 28.0], [((893, 418), (958, 467)), 905.0], [((99, 490), (130, 512)), 2.0], [((891, 616), (904, 620)), 0.0], [((603, 616), (634, 638)), 0.0], [((1179, 607), (1201, 620)), 2.0], [((621, 607), (652, 629)), 1.0], [((873, 634), (904, 665)), 0.0], [((1242, 607), (1264, 629)), 1.0], [((162, 490), (193, 521)), 0.0], [((459, 625), (490, 647)), 0.0], [((369, 499), (373, 521)), 4.0], [((969, 419), (976, 431)), 1.0], [((72, 580), (103, 602)), 0.0], [((180, 400), (184, 431)), 1.0], [((531, 499), (553, 521)), 0.0], [((504, 571), (517, 584)), 1], [((1215, 463), (1237, 494)), 1.0], [((81, 454), (112, 458)), 1.0], [((216, 427), (229, 449)), 0.0], [((621, 409), (652, 431)), 0.0]]\n",
      "[[((216, 625), (238, 656)), 0.0], [((783, 535), (814, 566)), 29.0], [((893, 418), (967, 467)), 906.0], [((234, 490), (256, 512)), 0.0], [((891, 616), (904, 620)), 2.0], [((603, 616), (634, 638)), 0.0], [((1179, 580), (1210, 593)), 0.0], [((621, 607), (652, 629)), 1.0], [((873, 634), (904, 665)), 0.0], [((1242, 607), (1264, 629)), 1.0], [((162, 490), (193, 521)), 0.0], [((459, 625), (490, 647)), 0.0], [((351, 508), (373, 539)), 2.0], [((969, 419), (976, 431)), 1.0], [((72, 580), (103, 602)), 0.0], [((180, 400), (184, 431)), 1.0], [((531, 499), (553, 521)), 0.0], [((504, 571), (517, 584)), 1], [((1215, 463), (1237, 494)), 1.0], [((81, 454), (112, 458)), 1.0], [((216, 427), (229, 449)), 0.0], [((621, 409), (652, 431)), 0.0]]\n",
      "[[((216, 625), (238, 656)), 0.0], [((828, 643), (850, 674)), 27.0], [((893, 418), (967, 482)), 907.0], [((234, 490), (256, 512)), 0.0], [((909, 625), (922, 647)), 0.0], [((603, 616), (634, 638)), 0.0], [((1179, 580), (1210, 593)), 0.0], [((621, 607), (652, 629)), 1.0], [((873, 634), (904, 665)), 0.0], [((1242, 607), (1264, 629)), 1.0], [((162, 490), (193, 521)), 0.0], [((459, 625), (490, 647)), 0.0], [((351, 508), (373, 539)), 0.0], [((969, 419), (976, 431)), 1.0], [((72, 580), (103, 602)), 0.0], [((180, 400), (184, 431)), 1.0], [((531, 499), (553, 521)), 0.0], [((504, 571), (517, 584)), 1], [((1215, 463), (1237, 494)), 1.0], [((81, 454), (112, 458)), 1.0], [((216, 427), (229, 449)), 0.0], [((621, 409), (652, 431)), 0.0]]\n"
     ]
    },
    {
     "name": "stderr",
     "output_type": "stream",
     "text": [
      "\u001b[A\u001b[A\u001b[A\n",
      "\n",
      "\n",
      " 46%|████▌     | 520/1136 [02:49<02:58,  3.45it/s]\u001b[A\u001b[A\u001b[A\n",
      "\n",
      "\n",
      " 46%|████▌     | 525/1136 [02:49<02:11,  4.66it/s]"
     ]
    },
    {
     "name": "stdout",
     "output_type": "stream",
     "text": [
      "[[((216, 625), (238, 656)), 0.0], [((828, 643), (850, 674)), 29.0], [((893, 418), (967, 482)), 908.0], [((234, 490), (256, 512)), 0.0], [((909, 625), (922, 647)), 0.0], [((603, 616), (634, 638)), 0.0], [((1179, 580), (1210, 593)), 0.0], [((621, 607), (652, 629)), 1.0], [((873, 634), (904, 665)), 0.0], [((1242, 607), (1264, 629)), 1.0], [((162, 490), (193, 521)), 0.0], [((459, 625), (490, 647)), 0.0], [((351, 508), (373, 539)), 0.0], [((969, 419), (976, 431)), 1.0], [((72, 580), (103, 602)), 0.0], [((180, 400), (184, 431)), 1.0], [((531, 499), (553, 521)), 0.0], [((504, 571), (517, 584)), 1], [((1215, 463), (1237, 494)), 1.0], [((81, 454), (112, 458)), 1.0], [((216, 427), (229, 449)), 0.0], [((621, 409), (652, 431)), 0.0]]\n",
      "[[((216, 625), (238, 656)), 1.0], [((828, 571), (859, 593)), 30.0], [((893, 418), (958, 482)), 909.0], [((234, 490), (256, 512)), 0.0], [((909, 625), (922, 647)), 0.0], [((603, 616), (634, 638)), 1.0], [((1179, 580), (1210, 593)), 0.0], [((621, 607), (652, 629)), 1.0], [((873, 634), (904, 665)), 0.0], [((1242, 607), (1264, 629)), 1.0], [((162, 490), (193, 521)), 1.0], [((459, 625), (490, 647)), 0.0], [((351, 508), (373, 539)), 0.0], [((969, 419), (976, 431)), 1.0], [((72, 580), (103, 602)), 2.0], [((180, 400), (184, 431)), 1.0], [((531, 499), (553, 521)), 0.0], [((504, 571), (517, 584)), 1], [((1215, 463), (1237, 494)), 1.0], [((81, 454), (112, 458)), 1.0], [((216, 427), (229, 449)), 0.0], [((621, 409), (652, 431)), 0.0]]\n",
      "[[((135, 571), (148, 602)), 2.0], [((738, 607), (769, 629)), 28.0], [((893, 418), (958, 482)), 910.0], [((234, 490), (256, 512)), 0.0], [((909, 625), (922, 647)), 0.0], [((567, 616), (598, 647)), 2.0], [((1179, 580), (1210, 593)), 0.0], [((621, 607), (652, 629)), 1.0], [((873, 634), (904, 665)), 0.0], [((1242, 607), (1264, 629)), 1.0], [((117, 571), (130, 593)), 1.0], [((459, 625), (490, 647)), 0.0], [((351, 508), (373, 539)), 0.0], [((969, 419), (976, 431)), 1.0], [((54, 580), (76, 611)), 0.0], [((180, 400), (184, 431)), 1.0], [((531, 499), (553, 521)), 0.0], [((504, 571), (517, 584)), 1], [((1215, 463), (1237, 494)), 1.0], [((81, 454), (112, 458)), 1.0], [((216, 427), (229, 449)), 0.0], [((621, 409), (652, 431)), 0.0]]\n",
      "[[((171, 490), (193, 521)), 0.0], [((738, 607), (769, 629)), 31.0], [((893, 418), (958, 482)), 911.0], [((234, 490), (256, 512)), 0.0], [((909, 625), (922, 647)), 0.0], [((567, 625), (598, 647)), 0.0], [((1179, 580), (1210, 593)), 0.0], [((621, 607), (652, 629)), 1.0], [((873, 634), (904, 665)), 0.0], [((1242, 607), (1264, 629)), 1.0], [((117, 571), (130, 593)), 1.0], [((459, 625), (490, 647)), 0.0], [((351, 508), (373, 539)), 0.0], [((969, 419), (976, 431)), 1.0], [((54, 580), (76, 611)), 0.0], [((180, 400), (184, 431)), 1.0], [((531, 499), (553, 521)), 0.0], [((504, 571), (517, 584)), 1], [((1215, 463), (1237, 494)), 1.0], [((81, 454), (112, 458)), 1.0], [((216, 427), (229, 449)), 0.0], [((621, 409), (652, 431)), 0.0]]\n",
      "[[((171, 490), (193, 521)), 0.0], [((693, 526), (715, 548)), 29.0], [((893, 418), (958, 482)), 912.0], [((234, 490), (256, 512)), 0.0], [((909, 625), (922, 647)), 0.0], [((567, 625), (598, 647)), 0.0], [((1179, 580), (1210, 593)), 0.0], [((621, 607), (652, 629)), 1.0], [((873, 634), (904, 665)), 0.0], [((1242, 607), (1264, 629)), 1.0], [((117, 571), (130, 593)), 1.0], [((459, 625), (490, 647)), 0.0], [((351, 508), (373, 539)), 0.0], [((969, 419), (976, 431)), 1.0], [((54, 580), (76, 611)), 0.0], [((180, 400), (184, 431)), 1.0], [((531, 499), (553, 521)), 0.0], [((504, 571), (517, 584)), 1], [((1215, 463), (1237, 494)), 1.0], [((81, 454), (112, 458)), 1.0], [((216, 427), (229, 449)), 0.0], [((621, 409), (652, 431)), 0.0]]\n",
      "[[((171, 490), (193, 521)), 0.0], [((693, 526), (715, 548)), 27.0], [((900, 418), (958, 482)), 913.0], [((234, 490), (256, 512)), 0.0], [((909, 625), (922, 647)), 0.0], [((567, 625), (598, 647)), 0.0], [((1179, 580), (1210, 593)), 0.0], [((621, 607), (652, 629)), 1.0], [((873, 634), (904, 665)), 0.0], [((1242, 607), (1264, 629)), 1.0], [((117, 571), (130, 593)), 1.0], [((459, 625), (490, 647)), 0.0], [((351, 508), (373, 539)), 0.0], [((969, 419), (976, 431)), 1.0], [((54, 580), (76, 611)), 0.0], [((180, 400), (184, 431)), 1.0], [((531, 499), (553, 521)), 0.0], [((504, 571), (517, 584)), 1], [((1215, 463), (1237, 494)), 1.0], [((81, 454), (112, 458)), 1.0], [((216, 427), (229, 449)), 0.0], [((621, 409), (652, 431)), 0.0]]\n",
      "[[((171, 490), (193, 521)), 0.0], [((693, 526), (715, 548)), 30.0], [((893, 418), (958, 482)), 914.0], [((234, 490), (256, 512)), 0.0], [((909, 625), (922, 647)), 0.0], [((567, 625), (598, 647)), 0.0], [((1179, 580), (1210, 593)), 0.0], [((621, 607), (652, 629)), 1.0], [((873, 634), (904, 665)), 0.0], [((1242, 607), (1264, 629)), 1.0], [((117, 571), (130, 593)), 1.0], [((459, 625), (490, 647)), 0.0], [((351, 508), (373, 539)), 0.0], [((969, 419), (976, 431)), 1.0], [((54, 580), (76, 611)), 0.0], [((180, 400), (184, 431)), 1.0], [((531, 499), (553, 521)), 0.0], [((504, 571), (517, 584)), 1], [((1215, 463), (1237, 494)), 1.0], [((81, 454), (112, 458)), 1.0], [((216, 427), (229, 449)), 0.0], [((621, 409), (652, 431)), 0.0]]"
     ]
    },
    {
     "name": "stderr",
     "output_type": "stream",
     "text": [
      "\u001b[A\u001b[A\u001b[A"
     ]
    },
    {
     "name": "stdout",
     "output_type": "stream",
     "text": [
      "\n",
      "[[((171, 490), (193, 521)), 0.0], [((675, 607), (706, 638)), 28.0], [((893, 418), (958, 482)), 915.0], [((234, 490), (256, 512)), 0.0], [((909, 625), (922, 647)), 0.0], [((567, 625), (598, 647)), 0.0], [((1179, 580), (1210, 593)), 0.0], [((621, 607), (652, 629)), 1.0], [((873, 634), (904, 665)), 0.0], [((1242, 607), (1264, 629)), 1.0], [((117, 571), (130, 593)), 1.0], [((459, 625), (490, 647)), 0.0], [((351, 508), (373, 539)), 0.0], [((969, 419), (976, 431)), 1.0], [((54, 580), (76, 611)), 0.0], [((180, 400), (184, 431)), 1.0], [((531, 499), (553, 521)), 0.0], [((504, 571), (517, 584)), 1], [((1215, 463), (1237, 494)), 1.0], [((81, 454), (112, 458)), 1.0], [((216, 427), (229, 449)), 0.0], [((621, 409), (652, 431)), 0.0]]\n",
      "[[((171, 490), (193, 521)), 0.0], [((675, 607), (706, 638)), 29.0], [((891, 418), (958, 482)), 916.0], [((234, 490), (256, 512)), 0.0], [((909, 625), (922, 647)), 0.0], [((567, 625), (598, 647)), 0.0], [((1179, 580), (1210, 593)), 0.0], [((621, 607), (652, 629)), 1.0], [((873, 634), (904, 665)), 0.0], [((1242, 607), (1264, 629)), 1.0], [((117, 571), (130, 593)), 1.0], [((459, 625), (490, 647)), 0.0], [((351, 508), (373, 539)), 0.0], [((969, 419), (976, 431)), 1.0], [((54, 580), (76, 611)), 0.0], [((180, 400), (184, 431)), 1.0], [((531, 499), (553, 521)), 0.0], [((504, 571), (517, 584)), 1], [((1215, 463), (1237, 494)), 1.0], [((81, 454), (112, 458)), 1.0], [((216, 427), (229, 449)), 0.0], [((621, 409), (652, 431)), 0.0]]\n"
     ]
    },
    {
     "name": "stderr",
     "output_type": "stream",
     "text": [
      "\n",
      "\n",
      "\n",
      "\r",
      " 47%|████▋     | 529/1136 [02:50<02:15,  4.48it/s]"
     ]
    },
    {
     "name": "stdout",
     "output_type": "stream",
     "text": [
      "[[((171, 490), (193, 521)), 0.0], [((729, 607), (769, 647)), 30.0], [((893, 418), (956, 482)), 917.0], [((234, 490), (256, 512)), 0.0], [((909, 625), (922, 647)), 0.0], [((567, 625), (598, 647)), 0.0], [((1179, 580), (1210, 593)), 0.0], [((621, 607), (652, 629)), 1.0], [((873, 634), (904, 665)), 0.0], [((1242, 607), (1264, 629)), 1.0], [((117, 571), (130, 593)), 1.0], [((459, 625), (490, 647)), 0.0], [((351, 508), (373, 539)), 0.0], [((969, 419), (976, 431)), 1.0], [((54, 580), (76, 611)), 0.0], [((180, 400), (184, 431)), 1.0], [((531, 499), (553, 521)), 0.0], [((504, 571), (517, 584)), 1], [((1215, 463), (1237, 494)), 1.0], [((81, 454), (112, 458)), 1.0], [((216, 427), (229, 449)), 0.0], [((621, 409), (652, 431)), 0.0]]\n",
      "[[((171, 490), (193, 521)), 0.0], [((666, 616), (697, 629)), 31.0], [((891, 418), (956, 482)), 918.0], [((234, 490), (256, 512)), 0.0], [((909, 625), (922, 647)), 0.0], [((567, 625), (598, 647)), 0.0], [((1179, 580), (1210, 593)), 0.0], [((621, 607), (652, 629)), 1.0], [((873, 634), (904, 665)), 0.0], [((1242, 607), (1264, 629)), 1.0], [((117, 571), (130, 593)), 1.0], [((459, 625), (490, 647)), 0.0], [((351, 508), (373, 539)), 0.0], [((969, 419), (976, 431)), 1.0], [((54, 580), (76, 611)), 0.0], [((180, 400), (184, 431)), 1.0], [((531, 499), (553, 521)), 0.0], [((504, 571), (517, 584)), 1], [((1215, 463), (1237, 494)), 1.0], [((81, 454), (112, 458)), 1.0], [((216, 427), (229, 449)), 0.0], [((621, 409), (652, 431)), 0.0]]\n",
      "[[((171, 490), (193, 521)), 0.0], [((747, 607), (778, 629)), 29.0], [((891, 418), (956, 463)), 919.0], [((234, 490), (256, 512)), 0.0], [((909, 625), (922, 647)), 0.0], [((567, 625), (598, 647)), 0.0], [((1179, 580), (1210, 593)), 0.0], [((621, 607), (652, 629)), 1.0], [((873, 634), (904, 665)), 0.0], [((1242, 607), (1264, 629)), 1.0], [((117, 571), (130, 593)), 1.0], [((459, 625), (490, 647)), 0.0], [((351, 508), (373, 539)), 0.0], [((969, 419), (976, 431)), 1.0], [((54, 580), (76, 611)), 0.0], [((180, 400), (184, 431)), 1.0], [((531, 499), (553, 521)), 0.0], [((504, 571), (517, 584)), 1], [((1215, 463), (1237, 494)), 1.0], [((81, 454), (112, 458)), 1.0], [((216, 427), (229, 449)), 0.0], [((621, 409), (652, 431)), 0.0]]\n"
     ]
    },
    {
     "name": "stderr",
     "output_type": "stream",
     "text": [
      "\u001b[A\u001b[A\u001b[A\n",
      "\n",
      "\n",
      " 47%|████▋     | 532/1136 [02:51<03:18,  3.05it/s]"
     ]
    },
    {
     "name": "stdout",
     "output_type": "stream",
     "text": [
      "[[((171, 490), (193, 521)), 0.0], [((747, 607), (778, 629)), 27.0], [((891, 418), (956, 467)), 920.0], [((234, 490), (256, 512)), 0.0], [((909, 625), (922, 647)), 0.0], [((567, 625), (598, 647)), 0.0], [((1179, 580), (1210, 593)), 0.0], [((621, 607), (652, 629)), 1.0], [((873, 634), (904, 665)), 0.0], [((1242, 607), (1264, 629)), 1.0], [((117, 571), (130, 593)), 1.0], [((459, 625), (490, 647)), 0.0], [((351, 508), (373, 539)), 0.0], [((969, 419), (976, 431)), 1.0], [((54, 580), (76, 611)), 0.0], [((180, 400), (184, 431)), 1.0], [((531, 499), (553, 521)), 0.0], [((504, 571), (517, 584)), 1], [((1215, 463), (1237, 494)), 1.0], [((81, 454), (112, 458)), 1.0], [((216, 427), (229, 449)), 0.0], [((621, 409), (652, 431)), 0.0]]\n",
      "[[((171, 490), (193, 521)), 0.0], [((747, 607), (778, 629)), 25.0], [((891, 418), (956, 467)), 921.0], [((234, 490), (256, 512)), 0.0], [((909, 625), (922, 647)), 1.0], [((567, 625), (598, 647)), 0.0], [((1179, 580), (1210, 593)), 0.0], [((621, 607), (652, 629)), 1.0], [((873, 634), (904, 665)), 0.0], [((1242, 607), (1264, 629)), 1.0], [((117, 571), (130, 593)), 1.0], [((459, 625), (490, 647)), 0.0], [((351, 508), (373, 539)), 0.0], [((969, 419), (976, 431)), 1.0], [((54, 580), (76, 611)), 0.0], [((180, 400), (184, 431)), 1.0], [((531, 499), (553, 521)), 0.0], [((504, 571), (517, 584)), 1], [((1215, 463), (1237, 494)), 1.0], [((81, 454), (112, 458)), 1.0], [((216, 427), (229, 449)), 0.0], [((621, 409), (652, 431)), 0.0]]\n",
      "[[((171, 490), (193, 521)), 0.0], [((747, 607), (778, 629)), 23.0], [((893, 418), (956, 467)), 922.0], [((234, 490), (256, 512)), 0.0], [((963, 625), (985, 647)), 2.0], [((567, 625), (598, 647)), 0.0], [((1179, 580), (1210, 593)), 0.0], [((621, 607), (652, 629)), 1.0], [((873, 634), (904, 665)), 0.0], [((1242, 607), (1264, 629)), 1.0], [((117, 571), (130, 593)), 1.0], [((459, 625), (490, 647)), 0.0], [((351, 508), (373, 539)), 0.0], [((969, 419), (976, 431)), 1.0], [((54, 580), (76, 611)), 0.0], [((180, 400), (184, 431)), 1.0], [((531, 499), (553, 521)), 0.0], [((504, 571), (517, 584)), 1], [((1215, 463), (1237, 494)), 1.0], [((81, 454), (112, 458)), 1.0], [((216, 427), (229, 449)), 0.0], [((621, 409), (652, 431)), 0.0]]\n"
     ]
    },
    {
     "name": "stderr",
     "output_type": "stream",
     "text": [
      "\u001b[A\u001b[A\u001b[A\n",
      "\n",
      "\n",
      " 47%|████▋     | 535/1136 [02:52<02:38,  3.78it/s]\u001b[A\u001b[A\u001b[A\n",
      "\n",
      "\n",
      " 48%|████▊     | 540/1136 [02:52<01:54,  5.22it/s]"
     ]
    },
    {
     "name": "stdout",
     "output_type": "stream",
     "text": [
      "[[((171, 490), (193, 521)), 1.0], [((747, 607), (778, 629)), 21.0], [((891, 418), (956, 467)), 923.0], [((234, 490), (256, 512)), 0.0], [((954, 625), (967, 656)), 0.0], [((567, 625), (598, 647)), 0.0], [((1179, 580), (1210, 593)), 0.0], [((621, 607), (652, 629)), 1.0], [((873, 634), (904, 665)), 0.0], [((1242, 607), (1264, 629)), 1.0], [((117, 571), (130, 593)), 1.0], [((459, 625), (490, 647)), 0.0], [((351, 508), (373, 539)), 0.0], [((969, 419), (976, 431)), 1.0], [((54, 580), (76, 611)), 0.0], [((180, 400), (184, 431)), 1.0], [((531, 499), (553, 521)), 0.0], [((504, 571), (517, 584)), 1], [((1215, 463), (1237, 494)), 1.0], [((81, 454), (112, 458)), 1.0], [((216, 427), (229, 449)), 0.0], [((621, 409), (652, 431)), 0.0]]\n",
      "[[((153, 481), (184, 503)), 1.0], [((747, 607), (778, 629)), 19.0], [((891, 418), (956, 467)), 924.0], [((234, 490), (256, 512)), 0.0], [((954, 625), (967, 656)), 0.0], [((567, 625), (598, 647)), 0.0], [((1179, 580), (1210, 593)), 0.0], [((621, 607), (652, 629)), 1.0], [((873, 634), (904, 665)), 0.0], [((1242, 607), (1264, 629)), 1.0], [((117, 571), (130, 593)), 1.0], [((459, 625), (490, 647)), 0.0], [((351, 508), (373, 539)), 0.0], [((969, 419), (976, 431)), 1.0], [((54, 580), (76, 611)), 0.0], [((180, 400), (184, 431)), 1.0], [((531, 499), (553, 521)), 0.0], [((504, 571), (517, 584)), 1], [((1215, 463), (1237, 494)), 1.0], [((81, 454), (112, 458)), 1.0], [((216, 427), (229, 449)), 0.0], [((621, 409), (652, 431)), 1.0]]\n",
      "[[((153, 481), (184, 503)), 1.0], [((747, 607), (778, 629)), 17.0], [((893, 418), (956, 463)), 925.0], [((234, 490), (256, 512)), 0.0], [((954, 625), (967, 656)), 1.0], [((567, 625), (598, 647)), 0.0], [((1179, 580), (1210, 593)), 0.0], [((621, 607), (652, 629)), 1.0], [((873, 634), (904, 665)), 0.0], [((1242, 607), (1264, 629)), 1.0], [((117, 571), (130, 593)), 1.0], [((459, 625), (490, 647)), 0.0], [((351, 508), (373, 539)), 0.0], [((969, 419), (976, 431)), 1.0], [((54, 580), (76, 611)), 0.0], [((180, 400), (184, 431)), 1.0], [((531, 499), (553, 521)), 0.0], [((504, 571), (517, 584)), 1], [((1215, 463), (1237, 494)), 1.0], [((81, 454), (112, 458)), 1.0], [((216, 427), (229, 449)), 0.0], [((729, 409), (733, 431)), 1.0]]\n",
      "[[((153, 481), (184, 503)), 1.0], [((747, 607), (778, 629)), 15.0], [((893, 419), (956, 467)), 926.0], [((234, 490), (256, 512)), 0.0], [((963, 553), (994, 575)), 1.0], [((567, 625), (598, 647)), 0.0], [((1179, 580), (1210, 593)), 0.0], [((621, 607), (652, 629)), 1.0], [((873, 634), (904, 665)), 0.0], [((1242, 607), (1264, 629)), 1.0], [((117, 571), (130, 593)), 1.0], [((459, 625), (490, 647)), 0.0], [((351, 508), (373, 539)), 0.0], [((969, 419), (976, 431)), 1.0], [((54, 580), (76, 611)), 0.0], [((180, 400), (184, 431)), 1.0], [((531, 499), (553, 521)), 1.0], [((504, 571), (517, 584)), 1], [((1215, 463), (1237, 494)), 1.0], [((81, 454), (112, 458)), 1.0], [((216, 427), (229, 449)), 0.0], [((729, 409), (733, 431)), 1.0]]\n",
      "[[((153, 481), (184, 503)), 1.0], [((747, 607), (778, 629)), 17.0], [((893, 418), (956, 467)), 927.0], [((234, 490), (256, 512)), 0.0], [((963, 553), (994, 575)), 1.0], [((567, 625), (598, 647)), 0.0], [((1179, 580), (1210, 593)), 0.0], [((621, 607), (652, 629)), 1.0], [((873, 634), (904, 665)), 0.0], [((1242, 607), (1264, 629)), 1.0], [((117, 571), (130, 593)), 1.0], [((459, 625), (490, 647)), 0.0], [((351, 508), (373, 539)), 0.0], [((969, 419), (976, 431)), 1.0], [((54, 580), (76, 611)), 0.0], [((180, 400), (184, 431)), 1.0], [((540, 400), (571, 431)), 1.0], [((504, 571), (517, 584)), 1], [((1215, 463), (1237, 494)), 1.0], [((81, 454), (112, 458)), 1.0], [((216, 427), (229, 449)), 0.0], [((729, 409), (733, 431)), 1.0]]\n",
      "[[((153, 481), (184, 503)), 1.0], [((729, 598), (760, 620)), 20.0], [((909, 418), (956, 467)), 928.0], [((234, 490), (256, 512)), 0.0], [((963, 553), (994, 575)), 1.0], [((567, 625), (598, 647)), 0.0], [((1179, 580), (1210, 593)), 0.0], [((621, 607), (652, 629)), 1.0], [((873, 634), (904, 665)), 0.0], [((1242, 607), (1264, 629)), 1.0], [((117, 571), (130, 593)), 1.0], [((459, 625), (490, 647)), 0.0], [((351, 508), (373, 539)), 0.0], [((969, 419), (976, 431)), 1.0], [((54, 580), (76, 611)), 0.0], [((180, 400), (184, 431)), 1.0], [((540, 400), (571, 431)), 1.0], [((504, 571), (517, 584)), 1], [((1215, 463), (1237, 494)), 1.0], [((81, 454), (112, 458)), 1.0], [((216, 427), (229, 449)), 0.0], [((729, 409), (733, 431)), 1.0]]\n"
     ]
    },
    {
     "name": "stderr",
     "output_type": "stream",
     "text": [
      "\u001b[A\u001b[A\u001b[A\n",
      "\n",
      "\n",
      " 48%|████▊     | 543/1136 [02:54<03:02,  3.25it/s]\u001b[A\u001b[A\u001b[A\n",
      "\n",
      "\n",
      " 48%|████▊     | 549/1136 [02:54<02:09,  4.54it/s]"
     ]
    },
    {
     "name": "stdout",
     "output_type": "stream",
     "text": [
      "[[((153, 481), (184, 503)), 1.0], [((774, 589), (805, 620)), 21.0], [((909, 419), (956, 476)), 929.0], [((234, 490), (256, 512)), 0.0], [((963, 553), (994, 575)), 1.0], [((567, 625), (598, 647)), 0.0], [((1179, 580), (1210, 593)), 0.0], [((621, 607), (652, 629)), 1.0], [((873, 634), (904, 665)), 0.0], [((1242, 607), (1264, 629)), 1.0], [((117, 571), (130, 593)), 1.0], [((459, 625), (490, 647)), 0.0], [((351, 508), (373, 539)), 0.0], [((969, 419), (976, 431)), 1.0], [((54, 580), (76, 611)), 0.0], [((180, 400), (184, 431)), 1.0], [((540, 400), (571, 431)), 1.0], [((504, 571), (517, 584)), 1], [((1215, 463), (1237, 494)), 1.0], [((81, 454), (112, 458)), 1.0], [((216, 427), (229, 449)), 0.0], [((729, 409), (733, 431)), 1.0]]\n",
      "[[((153, 481), (184, 503)), 1.0], [((657, 607), (679, 638)), 19.0], [((893, 418), (956, 482)), 930.0], [((234, 490), (256, 512)), 0.0], [((963, 553), (994, 575)), 1.0], [((567, 625), (598, 647)), 0.0], [((1179, 580), (1210, 593)), 0.0], [((621, 607), (652, 629)), 1.0], [((873, 634), (904, 665)), 0.0], [((1242, 607), (1264, 629)), 1.0], [((117, 571), (130, 593)), 1.0], [((459, 625), (490, 647)), 0.0], [((351, 508), (373, 539)), 0.0], [((969, 419), (976, 431)), 1.0], [((54, 580), (76, 611)), 0.0], [((180, 400), (184, 431)), 1.0], [((540, 400), (571, 431)), 1.0], [((504, 571), (517, 584)), 1], [((1215, 463), (1237, 494)), 1.0], [((81, 454), (112, 458)), 1.0], [((216, 427), (229, 449)), 0.0], [((729, 409), (733, 431)), 1.0]]\n",
      "[[((153, 481), (184, 503)), 1.0], [((657, 607), (679, 638)), 17.0], [((874, 419), (956, 482)), 931.0], [((234, 490), (256, 512)), 0.0], [((963, 553), (994, 575)), 1.0], [((567, 625), (598, 647)), 0.0], [((1179, 580), (1210, 593)), 0.0], [((621, 607), (652, 629)), 1.0], [((873, 634), (904, 665)), 0.0], [((1242, 607), (1264, 629)), 1.0], [((117, 571), (130, 593)), 1.0], [((459, 625), (490, 647)), 0.0], [((351, 508), (373, 539)), 0.0], [((969, 419), (976, 431)), 1.0], [((54, 580), (76, 611)), 0.0], [((180, 400), (184, 431)), 1.0], [((540, 400), (571, 431)), 2.0], [((504, 571), (517, 584)), 1], [((1215, 463), (1237, 494)), 1.0], [((81, 454), (112, 458)), 1.0], [((216, 427), (229, 449)), 0.0], [((729, 409), (733, 431)), 1.0]]\n",
      "[[((153, 481), (184, 503)), 1.0], [((657, 607), (679, 638)), 18.0], [((893, 418), (956, 467)), 932.0], [((234, 490), (256, 512)), 0.0], [((963, 553), (994, 575)), 1.0], [((567, 625), (598, 647)), 0.0], [((1179, 580), (1210, 593)), 0.0], [((621, 607), (652, 629)), 1.0], [((873, 634), (904, 665)), 0.0], [((1242, 607), (1264, 629)), 1.0], [((117, 571), (130, 593)), 1.0], [((459, 625), (490, 647)), 0.0], [((351, 508), (373, 539)), 0.0], [((969, 419), (976, 431)), 1.0], [((54, 580), (76, 611)), 0.0], [((180, 400), (184, 431)), 1.0], [((531, 409), (562, 431)), 0.0], [((504, 571), (517, 584)), 1], [((1215, 463), (1237, 494)), 1.0], [((81, 454), (112, 458)), 1.0], [((216, 427), (229, 449)), 0.0], [((729, 409), (733, 431)), 1.0]]\n",
      "[[((153, 481), (184, 503)), 1.0], [((657, 562), (688, 593)), 20.0], [((893, 418), (956, 467)), 933.0], [((234, 490), (256, 512)), 0.0], [((963, 553), (994, 575)), 1.0], [((567, 625), (598, 647)), 0.0], [((1179, 580), (1210, 593)), 0.0], [((621, 607), (652, 629)), 1.0], [((873, 634), (904, 665)), 0.0], [((1242, 607), (1264, 629)), 1.0], [((117, 571), (130, 593)), 1.0], [((459, 625), (490, 647)), 0.0], [((351, 508), (373, 539)), 0.0], [((969, 419), (976, 431)), 1.0], [((54, 580), (76, 611)), 0.0], [((180, 400), (184, 431)), 1.0], [((531, 409), (562, 431)), 0.0], [((504, 571), (517, 584)), 1], [((1215, 463), (1237, 494)), 1.0], [((81, 454), (112, 458)), 1.0], [((216, 427), (229, 449)), 0.0], [((729, 409), (733, 431)), 1.0]]\n",
      "[[((153, 481), (184, 503)), 1.0], [((729, 517), (760, 539)), 21.0], [((893, 419), (956, 467)), 934.0], [((234, 490), (256, 512)), 0.0], [((963, 553), (994, 575)), 1.0], [((567, 625), (598, 647)), 0.0], [((1179, 580), (1210, 593)), 0.0], [((621, 607), (652, 629)), 1.0], [((873, 634), (904, 665)), 0.0], [((1242, 607), (1264, 629)), 1.0], [((117, 571), (130, 593)), 1.0], [((459, 625), (490, 647)), 0.0], [((351, 508), (373, 539)), 0.0], [((969, 419), (976, 431)), 1.0], [((54, 580), (76, 611)), 0.0], [((180, 400), (184, 431)), 1.0], [((531, 409), (562, 431)), 0.0], [((504, 571), (517, 584)), 1], [((1215, 463), (1237, 494)), 1.0], [((81, 454), (112, 458)), 1.0], [((216, 427), (229, 449)), 0.0], [((729, 409), (733, 431)), 1.0]]\n",
      "[[((153, 481), (184, 503)), 1.0], [((810, 535), (823, 539)), 22.0], [((882, 400), (940, 463)), 936.0], [((234, 490), (256, 512)), 0.0], [((963, 553), (994, 575)), 1.0], [((567, 625), (598, 647)), 0.0], [((1179, 580), (1210, 593)), 0.0], [((621, 607), (652, 629)), 1.0], [((873, 634), (904, 665)), 0.0], [((1242, 607), (1264, 629)), 1.0], [((117, 571), (130, 593)), 1.0], [((459, 625), (490, 647)), 0.0], [((351, 508), (373, 539)), 0.0], [((969, 419), (976, 431)), 1.0], [((54, 580), (76, 611)), 0.0], [((180, 400), (184, 431)), 1.0], [((531, 409), (562, 431)), 0.0], [((504, 571), (517, 584)), 1], [((1215, 463), (1237, 494)), 1.0], [((81, 454), (112, 458)), 1.0], [((216, 427), (229, 449)), 0.0], [((729, 409), (733, 431)), 1.0]]\n",
      "[[((153, 481), (184, 503)), 1.0], [((828, 571), (859, 593)), 23.0], [((873, 418), (913, 458)), 937.0], [((234, 490), (256, 512)), 0.0], [((963, 553), (994, 575)), 1.0], [((567, 625), (598, 647)), 0.0], [((1179, 580), (1210, 593)), 0.0], [((621, 607), (652, 629)), 1.0], [((873, 634), (904, 665)), 0.0], [((1242, 607), (1264, 629)), 1.0], [((117, 571), (130, 593)), 1.0], [((459, 625), (490, 647)), 0.0], [((351, 508), (373, 539)), 0.0], [((969, 419), (976, 431)), 1.0], [((54, 580), (76, 611)), 0.0], [((180, 400), (184, 431)), 1.0], [((531, 409), (562, 431)), 0.0], [((504, 571), (517, 584)), 1], [((1215, 463), (1237, 494)), 1.0], [((81, 454), (112, 458)), 1.0], [((216, 427), (229, 449)), 0.0], [((729, 409), (733, 431)), 1.0]]\n",
      "[[((153, 481), (184, 503)), 1.0], [((729, 571), (760, 593)), 24.0], [((882, 427), (949, 467)), 938.0], [((234, 490), (256, 512)), 0.0], [((963, 553), (994, 575)), 1.0], [((567, 625), (598, 647)), 0.0], [((1179, 580), (1210, 593)), 0.0], [((621, 607), (652, 629)), 1.0], [((873, 634), (904, 665)), 0.0], [((1242, 607), (1264, 629)), 1.0], [((117, 571), (130, 593)), 1.0], [((459, 625), (490, 647)), 0.0], [((351, 508), (373, 539)), 0.0], [((969, 419), (976, 431)), 1.0], [((54, 580), (76, 611)), 0.0], [((180, 400), (184, 431)), 1.0], [((531, 409), (562, 431)), 0.0], [((504, 571), (517, 584)), 1], [((1215, 463), (1237, 494)), 1.0], [((81, 454), (112, 458)), 1.0], [((216, 427), (229, 449)), 0.0], [((729, 409), (733, 431)), 1.0]]\n"
     ]
    },
    {
     "name": "stderr",
     "output_type": "stream",
     "text": [
      "\u001b[A\u001b[A\u001b[A\n",
      "\n",
      "\n",
      " 49%|████▊     | 552/1136 [02:55<02:29,  3.91it/s]"
     ]
    },
    {
     "name": "stdout",
     "output_type": "stream",
     "text": [
      "[[((153, 481), (184, 503)), 1.0], [((675, 571), (706, 593)), 22.0], [((893, 427), (949, 463)), 939.0], [((234, 490), (256, 512)), 0.0], [((963, 553), (994, 575)), 1.0], [((567, 625), (598, 647)), 0.0], [((1179, 580), (1210, 593)), 0.0], [((621, 607), (652, 629)), 1.0], [((873, 634), (904, 665)), 0.0], [((1242, 607), (1264, 629)), 1.0], [((117, 571), (130, 593)), 1.0], [((459, 625), (490, 647)), 0.0], [((351, 508), (373, 539)), 0.0], [((969, 419), (976, 431)), 1.0], [((54, 580), (76, 611)), 0.0], [((180, 400), (184, 431)), 1.0], [((531, 409), (562, 431)), 0.0], [((504, 571), (517, 584)), 1], [((1215, 463), (1237, 494)), 1.0], [((81, 454), (112, 458)), 1.0], [((216, 427), (229, 449)), 0.0], [((729, 409), (733, 431)), 1.0]]\n",
      "[[((153, 481), (184, 503)), 1.0], [((675, 571), (706, 593)), 20.0], [((893, 400), (949, 463)), 940.0], [((234, 490), (256, 512)), 0.0], [((963, 553), (994, 575)), 1.0], [((567, 625), (598, 647)), 0.0], [((1179, 580), (1210, 593)), 0.0], [((621, 607), (652, 629)), 1.0], [((873, 634), (904, 665)), 0.0], [((1242, 607), (1264, 629)), 1.0], [((117, 571), (130, 593)), 1.0], [((459, 625), (490, 647)), 0.0], [((351, 508), (373, 539)), 0.0], [((969, 419), (976, 431)), 1.0], [((54, 580), (76, 611)), 0.0], [((180, 400), (184, 431)), 1.0], [((531, 409), (562, 431)), 0.0], [((504, 571), (517, 584)), 1], [((1215, 463), (1237, 494)), 1.0], [((81, 454), (112, 458)), 1.0], [((216, 427), (229, 449)), 0.0], [((729, 409), (733, 431)), 1.0]]\n",
      "[[((153, 481), (184, 503)), 1.0], [((675, 571), (706, 593)), 21.0], [((874, 418), (940, 463)), 941.0], [((234, 490), (256, 512)), 0.0], [((963, 553), (994, 575)), 1.0], [((567, 625), (598, 647)), 0.0], [((1179, 580), (1210, 593)), 0.0], [((621, 607), (652, 629)), 1.0], [((873, 634), (904, 665)), 0.0], [((1242, 607), (1264, 629)), 1.0], [((117, 571), (130, 593)), 1.0], [((459, 625), (490, 647)), 0.0], [((351, 508), (373, 539)), 0.0], [((969, 419), (976, 431)), 1.0], [((54, 580), (76, 611)), 0.0], [((180, 400), (184, 431)), 1.0], [((531, 409), (562, 431)), 0.0], [((504, 571), (517, 584)), 1], [((1215, 463), (1237, 494)), 1.0], [((81, 454), (112, 458)), 1.0], [((216, 427), (229, 449)), 0.0], [((729, 409), (733, 431)), 1.0]]\n"
     ]
    },
    {
     "name": "stderr",
     "output_type": "stream",
     "text": [
      "\u001b[A\u001b[A\u001b[A\n",
      "\n",
      "\n",
      " 49%|████▉     | 555/1136 [02:55<02:14,  4.33it/s]"
     ]
    },
    {
     "name": "stdout",
     "output_type": "stream",
     "text": [
      "[[((153, 481), (184, 503)), 1.0], [((729, 499), (760, 530)), 22.0], [((882, 427), (940, 458)), 942.0], [((234, 490), (256, 512)), 0.0], [((963, 553), (994, 575)), 1.0], [((567, 625), (598, 647)), 0.0], [((1179, 580), (1210, 593)), 0.0], [((621, 607), (652, 629)), 1.0], [((873, 634), (904, 665)), 0.0], [((1242, 607), (1264, 629)), 1.0], [((117, 571), (130, 593)), 1.0], [((459, 625), (490, 647)), 0.0], [((351, 508), (373, 539)), 0.0], [((969, 419), (976, 431)), 1.0], [((54, 580), (76, 611)), 0.0], [((180, 400), (184, 431)), 1.0], [((531, 409), (562, 431)), 0.0], [((504, 571), (517, 584)), 1], [((1215, 463), (1237, 494)), 1.0], [((81, 454), (112, 458)), 1.0], [((216, 427), (229, 449)), 0.0], [((729, 409), (733, 431)), 1.0]]\n",
      "[[((153, 481), (184, 503)), 1.0], [((810, 571), (841, 593)), 20.0], [((900, 427), (937, 467)), 943.0], [((234, 490), (256, 512)), 0.0], [((963, 553), (994, 575)), 1.0], [((567, 625), (598, 647)), 1.0], [((1179, 580), (1210, 593)), 0.0], [((621, 607), (652, 629)), 1.0], [((873, 634), (904, 665)), 0.0], [((1242, 607), (1264, 629)), 1.0], [((117, 571), (130, 593)), 1.0], [((459, 625), (490, 647)), 0.0], [((351, 508), (373, 539)), 0.0], [((969, 419), (976, 431)), 1.0], [((54, 580), (76, 611)), 0.0], [((180, 400), (184, 431)), 1.0], [((531, 409), (562, 431)), 0.0], [((504, 571), (517, 584)), 1], [((1215, 463), (1237, 494)), 1.0], [((81, 454), (112, 458)), 1.0], [((216, 427), (229, 449)), 0.0], [((729, 409), (733, 431)), 1.0]]\n",
      "[[((153, 481), (184, 503)), 1.0], [((810, 571), (841, 593)), 18.0], [((882, 427), (940, 458)), 944.0], [((234, 490), (256, 512)), 0.0], [((963, 553), (994, 575)), 1.0], [((666, 607), (697, 638)), 1.0], [((1179, 580), (1210, 593)), 0.0], [((621, 607), (652, 629)), 1.0], [((873, 634), (904, 665)), 0.0], [((1242, 607), (1264, 629)), 1.0], [((117, 571), (130, 593)), 1.0], [((459, 625), (490, 647)), 0.0], [((351, 508), (373, 539)), 0.0], [((969, 419), (976, 431)), 1.0], [((54, 580), (76, 611)), 0.0], [((180, 400), (184, 431)), 1.0], [((531, 409), (562, 431)), 0.0], [((504, 571), (517, 584)), 1], [((1215, 463), (1237, 494)), 1.0], [((81, 454), (112, 458)), 1.0], [((216, 427), (229, 449)), 0.0], [((729, 409), (733, 431)), 1.0]]\n"
     ]
    },
    {
     "name": "stderr",
     "output_type": "stream",
     "text": [
      "\u001b[A\u001b[A\u001b[A\n",
      "\n",
      "\n",
      " 49%|████▉     | 557/1136 [02:56<02:12,  4.36it/s]"
     ]
    },
    {
     "name": "stdout",
     "output_type": "stream",
     "text": [
      "[[((153, 481), (184, 503)), 1.0], [((810, 571), (841, 593)), 19.0], [((874, 418), (937, 467)), 945.0], [((234, 490), (256, 512)), 0.0], [((963, 553), (994, 575)), 1.0], [((666, 607), (697, 638)), 1.0], [((1179, 580), (1210, 593)), 0.0], [((621, 607), (652, 629)), 1.0], [((873, 634), (904, 665)), 0.0], [((1242, 607), (1264, 629)), 1.0], [((117, 571), (130, 593)), 1.0], [((459, 625), (490, 647)), 0.0], [((351, 508), (373, 539)), 0.0], [((969, 419), (976, 431)), 1.0], [((54, 580), (76, 611)), 0.0], [((180, 400), (184, 431)), 1.0], [((531, 409), (562, 431)), 0.0], [((504, 571), (517, 584)), 1], [((1215, 463), (1237, 494)), 1.0], [((81, 454), (112, 458)), 1.0], [((216, 427), (229, 449)), 0.0], [((729, 409), (733, 431)), 1.0]]\n",
      "[[((153, 481), (184, 503)), 1.0], [((819, 580), (850, 602)), 17.0], [((874, 418), (949, 482)), 946.0], [((234, 490), (256, 512)), 0.0], [((963, 553), (994, 575)), 1.0], [((666, 607), (697, 638)), 1.0], [((1179, 580), (1210, 593)), 0.0], [((621, 607), (652, 629)), 1.0], [((873, 634), (904, 665)), 0.0], [((1242, 607), (1264, 629)), 1.0], [((117, 571), (130, 593)), 1.0], [((459, 625), (490, 647)), 0.0], [((351, 508), (373, 539)), 0.0], [((969, 419), (976, 431)), 1.0], [((54, 580), (76, 611)), 0.0], [((180, 400), (184, 431)), 1.0], [((531, 409), (562, 431)), 0.0], [((504, 571), (517, 584)), 1], [((1215, 463), (1237, 494)), 1.0], [((81, 454), (112, 458)), 1.0], [((216, 427), (229, 449)), 0.0], [((729, 409), (733, 431)), 1.0]]\n",
      "[[((153, 481), (184, 503)), 1.0], [((819, 580), (850, 602)), 15.0], [((874, 419), (949, 482)), 947.0], [((234, 490), (256, 512)), 0.0], [((963, 553), (994, 575)), 1.0], [((666, 607), (697, 638)), 1.0], [((1179, 580), (1210, 593)), 0.0], [((621, 607), (652, 629)), 1.0], [((873, 634), (904, 665)), 0.0], [((1242, 607), (1264, 629)), 1.0], [((117, 571), (130, 593)), 1.0], [((459, 625), (490, 647)), 0.0], [((351, 508), (373, 539)), 0.0], [((969, 419), (976, 431)), 1.0], [((54, 580), (76, 611)), 0.0], [((180, 400), (184, 431)), 1.0], [((531, 409), (562, 431)), 0.0], [((504, 571), (517, 584)), 1], [((1215, 463), (1237, 494)), 1.0], [((81, 454), (112, 458)), 1.0], [((216, 427), (229, 449)), 0.0], [((729, 409), (733, 431)), 1.0]]\n",
      "[[((153, 481), (184, 503)), 1.0], [((819, 580), (850, 602)), 13.0], [((882, 419), (949, 476)), 948.0], [((234, 490), (256, 512)), 0.0], [((963, 553), (994, 575)), 1.0], [((666, 607), (697, 638)), 1.0], [((1179, 580), (1210, 593)), 0.0], [((621, 607), (652, 629)), 1.0], [((873, 634), (904, 665)), 0.0], [((1242, 607), (1264, 629)), 1.0], [((117, 571), (130, 593)), 1.0], [((459, 625), (490, 647)), 0.0], [((351, 508), (373, 539)), 0.0], [((969, 419), (976, 431)), 1.0], [((54, 580), (76, 611)), 0.0], [((180, 400), (184, 431)), 1.0], [((531, 409), (562, 431)), 0.0], [((504, 571), (517, 584)), 1], [((1215, 463), (1237, 494)), 1.0], [((81, 454), (112, 458)), 1.0], [((216, 427), (229, 449)), 0.0], [((729, 409), (733, 431)), 1.0]]\n",
      "[[((153, 481), (184, 503)), 1.0], [((819, 580), (850, 602)), 11.0], [((874, 418), (949, 476)), 949.0], [((234, 490), (256, 512)), 0.0], [((963, 553), (994, 575)), 1.0], [((666, 607), (697, 638)), 1.0], [((1179, 580), (1210, 593)), 1.0], [((621, 607), (652, 629)), 2.0], [((873, 634), (904, 665)), 0.0], [((1242, 607), (1264, 629)), 1.0], [((117, 571), (130, 593)), 1.0], [((459, 625), (490, 647)), 0.0], [((351, 508), (373, 539)), 0.0], [((969, 419), (976, 431)), 1.0], [((54, 580), (76, 611)), 0.0], [((180, 400), (184, 431)), 1.0], [((531, 409), (562, 431)), 0.0], [((504, 571), (517, 584)), 1], [((1215, 463), (1237, 494)), 1.0], [((81, 454), (112, 458)), 1.0], [((216, 427), (229, 449)), 0.0], [((729, 409), (733, 431)), 1.0]]\n"
     ]
    },
    {
     "name": "stderr",
     "output_type": "stream",
     "text": [
      "\u001b[A\u001b[A\u001b[A\n",
      "\n",
      "\n",
      " 49%|████▉     | 561/1136 [02:56<01:43,  5.56it/s]"
     ]
    },
    {
     "name": "stdout",
     "output_type": "stream",
     "text": [
      "[[((153, 481), (184, 503)), 1.0], [((819, 580), (850, 602)), 9.0], [((874, 418), (937, 467)), 950.0], [((234, 490), (256, 512)), 0.0], [((963, 553), (994, 575)), 1.0], [((666, 607), (697, 638)), 1.0], [((1188, 553), (1219, 575)), 2.0], [((585, 499), (616, 530)), 0.0], [((873, 634), (904, 665)), 0.0], [((1242, 607), (1264, 629)), 1.0], [((117, 571), (130, 593)), 1.0], [((459, 625), (490, 647)), 0.0], [((351, 508), (373, 539)), 0.0], [((969, 419), (976, 431)), 1.0], [((54, 580), (76, 611)), 0.0], [((180, 400), (184, 431)), 1.0], [((531, 409), (562, 431)), 0.0], [((504, 571), (517, 584)), 1], [((1215, 463), (1237, 494)), 1.0], [((81, 454), (112, 458)), 1.0], [((216, 427), (229, 449)), 0.0], [((729, 409), (733, 431)), 1.0]]\n",
      "[[((153, 481), (184, 503)), 1.0], [((819, 580), (850, 602)), 7.0], [((882, 427), (937, 467)), 951.0], [((234, 490), (256, 512)), 0.0], [((963, 553), (994, 575)), 1.0], [((666, 607), (697, 638)), 1.0], [((1224, 607), (1246, 638)), 0.0], [((585, 499), (616, 530)), 0.0], [((873, 634), (904, 665)), 0.0], [((1242, 607), (1264, 629)), 1.0], [((117, 571), (130, 593)), 1.0], [((459, 625), (490, 647)), 0.0], [((351, 508), (373, 539)), 0.0], [((969, 419), (976, 431)), 1.0], [((54, 580), (76, 611)), 0.0], [((180, 400), (184, 431)), 1.0], [((531, 409), (562, 431)), 0.0], [((504, 571), (517, 584)), 1], [((1215, 463), (1237, 494)), 1.0], [((81, 454), (112, 458)), 1.0], [((216, 427), (229, 449)), 0.0], [((729, 409), (733, 431)), 1.0]]\n"
     ]
    },
    {
     "name": "stderr",
     "output_type": "stream",
     "text": [
      "\u001b[A\u001b[A\u001b[A\n",
      "\n",
      "\n",
      " 50%|████▉     | 563/1136 [02:56<01:53,  5.03it/s]"
     ]
    },
    {
     "name": "stdout",
     "output_type": "stream",
     "text": [
      "[[((153, 481), (184, 503)), 1.0], [((819, 580), (850, 602)), 8.0], [((874, 419), (937, 467)), 952.0], [((234, 490), (256, 512)), 0.0], [((963, 553), (994, 575)), 1.0], [((666, 607), (697, 638)), 1.0], [((1224, 607), (1246, 638)), 1.0], [((585, 499), (616, 530)), 0.0], [((873, 634), (904, 665)), 0.0], [((1242, 607), (1264, 629)), 1.0], [((117, 571), (130, 593)), 1.0], [((459, 625), (490, 647)), 0.0], [((351, 508), (373, 539)), 0.0], [((969, 419), (976, 431)), 1.0], [((54, 580), (76, 611)), 0.0], [((180, 400), (184, 431)), 1.0], [((531, 409), (562, 431)), 0.0], [((504, 571), (517, 584)), 1], [((1215, 463), (1237, 494)), 1.0], [((81, 454), (112, 458)), 1.0], [((216, 427), (229, 449)), 0.0], [((729, 409), (733, 431)), 1.0]]\n",
      "[[((153, 481), (184, 503)), 1.0], [((792, 526), (805, 530)), 6.0], [((900, 436), (931, 467)), 953.0], [((234, 490), (256, 512)), 0.0], [((963, 553), (994, 575)), 1.0], [((666, 607), (697, 638)), 2.0], [((1206, 607), (1237, 638)), 1.0], [((585, 499), (616, 530)), 0.0], [((873, 634), (904, 665)), 0.0], [((1242, 607), (1264, 629)), 1.0], [((117, 571), (130, 593)), 1.0], [((459, 625), (490, 647)), 0.0], [((351, 508), (373, 539)), 0.0], [((969, 419), (976, 431)), 1.0], [((54, 580), (76, 611)), 0.0], [((180, 400), (184, 431)), 1.0], [((531, 409), (562, 431)), 0.0], [((504, 571), (517, 584)), 1], [((1215, 463), (1237, 494)), 2.0], [((81, 454), (112, 458)), 1.0], [((216, 427), (229, 449)), 0.0], [((729, 409), (733, 431)), 1.0]]\n"
     ]
    },
    {
     "name": "stderr",
     "output_type": "stream",
     "text": [
      "\u001b[A\u001b[A\u001b[A\n",
      "\n",
      "\n",
      " 50%|████▉     | 565/1136 [02:57<01:43,  5.50it/s]"
     ]
    },
    {
     "name": "stdout",
     "output_type": "stream",
     "text": [
      "[[((153, 481), (184, 503)), 1.0], [((792, 526), (805, 530)), 4.0], [((874, 418), (937, 467)), 954.0], [((234, 490), (256, 512)), 0.0], [((963, 553), (994, 575)), 1.0], [((621, 544), (643, 575)), 0.0], [((1206, 607), (1237, 638)), 1.0], [((585, 499), (616, 530)), 0.0], [((873, 634), (904, 665)), 0.0], [((1242, 607), (1264, 629)), 2.0], [((117, 571), (130, 593)), 1.0], [((459, 625), (490, 647)), 0.0], [((351, 508), (373, 539)), 0.0], [((969, 419), (976, 431)), 1.0], [((54, 580), (76, 611)), 0.0], [((180, 400), (184, 431)), 1.0], [((531, 409), (562, 431)), 0.0], [((504, 571), (517, 584)), 1], [((1242, 454), (1273, 485)), 0.0], [((81, 454), (112, 458)), 1.0], [((216, 427), (229, 449)), 0.0], [((729, 409), (733, 431)), 1.0]]\n",
      "[[((153, 481), (184, 503)), 1.0], [((792, 526), (805, 530)), 2.0], [((891, 436), (937, 467)), 955.0], [((234, 490), (256, 512)), 0.0], [((963, 553), (994, 575)), 1.0], [((621, 544), (643, 575)), 0.0], [((1206, 607), (1237, 638)), 1.0], [((585, 499), (616, 530)), 0.0], [((873, 634), (904, 665)), 0.0], [((1216, 457), (1264, 520)), 3.0], [((117, 571), (130, 593)), 1.0], [((459, 625), (490, 647)), 0.0], [((351, 508), (373, 539)), 0.0], [((969, 419), (976, 431)), 1.0], [((54, 580), (76, 611)), 0.0], [((180, 400), (184, 431)), 1.0], [((531, 409), (562, 431)), 0.0], [((504, 571), (517, 584)), 1], [((1242, 454), (1273, 485)), 0.0], [((81, 454), (112, 458)), 1.0], [((216, 427), (229, 449)), 0.0], [((729, 409), (733, 431)), 1.0]]\n"
     ]
    },
    {
     "name": "stderr",
     "output_type": "stream",
     "text": [
      "\u001b[A\u001b[A\u001b[A\n",
      "\n",
      "\n",
      " 50%|████▉     | 567/1136 [02:57<01:41,  5.58it/s]\u001b[A\u001b[A\u001b[A\n",
      "\n",
      "\n",
      " 50%|█████     | 569/1136 [02:57<01:27,  6.47it/s]"
     ]
    },
    {
     "name": "stdout",
     "output_type": "stream",
     "text": [
      "[[((153, 481), (184, 503)), 1.0], [((792, 526), (805, 530)), 0.0], [((891, 436), (937, 467)), 956.0], [((234, 490), (256, 512)), 0.0], [((963, 553), (994, 575)), 1.0], [((621, 544), (643, 575)), 0.0], [((1206, 607), (1237, 638)), 2.0], [((585, 499), (616, 530)), 0.0], [((873, 634), (904, 665)), 0.0], [((1216, 457), (1260, 520)), 1.0], [((117, 571), (130, 593)), 1.0], [((459, 625), (490, 647)), 0.0], [((351, 508), (373, 539)), 0.0], [((969, 419), (976, 431)), 1.0], [((54, 580), (76, 611)), 0.0], [((180, 400), (184, 431)), 1.0], [((531, 409), (562, 431)), 0.0], [((504, 571), (517, 584)), 1], [((1242, 454), (1273, 485)), 0.0], [((81, 454), (112, 458)), 1.0], [((216, 427), (229, 449)), 0.0], [((729, 409), (733, 431)), 1.0]]\n",
      "[[((153, 481), (184, 503)), 1.0], [((792, 526), (805, 530)), 0.0], [((900, 427), (937, 467)), 957.0], [((234, 490), (256, 512)), 0.0], [((963, 553), (994, 575)), 1.0], [((621, 544), (643, 575)), 0.0], [((1197, 454), (1273, 520)), 3.0], [((585, 499), (616, 530)), 0.0], [((873, 634), (904, 665)), 0.0], [((1216, 457), (1260, 520)), 1.0], [((117, 571), (130, 593)), 1.0], [((459, 625), (490, 647)), 0.0], [((351, 508), (373, 539)), 0.0], [((969, 419), (976, 431)), 1.0], [((54, 580), (76, 611)), 0.0], [((180, 400), (184, 431)), 1.0], [((531, 409), (562, 431)), 0.0], [((504, 571), (517, 584)), 1], [((1242, 454), (1273, 485)), 0.0], [((81, 454), (112, 458)), 1.0], [((216, 427), (229, 449)), 0.0], [((729, 409), (733, 431)), 1.0]]\n",
      "[[((153, 481), (184, 503)), 1.0], [((792, 526), (805, 530)), 0.0], [((874, 419), (940, 467)), 959.0], [((234, 490), (256, 512)), 0.0], [((963, 553), (994, 575)), 1.0], [((621, 544), (643, 575)), 1.0], [((1178, 454), (1264, 539)), 4.0], [((585, 499), (616, 530)), 0.0], [((873, 634), (904, 665)), 0.0], [((1216, 457), (1260, 520)), 1.0], [((117, 571), (130, 593)), 1.0], [((459, 625), (490, 647)), 0.0], [((351, 508), (373, 539)), 0.0], [((969, 419), (976, 431)), 1.0], [((54, 580), (76, 611)), 0.0], [((180, 400), (184, 431)), 1.0], [((531, 409), (562, 431)), 0.0], [((504, 571), (517, 584)), 1], [((1242, 454), (1273, 485)), 0.0], [((81, 454), (112, 458)), 1.0], [((216, 427), (229, 449)), 0.0], [((729, 409), (733, 431)), 1.0], [((1152, 598), (1183, 620)), 1]]\n"
     ]
    },
    {
     "name": "stderr",
     "output_type": "stream",
     "text": [
      "\u001b[A\u001b[A\u001b[A\n",
      "\n",
      "\n",
      " 51%|█████     | 575/1136 [02:57<01:03,  8.77it/s]\u001b[A\u001b[A\u001b[A"
     ]
    },
    {
     "name": "stdout",
     "output_type": "stream",
     "text": [
      "[[((153, 481), (184, 503)), 1.0], [((792, 526), (805, 530)), 0.0], [((893, 419), (949, 467)), 961.0], [((234, 490), (256, 512)), 0.0], [((963, 553), (994, 575)), 1.0], [((594, 625), (607, 656)), 3.0], [((1197, 454), (1273, 520)), 5.0], [((585, 499), (616, 530)), 0.0], [((873, 634), (904, 665)), 0.0], [((1216, 457), (1260, 520)), 1.0], [((117, 571), (130, 593)), 1.0], [((459, 625), (490, 647)), 0.0], [((351, 508), (373, 539)), 0.0], [((969, 419), (976, 431)), 1.0], [((54, 580), (76, 611)), 0.0], [((180, 400), (184, 431)), 1.0], [((531, 409), (562, 431)), 0.0], [((504, 571), (517, 584)), 1], [((1242, 454), (1273, 485)), 0.0], [((81, 454), (112, 458)), 1.0], [((216, 427), (229, 449)), 0.0], [((729, 409), (733, 431)), 1.0], [((1152, 598), (1183, 620)), 1]]\n",
      "[[((153, 481), (184, 503)), 1.0], [((792, 526), (805, 530)), 1.0], [((900, 427), (937, 463)), 962.0], [((234, 490), (256, 512)), 0.0], [((963, 553), (994, 575)), 1.0], [((585, 598), (616, 620)), 4.0], [((1188, 438), (1279, 520)), 6.0], [((585, 499), (616, 530)), 0.0], [((873, 634), (904, 665)), 0.0], [((1216, 457), (1260, 520)), 1.0], [((117, 571), (130, 593)), 1.0], [((459, 625), (490, 647)), 0.0], [((351, 508), (373, 539)), 0.0], [((969, 419), (976, 431)), 1.0], [((54, 580), (76, 611)), 0.0], [((180, 400), (184, 431)), 1.0], [((531, 409), (562, 431)), 0.0], [((504, 571), (517, 584)), 1], [((1242, 454), (1273, 485)), 0.0], [((81, 454), (112, 458)), 1.0], [((216, 427), (229, 449)), 0.0], [((729, 409), (733, 431)), 1.0], [((1152, 598), (1183, 620)), 1]]\n",
      "[[((153, 481), (184, 503)), 1.0], [((801, 571), (832, 593)), 1.0], [((882, 427), (937, 467)), 963.0], [((234, 490), (256, 512)), 0.0], [((963, 553), (994, 575)), 1.0], [((585, 598), (625, 647)), 2.0], [((1178, 454), (1255, 520)), 8.0], [((585, 499), (616, 530)), 0.0], [((873, 634), (904, 665)), 0.0], [((1216, 457), (1260, 520)), 1.0], [((117, 571), (130, 593)), 1.0], [((459, 625), (490, 647)), 0.0], [((351, 508), (373, 539)), 0.0], [((969, 419), (976, 431)), 1.0], [((54, 580), (76, 611)), 0.0], [((180, 400), (184, 431)), 1.0], [((531, 409), (562, 431)), 0.0], [((504, 571), (517, 584)), 1], [((1242, 454), (1273, 485)), 0.0], [((81, 454), (112, 458)), 1.0], [((216, 427), (229, 449)), 0.0], [((729, 409), (733, 431)), 1.0], [((1152, 598), (1183, 620)), 1]]\n",
      "[[((153, 481), (184, 503)), 1.0], [((801, 571), (832, 593)), 1.0], [((874, 419), (937, 467)), 964.0], [((234, 490), (256, 512)), 0.0], [((963, 553), (994, 575)), 1.0], [((585, 598), (625, 647)), 4.0], [((1170, 445), (1260, 520)), 9.0], [((585, 499), (616, 530)), 0.0], [((873, 634), (904, 665)), 0.0], [((1216, 457), (1260, 520)), 1.0], [((117, 571), (130, 593)), 1.0], [((459, 625), (490, 647)), 0.0], [((351, 508), (373, 539)), 0.0], [((969, 419), (976, 431)), 1.0], [((54, 580), (76, 611)), 0.0], [((180, 400), (184, 431)), 1.0], [((531, 409), (562, 431)), 0.0], [((504, 571), (517, 584)), 1], [((1242, 454), (1273, 485)), 0.0], [((81, 454), (112, 458)), 1.0], [((216, 427), (229, 449)), 0.0], [((729, 409), (733, 431)), 1.0], [((1152, 598), (1183, 620)), 2]]\n",
      "[[((153, 481), (184, 503)), 1.0], [((801, 571), (832, 593)), 1.0], [((874, 418), (937, 467)), 965.0], [((234, 490), (256, 512)), 0.0], [((963, 553), (994, 575)), 1.0], [((603, 607), (652, 656)), 6.0], [((1161, 454), (1241, 520)), 12.0], [((585, 499), (616, 530)), 0.0], [((873, 634), (904, 665)), 0.0], [((1216, 457), (1260, 520)), 1.0], [((117, 571), (130, 593)), 1.0], [((459, 625), (490, 647)), 0.0], [((351, 508), (373, 539)), 0.0], [((969, 419), (976, 431)), 1.0], [((54, 580), (76, 611)), 0.0], [((180, 400), (184, 431)), 1.0], [((531, 409), (562, 431)), 0.0], [((504, 571), (517, 584)), 1], [((1242, 454), (1273, 485)), 0.0], [((81, 454), (112, 458)), 1.0], [((216, 427), (229, 449)), 0.0], [((729, 409), (733, 431)), 1.0], [((1125, 589), (1156, 611)), 0.0]]\n",
      "[[((153, 481), (184, 503)), 1.0], [((801, 571), (832, 593)), 1.0], [((874, 418), (940, 467)), 966.0], [((234, 490), (256, 512)), 0.0], [((963, 553), (994, 575)), 1.0], [((666, 598), (697, 629)), 8.0], [((1152, 419), (1260, 520)), 13.0], [((585, 499), (616, 530)), 0.0], [((873, 634), (904, 665)), 0.0], [((1216, 457), (1260, 520)), 1.0], [((117, 571), (130, 593)), 1.0], [((459, 625), (490, 647)), 0.0], [((351, 508), (373, 539)), 0.0], [((969, 419), (976, 431)), 1.0], [((54, 580), (76, 611)), 0.0], [((180, 400), (184, 431)), 1.0], [((531, 409), (562, 431)), 0.0], [((504, 571), (517, 584)), 1], [((1242, 454), (1273, 485)), 0.0], [((81, 454), (112, 458)), 1.0], [((216, 427), (229, 449)), 0.0], [((729, 409), (733, 431)), 1.0], [((1125, 589), (1156, 611)), 0.0]]\n",
      "[[((153, 481), (184, 503)), 1.0], [((801, 571), (832, 593)), 1.0], [((882, 418), (940, 467)), 967.0], [((234, 490), (256, 512)), 0.0], [((963, 553), (994, 575)), 1.0], [((684, 607), (715, 638)), 9.0], [((1143, 438), (1241, 520)), 14.0], [((585, 499), (616, 530)), 0.0], [((873, 634), (904, 665)), 0.0], [((1216, 457), (1260, 520)), 1.0], [((117, 571), (130, 593)), 1.0], [((459, 625), (490, 647)), 0.0], [((351, 508), (373, 539)), 0.0], [((969, 419), (976, 431)), 1.0], [((54, 580), (76, 611)), 0.0], [((180, 400), (184, 431)), 1.0], [((531, 409), (562, 431)), 0.0], [((504, 571), (517, 584)), 1], [((1242, 454), (1273, 485)), 0.0], [((81, 454), (112, 458)), 1.0], [((216, 427), (229, 449)), 0.0], [((729, 409), (733, 431)), 1.0], [((1125, 589), (1156, 611)), 0.0]]\n",
      "[[((153, 481), (184, 503)), 1.0], [((801, 571), (832, 593)), 2.0], [((882, 418), (940, 467)), 968.0], [((234, 490), (256, 512)), 0.0], [((963, 553), (994, 575)), 1.0], [((603, 616), (634, 629)), 12.0], [((1134, 419), (1273, 520)), 16.0], [((585, 499), (616, 530)), 0.0], [((873, 634), (904, 665)), 0.0], [((1216, 457), (1260, 520)), 1.0], [((117, 571), (130, 593)), 1.0], [((459, 625), (490, 647)), 0.0], [((351, 508), (373, 539)), 0.0], [((969, 419), (976, 431)), 1.0], [((54, 580), (76, 611)), 0.0], [((180, 400), (184, 431)), 1.0], [((531, 409), (562, 431)), 0.0], [((504, 571), (517, 584)), 1], [((1242, 454), (1273, 485)), 0.0], [((81, 454), (112, 458)), 1.0], [((216, 427), (229, 449)), 0.0], [((729, 409), (733, 431)), 1.0], [((1125, 589), (1156, 611)), 0.0]]\n",
      "[[((153, 481), (184, 503)), 1.0], [((675, 589), (697, 593)), 3.0], [((874, 418), (937, 467)), 969.0], [((234, 490), (256, 512)), 0.0], [((963, 553), (994, 575)), 1.0], [((666, 598), (697, 647)), 10.0], [((1125, 454), (1203, 520)), 18.0], [((585, 499), (616, 530)), 0.0], [((873, 634), (904, 665)), 0.0], [((1216, 457), (1260, 520)), 1.0], [((117, 571), (130, 593)), 1.0], [((459, 625), (490, 647)), 0.0], [((351, 508), (373, 539)), 0.0], [((969, 419), (976, 431)), 1.0], [((54, 580), (76, 611)), 0.0], [((180, 400), (184, 431)), 1.0], [((531, 409), (562, 431)), 0.0], [((504, 571), (517, 584)), 1], [((1242, 454), (1273, 485)), 0.0], [((81, 454), (112, 458)), 1.0], [((216, 427), (229, 449)), 0.0], [((729, 409), (733, 431)), 1.0], [((1125, 589), (1156, 611)), 0.0]]\n",
      "[[((153, 481), (184, 503)), 1.0], [((729, 616), (742, 647)), 1.0], [((882, 418), (937, 467)), 970.0], [((234, 490), (256, 512)), 0.0], [((963, 553), (994, 575)), 1.0], [((666, 598), (697, 647)), 8.0], [((1125, 419), (1264, 520)), 20.0], [((585, 499), (616, 530)), 0.0], [((873, 634), (904, 665)), 0.0], [((1216, 457), (1260, 520)), 1.0], [((117, 571), (130, 593)), 1.0], [((459, 625), (490, 647)), 0.0], [((351, 508), (373, 539)), 0.0], [((969, 419), (976, 431)), 1.0], [((54, 580), (76, 611)), 0.0], [((180, 400), (184, 431)), 1.0], [((531, 409), (562, 431)), 0.0], [((504, 571), (517, 584)), 1], [((1242, 454), (1273, 485)), 0.0], [((81, 454), (112, 458)), 1.0], [((216, 427), (229, 449)), 0.0], [((729, 409), (733, 431)), 1.0], [((1125, 589), (1156, 611)), 0.0]]\n"
     ]
    },
    {
     "name": "stderr",
     "output_type": "stream",
     "text": [
      "\n",
      "\n",
      "\n",
      " 51%|█████     | 580/1136 [02:58<00:47, 11.59it/s]\u001b[A\u001b[A\u001b[A\n",
      "\n",
      "\n",
      " 51%|█████▏    | 583/1136 [02:58<00:40, 13.50it/s]\u001b[A\u001b[A\u001b[A"
     ]
    },
    {
     "name": "stdout",
     "output_type": "stream",
     "text": [
      "[[((153, 481), (184, 503)), 1.0], [((729, 616), (742, 647)), 1.0], [((874, 418), (940, 467)), 971.0], [((234, 490), (256, 512)), 0.0], [((963, 553), (994, 575)), 3.0], [((666, 598), (697, 647)), 6.0], [((1188, 436), (1273, 520)), 21.0], [((585, 499), (616, 530)), 0.0], [((873, 634), (904, 665)), 0.0], [((1216, 457), (1260, 520)), 1.0], [((117, 571), (130, 593)), 1.0], [((459, 625), (490, 647)), 0.0], [((351, 508), (373, 539)), 0.0], [((969, 419), (976, 431)), 1.0], [((54, 580), (76, 611)), 0.0], [((180, 400), (184, 431)), 1.0], [((531, 409), (562, 431)), 0.0], [((504, 571), (517, 584)), 1], [((1242, 454), (1273, 485)), 0.0], [((81, 454), (112, 458)), 1.0], [((216, 427), (229, 449)), 0.0], [((729, 409), (733, 431)), 1.0], [((1125, 589), (1156, 611)), 0.0]]\n",
      "[[((153, 481), (184, 503)), 1.0], [((729, 616), (742, 647)), 1.0], [((874, 418), (949, 482)), 972.0], [((234, 490), (256, 512)), 0.0], [((1089, 571), (1120, 593)), 4.0], [((666, 598), (697, 647)), 4.0], [((1107, 419), (1260, 520)), 23.0], [((585, 499), (616, 530)), 0.0], [((873, 634), (904, 665)), 0.0], [((1216, 457), (1260, 520)), 1.0], [((117, 571), (130, 593)), 1.0], [((459, 625), (490, 647)), 0.0], [((351, 508), (373, 539)), 0.0], [((969, 419), (976, 431)), 1.0], [((54, 580), (76, 611)), 0.0], [((180, 400), (184, 431)), 1.0], [((531, 409), (562, 431)), 0.0], [((504, 571), (517, 584)), 1], [((1242, 454), (1273, 485)), 0.0], [((81, 454), (112, 458)), 1.0], [((216, 427), (229, 449)), 0.0], [((729, 409), (733, 431)), 1.0], [((1125, 589), (1156, 611)), 0.0]]\n",
      "[[((153, 481), (184, 503)), 1.0], [((729, 616), (742, 647)), 1.0], [((893, 419), (949, 482)), 973.0], [((234, 490), (256, 512)), 0.0], [((1107, 445), (1165, 503)), 7.0], [((666, 598), (697, 647)), 2.0], [((1197, 409), (1260, 482)), 21.0], [((585, 499), (616, 530)), 0.0], [((873, 634), (904, 665)), 0.0], [((1216, 457), (1260, 520)), 1.0], [((117, 571), (130, 593)), 1.0], [((459, 625), (490, 647)), 0.0], [((351, 508), (373, 539)), 0.0], [((969, 419), (976, 431)), 1.0], [((54, 580), (76, 611)), 0.0], [((180, 400), (184, 431)), 1.0], [((531, 409), (562, 431)), 0.0], [((504, 571), (517, 584)), 1], [((1242, 454), (1273, 485)), 0.0], [((81, 454), (112, 458)), 1.0], [((216, 427), (229, 449)), 0.0], [((729, 409), (733, 431)), 1.0], [((1125, 589), (1156, 611)), 0.0]]\n",
      "[[((153, 481), (184, 503)), 1.0], [((729, 616), (742, 647)), 1.0], [((893, 419), (949, 482)), 974.0], [((234, 490), (256, 512)), 0.0], [((1098, 400), (1260, 520)), 9.0], [((666, 598), (697, 647)), 0.0], [((1197, 409), (1260, 482)), 19.0], [((585, 499), (616, 530)), 0.0], [((873, 634), (904, 665)), 0.0], [((1216, 457), (1260, 520)), 1.0], [((117, 571), (130, 593)), 1.0], [((459, 625), (490, 647)), 0.0], [((351, 508), (373, 539)), 0.0], [((969, 419), (976, 431)), 1.0], [((54, 580), (76, 611)), 0.0], [((180, 400), (184, 431)), 1.0], [((531, 409), (562, 431)), 0.0], [((504, 571), (517, 584)), 1], [((1242, 454), (1273, 485)), 0.0], [((81, 454), (112, 458)), 1.0], [((216, 427), (229, 449)), 0.0], [((729, 409), (733, 431)), 1.0], [((1125, 589), (1156, 611)), 0.0]]\n",
      "[[((153, 481), (184, 503)), 1.0], [((729, 616), (742, 647)), 1.0], [((874, 418), (937, 467)), 975.0], [((234, 490), (256, 512)), 0.0], [((1089, 400), (1260, 520)), 11.0], [((666, 598), (697, 647)), 0.0], [((1197, 409), (1260, 482)), 17.0], [((585, 499), (616, 530)), 0.0], [((873, 634), (904, 665)), 0.0], [((1216, 457), (1260, 520)), 1.0], [((117, 571), (130, 593)), 1.0], [((459, 625), (490, 647)), 0.0], [((351, 508), (373, 539)), 0.0], [((969, 419), (976, 431)), 1.0], [((54, 580), (76, 611)), 0.0], [((180, 400), (184, 431)), 1.0], [((531, 409), (562, 431)), 0.0], [((504, 571), (517, 584)), 1], [((1242, 454), (1273, 485)), 0.0], [((81, 454), (112, 458)), 1.0], [((216, 427), (229, 449)), 0.0], [((729, 409), (733, 431)), 1.0], [((1125, 589), (1156, 611)), 0.0]]\n",
      "[[((153, 481), (184, 503)), 1.0], [((729, 616), (742, 647)), 1.0], [((874, 418), (937, 467)), 976.0], [((234, 490), (256, 512)), 0.0], [((1159, 419), (1241, 512)), 12.0], [((666, 598), (697, 647)), 0.0], [((1197, 409), (1260, 482)), 15.0], [((585, 499), (616, 530)), 0.0], [((873, 634), (904, 665)), 0.0], [((1216, 457), (1260, 520)), 1.0], [((117, 571), (130, 593)), 1.0], [((459, 625), (490, 647)), 0.0], [((351, 508), (373, 539)), 0.0], [((969, 419), (976, 431)), 1.0], [((54, 580), (76, 611)), 0.0], [((180, 400), (184, 431)), 1.0], [((531, 409), (562, 431)), 0.0], [((504, 571), (517, 584)), 1], [((1242, 454), (1273, 485)), 0.0], [((81, 454), (112, 458)), 1.0], [((216, 427), (229, 449)), 0.0], [((729, 409), (733, 431)), 1.0], [((1125, 589), (1156, 611)), 0.0]]\n",
      "[[((153, 481), (184, 503)), 1.0], [((729, 616), (742, 647)), 1.0], [((891, 427), (940, 467)), 977.0], [((234, 490), (256, 512)), 0.0], [((1080, 400), (1241, 512)), 13.0], [((666, 598), (697, 647)), 0.0], [((1197, 409), (1260, 482)), 13.0], [((585, 499), (616, 530)), 0.0], [((873, 634), (904, 665)), 0.0], [((1216, 457), (1260, 520)), 1.0], [((117, 571), (130, 593)), 1.0], [((459, 625), (490, 647)), 0.0], [((351, 508), (373, 539)), 0.0], [((969, 419), (976, 431)), 1.0], [((54, 580), (76, 611)), 0.0], [((180, 400), (184, 431)), 1.0], [((531, 409), (562, 431)), 0.0], [((504, 571), (517, 584)), 1], [((1242, 454), (1273, 485)), 0.0], [((81, 454), (112, 458)), 1.0], [((216, 427), (229, 449)), 0.0], [((729, 409), (733, 431)), 1.0], [((1125, 589), (1156, 611)), 0.0]]\n"
     ]
    },
    {
     "name": "stderr",
     "output_type": "stream",
     "text": [
      "\n",
      "\n",
      "\n",
      "\r",
      " 52%|█████▏    | 587/1136 [02:58<00:43, 12.73it/s]"
     ]
    },
    {
     "name": "stdout",
     "output_type": "stream",
     "text": [
      "[[((153, 481), (184, 503)), 1.0], [((729, 616), (742, 647)), 1.0], [((874, 419), (940, 467)), 978.0], [((234, 490), (256, 512)), 0.0], [((1083, 419), (1222, 520)), 14.0], [((666, 598), (697, 647)), 0.0], [((1197, 409), (1260, 482)), 11.0], [((585, 499), (616, 530)), 0.0], [((873, 634), (904, 665)), 0.0], [((1216, 457), (1260, 520)), 1.0], [((117, 571), (130, 593)), 1.0], [((459, 625), (490, 647)), 0.0], [((351, 508), (373, 539)), 0.0], [((969, 419), (976, 431)), 1.0], [((54, 580), (76, 611)), 0.0], [((180, 400), (184, 431)), 1.0], [((531, 409), (562, 431)), 0.0], [((504, 571), (517, 584)), 1], [((1242, 454), (1273, 485)), 0.0], [((81, 454), (112, 458)), 1.0], [((216, 427), (229, 449)), 0.0], [((729, 409), (733, 431)), 1.0], [((1125, 589), (1156, 611)), 0.0]]\n",
      "[[((153, 481), (184, 503)), 1.0], [((729, 616), (742, 647)), 1.0], [((874, 418), (940, 467)), 979.0], [((234, 490), (256, 512)), 0.0], [((1098, 400), (1241, 501)), 15.0], [((666, 598), (697, 647)), 0.0], [((1197, 409), (1260, 482)), 9.0], [((585, 499), (616, 530)), 0.0], [((873, 634), (904, 665)), 0.0], [((1216, 457), (1260, 520)), 2.0], [((117, 571), (130, 593)), 1.0], [((459, 625), (490, 647)), 0.0], [((351, 508), (373, 539)), 0.0], [((969, 419), (976, 431)), 2.0], [((54, 580), (76, 611)), 0.0], [((180, 400), (184, 431)), 1.0], [((531, 409), (562, 431)), 0.0], [((504, 571), (517, 584)), 1], [((1242, 454), (1273, 485)), 0.0], [((81, 454), (112, 458)), 1.0], [((216, 427), (229, 449)), 0.0], [((729, 409), (733, 431)), 1.0], [((1125, 589), (1156, 611)), 0.0], [((1026, 526), (1030, 530)), 1]]\n"
     ]
    },
    {
     "name": "stderr",
     "output_type": "stream",
     "text": [
      "\u001b[A\u001b[A\u001b[A\n",
      "\n",
      "\n",
      " 52%|█████▏    | 590/1136 [02:59<01:23,  6.54it/s]\u001b[A\u001b[A\u001b[A\n",
      "\n",
      "\n",
      " 52%|█████▏    | 592/1136 [02:59<01:08,  7.96it/s]"
     ]
    },
    {
     "name": "stdout",
     "output_type": "stream",
     "text": [
      "[[((153, 481), (184, 503)), 1.0], [((729, 616), (742, 647)), 1.0], [((900, 436), (940, 467)), 980.0], [((234, 490), (256, 512)), 0.0], [((1064, 419), (1222, 501)), 16.0], [((666, 598), (697, 647)), 0.0], [((1197, 409), (1260, 482)), 7.0], [((585, 499), (616, 530)), 0.0], [((873, 634), (904, 665)), 0.0], [((1216, 616), (1255, 647)), 3.0], [((117, 571), (130, 593)), 1.0], [((459, 625), (490, 647)), 0.0], [((351, 508), (373, 539)), 0.0], [((1026, 499), (1057, 512)), 0.0], [((54, 580), (76, 611)), 0.0], [((180, 400), (184, 431)), 1.0], [((531, 409), (562, 431)), 0.0], [((504, 571), (517, 584)), 1], [((1242, 454), (1273, 485)), 0.0], [((81, 454), (112, 458)), 1.0], [((216, 427), (229, 449)), 0.0], [((729, 409), (733, 431)), 1.0], [((1125, 589), (1156, 611)), 0.0], [((1026, 526), (1030, 530)), 1]]\n",
      "[[((153, 481), (184, 503)), 1.0], [((729, 616), (742, 647)), 1.0], [((891, 427), (940, 467)), 981.0], [((234, 490), (256, 512)), 0.0], [((1062, 427), (1203, 503)), 17.0], [((666, 598), (697, 647)), 0.0], [((1197, 409), (1260, 482)), 5.0], [((585, 499), (616, 530)), 0.0], [((873, 634), (904, 665)), 0.0], [((1215, 616), (1237, 647)), 1.0], [((117, 571), (130, 593)), 1.0], [((459, 625), (490, 647)), 0.0], [((351, 508), (373, 539)), 0.0], [((1026, 499), (1057, 512)), 0.0], [((54, 580), (76, 611)), 0.0], [((180, 400), (184, 431)), 1.0], [((531, 409), (562, 431)), 0.0], [((504, 571), (517, 584)), 1], [((1242, 454), (1273, 485)), 0.0], [((81, 454), (112, 458)), 1.0], [((216, 427), (229, 449)), 0.0], [((729, 409), (733, 431)), 1.0], [((1125, 589), (1156, 611)), 0.0], [((1026, 526), (1030, 530)), 1]]\n",
      "[[((153, 481), (184, 503)), 1.0], [((729, 616), (742, 647)), 1.0], [((882, 427), (937, 467)), 982.0], [((234, 490), (256, 512)), 0.0], [((1062, 419), (1203, 503)), 19.0], [((666, 598), (697, 647)), 0.0], [((1197, 409), (1260, 482)), 3.0], [((585, 499), (616, 530)), 0.0], [((873, 634), (904, 665)), 0.0], [((1215, 616), (1237, 647)), 1.0], [((117, 571), (130, 593)), 1.0], [((459, 625), (490, 647)), 0.0], [((351, 508), (373, 539)), 0.0], [((1026, 499), (1057, 512)), 0.0], [((54, 580), (76, 611)), 0.0], [((180, 400), (184, 431)), 1.0], [((531, 409), (562, 431)), 0.0], [((504, 571), (517, 584)), 1], [((1242, 454), (1273, 485)), 0.0], [((81, 454), (112, 458)), 1.0], [((216, 427), (229, 449)), 0.0], [((729, 409), (733, 431)), 1.0], [((1125, 589), (1156, 611)), 0.0], [((1026, 526), (1030, 530)), 1]]\n",
      "[[((153, 481), (184, 503)), 2.0], [((729, 616), (742, 647)), 2.0], [((874, 419), (937, 482)), 983.0], [((234, 490), (256, 512)), 0.0], [((1035, 400), (1203, 501)), 21.0], [((666, 598), (697, 647)), 0.0], [((1197, 409), (1260, 482)), 1.0], [((585, 499), (616, 530)), 0.0], [((873, 634), (904, 665)), 0.0], [((1215, 616), (1237, 647)), 2.0], [((117, 571), (130, 593)), 1.0], [((459, 625), (490, 647)), 0.0], [((351, 508), (373, 539)), 0.0], [((1026, 499), (1057, 512)), 0.0], [((54, 580), (76, 611)), 0.0], [((180, 400), (184, 431)), 1.0], [((531, 409), (562, 431)), 0.0], [((504, 571), (517, 584)), 1], [((1242, 454), (1273, 485)), 0.0], [((81, 454), (112, 458)), 1.0], [((216, 427), (229, 449)), 0.0], [((729, 409), (733, 431)), 1.0], [((1125, 589), (1156, 611)), 0.0], [((1026, 526), (1030, 530)), 1]]\n",
      "[[((189, 490), (211, 512)), 0.0], [((585, 607), (616, 638)), 3.0], [((874, 419), (937, 467)), 984.0], [((234, 490), (256, 512)), 0.0], [((1045, 400), (1201, 503)), 22.0], [((666, 598), (697, 647)), 1.0], [((1197, 409), (1260, 482)), 2.0], [((585, 499), (616, 530)), 0.0], [((873, 634), (904, 665)), 1.0], [((1188, 607), (1219, 638)), 3.0], [((117, 571), (130, 593)), 1.0], [((459, 625), (490, 647)), 0.0], [((351, 508), (373, 539)), 0.0], [((1026, 499), (1057, 512)), 0.0], [((54, 580), (76, 611)), 0.0], [((180, 400), (184, 431)), 1.0], [((531, 409), (562, 431)), 0.0], [((504, 571), (517, 584)), 1], [((1242, 454), (1273, 485)), 0.0], [((81, 454), (112, 458)), 1.0], [((216, 427), (229, 449)), 0.0], [((729, 409), (733, 431)), 1.0], [((1125, 589), (1156, 611)), 0.0], [((1026, 526), (1030, 530)), 1]]\n",
      "[[((189, 490), (211, 512)), 0.0], [((666, 553), (688, 575)), 4.0], [((874, 419), (937, 482)), 985.0], [((234, 490), (256, 512)), 0.0], [((1045, 400), (1184, 501)), 23.0], [((666, 481), (697, 512)), 1.0], [((1233, 495), (1260, 512)), 4.0], [((585, 499), (616, 530)), 0.0], [((981, 634), (1012, 656)), 1.0], [((1179, 607), (1201, 638)), 1.0], [((117, 571), (130, 593)), 1.0], [((459, 625), (490, 647)), 0.0], [((351, 508), (373, 539)), 0.0], [((1026, 499), (1057, 512)), 0.0], [((54, 580), (76, 611)), 0.0], [((180, 400), (184, 431)), 1.0], [((531, 409), (562, 431)), 0.0], [((504, 571), (517, 584)), 1], [((1242, 454), (1273, 485)), 0.0], [((81, 454), (112, 458)), 1.0], [((216, 427), (229, 449)), 0.0], [((729, 409), (733, 431)), 1.0], [((1125, 589), (1156, 611)), 0.0], [((1026, 526), (1030, 530)), 1]]\n",
      "[[((189, 490), (211, 512)), 0.0], [((648, 472), (697, 512)), 5.0], [((874, 419), (937, 467)), 986.0], [((234, 490), (256, 512)), 0.0], [((1062, 400), (1184, 501)), 25.0], [((666, 481), (697, 512)), 1.0], [((1224, 495), (1255, 512)), 5.0], [((585, 499), (616, 530)), 0.0], [((981, 634), (1012, 656)), 1.0], [((1179, 607), (1201, 638)), 1.0], [((117, 571), (130, 593)), 1.0], [((459, 625), (490, 647)), 0.0], [((351, 508), (373, 539)), 0.0], [((1026, 499), (1057, 512)), 0.0], [((54, 580), (76, 611)), 0.0], [((180, 400), (184, 431)), 1.0], [((531, 409), (562, 431)), 0.0], [((504, 571), (517, 584)), 1], [((1242, 454), (1273, 485)), 0.0], [((81, 454), (112, 458)), 1.0], [((216, 427), (229, 449)), 0.0], [((729, 409), (733, 431)), 1.0], [((1125, 589), (1156, 611)), 0.0], [((1026, 526), (1030, 530)), 1]]\n",
      "[[((189, 490), (211, 512)), 0.0], [((675, 490), (697, 503)), 3.0], [((891, 427), (931, 463)), 987.0], [((234, 490), (256, 512)), 0.0], [((1026, 418), (1174, 520)), 27.0], [((666, 481), (697, 512)), 1.0], [((1224, 472), (1255, 503)), 7.0], [((585, 499), (616, 530)), 0.0], [((981, 634), (1012, 656)), 1.0], [((1179, 607), (1201, 638)), 1.0], [((117, 571), (130, 593)), 1.0], [((459, 625), (490, 647)), 0.0], [((351, 508), (373, 539)), 0.0], [((1026, 499), (1057, 512)), 0.0], [((54, 580), (76, 611)), 0.0], [((180, 400), (184, 431)), 1.0], [((531, 409), (562, 431)), 0.0], [((504, 571), (517, 584)), 1], [((1242, 454), (1273, 485)), 0.0], [((81, 454), (112, 458)), 1.0], [((216, 427), (229, 449)), 0.0], [((729, 409), (733, 431)), 1.0], [((1125, 589), (1156, 611)), 0.0], [((1026, 526), (1030, 530)), 1]]\n"
     ]
    },
    {
     "name": "stderr",
     "output_type": "stream",
     "text": [
      "\u001b[A\u001b[A\u001b[A\n",
      "\n",
      "\n",
      " 53%|█████▎    | 600/1136 [02:59<00:49, 10.86it/s]\u001b[A\u001b[A\u001b[A\n",
      "\n",
      "\n",
      " 53%|█████▎    | 606/1136 [02:59<00:37, 14.26it/s]"
     ]
    },
    {
     "name": "stdout",
     "output_type": "stream",
     "text": [
      "[[((189, 490), (211, 512)), 0.0], [((675, 490), (697, 503)), 4.0], [((891, 427), (931, 463)), 988.0], [((234, 490), (256, 512)), 0.0], [((1044, 438), (1129, 494)), 28.0], [((666, 481), (697, 512)), 1.0], [((1233, 607), (1273, 638)), 9.0], [((585, 499), (616, 530)), 0.0], [((981, 634), (1012, 656)), 1.0], [((1179, 607), (1201, 638)), 1.0], [((117, 571), (130, 593)), 1.0], [((459, 625), (490, 647)), 0.0], [((351, 508), (373, 539)), 0.0], [((1026, 499), (1057, 512)), 0.0], [((54, 580), (76, 611)), 0.0], [((180, 400), (184, 431)), 1.0], [((531, 409), (562, 431)), 0.0], [((504, 571), (517, 584)), 1], [((1242, 454), (1273, 485)), 1.0], [((81, 454), (112, 458)), 1.0], [((216, 427), (229, 449)), 0.0], [((729, 409), (733, 431)), 1.0], [((1125, 589), (1156, 611)), 0.0], [((1026, 526), (1030, 530)), 1]]\n",
      "[[((189, 490), (211, 512)), 0.0], [((729, 553), (760, 584)), 2.0], [((874, 418), (931, 463)), 989.0], [((234, 490), (256, 512)), 0.0], [((1064, 419), (1146, 501)), 30.0], [((666, 481), (697, 512)), 1.0], [((1197, 552), (1260, 634)), 7.0], [((585, 499), (616, 530)), 0.0], [((981, 634), (1012, 656)), 1.0], [((1179, 607), (1201, 638)), 1.0], [((117, 571), (130, 593)), 1.0], [((459, 625), (490, 647)), 0.0], [((351, 508), (373, 539)), 0.0], [((1026, 499), (1057, 512)), 0.0], [((54, 580), (76, 611)), 0.0], [((180, 400), (184, 431)), 1.0], [((531, 409), (562, 431)), 0.0], [((504, 571), (517, 584)), 1], [((1215, 472), (1237, 503)), 1.0], [((81, 454), (112, 458)), 1.0], [((216, 427), (229, 449)), 0.0], [((729, 409), (733, 431)), 1.0], [((1125, 589), (1156, 611)), 0.0], [((1026, 526), (1030, 530)), 1]]\n",
      "[[((189, 490), (211, 512)), 0.0], [((729, 553), (760, 584)), 0.0], [((874, 418), (931, 463)), 990.0], [((234, 490), (256, 512)), 0.0], [((1035, 419), (1165, 520)), 31.0], [((666, 481), (697, 512)), 1.0], [((1197, 552), (1260, 634)), 8.0], [((585, 499), (616, 530)), 1.0], [((981, 634), (1012, 656)), 1.0], [((1179, 607), (1201, 638)), 1.0], [((117, 571), (130, 593)), 1.0], [((459, 625), (490, 647)), 0.0], [((351, 508), (373, 539)), 0.0], [((1026, 499), (1057, 512)), 0.0], [((54, 580), (76, 611)), 0.0], [((180, 400), (184, 431)), 1.0], [((531, 409), (562, 431)), 0.0], [((504, 571), (517, 584)), 1], [((1215, 472), (1237, 503)), 1.0], [((81, 454), (112, 458)), 1.0], [((216, 427), (229, 449)), 0.0], [((729, 409), (733, 431)), 1.0], [((1125, 589), (1156, 611)), 0.0], [((1026, 526), (1030, 530)), 1]]\n",
      "[[((189, 490), (211, 512)), 0.0], [((729, 553), (760, 584)), 1.0], [((874, 418), (931, 463)), 992.0], [((234, 490), (256, 512)), 0.0], [((1026, 418), (1146, 520)), 33.0], [((666, 481), (697, 512)), 1.0], [((1197, 571), (1241, 634)), 9.0], [((603, 616), (634, 638)), 1.0], [((981, 634), (1012, 656)), 1.0], [((1179, 607), (1201, 638)), 1.0], [((117, 571), (130, 593)), 1.0], [((459, 625), (490, 647)), 0.0], [((351, 508), (373, 539)), 0.0], [((1026, 499), (1057, 512)), 0.0], [((54, 580), (76, 611)), 0.0], [((180, 400), (184, 431)), 1.0], [((531, 409), (562, 431)), 0.0], [((504, 571), (517, 584)), 1], [((1215, 472), (1237, 503)), 2.0], [((81, 454), (112, 458)), 1.0], [((216, 427), (229, 449)), 0.0], [((729, 409), (733, 431)), 1.0], [((1125, 589), (1156, 611)), 0.0], [((1026, 526), (1030, 530)), 1]]\n",
      "[[((189, 490), (211, 512)), 0.0], [((666, 472), (688, 503)), 1.0], [((874, 418), (931, 463)), 993.0], [((234, 490), (256, 512)), 0.0], [((1017, 419), (1129, 501)), 35.0], [((666, 481), (697, 512)), 1.0], [((1215, 544), (1273, 575)), 12.0], [((603, 616), (634, 638)), 1.0], [((981, 634), (1012, 656)), 1.0], [((1179, 607), (1201, 638)), 1.0], [((117, 571), (130, 593)), 1.0], [((459, 625), (490, 647)), 0.0], [((351, 508), (373, 539)), 0.0], [((1026, 499), (1057, 512)), 0.0], [((54, 580), (76, 611)), 0.0], [((180, 400), (184, 431)), 1.0], [((531, 409), (562, 431)), 0.0], [((504, 571), (517, 584)), 1], [((1215, 427), (1260, 458)), 0.0], [((81, 454), (112, 458)), 1.0], [((216, 427), (229, 449)), 0.0], [((729, 409), (733, 431)), 1.0], [((1125, 589), (1156, 611)), 0.0], [((1026, 526), (1030, 530)), 1]]\n",
      "[[((189, 490), (211, 512)), 1.0], [((666, 472), (688, 503)), 1.0], [((874, 418), (931, 463)), 994.0], [((234, 490), (256, 512)), 0.0], [((1017, 418), (1147, 501)), 37.0], [((666, 481), (697, 512)), 1.0], [((1159, 476), (1219, 539)), 16.0], [((603, 616), (634, 638)), 1.0], [((981, 634), (1012, 656)), 1.0], [((1179, 607), (1201, 638)), 2.0], [((117, 571), (130, 593)), 1.0], [((459, 625), (490, 647)), 0.0], [((351, 508), (373, 539)), 0.0], [((1026, 499), (1057, 512)), 0.0], [((54, 580), (76, 611)), 0.0], [((180, 400), (184, 431)), 1.0], [((531, 409), (562, 431)), 0.0], [((504, 571), (517, 584)), 1], [((1215, 427), (1260, 458)), 0.0], [((81, 454), (112, 458)), 1.0], [((216, 427), (229, 449)), 0.0], [((729, 409), (733, 431)), 1.0], [((1125, 589), (1156, 611)), 0.0], [((1026, 526), (1030, 530)), 1]]\n",
      "[[((180, 490), (211, 530)), 1.0], [((666, 472), (688, 503)), 1.0], [((874, 418), (931, 463)), 995.0], [((234, 490), (256, 512)), 0.0], [((1044, 409), (1146, 501)), 39.0], [((666, 481), (697, 512)), 1.0], [((1242, 445), (1264, 476)), 19.0], [((603, 616), (634, 638)), 1.0], [((981, 634), (1012, 656)), 1.0], [((1233, 589), (1255, 620)), 3.0], [((117, 571), (130, 593)), 1.0], [((459, 625), (490, 647)), 0.0], [((351, 508), (373, 539)), 0.0], [((1026, 499), (1057, 512)), 0.0], [((54, 580), (76, 611)), 0.0], [((180, 400), (184, 431)), 1.0], [((531, 409), (562, 431)), 0.0], [((504, 571), (517, 584)), 1], [((1215, 427), (1260, 458)), 0.0], [((81, 454), (112, 458)), 1.0], [((216, 427), (229, 449)), 0.0], [((729, 409), (733, 431)), 1.0], [((1125, 589), (1156, 611)), 0.0], [((1026, 526), (1030, 530)), 1]]\n",
      "[[((180, 490), (211, 530)), 1.0], [((666, 472), (688, 503)), 1.0], [((874, 418), (937, 463)), 997.0], [((234, 490), (256, 512)), 0.0], [((1035, 419), (1146, 501)), 43.0], [((666, 481), (697, 512)), 1.0], [((1206, 552), (1273, 611)), 21.0], [((603, 616), (634, 638)), 1.0], [((981, 634), (1012, 656)), 1.0], [((1178, 552), (1184, 558)), 1.0], [((117, 571), (130, 593)), 1.0], [((459, 625), (490, 647)), 0.0], [((351, 508), (373, 539)), 0.0], [((1026, 499), (1057, 512)), 0.0], [((54, 580), (76, 611)), 0.0], [((180, 400), (184, 431)), 1.0], [((531, 409), (562, 431)), 0.0], [((504, 571), (517, 584)), 1], [((1215, 427), (1260, 458)), 0.0], [((81, 454), (112, 458)), 1.0], [((216, 427), (229, 449)), 0.0], [((729, 409), (733, 431)), 1.0], [((1125, 589), (1156, 611)), 0.0], [((1026, 526), (1030, 530)), 1]]\n",
      "[[((180, 490), (211, 530)), 1.0], [((666, 472), (688, 503)), 1.0], [((882, 419), (940, 467)), 998.0], [((234, 490), (256, 512)), 0.0], [((1045, 409), (1146, 482)), 44.0], [((666, 481), (697, 512)), 1.0], [((1125, 580), (1156, 593)), 24.0], [((603, 616), (634, 638)), 1.0], [((981, 634), (1012, 656)), 1.0], [((1178, 552), (1184, 558)), 2.0], [((117, 571), (130, 593)), 1.0], [((459, 625), (490, 647)), 0.0], [((351, 508), (373, 539)), 0.0], [((1026, 499), (1057, 512)), 0.0], [((54, 580), (76, 611)), 0.0], [((180, 400), (184, 431)), 1.0], [((531, 409), (562, 431)), 0.0], [((504, 571), (517, 584)), 1], [((1215, 427), (1260, 458)), 0.0], [((81, 454), (112, 458)), 1.0], [((216, 427), (229, 449)), 0.0], [((729, 409), (733, 431)), 1.0], [((1125, 589), (1156, 611)), 0.0], [((1026, 526), (1030, 530)), 1]]\n",
      "[[((180, 490), (211, 530)), 1.0], [((666, 472), (688, 503)), 1.0], [((882, 400), (956, 467)), 999.0], [((234, 490), (256, 512)), 0.0], [((988, 400), (1129, 501)), 46.0], [((666, 481), (697, 512)), 1.0], [((1206, 580), (1222, 611)), 28.0], [((603, 616), (634, 638)), 1.0], [((981, 634), (1012, 656)), 1.0], [((1170, 436), (1260, 520)), 3.0], [((117, 571), (130, 593)), 1.0], [((459, 625), (490, 647)), 0.0], [((351, 508), (373, 539)), 0.0], [((1026, 499), (1057, 512)), 0.0], [((54, 580), (76, 611)), 0.0], [((180, 400), (184, 431)), 1.0], [((531, 409), (562, 431)), 0.0], [((504, 571), (517, 584)), 1], [((1215, 427), (1260, 458)), 0.0], [((81, 454), (112, 458)), 1.0], [((216, 427), (229, 449)), 0.0], [((729, 409), (733, 431)), 1.0], [((1125, 589), (1156, 611)), 0.0], [((1026, 526), (1030, 530)), 1]]\n",
      "[[((180, 490), (211, 530)), 1.0], [((666, 472), (688, 503)), 2.0], [((882, 419), (949, 467)), 1001.0], [((234, 490), (256, 512)), 0.0], [((1035, 400), (1127, 482)), 44.0], [((666, 481), (697, 512)), 1.0], [((1197, 580), (1260, 611)), 32.0], [((603, 616), (634, 638)), 1.0], [((981, 634), (1012, 656)), 1.0], [((1242, 445), (1273, 467)), 1.0], [((117, 571), (130, 593)), 1.0], [((459, 625), (490, 647)), 0.0], [((351, 508), (373, 539)), 0.0], [((1026, 499), (1057, 512)), 0.0], [((54, 580), (76, 611)), 0.0], [((180, 400), (184, 431)), 1.0], [((531, 409), (562, 431)), 0.0], [((504, 571), (517, 584)), 1], [((1215, 427), (1260, 458)), 0.0], [((81, 454), (112, 458)), 1.0], [((216, 427), (229, 449)), 0.0], [((729, 409), (733, 431)), 1.0], [((1125, 589), (1156, 611)), 0.0], [((1026, 526), (1030, 530)), 1]]\n",
      "[[((180, 490), (211, 530)), 1.0], [((657, 616), (697, 647)), 4.0], [((988, 400), (1127, 501)), 1003.0], [((234, 490), (256, 512)), 0.0], [((1035, 400), (1127, 482)), 42.0], [((666, 481), (697, 512)), 1.0], [((1197, 436), (1264, 476)), 33.0], [((603, 616), (634, 638)), 1.0], [((981, 634), (1012, 656)), 1.0], [((1242, 445), (1273, 467)), 1.0], [((117, 571), (130, 593)), 1.0], [((459, 625), (490, 647)), 0.0], [((351, 508), (373, 539)), 0.0], [((1026, 499), (1057, 512)), 0.0], [((54, 580), (76, 611)), 0.0], [((180, 400), (184, 431)), 1.0], [((531, 409), (562, 431)), 0.0], [((504, 571), (517, 584)), 1], [((1215, 427), (1260, 458)), 0.0], [((81, 454), (112, 458)), 1.0], [((216, 427), (229, 449)), 0.0], [((729, 409), (733, 431)), 1.0], [((1125, 589), (1156, 611)), 2.0], [((1026, 526), (1030, 530)), 1], [((893, 418), (940, 463)), 1], [((810, 598), (841, 620)), 1]]\n",
      "[[((180, 490), (211, 530)), 1.0], [((729, 598), (760, 629)), 2.0], [((1026, 419), (1120, 501)), 1005.0], [((234, 490), (256, 512)), 0.0], [((1035, 400), (1127, 482)), 40.0], [((666, 481), (697, 512)), 2.0], [((1159, 418), (1260, 520)), 34.0], [((603, 616), (634, 638)), 1.0], [((981, 634), (1012, 656)), 1.0], [((1242, 445), (1273, 467)), 1.0], [((117, 571), (130, 593)), 1.0], [((459, 625), (490, 647)), 0.0], [((351, 508), (373, 539)), 0.0], [((1026, 499), (1057, 512)), 0.0], [((54, 580), (76, 611)), 0.0], [((180, 400), (184, 431)), 1.0], [((531, 409), (562, 431)), 0.0], [((504, 571), (517, 584)), 1], [((1215, 427), (1260, 458)), 0.0], [((81, 454), (112, 458)), 1.0], [((216, 427), (229, 449)), 0.0], [((729, 409), (733, 431)), 1.0], [((1178, 552), (1237, 615)), 0.0], [((1026, 526), (1030, 530)), 1], [((893, 418), (940, 463)), 2], [((810, 598), (841, 620)), 1]]\n"
     ]
    },
    {
     "name": "stderr",
     "output_type": "stream",
     "text": [
      "\u001b[A\u001b[A\u001b[A\n",
      "\n",
      "\n",
      " 54%|█████▍    | 612/1136 [02:59<00:28, 18.17it/s]\u001b[A\u001b[A\u001b[A\n",
      "\n",
      "\n",
      " 54%|█████▍    | 618/1136 [03:00<00:23, 22.47it/s]"
     ]
    },
    {
     "name": "stdout",
     "output_type": "stream",
     "text": [
      "[[((180, 490), (211, 530)), 1.0], [((729, 598), (760, 629)), 3.0], [((1107, 409), (1255, 520)), 1008.0], [((234, 490), (256, 512)), 0.0], [((1035, 400), (1127, 482)), 38.0], [((648, 472), (688, 539)), 3.0], [((1143, 535), (1192, 596)), 35.0], [((603, 616), (634, 638)), 1.0], [((981, 634), (1012, 656)), 1.0], [((1242, 445), (1273, 467)), 1.0], [((117, 571), (130, 593)), 1.0], [((459, 625), (490, 647)), 0.0], [((351, 508), (373, 539)), 0.0], [((1026, 499), (1057, 512)), 0.0], [((54, 580), (76, 611)), 0.0], [((180, 400), (184, 431)), 1.0], [((531, 409), (562, 431)), 0.0], [((504, 571), (517, 584)), 1], [((1215, 427), (1260, 458)), 0.0], [((81, 454), (112, 458)), 1.0], [((216, 427), (229, 449)), 0.0], [((729, 409), (733, 431)), 1.0], [((1178, 552), (1237, 615)), 0.0], [((1026, 526), (1030, 530)), 1], [((909, 418), (940, 463)), 3], [((810, 598), (841, 620)), 1]]\n",
      "[[((180, 490), (211, 530)), 1.0], [((828, 571), (841, 584)), 1.0], [((1143, 400), (1255, 539)), 1012.0], [((234, 490), (256, 512)), 0.0], [((1035, 400), (1127, 482)), 39.0], [((639, 508), (679, 539)), 4.0], [((1089, 562), (1120, 593)), 33.0], [((603, 616), (634, 638)), 1.0], [((981, 634), (1012, 656)), 1.0], [((1242, 445), (1273, 467)), 1.0], [((117, 571), (130, 593)), 1.0], [((459, 625), (490, 647)), 0.0], [((351, 508), (373, 539)), 0.0], [((1026, 499), (1057, 512)), 0.0], [((54, 580), (76, 611)), 0.0], [((180, 400), (184, 431)), 1.0], [((531, 409), (562, 431)), 0.0], [((504, 571), (517, 584)), 1], [((1215, 427), (1260, 458)), 0.0], [((81, 454), (112, 458)), 1.0], [((216, 427), (229, 449)), 0.0], [((729, 409), (733, 431)), 1.0], [((1178, 552), (1237, 615)), 0.0], [((1026, 526), (1030, 530)), 1], [((893, 419), (937, 463)), 4], [((810, 598), (841, 620)), 1]]\n",
      "[[((180, 490), (211, 530)), 1.0], [((828, 571), (841, 584)), 1.0], [((1178, 418), (1241, 476)), 1015.0], [((234, 490), (256, 512)), 0.0], [((999, 418), (1102, 485)), 40.0], [((675, 508), (679, 512)), 5.0], [((1089, 562), (1120, 593)), 31.0], [((603, 616), (634, 638)), 1.0], [((981, 634), (1012, 656)), 1.0], [((1242, 445), (1273, 467)), 1.0], [((117, 571), (130, 593)), 1.0], [((459, 625), (490, 647)), 0.0], [((351, 508), (373, 539)), 0.0], [((1026, 499), (1057, 512)), 0.0], [((54, 580), (76, 611)), 0.0], [((180, 400), (184, 431)), 1.0], [((531, 409), (562, 431)), 0.0], [((504, 571), (517, 584)), 1], [((1215, 427), (1260, 458)), 0.0], [((81, 454), (112, 458)), 1.0], [((216, 427), (229, 449)), 0.0], [((729, 409), (733, 431)), 1.0], [((1178, 552), (1237, 615)), 0.0], [((1026, 526), (1030, 530)), 1], [((882, 418), (956, 467)), 5], [((810, 598), (841, 620)), 1]]\n",
      "[[((180, 490), (211, 530)), 1.0], [((828, 571), (841, 584)), 1.0], [((1007, 419), (1273, 520)), 1022.0], [((234, 490), (256, 512)), 0.0], [((1102, 514), (1146, 520)), 38.0], [((648, 508), (679, 530)), 3.0], [((1089, 562), (1120, 593)), 32.0], [((603, 616), (634, 638)), 1.0], [((981, 634), (1012, 656)), 1.0], [((1242, 445), (1273, 467)), 1.0], [((117, 571), (130, 593)), 1.0], [((459, 625), (490, 647)), 0.0], [((351, 508), (373, 539)), 0.0], [((1026, 499), (1057, 512)), 0.0], [((54, 580), (76, 611)), 0.0], [((180, 400), (184, 431)), 1.0], [((531, 409), (562, 431)), 0.0], [((504, 571), (517, 584)), 1], [((1215, 427), (1260, 458)), 0.0], [((81, 454), (112, 458)), 1.0], [((216, 427), (229, 449)), 0.0], [((729, 409), (733, 431)), 1.0], [((1178, 552), (1237, 615)), 0.0], [((1026, 526), (1030, 530)), 1], [((882, 427), (913, 463)), 7], [((810, 598), (841, 620)), 1]]\n",
      "[[((180, 490), (211, 530)), 1.0], [((828, 571), (841, 584)), 1.0], [((1159, 409), (1228, 482)), 1026.0], [((234, 490), (256, 512)), 0.0], [((1102, 514), (1146, 520)), 40.0], [((648, 508), (679, 530)), 1.0], [((1206, 553), (1255, 584)), 30.0], [((603, 616), (634, 638)), 1.0], [((981, 634), (1012, 656)), 1.0], [((1242, 445), (1273, 467)), 1.0], [((117, 571), (130, 593)), 1.0], [((459, 625), (490, 647)), 0.0], [((351, 508), (373, 539)), 0.0], [((1026, 499), (1057, 512)), 0.0], [((54, 580), (76, 611)), 0.0], [((180, 400), (184, 431)), 1.0], [((531, 409), (562, 431)), 0.0], [((504, 571), (517, 584)), 1], [((1215, 427), (1260, 458)), 0.0], [((81, 454), (112, 458)), 1.0], [((216, 427), (229, 449)), 0.0], [((729, 409), (733, 431)), 1.0], [((1178, 552), (1237, 615)), 0.0], [((1026, 526), (1030, 530)), 1], [((893, 418), (922, 449)), 8], [((810, 598), (841, 620)), 1]]\n",
      "[[((180, 490), (211, 530)), 1.0], [((828, 571), (841, 584)), 1.0], [((1134, 400), (1228, 482)), 1030.0], [((234, 490), (256, 512)), 0.0], [((1008, 445), (1057, 485)), 41.0], [((648, 508), (679, 530)), 3.0], [((1206, 553), (1255, 584)), 31.0], [((603, 616), (634, 638)), 1.0], [((981, 634), (1012, 656)), 1.0], [((1242, 445), (1273, 467)), 1.0], [((117, 571), (130, 593)), 1.0], [((459, 625), (490, 647)), 0.0], [((351, 508), (373, 539)), 0.0], [((1026, 499), (1057, 512)), 0.0], [((54, 580), (76, 611)), 0.0], [((180, 400), (184, 431)), 1.0], [((531, 409), (562, 431)), 0.0], [((504, 571), (517, 584)), 1], [((1215, 427), (1260, 458)), 0.0], [((81, 454), (112, 458)), 1.0], [((216, 427), (229, 449)), 0.0], [((729, 409), (733, 431)), 1.0], [((1178, 552), (1237, 615)), 0.0], [((1026, 526), (1030, 530)), 1], [((909, 427), (956, 463)), 6.0], [((810, 598), (841, 620)), 1]]\n",
      "[[((180, 490), (211, 530)), 1.0], [((828, 571), (841, 584)), 1.0], [((1152, 400), (1264, 520)), 1032.0], [((234, 490), (256, 512)), 0.0], [((893, 419), (956, 467)), 42.0], [((630, 625), (661, 647)), 4.0], [((1125, 533), (1174, 593)), 34.0], [((603, 616), (634, 638)), 1.0], [((981, 634), (1012, 656)), 1.0], [((1242, 445), (1273, 467)), 1.0], [((117, 571), (130, 593)), 1.0], [((459, 625), (490, 647)), 0.0], [((351, 508), (373, 539)), 0.0], [((1026, 499), (1057, 512)), 0.0], [((54, 580), (76, 611)), 0.0], [((180, 400), (184, 431)), 1.0], [((531, 409), (562, 431)), 0.0], [((504, 571), (517, 584)), 1], [((1215, 427), (1260, 458)), 0.0], [((81, 454), (112, 458)), 1.0], [((216, 427), (229, 449)), 0.0], [((729, 409), (733, 431)), 1.0], [((1178, 552), (1237, 615)), 0.0], [((1026, 526), (1030, 530)), 1], [((909, 427), (956, 463)), 4.0], [((810, 598), (841, 620)), 1]]\n",
      "[[((180, 490), (211, 530)), 1.0], [((828, 571), (841, 584)), 1.0], [((1080, 409), (1246, 520)), 1034.0], [((234, 490), (256, 512)), 0.0], [((893, 419), (956, 467)), 43.0], [((621, 616), (652, 647)), 2.0], [((1107, 535), (1210, 611)), 35.0], [((603, 616), (634, 638)), 1.0], [((981, 634), (1012, 656)), 1.0], [((1242, 445), (1273, 467)), 1.0], [((117, 571), (130, 593)), 2.0], [((459, 625), (490, 647)), 0.0], [((351, 508), (373, 539)), 0.0], [((1026, 499), (1057, 512)), 0.0], [((54, 580), (76, 611)), 0.0], [((180, 400), (184, 431)), 1.0], [((531, 409), (562, 431)), 0.0], [((504, 571), (517, 584)), 1], [((1215, 427), (1260, 458)), 0.0], [((81, 454), (112, 458)), 1.0], [((216, 427), (229, 449)), 0.0], [((729, 409), (733, 431)), 1.0], [((1178, 552), (1237, 615)), 0.0], [((1026, 526), (1030, 530)), 1], [((909, 427), (956, 463)), 2.0], [((810, 598), (841, 620)), 1]]\n",
      "[[((180, 490), (211, 530)), 1.0], [((828, 571), (841, 584)), 1.0], [((990, 409), (1255, 548)), 1036.0], [((234, 490), (256, 512)), 0.0], [((893, 418), (956, 467)), 44.0], [((621, 616), (652, 647)), 0.0], [((1083, 544), (1102, 575)), 36.0], [((603, 616), (634, 638)), 1.0], [((981, 634), (1012, 656)), 1.0], [((1242, 445), (1273, 467)), 1.0], [((27, 562), (49, 593)), 0.0], [((459, 625), (490, 647)), 0.0], [((351, 508), (373, 539)), 0.0], [((1026, 499), (1057, 512)), 0.0], [((54, 580), (76, 611)), 0.0], [((180, 400), (184, 431)), 1.0], [((531, 409), (562, 431)), 0.0], [((504, 571), (517, 584)), 1], [((1215, 427), (1260, 458)), 0.0], [((81, 454), (112, 458)), 1.0], [((216, 427), (229, 449)), 0.0], [((729, 409), (733, 431)), 1.0], [((1178, 552), (1237, 615)), 0.0], [((1026, 526), (1030, 530)), 1], [((909, 427), (956, 463)), 0.0], [((810, 598), (841, 620)), 1]]\n",
      "[[((180, 490), (211, 530)), 1.0], [((828, 571), (841, 584)), 1.0], [((1017, 418), (1260, 593)), 1039.0], [((234, 490), (256, 512)), 0.0], [((893, 418), (956, 467)), 45.0], [((621, 616), (652, 647)), 0.0], [((1224, 562), (1228, 575)), 34.0], [((603, 616), (634, 638)), 1.0], [((981, 634), (1012, 656)), 1.0], [((1242, 445), (1273, 467)), 1.0], [((27, 562), (49, 593)), 0.0], [((459, 625), (490, 647)), 0.0], [((351, 508), (373, 539)), 0.0], [((1026, 499), (1057, 512)), 0.0], [((54, 580), (76, 611)), 0.0], [((180, 400), (184, 431)), 1.0], [((531, 409), (562, 431)), 0.0], [((504, 571), (517, 584)), 1], [((1215, 427), (1260, 458)), 0.0], [((81, 454), (112, 458)), 1.0], [((216, 427), (229, 449)), 0.0], [((729, 409), (733, 431)), 1.0], [((1178, 552), (1237, 615)), 0.0], [((1026, 526), (1030, 530)), 1], [((909, 427), (956, 463)), 0.0], [((810, 598), (841, 620)), 1]]\n"
     ]
    },
    {
     "name": "stderr",
     "output_type": "stream",
     "text": [
      "\u001b[A\u001b[A\u001b[A\n",
      "\n",
      "\n",
      " 55%|█████▌    | 625/1136 [03:00<00:18, 27.33it/s]\u001b[A\u001b[A\u001b[A"
     ]
    },
    {
     "name": "stdout",
     "output_type": "stream",
     "text": [
      "[[((180, 490), (211, 530)), 1.0], [((828, 571), (841, 584)), 1.0], [((1045, 419), (1260, 548)), 1043.0], [((234, 490), (256, 512)), 0.0], [((893, 418), (956, 467)), 46.0], [((621, 616), (652, 647)), 0.0], [((1224, 562), (1228, 575)), 35.0], [((603, 616), (634, 638)), 1.0], [((981, 634), (1012, 656)), 1.0], [((1242, 445), (1273, 467)), 1.0], [((27, 562), (49, 593)), 0.0], [((459, 625), (490, 647)), 0.0], [((351, 508), (373, 539)), 0.0], [((1026, 499), (1057, 512)), 1.0], [((54, 580), (76, 611)), 0.0], [((180, 400), (184, 431)), 1.0], [((531, 409), (562, 431)), 0.0], [((504, 571), (517, 584)), 1], [((1215, 427), (1260, 458)), 0.0], [((81, 454), (112, 458)), 1.0], [((216, 427), (229, 449)), 0.0], [((729, 409), (733, 431)), 1.0], [((1178, 552), (1237, 615)), 0.0], [((1026, 526), (1030, 530)), 1], [((909, 427), (956, 463)), 0.0], [((810, 598), (841, 620)), 1]]\n",
      "[[((180, 490), (211, 530)), 1.0], [((828, 571), (841, 584)), 1.0], [((972, 418), (1203, 520)), 1048.0], [((234, 490), (256, 512)), 0.0], [((893, 418), (956, 467)), 47.0], [((621, 616), (652, 647)), 0.0], [((1224, 553), (1228, 575)), 33.0], [((603, 616), (634, 638)), 1.0], [((981, 634), (1012, 656)), 1.0], [((1242, 445), (1273, 467)), 1.0], [((27, 562), (49, 593)), 0.0], [((459, 625), (490, 647)), 0.0], [((351, 508), (373, 539)), 1.0], [((1062, 535), (1093, 584)), 1.0], [((54, 580), (76, 611)), 0.0], [((180, 400), (184, 431)), 1.0], [((531, 409), (562, 431)), 0.0], [((504, 571), (517, 584)), 1], [((1215, 427), (1260, 458)), 0.0], [((81, 454), (112, 458)), 1.0], [((216, 427), (229, 449)), 0.0], [((729, 409), (733, 431)), 1.0], [((1178, 552), (1237, 615)), 0.0], [((1026, 526), (1030, 530)), 1], [((909, 427), (956, 463)), 0.0], [((810, 598), (841, 620)), 1]]\n",
      "[[((180, 490), (211, 530)), 1.0], [((828, 571), (841, 584)), 1.0], [((988, 419), (1184, 539)), 1051.0], [((234, 490), (256, 512)), 0.0], [((891, 418), (956, 467)), 48.0], [((621, 616), (652, 647)), 0.0], [((1224, 553), (1228, 575)), 35.0], [((603, 616), (634, 638)), 1.0], [((981, 634), (1012, 656)), 1.0], [((1242, 445), (1273, 467)), 1.0], [((27, 562), (49, 593)), 0.0], [((459, 625), (490, 647)), 0.0], [((360, 454), (391, 476)), 1.0], [((1062, 535), (1093, 584)), 1.0], [((54, 580), (76, 611)), 0.0], [((180, 400), (184, 431)), 1.0], [((531, 409), (562, 431)), 0.0], [((504, 571), (517, 584)), 1], [((1215, 427), (1260, 458)), 0.0], [((81, 454), (112, 458)), 1.0], [((216, 427), (229, 449)), 0.0], [((729, 409), (733, 431)), 1.0], [((1178, 552), (1237, 615)), 0.0], [((1026, 526), (1030, 530)), 1], [((909, 427), (956, 463)), 0.0], [((810, 598), (841, 620)), 1]]\n",
      "[[((180, 490), (211, 530)), 1.0], [((828, 571), (841, 584)), 1.0], [((1045, 438), (1156, 584)), 1056.0], [((234, 490), (256, 512)), 0.0], [((893, 419), (956, 467)), 49.0], [((621, 616), (652, 647)), 0.0], [((1179, 544), (1201, 575)), 36.0], [((603, 616), (634, 638)), 1.0], [((981, 634), (1012, 656)), 1.0], [((1242, 445), (1273, 467)), 1.0], [((27, 562), (49, 593)), 0.0], [((459, 625), (490, 647)), 0.0], [((360, 454), (391, 476)), 1.0], [((1062, 535), (1093, 584)), 1.0], [((54, 580), (76, 611)), 0.0], [((180, 400), (184, 431)), 1.0], [((531, 409), (562, 431)), 0.0], [((504, 571), (517, 584)), 1], [((1215, 427), (1260, 458)), 0.0], [((81, 454), (112, 458)), 1.0], [((216, 427), (229, 449)), 0.0], [((729, 409), (733, 431)), 1.0], [((1178, 552), (1237, 615)), 0.0], [((1026, 526), (1030, 530)), 1], [((909, 427), (956, 463)), 0.0], [((810, 598), (841, 620)), 1]]\n",
      "[[((180, 490), (211, 530)), 1.0], [((828, 571), (841, 584)), 1.0], [((1121, 400), (1264, 520)), 1057.0], [((234, 490), (256, 512)), 0.0], [((891, 418), (958, 467)), 51.0], [((621, 616), (652, 647)), 0.0], [((1215, 544), (1241, 575)), 34.0], [((603, 616), (634, 638)), 1.0], [((981, 634), (1012, 656)), 1.0], [((1242, 445), (1273, 467)), 1.0], [((27, 562), (49, 593)), 0.0], [((459, 625), (490, 647)), 0.0], [((360, 454), (391, 476)), 1.0], [((1062, 535), (1093, 584)), 2.0], [((54, 580), (76, 611)), 0.0], [((180, 400), (184, 431)), 1.0], [((531, 409), (562, 431)), 0.0], [((504, 571), (517, 584)), 1], [((1215, 427), (1260, 458)), 0.0], [((81, 454), (112, 458)), 1.0], [((216, 427), (229, 449)), 0.0], [((729, 409), (733, 431)), 1.0], [((1178, 552), (1237, 615)), 0.0], [((1026, 526), (1030, 530)), 1], [((909, 427), (956, 463)), 0.0], [((810, 598), (841, 620)), 1]]\n",
      "[[((180, 490), (211, 530)), 1.0], [((828, 571), (841, 584)), 1.0], [((1121, 400), (1264, 520)), 1060.0], [((234, 490), (256, 512)), 0.0], [((893, 418), (958, 467)), 53.0], [((621, 616), (652, 647)), 0.0], [((1215, 544), (1241, 575)), 32.0], [((603, 616), (634, 638)), 1.0], [((981, 634), (1012, 656)), 1.0], [((1242, 445), (1273, 467)), 1.0], [((27, 562), (49, 593)), 0.0], [((459, 625), (490, 647)), 0.0], [((360, 454), (391, 476)), 1.0], [((1045, 476), (1127, 548)), 0.0], [((54, 580), (76, 611)), 0.0], [((180, 400), (184, 431)), 1.0], [((531, 409), (562, 431)), 0.0], [((504, 571), (517, 584)), 1], [((1215, 427), (1260, 458)), 0.0], [((81, 454), (112, 458)), 1.0], [((216, 427), (229, 449)), 0.0], [((729, 409), (733, 431)), 1.0], [((1178, 552), (1237, 615)), 0.0], [((1026, 526), (1030, 530)), 1], [((909, 427), (956, 463)), 0.0], [((810, 598), (841, 620)), 1]]\n",
      "[[((180, 490), (211, 530)), 1.0], [((828, 571), (841, 584)), 1.0], [((1045, 409), (1184, 575)), 1070.0], [((234, 490), (256, 512)), 0.0], [((893, 419), (958, 467)), 54.0], [((621, 616), (652, 647)), 0.0], [((1215, 544), (1241, 575)), 33.0], [((603, 616), (634, 638)), 1.0], [((981, 634), (1012, 656)), 1.0], [((1242, 445), (1273, 467)), 1.0], [((27, 562), (49, 593)), 0.0], [((459, 625), (490, 647)), 0.0], [((360, 454), (391, 476)), 1.0], [((1045, 476), (1127, 548)), 0.0], [((54, 580), (76, 611)), 0.0], [((180, 400), (184, 431)), 1.0], [((531, 409), (562, 431)), 0.0], [((504, 571), (517, 584)), 1], [((1215, 427), (1260, 458)), 0.0], [((81, 454), (112, 458)), 1.0], [((216, 427), (229, 449)), 0.0], [((729, 409), (733, 431)), 1.0], [((1178, 552), (1237, 615)), 0.0], [((1026, 526), (1030, 530)), 1], [((909, 427), (956, 463)), 0.0], [((810, 598), (841, 620)), 1]]\n",
      "[[((180, 490), (211, 530)), 1.0], [((828, 571), (841, 584)), 1.0], [((1026, 490), (1108, 539)), 1073.0], [((234, 490), (256, 512)), 0.0], [((891, 419), (958, 467)), 55.0], [((621, 616), (652, 647)), 0.0], [((1197, 535), (1228, 575)), 31.0], [((603, 616), (634, 638)), 1.0], [((981, 634), (1012, 656)), 1.0], [((1242, 445), (1273, 467)), 1.0], [((27, 562), (49, 593)), 0.0], [((459, 625), (490, 647)), 0.0], [((360, 454), (391, 476)), 1.0], [((1045, 476), (1127, 548)), 0.0], [((54, 580), (76, 611)), 0.0], [((180, 400), (184, 431)), 1.0], [((531, 409), (562, 431)), 0.0], [((504, 571), (517, 584)), 1], [((1215, 427), (1260, 458)), 0.0], [((81, 454), (112, 458)), 1.0], [((216, 427), (229, 449)), 0.0], [((729, 409), (733, 431)), 1.0], [((1178, 552), (1237, 615)), 0.0], [((1026, 526), (1030, 530)), 1], [((909, 427), (956, 463)), 0.0], [((810, 598), (841, 620)), 1]]\n",
      "[[((180, 490), (211, 530)), 1.0], [((828, 571), (841, 584)), 1.0], [((1102, 400), (1219, 566)), 1081.0], [((234, 490), (256, 512)), 0.0], [((893, 419), (956, 467)), 56.0], [((621, 616), (652, 647)), 0.0], [((1197, 535), (1228, 575)), 29.0], [((603, 616), (634, 638)), 1.0], [((981, 634), (1012, 656)), 1.0], [((1242, 445), (1273, 467)), 1.0], [((27, 562), (49, 593)), 0.0], [((459, 625), (490, 647)), 0.0], [((360, 454), (391, 476)), 1.0], [((1045, 476), (1127, 548)), 0.0], [((54, 580), (76, 611)), 0.0], [((180, 400), (184, 431)), 1.0], [((531, 409), (562, 431)), 0.0], [((504, 571), (517, 584)), 1], [((1215, 427), (1260, 458)), 0.0], [((81, 454), (112, 458)), 1.0], [((216, 427), (229, 449)), 0.0], [((729, 409), (733, 431)), 2.0], [((1178, 552), (1237, 615)), 0.0], [((1026, 526), (1030, 530)), 1], [((909, 427), (956, 463)), 0.0], [((810, 598), (841, 620)), 1]]\n",
      "[[((180, 490), (211, 530)), 1.0], [((828, 571), (841, 584)), 1.0], [((1102, 400), (1203, 494)), 1084.0], [((234, 490), (256, 512)), 0.0], [((893, 436), (956, 467)), 58.0], [((621, 616), (652, 647)), 0.0], [((1197, 535), (1228, 575)), 30.0], [((603, 616), (634, 638)), 1.0], [((981, 634), (1012, 656)), 1.0], [((1242, 445), (1273, 467)), 1.0], [((27, 562), (49, 593)), 0.0], [((459, 625), (490, 647)), 0.0], [((360, 454), (391, 476)), 1.0], [((1045, 476), (1127, 548)), 0.0], [((54, 580), (76, 611)), 0.0], [((180, 400), (184, 431)), 1.0], [((531, 409), (562, 431)), 0.0], [((504, 571), (517, 584)), 1], [((1215, 427), (1260, 458)), 0.0], [((81, 454), (112, 458)), 1.0], [((216, 427), (229, 449)), 0.0], [((666, 490), (688, 503)), 0.0], [((1178, 552), (1237, 615)), 0.0], [((1026, 526), (1030, 530)), 1], [((909, 427), (956, 463)), 0.0], [((810, 598), (841, 620)), 1]]\n"
     ]
    },
    {
     "name": "stderr",
     "output_type": "stream",
     "text": [
      "\n",
      "\n",
      "\n",
      " 55%|█████▌    | 630/1136 [03:00<00:16, 30.00it/s]\u001b[A\u001b[A\u001b[A\n",
      "\n",
      "\n",
      " 56%|█████▌    | 637/1136 [03:00<00:13, 35.65it/s]"
     ]
    },
    {
     "name": "stdout",
     "output_type": "stream",
     "text": [
      "[[((180, 490), (211, 530)), 1.0], [((828, 571), (841, 584)), 1.0], [((1064, 400), (1241, 539)), 1091.0], [((234, 490), (256, 512)), 0.0], [((893, 418), (956, 482)), 59.0], [((621, 616), (652, 647)), 0.0], [((1188, 544), (1219, 548)), 28.0], [((603, 616), (634, 638)), 1.0], [((981, 634), (1012, 656)), 1.0], [((1242, 445), (1273, 467)), 1.0], [((27, 562), (49, 593)), 0.0], [((459, 625), (490, 647)), 0.0], [((360, 454), (391, 476)), 1.0], [((1045, 476), (1127, 548)), 0.0], [((54, 580), (76, 611)), 0.0], [((180, 400), (184, 431)), 1.0], [((531, 409), (562, 431)), 0.0], [((504, 571), (517, 584)), 1], [((1215, 427), (1260, 458)), 0.0], [((81, 454), (112, 458)), 1.0], [((216, 427), (229, 449)), 0.0], [((666, 490), (688, 503)), 0.0], [((1178, 552), (1237, 615)), 0.0], [((1026, 526), (1030, 530)), 1], [((909, 427), (956, 463)), 0.0], [((810, 598), (841, 620)), 1]]\n",
      "[[((180, 490), (211, 530)), 1.0], [((828, 571), (841, 584)), 2.0], [((950, 409), (1089, 503)), 1095.0], [((234, 490), (256, 512)), 0.0], [((900, 418), (958, 463)), 57.0], [((621, 616), (652, 647)), 0.0], [((1188, 544), (1219, 548)), 30.0], [((603, 616), (634, 638)), 1.0], [((981, 634), (1012, 656)), 2.0], [((1242, 445), (1273, 467)), 1.0], [((27, 562), (49, 593)), 0.0], [((459, 625), (490, 647)), 0.0], [((360, 454), (391, 476)), 1.0], [((1045, 476), (1127, 548)), 0.0], [((54, 580), (76, 611)), 0.0], [((180, 400), (184, 431)), 1.0], [((531, 409), (562, 431)), 0.0], [((504, 571), (517, 584)), 1], [((1215, 427), (1260, 458)), 0.0], [((81, 454), (112, 458)), 1.0], [((216, 427), (229, 449)), 0.0], [((666, 490), (688, 503)), 0.0], [((1178, 552), (1237, 615)), 0.0], [((1026, 526), (1030, 530)), 1], [((909, 427), (956, 463)), 0.0], [((810, 598), (841, 620)), 1]]\n",
      "[[((180, 490), (211, 530)), 1.0], [((747, 490), (778, 512)), 0.0], [((1026, 438), (1102, 539)), 1101.0], [((234, 490), (256, 512)), 0.0], [((900, 418), (958, 463)), 58.0], [((621, 616), (652, 647)), 0.0], [((1161, 535), (1183, 566)), 33.0], [((603, 616), (634, 638)), 1.0], [((963, 634), (994, 656)), 3.0], [((1242, 445), (1273, 467)), 1.0], [((27, 562), (49, 593)), 0.0], [((459, 625), (490, 647)), 0.0], [((360, 454), (391, 476)), 1.0], [((1045, 476), (1127, 548)), 0.0], [((54, 580), (76, 611)), 0.0], [((180, 400), (184, 431)), 1.0], [((531, 409), (562, 431)), 0.0], [((504, 571), (517, 584)), 1], [((1215, 427), (1260, 458)), 0.0], [((81, 454), (112, 458)), 1.0], [((216, 427), (229, 449)), 0.0], [((666, 490), (688, 503)), 0.0], [((1178, 552), (1237, 615)), 0.0], [((1026, 526), (1030, 530)), 1], [((909, 427), (956, 463)), 0.0], [((810, 598), (841, 620)), 1]]\n",
      "[[((180, 490), (211, 530)), 1.0], [((747, 490), (778, 512)), 0.0], [((1026, 438), (1102, 566)), 1106.0], [((234, 490), (256, 512)), 0.0], [((893, 418), (931, 458)), 59.0], [((621, 616), (652, 647)), 0.0], [((1188, 535), (1210, 557)), 36.0], [((603, 616), (634, 638)), 1.0], [((918, 598), (922, 611)), 1.0], [((1242, 445), (1273, 467)), 1.0], [((27, 562), (49, 593)), 0.0], [((459, 625), (490, 647)), 0.0], [((360, 454), (391, 476)), 1.0], [((1045, 476), (1127, 548)), 0.0], [((54, 580), (76, 611)), 0.0], [((180, 400), (184, 431)), 1.0], [((531, 409), (562, 431)), 0.0], [((504, 571), (517, 584)), 1], [((1215, 427), (1260, 458)), 0.0], [((81, 454), (112, 458)), 1.0], [((216, 427), (229, 449)), 0.0], [((666, 490), (688, 503)), 0.0], [((1178, 552), (1237, 615)), 0.0], [((1026, 526), (1030, 530)), 1], [((909, 427), (956, 463)), 0.0], [((810, 598), (841, 620)), 1]]\n",
      "[[((180, 490), (211, 530)), 1.0], [((747, 490), (778, 512)), 1.0], [((1026, 472), (1165, 558)), 1114.0], [((234, 490), (256, 512)), 0.0], [((893, 418), (958, 463)), 60.0], [((621, 616), (652, 647)), 0.0], [((1188, 499), (1219, 530)), 34.0], [((603, 616), (634, 638)), 1.0], [((918, 598), (922, 611)), 1.0], [((1242, 445), (1273, 467)), 1.0], [((27, 562), (49, 593)), 0.0], [((459, 625), (490, 647)), 0.0], [((360, 454), (391, 476)), 1.0], [((1045, 476), (1127, 548)), 0.0], [((54, 580), (76, 611)), 0.0], [((180, 400), (184, 431)), 1.0], [((531, 409), (562, 431)), 0.0], [((504, 571), (517, 584)), 1], [((1215, 427), (1260, 458)), 0.0], [((81, 454), (112, 458)), 1.0], [((216, 427), (229, 449)), 0.0], [((666, 490), (688, 503)), 0.0], [((1178, 552), (1237, 615)), 0.0], [((1026, 526), (1030, 530)), 1], [((909, 427), (956, 463)), 0.0], [((810, 598), (841, 620)), 1]]\n",
      "[[((180, 490), (211, 530)), 2.0], [((747, 607), (778, 629)), 1.0], [((1007, 419), (1089, 539)), 1120.0], [((234, 490), (256, 512)), 0.0], [((900, 418), (931, 458)), 62.0], [((621, 616), (652, 647)), 0.0], [((1188, 499), (1219, 530)), 35.0], [((603, 616), (634, 638)), 1.0], [((918, 598), (922, 611)), 1.0], [((1242, 445), (1273, 467)), 1.0], [((27, 562), (49, 593)), 0.0], [((459, 625), (490, 647)), 0.0], [((360, 454), (391, 476)), 1.0], [((1045, 476), (1127, 548)), 0.0], [((54, 580), (76, 611)), 0.0], [((180, 400), (184, 431)), 1.0], [((531, 409), (562, 431)), 0.0], [((504, 571), (517, 584)), 1], [((1215, 427), (1260, 458)), 0.0], [((81, 454), (112, 458)), 1.0], [((216, 427), (229, 449)), 0.0], [((666, 490), (688, 503)), 0.0], [((1178, 552), (1237, 615)), 0.0], [((1026, 526), (1030, 530)), 1], [((909, 427), (956, 463)), 0.0], [((810, 598), (841, 620)), 1]]\n",
      "[[((252, 481), (283, 503)), 0.0], [((747, 607), (778, 629)), 2.0], [((1026, 495), (1210, 566)), 1124.0], [((234, 490), (256, 512)), 0.0], [((900, 418), (913, 449)), 65.0], [((621, 616), (652, 647)), 0.0], [((1197, 481), (1228, 521)), 33.0], [((603, 616), (634, 638)), 1.0], [((918, 598), (922, 611)), 1.0], [((1242, 445), (1273, 467)), 1.0], [((27, 562), (49, 593)), 0.0], [((459, 625), (490, 647)), 0.0], [((360, 454), (391, 476)), 1.0], [((1045, 476), (1127, 548)), 0.0], [((54, 580), (76, 611)), 0.0], [((180, 400), (184, 431)), 1.0], [((531, 409), (562, 431)), 0.0], [((504, 571), (517, 584)), 1], [((1215, 427), (1260, 458)), 0.0], [((81, 454), (112, 458)), 1.0], [((216, 427), (229, 449)), 0.0], [((666, 490), (688, 503)), 0.0], [((1178, 552), (1237, 615)), 0.0], [((1026, 526), (1030, 530)), 1], [((909, 427), (956, 463)), 0.0], [((810, 598), (841, 620)), 1]]\n",
      "[[((252, 481), (283, 503)), 0.0], [((693, 562), (706, 575)), 3.0], [((1083, 400), (1222, 503)), 1126.0], [((234, 490), (256, 512)), 0.0], [((988, 419), (1070, 501)), 67.0], [((621, 616), (652, 647)), 0.0], [((1197, 481), (1228, 521)), 31.0], [((603, 616), (634, 638)), 1.0], [((918, 598), (922, 611)), 1.0], [((1242, 445), (1273, 467)), 1.0], [((27, 562), (49, 593)), 0.0], [((459, 625), (490, 647)), 0.0], [((360, 454), (391, 476)), 1.0], [((1045, 476), (1127, 548)), 0.0], [((54, 580), (76, 611)), 0.0], [((180, 400), (184, 431)), 1.0], [((531, 409), (562, 431)), 0.0], [((504, 571), (517, 584)), 1], [((1215, 427), (1260, 458)), 0.0], [((81, 454), (112, 458)), 1.0], [((216, 427), (229, 449)), 0.0], [((666, 490), (688, 503)), 0.0], [((1178, 552), (1237, 615)), 0.0], [((1026, 526), (1030, 530)), 1], [((909, 427), (956, 463)), 0.0], [((810, 598), (841, 620)), 1]]\n",
      "[[((252, 481), (283, 503)), 0.0], [((729, 553), (760, 575)), 4.0], [((981, 409), (1219, 539)), 1131.0], [((234, 490), (256, 512)), 0.0], [((893, 409), (956, 467)), 68.0], [((621, 616), (652, 647)), 0.0], [((1197, 481), (1228, 521)), 29.0], [((603, 616), (634, 638)), 1.0], [((918, 598), (922, 611)), 1.0], [((1242, 445), (1273, 467)), 1.0], [((27, 562), (49, 593)), 0.0], [((459, 625), (490, 647)), 0.0], [((360, 454), (391, 476)), 1.0], [((1045, 476), (1127, 548)), 0.0], [((54, 580), (76, 611)), 0.0], [((180, 400), (184, 431)), 1.0], [((531, 409), (562, 431)), 0.0], [((504, 571), (517, 584)), 1], [((1215, 427), (1260, 458)), 0.0], [((81, 454), (112, 458)), 1.0], [((216, 427), (229, 449)), 0.0], [((666, 490), (688, 503)), 0.0], [((1178, 552), (1237, 615)), 0.0], [((1026, 526), (1030, 530)), 1], [((909, 427), (956, 463)), 0.0], [((810, 598), (841, 620)), 1]]\n",
      "[[((252, 481), (283, 503)), 0.0], [((837, 553), (841, 557)), 2.0], [((1026, 418), (1184, 557)), 1134.0], [((234, 490), (256, 512)), 0.0], [((900, 418), (949, 467)), 69.0], [((621, 616), (652, 647)), 0.0], [((1197, 481), (1228, 521)), 27.0], [((603, 616), (634, 638)), 1.0], [((918, 598), (922, 611)), 1.0], [((1242, 445), (1273, 467)), 1.0], [((27, 562), (49, 593)), 0.0], [((459, 625), (490, 647)), 0.0], [((360, 454), (391, 476)), 1.0], [((1045, 476), (1127, 548)), 0.0], [((54, 580), (76, 611)), 0.0], [((180, 400), (184, 431)), 1.0], [((531, 409), (562, 431)), 0.0], [((504, 571), (517, 584)), 1], [((1215, 427), (1260, 458)), 0.0], [((81, 454), (112, 458)), 1.0], [((216, 427), (229, 449)), 0.0], [((666, 490), (688, 503)), 0.0], [((1178, 552), (1237, 615)), 0.0], [((1026, 526), (1030, 530)), 1], [((909, 427), (956, 463)), 0.0], [((810, 598), (841, 620)), 1]]\n",
      "[[((252, 481), (283, 503)), 0.0], [((837, 553), (841, 557)), 0.0], [((1007, 409), (1147, 558)), 1139.0], [((234, 490), (256, 512)), 0.0], [((893, 409), (975, 482)), 70.0], [((621, 616), (652, 647)), 0.0], [((1197, 481), (1228, 521)), 25.0], [((603, 616), (634, 638)), 1.0], [((918, 598), (922, 611)), 3.0], [((1242, 445), (1273, 467)), 1.0], [((27, 562), (49, 593)), 0.0], [((459, 625), (490, 647)), 0.0], [((360, 454), (391, 476)), 1.0], [((1045, 476), (1127, 548)), 0.0], [((54, 580), (76, 611)), 0.0], [((180, 400), (184, 431)), 1.0], [((531, 409), (562, 431)), 0.0], [((504, 571), (517, 584)), 1], [((1215, 427), (1260, 458)), 0.0], [((81, 454), (112, 458)), 1.0], [((216, 427), (229, 449)), 0.0], [((666, 490), (688, 503)), 0.0], [((1178, 552), (1237, 615)), 0.0], [((1026, 526), (1030, 530)), 1], [((909, 427), (956, 463)), 0.0], [((810, 598), (841, 620)), 1]]\n",
      "[[((252, 481), (283, 503)), 0.0], [((837, 553), (841, 557)), 0.0], [((988, 409), (1222, 539)), 1143.0], [((234, 490), (256, 512)), 0.0], [((893, 427), (956, 467)), 71.0], [((621, 616), (652, 647)), 0.0], [((1197, 481), (1228, 521)), 23.0], [((603, 616), (634, 638)), 1.0], [((963, 634), (985, 647)), 1.0], [((1242, 445), (1273, 467)), 1.0], [((27, 562), (49, 593)), 0.0], [((459, 625), (490, 647)), 0.0], [((360, 454), (391, 476)), 1.0], [((1045, 476), (1127, 548)), 0.0], [((54, 580), (76, 611)), 0.0], [((180, 400), (184, 431)), 1.0], [((531, 409), (562, 431)), 0.0], [((504, 571), (517, 584)), 1], [((1215, 427), (1260, 458)), 0.0], [((81, 454), (112, 458)), 1.0], [((216, 427), (229, 449)), 0.0], [((666, 490), (688, 503)), 0.0], [((1178, 552), (1237, 615)), 0.0], [((1026, 526), (1030, 530)), 1], [((909, 427), (956, 463)), 0.0], [((810, 598), (841, 620)), 1]]\n",
      "[[((252, 481), (283, 503)), 0.0], [((837, 553), (841, 557)), 0.0], [((981, 409), (1138, 558)), 1147.0], [((234, 490), (256, 512)), 0.0], [((900, 409), (958, 467)), 72.0], [((621, 616), (652, 647)), 0.0], [((1197, 481), (1228, 521)), 25.0], [((603, 616), (634, 638)), 1.0], [((963, 634), (985, 647)), 1.0], [((1242, 445), (1273, 467)), 1.0], [((27, 562), (49, 593)), 0.0], [((459, 625), (490, 647)), 0.0], [((360, 454), (391, 476)), 1.0], [((1045, 476), (1127, 548)), 0.0], [((54, 580), (76, 611)), 0.0], [((180, 400), (184, 431)), 1.0], [((531, 409), (562, 431)), 0.0], [((504, 571), (517, 584)), 1], [((1215, 427), (1260, 458)), 0.0], [((81, 454), (112, 458)), 1.0], [((216, 427), (229, 449)), 0.0], [((666, 490), (688, 503)), 0.0], [((1178, 552), (1237, 615)), 0.0], [((1026, 526), (1030, 530)), 1], [((909, 427), (956, 463)), 0.0], [((810, 598), (841, 620)), 1]]\n"
     ]
    },
    {
     "name": "stderr",
     "output_type": "stream",
     "text": [
      "\u001b[A\u001b[A\u001b[A\n",
      "\n",
      "\n",
      " 57%|█████▋    | 643/1136 [03:00<00:12, 39.61it/s]\u001b[A\u001b[A\u001b[A"
     ]
    },
    {
     "name": "stdout",
     "output_type": "stream",
     "text": [
      "[[((252, 481), (283, 503)), 0.0], [((837, 553), (841, 557)), 1.0], [((969, 419), (1075, 548)), 1149.0], [((234, 490), (256, 512)), 0.0], [((909, 427), (958, 467)), 70.0], [((621, 616), (652, 647)), 0.0], [((1152, 526), (1183, 557)), 27.0], [((603, 616), (634, 638)), 1.0], [((963, 634), (985, 647)), 1.0], [((1242, 445), (1273, 467)), 1.0], [((27, 562), (49, 593)), 0.0], [((459, 625), (490, 647)), 0.0], [((360, 454), (391, 476)), 1.0], [((1045, 476), (1127, 548)), 0.0], [((54, 580), (76, 611)), 0.0], [((180, 400), (184, 431)), 1.0], [((531, 409), (562, 431)), 0.0], [((504, 571), (517, 584)), 1], [((1215, 427), (1260, 458)), 0.0], [((81, 454), (112, 458)), 1.0], [((216, 427), (229, 449)), 0.0], [((666, 490), (688, 503)), 0.0], [((1178, 552), (1237, 615)), 0.0], [((1026, 526), (1030, 530)), 1], [((909, 427), (956, 463)), 0.0], [((810, 598), (841, 620)), 1]]\n",
      "[[((252, 481), (283, 503)), 0.0], [((873, 625), (904, 656)), 1.0], [((912, 419), (1075, 548)), 1150.0], [((234, 490), (256, 512)), 0.0], [((909, 427), (958, 467)), 68.0], [((621, 616), (652, 647)), 0.0], [((1125, 526), (1156, 557)), 28.0], [((603, 616), (634, 638)), 1.0], [((963, 634), (985, 647)), 1.0], [((1242, 445), (1273, 467)), 1.0], [((27, 562), (49, 593)), 0.0], [((459, 625), (490, 647)), 0.0], [((360, 454), (391, 476)), 1.0], [((1045, 476), (1127, 548)), 0.0], [((54, 580), (76, 611)), 0.0], [((180, 400), (184, 431)), 1.0], [((531, 409), (562, 431)), 0.0], [((504, 571), (517, 584)), 1], [((1215, 427), (1260, 458)), 0.0], [((81, 454), (112, 458)), 1.0], [((216, 427), (229, 449)), 0.0], [((666, 490), (688, 503)), 0.0], [((1178, 552), (1237, 615)), 0.0], [((1026, 526), (1030, 530)), 1], [((909, 427), (956, 463)), 0.0], [((810, 598), (841, 620)), 1]]\n",
      "[[((252, 481), (283, 503)), 0.0], [((873, 625), (904, 656)), 1.0], [((950, 418), (1165, 558)), 1151.0], [((234, 490), (256, 512)), 0.0], [((909, 427), (958, 467)), 69.0], [((621, 616), (652, 647)), 0.0], [((1170, 490), (1201, 521)), 26.0], [((603, 616), (634, 638)), 1.0], [((963, 634), (985, 647)), 1.0], [((1242, 445), (1273, 467)), 1.0], [((27, 562), (49, 593)), 0.0], [((459, 625), (490, 647)), 0.0], [((360, 454), (391, 476)), 1.0], [((1045, 476), (1127, 548)), 0.0], [((54, 580), (76, 611)), 0.0], [((180, 400), (184, 431)), 1.0], [((531, 409), (562, 431)), 0.0], [((504, 571), (517, 584)), 1], [((1215, 427), (1260, 458)), 0.0], [((81, 454), (112, 458)), 1.0], [((216, 427), (229, 449)), 0.0], [((666, 490), (688, 503)), 0.0], [((1178, 552), (1237, 615)), 0.0], [((1026, 526), (1030, 530)), 1], [((909, 427), (956, 463)), 0.0], [((810, 598), (841, 620)), 1]]\n",
      "[[((252, 481), (283, 503)), 0.0], [((873, 625), (904, 656)), 1.0], [((945, 409), (1192, 558)), 1153.0], [((234, 490), (256, 512)), 0.0], [((909, 419), (940, 458)), 70.0], [((621, 616), (652, 647)), 0.0], [((1170, 490), (1201, 521)), 24.0], [((603, 616), (634, 638)), 1.0], [((963, 634), (985, 647)), 1.0], [((1242, 445), (1273, 467)), 1.0], [((27, 562), (49, 593)), 0.0], [((459, 625), (490, 647)), 0.0], [((360, 454), (391, 476)), 1.0], [((1045, 476), (1127, 548)), 0.0], [((54, 580), (76, 611)), 0.0], [((180, 400), (184, 431)), 1.0], [((531, 409), (562, 431)), 0.0], [((504, 571), (517, 584)), 1], [((1215, 427), (1260, 458)), 0.0], [((81, 454), (112, 458)), 1.0], [((216, 427), (229, 449)), 0.0], [((666, 490), (688, 503)), 0.0], [((1178, 552), (1237, 615)), 0.0], [((1026, 526), (1030, 530)), 1], [((909, 427), (956, 463)), 0.0], [((810, 598), (841, 620)), 1]]\n"
     ]
    },
    {
     "name": "stderr",
     "output_type": "stream",
     "text": [
      "\n",
      "\n",
      "\n",
      " 57%|█████▋    | 649/1136 [03:04<01:49,  4.47it/s]\u001b[A\u001b[A\u001b[A\n",
      "\n",
      "\n",
      " 58%|█████▊    | 658/1136 [03:04<01:16,  6.23it/s]"
     ]
    },
    {
     "name": "stdout",
     "output_type": "stream",
     "text": [
      "[[((252, 481), (283, 503)), 0.0], [((873, 625), (904, 656)), 1.0], [((969, 409), (1203, 557)), 1154.0], [((234, 490), (256, 512)), 0.0], [((893, 419), (956, 494)), 68.0], [((621, 616), (652, 647)), 0.0], [((1170, 490), (1201, 521)), 22.0], [((603, 616), (634, 638)), 1.0], [((963, 634), (985, 647)), 1.0], [((1242, 445), (1273, 467)), 1.0], [((27, 562), (49, 593)), 0.0], [((459, 625), (490, 647)), 0.0], [((360, 454), (391, 476)), 1.0], [((1045, 476), (1127, 548)), 0.0], [((54, 580), (76, 611)), 0.0], [((180, 400), (184, 431)), 1.0], [((531, 409), (562, 431)), 0.0], [((504, 571), (517, 584)), 1], [((1215, 427), (1260, 458)), 0.0], [((81, 454), (112, 458)), 1.0], [((216, 427), (229, 449)), 0.0], [((666, 490), (688, 503)), 0.0], [((1178, 552), (1237, 615)), 0.0], [((1026, 526), (1030, 530)), 1], [((909, 427), (956, 463)), 0.0], [((810, 598), (841, 620)), 1]]\n",
      "[[((252, 481), (283, 503)), 0.0], [((873, 625), (904, 656)), 1.0], [((893, 400), (1192, 548)), 1160.0], [((234, 490), (256, 512)), 0.0], [((893, 419), (956, 494)), 66.0], [((621, 616), (652, 647)), 0.0], [((1170, 490), (1201, 521)), 20.0], [((603, 616), (634, 638)), 1.0], [((963, 634), (985, 647)), 1.0], [((1242, 445), (1273, 467)), 1.0], [((27, 562), (49, 593)), 0.0], [((459, 625), (490, 647)), 0.0], [((360, 454), (391, 476)), 1.0], [((1045, 476), (1127, 548)), 0.0], [((54, 580), (76, 611)), 0.0], [((180, 400), (184, 431)), 1.0], [((531, 409), (562, 431)), 0.0], [((504, 571), (517, 584)), 1], [((1215, 427), (1260, 458)), 0.0], [((81, 454), (112, 458)), 1.0], [((216, 427), (229, 449)), 0.0], [((666, 490), (688, 503)), 0.0], [((1178, 552), (1237, 615)), 0.0], [((1026, 526), (1030, 530)), 1], [((909, 427), (956, 463)), 0.0], [((810, 598), (841, 620)), 1]]\n",
      "[[((252, 481), (283, 503)), 0.0], [((873, 625), (904, 656)), 1.0], [((963, 409), (1156, 558)), 1163.0], [((234, 490), (256, 512)), 0.0], [((893, 419), (956, 494)), 67.0], [((621, 616), (652, 647)), 0.0], [((1170, 490), (1201, 521)), 18.0], [((603, 616), (634, 638)), 1.0], [((963, 634), (985, 647)), 1.0], [((1242, 445), (1273, 467)), 1.0], [((27, 562), (49, 593)), 0.0], [((459, 625), (490, 647)), 0.0], [((360, 454), (391, 476)), 1.0], [((1045, 476), (1127, 548)), 0.0], [((54, 580), (76, 611)), 0.0], [((180, 400), (184, 431)), 1.0], [((531, 409), (562, 431)), 0.0], [((504, 571), (517, 584)), 1], [((1215, 427), (1260, 458)), 0.0], [((81, 454), (112, 458)), 1.0], [((216, 427), (229, 449)), 0.0], [((666, 490), (688, 503)), 0.0], [((1178, 552), (1237, 615)), 0.0], [((1026, 526), (1030, 530)), 1], [((909, 427), (956, 463)), 0.0], [((810, 598), (841, 620)), 1]]\n",
      "[[((252, 481), (283, 503)), 0.0], [((873, 625), (904, 656)), 2.0], [((931, 409), (1102, 548)), 1169.0], [((234, 490), (256, 512)), 0.0], [((893, 419), (956, 494)), 65.0], [((621, 616), (652, 647)), 0.0], [((1170, 490), (1201, 521)), 19.0], [((603, 616), (634, 638)), 1.0], [((963, 634), (985, 647)), 1.0], [((1242, 445), (1273, 467)), 1.0], [((27, 562), (49, 593)), 0.0], [((459, 625), (490, 647)), 0.0], [((360, 454), (391, 476)), 1.0], [((1045, 476), (1127, 548)), 0.0], [((54, 580), (76, 611)), 0.0], [((180, 400), (184, 431)), 1.0], [((531, 409), (562, 431)), 0.0], [((504, 571), (517, 584)), 1], [((1215, 427), (1260, 458)), 0.0], [((81, 454), (112, 458)), 1.0], [((216, 427), (229, 449)), 0.0], [((666, 490), (688, 503)), 0.0], [((1178, 552), (1237, 615)), 0.0], [((1026, 526), (1030, 530)), 1], [((909, 427), (956, 463)), 0.0], [((810, 598), (841, 620)), 1]]\n",
      "[[((252, 481), (283, 503)), 0.0], [((891, 616), (922, 638)), 0.0], [((931, 400), (1184, 558)), 1174.0], [((234, 490), (256, 512)), 0.0], [((893, 419), (956, 494)), 66.0], [((621, 616), (652, 647)), 0.0], [((1161, 526), (1165, 539)), 17.0], [((603, 616), (634, 638)), 1.0], [((963, 634), (985, 647)), 1.0], [((1242, 445), (1273, 467)), 1.0], [((27, 562), (49, 593)), 0.0], [((459, 625), (490, 647)), 0.0], [((360, 454), (391, 476)), 1.0], [((1045, 476), (1127, 548)), 0.0], [((54, 580), (76, 611)), 0.0], [((180, 400), (184, 431)), 1.0], [((531, 409), (562, 431)), 0.0], [((504, 571), (517, 584)), 1], [((1215, 427), (1260, 458)), 0.0], [((81, 454), (112, 458)), 1.0], [((216, 427), (229, 449)), 0.0], [((666, 490), (688, 503)), 0.0], [((1178, 552), (1237, 615)), 0.0], [((1026, 526), (1030, 530)), 1], [((909, 427), (956, 463)), 0.0], [((810, 598), (841, 620)), 1]]\n",
      "[[((252, 481), (283, 503)), 0.0], [((891, 616), (922, 638)), 0.0], [((931, 400), (1183, 521)), 1180.0], [((234, 490), (256, 512)), 0.0], [((909, 427), (931, 449)), 67.0], [((621, 616), (652, 647)), 0.0], [((1161, 526), (1165, 539)), 15.0], [((603, 616), (634, 638)), 1.0], [((963, 634), (985, 647)), 1.0], [((1242, 445), (1273, 467)), 1.0], [((27, 562), (49, 593)), 0.0], [((459, 625), (490, 647)), 0.0], [((360, 454), (391, 476)), 1.0], [((1045, 476), (1127, 548)), 0.0], [((54, 580), (76, 611)), 0.0], [((180, 400), (184, 431)), 1.0], [((531, 409), (562, 431)), 0.0], [((504, 571), (517, 584)), 1], [((1215, 427), (1260, 458)), 0.0], [((81, 454), (112, 458)), 1.0], [((216, 427), (229, 449)), 0.0], [((666, 490), (688, 503)), 0.0], [((1178, 552), (1237, 615)), 0.0], [((1026, 526), (1030, 530)), 1], [((909, 427), (956, 463)), 0.0], [((810, 598), (841, 620)), 1]]\n",
      "[[((252, 481), (283, 503)), 0.0], [((891, 616), (922, 638)), 0.0], [((931, 419), (1147, 520)), 1186.0], [((234, 490), (256, 512)), 0.0], [((909, 418), (931, 449)), 68.0], [((621, 616), (652, 647)), 0.0], [((1161, 526), (1165, 539)), 13.0], [((603, 616), (634, 638)), 1.0], [((963, 634), (985, 647)), 1.0], [((1242, 445), (1273, 467)), 1.0], [((27, 562), (49, 593)), 0.0], [((459, 625), (490, 647)), 0.0], [((360, 454), (391, 476)), 1.0], [((1045, 476), (1127, 548)), 0.0], [((54, 580), (76, 611)), 0.0], [((180, 400), (184, 431)), 1.0], [((531, 409), (562, 431)), 0.0], [((504, 571), (517, 584)), 1], [((1215, 427), (1260, 458)), 0.0], [((81, 454), (112, 458)), 1.0], [((216, 427), (229, 449)), 0.0], [((666, 490), (688, 503)), 0.0], [((1178, 552), (1237, 615)), 0.0], [((1026, 526), (1030, 530)), 1], [((909, 427), (956, 463)), 0.0], [((810, 598), (841, 620)), 1]]\n",
      "[[((252, 481), (283, 503)), 0.0], [((891, 616), (922, 638)), 0.0], [((931, 400), (1147, 539)), 1191.0], [((234, 490), (256, 512)), 0.0], [((909, 418), (940, 449)), 69.0], [((621, 616), (652, 647)), 0.0], [((1161, 526), (1165, 539)), 11.0], [((603, 616), (634, 638)), 1.0], [((963, 634), (985, 647)), 1.0], [((1242, 445), (1273, 467)), 1.0], [((27, 562), (49, 593)), 0.0], [((459, 625), (490, 647)), 0.0], [((360, 454), (391, 476)), 1.0], [((1045, 476), (1127, 548)), 0.0], [((54, 580), (76, 611)), 0.0], [((180, 400), (184, 431)), 1.0], [((531, 409), (562, 431)), 0.0], [((504, 571), (517, 584)), 1], [((1215, 427), (1260, 458)), 0.0], [((81, 454), (112, 458)), 1.0], [((216, 427), (229, 449)), 0.0], [((666, 490), (688, 503)), 0.0], [((1178, 552), (1237, 615)), 0.0], [((1026, 526), (1030, 530)), 1], [((909, 427), (956, 463)), 0.0], [((810, 598), (841, 620)), 1]]\n",
      "[[((252, 481), (283, 503)), 0.0], [((891, 616), (922, 638)), 0.0], [((954, 400), (1146, 539)), 1193.0], [((234, 490), (256, 512)), 0.0], [((909, 418), (931, 449)), 70.0], [((621, 616), (652, 647)), 0.0], [((1161, 526), (1165, 539)), 9.0], [((603, 616), (634, 638)), 1.0], [((963, 634), (985, 647)), 1.0], [((1242, 445), (1273, 467)), 1.0], [((27, 562), (49, 593)), 0.0], [((459, 625), (490, 647)), 0.0], [((360, 454), (391, 476)), 1.0], [((1045, 476), (1127, 548)), 0.0], [((54, 580), (76, 611)), 0.0], [((180, 400), (184, 431)), 1.0], [((531, 409), (562, 431)), 0.0], [((504, 571), (517, 584)), 1], [((1215, 427), (1260, 458)), 0.0], [((81, 454), (112, 458)), 1.0], [((216, 427), (229, 449)), 0.0], [((666, 490), (688, 503)), 0.0], [((1178, 552), (1237, 615)), 0.0], [((1026, 526), (1030, 530)), 1], [((909, 427), (956, 463)), 0.0], [((810, 598), (841, 620)), 1]]\n",
      "[[((252, 481), (283, 503)), 0.0], [((891, 616), (922, 638)), 0.0], [((963, 400), (1147, 539)), 1196.0], [((234, 490), (256, 512)), 0.0], [((909, 418), (931, 449)), 71.0], [((621, 616), (652, 647)), 0.0], [((1161, 526), (1165, 539)), 7.0], [((603, 616), (634, 638)), 1.0], [((963, 634), (985, 647)), 1.0], [((1242, 445), (1273, 467)), 1.0], [((27, 562), (49, 593)), 0.0], [((459, 625), (490, 647)), 0.0], [((360, 454), (391, 476)), 1.0], [((1045, 476), (1127, 548)), 0.0], [((54, 580), (76, 611)), 0.0], [((180, 400), (184, 431)), 1.0], [((531, 409), (562, 431)), 0.0], [((504, 571), (517, 584)), 1], [((1215, 427), (1260, 458)), 0.0], [((81, 454), (112, 458)), 1.0], [((216, 427), (229, 449)), 0.0], [((666, 490), (688, 503)), 0.0], [((1178, 552), (1237, 615)), 0.0], [((1026, 526), (1030, 530)), 1], [((909, 427), (956, 463)), 0.0], [((810, 598), (841, 620)), 1]]\n",
      "[[((252, 481), (283, 503)), 0.0], [((891, 616), (922, 638)), 1.0], [((963, 409), (1111, 548)), 1197.0], [((234, 490), (256, 512)), 0.0], [((909, 418), (931, 449)), 69.0], [((621, 616), (652, 647)), 0.0], [((1161, 526), (1165, 539)), 5.0], [((603, 616), (634, 638)), 1.0], [((963, 634), (985, 647)), 1.0], [((1242, 445), (1273, 467)), 1.0], [((27, 562), (49, 593)), 0.0], [((459, 625), (490, 647)), 0.0], [((360, 454), (391, 476)), 1.0], [((1045, 476), (1127, 548)), 0.0], [((54, 580), (76, 611)), 0.0], [((180, 400), (184, 431)), 1.0], [((531, 409), (562, 431)), 0.0], [((504, 571), (517, 584)), 1], [((1215, 427), (1260, 458)), 0.0], [((81, 454), (112, 458)), 1.0], [((216, 427), (229, 449)), 0.0], [((666, 490), (688, 503)), 0.0], [((1178, 552), (1237, 615)), 0.0], [((1026, 526), (1030, 530)), 1], [((909, 427), (956, 463)), 0.0], [((810, 598), (841, 620)), 1]]\n",
      "[[((252, 481), (283, 503)), 0.0], [((891, 571), (904, 593)), 2.0], [((963, 418), (1165, 520)), 1200.0], [((234, 490), (256, 512)), 0.0], [((909, 418), (931, 449)), 70.0], [((621, 616), (652, 647)), 0.0], [((1161, 526), (1165, 539)), 3.0], [((603, 616), (634, 638)), 1.0], [((963, 634), (985, 647)), 1.0], [((1242, 445), (1273, 467)), 1.0], [((27, 562), (49, 593)), 0.0], [((459, 625), (490, 647)), 0.0], [((360, 454), (391, 476)), 1.0], [((1045, 476), (1127, 548)), 0.0], [((54, 580), (76, 611)), 0.0], [((180, 400), (184, 431)), 1.0], [((531, 409), (562, 431)), 0.0], [((504, 571), (517, 584)), 1], [((1215, 427), (1260, 458)), 0.0], [((81, 454), (112, 458)), 1.0], [((216, 427), (229, 449)), 0.0], [((666, 490), (688, 503)), 0.0], [((1178, 552), (1237, 615)), 0.0], [((1026, 526), (1030, 530)), 1], [((909, 427), (956, 463)), 0.0], [((810, 598), (841, 620)), 1]]\n",
      "[[((252, 481), (283, 503)), 0.0], [((828, 616), (859, 629)), 0.0], [((969, 409), (1165, 520)), 1204.0], [((234, 490), (256, 512)), 0.0], [((909, 418), (931, 449)), 68.0], [((621, 616), (652, 647)), 0.0], [((1161, 526), (1165, 539)), 1.0], [((603, 616), (634, 638)), 1.0], [((963, 634), (985, 647)), 1.0], [((1242, 445), (1273, 467)), 1.0], [((27, 562), (49, 593)), 0.0], [((459, 625), (490, 647)), 0.0], [((360, 454), (391, 476)), 1.0], [((1045, 476), (1127, 548)), 0.0], [((54, 580), (76, 611)), 0.0], [((180, 400), (184, 431)), 1.0], [((531, 409), (562, 431)), 0.0], [((504, 571), (517, 584)), 1], [((1215, 427), (1260, 458)), 0.0], [((81, 454), (112, 458)), 1.0], [((216, 427), (229, 449)), 0.0], [((666, 490), (688, 503)), 0.0], [((1178, 552), (1237, 615)), 0.0], [((1026, 526), (1030, 530)), 1], [((909, 427), (956, 463)), 0.0], [((810, 598), (841, 620)), 1]]\n",
      "[[((252, 481), (283, 503)), 0.0], [((828, 616), (859, 629)), 0.0], [((969, 419), (1051, 539)), 1205.0], [((234, 490), (256, 512)), 0.0], [((909, 418), (931, 449)), 66.0], [((621, 616), (652, 647)), 0.0], [((1161, 526), (1165, 539)), 2.0], [((603, 616), (634, 638)), 1.0], [((963, 634), (985, 647)), 1.0], [((1242, 445), (1273, 467)), 1.0], [((27, 562), (49, 593)), 0.0], [((459, 625), (490, 647)), 0.0], [((360, 454), (391, 476)), 1.0], [((1045, 476), (1127, 548)), 0.0], [((54, 580), (76, 611)), 0.0], [((180, 400), (184, 431)), 1.0], [((531, 409), (562, 431)), 0.0], [((504, 571), (517, 584)), 1], [((1215, 427), (1260, 458)), 0.0], [((81, 454), (112, 458)), 1.0], [((216, 427), (229, 449)), 0.0], [((666, 490), (688, 503)), 0.0], [((1178, 552), (1237, 615)), 0.0], [((1026, 526), (1030, 530)), 1], [((909, 427), (956, 463)), 0.0], [((810, 598), (841, 620)), 1]]\n",
      "[[((252, 481), (283, 503)), 1.0], [((828, 616), (859, 629)), 1.0], [((969, 418), (1165, 539)), 1207.0], [((234, 490), (256, 512)), 0.0], [((909, 418), (931, 449)), 67.0], [((621, 616), (652, 647)), 0.0], [((1125, 508), (1147, 512)), 0.0], [((603, 616), (634, 638)), 1.0], [((963, 634), (985, 647)), 1.0], [((1242, 445), (1273, 467)), 1.0], [((27, 562), (49, 593)), 0.0], [((459, 625), (490, 647)), 0.0], [((360, 454), (391, 476)), 1.0], [((1045, 476), (1127, 548)), 0.0], [((54, 580), (76, 611)), 0.0], [((180, 400), (184, 431)), 1.0], [((531, 409), (562, 431)), 0.0], [((504, 571), (517, 584)), 1], [((1215, 427), (1260, 458)), 0.0], [((81, 454), (112, 458)), 1.0], [((216, 427), (229, 449)), 0.0], [((666, 490), (688, 503)), 0.0], [((1178, 552), (1237, 615)), 0.0], [((1026, 526), (1030, 530)), 1], [((909, 427), (956, 463)), 0.0], [((810, 598), (841, 620)), 1]]\n",
      "[[((198, 508), (202, 521)), 1.0], [((900, 571), (904, 584)), 2.0], [((954, 418), (1156, 539)), 1210.0], [((234, 490), (256, 512)), 0.0], [((909, 418), (931, 449)), 65.0], [((621, 616), (652, 647)), 0.0], [((1125, 508), (1147, 512)), 1.0], [((603, 616), (634, 638)), 1.0], [((963, 634), (985, 647)), 1.0], [((1242, 445), (1273, 467)), 1.0], [((27, 562), (49, 593)), 0.0], [((459, 625), (490, 647)), 0.0], [((360, 454), (391, 476)), 1.0], [((1045, 476), (1127, 548)), 0.0], [((54, 580), (76, 611)), 0.0], [((180, 400), (184, 431)), 1.0], [((531, 409), (562, 431)), 0.0], [((504, 571), (517, 584)), 1], [((1215, 427), (1260, 458)), 0.0], [((81, 454), (112, 458)), 1.0], [((216, 427), (229, 449)), 0.0], [((666, 490), (688, 503)), 0.0], [((1178, 552), (1237, 615)), 0.0], [((1026, 526), (1030, 530)), 1], [((909, 427), (956, 463)), 0.0], [((810, 598), (841, 620)), 1]]\n"
     ]
    },
    {
     "name": "stderr",
     "output_type": "stream",
     "text": [
      "\u001b[A\u001b[A\u001b[A\n",
      "\n",
      "\n",
      " 59%|█████▊    | 665/1136 [03:04<00:55,  8.56it/s]\u001b[A\u001b[A\u001b[A"
     ]
    },
    {
     "name": "stdout",
     "output_type": "stream",
     "text": [
      "[[((198, 508), (202, 521)), 2.0], [((954, 616), (985, 638)), 0.0], [((1035, 418), (1147, 548)), 1212.0], [((234, 490), (256, 512)), 0.0], [((909, 418), (931, 449)), 63.0], [((621, 616), (652, 647)), 1.0], [((1206, 445), (1228, 476)), 1.0], [((603, 616), (634, 638)), 1.0], [((963, 634), (985, 647)), 1.0], [((1242, 445), (1273, 467)), 1.0], [((27, 562), (49, 593)), 0.0], [((459, 625), (490, 647)), 0.0], [((360, 454), (391, 476)), 1.0], [((1045, 476), (1127, 548)), 0.0], [((54, 580), (76, 611)), 0.0], [((180, 400), (184, 431)), 1.0], [((531, 409), (562, 431)), 0.0], [((504, 571), (517, 584)), 1], [((1215, 427), (1260, 458)), 0.0], [((81, 454), (112, 458)), 1.0], [((216, 427), (229, 449)), 0.0], [((666, 490), (688, 503)), 0.0], [((1178, 552), (1237, 615)), 0.0], [((1026, 526), (1030, 530)), 1], [((909, 427), (956, 463)), 0.0], [((810, 598), (841, 620)), 1]]\n",
      "[[((252, 481), (256, 494)), 0.0], [((954, 616), (985, 638)), 1.0], [((1044, 419), (1147, 548)), 1217.0], [((234, 490), (256, 512)), 0.0], [((909, 418), (931, 449)), 61.0], [((729, 589), (760, 620)), 2.0], [((1206, 445), (1228, 476)), 1.0], [((603, 616), (634, 638)), 1.0], [((963, 634), (985, 647)), 1.0], [((1242, 445), (1273, 467)), 1.0], [((27, 562), (49, 593)), 0.0], [((459, 625), (490, 647)), 0.0], [((360, 454), (391, 476)), 1.0], [((1045, 476), (1127, 548)), 0.0], [((54, 580), (76, 611)), 0.0], [((180, 400), (184, 431)), 1.0], [((531, 409), (562, 431)), 0.0], [((504, 571), (517, 584)), 1], [((1215, 427), (1260, 458)), 0.0], [((81, 454), (112, 458)), 1.0], [((216, 427), (229, 449)), 0.0], [((666, 490), (688, 503)), 0.0], [((1178, 552), (1237, 615)), 0.0], [((1026, 526), (1030, 530)), 1], [((909, 427), (956, 463)), 0.0], [((810, 598), (841, 620)), 1]]\n",
      "[[((252, 481), (256, 494)), 1.0], [((918, 508), (949, 520)), 3.0], [((1026, 409), (1147, 521)), 1220.0], [((234, 490), (256, 512)), 0.0], [((909, 418), (931, 449)), 59.0], [((729, 598), (760, 629)), 0.0], [((1206, 445), (1228, 476)), 2.0], [((603, 616), (634, 638)), 1.0], [((963, 634), (985, 647)), 1.0], [((1242, 445), (1273, 467)), 1.0], [((27, 562), (49, 593)), 1.0], [((459, 625), (490, 647)), 0.0], [((360, 454), (391, 476)), 1.0], [((1045, 476), (1127, 548)), 0.0], [((54, 580), (76, 611)), 0.0], [((180, 400), (184, 431)), 1.0], [((531, 409), (562, 431)), 0.0], [((504, 571), (517, 584)), 1], [((1215, 427), (1260, 458)), 0.0], [((81, 454), (112, 458)), 1.0], [((216, 427), (229, 449)), 0.0], [((666, 490), (688, 503)), 0.0], [((1178, 552), (1237, 615)), 0.0], [((1026, 526), (1030, 530)), 1], [((909, 427), (956, 463)), 0.0], [((810, 598), (841, 620)), 1]]\n",
      "[[((171, 445), (193, 476)), 1.0], [((912, 418), (1032, 539)), 5.0], [((1044, 419), (1108, 485)), 1218.0], [((234, 490), (256, 512)), 0.0], [((909, 418), (931, 449)), 57.0], [((729, 598), (760, 629)), 0.0], [((1179, 571), (1210, 593)), 0.0], [((603, 616), (634, 638)), 1.0], [((963, 634), (985, 647)), 1.0], [((1242, 445), (1273, 467)), 1.0], [((36, 562), (58, 593)), 3.0], [((459, 625), (490, 647)), 0.0], [((360, 454), (391, 476)), 1.0], [((1045, 476), (1127, 548)), 0.0], [((54, 580), (76, 611)), 0.0], [((180, 400), (184, 431)), 1.0], [((531, 409), (562, 431)), 0.0], [((504, 571), (517, 584)), 1], [((1215, 427), (1260, 458)), 0.0], [((81, 454), (112, 458)), 1.0], [((216, 427), (229, 449)), 0.0], [((666, 490), (688, 503)), 0.0], [((1178, 552), (1237, 615)), 0.0], [((1026, 526), (1030, 530)), 1], [((909, 427), (956, 463)), 0.0], [((810, 598), (841, 620)), 1]]\n",
      "[[((171, 445), (193, 476)), 1.0], [((945, 409), (1127, 539)), 7.0], [((1044, 419), (1108, 485)), 1216.0], [((234, 490), (256, 512)), 0.0], [((909, 418), (931, 449)), 55.0], [((729, 598), (760, 629)), 1.0], [((1179, 571), (1210, 593)), 0.0], [((603, 616), (634, 638)), 1.0], [((963, 634), (985, 647)), 1.0], [((1242, 445), (1273, 467)), 1.0], [((36, 562), (58, 593)), 1.0], [((459, 625), (490, 647)), 0.0], [((360, 454), (391, 476)), 1.0], [((1045, 476), (1127, 548)), 0.0], [((54, 580), (76, 611)), 0.0], [((180, 400), (184, 431)), 1.0], [((531, 409), (562, 431)), 0.0], [((504, 571), (517, 584)), 1], [((1215, 427), (1260, 458)), 0.0], [((81, 454), (112, 458)), 1.0], [((216, 427), (229, 449)), 0.0], [((666, 490), (688, 503)), 0.0], [((1178, 552), (1237, 615)), 0.0], [((1026, 526), (1030, 530)), 1], [((909, 427), (956, 463)), 0.0], [((810, 598), (841, 620)), 1]]\n",
      "[[((171, 445), (193, 476)), 2.0], [((891, 418), (1129, 548)), 9.0], [((1044, 419), (1108, 485)), 1214.0], [((234, 490), (256, 512)), 0.0], [((909, 418), (931, 449)), 53.0], [((729, 598), (760, 620)), 2.0], [((1179, 571), (1210, 593)), 0.0], [((603, 616), (634, 638)), 1.0], [((963, 634), (985, 647)), 1.0], [((1242, 445), (1273, 467)), 1.0], [((36, 562), (58, 593)), 1.0], [((459, 625), (490, 647)), 0.0], [((360, 454), (391, 476)), 1.0], [((1045, 476), (1127, 548)), 0.0], [((54, 580), (76, 611)), 0.0], [((180, 400), (184, 431)), 1.0], [((531, 409), (562, 431)), 0.0], [((504, 571), (517, 584)), 1], [((1215, 427), (1260, 458)), 0.0], [((81, 454), (112, 458)), 1.0], [((216, 427), (229, 449)), 0.0], [((666, 490), (688, 503)), 0.0], [((1178, 552), (1237, 615)), 0.0], [((1026, 526), (1030, 530)), 1], [((909, 427), (956, 463)), 0.0], [((810, 598), (841, 620)), 1]]\n",
      "[[((225, 481), (238, 494)), 0.0], [((912, 418), (1146, 539)), 13.0], [((1044, 419), (1108, 485)), 1212.0], [((234, 490), (256, 512)), 0.0], [((909, 418), (931, 449)), 51.0], [((747, 616), (778, 647)), 0.0], [((1179, 571), (1210, 593)), 0.0], [((603, 616), (634, 638)), 1.0], [((963, 634), (985, 647)), 1.0], [((1242, 445), (1273, 467)), 1.0], [((36, 562), (58, 593)), 1.0], [((459, 625), (490, 647)), 0.0], [((360, 454), (391, 476)), 1.0], [((1045, 476), (1127, 548)), 0.0], [((54, 580), (76, 611)), 0.0], [((180, 400), (184, 431)), 1.0], [((531, 409), (562, 431)), 0.0], [((504, 571), (517, 584)), 1], [((1215, 427), (1260, 458)), 0.0], [((81, 454), (112, 458)), 1.0], [((216, 427), (229, 449)), 0.0], [((666, 490), (688, 503)), 0.0], [((1178, 552), (1237, 615)), 0.0], [((1026, 526), (1030, 530)), 1], [((909, 427), (956, 463)), 0.0], [((810, 598), (841, 620)), 1]]\n",
      "[[((225, 481), (238, 494)), 0.0], [((912, 418), (1093, 539)), 16.0], [((1044, 419), (1108, 485)), 1213.0], [((234, 490), (256, 512)), 0.0], [((909, 418), (931, 449)), 49.0], [((747, 616), (778, 647)), 0.0], [((1179, 571), (1210, 593)), 0.0], [((603, 616), (634, 638)), 1.0], [((963, 634), (985, 647)), 1.0], [((1242, 445), (1273, 467)), 1.0], [((36, 562), (58, 593)), 1.0], [((459, 625), (490, 647)), 0.0], [((360, 454), (391, 476)), 1.0], [((1045, 476), (1127, 548)), 0.0], [((54, 580), (76, 611)), 0.0], [((180, 400), (184, 431)), 1.0], [((531, 409), (562, 431)), 0.0], [((504, 571), (517, 584)), 1], [((1215, 427), (1260, 458)), 0.0], [((81, 454), (112, 458)), 1.0], [((216, 427), (229, 449)), 0.0], [((666, 490), (688, 503)), 0.0], [((1178, 552), (1237, 615)), 0.0], [((1026, 526), (1030, 530)), 1], [((909, 427), (956, 463)), 0.0], [((810, 598), (841, 620)), 1]]\n"
     ]
    },
    {
     "name": "stderr",
     "output_type": "stream",
     "text": [
      "\n",
      "\n",
      "\n",
      "\r",
      " 59%|█████▉    | 671/1136 [03:05<00:55,  8.35it/s]"
     ]
    },
    {
     "name": "stdout",
     "output_type": "stream",
     "text": [
      "[[((225, 481), (238, 494)), 0.0], [((891, 418), (1102, 539)), 17.0], [((1044, 419), (1108, 485)), 1211.0], [((234, 490), (256, 512)), 0.0], [((909, 418), (931, 449)), 47.0], [((747, 616), (778, 647)), 0.0], [((1179, 571), (1210, 593)), 0.0], [((603, 616), (634, 638)), 1.0], [((963, 634), (985, 647)), 1.0], [((1242, 445), (1273, 467)), 1.0], [((36, 562), (58, 593)), 1.0], [((459, 625), (490, 647)), 0.0], [((360, 454), (391, 476)), 1.0], [((1045, 476), (1127, 548)), 0.0], [((54, 580), (76, 611)), 0.0], [((180, 400), (184, 431)), 1.0], [((531, 409), (562, 431)), 0.0], [((504, 571), (517, 584)), 1], [((1215, 427), (1260, 458)), 0.0], [((81, 454), (112, 458)), 1.0], [((216, 427), (229, 449)), 0.0], [((666, 490), (688, 503)), 0.0], [((1178, 552), (1237, 615)), 0.0], [((1026, 526), (1030, 530)), 1], [((909, 427), (956, 463)), 0.0], [((810, 598), (841, 620)), 1]]\n",
      "[[((225, 481), (238, 494)), 0.0], [((912, 418), (1129, 539)), 20.0], [((1044, 419), (1108, 485)), 1209.0], [((234, 490), (256, 512)), 0.0], [((909, 418), (931, 449)), 45.0], [((747, 616), (778, 647)), 0.0], [((1179, 571), (1210, 593)), 0.0], [((603, 616), (634, 638)), 1.0], [((963, 634), (985, 647)), 1.0], [((1242, 445), (1273, 467)), 1.0], [((36, 562), (58, 593)), 1.0], [((459, 625), (490, 647)), 0.0], [((360, 454), (391, 476)), 1.0], [((1045, 476), (1127, 548)), 0.0], [((54, 580), (76, 611)), 0.0], [((180, 400), (184, 431)), 1.0], [((531, 409), (562, 431)), 0.0], [((504, 571), (517, 584)), 1], [((1215, 427), (1260, 458)), 0.0], [((81, 454), (112, 458)), 1.0], [((216, 427), (229, 449)), 0.0], [((666, 490), (688, 503)), 0.0], [((1178, 552), (1237, 615)), 0.0], [((1026, 526), (1030, 530)), 1], [((909, 427), (956, 463)), 0.0], [((810, 598), (841, 620)), 1]]\n",
      "[[((225, 481), (238, 494)), 0.0], [((931, 418), (1129, 539)), 24.0], [((1044, 419), (1108, 485)), 1207.0], [((234, 490), (256, 512)), 0.0], [((909, 418), (931, 449)), 43.0], [((747, 616), (778, 647)), 0.0], [((1179, 571), (1210, 593)), 0.0], [((603, 616), (634, 638)), 1.0], [((963, 634), (985, 647)), 1.0], [((1242, 445), (1273, 467)), 1.0], [((36, 562), (58, 593)), 1.0], [((459, 625), (490, 647)), 0.0], [((360, 454), (391, 476)), 1.0], [((1045, 476), (1127, 548)), 0.0], [((54, 580), (76, 611)), 0.0], [((180, 400), (184, 431)), 1.0], [((531, 409), (562, 431)), 0.0], [((504, 571), (517, 584)), 1], [((1215, 427), (1260, 458)), 0.0], [((81, 454), (112, 458)), 1.0], [((216, 427), (229, 449)), 0.0], [((666, 490), (688, 503)), 0.0], [((1178, 552), (1237, 615)), 0.0], [((1026, 526), (1030, 530)), 1], [((909, 427), (956, 463)), 0.0], [((810, 598), (841, 620)), 1]]\n",
      "[[((225, 481), (238, 494)), 0.0], [((893, 400), (1129, 520)), 25.0], [((1044, 419), (1108, 485)), 1205.0], [((234, 490), (256, 512)), 0.0], [((909, 418), (931, 449)), 41.0], [((747, 616), (778, 647)), 0.0], [((1179, 571), (1210, 593)), 0.0], [((603, 616), (634, 638)), 1.0], [((963, 634), (985, 647)), 1.0], [((1242, 445), (1273, 467)), 1.0], [((36, 562), (58, 593)), 1.0], [((459, 625), (490, 647)), 0.0], [((360, 454), (391, 476)), 1.0], [((1045, 476), (1127, 548)), 0.0], [((54, 580), (76, 611)), 0.0], [((180, 400), (184, 431)), 1.0], [((531, 409), (562, 431)), 0.0], [((504, 571), (517, 584)), 1], [((1215, 427), (1260, 458)), 0.0], [((81, 454), (112, 458)), 1.0], [((216, 427), (229, 449)), 0.0], [((666, 490), (688, 503)), 1.0], [((1178, 552), (1237, 615)), 0.0], [((1026, 526), (1030, 530)), 1], [((909, 427), (956, 463)), 0.0], [((810, 598), (841, 620)), 1]]\n",
      "[[((225, 481), (238, 494)), 1.0], [((927, 418), (1120, 539)), 28.0], [((1044, 419), (1108, 485)), 1203.0], [((234, 490), (256, 512)), 0.0], [((909, 418), (931, 449)), 39.0], [((747, 616), (778, 647)), 0.0], [((1179, 571), (1210, 593)), 0.0], [((603, 616), (634, 638)), 1.0], [((963, 634), (985, 647)), 1.0], [((1242, 445), (1273, 467)), 1.0], [((36, 562), (58, 593)), 1.0], [((459, 625), (490, 647)), 0.0], [((360, 454), (391, 476)), 1.0], [((1045, 476), (1127, 548)), 0.0], [((54, 580), (76, 611)), 0.0], [((180, 400), (184, 431)), 1.0], [((531, 409), (562, 431)), 0.0], [((504, 571), (517, 584)), 1], [((1215, 427), (1260, 458)), 0.0], [((81, 454), (112, 458)), 1.0], [((216, 427), (229, 449)), 0.0], [((675, 535), (706, 557)), 2.0], [((1178, 552), (1237, 615)), 0.0], [((1026, 526), (1030, 530)), 1], [((909, 427), (956, 463)), 0.0], [((810, 598), (841, 620)), 1]]\n"
     ]
    },
    {
     "name": "stderr",
     "output_type": "stream",
     "text": [
      "\u001b[A\u001b[A\u001b[A\n",
      "\n",
      "\n",
      " 60%|█████▉    | 676/1136 [03:05<00:45, 10.18it/s]\u001b[A\u001b[A\u001b[A\n",
      "\n",
      "\n",
      " 60%|█████▉    | 680/1136 [03:06<00:35, 12.83it/s]"
     ]
    },
    {
     "name": "stdout",
     "output_type": "stream",
     "text": [
      "[[((135, 490), (148, 521)), 1.0], [((931, 418), (1075, 539)), 32.0], [((1044, 419), (1108, 485)), 1201.0], [((234, 490), (256, 512)), 0.0], [((909, 418), (931, 449)), 37.0], [((747, 616), (778, 647)), 0.0], [((1179, 571), (1210, 593)), 0.0], [((603, 616), (634, 638)), 2.0], [((963, 634), (985, 647)), 2.0], [((1242, 445), (1273, 467)), 1.0], [((36, 562), (58, 593)), 1.0], [((459, 625), (490, 647)), 0.0], [((360, 454), (391, 476)), 1.0], [((1045, 476), (1127, 548)), 0.0], [((54, 580), (76, 611)), 0.0], [((180, 400), (184, 431)), 1.0], [((531, 409), (562, 431)), 0.0], [((504, 571), (517, 584)), 1], [((1215, 427), (1260, 458)), 0.0], [((81, 454), (112, 458)), 1.0], [((216, 427), (229, 449)), 0.0], [((675, 535), (706, 557)), 3.0], [((1178, 552), (1237, 615)), 0.0], [((1026, 526), (1030, 530)), 1], [((909, 427), (956, 463)), 0.0], [((810, 598), (841, 620)), 1]]\n",
      "[[((135, 490), (148, 521)), 1.0], [((927, 418), (1120, 539)), 34.0], [((1044, 419), (1108, 485)), 1199.0], [((234, 490), (256, 512)), 0.0], [((909, 418), (931, 449)), 35.0], [((747, 616), (778, 647)), 0.0], [((1179, 571), (1210, 593)), 0.0], [((585, 553), (616, 557)), 0.0], [((1017, 625), (1048, 656)), 0.0], [((1242, 445), (1273, 467)), 1.0], [((36, 562), (58, 593)), 1.0], [((459, 625), (490, 647)), 0.0], [((360, 454), (391, 476)), 1.0], [((1045, 476), (1127, 548)), 0.0], [((54, 580), (76, 611)), 0.0], [((180, 400), (184, 431)), 1.0], [((531, 409), (562, 431)), 0.0], [((504, 571), (517, 584)), 1], [((1215, 427), (1260, 458)), 0.0], [((81, 454), (112, 458)), 1.0], [((216, 427), (229, 449)), 0.0], [((675, 535), (706, 557)), 1.0], [((1178, 552), (1237, 615)), 0.0], [((1026, 526), (1030, 530)), 1], [((909, 427), (956, 463)), 0.0], [((810, 598), (841, 620)), 1]]\n",
      "[[((135, 490), (148, 521)), 1.0], [((927, 418), (1075, 539)), 35.0], [((1044, 419), (1108, 485)), 1197.0], [((234, 490), (256, 512)), 0.0], [((909, 418), (931, 449)), 33.0], [((747, 616), (778, 647)), 0.0], [((1179, 571), (1210, 593)), 0.0], [((585, 553), (616, 557)), 0.0], [((1017, 625), (1048, 656)), 0.0], [((1242, 445), (1273, 467)), 1.0], [((36, 562), (58, 593)), 1.0], [((459, 625), (490, 647)), 0.0], [((360, 454), (391, 476)), 1.0], [((1045, 476), (1127, 548)), 0.0], [((54, 580), (76, 611)), 0.0], [((180, 400), (184, 431)), 1.0], [((531, 409), (562, 431)), 0.0], [((504, 571), (517, 584)), 1], [((1215, 427), (1260, 458)), 0.0], [((81, 454), (112, 458)), 1.0], [((216, 427), (229, 449)), 0.0], [((675, 535), (706, 557)), 1.0], [((1178, 552), (1237, 615)), 0.0], [((1026, 526), (1030, 530)), 1], [((909, 427), (956, 463)), 0.0], [((810, 598), (841, 620)), 1]]\n",
      "[[((135, 490), (148, 521)), 1.0], [((927, 409), (1089, 539)), 36.0], [((1044, 419), (1108, 485)), 1195.0], [((234, 490), (256, 512)), 0.0], [((909, 418), (931, 449)), 31.0], [((747, 616), (778, 647)), 0.0], [((1179, 571), (1210, 593)), 0.0], [((585, 553), (616, 557)), 0.0], [((1017, 625), (1048, 656)), 0.0], [((1242, 445), (1273, 467)), 1.0], [((36, 562), (58, 593)), 1.0], [((459, 625), (490, 647)), 0.0], [((360, 454), (391, 476)), 1.0], [((1045, 476), (1127, 548)), 0.0], [((54, 580), (76, 611)), 0.0], [((180, 400), (184, 431)), 1.0], [((531, 409), (562, 431)), 0.0], [((504, 571), (517, 584)), 1], [((1215, 427), (1260, 458)), 0.0], [((81, 454), (112, 458)), 1.0], [((216, 427), (229, 449)), 0.0], [((675, 535), (706, 557)), 1.0], [((1178, 552), (1237, 615)), 0.0], [((1026, 526), (1030, 530)), 1], [((909, 427), (956, 463)), 0.0], [((810, 598), (841, 620)), 1]]\n",
      "[[((135, 490), (148, 521)), 1.0], [((893, 409), (1102, 539)), 38.0], [((1044, 419), (1108, 485)), 1193.0], [((234, 490), (256, 512)), 0.0], [((909, 418), (931, 449)), 29.0], [((747, 616), (778, 647)), 1.0], [((1179, 571), (1210, 593)), 0.0], [((585, 553), (616, 557)), 0.0], [((1017, 625), (1048, 656)), 0.0], [((1242, 445), (1273, 467)), 1.0], [((36, 562), (58, 593)), 1.0], [((459, 625), (490, 647)), 0.0], [((360, 454), (391, 476)), 1.0], [((1045, 476), (1127, 548)), 0.0], [((54, 580), (76, 611)), 0.0], [((180, 400), (184, 431)), 1.0], [((531, 409), (562, 431)), 0.0], [((504, 571), (517, 584)), 1], [((1215, 427), (1260, 458)), 0.0], [((81, 454), (112, 458)), 1.0], [((216, 427), (229, 449)), 0.0], [((675, 535), (706, 557)), 1.0], [((1178, 552), (1237, 615)), 0.0], [((1026, 526), (1030, 530)), 1], [((909, 427), (956, 463)), 0.0], [((810, 598), (841, 620)), 1]]\n"
     ]
    },
    {
     "name": "stderr",
     "output_type": "stream",
     "text": [
      "\u001b[A\u001b[A\u001b[A"
     ]
    },
    {
     "name": "stdout",
     "output_type": "stream",
     "text": [
      "[[((135, 490), (148, 521)), 1.0], [((893, 418), (1111, 530)), 39.0], [((1044, 419), (1108, 485)), 1191.0], [((234, 490), (256, 512)), 0.0], [((909, 418), (931, 449)), 27.0], [((837, 571), (859, 593)), 1.0], [((1179, 571), (1210, 593)), 0.0], [((585, 553), (616, 557)), 0.0], [((1017, 625), (1048, 656)), 0.0], [((1242, 445), (1273, 467)), 1.0], [((36, 562), (58, 593)), 1.0], [((459, 625), (490, 647)), 0.0], [((360, 454), (391, 476)), 1.0], [((1045, 476), (1127, 548)), 0.0], [((54, 580), (76, 611)), 0.0], [((180, 400), (184, 431)), 1.0], [((531, 409), (562, 431)), 0.0], [((504, 571), (517, 584)), 1], [((1215, 427), (1260, 458)), 0.0], [((81, 454), (112, 458)), 1.0], [((216, 427), (229, 449)), 0.0], [((675, 535), (706, 557)), 1.0], [((1178, 552), (1237, 615)), 0.0], [((1026, 526), (1030, 530)), 1], [((909, 427), (956, 463)), 0.0], [((810, 598), (841, 620)), 1]]\n",
      "[[((135, 490), (148, 521)), 1.0], [((900, 418), (1108, 521)), 41.0], [((1044, 419), (1108, 485)), 1189.0], [((234, 490), (256, 512)), 0.0], [((909, 418), (931, 449)), 25.0], [((837, 571), (859, 593)), 1.0], [((1179, 571), (1210, 593)), 0.0], [((585, 553), (616, 557)), 0.0], [((1017, 625), (1048, 656)), 1.0], [((1242, 445), (1273, 467)), 1.0], [((36, 562), (58, 593)), 1.0], [((459, 625), (490, 647)), 0.0], [((360, 454), (391, 476)), 1.0], [((1045, 476), (1127, 548)), 0.0], [((54, 580), (76, 611)), 0.0], [((180, 400), (184, 431)), 1.0], [((531, 409), (562, 431)), 0.0], [((504, 571), (517, 584)), 1], [((1215, 427), (1260, 458)), 0.0], [((81, 454), (112, 458)), 1.0], [((216, 427), (229, 449)), 0.0], [((675, 535), (706, 557)), 1.0], [((1178, 552), (1237, 615)), 0.0], [((1026, 526), (1030, 530)), 1], [((909, 427), (956, 463)), 0.0], [((810, 598), (841, 620)), 1]]\n"
     ]
    },
    {
     "name": "stderr",
     "output_type": "stream",
     "text": [
      "\n",
      "\n",
      "\n",
      "\r",
      " 60%|██████    | 684/1136 [03:07<01:04,  7.00it/s]"
     ]
    },
    {
     "name": "stdout",
     "output_type": "stream",
     "text": [
      "[[((135, 490), (148, 521)), 1.0], [((900, 419), (1066, 521)), 43.0], [((1044, 419), (1108, 485)), 1187.0], [((234, 490), (256, 512)), 0.0], [((909, 418), (931, 449)), 23.0], [((837, 571), (859, 593)), 1.0], [((1179, 571), (1210, 593)), 0.0], [((585, 553), (616, 557)), 0.0], [((954, 616), (985, 638)), 2.0], [((1242, 445), (1273, 467)), 1.0], [((36, 562), (58, 593)), 1.0], [((459, 625), (490, 647)), 0.0], [((360, 454), (391, 476)), 1.0], [((1045, 476), (1127, 548)), 0.0], [((54, 580), (76, 611)), 0.0], [((180, 400), (184, 431)), 1.0], [((531, 409), (562, 431)), 0.0], [((504, 571), (517, 584)), 1], [((1215, 427), (1260, 458)), 0.0], [((81, 454), (112, 458)), 1.0], [((216, 427), (229, 449)), 0.0], [((675, 535), (706, 557)), 1.0], [((1178, 552), (1237, 615)), 0.0], [((1026, 526), (1030, 530)), 1], [((909, 427), (956, 463)), 0.0], [((810, 598), (841, 620)), 1]]\n",
      "[[((135, 490), (148, 521)), 1.0], [((893, 419), (1102, 503)), 48.0], [((1044, 419), (1108, 485)), 1185.0], [((234, 490), (256, 512)), 0.0], [((909, 418), (931, 449)), 21.0], [((837, 571), (859, 593)), 1.0], [((1179, 571), (1210, 593)), 0.0], [((585, 553), (616, 557)), 0.0], [((981, 625), (1012, 656)), 0.0], [((1242, 445), (1273, 467)), 1.0], [((36, 562), (58, 593)), 1.0], [((459, 625), (490, 647)), 0.0], [((360, 454), (391, 476)), 1.0], [((1045, 476), (1127, 548)), 0.0], [((54, 580), (76, 611)), 0.0], [((180, 400), (184, 431)), 1.0], [((531, 409), (562, 431)), 0.0], [((504, 571), (517, 584)), 1], [((1215, 427), (1260, 458)), 0.0], [((81, 454), (112, 458)), 1.0], [((216, 427), (229, 449)), 0.0], [((675, 535), (706, 557)), 1.0], [((1178, 552), (1237, 615)), 0.0], [((1026, 526), (1030, 530)), 1], [((909, 427), (956, 463)), 0.0], [((810, 598), (841, 620)), 1]]\n"
     ]
    },
    {
     "name": "stderr",
     "output_type": "stream",
     "text": [
      "\u001b[A\u001b[A\u001b[A\n",
      "\n",
      "\n",
      " 60%|██████    | 687/1136 [03:08<01:35,  4.69it/s]"
     ]
    },
    {
     "name": "stdout",
     "output_type": "stream",
     "text": [
      "[[((135, 490), (148, 521)), 1.0], [((1008, 419), (1102, 503)), 51.0], [((1044, 419), (1108, 485)), 1183.0], [((234, 490), (256, 512)), 0.0], [((909, 418), (931, 449)), 19.0], [((837, 571), (859, 593)), 1.0], [((1179, 571), (1210, 593)), 0.0], [((585, 553), (616, 557)), 1.0], [((981, 625), (1012, 656)), 0.0], [((1242, 445), (1273, 467)), 1.0], [((36, 562), (58, 593)), 1.0], [((459, 625), (490, 647)), 0.0], [((360, 454), (391, 476)), 1.0], [((1045, 476), (1127, 548)), 0.0], [((54, 580), (76, 611)), 0.0], [((180, 400), (184, 431)), 1.0], [((531, 409), (562, 431)), 0.0], [((504, 571), (517, 584)), 1], [((1215, 427), (1260, 458)), 0.0], [((81, 454), (112, 458)), 1.0], [((216, 427), (229, 449)), 0.0], [((675, 535), (706, 557)), 1.0], [((1178, 552), (1237, 615)), 0.0], [((1026, 526), (1030, 530)), 1], [((909, 427), (956, 463)), 0.0], [((810, 598), (841, 620)), 1]]\n",
      "[[((135, 490), (148, 521)), 1.0], [((893, 418), (1102, 512)), 54.0], [((1044, 419), (1108, 485)), 1181.0], [((234, 490), (256, 512)), 0.0], [((909, 418), (931, 449)), 17.0], [((837, 571), (859, 593)), 1.0], [((1179, 571), (1210, 593)), 0.0], [((603, 490), (634, 512)), 1.0], [((981, 625), (1012, 656)), 0.0], [((1242, 445), (1273, 467)), 1.0], [((36, 562), (58, 593)), 1.0], [((459, 625), (490, 647)), 0.0], [((360, 454), (391, 476)), 1.0], [((1045, 476), (1127, 548)), 0.0], [((54, 580), (76, 611)), 0.0], [((180, 400), (184, 431)), 1.0], [((531, 409), (562, 431)), 0.0], [((504, 571), (517, 584)), 1], [((1215, 427), (1260, 458)), 0.0], [((81, 454), (112, 458)), 1.0], [((216, 427), (229, 449)), 0.0], [((675, 535), (706, 557)), 1.0], [((1178, 552), (1237, 615)), 0.0], [((1026, 526), (1030, 530)), 1], [((909, 427), (956, 463)), 0.0], [((810, 598), (841, 620)), 1]]\n",
      "[[((135, 490), (148, 521)), 1.0], [((893, 419), (994, 512)), 58.0], [((1044, 419), (1108, 485)), 1179.0], [((234, 490), (256, 512)), 0.0], [((909, 418), (931, 449)), 15.0], [((837, 571), (859, 593)), 1.0], [((1179, 571), (1210, 593)), 0.0], [((603, 490), (634, 512)), 1.0], [((981, 625), (1012, 656)), 0.0], [((1242, 445), (1273, 467)), 1.0], [((36, 562), (58, 593)), 1.0], [((459, 625), (490, 647)), 0.0], [((360, 454), (391, 476)), 1.0], [((1045, 476), (1127, 548)), 0.0], [((54, 580), (76, 611)), 0.0], [((180, 400), (184, 431)), 1.0], [((531, 409), (562, 431)), 0.0], [((504, 571), (517, 584)), 1], [((1215, 427), (1260, 458)), 0.0], [((81, 454), (112, 458)), 1.0], [((216, 427), (229, 449)), 0.0], [((675, 535), (706, 557)), 1.0], [((1178, 552), (1237, 615)), 0.0], [((1026, 526), (1030, 530)), 1], [((909, 427), (956, 463)), 0.0], [((810, 598), (841, 620)), 1]]\n",
      "[[((135, 490), (148, 521)), 1.0], [((912, 418), (994, 530)), 62.0], [((1044, 419), (1108, 485)), 1177.0], [((234, 490), (256, 512)), 0.0], [((909, 418), (931, 449)), 13.0], [((837, 571), (859, 593)), 2.0], [((1179, 571), (1210, 593)), 0.0], [((603, 490), (634, 512)), 1.0], [((981, 625), (1012, 656)), 0.0], [((1242, 445), (1273, 467)), 1.0], [((36, 562), (58, 593)), 1.0], [((459, 625), (490, 647)), 0.0], [((360, 454), (391, 476)), 1.0], [((1045, 476), (1127, 548)), 0.0], [((54, 580), (76, 611)), 0.0], [((180, 400), (184, 431)), 1.0], [((531, 409), (562, 431)), 0.0], [((504, 571), (517, 584)), 1], [((1215, 427), (1260, 458)), 0.0], [((81, 454), (112, 458)), 1.0], [((216, 427), (229, 449)), 0.0], [((675, 535), (706, 557)), 1.0], [((1178, 552), (1237, 615)), 0.0], [((1026, 526), (1030, 530)), 1], [((909, 427), (956, 463)), 0.0], [((810, 598), (841, 620)), 1]]\n"
     ]
    },
    {
     "name": "stderr",
     "output_type": "stream",
     "text": [
      "\u001b[A\u001b[A\u001b[A\n",
      "\n",
      "\n",
      " 61%|██████    | 689/1136 [03:08<01:46,  4.21it/s]\u001b[A\u001b[A\u001b[A\n",
      "\n",
      "\n",
      " 61%|██████▏   | 697/1136 [03:09<01:14,  5.88it/s]"
     ]
    },
    {
     "name": "stdout",
     "output_type": "stream",
     "text": [
      "[[((135, 490), (148, 521)), 1.0], [((912, 436), (994, 530)), 67.0], [((1044, 419), (1108, 485)), 1175.0], [((234, 490), (256, 512)), 0.0], [((909, 418), (931, 449)), 11.0], [((756, 625), (760, 629)), 0.0], [((1179, 571), (1210, 593)), 0.0], [((603, 490), (634, 512)), 1.0], [((981, 625), (1012, 656)), 0.0], [((1242, 445), (1273, 467)), 1.0], [((36, 562), (58, 593)), 1.0], [((459, 625), (490, 647)), 0.0], [((360, 454), (391, 476)), 1.0], [((1045, 476), (1127, 548)), 0.0], [((54, 580), (76, 611)), 0.0], [((180, 400), (184, 431)), 1.0], [((531, 409), (562, 431)), 0.0], [((504, 571), (517, 584)), 1], [((1215, 427), (1260, 458)), 0.0], [((81, 454), (112, 458)), 1.0], [((216, 427), (229, 449)), 0.0], [((675, 535), (706, 557)), 1.0], [((1178, 552), (1237, 615)), 0.0], [((1026, 526), (1030, 530)), 1], [((909, 427), (956, 463)), 0.0], [((810, 598), (841, 620)), 1]]\n",
      "[[((135, 490), (148, 521)), 2.0], [((909, 418), (1021, 530)), 68.0], [((1044, 419), (1108, 485)), 1173.0], [((234, 490), (256, 512)), 0.0], [((909, 418), (931, 449)), 9.0], [((756, 625), (760, 629)), 0.0], [((1179, 571), (1210, 593)), 0.0], [((603, 490), (634, 512)), 1.0], [((981, 625), (1012, 656)), 1.0], [((1242, 445), (1273, 467)), 1.0], [((36, 562), (58, 593)), 1.0], [((459, 625), (490, 647)), 0.0], [((360, 454), (391, 476)), 1.0], [((1045, 476), (1127, 548)), 0.0], [((54, 580), (76, 611)), 0.0], [((180, 400), (184, 431)), 1.0], [((531, 409), (562, 431)), 0.0], [((504, 571), (517, 584)), 1], [((1215, 427), (1260, 458)), 0.0], [((81, 454), (112, 458)), 1.0], [((216, 427), (229, 449)), 0.0], [((675, 535), (706, 557)), 1.0], [((1178, 552), (1237, 615)), 0.0], [((1026, 526), (1030, 530)), 1], [((909, 427), (956, 463)), 0.0], [((810, 598), (841, 620)), 1]]\n",
      "[[((180, 490), (184, 521)), 3.0], [((912, 418), (1093, 539)), 70.0], [((1044, 419), (1108, 485)), 1171.0], [((234, 490), (256, 512)), 0.0], [((909, 418), (931, 449)), 7.0], [((756, 625), (760, 629)), 0.0], [((1179, 571), (1210, 593)), 0.0], [((603, 490), (634, 512)), 1.0], [((999, 634), (1030, 656)), 1.0], [((1242, 445), (1273, 467)), 1.0], [((36, 562), (58, 593)), 1.0], [((459, 625), (490, 647)), 0.0], [((360, 454), (391, 476)), 1.0], [((1045, 476), (1127, 548)), 0.0], [((54, 580), (76, 611)), 0.0], [((180, 400), (184, 431)), 1.0], [((531, 409), (562, 431)), 0.0], [((504, 571), (517, 584)), 1], [((1215, 427), (1260, 458)), 0.0], [((81, 454), (112, 458)), 1.0], [((216, 427), (229, 449)), 0.0], [((675, 535), (706, 557)), 1.0], [((1178, 552), (1237, 615)), 0.0], [((1026, 526), (1030, 530)), 1], [((909, 427), (956, 463)), 0.0], [((810, 598), (841, 620)), 1]]\n",
      "[[((261, 472), (292, 503)), 1.0], [((912, 419), (1070, 539)), 71.0], [((1044, 419), (1108, 485)), 1169.0], [((234, 490), (256, 512)), 0.0], [((909, 418), (931, 449)), 5.0], [((756, 625), (760, 629)), 1.0], [((1179, 571), (1210, 593)), 0.0], [((603, 490), (634, 512)), 1.0], [((999, 634), (1030, 656)), 1.0], [((1242, 445), (1273, 467)), 1.0], [((36, 562), (58, 593)), 1.0], [((459, 625), (490, 647)), 0.0], [((360, 454), (391, 476)), 1.0], [((1045, 476), (1127, 548)), 0.0], [((54, 580), (76, 611)), 0.0], [((180, 400), (184, 431)), 1.0], [((531, 409), (562, 431)), 0.0], [((504, 571), (517, 584)), 1], [((1215, 427), (1260, 458)), 0.0], [((81, 454), (112, 458)), 1.0], [((216, 427), (229, 449)), 0.0], [((675, 535), (706, 557)), 1.0], [((1178, 552), (1237, 615)), 0.0], [((1026, 526), (1030, 530)), 1], [((909, 427), (956, 463)), 0.0], [((810, 598), (841, 620)), 1]]\n",
      "[[((261, 472), (292, 503)), 2.0], [((931, 419), (1084, 530)), 73.0], [((1044, 419), (1108, 485)), 1167.0], [((234, 490), (256, 512)), 0.0], [((909, 418), (931, 449)), 3.0], [((666, 625), (697, 656)), 1.0], [((1179, 571), (1210, 593)), 0.0], [((603, 490), (634, 512)), 1.0], [((999, 634), (1030, 656)), 1.0], [((1242, 445), (1273, 467)), 1.0], [((36, 562), (58, 593)), 1.0], [((459, 625), (490, 647)), 0.0], [((360, 454), (391, 476)), 1.0], [((1045, 476), (1127, 548)), 0.0], [((54, 580), (76, 611)), 0.0], [((180, 400), (184, 431)), 1.0], [((531, 409), (562, 431)), 0.0], [((504, 571), (517, 584)), 1], [((1215, 427), (1260, 458)), 0.0], [((81, 454), (112, 458)), 1.0], [((216, 427), (229, 449)), 0.0], [((675, 535), (706, 557)), 1.0], [((1178, 552), (1237, 615)), 0.0], [((1026, 526), (1030, 530)), 1], [((909, 427), (956, 463)), 0.0], [((810, 598), (841, 620)), 1]]\n",
      "[[((279, 472), (310, 503)), 0.0], [((936, 419), (1070, 530)), 76.0], [((1044, 419), (1108, 485)), 1165.0], [((234, 490), (256, 512)), 0.0], [((909, 418), (931, 449)), 1.0], [((666, 625), (697, 656)), 1.0], [((1179, 571), (1210, 593)), 0.0], [((603, 490), (634, 512)), 1.0], [((999, 634), (1030, 656)), 1.0], [((1242, 445), (1273, 467)), 1.0], [((36, 562), (58, 593)), 1.0], [((459, 625), (490, 647)), 0.0], [((360, 454), (391, 476)), 1.0], [((1045, 476), (1127, 548)), 0.0], [((54, 580), (76, 611)), 0.0], [((180, 400), (184, 431)), 1.0], [((531, 409), (562, 431)), 0.0], [((504, 571), (517, 584)), 1], [((1215, 427), (1260, 458)), 0.0], [((81, 454), (112, 458)), 1.0], [((216, 427), (229, 449)), 0.0], [((675, 535), (706, 557)), 1.0], [((1178, 552), (1237, 615)), 0.0], [((1026, 526), (1030, 530)), 1], [((909, 427), (956, 463)), 0.0], [((810, 598), (841, 620)), 2]]\n",
      "[[((279, 472), (310, 503)), 0.0], [((950, 419), (1075, 530)), 78.0], [((1044, 419), (1108, 485)), 1163.0], [((234, 490), (256, 512)), 0.0], [((909, 418), (931, 449)), 1.0], [((666, 625), (697, 656)), 1.0], [((1179, 571), (1210, 593)), 0.0], [((603, 490), (634, 512)), 1.0], [((999, 634), (1030, 656)), 1.0], [((1242, 445), (1273, 467)), 1.0], [((36, 562), (58, 593)), 1.0], [((459, 625), (490, 647)), 0.0], [((360, 454), (391, 476)), 1.0], [((1045, 476), (1127, 548)), 0.0], [((54, 580), (76, 611)), 0.0], [((180, 400), (184, 431)), 1.0], [((531, 409), (562, 431)), 0.0], [((504, 571), (517, 584)), 1], [((1215, 427), (1260, 458)), 0.0], [((81, 454), (112, 458)), 1.0], [((216, 427), (229, 449)), 0.0], [((675, 535), (706, 557)), 1.0], [((1178, 552), (1237, 615)), 0.0], [((1026, 526), (1030, 530)), 1], [((909, 427), (956, 463)), 0.0], [((810, 598), (868, 647)), 0.0]]\n",
      "[[((279, 472), (310, 503)), 0.0], [((874, 418), (1070, 530)), 80.0], [((1044, 419), (1108, 485)), 1161.0], [((234, 490), (256, 512)), 0.0], [((909, 418), (931, 449)), 1.0], [((666, 625), (697, 656)), 1.0], [((1179, 571), (1210, 593)), 0.0], [((603, 490), (634, 512)), 1.0], [((999, 634), (1030, 656)), 1.0], [((1242, 445), (1273, 467)), 1.0], [((36, 562), (58, 593)), 1.0], [((459, 625), (490, 647)), 0.0], [((360, 454), (391, 476)), 1.0], [((1045, 476), (1127, 548)), 0.0], [((54, 580), (76, 611)), 0.0], [((180, 400), (184, 431)), 1.0], [((531, 409), (562, 431)), 0.0], [((504, 571), (517, 584)), 1], [((1215, 427), (1260, 458)), 0.0], [((81, 454), (112, 458)), 1.0], [((216, 427), (229, 449)), 0.0], [((675, 535), (706, 557)), 1.0], [((1178, 552), (1237, 615)), 0.0], [((1026, 526), (1030, 530)), 1], [((909, 427), (956, 463)), 0.0], [((810, 598), (868, 647)), 0.0]]\n",
      "[[((279, 472), (310, 503)), 0.0], [((891, 419), (1021, 520)), 82.0], [((1044, 419), (1108, 485)), 1162.0], [((234, 490), (256, 512)), 0.0], [((909, 418), (931, 449)), 1.0], [((666, 625), (697, 656)), 2.0], [((1179, 571), (1210, 593)), 0.0], [((603, 490), (634, 512)), 1.0], [((999, 634), (1030, 656)), 1.0], [((1242, 445), (1273, 467)), 1.0], [((36, 562), (58, 593)), 1.0], [((459, 625), (490, 647)), 0.0], [((360, 454), (391, 476)), 1.0], [((1045, 476), (1127, 548)), 0.0], [((54, 580), (76, 611)), 0.0], [((180, 400), (184, 431)), 1.0], [((531, 409), (562, 431)), 0.0], [((504, 571), (517, 584)), 1], [((1215, 427), (1260, 458)), 0.0], [((81, 454), (112, 458)), 1.0], [((216, 427), (229, 449)), 0.0], [((675, 535), (706, 557)), 1.0], [((1178, 552), (1237, 615)), 0.0], [((1026, 526), (1030, 530)), 1], [((909, 427), (956, 463)), 0.0], [((810, 598), (868, 647)), 0.0]]\n",
      "[[((279, 472), (310, 503)), 0.0], [((893, 419), (1075, 539)), 88.0], [((1044, 419), (1108, 485)), 1160.0], [((234, 490), (256, 512)), 0.0], [((909, 418), (931, 449)), 1.0], [((558, 634), (589, 656)), 0.0], [((1179, 571), (1210, 593)), 0.0], [((603, 490), (634, 512)), 2.0], [((999, 634), (1030, 656)), 1.0], [((1242, 445), (1273, 467)), 1.0], [((36, 562), (58, 593)), 1.0], [((459, 625), (490, 647)), 0.0], [((360, 454), (391, 476)), 1.0], [((1045, 476), (1127, 548)), 0.0], [((54, 580), (76, 611)), 0.0], [((180, 400), (184, 431)), 1.0], [((531, 409), (562, 431)), 0.0], [((504, 571), (517, 584)), 1], [((1215, 427), (1260, 458)), 0.0], [((81, 454), (112, 458)), 1.0], [((216, 427), (229, 449)), 0.0], [((675, 535), (706, 557)), 1.0], [((1178, 552), (1237, 615)), 0.0], [((1026, 526), (1030, 530)), 1], [((909, 427), (956, 463)), 0.0], [((810, 598), (868, 647)), 0.0]]\n",
      "[[((279, 472), (310, 503)), 0.0], [((893, 419), (994, 539)), 91.0], [((1044, 419), (1108, 485)), 1158.0], [((234, 490), (256, 512)), 0.0], [((909, 418), (931, 449)), 1.0], [((558, 634), (589, 656)), 0.0], [((1179, 571), (1210, 593)), 0.0], [((693, 544), (724, 566)), 0.0], [((999, 634), (1030, 656)), 1.0], [((1242, 445), (1273, 467)), 1.0], [((36, 562), (58, 593)), 2.0], [((459, 625), (490, 647)), 0.0], [((360, 454), (391, 476)), 1.0], [((1045, 476), (1127, 548)), 0.0], [((54, 580), (76, 611)), 0.0], [((180, 400), (184, 431)), 1.0], [((531, 409), (562, 431)), 0.0], [((504, 571), (517, 584)), 1], [((1215, 427), (1260, 458)), 0.0], [((81, 454), (112, 458)), 1.0], [((216, 427), (229, 449)), 0.0], [((675, 535), (706, 557)), 1.0], [((1178, 552), (1237, 615)), 0.0], [((1026, 526), (1030, 530)), 1], [((909, 427), (956, 463)), 0.0], [((810, 598), (868, 647)), 0.0]]\n",
      "[[((279, 472), (310, 503)), 0.0], [((893, 419), (1057, 520)), 92.0], [((1044, 419), (1108, 485)), 1156.0], [((234, 490), (256, 512)), 0.0], [((909, 418), (931, 449)), 1.0], [((558, 634), (589, 656)), 0.0], [((1179, 571), (1210, 593)), 0.0], [((693, 544), (724, 566)), 0.0], [((999, 634), (1030, 656)), 1.0], [((1242, 445), (1273, 467)), 1.0], [((72, 490), (103, 521)), 0.0], [((459, 625), (490, 647)), 0.0], [((360, 454), (391, 476)), 1.0], [((1045, 476), (1127, 548)), 0.0], [((54, 580), (76, 611)), 0.0], [((180, 400), (184, 431)), 1.0], [((531, 409), (562, 431)), 0.0], [((504, 571), (517, 584)), 1], [((1215, 427), (1260, 458)), 0.0], [((81, 454), (112, 458)), 1.0], [((216, 427), (229, 449)), 0.0], [((675, 535), (706, 557)), 1.0], [((1178, 552), (1237, 615)), 0.0], [((1026, 526), (1030, 530)), 1], [((909, 427), (956, 463)), 0.0], [((810, 598), (868, 647)), 0.0]]\n",
      "[[((279, 472), (310, 503)), 0.0], [((893, 419), (1066, 530)), 93.0], [((1044, 419), (1108, 485)), 1154.0], [((234, 490), (256, 512)), 0.0], [((909, 418), (931, 449)), 1.0], [((558, 634), (589, 656)), 0.0], [((1179, 571), (1210, 593)), 0.0], [((693, 544), (724, 566)), 0.0], [((999, 634), (1030, 656)), 1.0], [((1242, 445), (1273, 467)), 1.0], [((72, 490), (103, 521)), 0.0], [((459, 625), (490, 647)), 0.0], [((360, 454), (391, 476)), 1.0], [((1045, 476), (1127, 548)), 0.0], [((54, 580), (76, 611)), 0.0], [((180, 400), (184, 431)), 1.0], [((531, 409), (562, 431)), 0.0], [((504, 571), (517, 584)), 1], [((1215, 427), (1260, 458)), 0.0], [((81, 454), (112, 458)), 1.0], [((216, 427), (229, 449)), 0.0], [((675, 535), (706, 557)), 1.0], [((1178, 552), (1237, 615)), 0.0], [((1026, 526), (1030, 530)), 1], [((909, 427), (956, 463)), 0.0], [((810, 598), (868, 647)), 0.0]]\n"
     ]
    },
    {
     "name": "stderr",
     "output_type": "stream",
     "text": [
      "\u001b[A\u001b[A\u001b[A\n",
      "\n",
      "\n",
      " 62%|██████▏   | 702/1136 [03:11<01:58,  3.67it/s]"
     ]
    },
    {
     "name": "stdout",
     "output_type": "stream",
     "text": [
      "[[((279, 472), (310, 503)), 0.0], [((893, 419), (1070, 520)), 96.0], [((1044, 419), (1108, 485)), 1152.0], [((234, 490), (256, 512)), 0.0], [((909, 418), (931, 449)), 1.0], [((558, 634), (589, 656)), 0.0], [((1179, 571), (1210, 593)), 0.0], [((693, 544), (724, 566)), 0.0], [((999, 634), (1030, 656)), 1.0], [((1242, 445), (1273, 467)), 1.0], [((72, 490), (103, 521)), 0.0], [((459, 625), (490, 647)), 0.0], [((360, 454), (391, 476)), 1.0], [((1045, 476), (1127, 548)), 0.0], [((54, 580), (76, 611)), 0.0], [((180, 400), (184, 431)), 1.0], [((531, 409), (562, 431)), 0.0], [((504, 571), (517, 584)), 1], [((1215, 427), (1260, 458)), 0.0], [((81, 454), (112, 458)), 1.0], [((216, 427), (229, 449)), 0.0], [((675, 535), (706, 557)), 1.0], [((1178, 552), (1237, 615)), 0.0], [((1026, 526), (1030, 530)), 1], [((909, 427), (956, 463)), 0.0], [((810, 598), (868, 647)), 0.0]]\n",
      "[[((279, 472), (310, 503)), 0.0], [((981, 419), (1066, 501)), 100.0], [((1044, 419), (1108, 485)), 1150.0], [((234, 490), (256, 512)), 0.0], [((909, 418), (931, 449)), 1.0], [((558, 634), (589, 656)), 0.0], [((1179, 571), (1210, 593)), 0.0], [((693, 544), (724, 566)), 0.0], [((999, 634), (1030, 656)), 1.0], [((1242, 445), (1273, 467)), 1.0], [((72, 490), (103, 521)), 0.0], [((459, 625), (490, 647)), 0.0], [((360, 454), (391, 476)), 1.0], [((1045, 476), (1127, 548)), 0.0], [((54, 580), (76, 611)), 0.0], [((180, 400), (184, 431)), 1.0], [((531, 409), (562, 431)), 0.0], [((504, 571), (517, 584)), 1], [((1215, 427), (1260, 458)), 0.0], [((81, 454), (112, 458)), 1.0], [((216, 427), (229, 449)), 0.0], [((675, 535), (706, 557)), 1.0], [((1178, 552), (1237, 615)), 0.0], [((1026, 526), (1030, 530)), 1], [((909, 427), (956, 463)), 0.0], [((810, 598), (868, 647)), 0.0]]\n"
     ]
    },
    {
     "name": "stderr",
     "output_type": "stream",
     "text": [
      "\u001b[A\u001b[A\u001b[A\n",
      "\n",
      "\n",
      " 62%|██████▏   | 705/1136 [03:13<02:50,  2.54it/s]\u001b[A\u001b[A\u001b[A\n",
      "\n",
      "\n",
      " 63%|██████▎   | 714/1136 [03:13<01:58,  3.57it/s]"
     ]
    },
    {
     "name": "stdout",
     "output_type": "stream",
     "text": [
      "[[((279, 472), (310, 503)), 0.0], [((893, 419), (975, 530)), 101.0], [((1044, 419), (1108, 485)), 1148.0], [((234, 490), (256, 512)), 0.0], [((909, 418), (931, 449)), 1.0], [((558, 634), (589, 656)), 0.0], [((1179, 571), (1210, 593)), 0.0], [((693, 544), (724, 566)), 0.0], [((999, 634), (1030, 656)), 1.0], [((1242, 445), (1273, 467)), 1.0], [((72, 490), (103, 521)), 1.0], [((459, 625), (490, 647)), 0.0], [((360, 454), (391, 476)), 1.0], [((1045, 476), (1127, 548)), 0.0], [((54, 580), (76, 611)), 0.0], [((180, 400), (184, 431)), 1.0], [((531, 409), (562, 431)), 0.0], [((504, 571), (517, 584)), 1], [((1215, 427), (1260, 458)), 0.0], [((81, 454), (112, 458)), 1.0], [((216, 427), (229, 449)), 0.0], [((675, 535), (706, 557)), 1.0], [((1178, 552), (1237, 615)), 0.0], [((1026, 526), (1030, 530)), 1], [((909, 427), (956, 463)), 0.0], [((810, 598), (868, 647)), 1.0]]\n",
      "[[((279, 472), (310, 503)), 0.0], [((893, 419), (1066, 539)), 103.0], [((1044, 419), (1108, 485)), 1146.0], [((234, 490), (256, 512)), 0.0], [((909, 418), (931, 449)), 1.0], [((558, 634), (589, 656)), 0.0], [((1179, 571), (1210, 593)), 0.0], [((693, 544), (724, 566)), 0.0], [((999, 634), (1030, 656)), 1.0], [((1242, 445), (1273, 467)), 1.0], [((18, 463), (40, 467)), 1.0], [((459, 625), (490, 647)), 0.0], [((360, 454), (391, 476)), 1.0], [((1045, 476), (1127, 548)), 0.0], [((54, 580), (76, 611)), 0.0], [((180, 400), (184, 431)), 1.0], [((531, 409), (562, 431)), 0.0], [((504, 571), (517, 584)), 1], [((1215, 427), (1260, 458)), 0.0], [((81, 454), (112, 458)), 1.0], [((216, 427), (229, 449)), 0.0], [((675, 535), (706, 557)), 1.0], [((1178, 552), (1237, 615)), 0.0], [((1026, 526), (1030, 530)), 1], [((909, 427), (956, 463)), 0.0], [((801, 607), (832, 629)), 1.0]]\n",
      "[[((279, 472), (310, 503)), 0.0], [((893, 419), (1051, 521)), 106.0], [((1044, 419), (1108, 485)), 1144.0], [((234, 490), (256, 512)), 0.0], [((909, 418), (931, 449)), 1.0], [((558, 634), (589, 656)), 0.0], [((1179, 571), (1210, 593)), 0.0], [((693, 544), (724, 566)), 0.0], [((999, 634), (1030, 656)), 1.0], [((1242, 445), (1273, 467)), 1.0], [((18, 463), (40, 467)), 1.0], [((459, 625), (490, 647)), 0.0], [((360, 454), (391, 476)), 1.0], [((1045, 476), (1127, 548)), 0.0], [((54, 580), (76, 611)), 0.0], [((180, 400), (184, 431)), 1.0], [((531, 409), (562, 431)), 0.0], [((504, 571), (517, 584)), 1], [((1215, 427), (1260, 458)), 0.0], [((81, 454), (112, 458)), 1.0], [((216, 427), (229, 449)), 0.0], [((675, 535), (706, 557)), 1.0], [((1178, 552), (1237, 615)), 0.0], [((1026, 526), (1030, 530)), 1], [((909, 427), (956, 463)), 0.0], [((801, 607), (832, 629)), 1.0]]\n",
      "[[((279, 472), (310, 503)), 0.0], [((912, 418), (1057, 530)), 108.0], [((1044, 419), (1108, 485)), 1142.0], [((234, 490), (256, 512)), 0.0], [((909, 418), (931, 449)), 1.0], [((558, 634), (589, 656)), 0.0], [((1179, 571), (1210, 593)), 0.0], [((693, 544), (724, 566)), 0.0], [((999, 634), (1030, 656)), 1.0], [((1242, 445), (1273, 467)), 1.0], [((18, 463), (40, 467)), 1.0], [((459, 625), (490, 647)), 0.0], [((360, 454), (391, 476)), 1.0], [((1045, 476), (1127, 548)), 0.0], [((54, 580), (76, 611)), 0.0], [((180, 400), (184, 431)), 1.0], [((531, 409), (562, 431)), 0.0], [((504, 571), (517, 584)), 1], [((1215, 427), (1260, 458)), 0.0], [((81, 454), (112, 458)), 1.0], [((216, 427), (229, 449)), 0.0], [((675, 535), (706, 557)), 1.0], [((1178, 552), (1237, 615)), 0.0], [((1026, 526), (1030, 530)), 1], [((909, 427), (956, 463)), 0.0], [((801, 607), (832, 629)), 1.0]]\n",
      "[[((279, 472), (310, 503)), 0.0], [((900, 409), (1057, 520)), 110.0], [((1044, 419), (1108, 485)), 1140.0], [((234, 490), (256, 512)), 0.0], [((909, 418), (931, 449)), 1.0], [((558, 634), (589, 656)), 0.0], [((1179, 571), (1210, 593)), 0.0], [((693, 544), (724, 566)), 0.0], [((999, 634), (1030, 656)), 1.0], [((1242, 445), (1273, 467)), 1.0], [((18, 463), (40, 467)), 1.0], [((459, 625), (490, 647)), 0.0], [((360, 454), (391, 476)), 1.0], [((1045, 476), (1127, 548)), 0.0], [((54, 580), (76, 611)), 0.0], [((180, 400), (184, 431)), 1.0], [((531, 409), (562, 431)), 0.0], [((504, 571), (517, 584)), 1], [((1215, 427), (1260, 458)), 0.0], [((81, 454), (112, 458)), 1.0], [((216, 427), (229, 449)), 0.0], [((675, 535), (706, 557)), 1.0], [((1178, 552), (1237, 615)), 0.0], [((1026, 526), (1030, 530)), 1], [((909, 427), (956, 463)), 0.0], [((801, 607), (832, 629)), 1.0]]\n",
      "[[((279, 472), (310, 503)), 0.0], [((912, 418), (1021, 512)), 112.0], [((1044, 419), (1108, 485)), 1138.0], [((234, 490), (256, 512)), 0.0], [((909, 418), (931, 449)), 1.0], [((558, 634), (589, 656)), 0.0], [((1179, 571), (1210, 593)), 0.0], [((693, 544), (724, 566)), 0.0], [((999, 634), (1030, 656)), 1.0], [((1242, 445), (1273, 467)), 1.0], [((18, 463), (40, 467)), 1.0], [((459, 625), (490, 647)), 0.0], [((360, 454), (391, 476)), 1.0], [((1045, 476), (1127, 548)), 0.0], [((54, 580), (76, 611)), 0.0], [((180, 400), (184, 431)), 1.0], [((531, 409), (562, 431)), 0.0], [((504, 571), (517, 584)), 1], [((1215, 427), (1260, 458)), 0.0], [((81, 454), (112, 458)), 1.0], [((216, 427), (229, 449)), 0.0], [((675, 535), (706, 557)), 1.0], [((1178, 552), (1237, 615)), 0.0], [((1026, 526), (1030, 530)), 1], [((909, 427), (956, 463)), 0.0], [((801, 607), (832, 629)), 1.0]]\n",
      "[[((279, 472), (310, 503)), 0.0], [((893, 419), (1012, 520)), 116.0], [((1044, 419), (1108, 485)), 1136.0], [((234, 490), (256, 512)), 0.0], [((909, 418), (931, 449)), 1.0], [((558, 634), (589, 656)), 0.0], [((1179, 571), (1210, 593)), 0.0], [((693, 544), (724, 566)), 0.0], [((999, 634), (1030, 656)), 1.0], [((1242, 445), (1273, 467)), 1.0], [((18, 463), (40, 467)), 1.0], [((459, 625), (490, 647)), 0.0], [((360, 454), (391, 476)), 1.0], [((1045, 476), (1127, 548)), 0.0], [((54, 580), (76, 611)), 0.0], [((180, 400), (184, 431)), 1.0], [((531, 409), (562, 431)), 0.0], [((504, 571), (517, 584)), 1], [((1215, 427), (1260, 458)), 0.0], [((81, 454), (112, 458)), 1.0], [((216, 427), (229, 449)), 0.0], [((675, 535), (706, 557)), 1.0], [((1178, 552), (1237, 615)), 0.0], [((1026, 526), (1030, 530)), 1], [((909, 427), (956, 463)), 0.0], [((801, 607), (832, 629)), 1.0]]\n",
      "[[((279, 472), (310, 503)), 0.0], [((912, 438), (976, 521)), 119.0], [((1044, 419), (1108, 485)), 1134.0], [((234, 490), (256, 512)), 0.0], [((909, 418), (931, 449)), 1.0], [((558, 634), (589, 656)), 0.0], [((1179, 571), (1210, 593)), 0.0], [((693, 544), (724, 566)), 0.0], [((999, 634), (1030, 656)), 1.0], [((1242, 445), (1273, 467)), 1.0], [((18, 463), (40, 467)), 1.0], [((459, 625), (490, 647)), 0.0], [((360, 454), (391, 476)), 1.0], [((1045, 476), (1127, 548)), 0.0], [((54, 580), (76, 611)), 0.0], [((180, 400), (184, 431)), 1.0], [((531, 409), (562, 431)), 0.0], [((504, 571), (517, 584)), 1], [((1215, 427), (1260, 458)), 0.0], [((81, 454), (112, 458)), 1.0], [((216, 427), (229, 449)), 0.0], [((675, 535), (706, 557)), 1.0], [((1178, 552), (1237, 615)), 0.0], [((1026, 526), (1030, 530)), 1], [((909, 427), (956, 463)), 0.0], [((801, 607), (832, 629)), 1.0]]\n",
      "[[((279, 472), (310, 503)), 0.0], [((912, 436), (976, 512)), 123.0], [((1044, 419), (1108, 485)), 1132.0], [((234, 490), (256, 512)), 0.0], [((909, 418), (931, 449)), 1.0], [((558, 634), (589, 656)), 0.0], [((1179, 571), (1210, 593)), 0.0], [((693, 544), (724, 566)), 0.0], [((999, 634), (1030, 656)), 1.0], [((1242, 445), (1273, 467)), 1.0], [((18, 463), (40, 467)), 1.0], [((459, 625), (490, 647)), 0.0], [((360, 454), (391, 476)), 1.0], [((1045, 476), (1127, 548)), 0.0], [((54, 580), (76, 611)), 0.0], [((180, 400), (184, 431)), 1.0], [((531, 409), (562, 431)), 0.0], [((504, 571), (517, 584)), 1], [((1215, 427), (1260, 458)), 0.0], [((81, 454), (112, 458)), 1.0], [((216, 427), (229, 449)), 0.0], [((675, 535), (706, 557)), 1.0], [((1178, 552), (1237, 615)), 0.0], [((1026, 526), (1030, 530)), 1], [((909, 427), (956, 463)), 0.0], [((801, 607), (832, 629)), 1.0]]\n",
      "[[((279, 472), (310, 503)), 0.0], [((893, 427), (956, 503)), 125.0], [((1044, 419), (1108, 485)), 1130.0], [((234, 490), (256, 512)), 0.0], [((909, 418), (931, 449)), 1.0], [((558, 634), (589, 656)), 0.0], [((1179, 571), (1210, 593)), 0.0], [((693, 544), (724, 566)), 0.0], [((999, 634), (1030, 656)), 1.0], [((1242, 445), (1273, 467)), 1.0], [((18, 463), (40, 467)), 1.0], [((459, 625), (490, 647)), 0.0], [((360, 454), (391, 476)), 1.0], [((1045, 476), (1127, 548)), 0.0], [((54, 580), (76, 611)), 0.0], [((180, 400), (184, 431)), 1.0], [((531, 409), (562, 431)), 0.0], [((504, 571), (517, 584)), 1], [((1215, 427), (1260, 458)), 0.0], [((81, 454), (112, 458)), 1.0], [((216, 427), (229, 449)), 0.0], [((675, 535), (706, 557)), 1.0], [((1178, 552), (1237, 615)), 0.0], [((1026, 526), (1030, 530)), 1], [((909, 427), (956, 463)), 0.0], [((801, 607), (832, 629)), 1.0]]\n",
      "[[((279, 472), (310, 503)), 0.0], [((874, 418), (994, 521)), 126.0], [((1044, 419), (1108, 485)), 1128.0], [((234, 490), (256, 512)), 0.0], [((909, 418), (931, 449)), 1.0], [((558, 634), (589, 656)), 0.0], [((1179, 571), (1210, 593)), 0.0], [((693, 544), (724, 566)), 0.0], [((999, 634), (1030, 656)), 1.0], [((1242, 445), (1273, 467)), 1.0], [((18, 463), (40, 467)), 1.0], [((459, 625), (490, 647)), 0.0], [((360, 454), (391, 476)), 1.0], [((1045, 476), (1127, 548)), 0.0], [((54, 580), (76, 611)), 0.0], [((180, 400), (184, 431)), 1.0], [((531, 409), (562, 431)), 0.0], [((504, 571), (517, 584)), 1], [((1215, 427), (1260, 458)), 0.0], [((81, 454), (112, 458)), 1.0], [((216, 427), (229, 449)), 0.0], [((675, 535), (706, 557)), 1.0], [((1178, 552), (1237, 615)), 0.0], [((1026, 526), (1030, 530)), 1], [((909, 427), (956, 463)), 0.0], [((801, 607), (832, 629)), 1.0]]\n",
      "[[((279, 472), (310, 503)), 0.0], [((874, 400), (1013, 521)), 129.0], [((1044, 419), (1108, 485)), 1126.0], [((234, 490), (256, 512)), 0.0], [((909, 418), (931, 449)), 1.0], [((558, 634), (589, 656)), 0.0], [((1179, 571), (1210, 593)), 0.0], [((693, 544), (724, 566)), 0.0], [((999, 634), (1030, 656)), 1.0], [((1242, 445), (1273, 467)), 1.0], [((18, 463), (40, 467)), 1.0], [((459, 625), (490, 647)), 0.0], [((360, 454), (391, 476)), 1.0], [((1045, 476), (1127, 548)), 0.0], [((54, 580), (76, 611)), 0.0], [((180, 400), (184, 431)), 1.0], [((531, 409), (562, 431)), 0.0], [((504, 571), (517, 584)), 1], [((1215, 427), (1260, 458)), 0.0], [((81, 454), (112, 458)), 1.0], [((216, 427), (229, 449)), 0.0], [((675, 535), (706, 557)), 1.0], [((1178, 552), (1237, 615)), 0.0], [((1026, 526), (1030, 530)), 1], [((909, 427), (956, 463)), 0.0], [((801, 607), (832, 629)), 1.0]]\n",
      "[[((279, 472), (310, 503)), 0.0], [((893, 418), (994, 521)), 130.0], [((1044, 419), (1108, 485)), 1124.0], [((234, 490), (256, 512)), 0.0], [((909, 418), (931, 449)), 1.0], [((558, 634), (589, 656)), 0.0], [((1179, 571), (1210, 593)), 0.0], [((693, 544), (724, 566)), 0.0], [((999, 634), (1030, 656)), 1.0], [((1242, 445), (1273, 467)), 1.0], [((18, 463), (40, 467)), 1.0], [((459, 625), (490, 647)), 0.0], [((360, 454), (391, 476)), 1.0], [((1045, 476), (1127, 548)), 0.0], [((54, 580), (76, 611)), 0.0], [((180, 400), (184, 431)), 1.0], [((531, 409), (562, 431)), 0.0], [((504, 571), (517, 584)), 1], [((1215, 427), (1260, 458)), 0.0], [((81, 454), (112, 458)), 1.0], [((216, 427), (229, 449)), 0.0], [((675, 535), (706, 557)), 1.0], [((1178, 552), (1237, 615)), 0.0], [((1026, 526), (1030, 530)), 1], [((909, 427), (956, 463)), 0.0], [((801, 607), (832, 629)), 1.0]]\n"
     ]
    },
    {
     "name": "stderr",
     "output_type": "stream",
     "text": [
      "\u001b[A\u001b[A\u001b[A\n",
      "\n",
      "\n",
      " 63%|██████▎   | 718/1136 [03:13<01:27,  4.78it/s]\u001b[A\u001b[A\u001b[A"
     ]
    },
    {
     "name": "stdout",
     "output_type": "stream",
     "text": [
      "[[((279, 472), (310, 503)), 0.0], [((893, 419), (1039, 521)), 133.0], [((1044, 419), (1108, 485)), 1122.0], [((234, 490), (256, 512)), 0.0], [((909, 418), (931, 449)), 1.0], [((558, 634), (589, 656)), 0.0], [((1179, 571), (1210, 593)), 0.0], [((693, 544), (724, 566)), 0.0], [((999, 634), (1030, 656)), 1.0], [((1242, 445), (1273, 467)), 1.0], [((18, 463), (40, 467)), 1.0], [((459, 625), (490, 647)), 0.0], [((360, 454), (391, 476)), 1.0], [((1045, 476), (1127, 548)), 0.0], [((54, 580), (76, 611)), 0.0], [((180, 400), (184, 431)), 1.0], [((531, 409), (562, 431)), 0.0], [((504, 571), (517, 584)), 1], [((1215, 427), (1260, 458)), 0.0], [((81, 454), (112, 458)), 1.0], [((216, 427), (229, 449)), 0.0], [((675, 535), (706, 557)), 1.0], [((1178, 552), (1237, 615)), 0.0], [((1026, 526), (1030, 530)), 1], [((909, 427), (956, 463)), 0.0], [((801, 607), (832, 629)), 1.0]]\n",
      "[[((279, 472), (310, 503)), 0.0], [((893, 400), (1032, 501)), 134.0], [((1044, 419), (1108, 485)), 1120.0], [((234, 490), (256, 512)), 0.0], [((909, 418), (931, 449)), 1.0], [((558, 634), (589, 656)), 0.0], [((1179, 571), (1210, 593)), 0.0], [((693, 544), (724, 566)), 1.0], [((999, 634), (1030, 656)), 1.0], [((1242, 445), (1273, 467)), 1.0], [((18, 463), (40, 467)), 1.0], [((459, 625), (490, 647)), 0.0], [((360, 454), (391, 476)), 1.0], [((1045, 476), (1127, 548)), 0.0], [((54, 580), (76, 611)), 0.0], [((180, 400), (184, 431)), 1.0], [((531, 409), (562, 431)), 0.0], [((504, 571), (517, 584)), 1], [((1215, 427), (1260, 458)), 0.0], [((81, 454), (112, 458)), 1.0], [((216, 427), (229, 449)), 0.0], [((675, 535), (706, 557)), 1.0], [((1178, 552), (1237, 615)), 0.0], [((1026, 526), (1030, 530)), 1], [((909, 427), (956, 463)), 0.0], [((801, 607), (832, 629)), 1.0]]\n",
      "[[((279, 472), (310, 503)), 1.0], [((893, 419), (1032, 503)), 135.0], [((1044, 419), (1108, 485)), 1118.0], [((234, 490), (256, 512)), 0.0], [((909, 418), (931, 449)), 1.0], [((558, 634), (589, 656)), 0.0], [((1179, 571), (1210, 593)), 0.0], [((801, 571), (832, 602)), 3.0], [((999, 634), (1030, 656)), 1.0], [((1242, 445), (1273, 467)), 1.0], [((18, 463), (40, 467)), 1.0], [((459, 625), (490, 647)), 0.0], [((360, 454), (391, 476)), 1.0], [((1045, 476), (1127, 548)), 0.0], [((54, 580), (76, 611)), 0.0], [((180, 400), (184, 431)), 1.0], [((531, 409), (562, 431)), 0.0], [((504, 571), (517, 584)), 1], [((1215, 427), (1260, 458)), 0.0], [((81, 454), (112, 458)), 1.0], [((216, 427), (229, 449)), 0.0], [((675, 535), (706, 557)), 1.0], [((1178, 552), (1237, 615)), 0.0], [((1026, 526), (1030, 530)), 1], [((909, 427), (956, 463)), 0.0], [((801, 607), (832, 629)), 1.0]]\n",
      "[[((180, 472), (193, 494)), 1.0], [((874, 418), (1030, 520)), 136.0], [((1044, 419), (1108, 485)), 1116.0], [((234, 490), (256, 512)), 0.0], [((909, 418), (931, 449)), 1.0], [((558, 634), (589, 656)), 0.0], [((1179, 571), (1210, 593)), 0.0], [((711, 535), (742, 557)), 4.0], [((999, 634), (1030, 656)), 1.0], [((1242, 445), (1273, 467)), 1.0], [((18, 463), (40, 467)), 1.0], [((459, 625), (490, 647)), 0.0], [((360, 454), (391, 476)), 2.0], [((1045, 476), (1127, 548)), 0.0], [((54, 580), (76, 611)), 0.0], [((180, 400), (184, 431)), 1.0], [((531, 409), (562, 431)), 0.0], [((504, 571), (517, 584)), 1], [((1215, 427), (1260, 458)), 0.0], [((81, 454), (112, 458)), 1.0], [((216, 427), (229, 449)), 0.0], [((675, 535), (706, 557)), 1.0], [((1178, 552), (1237, 615)), 0.0], [((1026, 526), (1030, 530)), 1], [((909, 427), (956, 463)), 0.0], [((801, 607), (832, 629)), 1.0]]\n",
      "[[((180, 472), (193, 494)), 1.0], [((893, 400), (1030, 482)), 137.0], [((1044, 419), (1108, 485)), 1114.0], [((234, 490), (256, 512)), 0.0], [((909, 418), (931, 449)), 1.0], [((558, 634), (589, 656)), 0.0], [((1179, 571), (1210, 593)), 0.0], [((810, 553), (841, 584)), 2.0], [((999, 634), (1030, 656)), 1.0], [((1242, 445), (1273, 467)), 1.0], [((18, 463), (40, 467)), 1.0], [((459, 625), (490, 647)), 0.0], [((378, 445), (400, 476)), 0.0], [((1045, 476), (1127, 548)), 0.0], [((54, 580), (76, 611)), 0.0], [((180, 400), (184, 431)), 1.0], [((531, 409), (562, 431)), 0.0], [((504, 571), (517, 584)), 1], [((1215, 427), (1260, 458)), 0.0], [((81, 454), (112, 458)), 1.0], [((216, 427), (229, 449)), 0.0], [((675, 535), (706, 557)), 1.0], [((1178, 552), (1237, 615)), 0.0], [((1026, 526), (1030, 530)), 1], [((909, 427), (956, 463)), 0.0], [((801, 607), (832, 629)), 1.0]]\n"
     ]
    },
    {
     "name": "stderr",
     "output_type": "stream",
     "text": [
      "\n",
      "\n",
      "\n",
      "\r",
      " 64%|██████▎   | 722/1136 [03:15<01:39,  4.17it/s]"
     ]
    },
    {
     "name": "stdout",
     "output_type": "stream",
     "text": [
      "[[((180, 472), (193, 494)), 1.0], [((874, 418), (994, 501)), 138.0], [((1044, 419), (1108, 485)), 1112.0], [((234, 490), (256, 512)), 0.0], [((909, 418), (931, 449)), 1.0], [((558, 634), (589, 656)), 2.0], [((1179, 571), (1210, 593)), 0.0], [((810, 553), (841, 584)), 3.0], [((999, 634), (1030, 656)), 1.0], [((1242, 445), (1273, 467)), 1.0], [((18, 463), (40, 467)), 1.0], [((459, 625), (490, 647)), 0.0], [((378, 445), (400, 476)), 0.0], [((1045, 476), (1127, 548)), 0.0], [((54, 580), (76, 611)), 0.0], [((180, 400), (184, 431)), 1.0], [((531, 409), (562, 431)), 0.0], [((504, 571), (517, 584)), 1], [((1215, 427), (1260, 458)), 0.0], [((81, 454), (112, 458)), 1.0], [((216, 427), (229, 449)), 0.0], [((675, 535), (706, 557)), 1.0], [((1178, 552), (1237, 615)), 0.0], [((1026, 526), (1030, 530)), 1], [((909, 427), (956, 463)), 0.0], [((801, 607), (832, 629)), 1.0]]\n",
      "[[((180, 472), (193, 494)), 1.0], [((874, 409), (994, 501)), 140.0], [((1044, 419), (1108, 485)), 1110.0], [((234, 490), (256, 512)), 1.0], [((909, 418), (931, 449)), 1.0], [((603, 616), (634, 656)), 0.0], [((1179, 571), (1210, 593)), 0.0], [((783, 616), (814, 629)), 1.0], [((999, 634), (1030, 656)), 1.0], [((1242, 445), (1273, 467)), 1.0], [((18, 463), (40, 467)), 1.0], [((459, 625), (490, 647)), 0.0], [((378, 445), (400, 476)), 0.0], [((1045, 476), (1127, 548)), 0.0], [((54, 580), (76, 611)), 0.0], [((180, 400), (184, 431)), 1.0], [((531, 409), (562, 431)), 0.0], [((504, 571), (517, 584)), 1], [((1215, 427), (1260, 458)), 0.0], [((81, 454), (112, 458)), 1.0], [((216, 427), (229, 449)), 0.0], [((675, 535), (706, 557)), 1.0], [((1178, 552), (1237, 615)), 0.0], [((1026, 526), (1030, 530)), 1], [((909, 427), (956, 463)), 0.0], [((801, 607), (832, 629)), 1.0]]\n",
      "[[((180, 472), (193, 494)), 1.0], [((891, 419), (994, 503)), 143.0], [((1044, 419), (1108, 485)), 1108.0], [((333, 463), (364, 485)), 1.0], [((909, 418), (931, 449)), 1.0], [((603, 616), (634, 656)), 0.0], [((1179, 571), (1210, 593)), 0.0], [((783, 616), (814, 629)), 1.0], [((999, 634), (1030, 656)), 1.0], [((1242, 445), (1273, 467)), 1.0], [((18, 463), (40, 467)), 1.0], [((459, 625), (490, 647)), 0.0], [((378, 445), (400, 476)), 0.0], [((1045, 476), (1127, 548)), 0.0], [((54, 580), (76, 611)), 0.0], [((180, 400), (184, 431)), 1.0], [((531, 409), (562, 431)), 0.0], [((504, 571), (517, 584)), 1], [((1215, 427), (1260, 458)), 0.0], [((81, 454), (112, 458)), 1.0], [((216, 427), (229, 449)), 0.0], [((675, 535), (706, 557)), 1.0], [((1178, 552), (1237, 615)), 0.0], [((1026, 526), (1030, 530)), 1], [((909, 427), (956, 463)), 0.0], [((801, 607), (832, 629)), 1.0]]\n"
     ]
    },
    {
     "name": "stderr",
     "output_type": "stream",
     "text": [
      "\u001b[A\u001b[A\u001b[A\n",
      "\n",
      "\n",
      " 64%|██████▍   | 725/1136 [03:15<01:26,  4.73it/s]"
     ]
    },
    {
     "name": "stdout",
     "output_type": "stream",
     "text": [
      "[[((180, 472), (193, 494)), 1.0], [((874, 400), (994, 482)), 144.0], [((1044, 419), (1108, 485)), 1106.0], [((333, 463), (364, 485)), 1.0], [((909, 418), (931, 449)), 1.0], [((603, 616), (634, 656)), 0.0], [((1179, 571), (1210, 593)), 0.0], [((783, 616), (814, 629)), 1.0], [((999, 634), (1030, 656)), 1.0], [((1242, 445), (1273, 467)), 1.0], [((18, 463), (40, 467)), 1.0], [((459, 625), (490, 647)), 0.0], [((378, 445), (400, 476)), 0.0], [((1045, 476), (1127, 548)), 0.0], [((54, 580), (76, 611)), 0.0], [((180, 400), (184, 431)), 1.0], [((531, 409), (562, 431)), 0.0], [((504, 571), (517, 584)), 1], [((1215, 427), (1260, 458)), 0.0], [((81, 454), (112, 458)), 1.0], [((216, 427), (229, 449)), 0.0], [((675, 535), (706, 557)), 1.0], [((1178, 552), (1237, 615)), 0.0], [((1026, 526), (1030, 530)), 1], [((909, 427), (956, 463)), 0.0], [((801, 607), (832, 629)), 1.0]]\n",
      "[[((180, 472), (193, 494)), 1.0], [((874, 400), (994, 482)), 148.0], [((1044, 419), (1108, 485)), 1104.0], [((333, 463), (364, 485)), 1.0], [((909, 418), (931, 449)), 1.0], [((603, 616), (634, 656)), 0.0], [((1179, 571), (1210, 593)), 0.0], [((783, 616), (814, 629)), 1.0], [((999, 634), (1030, 656)), 1.0], [((1242, 445), (1273, 467)), 1.0], [((18, 463), (40, 467)), 1.0], [((459, 625), (490, 647)), 0.0], [((378, 445), (400, 476)), 0.0], [((1045, 476), (1127, 548)), 0.0], [((54, 580), (76, 611)), 0.0], [((180, 400), (184, 431)), 1.0], [((531, 409), (562, 431)), 0.0], [((504, 571), (517, 584)), 1], [((1215, 427), (1260, 458)), 0.0], [((81, 454), (112, 458)), 1.0], [((216, 427), (229, 449)), 0.0], [((675, 535), (706, 557)), 1.0], [((1178, 552), (1237, 615)), 0.0], [((1026, 526), (1030, 530)), 1], [((909, 427), (956, 463)), 0.0], [((801, 607), (832, 629)), 1.0]]\n",
      "[[((180, 472), (193, 494)), 1.0], [((927, 400), (1021, 467)), 150.0], [((1044, 419), (1108, 485)), 1102.0], [((333, 463), (364, 485)), 1.0], [((909, 418), (931, 449)), 1.0], [((603, 616), (634, 656)), 0.0], [((1179, 571), (1210, 593)), 0.0], [((783, 616), (814, 629)), 1.0], [((999, 634), (1030, 656)), 1.0], [((1242, 445), (1273, 467)), 1.0], [((18, 463), (40, 467)), 1.0], [((459, 625), (490, 647)), 0.0], [((378, 445), (400, 476)), 0.0], [((1045, 476), (1127, 548)), 0.0], [((54, 580), (76, 611)), 0.0], [((180, 400), (184, 431)), 1.0], [((531, 409), (562, 431)), 0.0], [((504, 571), (517, 584)), 1], [((1215, 427), (1260, 458)), 0.0], [((81, 454), (112, 458)), 1.0], [((216, 427), (229, 449)), 0.0], [((675, 535), (706, 557)), 1.0], [((1178, 552), (1237, 615)), 0.0], [((1026, 526), (1030, 530)), 1], [((909, 427), (956, 463)), 0.0], [((801, 607), (832, 629)), 1.0]]\n"
     ]
    },
    {
     "name": "stderr",
     "output_type": "stream",
     "text": [
      "\u001b[A\u001b[A\u001b[A\n",
      "\n",
      "\n",
      " 64%|██████▍   | 728/1136 [03:16<01:35,  4.29it/s]"
     ]
    },
    {
     "name": "stdout",
     "output_type": "stream",
     "text": [
      "[[((180, 472), (193, 494)), 1.0], [((927, 409), (985, 476)), 153.0], [((1044, 419), (1108, 485)), 1100.0], [((333, 463), (364, 485)), 1.0], [((909, 418), (931, 449)), 1.0], [((603, 616), (634, 656)), 0.0], [((1179, 571), (1210, 593)), 0.0], [((783, 616), (814, 629)), 1.0], [((999, 634), (1030, 656)), 1.0], [((1242, 445), (1273, 467)), 1.0], [((18, 463), (40, 467)), 1.0], [((459, 625), (490, 647)), 0.0], [((378, 445), (400, 476)), 0.0], [((1045, 476), (1127, 548)), 0.0], [((54, 580), (76, 611)), 0.0], [((180, 400), (184, 431)), 1.0], [((531, 409), (562, 431)), 0.0], [((504, 571), (517, 584)), 1], [((1215, 427), (1260, 458)), 0.0], [((81, 454), (112, 458)), 1.0], [((216, 427), (229, 449)), 0.0], [((675, 535), (706, 557)), 1.0], [((1178, 552), (1237, 615)), 0.0], [((1026, 526), (1030, 530)), 1], [((909, 427), (956, 463)), 0.0], [((801, 607), (832, 629)), 1.0]]\n",
      "[[((180, 472), (193, 494)), 2.0], [((873, 419), (922, 501)), 157.0], [((1044, 419), (1108, 485)), 1098.0], [((333, 463), (364, 485)), 1.0], [((909, 418), (931, 449)), 1.0], [((603, 616), (634, 656)), 0.0], [((1179, 571), (1210, 593)), 0.0], [((783, 616), (814, 629)), 1.0], [((999, 634), (1030, 656)), 1.0], [((1242, 445), (1273, 467)), 1.0], [((18, 463), (40, 467)), 1.0], [((459, 625), (490, 647)), 0.0], [((378, 445), (400, 476)), 0.0], [((1045, 476), (1127, 548)), 0.0], [((54, 580), (76, 611)), 0.0], [((180, 400), (184, 431)), 1.0], [((531, 409), (562, 431)), 0.0], [((504, 571), (517, 584)), 1], [((1215, 427), (1260, 458)), 0.0], [((81, 454), (112, 458)), 1.0], [((216, 427), (229, 449)), 0.0], [((675, 535), (706, 557)), 1.0], [((1178, 552), (1237, 615)), 0.0], [((1026, 526), (1030, 530)), 1], [((909, 427), (956, 463)), 0.0], [((801, 607), (832, 629)), 1.0]]\n"
     ]
    },
    {
     "name": "stderr",
     "output_type": "stream",
     "text": [
      "\u001b[A\u001b[A\u001b[A\n",
      "\n",
      "\n",
      " 64%|██████▍   | 730/1136 [03:18<02:59,  2.26it/s]"
     ]
    },
    {
     "name": "stdout",
     "output_type": "stream",
     "text": [
      "[[((171, 499), (202, 530)), 3.0], [((846, 400), (994, 503)), 159.0], [((1044, 419), (1108, 485)), 1096.0], [((333, 463), (364, 485)), 1.0], [((909, 418), (931, 449)), 1.0], [((603, 616), (634, 656)), 0.0], [((1179, 571), (1210, 593)), 0.0], [((783, 616), (814, 629)), 1.0], [((999, 634), (1030, 656)), 1.0], [((1242, 445), (1273, 467)), 1.0], [((18, 463), (40, 467)), 1.0], [((459, 625), (490, 647)), 0.0], [((378, 445), (400, 476)), 0.0], [((1045, 476), (1127, 548)), 0.0], [((54, 580), (76, 611)), 0.0], [((180, 400), (184, 431)), 1.0], [((531, 409), (562, 431)), 0.0], [((504, 571), (517, 584)), 1], [((1215, 427), (1260, 458)), 0.0], [((81, 454), (112, 458)), 1.0], [((216, 427), (229, 449)), 0.0], [((675, 535), (706, 557)), 1.0], [((1178, 552), (1237, 615)), 0.0], [((1026, 526), (1030, 530)), 1], [((909, 427), (956, 463)), 0.0], [((801, 607), (832, 629)), 1.0]]\n",
      "[[((117, 490), (148, 548)), 4.0], [((931, 400), (1039, 476)), 160.0], [((1044, 419), (1108, 485)), 1094.0], [((333, 463), (364, 485)), 1.0], [((909, 418), (931, 449)), 1.0], [((603, 616), (634, 656)), 0.0], [((1179, 571), (1210, 593)), 0.0], [((783, 616), (814, 629)), 1.0], [((999, 634), (1030, 656)), 1.0], [((1242, 445), (1273, 467)), 1.0], [((18, 463), (40, 467)), 1.0], [((459, 625), (490, 647)), 0.0], [((378, 445), (400, 476)), 0.0], [((1045, 476), (1127, 548)), 0.0], [((54, 580), (76, 611)), 0.0], [((180, 400), (184, 431)), 1.0], [((531, 409), (562, 431)), 0.0], [((504, 571), (517, 584)), 1], [((1215, 427), (1260, 458)), 0.0], [((81, 454), (112, 458)), 1.0], [((216, 427), (229, 449)), 0.0], [((675, 535), (706, 557)), 1.0], [((1178, 552), (1237, 615)), 0.0], [((1026, 526), (1030, 530)), 1], [((909, 427), (956, 463)), 0.0], [((801, 607), (832, 629)), 1.0]]\n",
      "[[((54, 499), (85, 539)), 5.0], [((855, 400), (1039, 512)), 163.0], [((1044, 419), (1108, 485)), 1092.0], [((333, 463), (364, 485)), 1.0], [((909, 418), (931, 449)), 1.0], [((603, 616), (634, 656)), 0.0], [((1179, 571), (1210, 593)), 0.0], [((783, 616), (814, 629)), 1.0], [((999, 634), (1030, 656)), 1.0], [((1242, 445), (1273, 467)), 1.0], [((18, 463), (40, 467)), 1.0], [((459, 625), (490, 647)), 0.0], [((378, 445), (400, 476)), 0.0], [((1045, 476), (1127, 548)), 0.0], [((54, 580), (76, 611)), 0.0], [((180, 400), (184, 431)), 1.0], [((531, 409), (562, 431)), 0.0], [((504, 571), (517, 584)), 1], [((1215, 427), (1260, 458)), 0.0], [((81, 454), (112, 458)), 1.0], [((216, 427), (229, 449)), 0.0], [((675, 535), (706, 557)), 1.0], [((1178, 552), (1237, 615)), 0.0], [((1026, 526), (1030, 530)), 1], [((909, 427), (956, 463)), 0.0], [((801, 607), (832, 629)), 1.0]]\n"
     ]
    },
    {
     "name": "stderr",
     "output_type": "stream",
     "text": [
      "\u001b[A\u001b[A\u001b[A\n",
      "\n",
      "\n",
      " 65%|██████▍   | 733/1136 [03:19<03:11,  2.11it/s]"
     ]
    },
    {
     "name": "stdout",
     "output_type": "stream",
     "text": [
      "[[((63, 490), (94, 512)), 3.0], [((855, 400), (967, 512)), 166.0], [((1044, 419), (1108, 485)), 1090.0], [((333, 463), (364, 485)), 1.0], [((909, 418), (931, 449)), 1.0], [((603, 616), (634, 656)), 0.0], [((1179, 571), (1210, 593)), 0.0], [((783, 616), (814, 629)), 1.0], [((999, 634), (1030, 656)), 1.0], [((1242, 445), (1273, 467)), 1.0], [((18, 463), (40, 467)), 1.0], [((459, 625), (490, 647)), 0.0], [((378, 445), (400, 476)), 0.0], [((1045, 476), (1127, 548)), 0.0], [((54, 580), (76, 611)), 0.0], [((180, 400), (184, 431)), 1.0], [((531, 409), (562, 431)), 0.0], [((504, 571), (517, 584)), 1], [((1215, 427), (1260, 458)), 0.0], [((81, 454), (112, 458)), 1.0], [((216, 427), (229, 449)), 0.0], [((675, 535), (706, 557)), 1.0], [((1178, 552), (1237, 615)), 0.0], [((1026, 526), (1030, 530)), 1], [((909, 427), (956, 463)), 0.0], [((801, 607), (832, 629)), 1.0]]\n",
      "[[((63, 490), (94, 512)), 1.0], [((873, 409), (958, 476)), 169.0], [((1044, 419), (1108, 485)), 1088.0], [((333, 463), (364, 485)), 1.0], [((909, 418), (931, 449)), 1.0], [((603, 616), (634, 656)), 0.0], [((1179, 571), (1210, 593)), 0.0], [((783, 616), (814, 629)), 1.0], [((999, 634), (1030, 656)), 1.0], [((1242, 445), (1273, 467)), 1.0], [((18, 463), (40, 467)), 1.0], [((459, 625), (490, 647)), 0.0], [((378, 445), (400, 476)), 0.0], [((1045, 476), (1127, 548)), 0.0], [((54, 580), (76, 611)), 0.0], [((180, 400), (184, 431)), 1.0], [((531, 409), (562, 431)), 0.0], [((504, 571), (517, 584)), 1], [((1215, 427), (1260, 458)), 0.0], [((81, 454), (112, 458)), 1.0], [((216, 427), (229, 449)), 0.0], [((675, 535), (706, 557)), 1.0], [((1178, 552), (1237, 615)), 0.0], [((1026, 526), (1030, 530)), 1], [((909, 427), (956, 463)), 0.0], [((801, 607), (832, 629)), 1.0]]\n",
      "[[((63, 490), (94, 512)), 1.0], [((873, 419), (967, 482)), 172.0], [((1044, 419), (1108, 485)), 1086.0], [((333, 463), (364, 485)), 1.0], [((909, 418), (931, 449)), 1.0], [((603, 616), (634, 656)), 0.0], [((1179, 571), (1210, 593)), 0.0], [((783, 616), (814, 629)), 1.0], [((999, 634), (1030, 656)), 1.0], [((1242, 445), (1273, 467)), 1.0], [((18, 463), (40, 467)), 1.0], [((459, 625), (490, 647)), 0.0], [((378, 445), (400, 476)), 0.0], [((1045, 476), (1127, 548)), 0.0], [((54, 580), (76, 611)), 0.0], [((180, 400), (184, 431)), 1.0], [((531, 409), (562, 431)), 0.0], [((504, 571), (517, 584)), 1], [((1215, 427), (1260, 458)), 0.0], [((81, 454), (112, 458)), 1.0], [((216, 427), (229, 449)), 0.0], [((675, 535), (706, 557)), 1.0], [((1178, 552), (1237, 615)), 0.0], [((1026, 526), (1030, 530)), 1], [((909, 427), (956, 463)), 0.0], [((801, 607), (832, 629)), 1.0]]\n"
     ]
    },
    {
     "name": "stderr",
     "output_type": "stream",
     "text": [
      "\u001b[A\u001b[A\u001b[A\n",
      "\n",
      "\n",
      " 65%|██████▍   | 736/1136 [03:22<03:51,  1.72it/s]"
     ]
    },
    {
     "name": "stdout",
     "output_type": "stream",
     "text": [
      "[[((63, 490), (94, 512)), 1.0], [((874, 409), (958, 482)), 176.0], [((1044, 419), (1108, 485)), 1084.0], [((333, 463), (364, 485)), 1.0], [((909, 418), (931, 449)), 1.0], [((603, 616), (634, 656)), 0.0], [((1179, 571), (1210, 593)), 0.0], [((783, 616), (814, 629)), 1.0], [((999, 634), (1030, 656)), 1.0], [((1242, 445), (1273, 467)), 1.0], [((18, 463), (40, 467)), 1.0], [((459, 625), (490, 647)), 0.0], [((378, 445), (400, 476)), 0.0], [((1045, 476), (1127, 548)), 0.0], [((54, 580), (76, 611)), 0.0], [((180, 400), (184, 431)), 1.0], [((531, 409), (562, 431)), 0.0], [((504, 571), (517, 584)), 1], [((1215, 427), (1260, 458)), 0.0], [((81, 454), (112, 458)), 1.0], [((216, 427), (229, 449)), 0.0], [((675, 535), (706, 557)), 1.0], [((1178, 552), (1237, 615)), 0.0], [((1026, 526), (1030, 530)), 1], [((909, 427), (956, 463)), 0.0], [((801, 607), (832, 629)), 1.0]]\n",
      "[[((63, 490), (94, 512)), 1.0], [((873, 409), (940, 512)), 181.0], [((1044, 419), (1108, 485)), 1082.0], [((333, 463), (364, 485)), 1.0], [((909, 418), (931, 449)), 1.0], [((603, 616), (634, 656)), 0.0], [((1179, 571), (1210, 593)), 0.0], [((783, 616), (814, 629)), 1.0], [((999, 634), (1030, 656)), 1.0], [((1242, 445), (1273, 467)), 1.0], [((18, 463), (40, 467)), 1.0], [((459, 625), (490, 647)), 0.0], [((378, 445), (400, 476)), 0.0], [((1045, 476), (1127, 548)), 0.0], [((54, 580), (76, 611)), 0.0], [((180, 400), (184, 431)), 1.0], [((531, 409), (562, 431)), 0.0], [((504, 571), (517, 584)), 1], [((1215, 427), (1260, 458)), 0.0], [((81, 454), (112, 458)), 1.0], [((216, 427), (229, 449)), 0.0], [((675, 535), (706, 557)), 1.0], [((1178, 552), (1237, 615)), 0.0], [((1026, 526), (1030, 530)), 1], [((909, 427), (956, 463)), 0.0], [((801, 607), (832, 629)), 1.0]]\n"
     ]
    },
    {
     "name": "stderr",
     "output_type": "stream",
     "text": [
      "\u001b[A\u001b[A\u001b[A\n",
      "\n",
      "\n",
      " 65%|██████▍   | 738/1136 [03:24<04:19,  1.53it/s]"
     ]
    },
    {
     "name": "stdout",
     "output_type": "stream",
     "text": [
      "[[((63, 490), (94, 512)), 1.0], [((950, 419), (1048, 476)), 187.0], [((1044, 419), (1108, 485)), 1080.0], [((333, 463), (364, 485)), 1.0], [((909, 418), (931, 449)), 1.0], [((603, 616), (634, 656)), 0.0], [((1179, 571), (1210, 593)), 0.0], [((783, 616), (814, 629)), 1.0], [((999, 634), (1030, 656)), 1.0], [((1242, 445), (1273, 467)), 1.0], [((18, 463), (40, 467)), 1.0], [((459, 625), (490, 647)), 0.0], [((378, 445), (400, 476)), 0.0], [((1045, 476), (1127, 548)), 0.0], [((54, 580), (76, 611)), 0.0], [((180, 400), (184, 431)), 1.0], [((531, 409), (562, 431)), 0.0], [((504, 571), (517, 584)), 1], [((1215, 427), (1260, 458)), 0.0], [((81, 454), (112, 458)), 1.0], [((216, 427), (229, 449)), 0.0], [((675, 535), (706, 557)), 1.0], [((1178, 552), (1237, 615)), 0.0], [((1026, 526), (1030, 530)), 1], [((909, 427), (956, 463)), 0.0], [((801, 607), (832, 629)), 1.0]]\n",
      "[[((63, 490), (94, 512)), 1.0], [((988, 419), (1051, 485)), 189.0], [((1044, 419), (1108, 485)), 1078.0], [((333, 463), (364, 485)), 1.0], [((909, 418), (931, 449)), 1.0], [((603, 616), (634, 656)), 0.0], [((1179, 571), (1210, 593)), 0.0], [((783, 616), (814, 629)), 1.0], [((999, 634), (1030, 656)), 1.0], [((1242, 445), (1273, 467)), 1.0], [((18, 463), (40, 467)), 1.0], [((459, 625), (490, 647)), 0.0], [((378, 445), (400, 476)), 0.0], [((1045, 476), (1127, 548)), 0.0], [((54, 580), (76, 611)), 0.0], [((180, 400), (184, 431)), 1.0], [((531, 409), (562, 431)), 0.0], [((504, 571), (517, 584)), 1], [((1215, 427), (1260, 458)), 0.0], [((81, 454), (112, 458)), 1.0], [((216, 427), (229, 449)), 0.0], [((675, 535), (706, 557)), 1.0], [((1178, 552), (1237, 615)), 0.0], [((1026, 526), (1030, 530)), 1], [((909, 427), (956, 463)), 0.0], [((801, 607), (832, 629)), 1.0]]\n"
     ]
    },
    {
     "name": "stderr",
     "output_type": "stream",
     "text": [
      "\u001b[A\u001b[A\u001b[A\n",
      "\n",
      "\n",
      " 65%|██████▌   | 740/1136 [03:24<03:53,  1.70it/s]\u001b[A\u001b[A\u001b[A\n",
      "\n",
      "\n",
      " 65%|██████▌   | 744/1136 [03:25<02:46,  2.36it/s]"
     ]
    },
    {
     "name": "stdout",
     "output_type": "stream",
     "text": [
      "[[((63, 490), (94, 512)), 1.0], [((837, 419), (1051, 503)), 193.0], [((1044, 419), (1108, 485)), 1076.0], [((333, 463), (364, 485)), 1.0], [((909, 418), (931, 449)), 1.0], [((603, 616), (634, 656)), 0.0], [((1179, 571), (1210, 593)), 0.0], [((783, 616), (814, 629)), 1.0], [((999, 634), (1030, 656)), 1.0], [((1242, 445), (1273, 467)), 1.0], [((18, 463), (40, 467)), 1.0], [((459, 625), (490, 647)), 0.0], [((378, 445), (400, 476)), 0.0], [((1045, 476), (1127, 548)), 0.0], [((54, 580), (76, 611)), 0.0], [((180, 400), (184, 431)), 1.0], [((531, 409), (562, 431)), 0.0], [((504, 571), (517, 584)), 1], [((1215, 427), (1260, 458)), 0.0], [((81, 454), (112, 458)), 1.0], [((216, 427), (229, 449)), 0.0], [((675, 535), (706, 557)), 1.0], [((1178, 552), (1237, 615)), 0.0], [((1026, 526), (1030, 530)), 1], [((909, 427), (956, 463)), 0.0], [((801, 607), (832, 629)), 1.0]]\n",
      "[[((63, 490), (94, 512)), 1.0], [((855, 400), (918, 494)), 196.0], [((1044, 419), (1108, 485)), 1074.0], [((333, 463), (364, 485)), 1.0], [((909, 418), (931, 449)), 1.0], [((603, 616), (634, 656)), 0.0], [((1179, 571), (1210, 593)), 0.0], [((783, 616), (814, 629)), 1.0], [((999, 634), (1030, 656)), 1.0], [((1242, 445), (1273, 467)), 1.0], [((18, 463), (40, 467)), 1.0], [((459, 625), (490, 647)), 0.0], [((378, 445), (400, 476)), 0.0], [((1045, 476), (1127, 548)), 0.0], [((54, 580), (76, 611)), 0.0], [((180, 400), (184, 431)), 1.0], [((531, 409), (562, 431)), 0.0], [((504, 571), (517, 584)), 1], [((1215, 427), (1260, 458)), 0.0], [((81, 454), (112, 458)), 1.0], [((216, 427), (229, 449)), 0.0], [((675, 535), (706, 557)), 1.0], [((1178, 552), (1237, 615)), 0.0], [((1026, 526), (1030, 530)), 1], [((909, 427), (956, 463)), 0.0], [((801, 607), (832, 629)), 1.0]]\n",
      "[[((63, 490), (94, 512)), 1.0], [((855, 409), (976, 501)), 200.0], [((1044, 419), (1108, 485)), 1072.0], [((333, 463), (364, 485)), 1.0], [((909, 418), (931, 449)), 1.0], [((603, 616), (634, 656)), 0.0], [((1179, 571), (1210, 593)), 0.0], [((783, 616), (814, 629)), 1.0], [((999, 634), (1030, 656)), 1.0], [((1242, 445), (1273, 467)), 1.0], [((18, 463), (40, 467)), 1.0], [((459, 625), (490, 647)), 0.0], [((378, 445), (400, 476)), 0.0], [((1045, 476), (1127, 548)), 0.0], [((54, 580), (76, 611)), 0.0], [((180, 400), (184, 431)), 1.0], [((531, 409), (562, 431)), 0.0], [((504, 571), (517, 584)), 1], [((1215, 427), (1260, 458)), 0.0], [((81, 454), (112, 458)), 1.0], [((216, 427), (229, 449)), 0.0], [((675, 535), (706, 557)), 1.0], [((1178, 552), (1237, 615)), 0.0], [((1026, 526), (1030, 530)), 1], [((909, 427), (956, 463)), 0.0], [((801, 607), (832, 629)), 1.0]]\n",
      "[[((63, 490), (94, 512)), 1.0], [((927, 400), (1051, 485)), 203.0], [((1044, 419), (1108, 485)), 1070.0], [((333, 463), (364, 485)), 1.0], [((909, 418), (931, 449)), 1.0], [((603, 616), (634, 656)), 0.0], [((1179, 571), (1210, 593)), 0.0], [((783, 616), (814, 629)), 1.0], [((999, 634), (1030, 656)), 1.0], [((1242, 445), (1273, 467)), 1.0], [((18, 463), (40, 467)), 1.0], [((459, 625), (490, 647)), 0.0], [((378, 445), (400, 476)), 0.0], [((1045, 476), (1127, 548)), 0.0], [((54, 580), (76, 611)), 0.0], [((180, 400), (184, 431)), 1.0], [((531, 409), (562, 431)), 0.0], [((504, 571), (517, 584)), 1], [((1215, 427), (1260, 458)), 0.0], [((81, 454), (112, 458)), 1.0], [((216, 427), (229, 449)), 0.0], [((675, 535), (706, 557)), 1.0], [((1178, 552), (1237, 615)), 0.0], [((1026, 526), (1030, 530)), 1], [((909, 427), (956, 463)), 0.0], [((801, 607), (832, 629)), 1.0]]\n",
      "[[((63, 490), (94, 512)), 1.0], [((927, 409), (1051, 482)), 205.0], [((1044, 419), (1108, 485)), 1068.0], [((333, 463), (364, 485)), 1.0], [((909, 418), (931, 449)), 1.0], [((603, 616), (634, 656)), 0.0], [((1179, 571), (1210, 593)), 0.0], [((783, 616), (814, 629)), 1.0], [((999, 634), (1030, 656)), 1.0], [((1242, 445), (1273, 467)), 1.0], [((18, 463), (40, 467)), 1.0], [((459, 625), (490, 647)), 0.0], [((378, 445), (400, 476)), 0.0], [((1045, 476), (1127, 548)), 0.0], [((54, 580), (76, 611)), 0.0], [((180, 400), (184, 431)), 1.0], [((531, 409), (562, 431)), 0.0], [((504, 571), (517, 584)), 1], [((1215, 427), (1260, 458)), 0.0], [((81, 454), (112, 458)), 1.0], [((216, 427), (229, 449)), 0.0], [((675, 535), (706, 557)), 1.0], [((1178, 552), (1237, 615)), 0.0], [((1026, 526), (1030, 530)), 1], [((909, 427), (956, 463)), 0.0], [((801, 607), (832, 629)), 1.0]]\n",
      "[[((63, 490), (94, 512)), 1.0], [((927, 419), (1051, 485)), 206.0], [((1044, 419), (1108, 485)), 1066.0], [((333, 463), (364, 485)), 2.0], [((909, 418), (931, 449)), 1.0], [((603, 616), (634, 656)), 0.0], [((1179, 571), (1210, 593)), 0.0], [((783, 616), (814, 629)), 1.0], [((999, 634), (1030, 656)), 1.0], [((1242, 445), (1273, 467)), 1.0], [((18, 463), (40, 467)), 1.0], [((459, 625), (490, 647)), 0.0], [((378, 445), (400, 476)), 0.0], [((1045, 476), (1127, 548)), 0.0], [((54, 580), (76, 611)), 0.0], [((180, 400), (184, 431)), 1.0], [((531, 409), (562, 431)), 0.0], [((504, 571), (517, 584)), 1], [((1215, 427), (1260, 458)), 0.0], [((81, 454), (112, 458)), 1.0], [((216, 427), (229, 449)), 0.0], [((675, 535), (706, 557)), 1.0], [((1178, 552), (1237, 615)), 0.0], [((1026, 526), (1030, 530)), 1], [((909, 427), (956, 463)), 0.0], [((801, 607), (832, 629)), 1.0]]\n",
      "[[((63, 490), (94, 512)), 1.0], [((837, 400), (1051, 501)), 208.0], [((1044, 419), (1108, 485)), 1064.0], [((261, 427), (283, 458)), 0.0], [((909, 418), (931, 449)), 1.0], [((603, 616), (634, 656)), 0.0], [((1179, 571), (1210, 593)), 0.0], [((783, 616), (814, 629)), 1.0], [((999, 634), (1030, 656)), 1.0], [((1242, 445), (1273, 467)), 1.0], [((18, 463), (40, 467)), 1.0], [((459, 625), (490, 647)), 0.0], [((378, 445), (400, 476)), 0.0], [((1045, 476), (1127, 548)), 0.0], [((54, 580), (76, 611)), 0.0], [((180, 400), (184, 431)), 1.0], [((531, 409), (562, 431)), 0.0], [((504, 571), (517, 584)), 1], [((1215, 427), (1260, 458)), 0.0], [((81, 454), (112, 458)), 1.0], [((216, 427), (229, 449)), 0.0], [((675, 535), (706, 557)), 1.0], [((1178, 552), (1237, 615)), 0.0], [((1026, 526), (1030, 530)), 1], [((909, 427), (956, 463)), 0.0], [((801, 607), (832, 629)), 1.0]]\n",
      "[[((63, 490), (94, 512)), 1.0], [((927, 419), (1048, 512)), 210.0], [((1044, 419), (1108, 485)), 1062.0], [((261, 427), (283, 458)), 0.0], [((909, 418), (931, 449)), 1.0], [((603, 616), (634, 656)), 0.0], [((1179, 571), (1210, 593)), 0.0], [((783, 616), (814, 629)), 2.0], [((999, 634), (1030, 656)), 1.0], [((1242, 445), (1273, 467)), 1.0], [((18, 463), (40, 467)), 1.0], [((459, 625), (490, 647)), 0.0], [((378, 445), (400, 476)), 0.0], [((1045, 476), (1127, 548)), 0.0], [((54, 580), (76, 611)), 0.0], [((180, 400), (184, 431)), 1.0], [((531, 409), (562, 431)), 0.0], [((504, 571), (517, 584)), 1], [((1215, 427), (1260, 458)), 0.0], [((81, 454), (112, 458)), 1.0], [((216, 427), (229, 449)), 0.0], [((675, 535), (706, 557)), 1.0], [((1178, 552), (1237, 615)), 0.0], [((1026, 526), (1030, 530)), 1], [((909, 427), (956, 463)), 0.0], [((801, 607), (832, 629)), 1.0]]\n"
     ]
    },
    {
     "name": "stderr",
     "output_type": "stream",
     "text": [
      "\u001b[A\u001b[A\u001b[A\n",
      "\n",
      "\n",
      " 66%|██████▌   | 748/1136 [03:25<02:11,  2.95it/s]"
     ]
    },
    {
     "name": "stdout",
     "output_type": "stream",
     "text": [
      "[[((63, 490), (94, 512)), 1.0], [((855, 400), (937, 503)), 212.0], [((1044, 419), (1108, 485)), 1060.0], [((261, 427), (283, 458)), 0.0], [((909, 418), (931, 449)), 1.0], [((603, 616), (634, 656)), 0.0], [((1179, 571), (1210, 593)), 0.0], [((882, 598), (913, 629)), 0.0], [((999, 634), (1030, 656)), 1.0], [((1242, 445), (1273, 467)), 1.0], [((18, 463), (40, 467)), 1.0], [((459, 625), (490, 647)), 0.0], [((378, 445), (400, 476)), 0.0], [((1045, 476), (1127, 548)), 0.0], [((54, 580), (76, 611)), 0.0], [((180, 400), (184, 431)), 1.0], [((531, 409), (562, 431)), 0.0], [((504, 571), (517, 584)), 1], [((1215, 427), (1260, 458)), 0.0], [((81, 454), (112, 458)), 1.0], [((216, 427), (229, 449)), 0.0], [((675, 535), (706, 557)), 1.0], [((1178, 552), (1237, 615)), 0.0], [((1026, 526), (1030, 530)), 1], [((909, 427), (956, 463)), 0.0], [((801, 607), (832, 629)), 1.0]]\n",
      "[[((63, 490), (94, 512)), 4.0], [((828, 400), (918, 503)), 214.0], [((1044, 419), (1108, 485)), 1061.0], [((261, 427), (283, 458)), 0.0], [((909, 418), (931, 449)), 1.0], [((603, 616), (634, 656)), 0.0], [((1179, 571), (1210, 593)), 0.0], [((882, 598), (913, 629)), 0.0], [((999, 634), (1030, 656)), 1.0], [((1242, 445), (1273, 467)), 1.0], [((18, 463), (40, 467)), 1.0], [((459, 625), (490, 647)), 0.0], [((378, 445), (400, 476)), 0.0], [((1045, 476), (1127, 548)), 0.0], [((54, 580), (76, 611)), 0.0], [((180, 400), (184, 431)), 1.0], [((531, 409), (562, 431)), 0.0], [((504, 571), (517, 584)), 1], [((1215, 427), (1260, 458)), 0.0], [((81, 454), (112, 458)), 1.0], [((216, 427), (229, 449)), 0.0], [((675, 535), (706, 557)), 1.0], [((1178, 552), (1237, 615)), 0.0], [((1026, 526), (1030, 530)), 1], [((909, 427), (956, 463)), 0.0], [((801, 607), (832, 629)), 1.0]]\n"
     ]
    },
    {
     "name": "stderr",
     "output_type": "stream",
     "text": [
      "\u001b[A\u001b[A\u001b[A\n",
      "\n",
      "\n",
      " 66%|██████▌   | 750/1136 [03:26<02:01,  3.18it/s]"
     ]
    },
    {
     "name": "stdout",
     "output_type": "stream",
     "text": [
      "[[((117, 499), (148, 521)), 5.0], [((874, 400), (949, 476)), 218.0], [((981, 418), (1066, 503)), 1059.0], [((261, 427), (283, 458)), 0.0], [((909, 418), (931, 449)), 1.0], [((603, 616), (634, 656)), 1.0], [((1179, 571), (1210, 593)), 0.0], [((882, 598), (913, 629)), 0.0], [((999, 634), (1030, 656)), 1.0], [((1242, 445), (1273, 467)), 1.0], [((18, 463), (40, 467)), 1.0], [((459, 625), (490, 647)), 0.0], [((378, 445), (400, 476)), 0.0], [((1045, 476), (1127, 548)), 0.0], [((54, 580), (76, 611)), 0.0], [((180, 400), (184, 431)), 1.0], [((531, 409), (562, 431)), 0.0], [((504, 571), (517, 584)), 1], [((1215, 427), (1260, 458)), 0.0], [((81, 454), (112, 458)), 1.0], [((216, 427), (229, 449)), 0.0], [((675, 535), (706, 557)), 1.0], [((1178, 552), (1237, 615)), 0.0], [((1026, 526), (1030, 530)), 1], [((909, 427), (956, 463)), 0.0], [((801, 607), (832, 629)), 1.0]]\n",
      "[[((135, 481), (148, 503)), 6.0], [((954, 409), (1066, 494)), 221.0], [((981, 418), (1066, 503)), 1057.0], [((261, 427), (283, 458)), 0.0], [((909, 418), (931, 449)), 1.0], [((666, 625), (688, 629)), 1.0], [((1179, 571), (1210, 593)), 0.0], [((882, 598), (913, 629)), 0.0], [((999, 634), (1030, 656)), 1.0], [((1242, 445), (1273, 467)), 1.0], [((18, 463), (40, 467)), 1.0], [((459, 625), (490, 647)), 0.0], [((378, 445), (400, 476)), 0.0], [((1045, 476), (1127, 548)), 0.0], [((54, 580), (76, 611)), 0.0], [((180, 400), (184, 431)), 1.0], [((531, 409), (562, 431)), 0.0], [((504, 571), (517, 584)), 1], [((1215, 427), (1260, 458)), 0.0], [((81, 454), (112, 458)), 1.0], [((216, 427), (229, 449)), 0.0], [((675, 535), (706, 557)), 1.0], [((1178, 552), (1237, 615)), 0.0], [((1026, 526), (1030, 530)), 1], [((909, 427), (956, 463)), 0.0], [((801, 607), (832, 629)), 1.0]]\n"
     ]
    },
    {
     "name": "stderr",
     "output_type": "stream",
     "text": [
      "\u001b[A\u001b[A\u001b[A\n",
      "\n",
      "\n",
      " 66%|██████▌   | 752/1136 [03:26<01:58,  3.24it/s]\u001b[A\u001b[A\u001b[A\n",
      "\n",
      "\n",
      " 67%|██████▋   | 760/1136 [03:26<01:22,  4.55it/s]"
     ]
    },
    {
     "name": "stdout",
     "output_type": "stream",
     "text": [
      "[[((144, 436), (193, 467)), 7.0], [((855, 400), (937, 503)), 224.0], [((981, 418), (1066, 503)), 1055.0], [((261, 427), (283, 458)), 0.0], [((909, 418), (931, 449)), 1.0], [((666, 625), (688, 629)), 1.0], [((1179, 571), (1210, 593)), 0.0], [((882, 598), (913, 629)), 0.0], [((999, 634), (1030, 656)), 1.0], [((1242, 445), (1273, 467)), 1.0], [((18, 463), (40, 467)), 1.0], [((459, 625), (490, 647)), 0.0], [((378, 445), (400, 476)), 0.0], [((1045, 476), (1127, 548)), 0.0], [((54, 580), (76, 611)), 0.0], [((180, 400), (184, 431)), 1.0], [((531, 409), (562, 431)), 0.0], [((504, 571), (517, 584)), 1], [((1215, 427), (1260, 458)), 0.0], [((81, 454), (112, 458)), 1.0], [((216, 427), (229, 449)), 0.0], [((675, 535), (706, 557)), 1.0], [((1178, 552), (1237, 615)), 0.0], [((1026, 526), (1030, 530)), 1], [((909, 427), (956, 463)), 0.0], [((801, 607), (832, 629)), 1.0]]\n",
      "[[((72, 481), (103, 485)), 9.0], [((954, 419), (1066, 482)), 225.0], [((981, 418), (1066, 503)), 1053.0], [((261, 427), (283, 458)), 0.0], [((909, 418), (931, 449)), 2.0], [((666, 625), (688, 629)), 1.0], [((1179, 571), (1210, 593)), 0.0], [((882, 598), (913, 629)), 0.0], [((999, 634), (1030, 656)), 1.0], [((1242, 445), (1273, 467)), 1.0], [((18, 463), (40, 467)), 1.0], [((459, 625), (490, 647)), 0.0], [((378, 445), (400, 476)), 0.0], [((1045, 476), (1127, 548)), 0.0], [((54, 580), (76, 611)), 0.0], [((180, 400), (184, 431)), 1.0], [((531, 409), (562, 431)), 0.0], [((504, 571), (517, 584)), 1], [((1215, 427), (1260, 458)), 0.0], [((81, 454), (112, 458)), 1.0], [((216, 427), (229, 449)), 0.0], [((675, 535), (706, 557)), 1.0], [((1178, 552), (1237, 615)), 0.0], [((1026, 526), (1030, 530)), 1], [((909, 427), (956, 463)), 0.0], [((801, 607), (832, 629)), 1.0]]\n",
      "[[((76, 463), (103, 482)), 10.0], [((864, 400), (1066, 501)), 226.0], [((981, 418), (1066, 503)), 1051.0], [((261, 427), (283, 458)), 0.0], [((855, 463), (859, 476)), 0.0], [((666, 625), (688, 629)), 1.0], [((1179, 571), (1210, 593)), 0.0], [((882, 598), (913, 629)), 0.0], [((999, 634), (1030, 656)), 1.0], [((1242, 445), (1273, 467)), 1.0], [((18, 463), (40, 467)), 1.0], [((459, 625), (490, 647)), 0.0], [((378, 445), (400, 476)), 0.0], [((1045, 476), (1127, 548)), 0.0], [((54, 580), (76, 611)), 0.0], [((180, 400), (184, 431)), 1.0], [((531, 409), (562, 431)), 0.0], [((504, 571), (517, 584)), 1], [((1215, 427), (1260, 458)), 0.0], [((81, 454), (112, 458)), 1.0], [((216, 427), (229, 449)), 0.0], [((675, 535), (706, 557)), 1.0], [((1178, 552), (1237, 615)), 0.0], [((1026, 526), (1030, 530)), 1], [((909, 427), (956, 463)), 0.0], [((801, 607), (832, 629)), 1.0]]\n",
      "[[((54, 481), (85, 512)), 8.0], [((855, 400), (1066, 512)), 228.0], [((981, 418), (1066, 503)), 1049.0], [((261, 427), (283, 458)), 0.0], [((855, 463), (859, 476)), 0.0], [((666, 625), (688, 629)), 2.0], [((1179, 571), (1210, 593)), 0.0], [((882, 598), (913, 629)), 0.0], [((999, 634), (1030, 656)), 1.0], [((1242, 445), (1273, 467)), 1.0], [((18, 463), (40, 467)), 1.0], [((459, 625), (490, 647)), 0.0], [((378, 445), (400, 476)), 0.0], [((1045, 476), (1127, 548)), 0.0], [((54, 580), (76, 611)), 0.0], [((180, 400), (184, 431)), 1.0], [((531, 409), (562, 431)), 0.0], [((504, 571), (517, 584)), 1], [((1215, 427), (1260, 458)), 0.0], [((81, 454), (112, 458)), 1.0], [((216, 427), (229, 449)), 0.0], [((675, 535), (706, 557)), 1.0], [((1178, 552), (1237, 615)), 0.0], [((1026, 526), (1030, 530)), 1], [((909, 427), (956, 463)), 0.0], [((801, 607), (832, 629)), 1.0]]\n",
      "[[((54, 481), (85, 512)), 6.0], [((855, 400), (1070, 512)), 229.0], [((981, 418), (1066, 503)), 1047.0], [((261, 427), (283, 458)), 0.0], [((855, 463), (859, 476)), 0.0], [((639, 616), (670, 638)), 0.0], [((1179, 571), (1210, 593)), 0.0], [((882, 598), (913, 629)), 0.0], [((999, 634), (1030, 656)), 1.0], [((1242, 445), (1273, 467)), 1.0], [((18, 463), (40, 467)), 1.0], [((459, 625), (490, 647)), 0.0], [((378, 445), (400, 476)), 0.0], [((1045, 476), (1127, 548)), 0.0], [((54, 580), (76, 611)), 0.0], [((180, 400), (184, 431)), 1.0], [((531, 409), (562, 431)), 0.0], [((504, 571), (517, 584)), 1], [((1215, 427), (1260, 458)), 0.0], [((81, 454), (112, 458)), 1.0], [((216, 427), (229, 449)), 0.0], [((675, 535), (706, 557)), 1.0], [((1178, 552), (1237, 615)), 0.0], [((1026, 526), (1030, 530)), 1], [((909, 427), (956, 463)), 0.0], [((801, 607), (832, 629)), 1.0]]\n",
      "[[((54, 481), (85, 512)), 4.0], [((855, 400), (1070, 501)), 230.0], [((981, 418), (1066, 503)), 1045.0], [((261, 427), (283, 458)), 0.0], [((855, 463), (859, 476)), 0.0], [((639, 616), (670, 638)), 0.0], [((1179, 571), (1210, 593)), 0.0], [((882, 598), (913, 629)), 0.0], [((999, 634), (1030, 656)), 1.0], [((1242, 445), (1273, 467)), 1.0], [((18, 463), (40, 467)), 1.0], [((459, 625), (490, 647)), 0.0], [((378, 445), (400, 476)), 0.0], [((1045, 476), (1127, 548)), 0.0], [((54, 580), (76, 611)), 0.0], [((180, 400), (184, 431)), 1.0], [((531, 409), (562, 431)), 0.0], [((504, 571), (517, 584)), 1], [((1215, 427), (1260, 458)), 0.0], [((81, 454), (112, 458)), 1.0], [((216, 427), (229, 449)), 0.0], [((675, 535), (706, 557)), 1.0], [((1178, 552), (1237, 615)), 0.0], [((1026, 526), (1030, 530)), 1], [((909, 427), (956, 463)), 0.0], [((801, 607), (832, 629)), 1.0]]\n",
      "[[((54, 481), (85, 512)), 5.0], [((855, 400), (1075, 512)), 232.0], [((981, 418), (1066, 503)), 1043.0], [((261, 427), (283, 458)), 0.0], [((855, 463), (859, 476)), 0.0], [((639, 616), (670, 638)), 0.0], [((1179, 571), (1210, 593)), 0.0], [((882, 598), (913, 629)), 0.0], [((999, 634), (1030, 656)), 1.0], [((1242, 445), (1273, 467)), 1.0], [((18, 463), (40, 467)), 1.0], [((459, 625), (490, 647)), 0.0], [((378, 445), (400, 476)), 0.0], [((1045, 476), (1127, 548)), 0.0], [((54, 580), (76, 611)), 0.0], [((180, 400), (184, 431)), 1.0], [((531, 409), (562, 431)), 0.0], [((504, 571), (517, 584)), 1], [((1215, 427), (1260, 458)), 0.0], [((81, 454), (112, 458)), 1.0], [((216, 427), (229, 449)), 0.0], [((675, 535), (706, 557)), 1.0], [((1178, 552), (1237, 615)), 0.0], [((1026, 526), (1030, 530)), 1], [((909, 427), (956, 463)), 0.0], [((801, 607), (832, 629)), 1.0]]\n",
      "[[((99, 490), (130, 512)), 3.0], [((891, 400), (1070, 494)), 233.0], [((981, 418), (1066, 503)), 1041.0], [((261, 427), (283, 458)), 0.0], [((855, 463), (859, 476)), 1.0], [((639, 616), (670, 638)), 0.0], [((1179, 571), (1210, 593)), 0.0], [((882, 598), (913, 629)), 1.0], [((999, 634), (1030, 656)), 1.0], [((1242, 445), (1273, 467)), 1.0], [((18, 463), (40, 467)), 1.0], [((459, 625), (490, 647)), 0.0], [((378, 445), (400, 476)), 0.0], [((1045, 476), (1127, 548)), 0.0], [((54, 580), (76, 611)), 0.0], [((180, 400), (184, 431)), 1.0], [((531, 409), (562, 431)), 0.0], [((504, 571), (517, 584)), 1], [((1215, 427), (1260, 458)), 0.0], [((81, 454), (112, 458)), 1.0], [((216, 427), (229, 449)), 0.0], [((675, 535), (706, 557)), 1.0], [((1178, 552), (1237, 615)), 0.0], [((1026, 526), (1030, 530)), 1], [((909, 427), (956, 463)), 0.0], [((801, 607), (832, 629)), 1.0]]\n",
      "[[((99, 490), (130, 512)), 1.0], [((836, 400), (1070, 494)), 235.0], [((981, 418), (1066, 503)), 1039.0], [((261, 427), (283, 458)), 0.0], [((855, 490), (859, 494)), 1.0], [((639, 616), (670, 638)), 1.0], [((1179, 571), (1210, 593)), 0.0], [((810, 598), (832, 602)), 1.0], [((999, 634), (1030, 656)), 1.0], [((1242, 445), (1273, 467)), 1.0], [((18, 463), (40, 467)), 1.0], [((459, 625), (490, 647)), 0.0], [((378, 445), (400, 476)), 0.0], [((1045, 476), (1127, 548)), 0.0], [((54, 580), (76, 611)), 0.0], [((180, 400), (184, 431)), 1.0], [((531, 409), (562, 431)), 0.0], [((504, 571), (517, 584)), 1], [((1215, 427), (1260, 458)), 0.0], [((81, 454), (112, 458)), 1.0], [((216, 427), (229, 449)), 0.0], [((675, 535), (706, 557)), 1.0], [((1178, 552), (1237, 615)), 0.0], [((1026, 526), (1030, 530)), 1], [((909, 427), (956, 463)), 0.0], [((801, 607), (832, 629)), 1.0]]\n",
      "[[((99, 490), (130, 512)), 2.0], [((855, 400), (976, 501)), 241.0], [((981, 418), (1066, 503)), 1037.0], [((261, 427), (283, 458)), 0.0], [((855, 490), (859, 494)), 2.0], [((639, 607), (670, 629)), 1.0], [((1179, 571), (1210, 593)), 0.0], [((810, 598), (832, 602)), 1.0], [((999, 634), (1030, 656)), 1.0], [((1242, 445), (1273, 467)), 1.0], [((18, 463), (40, 467)), 1.0], [((459, 625), (490, 647)), 0.0], [((378, 445), (400, 476)), 0.0], [((1045, 476), (1127, 548)), 0.0], [((54, 580), (76, 611)), 0.0], [((180, 400), (184, 431)), 1.0], [((531, 409), (562, 431)), 0.0], [((504, 571), (517, 584)), 1], [((1215, 427), (1260, 458)), 0.0], [((81, 454), (112, 458)), 1.0], [((216, 427), (229, 449)), 0.0], [((675, 535), (706, 557)), 1.0], [((1178, 552), (1237, 615)), 0.0], [((1026, 526), (1030, 530)), 1], [((909, 427), (956, 463)), 0.0], [((801, 607), (832, 629)), 1.0]]\n",
      "[[((234, 481), (265, 512)), 0.0], [((855, 400), (949, 482)), 245.0], [((981, 418), (1066, 503)), 1035.0], [((261, 427), (283, 458)), 0.0], [((810, 535), (841, 566)), 0.0], [((639, 607), (670, 629)), 1.0], [((1179, 571), (1210, 593)), 0.0], [((810, 598), (832, 602)), 1.0], [((999, 634), (1030, 656)), 1.0], [((1242, 445), (1273, 467)), 1.0], [((18, 463), (40, 467)), 1.0], [((459, 625), (490, 647)), 0.0], [((378, 445), (400, 476)), 0.0], [((1045, 476), (1127, 548)), 0.0], [((54, 580), (76, 611)), 0.0], [((180, 400), (184, 431)), 1.0], [((531, 409), (562, 431)), 0.0], [((504, 571), (517, 584)), 1], [((1215, 427), (1260, 458)), 0.0], [((81, 454), (112, 458)), 1.0], [((216, 427), (229, 449)), 0.0], [((675, 535), (706, 557)), 1.0], [((1178, 552), (1237, 615)), 0.0], [((1026, 526), (1030, 530)), 1], [((909, 427), (956, 463)), 0.0], [((801, 607), (832, 629)), 1.0]]\n",
      "[[((234, 481), (265, 512)), 0.0], [((855, 400), (949, 503)), 248.0], [((981, 418), (1066, 503)), 1033.0], [((261, 427), (283, 458)), 0.0], [((810, 535), (841, 566)), 0.0], [((639, 607), (670, 629)), 2.0], [((1179, 571), (1210, 593)), 0.0], [((810, 598), (832, 602)), 1.0], [((999, 634), (1030, 656)), 1.0], [((1242, 445), (1273, 467)), 1.0], [((18, 463), (40, 467)), 2.0], [((459, 625), (490, 647)), 0.0], [((378, 445), (400, 476)), 0.0], [((1045, 476), (1127, 548)), 0.0], [((54, 580), (76, 611)), 0.0], [((180, 400), (184, 431)), 1.0], [((531, 409), (562, 431)), 0.0], [((504, 571), (517, 584)), 1], [((1215, 427), (1260, 458)), 0.0], [((81, 454), (112, 458)), 1.0], [((216, 427), (229, 449)), 0.0], [((675, 535), (706, 557)), 1.0], [((1178, 552), (1237, 615)), 0.0], [((1026, 526), (1030, 530)), 1], [((909, 427), (956, 463)), 0.0], [((801, 607), (832, 629)), 1.0]]\n"
     ]
    },
    {
     "name": "stderr",
     "output_type": "stream",
     "text": [
      "\u001b[A\u001b[A\u001b[A\n",
      "\n",
      "\n",
      " 67%|██████▋   | 764/1136 [03:27<01:10,  5.31it/s]\u001b[A\u001b[A\u001b[A\n",
      "\n",
      "\n",
      " 68%|██████▊   | 773/1136 [03:27<00:49,  7.37it/s]"
     ]
    },
    {
     "name": "stdout",
     "output_type": "stream",
     "text": [
      "[[((234, 481), (265, 512)), 0.0], [((855, 400), (1057, 485)), 250.0], [((981, 418), (1066, 503)), 1031.0], [((261, 427), (283, 458)), 0.0], [((810, 535), (841, 566)), 0.0], [((711, 616), (760, 656)), 0.0], [((1179, 571), (1210, 593)), 0.0], [((810, 598), (832, 602)), 1.0], [((999, 634), (1030, 656)), 1.0], [((1242, 445), (1273, 467)), 1.0], [((72, 490), (103, 512)), 0.0], [((459, 625), (490, 647)), 0.0], [((378, 445), (400, 476)), 0.0], [((1045, 476), (1127, 548)), 0.0], [((54, 580), (76, 611)), 0.0], [((180, 400), (184, 431)), 1.0], [((531, 409), (562, 431)), 0.0], [((504, 571), (517, 584)), 1], [((1215, 427), (1260, 458)), 0.0], [((81, 454), (112, 458)), 1.0], [((216, 427), (229, 449)), 0.0], [((675, 535), (706, 557)), 1.0], [((1178, 552), (1237, 615)), 0.0], [((1026, 526), (1030, 530)), 1], [((909, 427), (956, 463)), 0.0], [((801, 607), (832, 629)), 1.0]]\n",
      "[[((234, 481), (265, 512)), 0.0], [((819, 400), (976, 501)), 252.0], [((981, 418), (1066, 503)), 1029.0], [((261, 427), (283, 458)), 0.0], [((810, 535), (841, 566)), 0.0], [((711, 616), (760, 656)), 0.0], [((1179, 571), (1210, 593)), 0.0], [((810, 598), (832, 602)), 1.0], [((999, 634), (1030, 656)), 1.0], [((1242, 445), (1273, 467)), 1.0], [((72, 490), (103, 512)), 0.0], [((459, 625), (490, 647)), 0.0], [((378, 445), (400, 476)), 0.0], [((1045, 476), (1127, 548)), 0.0], [((54, 580), (76, 611)), 0.0], [((180, 400), (184, 431)), 1.0], [((531, 409), (562, 431)), 0.0], [((504, 571), (517, 584)), 1], [((1215, 427), (1260, 458)), 0.0], [((81, 454), (112, 458)), 1.0], [((216, 427), (229, 449)), 0.0], [((675, 535), (706, 557)), 1.0], [((1178, 552), (1237, 615)), 0.0], [((1026, 526), (1030, 530)), 1], [((909, 427), (956, 463)), 0.0], [((801, 607), (832, 629)), 1.0]]\n",
      "[[((234, 481), (265, 512)), 1.0], [((819, 400), (994, 512)), 255.0], [((981, 418), (1066, 503)), 1027.0], [((261, 427), (283, 458)), 0.0], [((810, 535), (841, 566)), 0.0], [((711, 616), (760, 656)), 0.0], [((1179, 571), (1210, 593)), 0.0], [((810, 598), (832, 602)), 1.0], [((999, 634), (1030, 656)), 1.0], [((1242, 445), (1273, 467)), 1.0], [((72, 490), (103, 512)), 0.0], [((459, 625), (490, 647)), 0.0], [((378, 445), (400, 476)), 0.0], [((1045, 476), (1127, 548)), 0.0], [((54, 580), (76, 611)), 0.0], [((180, 400), (184, 431)), 1.0], [((531, 409), (562, 431)), 0.0], [((504, 571), (517, 584)), 1], [((1215, 427), (1260, 458)), 0.0], [((81, 454), (112, 458)), 1.0], [((216, 427), (229, 449)), 0.0], [((675, 535), (706, 557)), 1.0], [((1178, 552), (1237, 615)), 0.0], [((1026, 526), (1030, 530)), 1], [((909, 427), (956, 463)), 0.0], [((801, 607), (832, 629)), 1.0]]\n",
      "[[((153, 499), (184, 512)), 1.0], [((855, 400), (958, 512)), 258.0], [((981, 418), (1066, 503)), 1025.0], [((261, 427), (283, 458)), 0.0], [((810, 535), (841, 566)), 0.0], [((711, 616), (760, 656)), 0.0], [((1179, 571), (1210, 593)), 0.0], [((810, 598), (832, 602)), 1.0], [((999, 634), (1030, 656)), 1.0], [((1242, 445), (1273, 467)), 1.0], [((72, 490), (103, 512)), 0.0], [((459, 625), (490, 647)), 0.0], [((378, 445), (400, 476)), 0.0], [((1045, 476), (1127, 548)), 0.0], [((54, 580), (76, 611)), 0.0], [((180, 400), (184, 431)), 1.0], [((531, 409), (562, 431)), 0.0], [((504, 571), (517, 584)), 1], [((1215, 427), (1260, 458)), 0.0], [((81, 454), (112, 458)), 1.0], [((216, 427), (229, 449)), 0.0], [((675, 535), (706, 557)), 1.0], [((1178, 552), (1237, 615)), 0.0], [((1026, 526), (1030, 530)), 1], [((909, 427), (956, 463)), 0.0], [((801, 607), (832, 629)), 1.0]]\n",
      "[[((153, 499), (184, 512)), 2.0], [((836, 400), (958, 520)), 260.0], [((981, 418), (1066, 503)), 1023.0], [((261, 427), (283, 458)), 0.0], [((810, 535), (841, 566)), 0.0], [((711, 616), (760, 656)), 0.0], [((1179, 571), (1210, 593)), 0.0], [((810, 598), (832, 602)), 1.0], [((999, 634), (1030, 656)), 1.0], [((1242, 445), (1273, 467)), 1.0], [((72, 490), (103, 512)), 0.0], [((459, 625), (490, 647)), 0.0], [((378, 445), (400, 476)), 0.0], [((1045, 476), (1127, 548)), 0.0], [((54, 580), (76, 611)), 0.0], [((180, 400), (184, 431)), 1.0], [((531, 409), (562, 431)), 0.0], [((504, 571), (517, 584)), 1], [((1215, 427), (1260, 458)), 0.0], [((81, 454), (112, 458)), 1.0], [((216, 427), (229, 449)), 0.0], [((675, 535), (706, 557)), 1.0], [((1178, 552), (1237, 615)), 0.0], [((1026, 526), (1030, 530)), 1], [((909, 427), (956, 463)), 0.0], [((801, 607), (832, 629)), 1.0]]\n",
      "[[((225, 490), (256, 512)), 3.0], [((836, 400), (956, 512)), 261.0], [((981, 418), (1066, 503)), 1021.0], [((261, 427), (283, 458)), 0.0], [((810, 535), (841, 566)), 0.0], [((711, 616), (760, 656)), 0.0], [((1179, 571), (1210, 593)), 0.0], [((810, 598), (832, 602)), 1.0], [((999, 634), (1030, 656)), 1.0], [((1242, 445), (1273, 467)), 1.0], [((72, 490), (103, 512)), 0.0], [((459, 625), (490, 647)), 0.0], [((378, 445), (400, 476)), 0.0], [((1045, 476), (1127, 548)), 0.0], [((54, 580), (76, 611)), 0.0], [((180, 400), (184, 431)), 1.0], [((531, 409), (562, 431)), 0.0], [((504, 571), (517, 584)), 1], [((1215, 427), (1260, 458)), 0.0], [((81, 454), (112, 458)), 1.0], [((216, 427), (229, 449)), 0.0], [((675, 535), (706, 557)), 1.0], [((1178, 552), (1237, 615)), 0.0], [((1026, 526), (1030, 530)), 1], [((909, 427), (956, 463)), 0.0], [((801, 607), (832, 629)), 1.0]]\n",
      "[[((153, 481), (166, 512)), 1.0], [((836, 400), (1070, 512)), 263.0], [((981, 418), (1066, 503)), 1019.0], [((261, 427), (283, 458)), 0.0], [((810, 535), (841, 566)), 0.0], [((711, 616), (760, 656)), 0.0], [((1179, 571), (1210, 593)), 0.0], [((810, 598), (832, 602)), 1.0], [((999, 634), (1030, 656)), 1.0], [((1242, 445), (1273, 467)), 1.0], [((72, 490), (103, 512)), 0.0], [((459, 625), (490, 647)), 0.0], [((378, 445), (400, 476)), 0.0], [((1045, 476), (1127, 548)), 0.0], [((54, 580), (76, 611)), 0.0], [((180, 400), (184, 431)), 1.0], [((531, 409), (562, 431)), 0.0], [((504, 571), (517, 584)), 1], [((1215, 427), (1260, 458)), 0.0], [((81, 454), (112, 458)), 1.0], [((216, 427), (229, 449)), 0.0], [((675, 535), (706, 557)), 1.0], [((1178, 552), (1237, 615)), 0.0], [((1026, 526), (1030, 530)), 1], [((909, 427), (956, 463)), 0.0], [((801, 607), (832, 629)), 1.0]]\n",
      "[[((153, 481), (166, 512)), 1.0], [((836, 400), (958, 503)), 266.0], [((981, 418), (1066, 503)), 1017.0], [((261, 427), (283, 458)), 0.0], [((810, 535), (841, 566)), 0.0], [((711, 616), (760, 656)), 0.0], [((1179, 571), (1210, 593)), 0.0], [((810, 598), (832, 602)), 1.0], [((999, 634), (1030, 656)), 1.0], [((1242, 445), (1273, 467)), 1.0], [((72, 490), (103, 512)), 0.0], [((459, 625), (490, 647)), 0.0], [((378, 445), (400, 476)), 0.0], [((1045, 476), (1127, 548)), 0.0], [((54, 580), (76, 611)), 0.0], [((180, 400), (184, 431)), 1.0], [((531, 409), (562, 431)), 0.0], [((504, 571), (517, 584)), 1], [((1215, 427), (1260, 458)), 0.0], [((81, 454), (112, 458)), 1.0], [((216, 427), (229, 449)), 0.0], [((675, 535), (706, 557)), 1.0], [((1178, 552), (1237, 615)), 0.0], [((1026, 526), (1030, 530)), 1], [((909, 427), (956, 463)), 0.0], [((801, 607), (832, 629)), 1.0]]\n",
      "[[((153, 481), (166, 512)), 1.0], [((836, 400), (956, 503)), 267.0], [((981, 418), (1066, 503)), 1015.0], [((261, 427), (283, 458)), 0.0], [((810, 535), (841, 566)), 0.0], [((711, 616), (760, 656)), 0.0], [((1179, 571), (1210, 593)), 0.0], [((810, 598), (832, 602)), 1.0], [((999, 634), (1030, 656)), 1.0], [((1242, 445), (1273, 467)), 1.0], [((72, 490), (103, 512)), 0.0], [((459, 625), (490, 647)), 0.0], [((378, 445), (400, 476)), 0.0], [((1045, 476), (1127, 548)), 0.0], [((54, 580), (76, 611)), 0.0], [((180, 400), (184, 431)), 1.0], [((531, 409), (562, 431)), 0.0], [((504, 571), (517, 584)), 1], [((1215, 427), (1260, 458)), 0.0], [((81, 454), (112, 458)), 1.0], [((216, 427), (229, 449)), 0.0], [((675, 535), (706, 557)), 1.0], [((1178, 552), (1237, 615)), 0.0], [((1026, 526), (1030, 530)), 1], [((909, 427), (956, 463)), 0.0], [((801, 607), (832, 629)), 1.0]]\n",
      "[[((153, 481), (166, 512)), 1.0], [((836, 400), (1089, 501)), 268.0], [((981, 418), (1066, 503)), 1013.0], [((261, 427), (283, 458)), 0.0], [((810, 535), (841, 566)), 0.0], [((711, 616), (760, 656)), 0.0], [((1179, 571), (1210, 593)), 0.0], [((810, 598), (832, 602)), 1.0], [((999, 634), (1030, 656)), 1.0], [((1242, 445), (1273, 467)), 1.0], [((72, 490), (103, 512)), 0.0], [((459, 625), (490, 647)), 0.0], [((378, 445), (400, 476)), 0.0], [((1045, 476), (1127, 548)), 0.0], [((54, 580), (76, 611)), 0.0], [((180, 400), (184, 431)), 1.0], [((531, 409), (562, 431)), 0.0], [((504, 571), (517, 584)), 1], [((1215, 427), (1260, 458)), 0.0], [((81, 454), (112, 458)), 1.0], [((216, 427), (229, 449)), 0.0], [((675, 535), (706, 557)), 1.0], [((1178, 552), (1237, 615)), 0.0], [((1026, 526), (1030, 530)), 1], [((909, 427), (956, 463)), 0.0], [((801, 607), (832, 629)), 1.0]]\n",
      "[[((153, 481), (166, 512)), 1.0], [((836, 400), (1070, 501)), 271.0], [((981, 418), (1066, 503)), 1011.0], [((261, 427), (283, 458)), 0.0], [((810, 535), (841, 566)), 0.0], [((711, 616), (760, 656)), 0.0], [((1179, 571), (1210, 593)), 0.0], [((810, 598), (832, 602)), 1.0], [((999, 634), (1030, 656)), 1.0], [((1242, 445), (1273, 467)), 1.0], [((72, 490), (103, 512)), 0.0], [((459, 625), (490, 647)), 0.0], [((378, 445), (400, 476)), 0.0], [((1045, 476), (1127, 548)), 0.0], [((54, 580), (76, 611)), 0.0], [((180, 400), (184, 431)), 1.0], [((531, 409), (562, 431)), 0.0], [((504, 571), (517, 584)), 1], [((1215, 427), (1260, 458)), 0.0], [((81, 454), (112, 458)), 1.0], [((216, 427), (229, 449)), 0.0], [((675, 535), (706, 557)), 1.0], [((1178, 552), (1237, 615)), 0.0], [((1026, 526), (1030, 530)), 1], [((909, 427), (956, 463)), 0.0], [((801, 607), (832, 629)), 1.0]]\n",
      "[[((153, 481), (166, 512)), 1.0], [((836, 400), (1070, 501)), 272.0], [((981, 418), (1066, 503)), 1009.0], [((261, 427), (283, 458)), 0.0], [((810, 535), (841, 566)), 0.0], [((711, 616), (760, 656)), 0.0], [((1179, 571), (1210, 593)), 0.0], [((810, 598), (832, 602)), 1.0], [((999, 634), (1030, 656)), 1.0], [((1242, 445), (1273, 467)), 1.0], [((72, 490), (103, 512)), 0.0], [((459, 625), (490, 647)), 0.0], [((378, 445), (400, 476)), 0.0], [((1045, 476), (1127, 548)), 0.0], [((54, 580), (76, 611)), 0.0], [((180, 400), (184, 431)), 1.0], [((531, 409), (562, 431)), 0.0], [((504, 571), (517, 584)), 1], [((1215, 427), (1260, 458)), 0.0], [((81, 454), (112, 458)), 1.0], [((216, 427), (229, 449)), 0.0], [((675, 535), (706, 557)), 1.0], [((1178, 552), (1237, 615)), 0.0], [((1026, 526), (1030, 530)), 1], [((909, 427), (956, 463)), 0.0], [((801, 607), (832, 629)), 1.0]]\n",
      "[[((153, 481), (166, 512)), 1.0], [((836, 400), (1093, 494)), 276.0], [((981, 418), (1066, 503)), 1007.0], [((261, 427), (283, 458)), 0.0], [((810, 535), (841, 566)), 0.0], [((711, 616), (760, 656)), 0.0], [((1179, 571), (1210, 593)), 0.0], [((810, 598), (832, 602)), 1.0], [((999, 634), (1030, 656)), 1.0], [((1242, 445), (1273, 467)), 1.0], [((72, 490), (103, 512)), 0.0], [((459, 625), (490, 647)), 0.0], [((378, 445), (400, 476)), 0.0], [((1045, 476), (1127, 548)), 0.0], [((54, 580), (76, 611)), 0.0], [((180, 400), (184, 431)), 1.0], [((531, 409), (562, 431)), 0.0], [((504, 571), (517, 584)), 1], [((1215, 427), (1260, 458)), 0.0], [((81, 454), (112, 458)), 1.0], [((216, 427), (229, 449)), 0.0], [((675, 535), (706, 557)), 1.0], [((1178, 552), (1237, 615)), 0.0], [((1026, 526), (1030, 530)), 1], [((909, 427), (956, 463)), 0.0], [((801, 607), (832, 629)), 1.0]]\n",
      "[[((153, 481), (166, 512)), 1.0], [((836, 400), (958, 494)), 281.0], [((981, 418), (1066, 503)), 1005.0], [((261, 427), (283, 458)), 0.0], [((810, 535), (841, 566)), 0.0], [((711, 616), (760, 656)), 0.0], [((1179, 571), (1210, 593)), 0.0], [((810, 598), (832, 602)), 1.0], [((999, 634), (1030, 656)), 1.0], [((1242, 445), (1273, 467)), 1.0], [((72, 490), (103, 512)), 0.0], [((459, 625), (490, 647)), 0.0], [((378, 445), (400, 476)), 0.0], [((1045, 476), (1127, 548)), 0.0], [((54, 580), (76, 611)), 0.0], [((180, 400), (184, 431)), 1.0], [((531, 409), (562, 431)), 0.0], [((504, 571), (517, 584)), 1], [((1215, 427), (1260, 458)), 0.0], [((81, 454), (112, 458)), 1.0], [((216, 427), (229, 449)), 0.0], [((675, 535), (706, 557)), 1.0], [((1178, 552), (1237, 615)), 0.0], [((1026, 526), (1030, 530)), 1], [((909, 427), (956, 463)), 0.0], [((801, 607), (832, 629)), 1.0]]\n",
      "[[((153, 481), (166, 512)), 1.0], [((836, 400), (940, 494)), 284.0], [((981, 418), (1066, 503)), 1003.0], [((261, 427), (283, 458)), 0.0], [((810, 535), (841, 566)), 0.0], [((711, 616), (760, 656)), 0.0], [((1179, 571), (1210, 593)), 0.0], [((810, 598), (832, 602)), 1.0], [((999, 634), (1030, 656)), 1.0], [((1242, 445), (1273, 467)), 1.0], [((72, 490), (103, 512)), 0.0], [((459, 625), (490, 647)), 0.0], [((378, 445), (400, 476)), 0.0], [((1045, 476), (1127, 548)), 0.0], [((54, 580), (76, 611)), 0.0], [((180, 400), (184, 431)), 1.0], [((531, 409), (562, 431)), 0.0], [((504, 571), (517, 584)), 1], [((1215, 427), (1260, 458)), 0.0], [((81, 454), (112, 458)), 1.0], [((216, 427), (229, 449)), 0.0], [((675, 535), (706, 557)), 1.0], [((1178, 552), (1237, 615)), 0.0], [((1026, 526), (1030, 530)), 1], [((909, 427), (956, 463)), 0.0], [((801, 607), (832, 629)), 1.0]]\n",
      "[[((153, 481), (166, 512)), 1.0], [((836, 400), (958, 501)), 285.0], [((981, 418), (1066, 503)), 1001.0], [((261, 427), (283, 458)), 0.0], [((810, 535), (841, 566)), 0.0], [((711, 616), (760, 656)), 0.0], [((1179, 571), (1210, 593)), 0.0], [((810, 598), (832, 602)), 1.0], [((999, 634), (1030, 656)), 1.0], [((1242, 445), (1273, 467)), 1.0], [((72, 490), (103, 512)), 0.0], [((459, 625), (490, 647)), 0.0], [((378, 445), (400, 476)), 0.0], [((1045, 476), (1127, 548)), 0.0], [((54, 580), (76, 611)), 0.0], [((180, 400), (184, 431)), 1.0], [((531, 409), (562, 431)), 0.0], [((504, 571), (517, 584)), 1], [((1215, 427), (1260, 458)), 0.0], [((81, 454), (112, 458)), 1.0], [((216, 427), (229, 449)), 0.0], [((675, 535), (706, 557)), 1.0], [((1178, 552), (1237, 615)), 0.0], [((1026, 526), (1030, 530)), 1], [((909, 427), (956, 463)), 0.0], [((801, 607), (832, 629)), 1.0]]\n"
     ]
    },
    {
     "name": "stderr",
     "output_type": "stream",
     "text": [
      "\u001b[A\u001b[A\u001b[A\n",
      "\n",
      "\n",
      " 69%|██████▊   | 780/1136 [03:27<00:35, 10.07it/s]\u001b[A\u001b[A\u001b[A\n",
      "\n",
      "\n",
      " 69%|██████▉   | 785/1136 [03:27<00:27, 12.94it/s]"
     ]
    },
    {
     "name": "stdout",
     "output_type": "stream",
     "text": [
      "[[((153, 481), (166, 512)), 1.0], [((819, 400), (1102, 501)), 286.0], [((981, 418), (1066, 503)), 999.0], [((261, 427), (283, 458)), 0.0], [((810, 535), (841, 566)), 0.0], [((711, 616), (760, 656)), 0.0], [((1179, 571), (1210, 593)), 0.0], [((810, 598), (832, 602)), 1.0], [((999, 634), (1030, 656)), 1.0], [((1242, 445), (1273, 467)), 1.0], [((72, 490), (103, 512)), 0.0], [((459, 625), (490, 647)), 0.0], [((378, 445), (400, 476)), 0.0], [((1045, 476), (1127, 548)), 0.0], [((54, 580), (76, 611)), 0.0], [((180, 400), (184, 431)), 1.0], [((531, 409), (562, 431)), 0.0], [((504, 571), (517, 584)), 1], [((1215, 427), (1260, 458)), 0.0], [((81, 454), (112, 458)), 1.0], [((216, 427), (229, 449)), 0.0], [((675, 535), (706, 557)), 1.0], [((1178, 552), (1237, 615)), 0.0], [((1026, 526), (1030, 530)), 1], [((909, 427), (956, 463)), 0.0], [((801, 607), (832, 629)), 1.0]]\n",
      "[[((153, 481), (166, 512)), 2.0], [((819, 400), (1102, 494)), 289.0], [((981, 418), (1066, 503)), 997.0], [((261, 427), (283, 458)), 0.0], [((810, 535), (841, 566)), 1.0], [((711, 616), (760, 656)), 0.0], [((1179, 571), (1210, 593)), 0.0], [((810, 598), (832, 602)), 1.0], [((999, 634), (1030, 656)), 1.0], [((1242, 445), (1273, 467)), 1.0], [((72, 490), (103, 512)), 0.0], [((459, 625), (490, 647)), 0.0], [((378, 445), (400, 476)), 0.0], [((1045, 476), (1127, 548)), 0.0], [((54, 580), (76, 611)), 0.0], [((180, 400), (184, 431)), 1.0], [((531, 409), (562, 431)), 0.0], [((504, 571), (517, 584)), 1], [((1215, 427), (1260, 458)), 0.0], [((81, 454), (112, 458)), 1.0], [((216, 427), (229, 449)), 0.0], [((675, 535), (706, 557)), 1.0], [((1178, 552), (1237, 615)), 0.0], [((1026, 526), (1030, 530)), 1], [((909, 427), (956, 463)), 0.0], [((801, 607), (832, 629)), 1.0]]\n",
      "[[((171, 472), (202, 521)), 0.0], [((836, 400), (1089, 501)), 290.0], [((981, 418), (1066, 503)), 995.0], [((261, 427), (283, 458)), 0.0], [((810, 553), (823, 575)), 1.0], [((711, 616), (760, 656)), 0.0], [((1179, 571), (1210, 593)), 0.0], [((810, 598), (832, 602)), 1.0], [((999, 634), (1030, 656)), 1.0], [((1242, 445), (1273, 467)), 1.0], [((72, 490), (103, 512)), 0.0], [((459, 625), (490, 647)), 0.0], [((378, 445), (400, 476)), 0.0], [((1045, 476), (1127, 548)), 0.0], [((54, 580), (76, 611)), 0.0], [((180, 400), (184, 431)), 1.0], [((531, 409), (562, 431)), 0.0], [((504, 571), (517, 584)), 1], [((1215, 427), (1260, 458)), 0.0], [((81, 454), (112, 458)), 1.0], [((216, 427), (229, 449)), 0.0], [((675, 535), (706, 557)), 1.0], [((1178, 552), (1237, 615)), 0.0], [((1026, 526), (1030, 530)), 1], [((909, 427), (956, 463)), 0.0], [((801, 607), (832, 629)), 1.0]]\n",
      "[[((171, 472), (202, 521)), 0.0], [((836, 400), (1089, 494)), 294.0], [((981, 418), (1066, 503)), 993.0], [((261, 427), (283, 458)), 0.0], [((810, 553), (823, 575)), 1.0], [((711, 616), (760, 656)), 0.0], [((1179, 571), (1210, 593)), 0.0], [((810, 598), (832, 602)), 1.0], [((999, 634), (1030, 656)), 1.0], [((1242, 445), (1273, 467)), 1.0], [((72, 490), (103, 512)), 0.0], [((459, 625), (490, 647)), 0.0], [((378, 445), (400, 476)), 0.0], [((1045, 476), (1127, 548)), 0.0], [((54, 580), (76, 611)), 0.0], [((180, 400), (184, 431)), 1.0], [((531, 409), (562, 431)), 0.0], [((504, 571), (517, 584)), 1], [((1215, 427), (1260, 458)), 0.0], [((81, 454), (112, 458)), 1.0], [((216, 427), (229, 449)), 0.0], [((675, 535), (706, 557)), 1.0], [((1178, 552), (1237, 615)), 0.0], [((1026, 526), (1030, 530)), 1], [((909, 427), (956, 463)), 0.0], [((801, 607), (832, 629)), 1.0]]\n",
      "[[((171, 472), (202, 521)), 1.0], [((836, 400), (1013, 494)), 299.0], [((981, 418), (1066, 503)), 991.0], [((261, 427), (283, 458)), 0.0], [((810, 553), (823, 575)), 1.0], [((711, 616), (760, 656)), 0.0], [((1179, 571), (1210, 593)), 0.0], [((810, 598), (832, 602)), 1.0], [((999, 634), (1030, 656)), 1.0], [((1242, 445), (1273, 467)), 1.0], [((72, 490), (103, 512)), 0.0], [((459, 625), (490, 647)), 0.0], [((378, 445), (400, 476)), 0.0], [((1045, 476), (1127, 548)), 0.0], [((54, 580), (76, 611)), 0.0], [((180, 400), (184, 431)), 1.0], [((531, 409), (562, 431)), 0.0], [((504, 571), (517, 584)), 1], [((1215, 427), (1260, 458)), 0.0], [((81, 454), (112, 458)), 1.0], [((216, 427), (229, 449)), 0.0], [((675, 535), (706, 557)), 1.0], [((1178, 552), (1237, 615)), 0.0], [((1026, 526), (1030, 530)), 1], [((909, 427), (956, 463)), 0.0], [((801, 607), (832, 629)), 1.0]]\n",
      "[[((162, 463), (202, 494)), 1.0], [((836, 400), (994, 494)), 301.0], [((981, 418), (1066, 503)), 989.0], [((261, 427), (283, 458)), 0.0], [((810, 553), (823, 575)), 1.0], [((711, 616), (760, 656)), 0.0], [((1179, 571), (1210, 593)), 0.0], [((810, 598), (832, 602)), 1.0], [((999, 634), (1030, 656)), 1.0], [((1242, 445), (1273, 467)), 1.0], [((72, 490), (103, 512)), 0.0], [((459, 625), (490, 647)), 0.0], [((378, 445), (400, 476)), 0.0], [((1045, 476), (1127, 548)), 0.0], [((54, 580), (76, 611)), 0.0], [((180, 400), (184, 431)), 1.0], [((531, 409), (562, 431)), 0.0], [((504, 571), (517, 584)), 1], [((1215, 427), (1260, 458)), 0.0], [((81, 454), (112, 458)), 1.0], [((216, 427), (229, 449)), 0.0], [((675, 535), (706, 557)), 1.0], [((1178, 552), (1237, 615)), 0.0], [((1026, 526), (1030, 530)), 1], [((909, 427), (956, 463)), 0.0], [((801, 607), (832, 629)), 1.0]]\n",
      "[[((162, 463), (202, 494)), 1.0], [((855, 400), (994, 501)), 303.0], [((981, 418), (1066, 503)), 987.0], [((261, 427), (283, 458)), 0.0], [((810, 553), (823, 575)), 4.0], [((711, 616), (760, 656)), 0.0], [((1179, 571), (1210, 593)), 0.0], [((810, 598), (832, 602)), 1.0], [((999, 634), (1030, 656)), 1.0], [((1242, 445), (1273, 467)), 1.0], [((72, 490), (103, 512)), 0.0], [((459, 625), (490, 647)), 0.0], [((378, 445), (400, 476)), 0.0], [((1045, 476), (1127, 548)), 0.0], [((54, 580), (76, 611)), 0.0], [((180, 400), (184, 431)), 1.0], [((531, 409), (562, 431)), 0.0], [((504, 571), (517, 584)), 1], [((1215, 427), (1260, 458)), 0.0], [((81, 454), (112, 458)), 1.0], [((216, 427), (229, 449)), 0.0], [((675, 535), (706, 557)), 1.0], [((1178, 552), (1237, 615)), 0.0], [((1026, 526), (1030, 530)), 1], [((909, 427), (956, 463)), 0.0], [((801, 607), (832, 629)), 1.0]]\n",
      "[[((162, 463), (202, 494)), 1.0], [((846, 400), (958, 503)), 305.0], [((981, 418), (1066, 503)), 985.0], [((261, 427), (283, 458)), 0.0], [((729, 607), (760, 638)), 5.0], [((711, 616), (760, 656)), 0.0], [((1179, 571), (1210, 593)), 0.0], [((810, 598), (832, 602)), 1.0], [((999, 634), (1030, 656)), 1.0], [((1242, 445), (1273, 467)), 1.0], [((72, 490), (103, 512)), 0.0], [((459, 625), (490, 647)), 0.0], [((378, 445), (400, 476)), 0.0], [((1045, 476), (1127, 548)), 0.0], [((54, 580), (76, 611)), 0.0], [((180, 400), (184, 431)), 1.0], [((531, 409), (562, 431)), 0.0], [((504, 571), (517, 584)), 1], [((1215, 427), (1260, 458)), 0.0], [((81, 454), (112, 458)), 1.0], [((216, 427), (229, 449)), 0.0], [((675, 535), (706, 557)), 1.0], [((1178, 552), (1237, 615)), 0.0], [((1026, 526), (1030, 530)), 1], [((909, 427), (956, 463)), 0.0], [((801, 607), (832, 629)), 1.0]]\n",
      "[[((162, 463), (202, 494)), 1.0], [((846, 409), (967, 503)), 307.0], [((981, 418), (1066, 503)), 987.0], [((261, 427), (283, 458)), 0.0], [((711, 526), (733, 548)), 3.0], [((711, 616), (760, 656)), 0.0], [((1179, 571), (1210, 593)), 0.0], [((810, 598), (832, 602)), 1.0], [((999, 634), (1030, 656)), 1.0], [((1242, 445), (1273, 467)), 1.0], [((72, 490), (103, 512)), 0.0], [((459, 625), (490, 647)), 0.0], [((378, 445), (400, 476)), 0.0], [((1045, 476), (1127, 548)), 0.0], [((54, 580), (76, 611)), 0.0], [((180, 400), (184, 431)), 1.0], [((531, 409), (562, 431)), 0.0], [((504, 571), (517, 584)), 1], [((1215, 427), (1260, 458)), 0.0], [((81, 454), (112, 458)), 1.0], [((216, 427), (229, 449)), 0.0], [((675, 535), (706, 557)), 1.0], [((1178, 552), (1237, 615)), 0.0], [((1026, 526), (1030, 530)), 1], [((909, 427), (956, 463)), 0.0], [((801, 607), (832, 629)), 1.0]]"
     ]
    },
    {
     "name": "stderr",
     "output_type": "stream",
     "text": [
      "\u001b[A\u001b[A\u001b[A\n",
      "\n",
      "\n",
      " 70%|██████▉   | 791/1136 [03:27<00:20, 16.79it/s]\u001b[A\u001b[A\u001b[A\n",
      "\n",
      "\n",
      " 70%|███████   | 798/1136 [03:27<00:15, 21.63it/s]"
     ]
    },
    {
     "name": "stdout",
     "output_type": "stream",
     "text": [
      "\n",
      "[[((162, 463), (202, 494)), 2.0], [((836, 400), (958, 501)), 309.0], [((1035, 436), (1108, 485)), 988.0], [((261, 427), (283, 458)), 0.0], [((711, 526), (733, 548)), 4.0], [((711, 616), (760, 656)), 0.0], [((1179, 571), (1210, 593)), 0.0], [((810, 598), (832, 602)), 1.0], [((999, 634), (1030, 656)), 1.0], [((1242, 445), (1273, 467)), 1.0], [((72, 490), (103, 512)), 0.0], [((459, 625), (490, 647)), 1.0], [((378, 445), (400, 476)), 0.0], [((1045, 476), (1127, 548)), 0.0], [((54, 580), (76, 611)), 0.0], [((180, 400), (184, 431)), 1.0], [((531, 409), (562, 431)), 0.0], [((504, 571), (517, 584)), 1], [((1215, 427), (1260, 458)), 0.0], [((81, 454), (112, 458)), 1.0], [((216, 427), (229, 449)), 0.0], [((675, 535), (706, 557)), 1.0], [((1178, 552), (1237, 615)), 0.0], [((1026, 526), (1030, 530)), 1], [((909, 427), (956, 463)), 0.0], [((801, 607), (832, 629)), 1.0]]\n",
      "[[((225, 472), (256, 494)), 0.0], [((836, 400), (949, 501)), 311.0], [((1017, 419), (1093, 482)), 989.0], [((261, 427), (283, 458)), 0.0], [((729, 607), (778, 647)), 5.0], [((711, 616), (760, 656)), 0.0], [((1179, 571), (1210, 593)), 0.0], [((810, 598), (832, 602)), 1.0], [((999, 634), (1030, 656)), 1.0], [((1242, 445), (1273, 467)), 1.0], [((72, 490), (103, 512)), 0.0], [((459, 616), (472, 638)), 1.0], [((378, 445), (400, 476)), 0.0], [((1045, 476), (1127, 548)), 0.0], [((54, 580), (76, 611)), 0.0], [((180, 400), (184, 431)), 1.0], [((531, 409), (562, 431)), 0.0], [((504, 571), (517, 584)), 1], [((1215, 427), (1260, 458)), 0.0], [((81, 454), (112, 458)), 1.0], [((216, 427), (229, 449)), 0.0], [((675, 535), (706, 557)), 1.0], [((1178, 552), (1237, 615)), 0.0], [((1026, 526), (1030, 530)), 1], [((909, 427), (956, 463)), 0.0], [((801, 607), (832, 629)), 1.0]]\n",
      "[[((225, 472), (256, 494)), 1.0], [((846, 400), (958, 482)), 313.0], [((1026, 419), (1102, 482)), 990.0], [((261, 427), (283, 458)), 0.0], [((774, 598), (805, 620)), 3.0], [((711, 616), (760, 656)), 0.0], [((1179, 571), (1210, 593)), 0.0], [((810, 598), (832, 602)), 1.0], [((999, 634), (1030, 656)), 1.0], [((1242, 445), (1273, 467)), 1.0], [((72, 490), (103, 512)), 0.0], [((459, 616), (472, 638)), 1.0], [((378, 445), (400, 476)), 0.0], [((1045, 476), (1127, 548)), 0.0], [((54, 580), (76, 611)), 0.0], [((180, 400), (184, 431)), 1.0], [((531, 409), (562, 431)), 0.0], [((504, 571), (517, 584)), 1], [((1215, 427), (1260, 458)), 0.0], [((81, 454), (112, 458)), 1.0], [((216, 427), (229, 449)), 0.0], [((675, 535), (706, 557)), 1.0], [((1178, 552), (1237, 615)), 0.0], [((1026, 526), (1030, 530)), 1], [((909, 427), (956, 463)), 0.0], [((801, 607), (832, 629)), 1.0]]\n",
      "[[((108, 481), (139, 482)), 2.0], [((837, 400), (958, 494)), 315.0], [((1026, 419), (1108, 482)), 988.0], [((261, 427), (283, 458)), 0.0], [((774, 598), (805, 620)), 1.0], [((711, 616), (760, 656)), 0.0], [((1179, 571), (1210, 593)), 0.0], [((810, 598), (832, 602)), 1.0], [((999, 634), (1030, 656)), 1.0], [((1242, 445), (1273, 467)), 1.0], [((72, 490), (103, 512)), 0.0], [((459, 616), (472, 638)), 1.0], [((378, 445), (400, 476)), 0.0], [((1045, 476), (1127, 548)), 0.0], [((54, 580), (76, 611)), 0.0], [((180, 400), (184, 431)), 1.0], [((531, 409), (562, 431)), 0.0], [((504, 571), (517, 584)), 1], [((1215, 427), (1260, 458)), 0.0], [((81, 454), (112, 458)), 1.0], [((216, 427), (229, 449)), 0.0], [((675, 535), (706, 557)), 1.0], [((1178, 552), (1237, 615)), 0.0], [((1026, 526), (1030, 530)), 1], [((909, 427), (956, 463)), 0.0], [((801, 607), (832, 629)), 1.0]]\n",
      "[[((126, 490), (157, 494)), 0.0], [((837, 400), (958, 501)), 317.0], [((1026, 419), (1108, 482)), 986.0], [((261, 427), (283, 458)), 0.0], [((774, 598), (805, 620)), 1.0], [((711, 616), (760, 656)), 0.0], [((1179, 571), (1210, 593)), 0.0], [((810, 598), (832, 602)), 1.0], [((999, 634), (1030, 656)), 1.0], [((1242, 445), (1273, 467)), 1.0], [((72, 490), (103, 512)), 0.0], [((459, 616), (472, 638)), 1.0], [((378, 445), (400, 476)), 0.0], [((1045, 476), (1127, 548)), 0.0], [((54, 580), (76, 611)), 0.0], [((180, 400), (184, 431)), 1.0], [((531, 409), (562, 431)), 0.0], [((504, 571), (517, 584)), 1], [((1215, 427), (1260, 458)), 0.0], [((81, 454), (112, 458)), 1.0], [((216, 427), (229, 449)), 0.0], [((675, 535), (706, 557)), 1.0], [((1178, 552), (1237, 615)), 0.0], [((1026, 526), (1030, 530)), 1], [((909, 427), (956, 463)), 0.0], [((801, 607), (832, 629)), 1.0]]\n",
      "[[((126, 490), (157, 494)), 0.0], [((837, 400), (949, 501)), 319.0], [((1026, 419), (1108, 482)), 987.0], [((261, 427), (283, 458)), 0.0], [((774, 598), (805, 620)), 1.0], [((711, 616), (760, 656)), 0.0], [((1179, 571), (1210, 593)), 0.0], [((810, 598), (832, 602)), 1.0], [((999, 634), (1030, 656)), 1.0], [((1242, 445), (1273, 467)), 1.0], [((72, 490), (103, 512)), 0.0], [((459, 616), (472, 638)), 1.0], [((378, 445), (400, 476)), 0.0], [((1045, 476), (1127, 548)), 0.0], [((54, 580), (76, 611)), 0.0], [((180, 400), (184, 431)), 1.0], [((531, 409), (562, 431)), 0.0], [((504, 571), (517, 584)), 1], [((1215, 427), (1260, 458)), 0.0], [((81, 454), (112, 458)), 1.0], [((216, 427), (229, 449)), 0.0], [((675, 535), (706, 557)), 1.0], [((1178, 552), (1237, 615)), 0.0], [((1026, 526), (1030, 530)), 1], [((909, 427), (956, 463)), 0.0], [((801, 607), (832, 629)), 1.0]]\n",
      "[[((126, 490), (157, 494)), 0.0], [((837, 400), (956, 501)), 321.0], [((990, 419), (1108, 494)), 988.0], [((261, 427), (283, 458)), 0.0], [((774, 598), (805, 620)), 1.0], [((711, 616), (760, 656)), 0.0], [((1179, 571), (1210, 593)), 0.0], [((810, 598), (832, 602)), 1.0], [((999, 634), (1030, 656)), 1.0], [((1242, 445), (1273, 467)), 1.0], [((72, 490), (103, 512)), 0.0], [((459, 616), (472, 638)), 1.0], [((378, 445), (400, 476)), 0.0], [((1045, 476), (1127, 548)), 0.0], [((54, 580), (76, 611)), 0.0], [((180, 400), (184, 431)), 1.0], [((531, 409), (562, 431)), 0.0], [((504, 571), (517, 584)), 1], [((1215, 427), (1260, 458)), 0.0], [((81, 454), (112, 458)), 1.0], [((216, 427), (229, 449)), 0.0], [((675, 535), (706, 557)), 1.0], [((1178, 552), (1237, 615)), 0.0], [((1026, 526), (1030, 530)), 1], [((909, 427), (956, 463)), 0.0], [((801, 607), (832, 629)), 1.0]]\n",
      "[[((126, 490), (157, 494)), 0.0], [((837, 400), (940, 501)), 323.0], [((1026, 419), (1120, 482)), 989.0], [((261, 427), (283, 458)), 0.0], [((774, 598), (805, 620)), 1.0], [((711, 616), (760, 656)), 0.0], [((1179, 571), (1210, 593)), 0.0], [((810, 598), (832, 602)), 1.0], [((999, 634), (1030, 656)), 1.0], [((1242, 445), (1273, 467)), 1.0], [((72, 490), (103, 512)), 0.0], [((459, 616), (472, 638)), 1.0], [((378, 445), (400, 476)), 0.0], [((1045, 476), (1127, 548)), 0.0], [((54, 580), (76, 611)), 0.0], [((180, 400), (184, 431)), 1.0], [((531, 409), (562, 431)), 0.0], [((504, 571), (517, 584)), 1], [((1215, 427), (1260, 458)), 0.0], [((81, 454), (112, 458)), 1.0], [((216, 427), (229, 449)), 0.0], [((675, 535), (706, 557)), 1.0], [((1178, 552), (1237, 615)), 0.0], [((1026, 526), (1030, 530)), 1], [((909, 427), (956, 463)), 0.0], [((801, 607), (832, 629)), 1.0]]\n",
      "[[((126, 490), (157, 494)), 0.0], [((837, 400), (940, 501)), 325.0], [((1017, 419), (1120, 485)), 990.0], [((261, 427), (283, 458)), 0.0], [((774, 598), (805, 620)), 1.0], [((711, 616), (760, 656)), 1.0], [((1179, 571), (1210, 593)), 0.0], [((810, 598), (832, 602)), 1.0], [((999, 634), (1030, 656)), 1.0], [((1242, 445), (1273, 467)), 1.0], [((72, 490), (103, 512)), 0.0], [((459, 616), (472, 638)), 1.0], [((378, 445), (400, 476)), 0.0], [((1045, 476), (1127, 548)), 0.0], [((54, 580), (76, 611)), 0.0], [((180, 400), (184, 431)), 1.0], [((531, 409), (562, 431)), 0.0], [((504, 571), (517, 584)), 1], [((1215, 427), (1260, 458)), 0.0], [((81, 454), (112, 458)), 1.0], [((216, 427), (229, 449)), 0.0], [((675, 535), (706, 557)), 1.0], [((1178, 552), (1237, 615)), 0.0], [((1026, 526), (1030, 530)), 1], [((909, 427), (956, 463)), 0.0], [((801, 607), (832, 629)), 1.0]]\n",
      "[[((126, 490), (157, 494)), 0.0], [((836, 400), (956, 501)), 329.0], [((1044, 419), (1120, 485)), 991.0], [((261, 427), (283, 458)), 0.0], [((774, 598), (805, 620)), 2.0], [((603, 607), (634, 629)), 1.0], [((1179, 571), (1210, 593)), 0.0], [((810, 598), (832, 602)), 2.0], [((999, 634), (1030, 656)), 1.0], [((1242, 445), (1273, 467)), 1.0], [((72, 490), (103, 512)), 0.0], [((459, 616), (472, 638)), 1.0], [((378, 445), (400, 476)), 0.0], [((1045, 476), (1127, 548)), 0.0], [((54, 580), (76, 611)), 0.0], [((180, 400), (184, 431)), 1.0], [((531, 409), (562, 431)), 0.0], [((504, 571), (517, 584)), 1], [((1215, 427), (1260, 458)), 0.0], [((81, 454), (112, 458)), 1.0], [((216, 427), (229, 449)), 0.0], [((675, 535), (706, 557)), 1.0], [((1178, 552), (1237, 615)), 0.0], [((1026, 526), (1030, 530)), 1], [((909, 427), (956, 463)), 0.0], [((801, 607), (832, 629)), 1.0]]\n",
      "[[((126, 490), (157, 494)), 0.0], [((837, 400), (940, 501)), 331.0], [((1044, 419), (1127, 501)), 992.0], [((261, 427), (283, 458)), 0.0], [((810, 607), (841, 629)), 0.0], [((603, 607), (634, 629)), 1.0], [((1179, 571), (1210, 593)), 0.0], [((900, 625), (931, 647)), 0.0], [((999, 634), (1030, 656)), 1.0], [((1242, 445), (1273, 467)), 1.0], [((72, 490), (103, 512)), 0.0], [((459, 616), (472, 638)), 1.0], [((378, 445), (400, 476)), 0.0], [((1045, 476), (1127, 548)), 0.0], [((54, 580), (76, 611)), 0.0], [((180, 400), (184, 431)), 1.0], [((531, 409), (562, 431)), 0.0], [((504, 571), (517, 584)), 1], [((1215, 427), (1260, 458)), 0.0], [((81, 454), (112, 458)), 1.0], [((216, 427), (229, 449)), 0.0], [((675, 535), (706, 557)), 1.0], [((1178, 552), (1237, 615)), 0.0], [((1026, 526), (1030, 530)), 1], [((909, 427), (956, 463)), 0.0], [((801, 607), (832, 629)), 1.0]]\n",
      "[[((126, 490), (157, 494)), 0.0], [((810, 400), (940, 501)), 335.0], [((969, 409), (1127, 501)), 994.0], [((261, 427), (283, 458)), 0.0], [((810, 607), (841, 629)), 0.0], [((603, 607), (634, 629)), 1.0], [((1179, 571), (1210, 593)), 0.0], [((900, 625), (931, 647)), 0.0], [((999, 634), (1030, 656)), 1.0], [((1242, 445), (1273, 467)), 1.0], [((72, 490), (103, 512)), 0.0], [((459, 616), (472, 638)), 1.0], [((378, 445), (400, 476)), 0.0], [((1045, 476), (1127, 548)), 0.0], [((54, 580), (76, 611)), 0.0], [((180, 400), (184, 431)), 1.0], [((531, 409), (562, 431)), 0.0], [((504, 571), (517, 584)), 1], [((1215, 427), (1260, 458)), 0.0], [((81, 454), (112, 458)), 2.0], [((216, 427), (229, 449)), 0.0], [((675, 535), (706, 557)), 1.0], [((1178, 552), (1237, 615)), 0.0], [((1026, 526), (1030, 530)), 1], [((909, 427), (956, 463)), 0.0], [((801, 607), (832, 629)), 1.0]]\n",
      "[[((126, 490), (157, 494)), 2.0], [((810, 400), (931, 503)), 338.0], [((1035, 419), (1127, 494)), 995.0], [((261, 427), (283, 458)), 1.0], [((810, 607), (841, 629)), 0.0], [((603, 607), (634, 629)), 1.0], [((1179, 571), (1210, 593)), 0.0], [((900, 625), (931, 647)), 0.0], [((999, 634), (1030, 656)), 1.0], [((1242, 445), (1273, 467)), 1.0], [((72, 490), (103, 512)), 0.0], [((459, 616), (472, 638)), 1.0], [((378, 445), (400, 476)), 0.0], [((1045, 476), (1127, 548)), 0.0], [((54, 580), (76, 611)), 0.0], [((180, 400), (184, 431)), 1.0], [((531, 409), (562, 431)), 0.0], [((504, 571), (517, 584)), 1], [((1215, 427), (1260, 458)), 0.0], [((9, 400), (31, 431)), 0.0], [((216, 427), (229, 449)), 0.0], [((675, 535), (706, 557)), 1.0], [((1178, 552), (1237, 615)), 0.0], [((1026, 526), (1030, 530)), 1], [((909, 427), (956, 463)), 0.0], [((801, 607), (832, 629)), 1.0]]\n"
     ]
    },
    {
     "name": "stderr",
     "output_type": "stream",
     "text": [
      "\u001b[A\u001b[A\u001b[A\n",
      "\n",
      "\n",
      " 71%|███████   | 804/1136 [03:28<00:13, 25.12it/s]\u001b[A\u001b[A\u001b[A"
     ]
    },
    {
     "name": "stdout",
     "output_type": "stream",
     "text": [
      "[[((9, 490), (40, 521)), 0.0], [((810, 400), (949, 494)), 340.0], [((1035, 419), (1127, 482)), 996.0], [((378, 445), (400, 476)), 2.0], [((810, 607), (841, 629)), 0.0], [((603, 607), (634, 629)), 1.0], [((1179, 571), (1210, 593)), 0.0], [((900, 625), (931, 647)), 0.0], [((999, 634), (1030, 656)), 1.0], [((1242, 445), (1273, 467)), 1.0], [((72, 490), (103, 512)), 0.0], [((459, 616), (472, 638)), 1.0], [((378, 445), (400, 476)), 0.0], [((1045, 476), (1127, 548)), 0.0], [((54, 580), (76, 611)), 0.0], [((180, 400), (184, 431)), 1.0], [((531, 409), (562, 431)), 0.0], [((504, 571), (517, 584)), 1], [((1215, 427), (1260, 458)), 0.0], [((9, 400), (31, 431)), 0.0], [((216, 427), (229, 449)), 0.0], [((675, 535), (706, 557)), 1.0], [((1178, 552), (1237, 615)), 0.0], [((1026, 526), (1030, 530)), 1], [((909, 427), (956, 463)), 0.0], [((801, 607), (832, 629)), 1.0]]\n",
      "[[((9, 490), (40, 521)), 0.0], [((817, 400), (949, 501)), 342.0], [((1035, 418), (1127, 494)), 997.0], [((315, 463), (337, 485)), 0.0], [((810, 607), (841, 629)), 0.0], [((603, 607), (634, 629)), 1.0], [((1179, 571), (1210, 593)), 0.0], [((900, 625), (931, 647)), 0.0], [((999, 634), (1030, 656)), 1.0], [((1242, 445), (1273, 467)), 1.0], [((72, 490), (103, 512)), 0.0], [((459, 616), (472, 638)), 1.0], [((378, 445), (400, 476)), 0.0], [((1045, 476), (1127, 548)), 0.0], [((54, 580), (76, 611)), 0.0], [((180, 400), (184, 431)), 1.0], [((531, 409), (562, 431)), 0.0], [((504, 571), (517, 584)), 1], [((1215, 427), (1260, 458)), 0.0], [((9, 400), (31, 431)), 0.0], [((216, 427), (229, 449)), 0.0], [((675, 535), (706, 557)), 1.0], [((1178, 552), (1237, 615)), 0.0], [((1026, 526), (1030, 530)), 1], [((909, 427), (956, 463)), 0.0], [((801, 607), (832, 629)), 1.0]]\n",
      "[[((9, 490), (40, 521)), 1.0], [((817, 400), (949, 494)), 344.0], [((1062, 427), (1129, 482)), 999.0], [((315, 463), (337, 485)), 0.0], [((810, 607), (841, 629)), 0.0], [((603, 607), (634, 629)), 1.0], [((1179, 571), (1210, 593)), 0.0], [((900, 625), (931, 647)), 0.0], [((999, 634), (1030, 656)), 1.0], [((1242, 445), (1273, 467)), 1.0], [((72, 490), (103, 512)), 0.0], [((459, 616), (472, 638)), 1.0], [((378, 445), (400, 476)), 0.0], [((1045, 476), (1127, 548)), 0.0], [((54, 580), (76, 611)), 0.0], [((180, 400), (184, 431)), 1.0], [((531, 409), (562, 431)), 0.0], [((504, 571), (517, 584)), 1], [((1215, 427), (1260, 458)), 0.0], [((9, 400), (31, 431)), 0.0], [((216, 427), (229, 449)), 0.0], [((675, 535), (706, 557)), 1.0], [((1178, 552), (1237, 615)), 0.0], [((1026, 526), (1030, 530)), 1], [((909, 427), (956, 463)), 0.0], [((801, 607), (832, 629)), 1.0]]\n",
      "[[((135, 481), (166, 494)), 2.0], [((836, 400), (937, 501)), 345.0], [((1044, 438), (1129, 494)), 1000.0], [((315, 463), (337, 485)), 1.0], [((810, 607), (841, 629)), 0.0], [((603, 607), (634, 629)), 1.0], [((1179, 571), (1210, 593)), 0.0], [((900, 625), (931, 647)), 0.0], [((999, 634), (1030, 656)), 1.0], [((1242, 445), (1273, 467)), 1.0], [((72, 490), (103, 512)), 0.0], [((459, 616), (472, 638)), 1.0], [((378, 445), (400, 476)), 0.0], [((1045, 476), (1127, 548)), 0.0], [((54, 580), (76, 611)), 0.0], [((180, 400), (184, 431)), 1.0], [((531, 409), (562, 431)), 0.0], [((504, 571), (517, 584)), 1], [((1215, 427), (1260, 458)), 0.0], [((9, 400), (31, 431)), 0.0], [((216, 427), (229, 449)), 0.0], [((675, 535), (706, 557)), 1.0], [((1178, 552), (1237, 615)), 0.0], [((1026, 526), (1030, 530)), 1], [((909, 427), (956, 463)), 0.0], [((801, 607), (832, 629)), 1.0]]\n",
      "[[((18, 499), (49, 512)), 0.0], [((836, 400), (949, 501)), 348.0], [((981, 418), (1111, 485)), 1002.0], [((279, 463), (310, 494)), 1.0], [((810, 607), (841, 629)), 0.0], [((603, 607), (634, 629)), 1.0], [((1179, 571), (1210, 593)), 0.0], [((900, 625), (931, 647)), 0.0], [((999, 634), (1030, 656)), 1.0], [((1242, 445), (1273, 467)), 1.0], [((72, 490), (103, 512)), 0.0], [((459, 616), (472, 638)), 1.0], [((378, 445), (400, 476)), 0.0], [((1045, 476), (1127, 548)), 0.0], [((54, 580), (76, 611)), 0.0], [((180, 400), (184, 431)), 1.0], [((531, 409), (562, 431)), 0.0], [((504, 571), (517, 584)), 1], [((1215, 427), (1260, 458)), 0.0], [((9, 400), (31, 431)), 0.0], [((216, 427), (229, 449)), 0.0], [((675, 535), (706, 557)), 1.0], [((1178, 552), (1237, 615)), 0.0], [((1026, 526), (1030, 530)), 1], [((909, 427), (956, 463)), 0.0], [((801, 607), (832, 629)), 1.0]]\n",
      "[[((18, 499), (49, 512)), 2.0], [((837, 418), (931, 503)), 350.0], [((1080, 427), (1138, 476)), 1003.0], [((279, 463), (310, 494)), 1.0], [((810, 607), (841, 629)), 1.0], [((603, 607), (634, 629)), 1.0], [((1179, 571), (1210, 593)), 0.0], [((900, 625), (931, 647)), 0.0], [((999, 634), (1030, 656)), 1.0], [((1242, 445), (1273, 467)), 1.0], [((72, 490), (103, 512)), 0.0], [((459, 616), (472, 638)), 1.0], [((378, 445), (400, 476)), 0.0], [((1045, 476), (1127, 548)), 0.0], [((54, 580), (76, 611)), 0.0], [((180, 400), (184, 431)), 1.0], [((531, 409), (562, 431)), 0.0], [((504, 571), (517, 584)), 1], [((1215, 427), (1260, 458)), 0.0], [((9, 400), (31, 431)), 0.0], [((216, 427), (229, 449)), 0.0], [((675, 535), (706, 557)), 1.0], [((1178, 552), (1237, 615)), 0.0], [((1026, 526), (1030, 530)), 1], [((909, 427), (956, 463)), 0.0], [((801, 607), (832, 629)), 1.0]]\n",
      "[[((90, 490), (121, 521)), 4.0], [((836, 418), (940, 503)), 352.0], [((1026, 419), (1138, 501)), 1006.0], [((279, 463), (310, 494)), 2.0], [((711, 598), (742, 620)), 1.0], [((603, 607), (634, 629)), 1.0], [((1179, 571), (1210, 593)), 0.0], [((900, 625), (931, 647)), 0.0], [((999, 634), (1030, 656)), 1.0], [((1242, 445), (1273, 467)), 1.0], [((72, 490), (103, 512)), 0.0], [((459, 616), (472, 638)), 1.0], [((378, 445), (400, 476)), 0.0], [((1045, 476), (1127, 548)), 0.0], [((54, 580), (76, 611)), 0.0], [((180, 400), (184, 431)), 1.0], [((531, 409), (562, 431)), 0.0], [((504, 571), (517, 584)), 1], [((1215, 427), (1260, 458)), 0.0], [((9, 400), (31, 431)), 0.0], [((216, 427), (229, 449)), 0.0], [((675, 535), (706, 557)), 1.0], [((1178, 552), (1237, 615)), 0.0], [((1026, 526), (1030, 530)), 1], [((909, 427), (956, 463)), 0.0], [((801, 607), (832, 629)), 1.0]]\n",
      "[[((27, 490), (58, 521)), 2.0], [((828, 400), (937, 503)), 353.0], [((1064, 427), (1138, 482)), 1008.0], [((315, 463), (337, 494)), 0.0], [((711, 598), (742, 620)), 2.0], [((603, 607), (634, 629)), 1.0], [((1179, 571), (1210, 593)), 0.0], [((900, 625), (931, 647)), 0.0], [((999, 634), (1030, 656)), 1.0], [((1242, 445), (1273, 467)), 1.0], [((72, 490), (103, 512)), 0.0], [((459, 616), (472, 638)), 1.0], [((378, 445), (400, 476)), 0.0], [((1045, 476), (1127, 548)), 0.0], [((54, 580), (76, 611)), 0.0], [((180, 400), (184, 431)), 1.0], [((531, 409), (562, 431)), 0.0], [((504, 571), (517, 584)), 1], [((1215, 427), (1260, 458)), 0.0], [((9, 400), (31, 431)), 0.0], [((216, 427), (229, 449)), 0.0], [((675, 535), (706, 557)), 1.0], [((1178, 552), (1237, 615)), 0.0], [((1026, 526), (1030, 530)), 1], [((909, 427), (956, 463)), 0.0], [((801, 607), (832, 629)), 1.0], [((243, 607), (274, 629)), 1]]\n"
     ]
    },
    {
     "name": "stderr",
     "output_type": "stream",
     "text": [
      "\n",
      "\n",
      "\n",
      " 71%|███████   | 809/1136 [03:28<00:11, 29.13it/s]\u001b[A\u001b[A\u001b[A\n",
      "\n",
      "\n",
      " 72%|███████▏  | 817/1136 [03:28<00:08, 35.92it/s]\u001b[A\u001b[A\u001b[A"
     ]
    },
    {
     "name": "stdout",
     "output_type": "stream",
     "text": [
      "[[((27, 490), (58, 521)), 0.0], [((836, 400), (931, 501)), 355.0], [((1044, 427), (1129, 482)), 1010.0], [((315, 463), (337, 494)), 0.0], [((747, 616), (778, 647)), 0.0], [((603, 607), (634, 629)), 2.0], [((1179, 571), (1210, 593)), 0.0], [((900, 625), (931, 647)), 0.0], [((999, 634), (1030, 656)), 1.0], [((1242, 445), (1273, 467)), 1.0], [((72, 490), (103, 512)), 0.0], [((459, 616), (472, 638)), 1.0], [((378, 445), (400, 476)), 0.0], [((1045, 476), (1127, 548)), 0.0], [((54, 580), (76, 611)), 0.0], [((180, 400), (184, 431)), 1.0], [((531, 409), (562, 431)), 0.0], [((504, 571), (517, 584)), 1], [((1215, 427), (1260, 458)), 0.0], [((9, 400), (31, 431)), 0.0], [((216, 427), (229, 449)), 0.0], [((675, 535), (706, 557)), 1.0], [((1178, 552), (1237, 615)), 0.0], [((1026, 526), (1030, 530)), 1], [((909, 427), (956, 463)), 0.0], [((801, 607), (832, 629)), 1.0], [((243, 607), (274, 629)), 1]]\n",
      "[[((27, 490), (58, 521)), 0.0], [((817, 400), (940, 501)), 357.0], [((1064, 419), (1138, 476)), 1011.0], [((315, 463), (337, 494)), 1.0], [((747, 616), (778, 647)), 0.0], [((621, 544), (661, 584)), 0.0], [((1179, 571), (1210, 593)), 0.0], [((900, 625), (931, 647)), 0.0], [((999, 634), (1030, 656)), 1.0], [((1242, 445), (1273, 467)), 1.0], [((72, 490), (103, 512)), 0.0], [((459, 616), (472, 638)), 1.0], [((378, 445), (400, 476)), 0.0], [((1045, 476), (1127, 548)), 0.0], [((54, 580), (76, 611)), 0.0], [((180, 400), (184, 431)), 1.0], [((531, 409), (562, 431)), 0.0], [((504, 571), (517, 584)), 1], [((1215, 427), (1260, 458)), 0.0], [((9, 400), (31, 431)), 0.0], [((216, 427), (229, 449)), 0.0], [((675, 535), (706, 557)), 1.0], [((1178, 552), (1237, 615)), 0.0], [((1026, 526), (1030, 530)), 1], [((909, 427), (956, 463)), 0.0], [((801, 607), (832, 629)), 1.0], [((243, 607), (274, 629)), 1]]\n",
      "[[((27, 490), (58, 521)), 1.0], [((828, 400), (940, 503)), 359.0], [((1080, 419), (1129, 482)), 1013.0], [((360, 427), (364, 449)), 1.0], [((747, 616), (778, 647)), 0.0], [((621, 544), (661, 584)), 1.0], [((1179, 571), (1210, 593)), 0.0], [((900, 625), (931, 647)), 0.0], [((999, 634), (1030, 656)), 1.0], [((1242, 445), (1273, 467)), 1.0], [((72, 490), (103, 512)), 0.0], [((459, 616), (472, 638)), 1.0], [((378, 445), (400, 476)), 0.0], [((1045, 476), (1127, 548)), 0.0], [((54, 580), (76, 611)), 0.0], [((180, 400), (184, 431)), 1.0], [((531, 409), (562, 431)), 0.0], [((504, 571), (517, 584)), 1], [((1215, 427), (1260, 458)), 0.0], [((9, 400), (31, 431)), 0.0], [((216, 427), (229, 449)), 0.0], [((675, 535), (706, 557)), 1.0], [((1178, 552), (1237, 615)), 0.0], [((1026, 526), (1030, 530)), 1], [((909, 427), (956, 463)), 0.0], [((801, 607), (832, 629)), 1.0], [((243, 607), (274, 629)), 1]]\n",
      "[[((153, 490), (175, 494)), 1.0], [((828, 400), (940, 501)), 361.0], [((1064, 419), (1146, 482)), 1014.0], [((360, 427), (364, 449)), 1.0], [((747, 616), (778, 647)), 0.0], [((666, 490), (697, 512)), 1.0], [((1179, 571), (1210, 593)), 0.0], [((900, 625), (931, 647)), 0.0], [((999, 634), (1030, 656)), 1.0], [((1242, 445), (1273, 467)), 1.0], [((72, 490), (103, 512)), 0.0], [((459, 616), (472, 638)), 1.0], [((378, 445), (400, 476)), 0.0], [((1045, 476), (1127, 548)), 0.0], [((54, 580), (76, 611)), 0.0], [((180, 400), (184, 431)), 1.0], [((531, 409), (562, 431)), 0.0], [((504, 571), (517, 584)), 1], [((1215, 427), (1260, 458)), 0.0], [((9, 400), (31, 431)), 0.0], [((216, 427), (229, 449)), 0.0], [((675, 535), (706, 557)), 1.0], [((1178, 552), (1237, 615)), 0.0], [((1026, 526), (1030, 530)), 1], [((909, 427), (956, 463)), 0.0], [((801, 607), (832, 629)), 1.0], [((243, 607), (274, 629)), 1]]\n",
      "[[((153, 490), (175, 494)), 1.0], [((828, 400), (940, 503)), 363.0], [((1080, 419), (1146, 476)), 1015.0], [((360, 427), (364, 449)), 1.0], [((747, 616), (778, 647)), 2.0], [((666, 490), (697, 512)), 1.0], [((1179, 571), (1210, 593)), 0.0], [((900, 625), (931, 647)), 0.0], [((999, 634), (1030, 656)), 1.0], [((1242, 445), (1273, 467)), 1.0], [((72, 490), (103, 512)), 0.0], [((459, 616), (472, 638)), 1.0], [((378, 445), (400, 476)), 0.0], [((1045, 476), (1127, 548)), 0.0], [((54, 580), (76, 611)), 0.0], [((180, 400), (184, 431)), 1.0], [((531, 409), (562, 431)), 0.0], [((504, 571), (517, 584)), 1], [((1215, 427), (1260, 458)), 0.0], [((9, 400), (31, 431)), 0.0], [((216, 427), (229, 449)), 0.0], [((675, 535), (706, 557)), 1.0], [((1178, 552), (1237, 615)), 0.0], [((1026, 526), (1030, 530)), 1], [((909, 427), (956, 463)), 0.0], [((801, 607), (832, 629)), 1.0], [((243, 607), (274, 629)), 1]]\n",
      "[[((153, 490), (175, 494)), 2.0], [((828, 400), (940, 494)), 365.0], [((1080, 419), (1147, 482)), 1017.0], [((360, 427), (364, 449)), 1.0], [((729, 544), (760, 566)), 3.0], [((666, 490), (697, 512)), 1.0], [((1179, 571), (1210, 593)), 0.0], [((900, 625), (931, 647)), 0.0], [((999, 634), (1030, 656)), 1.0], [((1242, 445), (1273, 467)), 1.0], [((72, 490), (103, 512)), 0.0], [((459, 616), (472, 638)), 1.0], [((378, 445), (400, 476)), 0.0], [((1045, 476), (1127, 548)), 0.0], [((54, 580), (76, 611)), 0.0], [((180, 400), (184, 431)), 1.0], [((531, 409), (562, 431)), 0.0], [((504, 571), (517, 584)), 1], [((1215, 427), (1260, 458)), 0.0], [((9, 400), (31, 431)), 0.0], [((216, 427), (229, 449)), 0.0], [((675, 535), (706, 557)), 1.0], [((1178, 552), (1237, 615)), 0.0], [((1026, 526), (1030, 530)), 1], [((909, 427), (956, 463)), 0.0], [((801, 607), (832, 629)), 1.0], [((243, 607), (274, 629)), 1]]\n",
      "[[((126, 490), (157, 521)), 3.0], [((828, 400), (940, 503)), 367.0], [((1107, 445), (1146, 482)), 1019.0], [((360, 427), (364, 449)), 1.0], [((729, 553), (751, 575)), 4.0], [((666, 490), (697, 512)), 1.0], [((1179, 571), (1210, 593)), 0.0], [((900, 625), (931, 647)), 0.0], [((999, 634), (1030, 656)), 1.0], [((1242, 445), (1273, 467)), 1.0], [((72, 490), (103, 512)), 0.0], [((459, 616), (472, 638)), 1.0], [((378, 445), (400, 476)), 0.0], [((1045, 476), (1127, 548)), 0.0], [((54, 580), (76, 611)), 0.0], [((180, 400), (184, 431)), 1.0], [((531, 409), (562, 431)), 0.0], [((504, 571), (517, 584)), 1], [((1215, 427), (1260, 458)), 0.0], [((9, 400), (31, 431)), 0.0], [((216, 427), (229, 449)), 0.0], [((675, 535), (706, 557)), 1.0], [((1178, 552), (1237, 615)), 0.0], [((1026, 526), (1030, 530)), 1], [((909, 427), (956, 463)), 0.0], [((801, 607), (832, 629)), 1.0], [((243, 607), (274, 629)), 1]]\n",
      "[[((9, 481), (40, 521)), 4.0], [((828, 400), (940, 501)), 369.0], [((1107, 445), (1146, 482)), 1020.0], [((360, 427), (364, 449)), 1.0], [((630, 598), (661, 620)), 2.0], [((666, 490), (697, 512)), 1.0], [((1179, 571), (1210, 593)), 0.0], [((900, 625), (931, 647)), 0.0], [((999, 634), (1030, 656)), 1.0], [((1242, 445), (1273, 467)), 1.0], [((72, 490), (103, 512)), 0.0], [((459, 616), (472, 638)), 1.0], [((378, 445), (400, 476)), 0.0], [((1045, 476), (1127, 548)), 0.0], [((54, 580), (76, 611)), 0.0], [((180, 400), (184, 431)), 1.0], [((531, 409), (562, 431)), 0.0], [((504, 571), (517, 584)), 1], [((1215, 427), (1260, 458)), 0.0], [((9, 400), (31, 431)), 0.0], [((216, 427), (229, 449)), 0.0], [((675, 535), (706, 557)), 1.0], [((1178, 552), (1237, 615)), 0.0], [((1026, 526), (1030, 530)), 1], [((909, 427), (956, 463)), 0.0], [((801, 607), (832, 629)), 1.0], [((243, 607), (274, 629)), 1]]\n",
      "[[((9, 490), (40, 521)), 2.0], [((828, 400), (940, 494)), 370.0], [((1083, 427), (1156, 501)), 1021.0], [((360, 427), (364, 449)), 1.0], [((630, 598), (661, 620)), 0.0], [((666, 490), (697, 512)), 1.0], [((1179, 571), (1210, 593)), 0.0], [((900, 625), (931, 647)), 0.0], [((999, 634), (1030, 656)), 1.0], [((1242, 445), (1273, 467)), 1.0], [((72, 490), (103, 512)), 0.0], [((459, 616), (472, 638)), 1.0], [((378, 445), (400, 476)), 0.0], [((1045, 476), (1127, 548)), 0.0], [((54, 580), (76, 611)), 0.0], [((180, 400), (184, 431)), 1.0], [((531, 409), (562, 431)), 0.0], [((504, 571), (517, 584)), 1], [((1215, 427), (1260, 458)), 0.0], [((9, 400), (31, 431)), 0.0], [((216, 427), (229, 449)), 0.0], [((675, 535), (706, 557)), 1.0], [((1178, 552), (1237, 615)), 0.0], [((1026, 526), (1030, 530)), 1], [((909, 427), (956, 463)), 0.0], [((801, 607), (832, 629)), 1.0], [((243, 607), (274, 629)), 1]]\n",
      "[[((9, 490), (40, 521)), 3.0], [((828, 400), (937, 501)), 371.0], [((988, 419), (1156, 501)), 1024.0], [((360, 427), (364, 449)), 1.0], [((630, 598), (661, 620)), 0.0], [((666, 490), (697, 512)), 1.0], [((1179, 571), (1210, 593)), 0.0], [((900, 625), (931, 647)), 0.0], [((999, 634), (1030, 656)), 1.0], [((1242, 445), (1273, 467)), 1.0], [((72, 490), (103, 512)), 0.0], [((459, 616), (472, 638)), 1.0], [((378, 445), (400, 476)), 0.0], [((1045, 476), (1127, 548)), 0.0], [((54, 580), (76, 611)), 0.0], [((180, 400), (184, 431)), 1.0], [((531, 409), (562, 431)), 0.0], [((504, 571), (517, 584)), 1], [((1215, 427), (1260, 458)), 0.0], [((9, 400), (31, 431)), 0.0], [((216, 427), (229, 449)), 0.0], [((675, 535), (706, 557)), 1.0], [((1178, 552), (1237, 615)), 0.0], [((1026, 526), (1030, 530)), 1], [((909, 427), (956, 463)), 0.0], [((801, 607), (832, 629)), 1.0], [((243, 607), (274, 629)), 1]]\n",
      "[[((9, 490), (31, 512)), 1.0], [((828, 400), (937, 494)), 372.0], [((1008, 409), (1075, 494)), 1027.0], [((360, 427), (364, 449)), 1.0], [((630, 598), (661, 620)), 0.0], [((666, 490), (697, 512)), 1.0], [((1179, 571), (1210, 593)), 1.0], [((900, 625), (931, 647)), 0.0], [((999, 634), (1030, 656)), 1.0], [((1242, 445), (1273, 467)), 1.0], [((72, 490), (103, 512)), 0.0], [((459, 616), (472, 638)), 1.0], [((378, 445), (400, 476)), 0.0], [((1045, 476), (1127, 548)), 0.0], [((54, 580), (76, 611)), 0.0], [((180, 400), (184, 431)), 2.0], [((531, 409), (562, 431)), 0.0], [((504, 571), (517, 584)), 1], [((1215, 427), (1260, 458)), 0.0], [((9, 400), (31, 431)), 0.0], [((216, 427), (229, 449)), 0.0], [((675, 535), (706, 557)), 1.0], [((1178, 552), (1237, 615)), 0.0], [((1026, 526), (1030, 530)), 1], [((909, 427), (956, 463)), 0.0], [((801, 607), (832, 629)), 1.0], [((243, 607), (274, 629)), 1]]\n"
     ]
    },
    {
     "name": "stderr",
     "output_type": "stream",
     "text": [
      "\n",
      "\n",
      "\n",
      "\r",
      " 72%|███████▏  | 823/1136 [03:28<00:09, 33.76it/s]"
     ]
    },
    {
     "name": "stdout",
     "output_type": "stream",
     "text": [
      "[[((9, 490), (31, 512)), 1.0], [((828, 400), (937, 501)), 373.0], [((1062, 427), (1165, 501)), 1028.0], [((360, 427), (364, 449)), 1.0], [((630, 598), (661, 620)), 0.0], [((666, 490), (697, 512)), 1.0], [((1125, 616), (1156, 638)), 2.0], [((900, 625), (931, 647)), 0.0], [((999, 634), (1030, 656)), 1.0], [((1242, 445), (1273, 467)), 1.0], [((72, 490), (103, 512)), 0.0], [((459, 616), (472, 638)), 1.0], [((378, 445), (400, 476)), 0.0], [((1045, 476), (1127, 548)), 0.0], [((54, 580), (76, 611)), 0.0], [((216, 472), (247, 503)), 0.0], [((531, 409), (562, 431)), 0.0], [((504, 571), (517, 584)), 1], [((1215, 427), (1260, 458)), 0.0], [((9, 400), (31, 431)), 0.0], [((216, 427), (229, 449)), 0.0], [((675, 535), (706, 557)), 1.0], [((1178, 552), (1237, 615)), 0.0], [((1026, 526), (1030, 530)), 1], [((909, 427), (956, 463)), 0.0], [((801, 607), (832, 629)), 1.0], [((243, 607), (274, 629)), 1]]\n",
      "[[((9, 490), (31, 512)), 2.0], [((828, 400), (937, 501)), 374.0], [((1083, 419), (1165, 501)), 1031.0], [((360, 427), (364, 449)), 1.0], [((630, 598), (661, 620)), 0.0], [((666, 490), (697, 512)), 1.0], [((1134, 589), (1156, 611)), 0.0], [((900, 625), (931, 647)), 1.0], [((999, 634), (1030, 656)), 1.0], [((1242, 445), (1273, 467)), 1.0], [((72, 490), (103, 512)), 0.0], [((459, 616), (472, 638)), 1.0], [((378, 445), (400, 476)), 0.0], [((1045, 476), (1127, 548)), 0.0], [((54, 580), (76, 611)), 0.0], [((216, 472), (247, 503)), 0.0], [((531, 409), (562, 431)), 0.0], [((504, 571), (517, 584)), 1], [((1215, 427), (1260, 458)), 0.0], [((9, 400), (31, 431)), 0.0], [((216, 427), (229, 449)), 0.0], [((675, 535), (706, 557)), 1.0], [((1178, 552), (1237, 615)), 0.0], [((1026, 526), (1030, 530)), 1], [((909, 427), (956, 463)), 0.0], [((801, 607), (832, 629)), 1.0], [((243, 607), (274, 629)), 1]]\n",
      "[[((27, 499), (40, 512)), 0.0], [((828, 400), (937, 494)), 375.0], [((1083, 419), (1165, 501)), 1034.0], [((360, 427), (364, 449)), 1.0], [((630, 598), (661, 620)), 0.0], [((666, 490), (697, 512)), 1.0], [((1134, 589), (1156, 611)), 0.0], [((810, 616), (841, 638)), 1.0], [((999, 634), (1030, 656)), 1.0], [((1242, 445), (1273, 467)), 1.0], [((72, 490), (103, 512)), 0.0], [((459, 616), (472, 638)), 1.0], [((378, 445), (400, 476)), 0.0], [((1045, 476), (1127, 548)), 0.0], [((54, 580), (76, 611)), 0.0], [((216, 472), (247, 503)), 0.0], [((531, 409), (562, 431)), 0.0], [((504, 571), (517, 584)), 1], [((1215, 427), (1260, 458)), 0.0], [((9, 400), (31, 431)), 0.0], [((216, 427), (229, 449)), 0.0], [((675, 535), (706, 557)), 1.0], [((1178, 552), (1237, 615)), 0.0], [((1026, 526), (1030, 530)), 1], [((909, 427), (956, 463)), 0.0], [((801, 607), (832, 629)), 1.0], [((243, 607), (274, 629)), 1]]\n"
     ]
    },
    {
     "name": "stderr",
     "output_type": "stream",
     "text": [
      "\u001b[A\u001b[A\u001b[A"
     ]
    },
    {
     "name": "stdout",
     "output_type": "stream",
     "text": [
      "[[((27, 499), (40, 512)), 0.0], [((817, 400), (937, 501)), 376.0], [((1083, 419), (1165, 501)), 1035.0], [((360, 427), (364, 449)), 1.0], [((630, 598), (661, 620)), 0.0], [((666, 490), (697, 512)), 1.0], [((1134, 589), (1156, 611)), 0.0], [((810, 616), (841, 638)), 1.0], [((999, 634), (1030, 656)), 1.0], [((1242, 445), (1273, 467)), 1.0], [((72, 490), (103, 512)), 0.0], [((459, 616), (472, 638)), 1.0], [((378, 445), (400, 476)), 0.0], [((1045, 476), (1127, 548)), 0.0], [((54, 580), (76, 611)), 0.0], [((216, 472), (247, 503)), 0.0], [((531, 409), (562, 431)), 0.0], [((504, 571), (517, 584)), 1], [((1215, 427), (1260, 458)), 0.0], [((9, 400), (31, 431)), 0.0], [((216, 427), (229, 449)), 0.0], [((675, 535), (706, 557)), 1.0], [((1178, 552), (1237, 615)), 0.0], [((1026, 526), (1030, 530)), 1], [((909, 427), (956, 463)), 0.0], [((801, 607), (832, 629)), 1.0], [((243, 607), (274, 629)), 1]]\n",
      "[[((27, 499), (40, 512)), 0.0], [((828, 400), (940, 494)), 379.0], [((999, 418), (1165, 501)), 1037.0], [((360, 427), (364, 449)), 1.0], [((630, 598), (661, 620)), 0.0], [((666, 490), (697, 512)), 1.0], [((1134, 589), (1156, 611)), 0.0], [((810, 616), (841, 638)), 1.0], [((999, 634), (1030, 656)), 1.0], [((1242, 445), (1273, 467)), 1.0], [((72, 490), (103, 512)), 0.0], [((459, 616), (472, 638)), 1.0], [((378, 445), (400, 476)), 0.0], [((1045, 476), (1127, 548)), 0.0], [((54, 580), (76, 611)), 0.0], [((216, 472), (247, 503)), 0.0], [((531, 409), (562, 431)), 0.0], [((504, 571), (517, 584)), 1], [((1215, 427), (1260, 458)), 0.0], [((9, 400), (31, 431)), 0.0], [((216, 427), (229, 449)), 0.0], [((675, 535), (706, 557)), 1.0], [((1178, 552), (1237, 615)), 0.0], [((1026, 526), (1030, 530)), 1], [((909, 427), (956, 463)), 0.0], [((801, 607), (832, 629)), 1.0], [((243, 607), (274, 629)), 1]]\n",
      "[[((27, 499), (40, 512)), 2.0], [((828, 400), (937, 501)), 380.0], [((1071, 419), (1165, 501)), 1038.0], [((360, 427), (364, 449)), 1.0], [((630, 598), (661, 620)), 1.0], [((666, 490), (697, 512)), 1.0], [((1134, 589), (1156, 611)), 0.0], [((810, 616), (841, 638)), 1.0], [((999, 634), (1030, 656)), 1.0], [((1242, 445), (1273, 467)), 1.0], [((72, 490), (103, 512)), 1.0], [((459, 616), (472, 638)), 1.0], [((378, 445), (400, 476)), 0.0], [((1045, 476), (1127, 548)), 0.0], [((54, 580), (76, 611)), 0.0], [((216, 472), (247, 503)), 0.0], [((531, 409), (562, 431)), 0.0], [((504, 571), (517, 584)), 1], [((1215, 427), (1260, 458)), 0.0], [((9, 400), (31, 431)), 0.0], [((216, 427), (229, 449)), 0.0], [((675, 535), (706, 557)), 1.0], [((1178, 552), (1237, 615)), 0.0], [((1026, 526), (1030, 530)), 1], [((909, 427), (956, 463)), 0.0], [((801, 607), (832, 629)), 1.0], [((243, 607), (274, 629)), 1]]\n"
     ]
    },
    {
     "name": "stderr",
     "output_type": "stream",
     "text": [
      "\n",
      "\n",
      "\n",
      " 73%|███████▎  | 828/1136 [03:30<00:40,  7.60it/s]\u001b[A\u001b[A\u001b[A\n",
      "\n",
      "\n",
      " 74%|███████▎  | 837/1136 [03:30<00:28, 10.47it/s]"
     ]
    },
    {
     "name": "stdout",
     "output_type": "stream",
     "text": [
      "[[((108, 481), (139, 521)), 0.0], [((828, 400), (937, 494)), 381.0], [((1026, 409), (1174, 501)), 1039.0], [((360, 427), (364, 449)), 1.0], [((657, 607), (688, 638)), 1.0], [((666, 490), (697, 512)), 1.0], [((1134, 589), (1156, 611)), 0.0], [((810, 616), (841, 638)), 1.0], [((999, 634), (1030, 656)), 1.0], [((1242, 445), (1273, 467)), 1.0], [((135, 436), (184, 521)), 1.0], [((459, 616), (472, 638)), 1.0], [((378, 445), (400, 476)), 0.0], [((1045, 476), (1127, 548)), 0.0], [((54, 580), (76, 611)), 0.0], [((216, 472), (247, 503)), 0.0], [((531, 409), (562, 431)), 0.0], [((504, 571), (517, 584)), 1], [((1215, 427), (1260, 458)), 0.0], [((9, 400), (31, 431)), 0.0], [((216, 427), (229, 449)), 0.0], [((675, 535), (706, 557)), 1.0], [((1178, 552), (1237, 615)), 0.0], [((1026, 526), (1030, 530)), 1], [((909, 427), (956, 463)), 0.0], [((801, 607), (832, 629)), 1.0], [((243, 607), (274, 629)), 1]]\n",
      "[[((108, 481), (139, 521)), 0.0], [((828, 400), (937, 482)), 382.0], [((1007, 400), (1174, 494)), 1040.0], [((360, 427), (364, 449)), 1.0], [((657, 607), (688, 638)), 1.0], [((666, 490), (697, 512)), 1.0], [((1134, 589), (1156, 611)), 0.0], [((810, 616), (841, 638)), 1.0], [((999, 634), (1030, 656)), 1.0], [((1242, 445), (1273, 467)), 1.0], [((135, 436), (184, 521)), 1.0], [((459, 616), (472, 638)), 1.0], [((378, 445), (400, 476)), 0.0], [((1045, 476), (1127, 548)), 0.0], [((54, 580), (76, 611)), 0.0], [((216, 472), (247, 503)), 0.0], [((531, 409), (562, 431)), 0.0], [((504, 571), (517, 584)), 1], [((1215, 427), (1260, 458)), 0.0], [((9, 400), (31, 431)), 0.0], [((216, 427), (229, 449)), 0.0], [((675, 535), (706, 557)), 1.0], [((1178, 552), (1237, 615)), 0.0], [((1026, 526), (1030, 530)), 1], [((909, 427), (956, 463)), 0.0], [((801, 607), (832, 629)), 1.0], [((243, 607), (274, 629)), 1]]\n",
      "[[((108, 481), (139, 521)), 1.0], [((828, 400), (937, 482)), 383.0], [((1007, 409), (1174, 501)), 1044.0], [((360, 427), (364, 449)), 1.0], [((657, 607), (688, 638)), 1.0], [((666, 490), (697, 512)), 1.0], [((1134, 589), (1156, 611)), 0.0], [((810, 616), (841, 638)), 1.0], [((999, 634), (1030, 656)), 1.0], [((1242, 445), (1273, 467)), 1.0], [((135, 436), (184, 521)), 1.0], [((459, 616), (472, 638)), 1.0], [((378, 445), (400, 476)), 0.0], [((1045, 476), (1127, 548)), 0.0], [((54, 580), (76, 611)), 0.0], [((216, 472), (247, 503)), 0.0], [((531, 409), (562, 431)), 0.0], [((504, 571), (517, 584)), 1], [((1215, 427), (1260, 458)), 0.0], [((9, 400), (31, 431)), 0.0], [((216, 427), (229, 449)), 0.0], [((675, 535), (706, 557)), 1.0], [((1178, 552), (1237, 615)), 0.0], [((1026, 526), (1030, 530)), 1], [((909, 427), (956, 463)), 0.0], [((801, 607), (832, 629)), 1.0], [((243, 607), (274, 629)), 1]]\n",
      "[[((63, 472), (94, 512)), 2.0], [((836, 400), (937, 494)), 384.0], [((1102, 436), (1174, 501)), 1046.0], [((360, 427), (364, 449)), 1.0], [((657, 607), (688, 638)), 1.0], [((666, 490), (697, 512)), 1.0], [((1134, 589), (1156, 611)), 0.0], [((810, 616), (841, 638)), 1.0], [((999, 634), (1030, 656)), 1.0], [((1242, 445), (1273, 467)), 1.0], [((135, 436), (184, 521)), 2.0], [((459, 616), (472, 638)), 1.0], [((378, 445), (400, 476)), 0.0], [((1045, 476), (1127, 548)), 0.0], [((54, 580), (76, 611)), 0.0], [((216, 472), (247, 503)), 0.0], [((531, 409), (562, 431)), 0.0], [((504, 571), (517, 584)), 1], [((1215, 427), (1260, 458)), 0.0], [((9, 400), (31, 431)), 0.0], [((216, 427), (229, 449)), 0.0], [((675, 535), (706, 557)), 1.0], [((1178, 552), (1237, 615)), 0.0], [((1026, 526), (1030, 530)), 1], [((909, 427), (956, 463)), 0.0], [((801, 607), (832, 629)), 1.0], [((243, 607), (274, 629)), 1]]\n",
      "[[((90, 472), (139, 530)), 3.0], [((828, 400), (937, 494)), 385.0], [((1080, 418), (1184, 501)), 1048.0], [((360, 427), (364, 449)), 1.0], [((657, 607), (688, 638)), 1.0], [((666, 490), (697, 512)), 1.0], [((1134, 589), (1156, 611)), 0.0], [((810, 616), (841, 638)), 1.0], [((999, 634), (1030, 656)), 1.0], [((1242, 445), (1273, 467)), 1.0], [((234, 490), (265, 512)), 0.0], [((459, 616), (472, 638)), 1.0], [((378, 445), (400, 476)), 0.0], [((1045, 476), (1127, 548)), 0.0], [((54, 580), (76, 611)), 0.0], [((216, 472), (247, 503)), 0.0], [((531, 409), (562, 431)), 0.0], [((504, 571), (517, 584)), 1], [((1215, 427), (1260, 458)), 0.0], [((9, 400), (31, 431)), 0.0], [((216, 427), (229, 449)), 0.0], [((675, 535), (706, 557)), 1.0], [((1178, 552), (1237, 615)), 0.0], [((1026, 526), (1030, 530)), 1], [((909, 427), (956, 463)), 0.0], [((801, 607), (832, 629)), 1.0], [((243, 607), (274, 629)), 1]]\n",
      "[[((99, 490), (130, 521)), 1.0], [((817, 400), (937, 501)), 386.0], [((1080, 419), (1184, 501)), 1049.0], [((360, 427), (364, 449)), 1.0], [((657, 607), (688, 638)), 1.0], [((666, 490), (697, 512)), 1.0], [((1134, 589), (1156, 611)), 0.0], [((810, 616), (841, 638)), 1.0], [((999, 634), (1030, 656)), 1.0], [((1242, 445), (1273, 467)), 1.0], [((234, 490), (265, 512)), 0.0], [((459, 616), (472, 638)), 1.0], [((378, 445), (400, 476)), 0.0], [((1045, 476), (1127, 548)), 0.0], [((54, 580), (76, 611)), 0.0], [((216, 472), (247, 503)), 0.0], [((531, 409), (562, 431)), 0.0], [((504, 571), (517, 584)), 1], [((1215, 427), (1260, 458)), 0.0], [((9, 400), (31, 431)), 0.0], [((216, 427), (229, 449)), 0.0], [((675, 535), (706, 557)), 1.0], [((1178, 552), (1237, 615)), 0.0], [((1026, 526), (1030, 530)), 1], [((909, 427), (956, 463)), 0.0], [((801, 607), (832, 629)), 1.0], [((243, 607), (274, 629)), 1]]\n",
      "[[((99, 490), (130, 521)), 1.0], [((828, 400), (937, 501)), 387.0], [((1007, 418), (1184, 501)), 1051.0], [((360, 427), (364, 449)), 1.0], [((657, 607), (688, 638)), 1.0], [((666, 490), (697, 512)), 1.0], [((1134, 589), (1156, 611)), 0.0], [((810, 616), (841, 638)), 1.0], [((999, 634), (1030, 656)), 1.0], [((1242, 445), (1273, 467)), 1.0], [((234, 490), (265, 512)), 0.0], [((459, 616), (472, 638)), 1.0], [((378, 445), (400, 476)), 0.0], [((1045, 476), (1127, 548)), 0.0], [((54, 580), (76, 611)), 0.0], [((216, 472), (247, 503)), 0.0], [((531, 409), (562, 431)), 0.0], [((504, 571), (517, 584)), 1], [((1215, 427), (1260, 458)), 0.0], [((9, 400), (31, 431)), 0.0], [((216, 427), (229, 449)), 0.0], [((675, 535), (706, 557)), 1.0], [((1178, 552), (1237, 615)), 0.0], [((1026, 526), (1030, 530)), 1], [((909, 427), (956, 463)), 0.0], [((801, 607), (832, 629)), 1.0], [((243, 607), (274, 629)), 1]]\n",
      "[[((99, 490), (130, 521)), 2.0], [((828, 400), (940, 501)), 388.0], [((1007, 409), (1174, 503)), 1053.0], [((360, 427), (364, 449)), 1.0], [((657, 607), (688, 638)), 1.0], [((666, 490), (697, 512)), 1.0], [((1134, 589), (1156, 611)), 0.0], [((810, 616), (841, 638)), 1.0], [((999, 634), (1030, 656)), 1.0], [((1242, 445), (1273, 467)), 1.0], [((234, 490), (265, 512)), 0.0], [((459, 616), (472, 638)), 1.0], [((378, 445), (400, 476)), 0.0], [((1045, 476), (1127, 548)), 0.0], [((54, 580), (76, 611)), 0.0], [((216, 472), (247, 503)), 0.0], [((531, 409), (562, 431)), 0.0], [((504, 571), (517, 584)), 1], [((1215, 427), (1260, 458)), 0.0], [((9, 400), (31, 431)), 0.0], [((216, 427), (229, 449)), 0.0], [((675, 535), (706, 557)), 1.0], [((1178, 552), (1237, 615)), 0.0], [((1026, 526), (1030, 530)), 1], [((909, 427), (956, 463)), 0.0], [((801, 607), (832, 629)), 1.0], [((243, 607), (274, 629)), 1]]\n",
      "[[((81, 472), (112, 503)), 3.0], [((828, 400), (937, 494)), 389.0], [((1080, 419), (1184, 501)), 1054.0], [((360, 427), (364, 449)), 1.0], [((657, 607), (688, 638)), 1.0], [((666, 490), (697, 512)), 1.0], [((1134, 589), (1156, 611)), 0.0], [((810, 616), (841, 638)), 1.0], [((999, 634), (1030, 656)), 1.0], [((1242, 445), (1273, 467)), 1.0], [((234, 490), (265, 512)), 0.0], [((459, 616), (472, 638)), 1.0], [((378, 445), (400, 476)), 0.0], [((1045, 476), (1127, 548)), 0.0], [((54, 580), (76, 611)), 0.0], [((216, 472), (247, 503)), 0.0], [((531, 409), (562, 431)), 0.0], [((504, 571), (517, 584)), 1], [((1215, 427), (1260, 458)), 0.0], [((9, 400), (31, 431)), 0.0], [((216, 427), (229, 449)), 0.0], [((675, 535), (706, 557)), 1.0], [((1178, 552), (1237, 615)), 0.0], [((1026, 526), (1030, 530)), 1], [((909, 427), (956, 463)), 0.0], [((801, 607), (832, 629)), 1.0], [((243, 607), (274, 629)), 1]]\n",
      "[[((153, 463), (184, 494)), 1.0], [((828, 400), (937, 482)), 390.0], [((1007, 409), (1184, 501)), 1059.0], [((360, 427), (364, 449)), 1.0], [((657, 607), (688, 638)), 1.0], [((666, 490), (697, 512)), 1.0], [((1134, 589), (1156, 611)), 0.0], [((810, 616), (841, 638)), 1.0], [((999, 634), (1030, 656)), 1.0], [((1242, 445), (1273, 467)), 1.0], [((234, 490), (265, 512)), 0.0], [((459, 616), (472, 638)), 1.0], [((378, 445), (400, 476)), 0.0], [((1045, 476), (1127, 548)), 0.0], [((54, 580), (76, 611)), 0.0], [((216, 472), (247, 503)), 0.0], [((531, 409), (562, 431)), 0.0], [((504, 571), (517, 584)), 1], [((1215, 427), (1260, 458)), 0.0], [((9, 400), (31, 431)), 0.0], [((216, 427), (229, 449)), 0.0], [((675, 535), (706, 557)), 1.0], [((1178, 552), (1237, 615)), 0.0], [((1026, 526), (1030, 530)), 1], [((909, 427), (956, 463)), 0.0], [((801, 607), (832, 629)), 1.0], [((243, 607), (274, 629)), 1]]\n",
      "[[((153, 463), (184, 494)), 1.0], [((828, 419), (918, 494)), 391.0], [((1026, 409), (1075, 463)), 1061.0], [((360, 427), (364, 449)), 1.0], [((657, 607), (688, 638)), 1.0], [((666, 490), (697, 512)), 1.0], [((1134, 589), (1156, 611)), 0.0], [((810, 616), (841, 638)), 1.0], [((999, 634), (1030, 656)), 1.0], [((1242, 445), (1273, 467)), 1.0], [((234, 490), (265, 512)), 0.0], [((459, 616), (472, 638)), 1.0], [((378, 445), (400, 476)), 0.0], [((1045, 476), (1127, 548)), 0.0], [((54, 580), (76, 611)), 0.0], [((216, 472), (247, 503)), 0.0], [((531, 409), (562, 431)), 0.0], [((504, 571), (517, 584)), 1], [((1215, 427), (1260, 458)), 0.0], [((9, 400), (31, 431)), 0.0], [((216, 427), (229, 449)), 0.0], [((675, 535), (706, 557)), 1.0], [((1178, 552), (1237, 615)), 0.0], [((1026, 526), (1030, 530)), 1], [((909, 427), (956, 463)), 0.0], [((801, 607), (832, 629)), 1.0], [((243, 607), (274, 629)), 1]]\n",
      "[[((153, 463), (184, 494)), 3.0], [((828, 419), (937, 482)), 392.0], [((1121, 436), (1184, 503)), 1062.0], [((360, 427), (364, 449)), 1.0], [((657, 607), (688, 638)), 1.0], [((666, 490), (697, 512)), 1.0], [((1134, 589), (1156, 611)), 0.0], [((810, 616), (841, 638)), 2.0], [((999, 634), (1030, 656)), 1.0], [((1242, 445), (1273, 467)), 1.0], [((234, 490), (265, 512)), 0.0], [((459, 616), (472, 638)), 1.0], [((378, 445), (400, 476)), 0.0], [((1045, 476), (1127, 548)), 0.0], [((54, 580), (76, 611)), 0.0], [((216, 472), (247, 503)), 0.0], [((531, 409), (562, 431)), 0.0], [((504, 571), (517, 584)), 1], [((1215, 427), (1260, 458)), 0.0], [((9, 400), (31, 431)), 0.0], [((216, 427), (229, 449)), 0.0], [((675, 535), (706, 557)), 1.0], [((1178, 552), (1237, 615)), 0.0], [((1026, 526), (1030, 530)), 1], [((909, 427), (956, 463)), 0.0], [((801, 607), (832, 629)), 1.0], [((243, 607), (274, 629)), 1]]\n",
      "[[((36, 472), (76, 503)), 6.0], [((828, 409), (937, 501)), 393.0], [((1035, 409), (1184, 503)), 1067.0], [((360, 427), (364, 449)), 2.0], [((657, 607), (688, 638)), 1.0], [((666, 490), (697, 512)), 1.0], [((1134, 589), (1156, 611)), 0.0], [((810, 589), (841, 602)), 0.0], [((999, 634), (1030, 656)), 1.0], [((1242, 445), (1273, 467)), 1.0], [((234, 490), (265, 512)), 1.0], [((459, 616), (472, 638)), 1.0], [((378, 445), (400, 476)), 0.0], [((1045, 476), (1127, 548)), 0.0], [((54, 580), (76, 611)), 0.0], [((216, 472), (247, 503)), 0.0], [((531, 409), (562, 431)), 0.0], [((504, 571), (517, 584)), 1], [((1215, 427), (1260, 458)), 0.0], [((9, 400), (31, 431)), 0.0], [((216, 427), (229, 449)), 0.0], [((675, 535), (706, 557)), 1.0], [((1178, 552), (1237, 615)), 0.0], [((1026, 526), (1030, 530)), 1], [((909, 427), (956, 463)), 0.0], [((801, 607), (832, 629)), 1.0], [((243, 607), (274, 629)), 1]]\n"
     ]
    },
    {
     "name": "stderr",
     "output_type": "stream",
     "text": [
      "\u001b[A\u001b[A\u001b[A\n",
      "\n",
      "\n",
      " 74%|███████▍  | 843/1136 [03:31<00:32,  9.10it/s]\u001b[A\u001b[A\u001b[A\n",
      "\n",
      "\n",
      " 75%|███████▌  | 852/1136 [03:31<00:22, 12.44it/s]"
     ]
    },
    {
     "name": "stdout",
     "output_type": "stream",
     "text": [
      "[[((171, 472), (211, 512)), 7.0], [((828, 400), (937, 485)), 394.0], [((1035, 409), (1084, 449)), 1070.0], [((360, 445), (391, 467)), 0.0], [((657, 607), (688, 638)), 2.0], [((666, 490), (697, 512)), 1.0], [((1134, 589), (1156, 611)), 0.0], [((810, 589), (841, 602)), 0.0], [((999, 634), (1030, 656)), 1.0], [((1242, 445), (1273, 467)), 1.0], [((234, 481), (265, 503)), 1.0], [((459, 616), (472, 638)), 1.0], [((378, 445), (400, 476)), 0.0], [((1045, 476), (1127, 548)), 0.0], [((54, 580), (76, 611)), 0.0], [((216, 472), (247, 503)), 0.0], [((531, 409), (562, 431)), 0.0], [((504, 571), (517, 584)), 1], [((1215, 427), (1260, 458)), 0.0], [((9, 400), (31, 431)), 0.0], [((216, 427), (229, 449)), 0.0], [((675, 535), (706, 557)), 1.0], [((1178, 552), (1237, 615)), 0.0], [((1026, 526), (1030, 530)), 1], [((909, 427), (956, 463)), 0.0], [((801, 607), (832, 629)), 1.0], [((243, 607), (274, 629)), 1]]\n",
      "[[((171, 490), (202, 521)), 10.0], [((828, 400), (937, 482)), 395.0], [((1026, 409), (1089, 463)), 1072.0], [((360, 445), (391, 467)), 0.0], [((729, 544), (760, 584)), 4.0], [((666, 490), (697, 512)), 1.0], [((1134, 589), (1156, 611)), 0.0], [((810, 589), (841, 602)), 0.0], [((999, 634), (1030, 656)), 1.0], [((1242, 445), (1273, 467)), 1.0], [((234, 481), (265, 503)), 1.0], [((459, 616), (472, 638)), 1.0], [((378, 445), (400, 476)), 0.0], [((1045, 476), (1127, 548)), 0.0], [((54, 580), (76, 611)), 0.0], [((216, 472), (247, 503)), 0.0], [((531, 409), (562, 431)), 0.0], [((504, 571), (517, 584)), 1], [((1215, 427), (1260, 458)), 0.0], [((9, 400), (31, 431)), 0.0], [((216, 427), (229, 449)), 0.0], [((675, 535), (706, 557)), 1.0], [((1178, 552), (1237, 615)), 0.0], [((1026, 526), (1030, 530)), 1], [((909, 427), (956, 463)), 0.0], [((801, 607), (832, 629)), 1.0], [((243, 607), (274, 629)), 1]]\n",
      "[[((153, 472), (184, 503)), 11.0], [((817, 400), (937, 494)), 396.0], [((1107, 427), (1201, 501)), 1074.0], [((360, 445), (391, 467)), 1.0], [((747, 544), (778, 575)), 6.0], [((666, 490), (697, 512)), 1.0], [((1134, 589), (1156, 611)), 0.0], [((810, 589), (841, 602)), 0.0], [((999, 634), (1030, 656)), 1.0], [((1242, 445), (1273, 467)), 1.0], [((234, 481), (265, 503)), 1.0], [((459, 616), (472, 638)), 1.0], [((378, 445), (400, 476)), 0.0], [((1045, 476), (1127, 548)), 0.0], [((54, 580), (76, 611)), 0.0], [((216, 472), (247, 503)), 0.0], [((531, 409), (562, 431)), 0.0], [((504, 571), (517, 584)), 1], [((1215, 427), (1260, 458)), 0.0], [((9, 400), (31, 431)), 0.0], [((216, 427), (229, 449)), 0.0], [((675, 535), (706, 557)), 1.0], [((1178, 552), (1237, 615)), 0.0], [((1026, 526), (1030, 530)), 1], [((909, 427), (956, 463)), 0.0], [((801, 607), (832, 629)), 1.0], [((243, 607), (274, 629)), 2]]\n",
      "[[((234, 472), (265, 503)), 9.0], [((817, 400), (937, 501)), 397.0], [((1121, 427), (1201, 501)), 1077.0], [((297, 454), (328, 476)), 1.0], [((684, 508), (706, 539)), 4.0], [((666, 490), (697, 512)), 1.0], [((1134, 589), (1156, 611)), 0.0], [((810, 589), (841, 602)), 0.0], [((999, 634), (1030, 656)), 1.0], [((1242, 445), (1273, 467)), 1.0], [((234, 481), (265, 503)), 1.0], [((459, 616), (472, 638)), 1.0], [((378, 445), (400, 476)), 0.0], [((1045, 476), (1127, 548)), 0.0], [((54, 580), (76, 611)), 1.0], [((216, 472), (247, 503)), 0.0], [((531, 409), (562, 431)), 0.0], [((504, 571), (517, 584)), 1], [((1215, 427), (1260, 458)), 0.0], [((9, 400), (31, 431)), 0.0], [((216, 427), (229, 449)), 0.0], [((675, 535), (706, 557)), 1.0], [((1178, 552), (1237, 615)), 0.0], [((1026, 526), (1030, 530)), 1], [((909, 427), (956, 463)), 0.0], [((801, 607), (832, 629)), 1.0], [((288, 652), (319, 683)), 3]]\n",
      "[[((234, 472), (265, 503)), 7.0], [((817, 409), (937, 501)), 398.0], [((1026, 418), (1089, 501)), 1079.0], [((297, 454), (328, 476)), 1.0], [((684, 508), (706, 539)), 2.0], [((666, 490), (697, 512)), 1.0], [((1134, 589), (1156, 611)), 0.0], [((810, 589), (841, 602)), 0.0], [((999, 634), (1030, 656)), 1.0], [((1242, 445), (1273, 467)), 1.0], [((234, 481), (265, 503)), 1.0], [((459, 616), (472, 638)), 1.0], [((378, 445), (400, 476)), 0.0], [((1045, 476), (1127, 548)), 0.0], [((90, 490), (121, 521)), 2.0], [((216, 472), (247, 503)), 0.0], [((531, 409), (562, 431)), 0.0], [((504, 571), (517, 584)), 1], [((1215, 427), (1260, 458)), 0.0], [((9, 400), (31, 431)), 0.0], [((216, 427), (229, 449)), 0.0], [((675, 535), (706, 557)), 1.0], [((1178, 552), (1237, 615)), 0.0], [((1026, 526), (1030, 530)), 1], [((909, 427), (956, 463)), 0.0], [((801, 607), (832, 629)), 1.0], [((288, 643), (337, 692)), 4]]\n",
      "[[((234, 472), (265, 503)), 8.0], [((817, 419), (937, 501)), 399.0], [((1107, 427), (1203, 501)), 1081.0], [((297, 454), (328, 476)), 1.0], [((684, 508), (706, 539)), 0.0], [((666, 490), (697, 512)), 1.0], [((1134, 589), (1156, 611)), 0.0], [((810, 589), (841, 602)), 0.0], [((999, 634), (1030, 656)), 1.0], [((1242, 445), (1273, 467)), 1.0], [((234, 481), (265, 503)), 1.0], [((459, 616), (472, 638)), 1.0], [((378, 445), (400, 476)), 0.0], [((1045, 476), (1127, 548)), 0.0], [((99, 499), (103, 503)), 0.0], [((216, 472), (247, 503)), 0.0], [((531, 409), (562, 431)), 0.0], [((504, 571), (517, 584)), 1], [((1215, 427), (1260, 458)), 0.0], [((9, 400), (31, 431)), 0.0], [((216, 427), (229, 449)), 0.0], [((675, 535), (706, 557)), 1.0], [((1178, 552), (1237, 615)), 0.0], [((1026, 526), (1030, 530)), 1], [((909, 427), (956, 463)), 0.0], [((801, 607), (832, 629)), 1.0], [((297, 643), (337, 692)), 5]]\n",
      "[[((171, 481), (184, 494)), 6.0], [((836, 409), (937, 501)), 400.0], [((1121, 419), (1203, 501)), 1083.0], [((297, 454), (328, 476)), 1.0], [((684, 508), (706, 539)), 0.0], [((666, 490), (697, 512)), 1.0], [((1134, 589), (1156, 611)), 0.0], [((810, 589), (841, 602)), 0.0], [((999, 634), (1030, 656)), 1.0], [((1242, 445), (1273, 467)), 1.0], [((234, 481), (265, 503)), 1.0], [((459, 616), (472, 638)), 1.0], [((378, 445), (400, 476)), 1.0], [((1045, 476), (1127, 548)), 0.0], [((99, 499), (103, 503)), 0.0], [((216, 472), (247, 503)), 0.0], [((531, 409), (562, 431)), 0.0], [((504, 571), (517, 584)), 1], [((1215, 427), (1260, 458)), 0.0], [((9, 400), (31, 431)), 0.0], [((216, 427), (229, 449)), 0.0], [((675, 535), (706, 557)), 1.0], [((1178, 552), (1237, 615)), 0.0], [((1026, 526), (1030, 530)), 1], [((909, 427), (956, 463)), 0.0], [((801, 607), (832, 629)), 1.0], [((297, 643), (337, 683)), 6]]\n",
      "[[((171, 481), (184, 494)), 7.0], [((836, 409), (937, 482)), 401.0], [((1121, 436), (1203, 501)), 1086.0], [((297, 454), (328, 476)), 1.0], [((684, 508), (706, 539)), 0.0], [((666, 490), (697, 512)), 1.0], [((1134, 589), (1156, 611)), 0.0], [((810, 589), (841, 602)), 0.0], [((999, 634), (1030, 656)), 1.0], [((1242, 445), (1273, 467)), 1.0], [((234, 481), (265, 503)), 1.0], [((459, 616), (472, 638)), 2.0], [((486, 481), (517, 512)), 1.0], [((1045, 476), (1127, 548)), 0.0], [((99, 499), (103, 503)), 0.0], [((216, 472), (247, 503)), 0.0], [((531, 409), (562, 431)), 0.0], [((504, 571), (517, 584)), 1], [((1215, 427), (1260, 458)), 0.0], [((9, 400), (31, 431)), 0.0], [((216, 427), (229, 449)), 0.0], [((675, 535), (706, 557)), 1.0], [((1178, 552), (1237, 615)), 0.0], [((1026, 526), (1030, 530)), 1], [((909, 427), (956, 463)), 0.0], [((801, 607), (832, 629)), 1.0], [((297, 652), (328, 683)), 7]]\n",
      "[[((99, 526), (130, 530)), 5.0], [((836, 400), (931, 494)), 402.0], [((1026, 409), (1089, 482)), 1088.0], [((297, 454), (328, 476)), 1.0], [((684, 508), (706, 539)), 0.0], [((666, 490), (697, 512)), 1.0], [((1134, 589), (1156, 611)), 0.0], [((810, 589), (841, 602)), 0.0], [((999, 634), (1030, 656)), 1.0], [((1242, 445), (1273, 467)), 2.0], [((234, 481), (265, 503)), 1.0], [((477, 490), (481, 512)), 3.0], [((486, 481), (517, 512)), 1.0], [((1045, 476), (1127, 548)), 0.0], [((99, 499), (103, 503)), 0.0], [((216, 472), (247, 503)), 0.0], [((531, 409), (562, 431)), 0.0], [((504, 571), (517, 584)), 1], [((1215, 427), (1260, 458)), 0.0], [((9, 400), (31, 431)), 0.0], [((216, 427), (229, 449)), 0.0], [((675, 535), (706, 557)), 1.0], [((1178, 552), (1237, 615)), 0.0], [((1026, 526), (1030, 530)), 1], [((909, 427), (956, 463)), 0.0], [((801, 607), (832, 629)), 1.0], [((297, 652), (337, 683)), 8]]\n",
      "[[((99, 526), (130, 530)), 3.0], [((836, 400), (937, 501)), 403.0], [((1026, 409), (1127, 503)), 1093.0], [((297, 454), (328, 476)), 1.0], [((684, 508), (706, 539)), 1.0], [((666, 490), (697, 512)), 1.0], [((1134, 589), (1156, 611)), 0.0], [((810, 589), (841, 602)), 0.0], [((999, 634), (1030, 656)), 1.0], [((1206, 436), (1210, 467)), 0.0], [((234, 481), (265, 503)), 1.0], [((450, 490), (490, 521)), 4.0], [((486, 481), (517, 512)), 1.0], [((1045, 476), (1127, 548)), 0.0], [((99, 499), (103, 503)), 0.0], [((216, 472), (247, 503)), 0.0], [((531, 409), (562, 431)), 0.0], [((504, 571), (517, 584)), 1], [((1215, 427), (1260, 458)), 0.0], [((9, 400), (31, 431)), 0.0], [((216, 427), (229, 449)), 0.0], [((675, 535), (706, 557)), 1.0], [((1178, 552), (1237, 615)), 0.0], [((1026, 526), (1030, 530)), 1], [((909, 427), (956, 463)), 0.0], [((801, 607), (832, 629)), 1.0], [((306, 652), (328, 674)), 9]]\n",
      "[[((99, 526), (130, 530)), 1.0], [((817, 409), (931, 494)), 404.0], [((1045, 409), (1108, 485)), 1095.0], [((297, 454), (328, 476)), 1.0], [((558, 490), (598, 521)), 5.0], [((666, 490), (697, 512)), 1.0], [((1134, 589), (1156, 611)), 0.0], [((810, 589), (841, 602)), 0.0], [((999, 634), (1030, 656)), 1.0], [((1206, 436), (1210, 467)), 0.0], [((234, 481), (265, 503)), 1.0], [((423, 490), (454, 521)), 5.0], [((486, 481), (517, 512)), 1.0], [((1045, 476), (1127, 548)), 0.0], [((99, 499), (103, 503)), 0.0], [((216, 472), (247, 503)), 0.0], [((531, 409), (562, 431)), 0.0], [((504, 571), (517, 584)), 1], [((1215, 427), (1260, 458)), 0.0], [((9, 400), (31, 431)), 0.0], [((216, 427), (229, 449)), 0.0], [((675, 535), (706, 557)), 1.0], [((1178, 552), (1237, 615)), 0.0], [((1026, 526), (1030, 530)), 1], [((909, 427), (956, 463)), 0.0], [((801, 607), (832, 629)), 1.0], [((306, 652), (337, 683)), 7.0]]\n",
      "[[((99, 526), (130, 530)), 1.0], [((810, 409), (922, 501)), 405.0], [((1026, 409), (1108, 494)), 1097.0], [((297, 454), (328, 476)), 1.0], [((612, 463), (643, 503)), 6.0], [((666, 490), (697, 512)), 1.0], [((1134, 589), (1156, 611)), 0.0], [((810, 589), (841, 602)), 0.0], [((999, 634), (1030, 656)), 1.0], [((1206, 436), (1210, 467)), 1.0], [((234, 481), (265, 503)), 1.0], [((432, 508), (454, 539)), 6.0], [((486, 481), (517, 512)), 1.0], [((1045, 476), (1127, 548)), 0.0], [((99, 499), (103, 503)), 0.0], [((216, 472), (247, 503)), 0.0], [((531, 409), (562, 431)), 0.0], [((504, 571), (517, 584)), 1], [((1215, 427), (1260, 458)), 0.0], [((9, 400), (31, 431)), 0.0], [((216, 427), (229, 449)), 0.0], [((675, 535), (706, 557)), 1.0], [((1178, 552), (1237, 615)), 0.0], [((1026, 526), (1030, 530)), 1], [((909, 427), (956, 463)), 0.0], [((801, 607), (832, 629)), 1.0], [((306, 652), (337, 683)), 5.0]]\n",
      "[[((99, 526), (130, 530)), 1.0], [((828, 400), (937, 501)), 406.0], [((1045, 409), (1108, 494)), 1100.0], [((297, 454), (328, 476)), 2.0], [((630, 481), (661, 512)), 7.0], [((666, 490), (697, 512)), 1.0], [((1134, 589), (1156, 611)), 0.0], [((810, 589), (841, 602)), 0.0], [((999, 634), (1030, 656)), 1.0], [((1215, 436), (1246, 467)), 2.0], [((234, 481), (265, 503)), 1.0], [((396, 490), (481, 548)), 8.0], [((486, 481), (517, 512)), 1.0], [((1045, 476), (1127, 548)), 0.0], [((99, 499), (103, 503)), 0.0], [((216, 472), (247, 503)), 0.0], [((531, 409), (562, 431)), 0.0], [((504, 571), (517, 584)), 1], [((1215, 427), (1260, 458)), 0.0], [((9, 400), (31, 431)), 0.0], [((216, 427), (229, 449)), 0.0], [((675, 535), (706, 557)), 1.0], [((1178, 552), (1237, 615)), 0.0], [((1026, 526), (1030, 530)), 1], [((909, 427), (956, 463)), 0.0], [((801, 607), (832, 629)), 1.0], [((306, 652), (337, 683)), 3.0]]\n",
      "[[((99, 526), (130, 530)), 1.0], [((810, 400), (937, 501)), 407.0], [((1026, 409), (1108, 494)), 1102.0], [((360, 526), (391, 557)), 5.0], [((540, 517), (553, 530)), 5.0], [((666, 490), (697, 512)), 1.0], [((1134, 589), (1156, 611)), 0.0], [((810, 589), (841, 602)), 0.0], [((999, 634), (1030, 656)), 1.0], [((1224, 418), (1264, 467)), 0.0], [((234, 481), (265, 503)), 1.0], [((396, 526), (436, 557)), 6.0], [((486, 481), (517, 512)), 1.0], [((1045, 476), (1127, 548)), 0.0], [((99, 499), (103, 503)), 0.0], [((216, 472), (247, 503)), 0.0], [((531, 409), (562, 431)), 0.0], [((504, 571), (517, 584)), 1], [((1215, 427), (1260, 458)), 0.0], [((9, 400), (31, 431)), 0.0], [((216, 427), (229, 449)), 0.0], [((675, 535), (706, 557)), 1.0], [((1178, 552), (1237, 615)), 0.0], [((1026, 526), (1030, 530)), 1], [((909, 427), (956, 463)), 0.0], [((801, 607), (832, 629)), 1.0], [((306, 652), (337, 683)), 1.0]]\n",
      "[[((99, 526), (130, 530)), 3.0], [((817, 409), (922, 501)), 409.0], [((1035, 418), (1111, 501)), 1105.0], [((360, 544), (391, 575)), 9.0], [((540, 517), (553, 530)), 7.0], [((666, 490), (697, 512)), 1.0], [((1134, 589), (1156, 611)), 0.0], [((810, 589), (841, 602)), 0.0], [((999, 634), (1030, 656)), 1.0], [((1224, 418), (1264, 467)), 0.0], [((234, 481), (265, 503)), 2.0], [((396, 526), (436, 557)), 4.0], [((486, 481), (517, 512)), 1.0], [((1045, 476), (1127, 548)), 0.0], [((99, 499), (103, 503)), 0.0], [((216, 472), (247, 503)), 0.0], [((531, 409), (562, 431)), 0.0], [((504, 571), (517, 584)), 1], [((1215, 427), (1260, 458)), 0.0], [((9, 400), (31, 431)), 0.0], [((216, 427), (229, 449)), 0.0], [((675, 535), (706, 557)), 1.0], [((1178, 552), (1237, 615)), 0.0], [((1026, 526), (1030, 530)), 1], [((909, 427), (956, 463)), 0.0], [((801, 607), (832, 629)), 1.0], [((306, 652), (337, 683)), 1.0]]\n"
     ]
    },
    {
     "name": "stderr",
     "output_type": "stream",
     "text": [
      "\u001b[A\u001b[A\u001b[A\n",
      "\n",
      "\n",
      " 76%|███████▌  | 858/1136 [03:31<00:24, 11.58it/s]"
     ]
    },
    {
     "name": "stdout",
     "output_type": "stream",
     "text": [
      "[[((45, 562), (85, 593)), 4.0], [((817, 409), (937, 482)), 410.0], [((1044, 409), (1138, 503)), 1108.0], [((297, 553), (373, 620)), 14.0], [((594, 526), (616, 539)), 8.0], [((666, 490), (697, 512)), 1.0], [((1134, 589), (1156, 611)), 0.0], [((810, 589), (841, 602)), 0.0], [((999, 634), (1030, 656)), 1.0], [((1224, 418), (1264, 467)), 0.0], [((216, 580), (247, 602)), 0.0], [((396, 526), (436, 557)), 2.0], [((486, 481), (517, 512)), 1.0], [((1045, 476), (1127, 548)), 0.0], [((99, 499), (103, 503)), 0.0], [((216, 472), (247, 503)), 0.0], [((531, 409), (562, 431)), 0.0], [((504, 571), (517, 584)), 1], [((1215, 427), (1260, 458)), 0.0], [((9, 400), (31, 431)), 0.0], [((216, 427), (229, 449)), 0.0], [((675, 535), (706, 557)), 1.0], [((1178, 552), (1237, 615)), 0.0], [((1026, 526), (1030, 530)), 1], [((909, 427), (956, 463)), 0.0], [((801, 607), (832, 629)), 1.0], [((306, 652), (337, 683)), 1.0]]\n",
      "[[((36, 598), (40, 602)), 5.0], [((836, 409), (937, 501)), 411.0], [((1045, 409), (1111, 501)), 1111.0], [((351, 535), (391, 575)), 19.0], [((432, 508), (481, 557)), 6.0], [((666, 490), (697, 512)), 3.0], [((1134, 589), (1156, 611)), 0.0], [((810, 589), (841, 602)), 0.0], [((999, 634), (1030, 656)), 1.0], [((1224, 418), (1264, 467)), 0.0], [((216, 580), (247, 602)), 1.0], [((396, 526), (436, 557)), 0.0], [((486, 481), (517, 512)), 2.0], [((1045, 476), (1127, 548)), 0.0], [((99, 499), (103, 503)), 1.0], [((216, 472), (247, 503)), 0.0], [((531, 409), (562, 431)), 0.0], [((504, 571), (517, 584)), 1], [((1215, 427), (1260, 458)), 0.0], [((9, 400), (31, 431)), 0.0], [((216, 427), (229, 449)), 0.0], [((675, 535), (706, 557)), 1.0], [((1178, 552), (1237, 615)), 0.0], [((1026, 526), (1030, 530)), 1], [((909, 427), (956, 463)), 0.0], [((801, 607), (832, 629)), 1.0], [((306, 652), (337, 683)), 1.0]]\n",
      "[[((126, 562), (175, 611)), 10.0], [((836, 409), (937, 501)), 412.0], [((1045, 418), (1138, 501)), 1114.0], [((297, 544), (373, 602)), 23.0], [((432, 508), (481, 557)), 10.0], [((639, 508), (697, 557)), 4.0], [((1134, 589), (1156, 611)), 0.0], [((810, 589), (841, 602)), 0.0], [((999, 634), (1030, 656)), 1.0], [((1224, 418), (1264, 467)), 0.0], [((180, 553), (229, 611)), 1.0], [((396, 526), (436, 557)), 0.0], [((549, 544), (607, 584)), 0.0], [((1045, 476), (1127, 548)), 0.0], [((117, 481), (148, 503)), 2.0], [((216, 472), (247, 503)), 0.0], [((531, 409), (562, 431)), 0.0], [((504, 571), (517, 584)), 1], [((1215, 427), (1260, 458)), 0.0], [((9, 400), (31, 431)), 1.0], [((216, 427), (229, 449)), 0.0], [((675, 535), (706, 557)), 1.0], [((1178, 552), (1237, 615)), 0.0], [((1026, 526), (1030, 530)), 1], [((909, 427), (956, 463)), 0.0], [((801, 607), (832, 629)), 1.0], [((306, 652), (337, 683)), 1.0]]\n",
      "[[((189, 562), (310, 602)), 11.0], [((836, 409), (937, 494)), 413.0], [((1045, 409), (1111, 501)), 1116.0], [((324, 553), (382, 602)), 24.0], [((468, 495), (499, 530)), 12.0], [((603, 544), (634, 575)), 6.0], [((1134, 589), (1156, 611)), 0.0], [((810, 589), (841, 602)), 0.0], [((999, 634), (1030, 656)), 1.0], [((1224, 418), (1264, 467)), 0.0], [((180, 553), (229, 611)), 2.0], [((396, 526), (436, 557)), 0.0], [((549, 544), (607, 584)), 0.0], [((1045, 476), (1127, 548)), 0.0], [((54, 472), (63, 503)), 0.0], [((216, 472), (247, 503)), 0.0], [((531, 409), (562, 431)), 0.0], [((504, 571), (517, 584)), 1], [((1215, 427), (1260, 458)), 0.0], [((18, 409), (49, 440)), 1.0], [((216, 427), (229, 449)), 0.0], [((675, 535), (706, 557)), 1.0], [((1178, 552), (1237, 615)), 0.0], [((1026, 526), (1030, 530)), 1], [((909, 427), (956, 463)), 0.0], [((801, 607), (832, 629)), 1.0], [((306, 652), (337, 683)), 1.0], [((18, 598), (49, 629)), 2]]\n"
     ]
    },
    {
     "name": "stderr",
     "output_type": "stream",
     "text": [
      "\u001b[A\u001b[A\u001b[A"
     ]
    },
    {
     "name": "stdout",
     "output_type": "stream",
     "text": [
      "[[((180, 580), (283, 674)), 13.0], [((836, 400), (937, 482)), 414.0], [((1045, 409), (1120, 501)), 1120.0], [((450, 580), (481, 611)), 28.0], [((551, 481), (598, 521)), 13.0], [((693, 508), (715, 539)), 8.0], [((1134, 589), (1156, 611)), 0.0], [((810, 589), (841, 602)), 0.0], [((999, 634), (1030, 656)), 1.0], [((1224, 418), (1264, 467)), 0.0], [((117, 607), (157, 638)), 4.0], [((396, 526), (436, 557)), 0.0], [((549, 544), (607, 584)), 0.0], [((1045, 476), (1127, 548)), 0.0], [((54, 472), (63, 503)), 0.0], [((216, 472), (247, 503)), 0.0], [((531, 409), (562, 431)), 0.0], [((504, 571), (517, 584)), 1], [((1215, 427), (1260, 458)), 0.0], [((18, 409), (49, 440)), 1.0], [((216, 427), (229, 449)), 0.0], [((675, 535), (706, 557)), 1.0], [((1178, 552), (1237, 615)), 0.0], [((1026, 526), (1030, 530)), 1], [((909, 427), (956, 463)), 0.0], [((801, 607), (832, 629)), 1.0], [((306, 652), (337, 683)), 1.0], [((63, 625), (103, 665)), 0.0]]\n",
      "[[((108, 589), (310, 665)), 11.0], [((817, 400), (937, 485)), 415.0], [((1045, 409), (1108, 485)), 1122.0], [((405, 508), (436, 539)), 32.0], [((549, 499), (580, 530)), 15.0], [((639, 589), (661, 611)), 6.0], [((1134, 589), (1156, 611)), 0.0], [((810, 589), (841, 602)), 1.0], [((999, 634), (1030, 656)), 1.0], [((1224, 418), (1264, 467)), 0.0], [((27, 562), (58, 593)), 5.0], [((396, 526), (436, 557)), 1.0], [((549, 544), (607, 584)), 0.0], [((1045, 476), (1127, 548)), 0.0], [((54, 472), (63, 503)), 0.0], [((216, 472), (247, 503)), 0.0], [((531, 409), (562, 431)), 0.0], [((504, 571), (517, 584)), 1], [((1215, 427), (1260, 458)), 0.0], [((18, 409), (49, 440)), 1.0], [((216, 427), (229, 449)), 0.0], [((675, 535), (706, 557)), 1.0], [((1178, 552), (1237, 615)), 0.0], [((1026, 526), (1030, 530)), 1], [((909, 427), (956, 463)), 0.0], [((801, 607), (832, 629)), 1.0], [((306, 652), (337, 683)), 2.0], [((63, 625), (103, 665)), 0.0]]\n"
     ]
    },
    {
     "name": "stderr",
     "output_type": "stream",
     "text": [
      "\n",
      "\n",
      "\n",
      "\r",
      " 76%|███████▌  | 862/1136 [03:32<00:28,  9.46it/s]"
     ]
    },
    {
     "name": "stdout",
     "output_type": "stream",
     "text": [
      "[[((108, 589), (310, 665)), 9.0], [((836, 400), (937, 494)), 416.0], [((1140, 427), (1237, 501)), 1124.0], [((378, 517), (436, 557)), 37.0], [((495, 571), (535, 602)), 18.0], [((639, 589), (661, 611)), 7.0], [((1134, 589), (1156, 611)), 0.0], [((756, 499), (769, 530)), 1.0], [((999, 634), (1030, 656)), 1.0], [((1224, 418), (1264, 467)), 0.0], [((18, 562), (49, 584)), 3.0], [((387, 652), (391, 665)), 1.0], [((549, 544), (607, 584)), 0.0], [((1045, 476), (1127, 548)), 0.0], [((54, 472), (63, 503)), 0.0], [((216, 472), (247, 503)), 0.0], [((531, 409), (562, 431)), 0.0], [((504, 571), (517, 584)), 1], [((1215, 427), (1260, 458)), 0.0], [((18, 409), (49, 440)), 1.0], [((216, 427), (229, 449)), 0.0], [((675, 535), (706, 557)), 1.0], [((1178, 552), (1237, 615)), 0.0], [((1026, 526), (1030, 530)), 1], [((909, 427), (956, 463)), 0.0], [((801, 607), (832, 629)), 1.0], [((360, 652), (364, 665)), 0.0], [((63, 625), (103, 665)), 0.0]]\n",
      "[[((108, 589), (310, 665)), 12.0], [((836, 400), (922, 501)), 417.0], [((1121, 427), (1222, 503)), 1126.0], [((522, 517), (562, 557)), 43.0], [((513, 580), (535, 611)), 21.0], [((657, 571), (679, 575)), 8.0], [((1134, 589), (1156, 611)), 0.0], [((756, 499), (769, 530)), 1.0], [((999, 634), (1030, 656)), 1.0], [((1224, 418), (1264, 467)), 0.0], [((18, 562), (49, 584)), 4.0], [((387, 652), (391, 665)), 3.0], [((549, 544), (607, 584)), 0.0], [((1045, 476), (1127, 548)), 0.0], [((54, 472), (63, 503)), 0.0], [((216, 472), (247, 503)), 0.0], [((531, 409), (562, 431)), 0.0], [((504, 571), (517, 584)), 1], [((1215, 427), (1260, 458)), 0.0], [((18, 409), (49, 440)), 1.0], [((216, 427), (229, 449)), 0.0], [((675, 535), (706, 557)), 1.0], [((1178, 552), (1237, 615)), 0.0], [((1026, 526), (1030, 530)), 1], [((909, 427), (956, 463)), 0.0], [((801, 607), (832, 629)), 1.0], [((360, 652), (364, 665)), 0.0], [((63, 625), (103, 665)), 0.0]]\n"
     ]
    },
    {
     "name": "stderr",
     "output_type": "stream",
     "text": [
      "\u001b[A\u001b[A\u001b[A\n",
      "\n",
      "\n",
      " 76%|███████▌  | 865/1136 [03:34<01:06,  4.07it/s]\u001b[A\u001b[A\u001b[A\n",
      "\n",
      "\n",
      " 77%|███████▋  | 872/1136 [03:34<00:46,  5.64it/s]"
     ]
    },
    {
     "name": "stdout",
     "output_type": "stream",
     "text": [
      "[[((279, 589), (310, 620)), 14.0], [((828, 400), (937, 501)), 418.0], [((1134, 418), (1219, 503)), 1129.0], [((513, 517), (544, 557)), 44.0], [((405, 607), (436, 638)), 19.0], [((729, 571), (742, 575)), 9.0], [((1134, 589), (1156, 611)), 0.0], [((756, 499), (769, 530)), 1.0], [((999, 634), (1030, 656)), 2.0], [((1224, 418), (1264, 467)), 0.0], [((72, 571), (94, 593)), 5.0], [((369, 616), (382, 629)), 1.0], [((549, 544), (607, 584)), 0.0], [((1045, 476), (1127, 548)), 0.0], [((54, 472), (63, 503)), 0.0], [((216, 472), (247, 503)), 0.0], [((531, 409), (562, 431)), 0.0], [((504, 571), (517, 584)), 1], [((1215, 427), (1260, 458)), 0.0], [((18, 409), (49, 440)), 1.0], [((216, 427), (229, 449)), 0.0], [((675, 535), (706, 557)), 1.0], [((1178, 552), (1237, 615)), 0.0], [((1026, 526), (1030, 530)), 1], [((909, 427), (956, 463)), 0.0], [((801, 607), (832, 629)), 1.0], [((360, 652), (364, 665)), 0.0], [((63, 625), (103, 665)), 0.0]]\n",
      "[[((198, 634), (292, 674)), 19.0], [((828, 400), (937, 494)), 419.0], [((1045, 409), (1127, 501)), 1131.0], [((504, 535), (526, 566)), 42.0], [((405, 607), (436, 638)), 17.0], [((648, 580), (670, 611)), 7.0], [((1134, 589), (1156, 611)), 0.0], [((756, 499), (769, 530)), 1.0], [((981, 634), (1021, 665)), 0.0], [((1224, 418), (1264, 467)), 0.0], [((117, 643), (139, 674)), 3.0], [((369, 616), (382, 629)), 1.0], [((549, 544), (607, 584)), 0.0], [((1045, 476), (1127, 548)), 0.0], [((54, 472), (63, 503)), 0.0], [((216, 472), (247, 503)), 0.0], [((531, 409), (562, 431)), 0.0], [((504, 571), (517, 584)), 1], [((1215, 427), (1260, 458)), 0.0], [((18, 409), (49, 440)), 1.0], [((216, 427), (229, 449)), 0.0], [((675, 535), (706, 557)), 1.0], [((1178, 552), (1237, 615)), 0.0], [((1026, 526), (1030, 530)), 1], [((909, 427), (956, 463)), 0.0], [((801, 607), (832, 629)), 1.0], [((360, 652), (364, 665)), 0.0], [((63, 625), (103, 665)), 0.0]]\n",
      "[[((108, 634), (139, 665)), 17.0], [((828, 400), (940, 482)), 420.0], [((1143, 418), (1246, 494)), 1133.0], [((504, 535), (526, 566)), 45.0], [((405, 607), (436, 638)), 15.0], [((648, 580), (670, 611)), 5.0], [((1134, 589), (1156, 611)), 0.0], [((756, 499), (769, 530)), 1.0], [((981, 634), (1021, 665)), 0.0], [((1224, 418), (1264, 467)), 0.0], [((117, 643), (139, 674)), 1.0], [((369, 616), (382, 629)), 1.0], [((549, 544), (607, 584)), 0.0], [((1045, 476), (1127, 548)), 0.0], [((54, 472), (63, 503)), 0.0], [((216, 472), (247, 503)), 0.0], [((531, 409), (562, 431)), 0.0], [((504, 571), (517, 584)), 1], [((1215, 427), (1260, 458)), 0.0], [((18, 409), (49, 440)), 1.0], [((216, 427), (229, 449)), 0.0], [((675, 535), (706, 557)), 1.0], [((1178, 552), (1237, 615)), 0.0], [((1026, 526), (1030, 530)), 1], [((909, 427), (956, 463)), 0.0], [((801, 607), (832, 629)), 1.0], [((360, 652), (364, 665)), 0.0], [((63, 625), (103, 665)), 0.0]]\n",
      "[[((108, 634), (139, 665)), 18.0], [((836, 400), (940, 501)), 422.0], [((1045, 400), (1147, 501)), 1134.0], [((441, 580), (472, 611)), 43.0], [((405, 607), (436, 638)), 13.0], [((648, 580), (670, 611)), 3.0], [((1134, 589), (1156, 611)), 0.0], [((756, 499), (769, 530)), 1.0], [((981, 634), (1021, 665)), 0.0], [((1224, 418), (1264, 467)), 0.0], [((117, 643), (139, 674)), 1.0], [((369, 616), (382, 629)), 1.0], [((549, 544), (607, 584)), 0.0], [((1045, 476), (1127, 548)), 0.0], [((54, 472), (63, 503)), 0.0], [((216, 472), (247, 503)), 0.0], [((531, 409), (562, 431)), 0.0], [((504, 571), (517, 584)), 1], [((1215, 427), (1260, 458)), 0.0], [((18, 409), (49, 440)), 1.0], [((216, 427), (229, 449)), 0.0], [((675, 535), (706, 557)), 1.0], [((1178, 552), (1237, 615)), 0.0], [((1026, 526), (1030, 530)), 1], [((909, 427), (956, 463)), 0.0], [((801, 607), (832, 629)), 1.0], [((360, 652), (364, 665)), 0.0], [((63, 625), (103, 665)), 0.0]]\n",
      "[[((180, 634), (211, 647)), 16.0], [((874, 409), (937, 476)), 423.0], [((1045, 400), (1210, 501)), 1137.0], [((441, 580), (472, 611)), 41.0], [((405, 607), (436, 638)), 11.0], [((648, 580), (670, 611)), 4.0], [((1134, 589), (1156, 611)), 0.0], [((756, 499), (769, 530)), 3.0], [((981, 634), (1021, 665)), 0.0], [((1224, 418), (1264, 467)), 0.0], [((117, 643), (139, 674)), 1.0], [((369, 616), (382, 629)), 1.0], [((549, 544), (607, 584)), 0.0], [((1045, 476), (1127, 548)), 0.0], [((54, 472), (63, 503)), 1.0], [((216, 472), (247, 503)), 0.0], [((531, 409), (562, 431)), 0.0], [((504, 571), (517, 584)), 1], [((1215, 427), (1260, 458)), 0.0], [((18, 409), (49, 440)), 1.0], [((216, 427), (229, 449)), 0.0], [((675, 535), (706, 557)), 1.0], [((1178, 552), (1237, 615)), 0.0], [((1026, 526), (1030, 530)), 1], [((909, 427), (956, 463)), 0.0], [((801, 607), (832, 629)), 1.0], [((360, 652), (364, 665)), 0.0], [((63, 625), (103, 665)), 0.0]]\n",
      "[[((180, 634), (211, 647)), 14.0], [((874, 409), (937, 494)), 424.0], [((1062, 400), (1127, 501)), 1139.0], [((441, 580), (472, 611)), 39.0], [((405, 607), (436, 638)), 9.0], [((747, 625), (751, 647)), 2.0], [((1134, 589), (1156, 611)), 0.0], [((765, 625), (778, 647)), 1.0], [((981, 634), (1021, 665)), 0.0], [((1224, 418), (1264, 467)), 0.0], [((117, 643), (139, 674)), 1.0], [((369, 616), (382, 629)), 1.0], [((549, 544), (607, 584)), 0.0], [((1045, 476), (1127, 548)), 0.0], [((27, 562), (31, 575)), 1.0], [((216, 472), (247, 503)), 1.0], [((531, 409), (562, 431)), 0.0], [((504, 571), (517, 584)), 1], [((1215, 427), (1260, 458)), 0.0], [((18, 409), (49, 440)), 1.0], [((216, 427), (229, 449)), 0.0], [((675, 535), (706, 557)), 1.0], [((1178, 552), (1237, 615)), 0.0], [((1026, 526), (1030, 530)), 1], [((909, 427), (956, 463)), 0.0], [((801, 607), (832, 629)), 1.0], [((360, 652), (364, 665)), 0.0], [((63, 625), (103, 665)), 0.0]]\n",
      "[[((180, 634), (211, 647)), 12.0], [((836, 409), (940, 482)), 425.0], [((1045, 400), (1127, 501)), 1141.0], [((441, 580), (472, 611)), 37.0], [((405, 607), (436, 638)), 7.0], [((747, 625), (751, 647)), 0.0], [((1134, 589), (1156, 611)), 0.0], [((765, 625), (778, 647)), 1.0], [((981, 634), (1021, 665)), 0.0], [((1224, 418), (1264, 467)), 1.0], [((117, 643), (139, 674)), 1.0], [((369, 616), (382, 629)), 1.0], [((549, 544), (607, 584)), 0.0], [((1045, 476), (1127, 548)), 0.0], [((27, 562), (31, 575)), 1.0], [((279, 436), (301, 467)), 1.0], [((531, 409), (562, 431)), 0.0], [((504, 571), (517, 584)), 1], [((1215, 427), (1260, 458)), 0.0], [((18, 409), (49, 440)), 1.0], [((216, 427), (229, 449)), 0.0], [((675, 535), (706, 557)), 1.0], [((1178, 552), (1237, 615)), 0.0], [((1026, 526), (1030, 530)), 1], [((909, 427), (956, 463)), 0.0], [((801, 607), (832, 629)), 1.0], [((360, 652), (364, 665)), 0.0], [((63, 625), (103, 665)), 0.0]]\n",
      "[[((180, 634), (211, 647)), 10.0], [((836, 400), (937, 482)), 426.0], [((1152, 427), (1241, 501)), 1144.0], [((441, 580), (472, 611)), 35.0], [((405, 607), (436, 638)), 5.0], [((747, 625), (751, 647)), 0.0], [((1134, 589), (1156, 611)), 0.0], [((765, 625), (778, 647)), 1.0], [((981, 634), (1021, 665)), 0.0], [((1233, 481), (1241, 501)), 1.0], [((117, 643), (139, 674)), 1.0], [((369, 616), (382, 629)), 1.0], [((549, 544), (607, 584)), 0.0], [((1045, 476), (1127, 548)), 0.0], [((27, 562), (31, 575)), 1.0], [((279, 436), (301, 467)), 2.0], [((531, 409), (562, 431)), 0.0], [((504, 571), (517, 584)), 1], [((1215, 427), (1260, 458)), 0.0], [((18, 409), (49, 440)), 1.0], [((216, 427), (229, 449)), 0.0], [((675, 535), (706, 557)), 1.0], [((1178, 552), (1237, 615)), 0.0], [((1026, 526), (1030, 530)), 1], [((909, 427), (956, 463)), 0.0], [((801, 607), (832, 629)), 1.0], [((360, 652), (364, 665)), 0.0], [((63, 625), (103, 665)), 0.0]]\n",
      "[[((180, 634), (211, 647)), 8.0], [((836, 400), (937, 494)), 427.0], [((1152, 418), (1241, 501)), 1147.0], [((441, 580), (472, 611)), 33.0], [((405, 607), (436, 638)), 3.0], [((747, 625), (751, 647)), 0.0], [((1134, 589), (1156, 611)), 0.0], [((765, 625), (778, 647)), 1.0], [((981, 634), (1021, 665)), 0.0], [((1233, 481), (1241, 501)), 1.0], [((117, 643), (139, 674)), 1.0], [((369, 616), (382, 629)), 1.0], [((549, 544), (607, 584)), 0.0], [((1045, 476), (1127, 548)), 0.0], [((27, 562), (31, 575)), 1.0], [((171, 418), (193, 440)), 3.0], [((531, 409), (562, 431)), 0.0], [((504, 571), (517, 584)), 1], [((1215, 427), (1260, 458)), 0.0], [((18, 409), (49, 440)), 1.0], [((216, 427), (229, 449)), 0.0], [((675, 535), (706, 557)), 1.0], [((1178, 552), (1237, 615)), 0.0], [((1026, 526), (1030, 530)), 1], [((909, 427), (956, 463)), 0.0], [((801, 607), (832, 629)), 1.0], [((360, 652), (364, 665)), 0.0], [((63, 625), (103, 665)), 0.0]]\n",
      "[[((180, 634), (211, 647)), 6.0], [((836, 400), (937, 494)), 428.0], [((1161, 427), (1241, 501)), 1150.0], [((441, 580), (472, 611)), 31.0], [((405, 607), (436, 638)), 1.0], [((747, 625), (751, 647)), 0.0], [((1134, 589), (1156, 611)), 0.0], [((765, 625), (778, 647)), 1.0], [((981, 634), (1021, 665)), 0.0], [((1233, 481), (1241, 501)), 1.0], [((117, 643), (139, 674)), 1.0], [((369, 616), (382, 629)), 1.0], [((549, 544), (607, 584)), 0.0], [((1045, 476), (1127, 548)), 0.0], [((27, 562), (31, 575)), 1.0], [((162, 418), (184, 440)), 1.0], [((531, 409), (562, 431)), 0.0], [((504, 571), (517, 584)), 1], [((1215, 427), (1260, 458)), 0.0], [((18, 409), (49, 440)), 1.0], [((216, 427), (229, 449)), 0.0], [((675, 535), (706, 557)), 1.0], [((1178, 552), (1237, 615)), 0.0], [((1026, 526), (1030, 530)), 1], [((909, 427), (956, 463)), 0.0], [((801, 607), (832, 629)), 1.0], [((360, 652), (364, 665)), 0.0], [((63, 625), (103, 665)), 0.0]]\n",
      "[[((180, 634), (211, 647)), 4.0], [((817, 400), (937, 501)), 429.0], [((1062, 400), (1138, 501)), 1153.0], [((441, 580), (472, 611)), 29.0], [((405, 607), (436, 638)), 1.0], [((747, 625), (751, 647)), 0.0], [((1134, 589), (1156, 611)), 0.0], [((765, 625), (778, 647)), 1.0], [((981, 634), (1021, 665)), 0.0], [((1233, 481), (1241, 501)), 1.0], [((117, 643), (139, 674)), 1.0], [((369, 616), (382, 629)), 1.0], [((549, 544), (607, 584)), 0.0], [((1045, 476), (1127, 548)), 0.0], [((27, 562), (31, 575)), 1.0], [((162, 418), (184, 440)), 1.0], [((531, 409), (562, 431)), 0.0], [((504, 571), (517, 584)), 1], [((1215, 427), (1260, 458)), 0.0], [((18, 409), (49, 440)), 1.0], [((216, 427), (229, 449)), 0.0], [((675, 535), (706, 557)), 1.0], [((1178, 552), (1237, 615)), 0.0], [((1026, 526), (1030, 530)), 1], [((909, 427), (956, 463)), 0.0], [((801, 607), (832, 629)), 1.0], [((360, 652), (364, 665)), 0.0], [((63, 625), (103, 665)), 0.0]]\n",
      "[[((180, 634), (211, 647)), 2.0], [((817, 409), (937, 494)), 430.0], [((1062, 409), (1138, 501)), 1155.0], [((441, 580), (472, 611)), 27.0], [((405, 607), (436, 638)), 1.0], [((747, 625), (751, 647)), 0.0], [((1134, 589), (1156, 611)), 0.0], [((765, 625), (778, 647)), 1.0], [((981, 634), (1021, 665)), 0.0], [((1233, 481), (1241, 501)), 1.0], [((117, 643), (139, 674)), 1.0], [((369, 616), (382, 629)), 1.0], [((549, 544), (607, 584)), 0.0], [((1045, 476), (1127, 548)), 0.0], [((27, 562), (31, 575)), 1.0], [((162, 418), (184, 440)), 1.0], [((531, 409), (562, 431)), 0.0], [((504, 571), (517, 584)), 1], [((1215, 427), (1260, 458)), 0.0], [((18, 409), (49, 440)), 1.0], [((216, 427), (229, 449)), 0.0], [((675, 535), (706, 557)), 1.0], [((1178, 552), (1237, 615)), 0.0], [((1026, 526), (1030, 530)), 1], [((909, 427), (956, 463)), 0.0], [((801, 607), (832, 629)), 1.0], [((360, 652), (364, 665)), 0.0], [((63, 625), (103, 665)), 0.0]]\n",
      "[[((180, 634), (211, 647)), 0.0], [((817, 409), (937, 482)), 432.0], [((1064, 409), (1147, 494)), 1158.0], [((441, 580), (472, 611)), 25.0], [((405, 607), (436, 638)), 1.0], [((747, 625), (751, 647)), 0.0], [((1134, 589), (1156, 611)), 0.0], [((765, 625), (778, 647)), 1.0], [((981, 634), (1021, 665)), 0.0], [((1233, 481), (1241, 501)), 1.0], [((117, 643), (139, 674)), 1.0], [((369, 616), (382, 629)), 1.0], [((549, 544), (607, 584)), 0.0], [((1045, 476), (1127, 548)), 0.0], [((27, 562), (31, 575)), 1.0], [((162, 418), (184, 440)), 1.0], [((531, 409), (562, 431)), 0.0], [((504, 571), (517, 584)), 1], [((1215, 427), (1260, 458)), 0.0], [((18, 409), (49, 440)), 1.0], [((216, 427), (229, 449)), 0.0], [((675, 535), (706, 557)), 1.0], [((1178, 552), (1237, 615)), 0.0], [((1026, 526), (1030, 530)), 1], [((909, 427), (956, 463)), 0.0], [((801, 607), (832, 629)), 1.0], [((360, 652), (364, 665)), 0.0], [((63, 625), (103, 665)), 0.0]]\n",
      "[[((180, 634), (211, 647)), 0.0], [((864, 409), (922, 463)), 433.0], [((1161, 418), (1260, 501)), 1160.0], [((441, 580), (472, 611)), 23.0], [((405, 607), (436, 638)), 1.0], [((747, 625), (751, 647)), 0.0], [((1134, 589), (1156, 611)), 0.0], [((765, 625), (778, 647)), 1.0], [((981, 634), (1021, 665)), 0.0], [((1233, 481), (1241, 501)), 1.0], [((117, 643), (139, 674)), 1.0], [((369, 616), (382, 629)), 1.0], [((549, 544), (607, 584)), 0.0], [((1045, 476), (1127, 548)), 0.0], [((27, 562), (31, 575)), 1.0], [((162, 418), (184, 440)), 1.0], [((531, 409), (562, 431)), 0.0], [((504, 571), (517, 584)), 1], [((1215, 427), (1260, 458)), 0.0], [((18, 409), (49, 440)), 1.0], [((216, 427), (229, 449)), 0.0], [((675, 535), (706, 557)), 1.0], [((1178, 552), (1237, 615)), 0.0], [((1026, 526), (1030, 530)), 1], [((909, 427), (956, 463)), 0.0], [((801, 607), (832, 629)), 1.0], [((360, 652), (364, 665)), 0.0], [((63, 625), (103, 665)), 0.0]]\n"
     ]
    },
    {
     "name": "stderr",
     "output_type": "stream",
     "text": [
      "\u001b[A\u001b[A\u001b[A"
     ]
    },
    {
     "name": "stdout",
     "output_type": "stream",
     "text": [
      "[[((180, 634), (211, 647)), 0.0], [((817, 400), (913, 485)), 434.0], [((1064, 409), (1147, 494)), 1162.0], [((441, 580), (472, 611)), 21.0], [((405, 607), (436, 638)), 1.0], [((747, 625), (751, 647)), 0.0], [((1134, 589), (1156, 611)), 0.0], [((765, 625), (778, 647)), 1.0], [((981, 634), (1021, 665)), 0.0], [((1233, 481), (1241, 501)), 1.0], [((117, 643), (139, 674)), 1.0], [((369, 616), (382, 629)), 1.0], [((549, 544), (607, 584)), 0.0], [((1045, 476), (1127, 548)), 0.0], [((27, 562), (31, 575)), 1.0], [((162, 418), (184, 440)), 1.0], [((531, 409), (562, 431)), 0.0], [((504, 571), (517, 584)), 1], [((1215, 427), (1260, 458)), 0.0], [((18, 409), (49, 440)), 1.0], [((216, 427), (229, 449)), 0.0], [((675, 535), (706, 557)), 1.0], [((1178, 552), (1237, 615)), 0.0], [((1026, 526), (1030, 530)), 1], [((909, 427), (956, 463)), 0.0], [((801, 607), (832, 629)), 1.0], [((360, 652), (364, 665)), 0.0], [((63, 625), (103, 665)), 0.0]]\n",
      "[[((180, 634), (211, 647)), 0.0], [((836, 400), (922, 482)), 435.0], [((1064, 400), (1146, 501)), 1164.0], [((441, 580), (472, 611)), 19.0], [((405, 607), (436, 638)), 1.0], [((747, 625), (751, 647)), 0.0], [((1134, 589), (1156, 611)), 0.0], [((765, 625), (778, 647)), 1.0], [((981, 634), (1021, 665)), 0.0], [((1233, 481), (1241, 501)), 1.0], [((117, 643), (139, 674)), 1.0], [((369, 616), (382, 629)), 1.0], [((549, 544), (607, 584)), 0.0], [((1045, 476), (1127, 548)), 0.0], [((27, 562), (31, 575)), 1.0], [((162, 418), (184, 440)), 1.0], [((531, 409), (562, 431)), 0.0], [((504, 571), (517, 584)), 1], [((1215, 427), (1260, 458)), 0.0], [((18, 409), (49, 440)), 1.0], [((216, 427), (229, 449)), 0.0], [((675, 535), (706, 557)), 1.0], [((1178, 552), (1237, 615)), 0.0], [((1026, 526), (1030, 530)), 1], [((909, 427), (956, 463)), 0.0], [((801, 607), (832, 629)), 1.0], [((360, 652), (364, 665)), 0.0], [((63, 625), (103, 665)), 0.0]]\n"
     ]
    },
    {
     "name": "stderr",
     "output_type": "stream",
     "text": [
      "\n",
      "\n",
      "\n",
      "\r",
      " 77%|███████▋  | 879/1136 [03:35<00:39,  6.58it/s]"
     ]
    },
    {
     "name": "stdout",
     "output_type": "stream",
     "text": [
      "[[((180, 634), (211, 647)), 0.0], [((837, 400), (922, 482)), 436.0], [((1161, 418), (1260, 501)), 1167.0], [((441, 580), (472, 611)), 17.0], [((405, 607), (436, 638)), 1.0], [((747, 625), (751, 647)), 0.0], [((1134, 589), (1156, 611)), 0.0], [((765, 625), (778, 647)), 1.0], [((981, 634), (1021, 665)), 0.0], [((1233, 481), (1241, 501)), 1.0], [((117, 643), (139, 674)), 1.0], [((369, 616), (382, 629)), 1.0], [((549, 544), (607, 584)), 0.0], [((1045, 476), (1127, 548)), 0.0], [((27, 562), (31, 575)), 1.0], [((162, 418), (184, 440)), 1.0], [((531, 409), (562, 431)), 0.0], [((504, 571), (517, 584)), 1], [((1215, 427), (1260, 458)), 0.0], [((18, 409), (49, 440)), 1.0], [((216, 427), (229, 449)), 0.0], [((675, 535), (706, 557)), 1.0], [((1178, 552), (1237, 615)), 0.0], [((1026, 526), (1030, 530)), 1], [((909, 427), (956, 463)), 0.0], [((801, 607), (832, 629)), 1.0], [((360, 652), (364, 665)), 0.0], [((63, 625), (103, 665)), 0.0]]\n",
      "[[((180, 634), (211, 647)), 0.0], [((837, 400), (937, 463)), 437.0], [((1083, 400), (1146, 501)), 1171.0], [((441, 580), (472, 611)), 15.0], [((405, 607), (436, 638)), 1.0], [((747, 625), (751, 647)), 0.0], [((1134, 589), (1156, 611)), 0.0], [((765, 625), (778, 647)), 1.0], [((981, 634), (1021, 665)), 0.0], [((1233, 481), (1241, 501)), 1.0], [((117, 643), (139, 674)), 1.0], [((369, 616), (382, 629)), 1.0], [((549, 544), (607, 584)), 0.0], [((1045, 476), (1127, 548)), 0.0], [((27, 562), (31, 575)), 1.0], [((162, 418), (184, 440)), 1.0], [((531, 409), (562, 431)), 0.0], [((504, 571), (517, 584)), 1], [((1215, 427), (1260, 458)), 0.0], [((18, 409), (49, 440)), 1.0], [((216, 427), (229, 449)), 0.0], [((675, 535), (706, 557)), 1.0], [((1178, 552), (1237, 615)), 0.0], [((1026, 526), (1030, 530)), 1], [((909, 427), (956, 463)), 0.0], [((801, 607), (832, 629)), 1.0], [((360, 652), (364, 665)), 0.0], [((63, 625), (103, 665)), 0.0]]\n"
     ]
    },
    {
     "name": "stderr",
     "output_type": "stream",
     "text": [
      "\u001b[A\u001b[A\u001b[A\n",
      "\n",
      "\n",
      " 78%|███████▊  | 882/1136 [03:36<00:55,  4.57it/s]\u001b[A\u001b[A\u001b[A\n",
      "\n",
      "\n",
      " 78%|███████▊  | 884/1136 [03:36<00:42,  5.90it/s]"
     ]
    },
    {
     "name": "stdout",
     "output_type": "stream",
     "text": [
      "[[((180, 634), (211, 647)), 0.0], [((837, 400), (937, 463)), 439.0], [((1161, 400), (1264, 494)), 1173.0], [((441, 580), (472, 611)), 13.0], [((405, 607), (436, 638)), 1.0], [((747, 625), (751, 647)), 0.0], [((1134, 589), (1156, 611)), 0.0], [((765, 625), (778, 647)), 1.0], [((981, 634), (1021, 665)), 0.0], [((1233, 481), (1241, 501)), 1.0], [((117, 643), (139, 674)), 1.0], [((369, 616), (382, 629)), 1.0], [((549, 544), (607, 584)), 0.0], [((1045, 476), (1127, 548)), 0.0], [((27, 562), (31, 575)), 1.0], [((162, 418), (184, 440)), 1.0], [((531, 409), (562, 431)), 0.0], [((504, 571), (517, 584)), 1], [((1215, 427), (1260, 458)), 0.0], [((18, 409), (49, 440)), 1.0], [((216, 427), (229, 449)), 0.0], [((675, 535), (706, 557)), 1.0], [((1178, 552), (1237, 615)), 0.0], [((1026, 526), (1030, 530)), 1], [((909, 427), (956, 463)), 0.0], [((801, 607), (832, 629)), 1.0], [((360, 652), (364, 665)), 0.0], [((63, 625), (103, 665)), 0.0]]\n",
      "[[((180, 634), (211, 647)), 0.0], [((882, 400), (937, 463)), 440.0], [((1161, 400), (1255, 482)), 1177.0], [((441, 580), (472, 611)), 11.0], [((405, 607), (436, 638)), 1.0], [((747, 625), (751, 647)), 0.0], [((1134, 589), (1156, 611)), 0.0], [((765, 625), (778, 647)), 1.0], [((981, 634), (1021, 665)), 0.0], [((1233, 481), (1241, 501)), 1.0], [((117, 643), (139, 674)), 1.0], [((369, 616), (382, 629)), 1.0], [((549, 544), (607, 584)), 0.0], [((1045, 476), (1127, 548)), 0.0], [((27, 562), (31, 575)), 1.0], [((162, 418), (184, 440)), 3.0], [((531, 409), (562, 431)), 0.0], [((504, 571), (517, 584)), 1], [((1215, 427), (1260, 458)), 0.0], [((18, 409), (49, 440)), 1.0], [((216, 427), (229, 449)), 0.0], [((675, 535), (706, 557)), 1.0], [((1178, 552), (1237, 615)), 0.0], [((1026, 526), (1030, 530)), 1], [((909, 427), (956, 463)), 0.0], [((801, 607), (832, 629)), 1.0], [((360, 652), (364, 665)), 0.0], [((63, 625), (103, 665)), 0.0]]\n",
      "[[((180, 634), (211, 647)), 0.0], [((882, 409), (922, 458)), 441.0], [((1170, 409), (1237, 458)), 1181.0], [((441, 580), (472, 611)), 9.0], [((405, 607), (436, 638)), 1.0], [((747, 625), (751, 647)), 0.0], [((1134, 589), (1156, 611)), 0.0], [((765, 625), (778, 647)), 1.0], [((981, 634), (1021, 665)), 0.0], [((1233, 481), (1241, 501)), 1.0], [((117, 643), (139, 674)), 1.0], [((369, 616), (382, 629)), 1.0], [((549, 544), (607, 584)), 0.0], [((1045, 476), (1127, 548)), 0.0], [((27, 562), (31, 575)), 1.0], [((171, 418), (202, 449)), 1.0], [((531, 409), (562, 431)), 0.0], [((504, 571), (517, 584)), 1], [((1215, 427), (1260, 458)), 0.0], [((18, 409), (49, 440)), 1.0], [((216, 427), (229, 449)), 0.0], [((675, 535), (706, 557)), 1.0], [((1178, 552), (1237, 615)), 0.0], [((1026, 526), (1030, 530)), 1], [((909, 427), (956, 463)), 0.0], [((801, 607), (832, 629)), 1.0], [((360, 652), (364, 665)), 0.0], [((63, 625), (103, 665)), 0.0]]\n",
      "[[((180, 634), (211, 647)), 0.0], [((873, 400), (937, 463)), 443.0], [((1083, 400), (1147, 501)), 1183.0], [((441, 580), (472, 611)), 7.0], [((405, 607), (436, 638)), 1.0], [((747, 625), (751, 647)), 0.0], [((1134, 589), (1156, 611)), 0.0], [((765, 625), (778, 647)), 1.0], [((981, 634), (1021, 665)), 0.0], [((1233, 481), (1241, 501)), 1.0], [((117, 643), (139, 674)), 1.0], [((369, 616), (382, 629)), 1.0], [((549, 544), (607, 584)), 0.0], [((1045, 476), (1127, 548)), 0.0], [((27, 562), (31, 575)), 1.0], [((171, 418), (202, 449)), 1.0], [((531, 409), (562, 431)), 0.0], [((504, 571), (517, 584)), 1], [((1215, 427), (1260, 458)), 0.0], [((18, 409), (49, 440)), 1.0], [((216, 427), (229, 449)), 0.0], [((675, 535), (706, 557)), 1.0], [((1178, 552), (1237, 615)), 0.0], [((1026, 526), (1030, 530)), 1], [((909, 427), (956, 463)), 0.0], [((801, 607), (832, 629)), 1.0], [((360, 652), (364, 665)), 0.0], [((63, 625), (103, 665)), 0.0]]\n",
      "[[((180, 634), (211, 647)), 0.0], [((864, 400), (937, 482)), 444.0], [((1083, 400), (1165, 501)), 1185.0], [((441, 580), (472, 611)), 5.0], [((405, 607), (436, 638)), 1.0], [((747, 625), (751, 647)), 0.0], [((1134, 589), (1156, 611)), 0.0], [((765, 625), (778, 647)), 1.0], [((981, 634), (1021, 665)), 0.0], [((1233, 481), (1241, 501)), 1.0], [((117, 643), (139, 674)), 1.0], [((369, 616), (382, 629)), 1.0], [((549, 544), (607, 584)), 0.0], [((1045, 476), (1127, 548)), 0.0], [((27, 562), (31, 575)), 1.0], [((171, 418), (202, 449)), 1.0], [((531, 409), (562, 431)), 0.0], [((504, 571), (517, 584)), 1], [((1215, 427), (1260, 458)), 0.0], [((18, 409), (49, 440)), 1.0], [((216, 427), (229, 449)), 0.0], [((675, 535), (706, 557)), 1.0], [((1178, 552), (1237, 615)), 0.0], [((1026, 526), (1030, 530)), 1], [((909, 427), (956, 463)), 0.0], [((801, 607), (832, 629)), 1.0], [((360, 652), (364, 665)), 0.0], [((63, 625), (103, 665)), 0.0]]\n",
      "[[((180, 634), (211, 647)), 0.0], [((836, 400), (937, 485)), 446.0], [((1083, 400), (1165, 501)), 1188.0], [((441, 580), (472, 611)), 3.0], [((405, 607), (436, 638)), 1.0], [((747, 625), (751, 647)), 0.0], [((1134, 589), (1156, 611)), 0.0], [((765, 625), (778, 647)), 1.0], [((981, 634), (1021, 665)), 0.0], [((1233, 481), (1241, 501)), 2.0], [((117, 643), (139, 674)), 1.0], [((369, 616), (382, 629)), 1.0], [((549, 544), (607, 584)), 0.0], [((1045, 476), (1127, 548)), 0.0], [((27, 562), (31, 575)), 1.0], [((171, 418), (202, 449)), 1.0], [((531, 409), (562, 431)), 0.0], [((504, 571), (517, 584)), 1], [((1215, 427), (1260, 458)), 0.0], [((18, 409), (49, 440)), 1.0], [((216, 427), (229, 449)), 0.0], [((675, 535), (706, 557)), 1.0], [((1178, 552), (1237, 615)), 0.0], [((1026, 526), (1030, 530)), 1], [((909, 427), (956, 463)), 0.0], [((801, 607), (832, 629)), 1.0], [((360, 652), (364, 665)), 0.0], [((63, 625), (103, 665)), 0.0]]\n"
     ]
    },
    {
     "name": "stderr",
     "output_type": "stream",
     "text": [
      "\u001b[A\u001b[A\u001b[A\n",
      "\n",
      "\n",
      " 78%|███████▊  | 887/1136 [03:38<01:24,  2.93it/s]"
     ]
    },
    {
     "name": "stdout",
     "output_type": "stream",
     "text": [
      "[[((180, 634), (211, 647)), 0.0], [((874, 400), (937, 482)), 447.0], [((1083, 400), (1165, 501)), 1189.0], [((441, 580), (472, 611)), 1.0], [((405, 607), (436, 638)), 1.0], [((747, 625), (751, 647)), 0.0], [((1134, 589), (1156, 611)), 0.0], [((765, 625), (778, 647)), 1.0], [((981, 634), (1021, 665)), 0.0], [((1242, 481), (1255, 512)), 0.0], [((117, 643), (139, 674)), 1.0], [((369, 616), (382, 629)), 1.0], [((549, 544), (607, 584)), 0.0], [((1045, 476), (1127, 548)), 0.0], [((27, 562), (31, 575)), 1.0], [((171, 418), (202, 449)), 1.0], [((531, 409), (562, 431)), 0.0], [((504, 571), (517, 584)), 1], [((1215, 427), (1260, 458)), 0.0], [((18, 409), (49, 440)), 1.0], [((216, 427), (229, 449)), 0.0], [((675, 535), (706, 557)), 1.0], [((1178, 552), (1237, 615)), 0.0], [((1026, 526), (1030, 530)), 1], [((909, 427), (956, 463)), 0.0], [((801, 607), (832, 629)), 1.0], [((360, 652), (364, 665)), 0.0], [((63, 625), (103, 665)), 0.0]]\n"
     ]
    },
    {
     "name": "stderr",
     "output_type": "stream",
     "text": [
      "\u001b[A\u001b[A\u001b[A\n",
      "\n",
      "\n",
      " 78%|███████▊  | 889/1136 [03:39<01:35,  2.58it/s]\u001b[A\u001b[A\u001b[A\n",
      "\n",
      "\n",
      " 79%|███████▉  | 898/1136 [03:39<01:05,  3.64it/s]"
     ]
    },
    {
     "name": "stdout",
     "output_type": "stream",
     "text": [
      "[[((180, 634), (211, 647)), 0.0], [((836, 400), (940, 482)), 448.0], [((1083, 400), (1222, 494)), 1191.0], [((441, 580), (472, 611)), 1.0], [((405, 607), (436, 638)), 1.0], [((747, 625), (751, 647)), 0.0], [((1134, 589), (1156, 611)), 0.0], [((765, 625), (778, 647)), 1.0], [((981, 634), (1021, 665)), 0.0], [((1242, 481), (1255, 512)), 0.0], [((117, 643), (139, 674)), 1.0], [((369, 616), (382, 629)), 1.0], [((549, 544), (607, 584)), 0.0], [((1045, 476), (1127, 548)), 0.0], [((27, 562), (31, 575)), 1.0], [((171, 418), (202, 449)), 1.0], [((531, 409), (562, 431)), 0.0], [((504, 571), (517, 584)), 1], [((1215, 427), (1260, 458)), 0.0], [((18, 409), (49, 440)), 1.0], [((216, 427), (229, 449)), 0.0], [((675, 535), (706, 557)), 1.0], [((1178, 552), (1237, 615)), 0.0], [((1026, 526), (1030, 530)), 1], [((909, 427), (956, 463)), 0.0], [((801, 607), (832, 629)), 1.0], [((360, 652), (364, 665)), 0.0], [((63, 625), (103, 665)), 0.0]]\n",
      "[[((180, 634), (211, 647)), 0.0], [((836, 400), (937, 482)), 449.0], [((1083, 409), (1165, 494)), 1193.0], [((441, 580), (472, 611)), 1.0], [((405, 607), (436, 638)), 1.0], [((747, 625), (751, 647)), 0.0], [((1134, 589), (1156, 611)), 0.0], [((765, 625), (778, 647)), 1.0], [((981, 634), (1021, 665)), 0.0], [((1242, 481), (1255, 512)), 1.0], [((117, 643), (139, 674)), 1.0], [((369, 616), (382, 629)), 1.0], [((549, 544), (607, 584)), 0.0], [((1045, 476), (1127, 548)), 0.0], [((27, 562), (31, 575)), 1.0], [((171, 418), (202, 449)), 1.0], [((531, 409), (562, 431)), 0.0], [((504, 571), (517, 584)), 1], [((1215, 427), (1260, 458)), 0.0], [((18, 409), (49, 440)), 1.0], [((216, 427), (229, 449)), 0.0], [((675, 535), (706, 557)), 1.0], [((1178, 552), (1237, 615)), 0.0], [((1026, 526), (1030, 530)), 1], [((909, 427), (956, 463)), 0.0], [((801, 607), (832, 629)), 1.0], [((360, 652), (364, 665)), 0.0], [((63, 625), (103, 665)), 0.0]]\n",
      "[[((180, 634), (211, 647)), 0.0], [((855, 400), (937, 482)), 450.0], [((1083, 400), (1165, 501)), 1196.0], [((441, 580), (472, 611)), 1.0], [((405, 607), (436, 638)), 1.0], [((747, 625), (751, 647)), 0.0], [((1134, 589), (1156, 611)), 0.0], [((765, 625), (778, 647)), 1.0], [((981, 634), (1021, 665)), 0.0], [((1242, 463), (1273, 494)), 2.0], [((117, 643), (139, 674)), 1.0], [((369, 616), (382, 629)), 1.0], [((549, 544), (607, 584)), 0.0], [((1045, 476), (1127, 548)), 0.0], [((27, 562), (31, 575)), 1.0], [((171, 418), (202, 449)), 1.0], [((531, 409), (562, 431)), 0.0], [((504, 571), (517, 584)), 1], [((1215, 427), (1260, 458)), 0.0], [((18, 409), (49, 440)), 1.0], [((216, 427), (229, 449)), 0.0], [((675, 535), (706, 557)), 1.0], [((1178, 552), (1237, 615)), 0.0], [((1026, 526), (1030, 530)), 1], [((909, 427), (956, 463)), 0.0], [((801, 607), (832, 629)), 1.0], [((360, 652), (364, 665)), 0.0], [((63, 625), (103, 665)), 0.0]]\n",
      "[[((180, 634), (211, 647)), 0.0], [((855, 400), (937, 482)), 451.0], [((1083, 438), (1147, 501)), 1198.0], [((441, 580), (472, 611)), 1.0], [((405, 607), (436, 638)), 1.0], [((747, 625), (751, 647)), 0.0], [((1134, 589), (1156, 611)), 0.0], [((765, 625), (778, 647)), 1.0], [((981, 634), (1021, 665)), 0.0], [((1233, 463), (1273, 494)), 0.0], [((117, 643), (139, 674)), 1.0], [((369, 616), (382, 629)), 1.0], [((549, 544), (607, 584)), 0.0], [((1045, 476), (1127, 548)), 0.0], [((27, 562), (31, 575)), 1.0], [((171, 418), (202, 449)), 2.0], [((531, 409), (562, 431)), 0.0], [((504, 571), (517, 584)), 1], [((1215, 427), (1260, 458)), 0.0], [((18, 409), (49, 440)), 1.0], [((216, 427), (229, 449)), 0.0], [((675, 535), (706, 557)), 1.0], [((1178, 552), (1237, 615)), 0.0], [((1026, 526), (1030, 530)), 1], [((909, 427), (956, 463)), 0.0], [((801, 607), (832, 629)), 1.0], [((360, 652), (364, 665)), 0.0], [((63, 625), (103, 665)), 0.0]]\n",
      "[[((180, 634), (211, 647)), 0.0], [((817, 400), (937, 482)), 452.0], [((1083, 400), (1165, 501)), 1200.0], [((441, 580), (472, 611)), 1.0], [((405, 607), (436, 638)), 1.0], [((747, 625), (751, 647)), 0.0], [((1134, 589), (1156, 611)), 0.0], [((765, 625), (778, 647)), 1.0], [((981, 634), (1021, 665)), 0.0], [((1233, 463), (1273, 494)), 1.0], [((117, 643), (139, 674)), 1.0], [((369, 616), (382, 629)), 1.0], [((549, 544), (607, 584)), 0.0], [((1045, 476), (1127, 548)), 0.0], [((27, 562), (31, 575)), 1.0], [((99, 418), (130, 440)), 0.0], [((531, 409), (562, 431)), 0.0], [((504, 571), (517, 584)), 1], [((1215, 427), (1260, 458)), 0.0], [((18, 409), (49, 440)), 1.0], [((216, 427), (229, 449)), 0.0], [((675, 535), (706, 557)), 1.0], [((1178, 552), (1237, 615)), 0.0], [((1026, 526), (1030, 530)), 1], [((909, 427), (956, 463)), 0.0], [((801, 607), (832, 629)), 1.0], [((360, 652), (364, 665)), 0.0], [((63, 625), (103, 665)), 0.0]]\n",
      "[[((180, 634), (211, 647)), 0.0], [((817, 400), (937, 482)), 453.0], [((1083, 419), (1174, 503)), 1205.0], [((441, 580), (472, 611)), 1.0], [((405, 607), (436, 638)), 1.0], [((747, 625), (751, 647)), 0.0], [((1134, 589), (1156, 611)), 0.0], [((765, 625), (778, 647)), 1.0], [((981, 634), (1021, 665)), 0.0], [((1224, 481), (1255, 501)), 1.0], [((117, 643), (139, 674)), 1.0], [((369, 616), (382, 629)), 1.0], [((549, 544), (607, 584)), 0.0], [((1045, 476), (1127, 548)), 0.0], [((27, 562), (31, 575)), 1.0], [((99, 418), (130, 440)), 2.0], [((531, 409), (562, 431)), 0.0], [((504, 571), (517, 584)), 1], [((1215, 427), (1260, 458)), 0.0], [((18, 409), (49, 440)), 1.0], [((216, 427), (229, 449)), 0.0], [((675, 535), (706, 557)), 1.0], [((1178, 552), (1237, 615)), 0.0], [((1026, 526), (1030, 530)), 1], [((909, 427), (956, 463)), 0.0], [((801, 607), (832, 629)), 1.0], [((360, 652), (364, 665)), 0.0], [((63, 625), (103, 665)), 0.0]]\n",
      "[[((180, 634), (211, 647)), 0.0], [((874, 400), (937, 463)), 454.0], [((1188, 418), (1241, 458)), 1209.0], [((441, 580), (472, 611)), 1.0], [((405, 607), (436, 638)), 1.0], [((747, 625), (751, 647)), 0.0], [((1134, 589), (1156, 611)), 0.0], [((765, 625), (778, 647)), 1.0], [((981, 634), (1021, 665)), 0.0], [((1224, 481), (1255, 501)), 1.0], [((117, 643), (139, 674)), 1.0], [((369, 616), (382, 629)), 1.0], [((549, 544), (607, 584)), 0.0], [((1045, 476), (1127, 548)), 0.0], [((27, 562), (31, 575)), 2.0], [((54, 418), (58, 449)), 3.0], [((531, 409), (562, 431)), 0.0], [((504, 571), (517, 584)), 1], [((1215, 427), (1260, 458)), 0.0], [((18, 409), (49, 440)), 1.0], [((216, 427), (229, 449)), 1.0], [((675, 535), (706, 557)), 1.0], [((1178, 552), (1237, 615)), 0.0], [((1026, 526), (1030, 530)), 1], [((909, 427), (956, 463)), 0.0], [((801, 607), (832, 629)), 1.0], [((360, 652), (364, 665)), 0.0], [((63, 625), (103, 665)), 0.0]]\n",
      "[[((180, 634), (211, 647)), 0.0], [((837, 400), (937, 482)), 455.0], [((1089, 454), (1174, 501)), 1211.0], [((441, 580), (472, 611)), 1.0], [((405, 607), (436, 638)), 1.0], [((747, 625), (751, 647)), 0.0], [((1134, 589), (1156, 611)), 0.0], [((765, 625), (778, 647)), 1.0], [((981, 634), (1021, 665)), 0.0], [((1224, 481), (1255, 501)), 1.0], [((117, 643), (139, 674)), 1.0], [((369, 616), (382, 629)), 1.0], [((549, 544), (607, 584)), 0.0], [((1045, 476), (1127, 548)), 0.0], [((18, 418), (40, 449)), 3.0], [((72, 438), (103, 449)), 1.0], [((531, 409), (562, 431)), 0.0], [((504, 571), (517, 584)), 1], [((1215, 427), (1260, 458)), 0.0], [((18, 409), (49, 440)), 1.0], [((324, 427), (355, 458)), 2.0], [((675, 535), (706, 557)), 1.0], [((1178, 552), (1237, 615)), 0.0], [((1026, 526), (1030, 530)), 1], [((909, 427), (956, 463)), 0.0], [((801, 607), (832, 629)), 1.0], [((360, 652), (364, 665)), 0.0], [((63, 625), (103, 665)), 0.0]]\n",
      "[[((180, 634), (211, 647)), 0.0], [((836, 400), (937, 482)), 457.0], [((1197, 409), (1264, 463)), 1214.0], [((441, 580), (472, 611)), 1.0], [((405, 607), (436, 638)), 1.0], [((747, 625), (751, 647)), 0.0], [((1134, 589), (1156, 611)), 0.0], [((765, 625), (778, 647)), 1.0], [((981, 634), (1021, 665)), 0.0], [((1224, 481), (1255, 501)), 1.0], [((117, 643), (139, 674)), 1.0], [((369, 616), (382, 629)), 1.0], [((549, 544), (607, 584)), 0.0], [((1045, 476), (1127, 548)), 0.0], [((54, 418), (76, 449)), 4.0], [((72, 438), (103, 449)), 1.0], [((531, 409), (562, 431)), 0.0], [((504, 571), (517, 584)), 1], [((1215, 427), (1260, 458)), 0.0], [((18, 409), (49, 440)), 1.0], [((315, 427), (346, 458)), 3.0], [((675, 535), (706, 557)), 1.0], [((1178, 552), (1237, 615)), 0.0], [((1026, 526), (1030, 530)), 1], [((909, 427), (956, 463)), 0.0], [((801, 607), (832, 629)), 1.0], [((360, 652), (364, 665)), 0.0], [((63, 625), (103, 665)), 0.0]]\n",
      "[[((180, 634), (211, 647)), 0.0], [((874, 400), (937, 482)), 459.0], [((1188, 409), (1241, 458)), 1220.0], [((441, 580), (472, 611)), 1.0], [((405, 607), (436, 638)), 1.0], [((747, 625), (751, 647)), 0.0], [((1134, 589), (1156, 611)), 0.0], [((765, 625), (778, 647)), 1.0], [((981, 634), (1021, 665)), 0.0], [((1224, 481), (1255, 501)), 1.0], [((117, 643), (139, 674)), 1.0], [((369, 616), (382, 629)), 1.0], [((549, 544), (607, 584)), 0.0], [((1045, 476), (1127, 548)), 0.0], [((45, 418), (76, 449)), 5.0], [((72, 438), (103, 449)), 1.0], [((531, 409), (562, 431)), 0.0], [((504, 571), (517, 584)), 1], [((1215, 427), (1260, 458)), 0.0], [((18, 409), (49, 440)), 1.0], [((297, 409), (328, 449)), 4.0], [((675, 535), (706, 557)), 1.0], [((1178, 552), (1237, 615)), 0.0], [((1026, 526), (1030, 530)), 1], [((909, 427), (956, 463)), 0.0], [((801, 607), (832, 629)), 1.0], [((360, 652), (364, 665)), 0.0], [((63, 625), (103, 665)), 0.0]]\n",
      "[[((180, 634), (211, 647)), 0.0], [((874, 400), (937, 467)), 460.0], [((1197, 418), (1237, 458)), 1222.0], [((441, 580), (472, 611)), 1.0], [((405, 607), (436, 638)), 1.0], [((747, 625), (751, 647)), 0.0], [((1134, 589), (1156, 611)), 0.0], [((765, 625), (778, 647)), 1.0], [((981, 634), (1021, 665)), 0.0], [((1224, 481), (1255, 501)), 1.0], [((117, 643), (139, 674)), 1.0], [((369, 616), (382, 629)), 1.0], [((549, 544), (607, 584)), 0.0], [((1045, 476), (1127, 548)), 0.0], [((117, 427), (148, 458)), 6.0], [((72, 438), (103, 449)), 1.0], [((531, 409), (562, 431)), 0.0], [((504, 571), (517, 584)), 1], [((1215, 427), (1260, 458)), 0.0], [((18, 409), (49, 440)), 1.0], [((279, 418), (310, 440)), 6.0], [((675, 535), (706, 557)), 1.0], [((1178, 552), (1237, 615)), 0.0], [((1026, 526), (1030, 530)), 1], [((909, 427), (956, 463)), 0.0], [((801, 607), (832, 629)), 1.0], [((360, 652), (364, 665)), 0.0], [((63, 625), (103, 665)), 0.0]]\n",
      "[[((180, 634), (211, 647)), 0.0], [((836, 400), (922, 467)), 461.0], [((1125, 454), (1156, 494)), 1225.0], [((441, 580), (472, 611)), 1.0], [((405, 607), (436, 638)), 1.0], [((747, 625), (751, 647)), 0.0], [((1134, 589), (1156, 611)), 0.0], [((765, 625), (778, 647)), 1.0], [((981, 634), (1021, 665)), 0.0], [((1224, 481), (1255, 501)), 1.0], [((117, 643), (139, 674)), 1.0], [((369, 616), (382, 629)), 1.0], [((549, 544), (607, 584)), 0.0], [((1045, 476), (1127, 548)), 0.0], [((99, 427), (121, 458)), 7.0], [((72, 438), (103, 449)), 1.0], [((531, 409), (562, 431)), 0.0], [((504, 571), (517, 584)), 1], [((1215, 427), (1260, 458)), 0.0], [((18, 409), (49, 440)), 1.0], [((261, 409), (265, 431)), 4.0], [((675, 535), (706, 557)), 1.0], [((1178, 552), (1237, 615)), 0.0], [((1026, 526), (1030, 530)), 1], [((909, 427), (956, 463)), 0.0], [((801, 607), (832, 629)), 1.0], [((360, 652), (364, 665)), 0.0], [((63, 625), (103, 665)), 0.0]]\n",
      "[[((180, 634), (211, 647)), 0.0], [((836, 400), (931, 476)), 462.0], [((1121, 427), (1183, 485)), 1227.0], [((441, 580), (472, 611)), 1.0], [((405, 607), (436, 638)), 1.0], [((747, 625), (751, 647)), 0.0], [((1134, 589), (1156, 611)), 0.0], [((765, 625), (778, 647)), 1.0], [((981, 634), (1021, 665)), 0.0], [((1224, 481), (1255, 501)), 1.0], [((117, 643), (139, 674)), 1.0], [((369, 616), (382, 629)), 1.0], [((549, 544), (607, 584)), 0.0], [((1045, 476), (1127, 548)), 0.0], [((216, 400), (283, 467)), 8.0], [((72, 438), (103, 449)), 2.0], [((531, 409), (562, 431)), 0.0], [((504, 571), (517, 584)), 1], [((1215, 427), (1260, 458)), 0.0], [((18, 409), (49, 440)), 1.0], [((261, 409), (265, 431)), 2.0], [((675, 535), (706, 557)), 1.0], [((1178, 552), (1237, 615)), 0.0], [((1026, 526), (1030, 530)), 1], [((909, 427), (956, 463)), 0.0], [((801, 607), (832, 629)), 1.0], [((360, 652), (364, 665)), 0.0], [((63, 625), (103, 665)), 0.0]]\n",
      "[[((180, 634), (211, 647)), 0.0], [((817, 400), (940, 482)), 463.0], [((1197, 400), (1273, 463)), 1230.0], [((441, 580), (472, 611)), 1.0], [((405, 607), (436, 638)), 1.0], [((747, 625), (751, 647)), 0.0], [((1134, 589), (1156, 611)), 0.0], [((765, 625), (778, 647)), 1.0], [((981, 634), (1021, 665)), 0.0], [((1224, 481), (1255, 501)), 1.0], [((117, 643), (139, 674)), 1.0], [((369, 616), (382, 629)), 1.0], [((549, 544), (607, 584)), 0.0], [((1045, 476), (1127, 548)), 0.0], [((216, 409), (247, 440)), 10.0], [((9, 427), (40, 458)), 0.0], [((531, 409), (562, 431)), 0.0], [((504, 571), (517, 584)), 1], [((1215, 427), (1260, 458)), 0.0], [((18, 409), (49, 440)), 1.0], [((261, 409), (265, 431)), 0.0], [((675, 535), (706, 557)), 1.0], [((1178, 552), (1237, 615)), 0.0], [((1026, 526), (1030, 530)), 1], [((909, 427), (956, 463)), 0.0], [((801, 607), (832, 629)), 1.0], [((360, 652), (364, 665)), 0.0], [((63, 625), (103, 665)), 0.0]]\n",
      "[[((180, 634), (211, 647)), 0.0], [((810, 400), (922, 482)), 465.0], [((1107, 400), (1183, 501)), 1231.0], [((441, 580), (472, 611)), 1.0], [((405, 607), (436, 638)), 1.0], [((747, 625), (751, 647)), 0.0], [((1134, 589), (1156, 611)), 0.0], [((765, 625), (778, 647)), 1.0], [((981, 634), (1021, 665)), 0.0], [((1224, 481), (1255, 501)), 1.0], [((117, 643), (139, 674)), 1.0], [((369, 616), (382, 629)), 1.0], [((549, 544), (607, 584)), 0.0], [((1045, 476), (1127, 548)), 0.0], [((207, 409), (238, 431)), 11.0], [((9, 427), (40, 458)), 0.0], [((531, 409), (562, 431)), 0.0], [((504, 571), (517, 584)), 1], [((1215, 427), (1260, 458)), 0.0], [((18, 409), (49, 440)), 1.0], [((261, 409), (265, 431)), 0.0], [((675, 535), (706, 557)), 1.0], [((1178, 552), (1237, 615)), 0.0], [((1026, 526), (1030, 530)), 1], [((909, 427), (956, 463)), 0.0], [((801, 607), (832, 629)), 1.0], [((360, 652), (364, 665)), 0.0], [((63, 625), (103, 665)), 0.0]]\n",
      "[[((180, 634), (211, 647)), 0.0], [((874, 400), (937, 482)), 466.0], [((1102, 409), (1246, 503)), 1233.0], [((441, 580), (472, 611)), 1.0], [((405, 607), (436, 638)), 1.0], [((747, 625), (751, 647)), 0.0], [((1134, 589), (1156, 611)), 0.0], [((765, 625), (778, 647)), 1.0], [((981, 634), (1021, 665)), 0.0], [((1224, 481), (1255, 501)), 1.0], [((117, 643), (139, 674)), 1.0], [((369, 616), (382, 629)), 1.0], [((549, 544), (607, 584)), 0.0], [((1045, 476), (1127, 548)), 0.0], [((144, 409), (175, 440)), 14.0], [((9, 427), (40, 458)), 0.0], [((531, 409), (562, 431)), 0.0], [((504, 571), (517, 584)), 1], [((1215, 427), (1260, 458)), 0.0], [((18, 409), (49, 440)), 1.0], [((261, 409), (265, 431)), 0.0], [((675, 535), (706, 557)), 1.0], [((1178, 552), (1237, 615)), 0.0], [((1026, 526), (1030, 530)), 1], [((909, 427), (956, 463)), 0.0], [((801, 607), (832, 629)), 1.0], [((360, 652), (364, 665)), 0.0], [((63, 625), (103, 665)), 0.0]]\n"
     ]
    },
    {
     "name": "stderr",
     "output_type": "stream",
     "text": [
      "\u001b[A\u001b[A\u001b[A\n",
      "\n",
      "\n",
      " 80%|███████▉  | 904/1136 [03:39<00:45,  5.06it/s]\u001b[A\u001b[A\u001b[A"
     ]
    },
    {
     "name": "stdout",
     "output_type": "stream",
     "text": [
      "[[((180, 634), (211, 647)), 0.0], [((837, 400), (937, 482)), 467.0], [((1102, 409), (1192, 501)), 1235.0], [((441, 580), (472, 611)), 1.0], [((405, 607), (436, 638)), 1.0], [((747, 625), (751, 647)), 0.0], [((1134, 589), (1156, 611)), 0.0], [((765, 625), (778, 647)), 1.0], [((981, 634), (1021, 665)), 0.0], [((1224, 481), (1255, 501)), 1.0], [((117, 643), (139, 674)), 1.0], [((369, 616), (382, 629)), 1.0], [((549, 544), (607, 584)), 0.0], [((1045, 476), (1127, 548)), 0.0], [((108, 418), (184, 458)), 15.0], [((9, 427), (40, 458)), 0.0], [((531, 409), (562, 431)), 0.0], [((504, 571), (517, 584)), 1], [((1215, 427), (1260, 458)), 0.0], [((18, 409), (49, 440)), 1.0], [((261, 409), (265, 431)), 0.0], [((675, 535), (706, 557)), 1.0], [((1178, 552), (1237, 615)), 0.0], [((1026, 526), (1030, 530)), 1], [((909, 427), (956, 463)), 0.0], [((801, 607), (832, 629)), 1.0], [((360, 652), (364, 665)), 0.0], [((63, 625), (103, 665)), 0.0]]\n",
      "[[((180, 634), (211, 647)), 0.0], [((836, 400), (937, 485)), 468.0], [((1102, 409), (1184, 503)), 1237.0], [((441, 580), (472, 611)), 1.0], [((405, 607), (436, 638)), 1.0], [((747, 625), (751, 647)), 0.0], [((1134, 589), (1156, 611)), 0.0], [((765, 625), (778, 647)), 1.0], [((981, 634), (1021, 665)), 0.0], [((1224, 481), (1255, 501)), 1.0], [((117, 643), (139, 674)), 1.0], [((369, 616), (382, 629)), 1.0], [((549, 544), (607, 584)), 0.0], [((1045, 476), (1127, 548)), 0.0], [((95, 409), (157, 494)), 19.0], [((9, 427), (40, 458)), 0.0], [((531, 409), (562, 431)), 0.0], [((504, 571), (517, 584)), 1], [((1215, 427), (1260, 458)), 0.0], [((18, 409), (49, 440)), 1.0], [((261, 409), (265, 431)), 1.0], [((675, 535), (706, 557)), 1.0], [((1178, 552), (1237, 615)), 0.0], [((1026, 526), (1030, 530)), 1], [((909, 427), (956, 463)), 0.0], [((801, 607), (832, 629)), 1.0], [((360, 652), (364, 665)), 0.0], [((63, 625), (103, 665)), 0.0]]\n",
      "[[((180, 634), (211, 647)), 0.0], [((810, 400), (937, 485)), 469.0], [((1107, 409), (1219, 512)), 1240.0], [((441, 580), (472, 611)), 1.0], [((405, 607), (436, 638)), 1.0], [((747, 625), (751, 647)), 0.0], [((1134, 589), (1156, 611)), 0.0], [((765, 625), (778, 647)), 1.0], [((981, 634), (1021, 665)), 0.0], [((1224, 481), (1255, 501)), 1.0], [((117, 643), (139, 674)), 1.0], [((369, 616), (382, 629)), 1.0], [((549, 544), (607, 584)), 0.0], [((1045, 476), (1127, 548)), 0.0], [((57, 418), (103, 485)), 20.0], [((9, 427), (40, 458)), 0.0], [((531, 409), (562, 431)), 0.0], [((504, 571), (517, 584)), 1], [((1215, 427), (1260, 458)), 0.0], [((18, 409), (49, 440)), 1.0], [((297, 445), (310, 476)), 3.0], [((675, 535), (706, 557)), 2.0], [((1178, 552), (1237, 615)), 0.0], [((1026, 526), (1030, 530)), 1], [((909, 427), (956, 463)), 0.0], [((801, 607), (832, 629)), 1.0], [((360, 652), (364, 665)), 0.0], [((63, 625), (103, 665)), 0.0]]\n"
     ]
    },
    {
     "name": "stderr",
     "output_type": "stream",
     "text": [
      "\n",
      "\n",
      "\n",
      "\r",
      " 80%|███████▉  | 908/1136 [03:40<00:36,  6.26it/s]"
     ]
    },
    {
     "name": "stdout",
     "output_type": "stream",
     "text": [
      "[[((180, 634), (211, 647)), 0.0], [((810, 400), (937, 485)), 470.0], [((1215, 427), (1255, 463)), 1245.0], [((441, 580), (472, 611)), 1.0], [((405, 607), (436, 638)), 1.0], [((747, 625), (751, 647)), 0.0], [((1134, 589), (1156, 611)), 1.0], [((765, 625), (778, 647)), 1.0], [((981, 634), (1021, 665)), 0.0], [((1224, 481), (1255, 501)), 1.0], [((117, 643), (139, 674)), 1.0], [((369, 616), (382, 629)), 1.0], [((549, 544), (607, 584)), 0.0], [((1045, 476), (1127, 548)), 0.0], [((18, 409), (82, 520)), 18.0], [((9, 427), (40, 458)), 0.0], [((531, 409), (562, 431)), 0.0], [((504, 571), (517, 584)), 1], [((1215, 427), (1260, 458)), 0.0], [((18, 409), (49, 440)), 1.0], [((243, 400), (274, 431)), 1.0], [((675, 463), (697, 494)), 3.0], [((1178, 552), (1237, 615)), 0.0], [((1026, 526), (1030, 530)), 1], [((909, 427), (956, 463)), 0.0], [((801, 607), (832, 629)), 1.0], [((360, 652), (364, 665)), 0.0], [((63, 625), (103, 665)), 0.0]]\n",
      "[[((180, 634), (211, 647)), 0.0], [((836, 400), (937, 485)), 471.0], [((1143, 400), (1183, 449)), 1249.0], [((441, 580), (472, 611)), 1.0], [((405, 607), (436, 638)), 1.0], [((747, 625), (751, 647)), 0.0], [((1116, 472), (1138, 503)), 1.0], [((765, 625), (778, 647)), 1.0], [((981, 634), (1021, 665)), 0.0], [((1224, 481), (1255, 501)), 1.0], [((117, 643), (139, 674)), 1.0], [((369, 616), (382, 629)), 1.0], [((549, 544), (607, 584)), 0.0], [((1045, 476), (1127, 548)), 0.0], [((18, 409), (82, 520)), 16.0], [((9, 427), (40, 458)), 0.0], [((531, 409), (562, 431)), 0.0], [((504, 571), (517, 584)), 1], [((1215, 427), (1260, 458)), 0.0], [((18, 409), (49, 440)), 1.0], [((243, 400), (274, 431)), 2.0], [((702, 472), (724, 503)), 5.0], [((1178, 552), (1237, 615)), 0.0], [((1026, 526), (1030, 530)), 1], [((909, 427), (956, 463)), 0.0], [((801, 607), (832, 629)), 1.0], [((360, 652), (364, 665)), 0.0], [((63, 625), (103, 665)), 0.0]]\n",
      "[[((180, 634), (211, 647)), 0.0], [((817, 400), (922, 482)), 472.0], [((1143, 400), (1183, 449)), 1253.0], [((441, 580), (472, 611)), 1.0], [((405, 607), (436, 638)), 1.0], [((747, 625), (751, 647)), 0.0], [((1116, 472), (1138, 503)), 1.0], [((765, 625), (778, 647)), 1.0], [((981, 634), (1021, 665)), 0.0], [((1224, 481), (1255, 501)), 1.0], [((117, 643), (139, 674)), 1.0], [((369, 616), (382, 629)), 1.0], [((549, 544), (607, 584)), 0.0], [((1045, 476), (1127, 548)), 0.0], [((18, 409), (82, 520)), 14.0], [((9, 427), (40, 458)), 0.0], [((531, 409), (562, 431)), 0.0], [((504, 571), (517, 584)), 1], [((1215, 427), (1260, 458)), 0.0], [((18, 409), (49, 440)), 2.0], [((216, 409), (247, 440)), 3.0], [((648, 472), (670, 503)), 3.0], [((1178, 552), (1237, 615)), 0.0], [((1026, 526), (1030, 530)), 1], [((909, 427), (956, 463)), 0.0], [((801, 607), (832, 629)), 1.0], [((360, 652), (364, 665)), 0.0], [((63, 625), (103, 665)), 0.0], [((396, 454), (427, 485)), 1]]\n"
     ]
    },
    {
     "name": "stderr",
     "output_type": "stream",
     "text": [
      "\u001b[A\u001b[A\u001b[A\n",
      "\n",
      "\n",
      " 80%|████████  | 912/1136 [03:40<00:33,  6.61it/s]"
     ]
    },
    {
     "name": "stdout",
     "output_type": "stream",
     "text": [
      "[[((180, 634), (211, 647)), 0.0], [((836, 400), (918, 482)), 473.0], [((1116, 472), (1174, 503)), 1257.0], [((441, 580), (472, 611)), 1.0], [((405, 607), (436, 638)), 1.0], [((747, 625), (751, 647)), 0.0], [((1116, 472), (1138, 503)), 1.0], [((765, 625), (778, 647)), 1.0], [((981, 634), (1021, 665)), 0.0], [((1224, 481), (1255, 501)), 1.0], [((117, 643), (139, 674)), 1.0], [((369, 616), (382, 629)), 1.0], [((549, 544), (607, 584)), 0.0], [((1045, 476), (1127, 548)), 0.0], [((18, 409), (82, 520)), 16.0], [((9, 427), (40, 458)), 0.0], [((531, 409), (562, 431)), 0.0], [((504, 571), (517, 584)), 1], [((1215, 427), (1260, 458)), 0.0], [((153, 409), (184, 431)), 3.0], [((207, 409), (247, 449)), 1.0], [((648, 472), (670, 503)), 4.0], [((1178, 552), (1237, 615)), 0.0], [((1026, 526), (1030, 530)), 1], [((909, 427), (956, 463)), 0.0], [((801, 607), (832, 629)), 1.0], [((360, 652), (364, 665)), 0.0], [((63, 625), (103, 665)), 0.0], [((396, 454), (427, 485)), 1]]\n",
      "[[((180, 634), (211, 647)), 1.0], [((836, 400), (937, 482)), 475.0], [((1197, 419), (1260, 494)), 1260.0], [((441, 580), (472, 611)), 6.0], [((405, 607), (436, 638)), 1.0], [((747, 625), (751, 647)), 1.0], [((1116, 472), (1138, 503)), 1.0], [((765, 625), (778, 647)), 1.0], [((981, 634), (1021, 665)), 0.0], [((1224, 481), (1255, 501)), 1.0], [((117, 643), (139, 674)), 1.0], [((369, 616), (382, 629)), 1.0], [((549, 544), (607, 584)), 1.0], [((1045, 476), (1127, 548)), 0.0], [((117, 409), (148, 431)), 17.0], [((9, 427), (40, 458)), 0.0], [((531, 409), (562, 431)), 0.0], [((504, 571), (517, 584)), 1], [((1215, 427), (1260, 458)), 0.0], [((189, 418), (202, 431)), 4.0], [((207, 409), (247, 449)), 1.0], [((720, 490), (724, 503)), 2.0], [((1178, 552), (1237, 615)), 0.0], [((1026, 526), (1030, 530)), 1], [((909, 427), (956, 463)), 0.0], [((801, 607), (832, 629)), 1.0], [((360, 652), (364, 665)), 0.0], [((63, 625), (103, 665)), 0.0], [((396, 454), (427, 485)), 1]]\n",
      "[[((171, 535), (193, 566)), 3.0], [((836, 400), (937, 503)), 476.0], [((1121, 409), (1201, 503)), 1264.0], [((486, 508), (517, 548)), 9.0], [((405, 607), (436, 638)), 2.0], [((729, 490), (742, 521)), 1.0], [((1116, 472), (1138, 503)), 1.0], [((765, 625), (778, 647)), 1.0], [((981, 634), (1021, 665)), 0.0], [((1224, 481), (1255, 501)), 1.0], [((117, 643), (139, 674)), 1.0], [((369, 616), (382, 629)), 1.0], [((558, 526), (562, 557)), 1.0], [((1045, 476), (1127, 548)), 0.0], [((72, 409), (103, 431)), 18.0], [((9, 427), (40, 458)), 0.0], [((531, 409), (562, 431)), 0.0], [((504, 571), (517, 584)), 1], [((1215, 427), (1260, 458)), 0.0], [((333, 427), (337, 440)), 6.0], [((207, 409), (247, 449)), 1.0], [((720, 490), (724, 503)), 0.0], [((1178, 552), (1237, 615)), 0.0], [((1026, 526), (1030, 530)), 1], [((909, 427), (956, 463)), 0.0], [((801, 607), (832, 629)), 1.0], [((360, 652), (364, 665)), 0.0], [((63, 625), (103, 665)), 0.0], [((396, 454), (427, 485)), 1]]\n",
      "[[((306, 544), (337, 575)), 4.0], [((817, 400), (937, 521)), 477.0], [((1215, 427), (1264, 467)), 1267.0], [((513, 553), (517, 575)), 7.0], [((342, 544), (346, 557)), 0.0], [((729, 490), (742, 521)), 2.0], [((1116, 472), (1138, 503)), 1.0], [((765, 625), (778, 647)), 1.0], [((981, 634), (1021, 665)), 0.0], [((1224, 481), (1255, 501)), 1.0], [((117, 643), (139, 674)), 1.0], [((369, 616), (382, 629)), 1.0], [((558, 526), (562, 557)), 1.0], [((1045, 476), (1127, 548)), 0.0], [((45, 490), (67, 503)), 16.0], [((9, 427), (40, 458)), 0.0], [((531, 409), (562, 431)), 0.0], [((504, 571), (517, 584)), 1], [((1215, 427), (1260, 458)), 0.0], [((333, 418), (364, 440)), 4.0], [((207, 409), (247, 449)), 1.0], [((720, 490), (724, 503)), 0.0], [((1178, 552), (1237, 615)), 0.0], [((1026, 526), (1030, 530)), 1], [((909, 427), (956, 463)), 0.0], [((801, 607), (832, 629)), 1.0], [((360, 652), (364, 665)), 0.0], [((63, 625), (103, 665)), 0.0], [((396, 454), (427, 485)), 1]]\n",
      "[[((306, 571), (328, 584)), 9.0], [((817, 400), (937, 503)), 478.0], [((1215, 427), (1264, 467)), 1270.0], [((513, 553), (517, 575)), 8.0], [((342, 544), (346, 557)), 2.0], [((729, 508), (751, 512)), 3.0], [((1116, 472), (1138, 503)), 1.0], [((765, 625), (778, 647)), 1.0], [((981, 634), (1021, 665)), 0.0], [((1224, 481), (1255, 501)), 1.0], [((117, 643), (139, 674)), 1.0], [((369, 616), (382, 629)), 1.0], [((558, 526), (562, 557)), 1.0], [((1045, 476), (1127, 548)), 0.0], [((45, 490), (67, 503)), 14.0], [((9, 427), (40, 458)), 0.0], [((531, 409), (562, 431)), 1.0], [((504, 571), (517, 584)), 1], [((1215, 427), (1260, 458)), 0.0], [((333, 418), (364, 440)), 2.0], [((207, 409), (247, 449)), 2.0], [((720, 490), (724, 503)), 0.0], [((1178, 552), (1237, 615)), 1.0], [((1026, 526), (1030, 530)), 1], [((909, 427), (956, 463)), 0.0], [((801, 607), (832, 629)), 1.0], [((360, 652), (364, 665)), 0.0], [((63, 625), (103, 665)), 0.0], [((396, 454), (427, 485)), 1]]\n"
     ]
    },
    {
     "name": "stderr",
     "output_type": "stream",
     "text": [
      "\u001b[A\u001b[A\u001b[A\n",
      "\n",
      "\n",
      " 81%|████████  | 915/1136 [03:40<00:29,  7.39it/s]"
     ]
    },
    {
     "name": "stdout",
     "output_type": "stream",
     "text": [
      "[[((324, 571), (346, 602)), 11.0], [((836, 400), (937, 512)), 479.0], [((1140, 409), (1203, 494)), 1274.0], [((567, 490), (598, 521)), 10.0], [((342, 454), (382, 485)), 5.0], [((693, 571), (697, 602)), 5.0], [((1116, 472), (1138, 503)), 1.0], [((765, 625), (778, 647)), 1.0], [((981, 634), (1021, 665)), 0.0], [((1224, 481), (1255, 501)), 1.0], [((117, 643), (139, 674)), 2.0], [((369, 616), (382, 629)), 1.0], [((558, 526), (562, 557)), 1.0], [((1045, 476), (1127, 548)), 0.0], [((45, 490), (67, 503)), 16.0], [((9, 427), (40, 458)), 0.0], [((450, 409), (481, 440)), 1.0], [((504, 571), (517, 584)), 1], [((1215, 427), (1260, 458)), 0.0], [((333, 418), (364, 440)), 0.0], [((198, 517), (211, 539)), 3.0], [((720, 490), (724, 503)), 0.0], [((1215, 652), (1246, 683)), 1.0], [((1026, 526), (1030, 530)), 1], [((909, 427), (956, 463)), 0.0], [((801, 607), (832, 629)), 1.0], [((360, 652), (364, 665)), 0.0], [((63, 625), (103, 665)), 0.0], [((396, 454), (427, 485)), 1]]\n",
      "[[((342, 607), (364, 634)), 13.0], [((817, 400), (937, 494)), 480.0], [((1216, 427), (1279, 463)), 1277.0], [((531, 598), (562, 629)), 13.0], [((243, 419), (291, 458)), 9.0], [((711, 607), (742, 638)), 6.0], [((1116, 472), (1138, 503)), 2.0], [((765, 625), (778, 647)), 1.0], [((981, 634), (1021, 665)), 0.0], [((1224, 481), (1255, 501)), 1.0], [((216, 616), (229, 647)), 0.0], [((369, 616), (382, 629)), 1.0], [((558, 526), (562, 557)), 1.0], [((1045, 476), (1127, 548)), 0.0], [((18, 544), (67, 593)), 17.0], [((9, 427), (40, 458)), 1.0], [((450, 409), (481, 440)), 1.0], [((504, 571), (517, 584)), 1], [((1215, 427), (1260, 458)), 0.0], [((333, 418), (364, 440)), 0.0], [((189, 490), (220, 494)), 1.0], [((720, 490), (724, 503)), 0.0], [((1215, 652), (1246, 683)), 1.0], [((1026, 526), (1030, 530)), 1], [((909, 427), (956, 463)), 0.0], [((801, 607), (832, 629)), 1.0], [((360, 652), (364, 665)), 0.0], [((63, 625), (103, 665)), 0.0], [((396, 454), (427, 485)), 1]]\n",
      "[[((333, 535), (364, 566)), 16.0], [((810, 400), (937, 530)), 483.0], [((1224, 427), (1273, 463)), 1279.0], [((495, 643), (526, 674)), 11.0], [((306, 427), (337, 482)), 11.0], [((801, 625), (814, 656)), 9.0], [((1098, 580), (1111, 584)), 10.0], [((765, 625), (778, 647)), 3.0], [((981, 634), (1021, 665)), 0.0], [((1224, 481), (1255, 501)), 2.0], [((216, 616), (229, 647)), 5.0], [((369, 616), (382, 629)), 1.0], [((558, 526), (562, 557)), 1.0], [((1045, 476), (1127, 548)), 1.0], [((9, 553), (40, 575)), 20.0], [((90, 436), (148, 494)), 2.0], [((450, 409), (481, 440)), 2.0], [((504, 571), (517, 584)), 1], [((1215, 427), (1260, 458)), 0.0], [((333, 418), (364, 440)), 0.0], [((189, 490), (220, 494)), 1.0], [((720, 490), (724, 503)), 0.0], [((1215, 652), (1246, 683)), 2.0], [((1026, 526), (1030, 530)), 1], [((909, 427), (956, 463)), 0.0], [((801, 607), (832, 629)), 1.0], [((360, 652), (364, 665)), 0.0], [((63, 625), (103, 665)), 0.0], [((396, 454), (427, 485)), 1]]\n",
      "[[((252, 517), (328, 584)), 20.0], [((810, 409), (937, 501)), 484.0], [((1134, 409), (1210, 494)), 1283.0], [((495, 643), (526, 674)), 9.0], [((144, 400), (256, 482)), 13.0], [((855, 598), (895, 638)), 13.0], [((1098, 553), (1147, 611)), 11.0], [((711, 535), (724, 548)), 4.0], [((981, 634), (1021, 665)), 0.0], [((1224, 607), (1255, 629)), 3.0], [((171, 589), (202, 620)), 3.0], [((369, 616), (382, 629)), 1.0], [((558, 526), (562, 557)), 1.0], [((963, 508), (985, 539)), 1.0], [((54, 445), (85, 476)), 21.0], [((135, 499), (139, 530)), 0.0], [((450, 409), (463, 440)), 0.0], [((504, 571), (517, 584)), 1], [((1215, 427), (1260, 458)), 0.0], [((333, 418), (364, 440)), 0.0], [((189, 490), (220, 494)), 1.0], [((720, 490), (724, 503)), 0.0], [((1224, 652), (1246, 683)), 0.0], [((1026, 526), (1030, 530)), 1], [((909, 427), (956, 463)), 0.0], [((801, 607), (832, 629)), 1.0], [((360, 652), (364, 665)), 0.0], [((63, 625), (103, 665)), 0.0], [((396, 454), (427, 485)), 1]]\n",
      "[[((207, 562), (256, 602)), 21.0], [((810, 400), (937, 485)), 485.0], [((1116, 409), (1210, 503)), 1285.0], [((495, 643), (526, 674)), 7.0], [((190, 419), (238, 482)), 16.0], [((873, 616), (913, 656)), 16.0], [((1143, 571), (1147, 584)), 16.0], [((720, 553), (751, 584)), 8.0], [((981, 634), (1021, 665)), 0.0], [((1215, 652), (1246, 683)), 4.0], [((171, 589), (202, 620)), 1.0], [((369, 616), (382, 629)), 2.0], [((558, 526), (562, 557)), 1.0], [((963, 508), (985, 539)), 1.0], [((90, 490), (139, 530)), 25.0], [((135, 499), (139, 530)), 0.0], [((450, 409), (463, 440)), 0.0], [((504, 571), (517, 584)), 1], [((1215, 427), (1260, 458)), 0.0], [((333, 418), (364, 440)), 0.0], [((189, 490), (220, 494)), 1.0], [((720, 490), (724, 503)), 0.0], [((1224, 652), (1246, 683)), 0.0], [((1026, 526), (1030, 530)), 1], [((909, 427), (956, 463)), 0.0], [((801, 607), (832, 629)), 1.0], [((360, 652), (364, 665)), 0.0], [((63, 625), (103, 665)), 0.0], [((396, 454), (427, 485)), 1]]\n",
      "[[((315, 544), (337, 548)), 19.0], [((828, 400), (937, 501)), 487.0], [((1121, 419), (1210, 501)), 1288.0], [((495, 643), (526, 674)), 5.0], [((162, 419), (220, 482)), 20.0], [((909, 544), (967, 575)), 19.0], [((1170, 580), (1201, 602)), 14.0], [((648, 562), (706, 602)), 15.0], [((981, 634), (1021, 665)), 0.0], [((1233, 652), (1237, 665)), 2.0], [((171, 589), (202, 620)), 3.0], [((396, 580), (427, 602)), 0.0], [((558, 526), (562, 557)), 1.0], [((963, 508), (985, 539)), 1.0], [((36, 508), (67, 539)), 23.0], [((135, 499), (139, 530)), 0.0], [((450, 409), (463, 440)), 0.0], [((504, 571), (517, 584)), 1], [((1215, 427), (1260, 458)), 0.0], [((333, 418), (364, 440)), 0.0], [((189, 490), (220, 494)), 1.0], [((720, 490), (724, 503)), 0.0], [((1224, 652), (1246, 683)), 0.0], [((1026, 526), (1030, 530)), 1], [((909, 427), (956, 463)), 0.0], [((801, 607), (832, 629)), 1.0], [((360, 652), (364, 665)), 2.0], [((63, 625), (103, 665)), 0.0], [((396, 454), (427, 485)), 1]]\n"
     ]
    },
    {
     "name": "stderr",
     "output_type": "stream",
     "text": [
      "\u001b[A\u001b[A\u001b[A\n",
      "\n",
      "\n",
      " 81%|████████  | 921/1136 [03:44<00:54,  3.93it/s]"
     ]
    },
    {
     "name": "stdout",
     "output_type": "stream",
     "text": [
      "[[((315, 544), (337, 548)), 17.0], [((817, 400), (937, 503)), 488.0], [((1134, 454), (1210, 501)), 1289.0], [((495, 643), (526, 674)), 6.0], [((144, 427), (196, 458)), 23.0], [((972, 544), (1003, 575)), 23.0], [((1170, 580), (1201, 602)), 15.0], [((666, 571), (697, 602)), 16.0], [((981, 634), (1021, 665)), 0.0], [((1233, 652), (1237, 665)), 0.0], [((72, 598), (85, 629)), 4.0], [((396, 580), (427, 602)), 0.0], [((558, 526), (562, 557)), 1.0], [((963, 508), (985, 539)), 1.0], [((36, 508), (67, 539)), 24.0], [((135, 499), (139, 530)), 0.0], [((450, 409), (463, 440)), 1.0], [((504, 571), (517, 584)), 1], [((1215, 427), (1260, 458)), 0.0], [((333, 418), (364, 440)), 0.0], [((189, 490), (220, 494)), 1.0], [((720, 490), (724, 503)), 0.0], [((1224, 652), (1246, 683)), 0.0], [((1026, 526), (1030, 530)), 1], [((909, 427), (956, 463)), 0.0], [((801, 607), (832, 629)), 2.0], [((261, 661), (283, 692)), 3.0], [((63, 625), (103, 665)), 0.0], [((396, 454), (427, 485)), 1]]\n",
      "[[((315, 544), (337, 548)), 20.0], [((810, 400), (937, 494)), 489.0], [((1140, 409), (1210, 501)), 1291.0], [((477, 598), (517, 629)), 7.0], [((95, 419), (184, 494)), 26.0], [((1035, 571), (1066, 602)), 24.0], [((1125, 616), (1156, 665)), 16.0], [((612, 607), (688, 656)), 14.0], [((981, 634), (1021, 665)), 0.0], [((1233, 652), (1237, 665)), 0.0], [((189, 571), (211, 602)), 2.0], [((396, 580), (427, 602)), 0.0], [((558, 526), (562, 557)), 1.0], [((963, 508), (985, 539)), 1.0], [((27, 463), (67, 494)), 26.0], [((135, 499), (139, 530)), 0.0], [((423, 418), (454, 431)), 3.0], [((504, 571), (517, 584)), 1], [((1215, 427), (1260, 458)), 0.0], [((333, 418), (364, 440)), 0.0], [((189, 490), (220, 494)), 1.0], [((720, 490), (724, 503)), 0.0], [((1224, 652), (1246, 683)), 0.0], [((1026, 526), (1030, 530)), 1], [((909, 427), (956, 463)), 0.0], [((837, 616), (868, 638)), 0.0], [((266, 661), (292, 672)), 1.0], [((63, 625), (103, 665)), 0.0], [((396, 454), (427, 485)), 1]]\n"
     ]
    },
    {
     "name": "stderr",
     "output_type": "stream",
     "text": [
      "\u001b[A\u001b[A\u001b[A\n",
      "\n",
      "\n",
      " 81%|████████▏ | 923/1136 [03:46<01:53,  1.88it/s]"
     ]
    },
    {
     "name": "stdout",
     "output_type": "stream",
     "text": [
      "[[((279, 427), (301, 458)), 23.0], [((817, 400), (937, 482)), 490.0], [((1121, 409), (1203, 501)), 1294.0], [((441, 634), (454, 665)), 5.0], [((108, 427), (148, 482)), 28.0], [((1026, 607), (1057, 629)), 22.0], [((1215, 571), (1246, 602)), 14.0], [((612, 607), (688, 656)), 15.0], [((981, 634), (1021, 665)), 0.0], [((1233, 652), (1237, 665)), 0.0], [((189, 571), (211, 602)), 0.0], [((396, 580), (427, 602)), 0.0], [((558, 526), (562, 557)), 1.0], [((963, 508), (985, 539)), 1.0], [((27, 553), (31, 584)), 24.0], [((135, 499), (139, 530)), 0.0], [((414, 409), (418, 440)), 1.0], [((504, 571), (517, 584)), 1], [((1215, 427), (1260, 458)), 0.0], [((333, 418), (364, 440)), 0.0], [((189, 490), (220, 494)), 1.0], [((720, 490), (724, 503)), 0.0], [((1224, 652), (1246, 683)), 0.0], [((1026, 526), (1030, 530)), 1], [((909, 427), (956, 463)), 0.0], [((837, 616), (868, 638)), 0.0], [((266, 661), (292, 672)), 1.0], [((63, 625), (103, 665)), 0.0], [((396, 454), (427, 485)), 1]]\n",
      "[[((351, 436), (409, 476)), 26.0], [((828, 400), (937, 482)), 493.0], [((1140, 409), (1203, 494)), 1297.0], [((441, 634), (454, 665)), 3.0], [((76, 419), (121, 482)), 26.0], [((1026, 607), (1057, 629)), 20.0], [((1215, 571), (1246, 602)), 12.0], [((549, 571), (580, 593)), 16.0], [((981, 634), (1021, 665)), 1.0], [((1233, 652), (1237, 665)), 0.0], [((189, 571), (211, 602)), 0.0], [((396, 580), (427, 602)), 0.0], [((558, 526), (562, 557)), 1.0], [((963, 508), (985, 539)), 1.0], [((27, 553), (31, 584)), 22.0], [((135, 499), (139, 530)), 0.0], [((414, 409), (418, 440)), 1.0], [((504, 571), (517, 584)), 1], [((1215, 427), (1260, 458)), 0.0], [((333, 418), (364, 440)), 0.0], [((189, 490), (220, 494)), 1.0], [((720, 490), (724, 503)), 0.0], [((1224, 652), (1246, 683)), 0.0], [((1026, 526), (1030, 530)), 1], [((909, 427), (956, 463)), 0.0], [((837, 616), (868, 638)), 0.0], [((266, 661), (292, 672)), 1.0], [((63, 625), (103, 665)), 0.0], [((396, 454), (427, 485)), 1]]\n"
     ]
    },
    {
     "name": "stderr",
     "output_type": "stream",
     "text": [
      "\u001b[A\u001b[A\u001b[A\n",
      "\n",
      "\n",
      " 81%|████████▏ | 925/1136 [03:47<01:54,  1.84it/s]"
     ]
    },
    {
     "name": "stdout",
     "output_type": "stream",
     "text": [
      "[[((216, 427), (274, 458)), 28.0], [((828, 400), (937, 482)), 494.0], [((1140, 409), (1203, 494)), 1299.0], [((441, 634), (454, 665)), 4.0], [((76, 419), (121, 482)), 28.0], [((1026, 607), (1057, 629)), 18.0], [((1215, 571), (1246, 602)), 10.0], [((531, 562), (598, 602)), 14.0], [((909, 544), (958, 593)), 1.0], [((1233, 652), (1237, 665)), 0.0], [((189, 571), (211, 602)), 2.0], [((396, 580), (427, 602)), 0.0], [((558, 526), (562, 557)), 1.0], [((963, 508), (985, 539)), 1.0], [((27, 553), (31, 584)), 20.0], [((135, 499), (139, 530)), 0.0], [((414, 409), (418, 440)), 1.0], [((504, 571), (517, 584)), 1], [((1215, 427), (1260, 458)), 0.0], [((333, 418), (364, 440)), 0.0], [((189, 490), (220, 494)), 1.0], [((720, 490), (724, 503)), 1.0], [((1224, 652), (1246, 683)), 0.0], [((1026, 526), (1030, 530)), 1], [((909, 427), (956, 463)), 0.0], [((837, 616), (868, 638)), 0.0], [((266, 661), (292, 672)), 1.0], [((63, 625), (103, 665)), 0.0], [((396, 454), (427, 485)), 1]]\n",
      "[[((225, 427), (256, 458)), 30.0], [((828, 400), (937, 485)), 495.0], [((1140, 400), (1279, 501)), 1303.0], [((423, 634), (436, 665)), 2.0], [((18, 409), (67, 458)), 30.0], [((1026, 607), (1057, 629)), 16.0], [((1215, 571), (1246, 602)), 8.0], [((531, 562), (598, 602)), 12.0], [((909, 544), (958, 593)), 2.0], [((1233, 652), (1237, 665)), 0.0], [((189, 562), (220, 593)), 3.0], [((396, 580), (427, 602)), 0.0], [((558, 526), (562, 557)), 2.0], [((963, 508), (985, 539)), 1.0], [((27, 553), (31, 584)), 18.0], [((135, 499), (139, 530)), 0.0], [((414, 409), (418, 440)), 1.0], [((504, 571), (517, 584)), 1], [((1215, 427), (1260, 458)), 0.0], [((333, 418), (364, 440)), 0.0], [((189, 490), (220, 494)), 1.0], [((738, 571), (766, 584)), 4.0], [((1224, 652), (1246, 683)), 0.0], [((1026, 526), (1030, 530)), 1], [((909, 427), (956, 463)), 0.0], [((837, 616), (868, 638)), 0.0], [((266, 661), (292, 672)), 1.0], [((63, 625), (103, 665)), 0.0], [((396, 454), (427, 485)), 1]]\n"
     ]
    },
    {
     "name": "stderr",
     "output_type": "stream",
     "text": [
      "\u001b[A\u001b[A\u001b[A\n",
      "\n",
      "\n",
      " 82%|████████▏ | 927/1136 [03:51<03:16,  1.06it/s]"
     ]
    },
    {
     "name": "stdout",
     "output_type": "stream",
     "text": [
      "[[((333, 427), (373, 458)), 32.0], [((828, 400), (931, 485)), 496.0], [((1140, 400), (1203, 501)), 1306.0], [((423, 634), (436, 665)), 0.0], [((18, 427), (49, 458)), 28.0], [((1026, 607), (1057, 629)), 18.0], [((1215, 571), (1246, 602)), 9.0], [((531, 562), (598, 602)), 10.0], [((873, 616), (880, 647)), 3.0], [((1233, 652), (1237, 665)), 0.0], [((180, 571), (220, 602)), 4.0], [((396, 580), (427, 602)), 0.0], [((675, 535), (706, 557)), 3.0], [((963, 508), (985, 539)), 1.0], [((27, 553), (31, 584)), 16.0], [((135, 499), (139, 530)), 0.0], [((414, 409), (418, 440)), 1.0], [((504, 571), (517, 584)), 1], [((1215, 427), (1260, 458)), 0.0], [((333, 418), (364, 440)), 0.0], [((189, 490), (220, 494)), 1.0], [((756, 571), (787, 602)), 2.0], [((1224, 652), (1246, 683)), 0.0], [((1026, 526), (1030, 530)), 1], [((909, 427), (956, 463)), 0.0], [((837, 616), (868, 638)), 0.0], [((266, 661), (292, 672)), 1.0], [((63, 625), (103, 665)), 0.0], [((396, 454), (427, 485)), 1]]\n",
      "[[((228, 409), (283, 476)), 37.0], [((828, 400), (937, 482)), 497.0], [((1188, 457), (1264, 520)), 1308.0], [((423, 634), (436, 665)), 0.0], [((18, 427), (49, 458)), 29.0], [((1089, 634), (1111, 665)), 20.0], [((1242, 634), (1246, 665)), 7.0], [((531, 562), (598, 602)), 11.0], [((760, 652), (778, 672)), 6.0], [((1233, 652), (1237, 665)), 0.0], [((234, 481), (265, 501)), 2.0], [((396, 580), (427, 602)), 0.0], [((729, 553), (760, 566)), 5.0], [((963, 508), (985, 539)), 1.0], [((27, 553), (31, 584)), 14.0], [((135, 499), (139, 530)), 0.0], [((414, 409), (418, 440)), 1.0], [((504, 571), (517, 584)), 1], [((1215, 427), (1260, 458)), 0.0], [((333, 418), (364, 440)), 0.0], [((189, 490), (220, 494)), 1.0], [((756, 571), (787, 602)), 0.0], [((1224, 652), (1246, 683)), 0.0], [((1026, 526), (1030, 530)), 1], [((909, 427), (956, 463)), 0.0], [((837, 616), (868, 638)), 0.0], [((266, 661), (292, 672)), 1.0], [((63, 625), (103, 665)), 0.0], [((396, 454), (427, 485)), 1]]\n"
     ]
    },
    {
     "name": "stderr",
     "output_type": "stream",
     "text": [
      "\u001b[A\u001b[A\u001b[A\n",
      "\n",
      "\n",
      " 82%|████████▏ | 929/1136 [03:52<03:04,  1.12it/s]"
     ]
    },
    {
     "name": "stdout",
     "output_type": "stream",
     "text": [
      "[[((198, 409), (256, 458)), 43.0], [((828, 400), (931, 485)), 498.0], [((1140, 400), (1273, 512)), 1312.0], [((423, 634), (436, 665)), 0.0], [((9, 472), (76, 557)), 31.0], [((1071, 589), (1120, 638)), 25.0], [((1242, 634), (1246, 665)), 9.0], [((639, 517), (670, 548)), 17.0], [((702, 535), (760, 611)), 10.0], [((1233, 652), (1237, 665)), 0.0], [((234, 481), (265, 501)), 0.0], [((396, 580), (427, 602)), 1.0], [((729, 499), (760, 512)), 3.0], [((963, 508), (985, 539)), 1.0], [((27, 553), (31, 584)), 12.0], [((135, 499), (139, 530)), 0.0], [((414, 409), (418, 440)), 1.0], [((504, 571), (517, 584)), 2], [((1215, 427), (1260, 458)), 0.0], [((333, 418), (364, 440)), 0.0], [((189, 490), (220, 494)), 1.0], [((756, 571), (787, 602)), 0.0], [((1224, 652), (1246, 683)), 0.0], [((1026, 526), (1030, 530)), 1], [((909, 427), (956, 463)), 0.0], [((837, 616), (868, 638)), 0.0], [((266, 661), (292, 672)), 1.0], [((63, 625), (103, 665)), 0.0], [((396, 454), (427, 485)), 1]]\n",
      "[[((225, 463), (265, 503)), 46.0], [((817, 400), (937, 485)), 499.0], [((1215, 463), (1255, 512)), 1313.0], [((423, 634), (436, 665)), 1.0], [((18, 490), (58, 521)), 32.0], [((1098, 589), (1129, 620)), 31.0], [((1242, 652), (1264, 683)), 7.0], [((702, 553), (733, 602)), 21.0], [((747, 634), (778, 665)), 11.0], [((1233, 652), (1237, 665)), 0.0], [((234, 481), (265, 501)), 0.0], [((504, 562), (535, 584)), 1.0], [((729, 499), (760, 512)), 1.0], [((963, 508), (985, 539)), 1.0], [((27, 553), (31, 584)), 10.0], [((135, 499), (139, 530)), 0.0], [((414, 409), (418, 440)), 2.0], [((567, 598), (580, 620)), 3], [((1215, 427), (1260, 458)), 0.0], [((333, 418), (364, 440)), 0.0], [((189, 490), (220, 494)), 1.0], [((756, 571), (787, 602)), 0.0], [((1224, 652), (1246, 683)), 0.0], [((1026, 526), (1030, 530)), 1], [((909, 427), (956, 463)), 0.0], [((837, 616), (868, 638)), 0.0], [((266, 661), (292, 672)), 1.0], [((63, 625), (103, 665)), 0.0], [((396, 454), (427, 485)), 1]]\n"
     ]
    },
    {
     "name": "stderr",
     "output_type": "stream",
     "text": [
      "\u001b[A\u001b[A\u001b[A\n",
      "\n",
      "\n",
      " 82%|████████▏ | 931/1136 [03:53<02:22,  1.43it/s]"
     ]
    },
    {
     "name": "stdout",
     "output_type": "stream",
     "text": [
      "[[((207, 409), (253, 458)), 47.0], [((836, 400), (940, 501)), 500.0], [((1125, 400), (1264, 512)), 1316.0], [((531, 616), (589, 647)), 4.0], [((9, 490), (58, 539)), 34.0], [((1053, 580), (1084, 638)), 32.0], [((1242, 652), (1264, 683)), 5.0], [((666, 562), (697, 593)), 23.0], [((810, 616), (841, 638)), 13.0], [((1233, 652), (1237, 665)), 0.0], [((234, 481), (265, 501)), 0.0], [((504, 562), (535, 584)), 1.0], [((729, 499), (760, 512)), 1.0], [((963, 508), (985, 539)), 1.0], [((27, 553), (31, 584)), 8.0], [((135, 499), (139, 530)), 0.0], [((351, 409), (355, 440)), 0.0], [((603, 625), (634, 656)), 1.0], [((1215, 427), (1260, 458)), 0.0], [((333, 418), (364, 440)), 0.0], [((189, 490), (220, 494)), 1.0], [((756, 571), (787, 602)), 0.0], [((1224, 652), (1246, 683)), 0.0], [((1026, 526), (1030, 530)), 1], [((909, 427), (956, 463)), 0.0], [((837, 616), (868, 638)), 0.0], [((266, 661), (292, 672)), 1.0], [((63, 625), (103, 665)), 0.0], [((396, 454), (427, 485)), 1]]\n",
      "[[((153, 409), (253, 467)), 49.0], [((817, 400), (937, 501)), 501.0], [((1140, 400), (1210, 463)), 1318.0], [((585, 571), (616, 584)), 6.0], [((27, 517), (58, 557)), 32.0], [((1017, 562), (1048, 584)), 30.0], [((1242, 652), (1264, 683)), 3.0], [((666, 580), (697, 620)), 21.0], [((819, 634), (868, 683)), 11.0], [((1233, 652), (1237, 665)), 0.0], [((234, 481), (265, 501)), 0.0], [((504, 562), (535, 584)), 1.0], [((729, 499), (760, 512)), 2.0], [((963, 508), (985, 539)), 1.0], [((27, 553), (31, 584)), 6.0], [((135, 499), (139, 530)), 0.0], [((351, 409), (355, 440)), 0.0], [((603, 625), (634, 656)), 1.0], [((1215, 427), (1260, 458)), 0.0], [((333, 418), (364, 440)), 0.0], [((189, 490), (220, 494)), 1.0], [((756, 571), (787, 602)), 0.0], [((1224, 652), (1246, 683)), 0.0], [((1026, 526), (1030, 530)), 1], [((909, 427), (956, 463)), 0.0], [((837, 616), (868, 638)), 0.0], [((266, 661), (292, 672)), 1.0], [((63, 625), (103, 665)), 0.0], [((396, 454), (427, 485)), 1]]\n",
      "[[((99, 418), (130, 431)), 52.0], [((828, 400), (937, 501)), 502.0], [((1121, 400), (1210, 520)), 1320.0], [((648, 589), (679, 620)), 8.0], [((27, 517), (58, 557)), 30.0], [((1017, 562), (1048, 584)), 28.0], [((1242, 652), (1264, 683)), 1.0], [((666, 580), (697, 620)), 22.0], [((819, 634), (868, 683)), 9.0], [((1233, 652), (1237, 665)), 0.0], [((234, 481), (265, 501)), 0.0], [((504, 562), (535, 584)), 1.0], [((756, 517), (804, 558)), 0.0], [((963, 508), (985, 539)), 1.0], [((27, 553), (31, 584)), 4.0], [((135, 499), (139, 530)), 0.0], [((351, 409), (355, 440)), 0.0], [((603, 625), (634, 656)), 1.0], [((1215, 427), (1260, 458)), 0.0], [((333, 418), (364, 440)), 0.0], [((189, 490), (220, 494)), 1.0], [((756, 571), (787, 602)), 0.0], [((1224, 652), (1246, 683)), 0.0], [((1026, 526), (1030, 530)), 1], [((909, 427), (956, 463)), 0.0], [((837, 616), (868, 638)), 0.0], [((266, 661), (292, 672)), 1.0], [((63, 625), (103, 665)), 0.0], [((396, 454), (427, 485)), 1]]\n",
      "[[((189, 418), (220, 449)), 55.0], [((828, 400), (931, 494)), 503.0], [((1121, 400), (1210, 520)), 1322.0], [((558, 526), (598, 557)), 9.0], [((27, 517), (58, 557)), 28.0], [((1017, 562), (1048, 584)), 26.0], [((1242, 652), (1264, 683)), 1.0], [((765, 535), (778, 566)), 20.0], [((819, 634), (868, 683)), 7.0], [((1233, 652), (1237, 665)), 0.0], [((234, 481), (265, 501)), 0.0], [((504, 562), (535, 584)), 1.0], [((756, 517), (804, 558)), 0.0], [((963, 508), (985, 539)), 1.0], [((27, 553), (31, 584)), 2.0], [((135, 499), (139, 530)), 0.0], [((351, 409), (355, 440)), 0.0], [((603, 625), (634, 656)), 1.0], [((1215, 427), (1260, 458)), 0.0], [((333, 418), (364, 440)), 0.0], [((189, 490), (220, 494)), 1.0], [((756, 571), (787, 602)), 0.0], [((1224, 652), (1246, 683)), 0.0], [((1026, 526), (1030, 530)), 1], [((909, 427), (956, 463)), 0.0], [((837, 616), (868, 638)), 0.0], [((266, 661), (292, 672)), 1.0], [((63, 625), (103, 665)), 0.0], [((396, 454), (427, 485)), 1]]\n"
     ]
    },
    {
     "name": "stderr",
     "output_type": "stream",
     "text": [
      "\u001b[A\u001b[A\u001b[A\n",
      "\n",
      "\n",
      " 82%|████████▏ | 935/1136 [03:54<01:59,  1.68it/s]"
     ]
    },
    {
     "name": "stdout",
     "output_type": "stream",
     "text": [
      "[[((108, 445), (130, 476)), 56.0], [((828, 400), (937, 494)), 504.0], [((1134, 400), (1228, 520)), 1324.0], [((549, 535), (580, 566)), 7.0], [((27, 517), (58, 557)), 26.0], [((1017, 562), (1048, 584)), 24.0], [((1242, 652), (1264, 683)), 1.0], [((765, 535), (778, 566)), 21.0], [((819, 634), (868, 683)), 5.0], [((1233, 652), (1237, 665)), 0.0], [((234, 481), (265, 501)), 0.0], [((504, 562), (535, 584)), 1.0], [((756, 517), (804, 558)), 0.0], [((963, 508), (985, 539)), 1.0], [((27, 553), (31, 584)), 0.0], [((135, 499), (139, 530)), 0.0], [((351, 409), (355, 440)), 0.0], [((603, 625), (634, 656)), 1.0], [((1215, 427), (1260, 458)), 0.0], [((333, 418), (364, 440)), 0.0], [((189, 490), (220, 494)), 1.0], [((756, 571), (787, 602)), 0.0], [((1224, 652), (1246, 683)), 0.0], [((1026, 526), (1030, 530)), 1], [((909, 427), (956, 463)), 0.0], [((837, 616), (868, 638)), 0.0], [((266, 661), (292, 672)), 1.0], [((63, 625), (103, 665)), 0.0], [((396, 454), (427, 485)), 1]]\n",
      "[[((171, 418), (202, 458)), 58.0], [((817, 400), (937, 501)), 505.0], [((1121, 400), (1228, 520)), 1326.0], [((549, 535), (580, 566)), 8.0], [((27, 517), (58, 557)), 24.0], [((1017, 562), (1048, 584)), 22.0], [((1242, 652), (1264, 683)), 1.0], [((747, 598), (760, 629)), 19.0], [((819, 634), (868, 683)), 3.0], [((1233, 652), (1237, 665)), 0.0], [((234, 481), (265, 501)), 0.0], [((504, 562), (535, 584)), 1.0], [((756, 517), (804, 558)), 0.0], [((963, 508), (985, 539)), 1.0], [((27, 553), (31, 584)), 0.0], [((135, 499), (139, 530)), 0.0], [((351, 409), (355, 440)), 0.0], [((603, 625), (634, 656)), 1.0], [((1215, 427), (1260, 458)), 0.0], [((333, 418), (364, 440)), 0.0], [((189, 490), (220, 494)), 1.0], [((756, 571), (787, 602)), 0.0], [((1224, 652), (1246, 683)), 0.0], [((1026, 526), (1030, 530)), 1], [((909, 427), (956, 463)), 0.0], [((837, 616), (868, 638)), 0.0], [((266, 661), (292, 672)), 1.0], [((63, 625), (103, 665)), 0.0], [((396, 454), (427, 485)), 1]]\n",
      "[[((162, 427), (175, 449)), 56.0], [((817, 400), (937, 501)), 506.0], [((1134, 419), (1203, 521)), 1328.0], [((585, 607), (598, 629)), 6.0], [((27, 517), (58, 557)), 22.0], [((1017, 562), (1048, 584)), 20.0], [((1242, 652), (1264, 683)), 2.0], [((747, 598), (760, 629)), 17.0], [((819, 634), (868, 683)), 1.0], [((1233, 652), (1237, 665)), 0.0], [((234, 481), (265, 501)), 0.0], [((504, 562), (535, 584)), 1.0], [((756, 517), (804, 558)), 0.0], [((963, 508), (985, 539)), 1.0], [((27, 553), (31, 584)), 0.0], [((135, 499), (139, 530)), 0.0], [((351, 409), (355, 440)), 0.0], [((603, 625), (634, 656)), 1.0], [((1215, 427), (1260, 458)), 0.0], [((333, 418), (364, 440)), 0.0], [((189, 490), (220, 494)), 1.0], [((756, 571), (787, 602)), 0.0], [((1224, 652), (1246, 683)), 0.0], [((1026, 526), (1030, 530)), 1], [((909, 427), (956, 463)), 0.0], [((837, 616), (868, 638)), 0.0], [((266, 661), (292, 672)), 1.0], [((63, 625), (103, 665)), 0.0], [((396, 454), (427, 485)), 1]]\n"
     ]
    },
    {
     "name": "stderr",
     "output_type": "stream",
     "text": [
      "\u001b[A\u001b[A\u001b[A\n",
      "\n",
      "\n",
      " 83%|████████▎ | 938/1136 [03:56<01:53,  1.75it/s]\u001b[A\u001b[A\u001b[A\n",
      "\n",
      "\n",
      " 83%|████████▎ | 944/1136 [03:56<01:18,  2.45it/s]"
     ]
    },
    {
     "name": "stdout",
     "output_type": "stream",
     "text": [
      "[[((162, 427), (175, 449)), 54.0], [((810, 400), (937, 501)), 507.0], [((1134, 409), (1228, 503)), 1330.0], [((585, 607), (598, 629)), 7.0], [((27, 517), (58, 557)), 20.0], [((1017, 562), (1048, 584)), 18.0], [((1206, 652), (1228, 683)), 0.0], [((747, 598), (760, 629)), 15.0], [((819, 634), (868, 683)), 1.0], [((1233, 652), (1237, 665)), 0.0], [((234, 481), (265, 501)), 0.0], [((504, 562), (535, 584)), 1.0], [((756, 517), (804, 558)), 0.0], [((963, 508), (985, 539)), 1.0], [((27, 553), (31, 584)), 0.0], [((135, 499), (139, 530)), 0.0], [((351, 409), (355, 440)), 0.0], [((603, 625), (634, 656)), 1.0], [((1215, 427), (1260, 458)), 0.0], [((333, 418), (364, 440)), 0.0], [((189, 490), (220, 494)), 1.0], [((756, 571), (787, 602)), 0.0], [((1224, 652), (1246, 683)), 0.0], [((1026, 526), (1030, 530)), 1], [((909, 427), (956, 463)), 0.0], [((837, 616), (868, 638)), 0.0], [((266, 661), (292, 672)), 1.0], [((63, 625), (103, 665)), 0.0], [((396, 454), (427, 485)), 1]]\n",
      "[[((162, 427), (175, 449)), 55.0], [((828, 400), (937, 494)), 508.0], [((1134, 400), (1222, 512)), 1334.0], [((603, 625), (616, 629)), 5.0], [((27, 517), (58, 557)), 18.0], [((1017, 562), (1048, 584)), 16.0], [((1206, 652), (1228, 683)), 0.0], [((747, 598), (760, 629)), 13.0], [((819, 634), (868, 683)), 1.0], [((1233, 652), (1237, 665)), 0.0], [((234, 481), (265, 501)), 0.0], [((504, 562), (535, 584)), 1.0], [((756, 517), (804, 558)), 0.0], [((963, 508), (985, 539)), 1.0], [((27, 553), (31, 584)), 0.0], [((135, 499), (139, 530)), 0.0], [((351, 409), (355, 440)), 0.0], [((603, 625), (634, 656)), 1.0], [((1215, 427), (1260, 458)), 0.0], [((333, 418), (364, 440)), 0.0], [((189, 490), (220, 494)), 1.0], [((756, 571), (787, 602)), 0.0], [((1224, 652), (1246, 683)), 0.0], [((1026, 526), (1030, 530)), 1], [((909, 427), (956, 463)), 0.0], [((837, 616), (868, 638)), 0.0], [((266, 661), (292, 672)), 1.0], [((63, 625), (103, 665)), 0.0], [((396, 454), (427, 485)), 1]]\n",
      "[[((135, 436), (166, 449)), 57.0], [((828, 400), (922, 494)), 509.0], [((1140, 400), (1222, 463)), 1340.0], [((603, 625), (616, 629)), 3.0], [((27, 517), (58, 557)), 16.0], [((1017, 562), (1048, 584)), 14.0], [((1206, 652), (1228, 683)), 0.0], [((747, 598), (760, 629)), 11.0], [((819, 634), (868, 683)), 1.0], [((1233, 652), (1237, 665)), 0.0], [((234, 481), (265, 501)), 0.0], [((504, 562), (535, 584)), 1.0], [((756, 517), (804, 558)), 0.0], [((963, 508), (985, 539)), 1.0], [((27, 553), (31, 584)), 0.0], [((135, 499), (139, 530)), 0.0], [((351, 409), (355, 440)), 0.0], [((603, 625), (634, 656)), 1.0], [((1215, 427), (1260, 458)), 0.0], [((333, 418), (364, 440)), 0.0], [((189, 490), (220, 494)), 1.0], [((756, 571), (787, 602)), 0.0], [((1224, 652), (1246, 683)), 0.0], [((1026, 526), (1030, 530)), 1], [((909, 427), (956, 463)), 0.0], [((837, 616), (868, 638)), 0.0], [((266, 661), (292, 672)), 1.0], [((63, 625), (103, 665)), 0.0], [((396, 454), (427, 485)), 1]]\n",
      "[[((117, 409), (157, 449)), 59.0], [((828, 400), (922, 482)), 510.0], [((1140, 400), (1222, 463)), 1342.0], [((603, 625), (616, 629)), 1.0], [((27, 517), (58, 557)), 14.0], [((1017, 562), (1048, 584)), 12.0], [((1206, 652), (1228, 683)), 0.0], [((747, 598), (760, 629)), 9.0], [((819, 634), (868, 683)), 1.0], [((1233, 652), (1237, 665)), 0.0], [((234, 481), (265, 501)), 0.0], [((504, 562), (535, 584)), 1.0], [((756, 517), (804, 558)), 0.0], [((963, 508), (985, 539)), 1.0], [((27, 553), (31, 584)), 0.0], [((135, 499), (139, 530)), 0.0], [((351, 409), (355, 440)), 0.0], [((603, 625), (634, 656)), 1.0], [((1215, 427), (1260, 458)), 0.0], [((333, 418), (364, 440)), 0.0], [((189, 490), (220, 494)), 1.0], [((756, 571), (787, 602)), 0.0], [((1224, 652), (1246, 683)), 0.0], [((1026, 526), (1030, 530)), 1], [((909, 427), (956, 463)), 0.0], [((837, 616), (868, 638)), 0.0], [((266, 661), (292, 672)), 1.0], [((63, 625), (103, 665)), 0.0], [((396, 454), (427, 485)), 1]]\n",
      "[[((153, 472), (184, 503)), 57.0], [((817, 400), (922, 485)), 511.0], [((1140, 400), (1222, 463)), 1345.0], [((603, 625), (616, 629)), 1.0], [((27, 517), (58, 557)), 15.0], [((1017, 562), (1048, 584)), 10.0], [((1206, 652), (1228, 683)), 0.0], [((747, 598), (760, 629)), 7.0], [((819, 634), (868, 683)), 1.0], [((1233, 652), (1237, 665)), 0.0], [((234, 481), (265, 501)), 0.0], [((504, 562), (535, 584)), 1.0], [((756, 517), (804, 558)), 0.0], [((963, 508), (985, 539)), 1.0], [((27, 553), (31, 584)), 0.0], [((135, 499), (139, 530)), 0.0], [((351, 409), (355, 440)), 0.0], [((603, 625), (634, 656)), 1.0], [((1215, 427), (1260, 458)), 0.0], [((333, 418), (364, 440)), 0.0], [((189, 490), (220, 494)), 1.0], [((756, 571), (787, 602)), 0.0], [((1224, 652), (1246, 683)), 0.0], [((1026, 526), (1030, 530)), 1], [((909, 427), (956, 463)), 0.0], [((837, 616), (868, 638)), 0.0], [((266, 661), (292, 672)), 1.0], [((63, 625), (103, 665)), 0.0], [((396, 454), (427, 485)), 1]]\n",
      "[[((153, 472), (184, 503)), 55.0], [((828, 400), (922, 482)), 512.0], [((1140, 400), (1222, 463)), 1347.0], [((603, 625), (616, 629)), 1.0], [((36, 418), (58, 449)), 16.0], [((1017, 562), (1048, 584)), 8.0], [((1206, 652), (1228, 683)), 0.0], [((747, 598), (760, 629)), 5.0], [((819, 634), (868, 683)), 1.0], [((1233, 652), (1237, 665)), 0.0], [((234, 481), (265, 501)), 0.0], [((504, 562), (535, 584)), 1.0], [((756, 517), (804, 558)), 0.0], [((963, 508), (985, 539)), 1.0], [((27, 553), (31, 584)), 0.0], [((135, 499), (139, 530)), 0.0], [((351, 409), (355, 440)), 0.0], [((603, 625), (634, 656)), 1.0], [((1215, 427), (1260, 458)), 0.0], [((333, 418), (364, 440)), 0.0], [((189, 490), (220, 494)), 1.0], [((756, 571), (787, 602)), 0.0], [((1224, 652), (1246, 683)), 0.0], [((1026, 526), (1030, 530)), 1], [((909, 427), (956, 463)), 0.0], [((837, 616), (868, 638)), 0.0], [((266, 661), (292, 672)), 1.0], [((63, 625), (103, 665)), 0.0], [((396, 454), (427, 485)), 1]]\n",
      "[[((153, 472), (184, 503)), 56.0], [((817, 400), (922, 482)), 513.0], [((1140, 400), (1228, 494)), 1349.0], [((603, 625), (616, 629)), 1.0], [((18, 418), (40, 449)), 14.0], [((1017, 562), (1048, 584)), 6.0], [((1206, 652), (1228, 683)), 0.0], [((747, 598), (760, 629)), 3.0], [((819, 634), (868, 683)), 1.0], [((1233, 652), (1237, 665)), 0.0], [((234, 481), (265, 501)), 0.0], [((504, 562), (535, 584)), 1.0], [((756, 517), (804, 558)), 0.0], [((963, 508), (985, 539)), 1.0], [((27, 553), (31, 584)), 0.0], [((135, 499), (139, 530)), 0.0], [((351, 409), (355, 440)), 0.0], [((603, 625), (634, 656)), 1.0], [((1215, 427), (1260, 458)), 0.0], [((333, 418), (364, 440)), 0.0], [((189, 490), (220, 494)), 1.0], [((756, 571), (787, 602)), 0.0], [((1224, 652), (1246, 683)), 0.0], [((1026, 526), (1030, 530)), 1], [((909, 427), (956, 463)), 0.0], [((837, 616), (868, 638)), 0.0], [((266, 661), (292, 672)), 1.0], [((63, 625), (103, 665)), 0.0], [((396, 454), (427, 485)), 1]]\n",
      "[[((234, 481), (238, 512)), 54.0], [((817, 400), (922, 482)), 514.0], [((1143, 400), (1228, 503)), 1352.0], [((603, 625), (616, 629)), 2.0], [((18, 418), (40, 449)), 15.0], [((1017, 562), (1048, 584)), 4.0], [((1206, 652), (1228, 683)), 0.0], [((747, 598), (760, 629)), 1.0], [((819, 634), (868, 683)), 1.0], [((1233, 652), (1237, 665)), 0.0], [((234, 481), (265, 501)), 0.0], [((504, 562), (535, 584)), 1.0], [((756, 517), (804, 558)), 0.0], [((963, 508), (985, 539)), 1.0], [((27, 553), (31, 584)), 0.0], [((135, 499), (139, 530)), 0.0], [((351, 409), (355, 440)), 0.0], [((603, 625), (634, 656)), 1.0], [((1215, 427), (1260, 458)), 0.0], [((333, 418), (364, 440)), 0.0], [((189, 490), (220, 494)), 1.0], [((756, 571), (787, 602)), 0.0], [((1224, 652), (1246, 683)), 0.0], [((1026, 526), (1030, 530)), 1], [((909, 427), (956, 463)), 0.0], [((837, 616), (868, 638)), 0.0], [((266, 661), (292, 672)), 1.0], [((63, 625), (103, 665)), 0.0], [((396, 454), (427, 485)), 1]]\n",
      "[[((234, 481), (238, 512)), 55.0], [((819, 400), (922, 482)), 515.0], [((1143, 400), (1241, 501)), 1354.0], [((504, 571), (517, 584)), 3.0], [((45, 400), (101, 463)), 16.0], [((1017, 562), (1048, 584)), 2.0], [((1206, 652), (1228, 683)), 0.0], [((747, 598), (760, 629)), 1.0], [((819, 634), (868, 683)), 1.0], [((1233, 652), (1237, 665)), 0.0], [((234, 481), (265, 501)), 0.0], [((504, 562), (535, 584)), 1.0], [((756, 517), (804, 558)), 0.0], [((963, 508), (985, 539)), 1.0], [((27, 553), (31, 584)), 0.0], [((135, 499), (139, 530)), 0.0], [((351, 409), (355, 440)), 0.0], [((603, 625), (634, 656)), 1.0], [((1215, 427), (1260, 458)), 0.0], [((333, 418), (364, 440)), 0.0], [((189, 490), (220, 494)), 1.0], [((756, 571), (787, 602)), 0.0], [((1224, 652), (1246, 683)), 0.0], [((1026, 526), (1030, 530)), 1], [((909, 427), (956, 463)), 0.0], [((837, 616), (868, 638)), 0.0], [((266, 661), (292, 672)), 1.0], [((63, 625), (103, 665)), 0.0], [((396, 454), (427, 485)), 1]]\n",
      "[[((171, 481), (184, 512)), 53.0], [((817, 400), (922, 482)), 516.0], [((1143, 400), (1222, 467)), 1357.0], [((522, 616), (553, 638)), 1.0], [((54, 418), (85, 449)), 17.0], [((1017, 562), (1048, 584)), 0.0], [((1206, 652), (1228, 683)), 0.0], [((747, 598), (760, 629)), 1.0], [((819, 634), (868, 683)), 1.0], [((1233, 652), (1237, 665)), 0.0], [((234, 481), (265, 501)), 0.0], [((504, 562), (535, 584)), 1.0], [((756, 517), (804, 558)), 0.0], [((963, 508), (985, 539)), 1.0], [((27, 553), (31, 584)), 0.0], [((135, 499), (139, 530)), 0.0], [((351, 409), (355, 440)), 0.0], [((603, 625), (634, 656)), 1.0], [((1215, 427), (1260, 458)), 0.0], [((333, 418), (364, 440)), 0.0], [((189, 490), (220, 494)), 1.0], [((756, 571), (787, 602)), 0.0], [((1224, 652), (1246, 683)), 0.0], [((1026, 526), (1030, 530)), 1], [((909, 427), (956, 463)), 0.0], [((837, 616), (868, 638)), 0.0], [((266, 661), (292, 672)), 1.0], [((63, 625), (103, 665)), 0.0], [((396, 454), (427, 485)), 1]]\n",
      "[[((171, 481), (184, 512)), 56.0], [((817, 400), (931, 482)), 517.0], [((1143, 400), (1222, 467)), 1358.0], [((522, 616), (553, 638)), 1.0], [((36, 427), (49, 440)), 18.0], [((1017, 562), (1048, 584)), 0.0], [((1206, 652), (1228, 683)), 0.0], [((747, 598), (760, 629)), 1.0], [((819, 634), (868, 683)), 1.0], [((1233, 652), (1237, 665)), 0.0], [((234, 481), (265, 501)), 0.0], [((504, 562), (535, 584)), 1.0], [((756, 517), (804, 558)), 0.0], [((963, 508), (985, 539)), 1.0], [((27, 553), (31, 584)), 0.0], [((135, 499), (139, 530)), 0.0], [((351, 409), (355, 440)), 0.0], [((603, 625), (634, 656)), 1.0], [((1215, 427), (1260, 458)), 0.0], [((333, 418), (364, 440)), 0.0], [((189, 490), (220, 494)), 1.0], [((756, 571), (787, 602)), 0.0], [((1224, 652), (1246, 683)), 0.0], [((1026, 526), (1030, 530)), 1], [((909, 427), (956, 463)), 0.0], [((837, 616), (868, 638)), 0.0], [((266, 661), (292, 672)), 1.0], [((63, 625), (103, 665)), 0.0], [((396, 454), (427, 485)), 1]]\n"
     ]
    },
    {
     "name": "stderr",
     "output_type": "stream",
     "text": [
      "\u001b[A\u001b[A\u001b[A\n",
      "\n",
      "\n",
      " 84%|████████▎ | 950/1136 [03:56<00:55,  3.36it/s]"
     ]
    },
    {
     "name": "stdout",
     "output_type": "stream",
     "text": [
      "[[((126, 427), (158, 467)), 57.0], [((817, 400), (931, 485)), 518.0], [((1143, 400), (1237, 494)), 1364.0], [((522, 616), (553, 638)), 1.0], [((19, 409), (67, 458)), 16.0], [((1017, 562), (1048, 584)), 0.0], [((1206, 652), (1228, 683)), 0.0], [((747, 598), (760, 629)), 1.0], [((819, 634), (868, 683)), 1.0], [((1233, 652), (1237, 665)), 0.0], [((234, 481), (265, 501)), 0.0], [((504, 562), (535, 584)), 1.0], [((756, 517), (804, 558)), 0.0], [((963, 508), (985, 539)), 1.0], [((27, 553), (31, 584)), 0.0], [((135, 499), (139, 530)), 0.0], [((351, 409), (355, 440)), 0.0], [((603, 625), (634, 656)), 1.0], [((1215, 427), (1260, 458)), 0.0], [((333, 418), (364, 440)), 0.0], [((189, 490), (220, 494)), 1.0], [((756, 571), (787, 602)), 0.0], [((1224, 652), (1246, 683)), 0.0], [((1026, 526), (1030, 530)), 1], [((909, 427), (956, 463)), 0.0], [((837, 616), (868, 638)), 0.0], [((266, 661), (292, 672)), 1.0], [((63, 625), (103, 665)), 0.0], [((396, 454), (427, 485)), 1]]\n",
      "[[((76, 419), (166, 503)), 59.0], [((817, 400), (931, 485)), 519.0], [((1152, 400), (1237, 463)), 1365.0], [((522, 616), (553, 638)), 1.0], [((19, 409), (67, 458)), 14.0], [((1017, 562), (1048, 584)), 0.0], [((1206, 652), (1228, 683)), 0.0], [((747, 598), (760, 629)), 2.0], [((819, 634), (868, 683)), 1.0], [((1233, 652), (1237, 665)), 0.0], [((234, 481), (265, 501)), 0.0], [((504, 562), (535, 584)), 1.0], [((756, 517), (804, 558)), 0.0], [((963, 508), (985, 539)), 1.0], [((27, 553), (31, 584)), 0.0], [((135, 499), (139, 530)), 0.0], [((351, 409), (355, 440)), 0.0], [((603, 625), (634, 656)), 1.0], [((1215, 427), (1260, 458)), 0.0], [((333, 418), (364, 440)), 0.0], [((189, 490), (220, 494)), 1.0], [((756, 571), (787, 602)), 0.0], [((1224, 652), (1246, 683)), 0.0], [((1026, 526), (1030, 530)), 1], [((909, 427), (956, 463)), 0.0], [((837, 616), (868, 638)), 0.0], [((266, 661), (292, 672)), 1.0], [((63, 625), (103, 665)), 0.0], [((396, 454), (427, 485)), 1]]\n",
      "[[((57, 419), (101, 482)), 60.0], [((817, 400), (931, 482)), 520.0], [((1143, 400), (1237, 512)), 1366.0], [((522, 616), (553, 638)), 1.0], [((19, 409), (67, 458)), 12.0], [((1017, 562), (1048, 584)), 0.0], [((1206, 652), (1228, 683)), 0.0], [((675, 616), (697, 647)), 0.0], [((819, 634), (868, 683)), 1.0], [((1233, 652), (1237, 665)), 0.0], [((234, 481), (265, 501)), 0.0], [((504, 562), (535, 584)), 1.0], [((756, 517), (804, 558)), 0.0], [((963, 508), (985, 539)), 1.0], [((27, 553), (31, 584)), 0.0], [((135, 499), (139, 530)), 0.0], [((351, 409), (355, 440)), 0.0], [((603, 625), (634, 656)), 1.0], [((1215, 427), (1260, 458)), 0.0], [((333, 418), (364, 440)), 0.0], [((189, 490), (220, 494)), 1.0], [((756, 571), (787, 602)), 0.0], [((1224, 652), (1246, 683)), 0.0], [((1026, 526), (1030, 530)), 1], [((909, 427), (956, 463)), 0.0], [((837, 616), (868, 638)), 0.0], [((266, 661), (292, 672)), 1.0], [((63, 625), (103, 665)), 0.0], [((396, 454), (427, 485)), 1]]\n"
     ]
    },
    {
     "name": "stderr",
     "output_type": "stream",
     "text": [
      "\u001b[A\u001b[A\u001b[A\n",
      "\n",
      "\n",
      " 84%|████████▍ | 952/1136 [03:56<00:44,  4.15it/s]"
     ]
    },
    {
     "name": "stdout",
     "output_type": "stream",
     "text": [
      "[[((76, 419), (82, 482)), 58.0], [((817, 400), (931, 482)), 521.0], [((1143, 400), (1246, 512)), 1367.0], [((522, 616), (553, 638)), 1.0], [((19, 409), (67, 458)), 10.0], [((1017, 562), (1048, 584)), 0.0], [((1206, 652), (1228, 683)), 1.0], [((675, 616), (697, 647)), 0.0], [((819, 634), (868, 683)), 1.0], [((1233, 652), (1237, 665)), 0.0], [((234, 481), (265, 501)), 0.0], [((504, 562), (535, 584)), 1.0], [((756, 517), (804, 558)), 0.0], [((963, 508), (985, 539)), 1.0], [((27, 553), (31, 584)), 0.0], [((135, 499), (139, 530)), 0.0], [((351, 409), (355, 440)), 0.0], [((603, 625), (634, 656)), 1.0], [((1215, 427), (1260, 458)), 0.0], [((333, 418), (364, 440)), 0.0], [((189, 490), (220, 494)), 1.0], [((756, 571), (787, 602)), 0.0], [((1224, 652), (1246, 683)), 0.0], [((1026, 526), (1030, 530)), 1], [((909, 427), (956, 463)), 0.0], [((837, 616), (868, 638)), 0.0], [((266, 661), (292, 672)), 1.0], [((63, 625), (103, 665)), 0.0], [((396, 454), (427, 485)), 1]]\n",
      "[[((76, 419), (82, 482)), 59.0], [((828, 400), (931, 485)), 522.0], [((1159, 400), (1246, 512)), 1369.0], [((522, 616), (553, 638)), 1.0], [((19, 409), (67, 458)), 11.0], [((1017, 562), (1048, 584)), 0.0], [((1206, 652), (1228, 683)), 1.0], [((675, 616), (697, 647)), 0.0], [((819, 634), (868, 683)), 1.0], [((1233, 652), (1237, 665)), 0.0], [((234, 481), (265, 501)), 0.0], [((504, 562), (535, 584)), 1.0], [((756, 517), (804, 558)), 0.0], [((963, 508), (985, 539)), 1.0], [((27, 553), (31, 584)), 0.0], [((135, 499), (139, 530)), 0.0], [((351, 409), (355, 440)), 0.0], [((603, 625), (634, 656)), 1.0], [((1215, 427), (1260, 458)), 0.0], [((333, 418), (364, 440)), 0.0], [((189, 490), (220, 494)), 1.0], [((756, 571), (787, 602)), 0.0], [((1224, 652), (1246, 683)), 0.0], [((1026, 526), (1030, 530)), 1], [((909, 427), (956, 463)), 0.0], [((837, 616), (868, 638)), 0.0], [((266, 661), (292, 672)), 1.0], [((63, 625), (103, 665)), 0.0], [((396, 454), (427, 485)), 1]]\n"
     ]
    },
    {
     "name": "stderr",
     "output_type": "stream",
     "text": [
      "\u001b[A\u001b[A\u001b[A\n",
      "\n",
      "\n",
      " 84%|████████▍ | 954/1136 [03:57<00:56,  3.24it/s]\u001b[A\u001b[A\u001b[A\n",
      "\n",
      "\n",
      " 84%|████████▍ | 956/1136 [03:57<00:41,  4.29it/s]"
     ]
    },
    {
     "name": "stdout",
     "output_type": "stream",
     "text": [
      "[[((27, 499), (40, 512)), 57.0], [((817, 400), (931, 482)), 523.0], [((1152, 400), (1228, 512)), 1370.0], [((522, 616), (553, 638)), 1.0], [((27, 544), (40, 566)), 9.0], [((1017, 562), (1048, 584)), 0.0], [((1206, 652), (1228, 683)), 1.0], [((675, 616), (697, 647)), 0.0], [((819, 634), (868, 683)), 1.0], [((1233, 652), (1237, 665)), 0.0], [((234, 481), (265, 501)), 1.0], [((504, 562), (535, 584)), 1.0], [((756, 517), (804, 558)), 0.0], [((963, 508), (985, 539)), 1.0], [((27, 553), (31, 584)), 0.0], [((135, 499), (139, 530)), 0.0], [((351, 409), (355, 440)), 0.0], [((603, 625), (634, 656)), 1.0], [((1215, 427), (1260, 458)), 0.0], [((333, 418), (364, 440)), 0.0], [((189, 490), (220, 494)), 1.0], [((756, 571), (787, 602)), 0.0], [((1224, 652), (1246, 683)), 0.0], [((1026, 526), (1030, 530)), 1], [((909, 427), (956, 463)), 0.0], [((837, 616), (868, 638)), 0.0], [((266, 661), (292, 672)), 1.0], [((63, 625), (103, 665)), 0.0], [((396, 454), (427, 485)), 1]]\n",
      "[[((27, 499), (40, 512)), 55.0], [((828, 400), (937, 482)), 524.0], [((1159, 400), (1241, 512)), 1371.0], [((522, 616), (553, 638)), 1.0], [((27, 544), (40, 566)), 7.0], [((1017, 562), (1048, 584)), 0.0], [((1206, 652), (1228, 683)), 2.0], [((675, 616), (697, 647)), 1.0], [((819, 634), (868, 683)), 1.0], [((1233, 652), (1237, 665)), 0.0], [((162, 427), (175, 449)), 2.0], [((504, 562), (535, 584)), 1.0], [((756, 517), (804, 558)), 0.0], [((963, 508), (985, 539)), 1.0], [((27, 553), (31, 584)), 0.0], [((135, 499), (139, 530)), 0.0], [((351, 409), (355, 440)), 0.0], [((603, 625), (634, 656)), 1.0], [((1215, 427), (1260, 458)), 0.0], [((333, 418), (364, 440)), 0.0], [((189, 490), (220, 494)), 1.0], [((756, 571), (787, 602)), 0.0], [((1224, 652), (1246, 683)), 0.0], [((1026, 526), (1030, 530)), 1], [((909, 427), (956, 463)), 0.0], [((837, 616), (868, 638)), 0.0], [((266, 661), (292, 672)), 1.0], [((63, 625), (103, 665)), 0.0], [((396, 454), (427, 485)), 1]]\n",
      "[[((27, 499), (40, 512)), 53.0], [((817, 400), (931, 482)), 525.0], [((1159, 400), (1241, 503)), 1373.0], [((522, 616), (553, 638)), 1.0], [((27, 544), (40, 566)), 5.0], [((1017, 562), (1048, 584)), 0.0], [((1170, 652), (1192, 683)), 0.0], [((648, 562), (679, 584)), 1.0], [((819, 634), (868, 683)), 1.0], [((1233, 652), (1237, 665)), 0.0], [((135, 418), (175, 449)), 0.0], [((504, 562), (535, 584)), 1.0], [((756, 517), (804, 558)), 0.0], [((963, 508), (985, 539)), 1.0], [((27, 553), (31, 584)), 0.0], [((135, 499), (139, 530)), 0.0], [((351, 409), (355, 440)), 0.0], [((603, 625), (634, 656)), 1.0], [((1215, 427), (1260, 458)), 0.0], [((333, 418), (364, 440)), 0.0], [((189, 490), (220, 494)), 1.0], [((756, 571), (787, 602)), 0.0], [((1224, 652), (1246, 683)), 0.0], [((1026, 526), (1030, 530)), 1], [((909, 427), (956, 463)), 0.0], [((837, 616), (868, 638)), 0.0], [((266, 661), (292, 672)), 1.0], [((63, 625), (103, 665)), 0.0], [((396, 454), (427, 485)), 1]]\n",
      "[[((27, 499), (40, 512)), 51.0], [((817, 400), (922, 485)), 526.0], [((1159, 400), (1241, 463)), 1375.0], [((522, 616), (553, 638)), 1.0], [((27, 544), (40, 566)), 3.0], [((1017, 562), (1048, 584)), 0.0], [((1170, 652), (1192, 683)), 0.0], [((648, 562), (679, 584)), 1.0], [((819, 634), (868, 683)), 1.0], [((1233, 652), (1237, 665)), 0.0], [((135, 418), (175, 449)), 0.0], [((504, 562), (535, 584)), 1.0], [((756, 517), (804, 558)), 0.0], [((963, 508), (985, 539)), 1.0], [((27, 553), (31, 584)), 0.0], [((135, 499), (139, 530)), 0.0], [((351, 409), (355, 440)), 0.0], [((603, 625), (634, 656)), 1.0], [((1215, 427), (1260, 458)), 0.0], [((333, 418), (364, 440)), 0.0], [((189, 490), (220, 494)), 1.0], [((756, 571), (787, 602)), 0.0], [((1224, 652), (1246, 683)), 0.0], [((1026, 526), (1030, 530)), 1], [((909, 427), (956, 463)), 0.0], [((837, 616), (868, 638)), 0.0], [((266, 661), (292, 672)), 1.0], [((63, 625), (103, 665)), 0.0], [((396, 454), (427, 485)), 1]]\n",
      "[[((27, 499), (40, 512)), 49.0], [((828, 400), (922, 485)), 527.0], [((1178, 400), (1241, 463)), 1376.0], [((522, 616), (553, 638)), 1.0], [((27, 544), (40, 566)), 1.0], [((1017, 562), (1048, 584)), 0.0], [((1170, 652), (1192, 683)), 0.0], [((648, 562), (679, 584)), 1.0], [((819, 634), (868, 683)), 2.0], [((1233, 652), (1237, 665)), 0.0], [((135, 418), (175, 449)), 0.0], [((504, 562), (535, 584)), 1.0], [((756, 517), (804, 558)), 0.0], [((963, 508), (985, 539)), 1.0], [((27, 553), (31, 584)), 0.0], [((135, 499), (139, 530)), 0.0], [((351, 409), (355, 440)), 0.0], [((603, 625), (634, 656)), 1.0], [((1215, 427), (1260, 458)), 0.0], [((333, 418), (364, 440)), 0.0], [((189, 490), (220, 494)), 1.0], [((756, 571), (787, 602)), 0.0], [((1224, 652), (1246, 683)), 0.0], [((1026, 526), (1030, 530)), 1], [((909, 427), (956, 463)), 0.0], [((837, 616), (868, 638)), 0.0], [((266, 661), (292, 672)), 1.0], [((63, 625), (103, 665)), 0.0], [((396, 454), (427, 485)), 1]]\n",
      "[[((27, 499), (40, 512)), 47.0], [((817, 400), (922, 485)), 528.0], [((1143, 400), (1246, 520)), 1378.0], [((522, 616), (553, 638)), 1.0], [((27, 544), (40, 566)), 1.0], [((1017, 562), (1048, 584)), 0.0], [((1170, 652), (1192, 683)), 0.0], [((648, 562), (679, 584)), 1.0], [((810, 616), (832, 629)), 0.0], [((1233, 652), (1237, 665)), 0.0], [((135, 418), (175, 449)), 0.0], [((504, 562), (535, 584)), 1.0], [((756, 517), (804, 558)), 0.0], [((963, 508), (985, 539)), 1.0], [((27, 553), (31, 584)), 0.0], [((135, 499), (139, 530)), 0.0], [((351, 409), (355, 440)), 0.0], [((603, 625), (634, 656)), 1.0], [((1215, 427), (1260, 458)), 0.0], [((333, 418), (364, 440)), 0.0], [((189, 490), (220, 494)), 1.0], [((756, 571), (787, 602)), 0.0], [((1224, 652), (1246, 683)), 0.0], [((1026, 526), (1030, 530)), 1], [((909, 427), (956, 463)), 0.0], [((837, 616), (868, 638)), 0.0], [((266, 661), (292, 672)), 1.0], [((63, 625), (103, 665)), 0.0], [((396, 454), (427, 485)), 1]]\n",
      "[[((27, 499), (40, 512)), 45.0], [((817, 400), (922, 485)), 529.0], [((1159, 400), (1241, 501)), 1380.0], [((522, 616), (553, 638)), 1.0], [((27, 544), (40, 566)), 1.0], [((1017, 562), (1048, 584)), 0.0], [((1170, 652), (1192, 683)), 0.0], [((648, 562), (679, 584)), 1.0], [((810, 616), (832, 629)), 0.0], [((1233, 652), (1237, 665)), 0.0], [((135, 418), (175, 449)), 0.0], [((504, 562), (535, 584)), 1.0], [((756, 517), (804, 558)), 0.0], [((963, 508), (985, 539)), 1.0], [((27, 553), (31, 584)), 0.0], [((135, 499), (139, 530)), 0.0], [((351, 409), (355, 440)), 0.0], [((603, 625), (634, 656)), 1.0], [((1215, 427), (1260, 458)), 0.0], [((333, 418), (364, 440)), 0.0], [((189, 490), (220, 494)), 1.0], [((756, 571), (787, 602)), 0.0], [((1224, 652), (1246, 683)), 0.0], [((1026, 526), (1030, 530)), 1], [((909, 427), (956, 463)), 0.0], [((837, 616), (868, 638)), 0.0], [((266, 661), (292, 672)), 1.0], [((63, 625), (103, 665)), 0.0], [((396, 454), (427, 485)), 1]]\n"
     ]
    },
    {
     "name": "stderr",
     "output_type": "stream",
     "text": [
      "\u001b[A\u001b[A\u001b[A\n",
      "\n",
      "\n",
      " 85%|████████▍ | 961/1136 [03:58<00:32,  5.34it/s]"
     ]
    },
    {
     "name": "stdout",
     "output_type": "stream",
     "text": [
      "[[((27, 499), (40, 512)), 46.0], [((817, 400), (922, 482)), 530.0], [((1140, 400), (1255, 530)), 1382.0], [((522, 616), (553, 638)), 1.0], [((27, 544), (40, 566)), 1.0], [((1017, 562), (1048, 584)), 0.0], [((1170, 652), (1192, 683)), 0.0], [((648, 562), (679, 584)), 1.0], [((810, 616), (832, 629)), 0.0], [((1233, 652), (1237, 665)), 0.0], [((135, 418), (175, 449)), 0.0], [((504, 562), (535, 584)), 1.0], [((756, 517), (804, 558)), 0.0], [((963, 508), (985, 539)), 1.0], [((27, 553), (31, 584)), 0.0], [((135, 499), (139, 530)), 0.0], [((351, 409), (355, 440)), 0.0], [((603, 625), (634, 656)), 1.0], [((1215, 427), (1260, 458)), 0.0], [((333, 418), (364, 440)), 0.0], [((189, 490), (220, 494)), 1.0], [((756, 571), (787, 602)), 0.0], [((1224, 652), (1246, 683)), 0.0], [((1026, 526), (1030, 530)), 1], [((909, 427), (956, 463)), 0.0], [((837, 616), (868, 638)), 0.0], [((266, 661), (292, 672)), 1.0], [((63, 625), (103, 665)), 0.0], [((396, 454), (427, 485)), 1]]\n",
      "[[((18, 436), (49, 458)), 44.0], [((817, 400), (922, 485)), 531.0], [((1152, 400), (1255, 467)), 1385.0], [((522, 616), (553, 638)), 1.0], [((27, 544), (40, 566)), 1.0], [((1017, 562), (1048, 584)), 0.0], [((1170, 652), (1192, 683)), 0.0], [((648, 562), (679, 584)), 1.0], [((810, 616), (832, 629)), 0.0], [((1233, 652), (1237, 665)), 0.0], [((135, 418), (175, 449)), 0.0], [((504, 562), (535, 584)), 1.0], [((756, 517), (804, 558)), 0.0], [((963, 508), (985, 539)), 1.0], [((27, 553), (31, 584)), 0.0], [((135, 499), (139, 530)), 0.0], [((351, 409), (355, 440)), 0.0], [((603, 625), (634, 656)), 1.0], [((1215, 427), (1260, 458)), 0.0], [((333, 418), (364, 440)), 0.0], [((189, 490), (220, 494)), 1.0], [((756, 571), (787, 602)), 0.0], [((1224, 652), (1246, 683)), 0.0], [((1026, 526), (1030, 530)), 1], [((909, 427), (956, 463)), 0.0], [((837, 616), (868, 638)), 0.0], [((266, 661), (292, 672)), 1.0], [((63, 625), (103, 665)), 0.0], [((396, 454), (427, 485)), 1]]\n",
      "[[((18, 436), (49, 458)), 42.0], [((817, 400), (922, 485)), 532.0], [((1170, 400), (1255, 463)), 1387.0], [((522, 616), (553, 638)), 1.0], [((27, 544), (40, 566)), 1.0], [((1017, 562), (1048, 584)), 0.0], [((1170, 652), (1192, 683)), 0.0], [((648, 562), (679, 584)), 1.0], [((810, 616), (832, 629)), 0.0], [((1233, 652), (1237, 665)), 0.0], [((135, 418), (175, 449)), 0.0], [((504, 562), (535, 584)), 1.0], [((756, 517), (804, 558)), 0.0], [((963, 508), (985, 539)), 1.0], [((27, 553), (31, 584)), 0.0], [((135, 499), (139, 530)), 0.0], [((351, 409), (355, 440)), 0.0], [((603, 625), (634, 656)), 1.0], [((1215, 427), (1260, 458)), 0.0], [((333, 418), (364, 440)), 0.0], [((189, 490), (220, 494)), 1.0], [((756, 571), (787, 602)), 0.0], [((1224, 652), (1246, 683)), 0.0], [((1026, 526), (1030, 530)), 1], [((909, 427), (956, 463)), 0.0], [((837, 616), (868, 638)), 0.0], [((266, 661), (292, 672)), 1.0], [((63, 625), (103, 665)), 0.0], [((396, 454), (427, 485)), 1]]\n"
     ]
    },
    {
     "name": "stderr",
     "output_type": "stream",
     "text": [
      "\u001b[A\u001b[A\u001b[A\n",
      "\n",
      "\n",
      " 85%|████████▍ | 964/1136 [04:01<01:17,  2.22it/s]"
     ]
    },
    {
     "name": "stdout",
     "output_type": "stream",
     "text": [
      "[[((18, 436), (49, 458)), 40.0], [((828, 400), (922, 482)), 533.0], [((1188, 400), (1241, 463)), 1389.0], [((522, 616), (553, 638)), 1.0], [((27, 544), (40, 566)), 1.0], [((1017, 562), (1048, 584)), 0.0], [((1170, 652), (1192, 683)), 0.0], [((648, 562), (679, 584)), 1.0], [((810, 616), (832, 629)), 0.0], [((1233, 652), (1237, 665)), 0.0], [((135, 418), (175, 449)), 0.0], [((504, 562), (535, 584)), 1.0], [((756, 517), (804, 558)), 0.0], [((963, 508), (985, 539)), 1.0], [((27, 553), (31, 584)), 0.0], [((135, 499), (139, 530)), 0.0], [((351, 409), (355, 440)), 0.0], [((603, 625), (634, 656)), 1.0], [((1215, 427), (1260, 458)), 0.0], [((333, 418), (364, 440)), 0.0], [((189, 490), (220, 494)), 1.0], [((756, 571), (787, 602)), 0.0], [((1224, 652), (1246, 683)), 0.0], [((1026, 526), (1030, 530)), 1], [((909, 427), (956, 463)), 0.0], [((837, 616), (868, 638)), 0.0], [((266, 661), (292, 672)), 1.0], [((63, 625), (103, 665)), 0.0], [((396, 454), (427, 485)), 1]]\n",
      "[[((18, 436), (49, 458)), 38.0], [((819, 400), (922, 485)), 534.0], [((1197, 400), (1241, 463)), 1392.0], [((522, 616), (553, 638)), 1.0], [((27, 544), (40, 566)), 1.0], [((1017, 562), (1048, 584)), 0.0], [((1170, 652), (1192, 683)), 0.0], [((648, 562), (679, 584)), 1.0], [((810, 616), (832, 629)), 0.0], [((1233, 652), (1237, 665)), 0.0], [((135, 418), (175, 449)), 0.0], [((504, 562), (535, 584)), 1.0], [((756, 517), (804, 558)), 0.0], [((963, 508), (985, 539)), 1.0], [((27, 553), (31, 584)), 0.0], [((135, 499), (139, 530)), 0.0], [((351, 409), (355, 440)), 0.0], [((603, 625), (634, 656)), 1.0], [((1215, 427), (1260, 458)), 0.0], [((333, 418), (364, 440)), 0.0], [((189, 490), (220, 494)), 1.0], [((756, 571), (787, 602)), 0.0], [((1224, 652), (1246, 683)), 0.0], [((1026, 526), (1030, 530)), 1], [((909, 427), (956, 463)), 0.0], [((837, 616), (868, 638)), 0.0], [((266, 661), (292, 672)), 1.0], [((63, 625), (103, 665)), 0.0], [((396, 454), (427, 485)), 1], [((576, 400), (598, 431)), 1]]\n",
      "[[((18, 436), (49, 458)), 36.0], [((819, 400), (922, 482)), 535.0], [((1188, 400), (1246, 463)), 1395.0], [((522, 616), (553, 638)), 1.0], [((27, 544), (40, 566)), 1.0], [((1017, 562), (1048, 584)), 0.0], [((1170, 652), (1192, 683)), 0.0], [((648, 562), (679, 584)), 1.0], [((810, 616), (832, 629)), 0.0], [((1233, 652), (1237, 665)), 0.0], [((135, 418), (175, 449)), 0.0], [((504, 562), (535, 584)), 1.0], [((756, 517), (804, 558)), 0.0], [((963, 508), (985, 539)), 1.0], [((27, 553), (31, 584)), 0.0], [((135, 499), (139, 530)), 0.0], [((351, 409), (355, 440)), 0.0], [((603, 625), (634, 656)), 1.0], [((1215, 427), (1260, 458)), 0.0], [((333, 418), (364, 440)), 0.0], [((189, 490), (220, 494)), 1.0], [((756, 571), (787, 602)), 0.0], [((1224, 652), (1246, 683)), 0.0], [((1026, 526), (1030, 530)), 1], [((909, 427), (956, 463)), 0.0], [((837, 616), (868, 638)), 0.0], [((266, 661), (292, 672)), 1.0], [((63, 625), (103, 665)), 0.0], [((396, 454), (427, 485)), 1], [((576, 400), (598, 431)), 1]]\n"
     ]
    },
    {
     "name": "stderr",
     "output_type": "stream",
     "text": [
      "\u001b[A\u001b[A\u001b[A\n",
      "\n",
      "\n",
      " 85%|████████▌ | 967/1136 [04:03<01:22,  2.05it/s]"
     ]
    },
    {
     "name": "stdout",
     "output_type": "stream",
     "text": [
      "[[((18, 436), (49, 458)), 34.0], [((819, 400), (918, 485)), 536.0], [((1188, 409), (1241, 458)), 1401.0], [((522, 616), (553, 638)), 1.0], [((27, 544), (40, 566)), 2.0], [((1017, 562), (1048, 584)), 0.0], [((1170, 652), (1192, 683)), 0.0], [((648, 562), (679, 584)), 1.0], [((810, 616), (832, 629)), 0.0], [((1233, 652), (1237, 665)), 0.0], [((135, 418), (175, 449)), 0.0], [((504, 562), (535, 584)), 1.0], [((756, 517), (804, 558)), 0.0], [((963, 508), (985, 539)), 1.0], [((27, 553), (31, 584)), 0.0], [((135, 499), (139, 530)), 0.0], [((351, 409), (355, 440)), 0.0], [((603, 625), (634, 656)), 1.0], [((1215, 427), (1260, 458)), 0.0], [((333, 418), (364, 440)), 0.0], [((189, 490), (220, 494)), 1.0], [((756, 571), (787, 602)), 0.0], [((1224, 652), (1246, 683)), 0.0], [((1026, 526), (1030, 530)), 1], [((909, 427), (956, 463)), 0.0], [((837, 616), (868, 638)), 0.0], [((266, 661), (292, 672)), 1.0], [((63, 625), (103, 665)), 0.0], [((396, 454), (427, 485)), 1], [((576, 400), (598, 431)), 1]]\n",
      "[[((18, 436), (49, 458)), 32.0], [((798, 400), (922, 485)), 537.0], [((1188, 409), (1237, 458)), 1403.0], [((522, 616), (553, 638)), 1.0], [((117, 499), (148, 521)), 0.0], [((1017, 562), (1048, 584)), 0.0], [((1170, 652), (1192, 683)), 0.0], [((648, 562), (679, 584)), 1.0], [((810, 616), (832, 629)), 0.0], [((1233, 652), (1237, 665)), 0.0], [((135, 418), (175, 449)), 0.0], [((504, 562), (535, 584)), 1.0], [((756, 517), (804, 558)), 0.0], [((963, 508), (985, 539)), 1.0], [((27, 553), (31, 584)), 0.0], [((135, 499), (139, 530)), 0.0], [((351, 409), (355, 440)), 0.0], [((603, 625), (634, 656)), 1.0], [((1215, 427), (1260, 458)), 0.0], [((333, 418), (364, 440)), 0.0], [((189, 490), (220, 494)), 1.0], [((756, 571), (787, 602)), 0.0], [((1224, 652), (1246, 683)), 0.0], [((1026, 526), (1030, 530)), 1], [((909, 427), (956, 463)), 0.0], [((837, 616), (868, 638)), 0.0], [((266, 661), (292, 672)), 1.0], [((63, 625), (103, 665)), 0.0], [((396, 454), (427, 485)), 1], [((576, 400), (598, 431)), 1]]\n",
      "[[((18, 436), (49, 458)), 30.0], [((798, 400), (922, 485)), 538.0], [((1178, 400), (1255, 463)), 1407.0], [((522, 616), (553, 638)), 1.0], [((117, 499), (148, 521)), 0.0], [((1017, 562), (1048, 584)), 0.0], [((1170, 652), (1192, 683)), 0.0], [((648, 562), (679, 584)), 1.0], [((810, 616), (832, 629)), 0.0], [((1233, 652), (1237, 665)), 0.0], [((135, 418), (175, 449)), 1.0], [((504, 562), (535, 584)), 1.0], [((756, 517), (804, 558)), 0.0], [((963, 508), (985, 539)), 1.0], [((27, 553), (31, 584)), 0.0], [((135, 499), (139, 530)), 0.0], [((351, 409), (355, 440)), 0.0], [((603, 625), (634, 656)), 1.0], [((1215, 427), (1260, 458)), 0.0], [((333, 418), (364, 440)), 0.0], [((189, 490), (220, 494)), 1.0], [((756, 571), (787, 602)), 0.0], [((1224, 652), (1246, 683)), 0.0], [((1026, 526), (1030, 530)), 1], [((909, 427), (956, 463)), 0.0], [((837, 616), (868, 638)), 0.0], [((266, 661), (292, 672)), 1.0], [((63, 625), (103, 665)), 0.0], [((396, 454), (427, 485)), 1], [((576, 400), (598, 431)), 1]]\n"
     ]
    },
    {
     "name": "stderr",
     "output_type": "stream",
     "text": [
      "\u001b[A\u001b[A\u001b[A\n",
      "\n",
      "\n",
      " 85%|████████▌ | 970/1136 [04:03<01:07,  2.45it/s]"
     ]
    },
    {
     "name": "stdout",
     "output_type": "stream",
     "text": [
      "[[((18, 436), (49, 458)), 31.0], [((817, 400), (918, 482)), 539.0], [((1161, 400), (1255, 463)), 1410.0], [((522, 616), (553, 638)), 2.0], [((117, 499), (148, 521)), 1.0], [((1017, 562), (1048, 584)), 1.0], [((1170, 652), (1192, 683)), 0.0], [((648, 562), (679, 584)), 1.0], [((810, 616), (832, 629)), 0.0], [((1233, 652), (1237, 665)), 0.0], [((234, 427), (265, 458)), 2.0], [((504, 562), (535, 584)), 1.0], [((756, 517), (804, 558)), 0.0], [((963, 508), (985, 539)), 1.0], [((27, 553), (31, 584)), 0.0], [((135, 499), (139, 530)), 0.0], [((351, 409), (355, 440)), 0.0], [((603, 625), (634, 656)), 1.0], [((1215, 427), (1260, 458)), 0.0], [((333, 418), (364, 440)), 0.0], [((189, 490), (220, 494)), 1.0], [((756, 571), (787, 602)), 0.0], [((1224, 652), (1246, 683)), 0.0], [((1026, 526), (1030, 530)), 1], [((909, 427), (956, 463)), 0.0], [((837, 616), (868, 638)), 0.0], [((266, 661), (292, 672)), 1.0], [((63, 625), (103, 665)), 0.0], [((396, 454), (427, 485)), 1], [((576, 400), (598, 431)), 1]]\n",
      "[[((72, 499), (103, 512)), 32.0], [((819, 400), (918, 485)), 540.0], [((1159, 400), (1255, 463)), 1414.0], [((468, 634), (499, 656)), 0.0], [((162, 418), (193, 449)), 2.0], [((1017, 616), (1048, 647)), 1.0], [((1170, 652), (1192, 683)), 0.0], [((648, 562), (679, 584)), 1.0], [((810, 616), (832, 629)), 0.0], [((1233, 652), (1237, 665)), 0.0], [((288, 427), (337, 458)), 0.0], [((504, 562), (535, 584)), 1.0], [((756, 517), (804, 558)), 0.0], [((963, 508), (985, 539)), 1.0], [((27, 553), (31, 584)), 0.0], [((135, 499), (139, 530)), 0.0], [((351, 409), (355, 440)), 0.0], [((603, 625), (634, 656)), 1.0], [((1215, 427), (1260, 458)), 0.0], [((333, 418), (364, 440)), 0.0], [((189, 490), (220, 494)), 1.0], [((756, 571), (787, 602)), 0.0], [((1224, 652), (1246, 683)), 0.0], [((1026, 526), (1030, 530)), 1], [((909, 427), (956, 463)), 0.0], [((837, 616), (868, 638)), 0.0], [((266, 661), (292, 672)), 1.0], [((63, 625), (103, 665)), 0.0], [((396, 454), (427, 485)), 1], [((576, 400), (598, 431)), 1]]\n",
      "[[((144, 418), (148, 449)), 33.0], [((819, 400), (918, 482)), 542.0], [((1197, 400), (1241, 463)), 1417.0], [((468, 634), (499, 656)), 0.0], [((279, 427), (310, 458)), 0.0], [((1017, 616), (1048, 647)), 1.0], [((1170, 652), (1192, 683)), 0.0], [((648, 562), (679, 584)), 1.0], [((810, 616), (832, 629)), 0.0], [((1233, 652), (1237, 665)), 0.0], [((288, 427), (337, 458)), 0.0], [((504, 562), (535, 584)), 1.0], [((756, 517), (804, 558)), 0.0], [((963, 508), (985, 539)), 1.0], [((27, 553), (31, 584)), 0.0], [((135, 499), (139, 530)), 0.0], [((351, 409), (355, 440)), 0.0], [((603, 625), (634, 656)), 1.0], [((1215, 427), (1260, 458)), 0.0], [((333, 418), (364, 440)), 0.0], [((189, 490), (220, 494)), 1.0], [((756, 571), (787, 602)), 0.0], [((1224, 652), (1246, 683)), 0.0], [((1026, 526), (1030, 530)), 1], [((909, 427), (956, 463)), 0.0], [((837, 616), (868, 638)), 0.0], [((266, 661), (292, 672)), 1.0], [((63, 625), (103, 665)), 0.0], [((396, 454), (427, 485)), 1], [((576, 400), (598, 431)), 1]]\n",
      "[[((153, 436), (193, 467)), 34.0], [((855, 400), (922, 467)), 543.0], [((1197, 400), (1246, 463)), 1418.0], [((468, 634), (499, 656)), 0.0], [((279, 427), (310, 458)), 0.0], [((1017, 616), (1048, 647)), 1.0], [((1170, 652), (1192, 683)), 0.0], [((648, 562), (679, 584)), 1.0], [((810, 616), (832, 629)), 0.0], [((1233, 652), (1237, 665)), 0.0], [((288, 427), (337, 458)), 0.0], [((504, 562), (535, 584)), 1.0], [((756, 517), (804, 558)), 0.0], [((963, 508), (985, 539)), 1.0], [((27, 553), (31, 584)), 0.0], [((135, 499), (139, 530)), 0.0], [((351, 409), (355, 440)), 0.0], [((603, 625), (634, 656)), 1.0], [((1215, 427), (1260, 458)), 0.0], [((333, 418), (364, 440)), 0.0], [((189, 490), (220, 494)), 1.0], [((756, 571), (787, 602)), 0.0], [((1224, 652), (1246, 683)), 0.0], [((1026, 526), (1030, 530)), 1], [((909, 427), (956, 463)), 0.0], [((837, 616), (868, 638)), 0.0], [((266, 661), (292, 672)), 1.0], [((63, 625), (103, 665)), 0.0], [((396, 454), (427, 485)), 1], [((576, 400), (598, 431)), 1]]\n",
      "[[((126, 427), (157, 458)), 32.0], [((855, 409), (918, 482)), 545.0], [((1197, 400), (1246, 463)), 1421.0], [((468, 634), (499, 656)), 0.0], [((279, 427), (310, 458)), 0.0], [((1017, 616), (1048, 647)), 1.0], [((1170, 652), (1192, 683)), 0.0], [((648, 562), (679, 584)), 1.0], [((810, 616), (832, 629)), 0.0], [((1233, 652), (1237, 665)), 0.0], [((288, 427), (337, 458)), 0.0], [((504, 562), (535, 584)), 1.0], [((756, 517), (804, 558)), 0.0], [((963, 508), (985, 539)), 1.0], [((27, 553), (31, 584)), 0.0], [((135, 499), (139, 530)), 0.0], [((351, 409), (355, 440)), 0.0], [((603, 625), (634, 656)), 1.0], [((1215, 427), (1260, 458)), 0.0], [((333, 418), (364, 440)), 0.0], [((189, 490), (220, 494)), 1.0], [((756, 571), (787, 602)), 0.0], [((1224, 652), (1246, 683)), 0.0], [((1026, 526), (1030, 530)), 1], [((909, 427), (956, 463)), 0.0], [((837, 616), (868, 638)), 0.0], [((266, 661), (292, 672)), 1.0], [((63, 625), (103, 665)), 0.0], [((396, 454), (427, 485)), 1], [((576, 400), (598, 431)), 1]]\n",
      "[[((126, 427), (157, 458)), 33.0], [((855, 400), (918, 482)), 546.0], [((1197, 400), (1255, 463)), 1423.0], [((468, 634), (499, 656)), 0.0], [((279, 427), (310, 458)), 0.0], [((1017, 616), (1048, 647)), 1.0], [((1170, 652), (1192, 683)), 0.0], [((648, 562), (679, 584)), 3.0], [((810, 616), (832, 629)), 0.0], [((1233, 652), (1237, 665)), 0.0], [((288, 427), (337, 458)), 0.0], [((504, 562), (535, 584)), 1.0], [((756, 517), (804, 558)), 0.0], [((963, 508), (985, 539)), 1.0], [((27, 553), (31, 584)), 0.0], [((135, 499), (139, 530)), 0.0], [((351, 409), (355, 440)), 0.0], [((603, 625), (634, 656)), 1.0], [((1215, 427), (1260, 458)), 0.0], [((333, 418), (364, 440)), 0.0], [((189, 490), (220, 494)), 1.0], [((756, 571), (787, 602)), 0.0], [((1224, 652), (1246, 683)), 0.0], [((1026, 526), (1030, 530)), 1], [((909, 427), (956, 463)), 0.0], [((837, 616), (868, 638)), 0.0], [((266, 661), (292, 672)), 1.0], [((63, 625), (103, 665)), 0.0], [((396, 454), (427, 485)), 1], [((576, 400), (598, 431)), 1]]\n"
     ]
    },
    {
     "name": "stderr",
     "output_type": "stream",
     "text": [
      "\u001b[A\u001b[A\u001b[A\n",
      "\n",
      "\n",
      " 86%|████████▌ | 976/1136 [04:04<00:47,  3.38it/s]"
     ]
    },
    {
     "name": "stdout",
     "output_type": "stream",
     "text": [
      "[[((198, 436), (220, 467)), 35.0], [((817, 400), (918, 485)), 547.0], [((1197, 400), (1246, 463)), 1426.0], [((468, 634), (499, 656)), 0.0], [((279, 427), (310, 458)), 0.0], [((1017, 616), (1048, 647)), 1.0], [((1170, 652), (1192, 683)), 0.0], [((720, 499), (751, 539)), 5.0], [((810, 616), (832, 629)), 0.0], [((1233, 652), (1237, 665)), 0.0], [((288, 427), (337, 458)), 0.0], [((504, 562), (535, 584)), 1.0], [((756, 517), (804, 558)), 0.0], [((963, 508), (985, 539)), 1.0], [((27, 553), (31, 584)), 0.0], [((135, 499), (139, 530)), 0.0], [((351, 409), (355, 440)), 1.0], [((603, 625), (634, 656)), 1.0], [((1215, 427), (1260, 458)), 0.0], [((333, 418), (364, 440)), 0.0], [((189, 490), (220, 494)), 1.0], [((756, 571), (787, 602)), 0.0], [((1224, 652), (1246, 683)), 0.0], [((1026, 526), (1030, 530)), 1], [((909, 427), (956, 463)), 0.0], [((837, 616), (868, 638)), 0.0], [((266, 661), (292, 672)), 1.0], [((63, 625), (103, 665)), 0.0], [((396, 454), (427, 485)), 1], [((576, 400), (598, 431)), 1]]\n",
      "[[((114, 419), (158, 482)), 37.0], [((817, 400), (918, 482)), 548.0], [((1178, 400), (1246, 467)), 1428.0], [((468, 634), (499, 656)), 0.0], [((279, 427), (310, 458)), 0.0], [((1017, 616), (1048, 647)), 1.0], [((1170, 652), (1192, 683)), 0.0], [((729, 499), (760, 557)), 6.0], [((810, 616), (832, 629)), 0.0], [((1233, 652), (1237, 665)), 0.0], [((288, 427), (337, 458)), 0.0], [((504, 562), (535, 584)), 1.0], [((756, 517), (804, 558)), 0.0], [((963, 508), (985, 539)), 1.0], [((27, 553), (31, 584)), 0.0], [((135, 499), (139, 530)), 0.0], [((477, 409), (499, 440)), 1.0], [((603, 625), (634, 656)), 1.0], [((1215, 427), (1260, 458)), 0.0], [((333, 418), (364, 440)), 0.0], [((189, 490), (220, 494)), 1.0], [((756, 571), (787, 602)), 0.0], [((1224, 652), (1246, 683)), 0.0], [((1026, 526), (1030, 530)), 1], [((909, 427), (956, 463)), 0.0], [((837, 616), (868, 638)), 0.0], [((266, 661), (292, 672)), 1.0], [((63, 625), (103, 665)), 0.0], [((396, 454), (427, 485)), 1], [((576, 400), (598, 431)), 1]]\n"
     ]
    },
    {
     "name": "stderr",
     "output_type": "stream",
     "text": [
      "\u001b[A\u001b[A\u001b[A\n",
      "\n",
      "\n",
      " 86%|████████▌ | 978/1136 [04:04<00:39,  4.03it/s]"
     ]
    },
    {
     "name": "stdout",
     "output_type": "stream",
     "text": [
      "[[((171, 490), (202, 512)), 38.0], [((819, 400), (918, 482)), 549.0], [((1178, 400), (1264, 520)), 1431.0], [((468, 634), (499, 656)), 0.0], [((279, 427), (310, 458)), 0.0], [((1017, 616), (1048, 647)), 1.0], [((1170, 652), (1192, 683)), 0.0], [((648, 490), (679, 548)), 11.0], [((810, 616), (832, 629)), 0.0], [((1233, 652), (1237, 665)), 0.0], [((288, 427), (337, 458)), 0.0], [((504, 562), (535, 584)), 1.0], [((756, 517), (804, 558)), 0.0], [((963, 508), (985, 539)), 1.0], [((27, 553), (31, 584)), 0.0], [((135, 499), (139, 530)), 0.0], [((477, 409), (499, 440)), 1.0], [((603, 625), (634, 656)), 1.0], [((1215, 427), (1260, 458)), 0.0], [((333, 418), (364, 440)), 0.0], [((189, 490), (220, 494)), 1.0], [((756, 571), (787, 602)), 0.0], [((1224, 652), (1246, 683)), 0.0], [((1026, 526), (1030, 530)), 1], [((909, 427), (956, 463)), 0.0], [((837, 616), (868, 638)), 0.0], [((266, 661), (292, 672)), 1.0], [((63, 625), (103, 665)), 0.0], [((396, 454), (427, 485)), 1], [((576, 400), (598, 431)), 1]]\n",
      "[[((57, 419), (120, 482)), 40.0], [((817, 400), (918, 482)), 550.0], [((1178, 400), (1241, 463)), 1435.0], [((468, 634), (499, 656)), 0.0], [((279, 427), (310, 458)), 0.0], [((1017, 616), (1048, 647)), 1.0], [((1170, 652), (1192, 683)), 0.0], [((648, 517), (679, 548)), 12.0], [((810, 616), (832, 629)), 0.0], [((1233, 652), (1237, 665)), 0.0], [((288, 427), (337, 458)), 0.0], [((504, 562), (535, 584)), 1.0], [((756, 517), (804, 558)), 0.0], [((963, 508), (985, 539)), 1.0], [((27, 553), (31, 584)), 0.0], [((135, 499), (139, 530)), 0.0], [((477, 409), (499, 440)), 1.0], [((603, 625), (634, 656)), 1.0], [((1215, 427), (1260, 458)), 0.0], [((333, 418), (364, 440)), 0.0], [((189, 490), (220, 494)), 1.0], [((756, 571), (787, 602)), 0.0], [((1224, 652), (1246, 683)), 0.0], [((1026, 526), (1030, 530)), 1], [((909, 427), (956, 463)), 0.0], [((837, 616), (868, 638)), 0.0], [((266, 661), (292, 672)), 1.0], [((63, 625), (103, 665)), 0.0], [((396, 454), (427, 485)), 1], [((576, 400), (598, 431)), 1]]\n",
      "[[((27, 419), (58, 431)), 38.0], [((817, 400), (918, 482)), 551.0], [((1178, 400), (1241, 463)), 1439.0], [((468, 634), (499, 656)), 0.0], [((279, 427), (310, 458)), 0.0], [((1017, 616), (1048, 647)), 1.0], [((1170, 652), (1192, 683)), 0.0], [((648, 481), (679, 548)), 14.0], [((810, 616), (832, 629)), 0.0], [((1233, 652), (1237, 665)), 0.0], [((288, 427), (337, 458)), 0.0], [((504, 562), (535, 584)), 1.0], [((756, 517), (804, 558)), 0.0], [((963, 508), (985, 539)), 1.0], [((27, 553), (31, 584)), 0.0], [((135, 499), (139, 530)), 0.0], [((477, 409), (499, 440)), 1.0], [((603, 625), (634, 656)), 1.0], [((1215, 427), (1260, 458)), 0.0], [((333, 418), (364, 440)), 0.0], [((189, 490), (220, 494)), 1.0], [((756, 571), (787, 602)), 0.0], [((1224, 652), (1246, 683)), 0.0], [((1026, 526), (1030, 530)), 1], [((909, 427), (956, 463)), 0.0], [((837, 616), (868, 638)), 0.0], [((266, 661), (292, 672)), 1.0], [((63, 625), (103, 665)), 0.0], [((396, 454), (427, 485)), 1], [((576, 400), (598, 431)), 1]]\n",
      "[[((27, 419), (58, 431)), 39.0], [((798, 400), (918, 482)), 552.0], [((1197, 409), (1237, 449)), 1440.0], [((468, 634), (499, 656)), 0.0], [((279, 427), (310, 458)), 1.0], [((1017, 616), (1048, 647)), 1.0], [((1170, 652), (1192, 683)), 0.0], [((648, 508), (679, 521)), 15.0], [((810, 616), (832, 629)), 0.0], [((1233, 652), (1237, 665)), 0.0], [((288, 427), (337, 458)), 0.0], [((504, 562), (535, 584)), 1.0], [((756, 517), (804, 558)), 0.0], [((963, 508), (985, 539)), 1.0], [((27, 553), (31, 584)), 0.0], [((135, 499), (139, 530)), 0.0], [((477, 409), (499, 440)), 1.0], [((603, 625), (634, 656)), 1.0], [((1215, 427), (1260, 458)), 0.0], [((333, 418), (364, 440)), 0.0], [((189, 490), (220, 494)), 1.0], [((756, 571), (787, 602)), 0.0], [((1224, 652), (1246, 683)), 0.0], [((1026, 526), (1030, 530)), 1], [((909, 427), (956, 463)), 0.0], [((837, 616), (868, 638)), 0.0], [((266, 661), (292, 672)), 1.0], [((63, 625), (103, 665)), 0.0], [((396, 454), (427, 485)), 1], [((576, 400), (598, 431)), 1]]\n"
     ]
    },
    {
     "name": "stderr",
     "output_type": "stream",
     "text": [
      "\u001b[A\u001b[A\u001b[A\n",
      "\n",
      "\n",
      " 86%|████████▋ | 982/1136 [04:04<00:29,  5.21it/s]\u001b[A\u001b[A\u001b[A\n",
      "\n",
      "\n",
      " 87%|████████▋ | 992/1136 [04:04<00:19,  7.27it/s]"
     ]
    },
    {
     "name": "stdout",
     "output_type": "stream",
     "text": [
      "[[((18, 418), (31, 449)), 41.0], [((817, 400), (918, 485)), 553.0], [((1197, 400), (1260, 463)), 1441.0], [((468, 634), (499, 656)), 0.0], [((243, 472), (274, 494)), 1.0], [((1017, 616), (1048, 647)), 1.0], [((1170, 652), (1192, 683)), 0.0], [((603, 598), (634, 620)), 16.0], [((810, 616), (832, 629)), 0.0], [((1233, 652), (1237, 665)), 0.0], [((288, 427), (337, 458)), 0.0], [((504, 562), (535, 584)), 1.0], [((756, 517), (804, 558)), 0.0], [((963, 508), (985, 539)), 1.0], [((27, 553), (31, 584)), 0.0], [((135, 499), (139, 530)), 0.0], [((477, 409), (499, 440)), 1.0], [((603, 625), (634, 656)), 1.0], [((1215, 427), (1260, 458)), 0.0], [((333, 418), (364, 440)), 0.0], [((189, 490), (220, 494)), 1.0], [((756, 571), (787, 602)), 0.0], [((1224, 652), (1246, 683)), 0.0], [((1026, 526), (1030, 530)), 2], [((909, 427), (956, 463)), 0.0], [((837, 616), (868, 638)), 0.0], [((266, 661), (292, 672)), 1.0], [((63, 625), (103, 665)), 0.0], [((396, 454), (427, 485)), 1], [((576, 400), (598, 431)), 1]]\n",
      "[[((27, 481), (58, 530)), 39.0], [((817, 400), (918, 482)), 554.0], [((1197, 400), (1273, 503)), 1443.0], [((468, 634), (499, 656)), 0.0], [((243, 472), (274, 494)), 1.0], [((1017, 616), (1048, 647)), 1.0], [((1170, 652), (1192, 683)), 0.0], [((648, 490), (679, 548)), 17.0], [((810, 616), (832, 629)), 0.0], [((1233, 652), (1237, 665)), 0.0], [((288, 427), (337, 458)), 0.0], [((504, 562), (535, 584)), 1.0], [((756, 517), (804, 558)), 0.0], [((963, 508), (985, 539)), 1.0], [((27, 553), (31, 584)), 0.0], [((135, 499), (139, 530)), 0.0], [((477, 409), (499, 440)), 1.0], [((603, 625), (634, 656)), 1.0], [((1215, 427), (1260, 458)), 0.0], [((333, 418), (364, 440)), 0.0], [((189, 490), (220, 494)), 1.0], [((756, 571), (787, 602)), 0.0], [((1224, 652), (1246, 683)), 0.0], [((1071, 445), (1093, 476)), 0.0], [((909, 427), (956, 463)), 0.0], [((837, 616), (868, 638)), 0.0], [((266, 661), (292, 672)), 1.0], [((63, 625), (103, 665)), 0.0], [((396, 454), (427, 485)), 1], [((576, 400), (598, 431)), 1]]\n",
      "[[((27, 481), (58, 530)), 37.0], [((817, 400), (918, 482)), 555.0], [((1216, 400), (1260, 463)), 1446.0], [((468, 634), (499, 656)), 0.0], [((243, 472), (274, 494)), 1.0], [((1017, 616), (1048, 647)), 1.0], [((1170, 652), (1192, 683)), 0.0], [((639, 517), (670, 557)), 15.0], [((810, 616), (832, 629)), 0.0], [((1233, 652), (1237, 665)), 0.0], [((288, 427), (337, 458)), 0.0], [((504, 562), (535, 584)), 1.0], [((756, 517), (804, 558)), 0.0], [((963, 508), (985, 539)), 1.0], [((27, 553), (31, 584)), 0.0], [((135, 499), (139, 530)), 0.0], [((477, 409), (499, 440)), 1.0], [((603, 625), (634, 656)), 1.0], [((1215, 427), (1260, 458)), 0.0], [((333, 418), (364, 440)), 0.0], [((189, 490), (220, 494)), 1.0], [((756, 571), (787, 602)), 0.0], [((1224, 652), (1246, 683)), 0.0], [((1071, 445), (1093, 476)), 0.0], [((909, 427), (956, 463)), 0.0], [((837, 616), (868, 638)), 0.0], [((266, 661), (292, 672)), 1.0], [((63, 625), (103, 665)), 0.0], [((396, 454), (427, 485)), 1], [((576, 400), (598, 431)), 1]]\n",
      "[[((27, 481), (58, 530)), 38.0], [((817, 400), (913, 482)), 556.0], [((1215, 400), (1273, 463)), 1447.0], [((468, 634), (499, 656)), 0.0], [((243, 472), (274, 494)), 3.0], [((1017, 616), (1048, 647)), 1.0], [((1170, 652), (1192, 683)), 0.0], [((639, 517), (670, 557)), 13.0], [((810, 616), (832, 629)), 0.0], [((1233, 652), (1237, 665)), 0.0], [((288, 427), (337, 458)), 0.0], [((504, 562), (535, 584)), 1.0], [((756, 517), (804, 558)), 0.0], [((963, 508), (985, 539)), 1.0], [((27, 553), (31, 584)), 0.0], [((135, 499), (139, 530)), 0.0], [((477, 409), (499, 440)), 2.0], [((603, 625), (634, 656)), 1.0], [((1215, 427), (1260, 458)), 0.0], [((333, 418), (364, 440)), 0.0], [((189, 490), (220, 494)), 1.0], [((756, 571), (787, 602)), 0.0], [((1224, 652), (1246, 683)), 0.0], [((1071, 445), (1093, 476)), 0.0], [((909, 427), (956, 463)), 0.0], [((837, 616), (868, 638)), 0.0], [((266, 661), (292, 672)), 1.0], [((63, 625), (103, 665)), 0.0], [((396, 454), (427, 485)), 1], [((576, 400), (598, 431)), 1]]\n",
      "[[((36, 544), (40, 557)), 36.0], [((817, 400), (918, 482)), 557.0], [((1170, 400), (1260, 467)), 1448.0], [((468, 634), (499, 656)), 0.0], [((171, 472), (202, 512)), 1.0], [((1017, 616), (1048, 647)), 1.0], [((1170, 652), (1192, 683)), 0.0], [((639, 517), (670, 557)), 11.0], [((810, 616), (832, 629)), 0.0], [((1233, 652), (1237, 665)), 0.0], [((288, 427), (337, 458)), 0.0], [((504, 562), (535, 584)), 1.0], [((756, 517), (804, 558)), 0.0], [((963, 508), (985, 539)), 1.0], [((27, 553), (31, 584)), 0.0], [((135, 499), (139, 530)), 0.0], [((531, 400), (553, 431)), 0.0], [((603, 625), (634, 656)), 1.0], [((1215, 427), (1260, 458)), 0.0], [((333, 418), (364, 440)), 0.0], [((189, 490), (220, 494)), 1.0], [((756, 571), (787, 602)), 0.0], [((1224, 652), (1246, 683)), 0.0], [((1071, 445), (1093, 476)), 0.0], [((909, 427), (956, 463)), 0.0], [((837, 616), (868, 638)), 0.0], [((266, 661), (292, 672)), 1.0], [((63, 625), (103, 665)), 0.0], [((396, 454), (427, 485)), 1], [((576, 400), (598, 431)), 1]]\n",
      "[[((36, 544), (40, 557)), 34.0], [((817, 400), (904, 482)), 558.0], [((1179, 400), (1260, 467)), 1450.0], [((468, 634), (499, 656)), 0.0], [((171, 472), (202, 512)), 1.0], [((1017, 616), (1048, 647)), 1.0], [((1170, 652), (1192, 683)), 0.0], [((639, 517), (670, 557)), 9.0], [((810, 616), (832, 629)), 0.0], [((1233, 652), (1237, 665)), 0.0], [((288, 427), (337, 458)), 0.0], [((504, 562), (535, 584)), 1.0], [((756, 517), (804, 558)), 0.0], [((963, 508), (985, 539)), 1.0], [((27, 553), (31, 584)), 0.0], [((135, 499), (139, 530)), 0.0], [((531, 400), (553, 431)), 0.0], [((603, 625), (634, 656)), 1.0], [((1215, 427), (1260, 458)), 0.0], [((333, 418), (364, 440)), 0.0], [((189, 490), (220, 494)), 1.0], [((756, 571), (787, 602)), 0.0], [((1224, 652), (1246, 683)), 0.0], [((1071, 445), (1093, 476)), 0.0], [((909, 427), (956, 463)), 0.0], [((837, 616), (868, 638)), 0.0], [((266, 661), (292, 672)), 1.0], [((63, 625), (103, 665)), 0.0], [((396, 454), (427, 485)), 1], [((576, 400), (598, 431)), 1]]\n",
      "[[((36, 544), (40, 557)), 32.0], [((817, 400), (904, 485)), 559.0], [((1179, 400), (1260, 467)), 1452.0], [((468, 634), (499, 656)), 0.0], [((171, 472), (202, 512)), 1.0], [((1017, 616), (1048, 647)), 1.0], [((1170, 652), (1192, 683)), 0.0], [((639, 517), (670, 557)), 7.0], [((810, 616), (832, 629)), 0.0], [((1233, 652), (1237, 665)), 0.0], [((288, 427), (337, 458)), 0.0], [((504, 562), (535, 584)), 1.0], [((756, 517), (804, 558)), 0.0], [((963, 508), (985, 539)), 1.0], [((27, 553), (31, 584)), 0.0], [((135, 499), (139, 530)), 0.0], [((531, 400), (553, 431)), 0.0], [((603, 625), (634, 656)), 1.0], [((1215, 427), (1260, 458)), 0.0], [((333, 418), (364, 440)), 0.0], [((189, 490), (220, 494)), 1.0], [((756, 571), (787, 602)), 0.0], [((1224, 652), (1246, 683)), 0.0], [((1071, 445), (1093, 476)), 0.0], [((909, 427), (956, 463)), 0.0], [((837, 616), (868, 638)), 0.0], [((266, 661), (292, 672)), 1.0], [((63, 625), (103, 665)), 0.0], [((396, 454), (427, 485)), 1], [((576, 400), (598, 431)), 1]]\n",
      "[[((36, 544), (40, 557)), 30.0], [((817, 400), (904, 482)), 560.0], [((1170, 400), (1264, 476)), 1453.0], [((468, 634), (499, 656)), 0.0], [((171, 472), (202, 512)), 1.0], [((1017, 616), (1048, 647)), 1.0], [((1170, 652), (1192, 683)), 0.0], [((639, 517), (670, 557)), 9.0], [((810, 616), (832, 629)), 0.0], [((1233, 652), (1237, 665)), 0.0], [((288, 427), (337, 458)), 0.0], [((504, 562), (535, 584)), 1.0], [((756, 517), (804, 558)), 0.0], [((963, 508), (985, 539)), 1.0], [((27, 553), (31, 584)), 0.0], [((135, 499), (139, 530)), 0.0], [((531, 400), (553, 431)), 0.0], [((603, 625), (634, 656)), 1.0], [((1215, 427), (1260, 458)), 0.0], [((333, 418), (364, 440)), 0.0], [((189, 490), (220, 494)), 1.0], [((756, 571), (787, 602)), 0.0], [((1224, 652), (1246, 683)), 0.0], [((1071, 445), (1093, 476)), 0.0], [((909, 427), (956, 463)), 0.0], [((837, 616), (868, 638)), 0.0], [((266, 661), (292, 672)), 1.0], [((63, 625), (103, 665)), 0.0], [((396, 454), (427, 485)), 1], [((576, 400), (598, 431)), 1]]\n",
      "[[((36, 544), (40, 557)), 28.0], [((817, 400), (904, 485)), 561.0], [((1159, 400), (1260, 501)), 1455.0], [((468, 634), (499, 656)), 0.0], [((171, 472), (202, 512)), 1.0], [((1017, 616), (1048, 647)), 1.0], [((1170, 652), (1192, 683)), 0.0], [((648, 481), (679, 503)), 7.0], [((810, 616), (832, 629)), 0.0], [((1233, 652), (1237, 665)), 0.0], [((288, 427), (337, 458)), 1.0], [((504, 562), (535, 584)), 1.0], [((756, 517), (804, 558)), 0.0], [((963, 508), (985, 539)), 1.0], [((27, 553), (31, 584)), 0.0], [((135, 499), (139, 530)), 0.0], [((531, 400), (553, 431)), 0.0], [((603, 625), (634, 656)), 1.0], [((1215, 427), (1260, 458)), 0.0], [((333, 418), (364, 440)), 0.0], [((189, 490), (220, 494)), 1.0], [((756, 571), (787, 602)), 0.0], [((1224, 652), (1246, 683)), 0.0], [((1071, 445), (1093, 476)), 0.0], [((909, 427), (956, 463)), 0.0], [((837, 616), (868, 638)), 0.0], [((266, 661), (292, 672)), 1.0], [((63, 625), (103, 665)), 0.0], [((396, 454), (427, 485)), 1], [((576, 400), (598, 431)), 1]]\n",
      "[[((36, 544), (40, 557)), 26.0], [((817, 400), (918, 485)), 562.0], [((1170, 400), (1260, 512)), 1457.0], [((468, 634), (499, 656)), 0.0], [((171, 472), (202, 512)), 1.0], [((1017, 616), (1048, 647)), 1.0], [((1170, 652), (1192, 683)), 0.0], [((648, 481), (679, 503)), 8.0], [((810, 616), (832, 629)), 0.0], [((1233, 652), (1237, 665)), 0.0], [((288, 427), (310, 449)), 1.0], [((504, 562), (535, 584)), 1.0], [((756, 517), (804, 558)), 0.0], [((963, 508), (985, 539)), 1.0], [((27, 553), (31, 584)), 0.0], [((135, 499), (139, 530)), 0.0], [((531, 400), (553, 431)), 1.0], [((603, 625), (634, 656)), 1.0], [((1215, 427), (1260, 458)), 0.0], [((333, 418), (364, 440)), 0.0], [((189, 490), (220, 494)), 1.0], [((756, 571), (787, 602)), 0.0], [((1224, 652), (1246, 683)), 0.0], [((1071, 445), (1093, 476)), 0.0], [((909, 427), (956, 463)), 0.0], [((837, 616), (868, 638)), 0.0], [((266, 661), (292, 672)), 1.0], [((63, 625), (103, 665)), 0.0], [((396, 454), (427, 485)), 1], [((576, 400), (598, 431)), 1]]\n",
      "[[((36, 544), (40, 557)), 24.0], [((817, 400), (913, 485)), 563.0], [((1170, 400), (1264, 501)), 1460.0], [((468, 634), (499, 656)), 0.0], [((171, 472), (202, 512)), 1.0], [((1017, 616), (1048, 647)), 1.0], [((1170, 652), (1192, 683)), 0.0], [((747, 517), (760, 539)), 6.0], [((810, 616), (832, 629)), 0.0], [((1233, 652), (1237, 665)), 0.0], [((288, 427), (310, 449)), 1.0], [((504, 562), (535, 584)), 1.0], [((756, 517), (804, 558)), 0.0], [((963, 508), (985, 539)), 1.0], [((27, 553), (31, 584)), 0.0], [((135, 499), (139, 530)), 0.0], [((513, 400), (544, 431)), 1.0], [((603, 625), (634, 656)), 1.0], [((1215, 427), (1260, 458)), 0.0], [((333, 418), (364, 440)), 0.0], [((189, 490), (220, 494)), 1.0], [((756, 571), (787, 602)), 0.0], [((1224, 652), (1246, 683)), 0.0], [((1071, 445), (1093, 476)), 0.0], [((909, 427), (956, 463)), 0.0], [((837, 616), (868, 638)), 0.0], [((266, 661), (292, 672)), 1.0], [((63, 625), (103, 665)), 0.0], [((396, 454), (427, 485)), 1], [((576, 400), (598, 431)), 1]]\n",
      "[[((36, 544), (40, 557)), 25.0], [((817, 400), (904, 482)), 564.0], [((1170, 400), (1264, 501)), 1462.0], [((468, 634), (499, 656)), 0.0], [((171, 472), (202, 512)), 2.0], [((1017, 616), (1048, 647)), 1.0], [((1170, 652), (1192, 683)), 0.0], [((747, 517), (760, 539)), 7.0], [((810, 616), (832, 629)), 0.0], [((1233, 652), (1237, 665)), 0.0], [((288, 427), (310, 449)), 1.0], [((504, 562), (535, 584)), 1.0], [((756, 517), (804, 558)), 0.0], [((963, 508), (985, 539)), 1.0], [((27, 553), (31, 584)), 0.0], [((135, 499), (139, 530)), 0.0], [((513, 400), (544, 431)), 1.0], [((603, 625), (634, 656)), 1.0], [((1215, 427), (1260, 458)), 0.0], [((333, 418), (364, 440)), 0.0], [((189, 490), (220, 494)), 1.0], [((756, 571), (787, 602)), 0.0], [((1224, 652), (1246, 683)), 0.0], [((1071, 445), (1093, 476)), 0.0], [((909, 427), (956, 463)), 0.0], [((837, 616), (868, 638)), 0.0], [((266, 661), (292, 672)), 1.0], [((63, 625), (103, 665)), 0.0], [((396, 454), (427, 485)), 1], [((576, 400), (598, 431)), 1]]\n",
      "[[((9, 517), (40, 539)), 23.0], [((817, 400), (904, 482)), 565.0], [((1179, 400), (1260, 520)), 1464.0], [((468, 634), (499, 656)), 0.0], [((243, 436), (253, 467)), 5.0], [((1017, 616), (1048, 647)), 1.0], [((1170, 652), (1192, 683)), 0.0], [((648, 517), (679, 539)), 5.0], [((810, 616), (832, 629)), 0.0], [((1233, 652), (1237, 665)), 0.0], [((288, 427), (310, 449)), 2.0], [((504, 562), (535, 584)), 1.0], [((756, 517), (804, 558)), 0.0], [((963, 508), (985, 539)), 1.0], [((27, 553), (31, 584)), 0.0], [((135, 499), (139, 530)), 0.0], [((513, 400), (544, 431)), 1.0], [((603, 625), (634, 656)), 1.0], [((1215, 427), (1260, 458)), 0.0], [((333, 418), (364, 440)), 0.0], [((189, 490), (220, 494)), 1.0], [((756, 571), (787, 602)), 0.0], [((1224, 652), (1246, 683)), 0.0], [((1071, 445), (1093, 476)), 0.0], [((909, 427), (956, 463)), 0.0], [((837, 616), (868, 638)), 0.0], [((266, 661), (292, 672)), 1.0], [((63, 625), (103, 665)), 0.0], [((396, 454), (427, 485)), 1], [((576, 400), (598, 431)), 1]]\n",
      "[[((9, 517), (40, 539)), 21.0], [((817, 400), (904, 485)), 566.0], [((1170, 400), (1260, 520)), 1465.0], [((468, 634), (499, 656)), 0.0], [((279, 427), (283, 449)), 7.0], [((1017, 616), (1048, 647)), 1.0], [((1170, 652), (1192, 683)), 0.0], [((648, 517), (679, 539)), 3.0], [((810, 616), (832, 629)), 0.0], [((1233, 652), (1237, 665)), 0.0], [((414, 409), (445, 440)), 3.0], [((504, 562), (535, 584)), 1.0], [((756, 517), (804, 558)), 0.0], [((963, 508), (985, 539)), 1.0], [((27, 553), (31, 584)), 0.0], [((135, 499), (139, 530)), 0.0], [((513, 400), (544, 431)), 1.0], [((603, 625), (634, 656)), 1.0], [((1215, 427), (1260, 458)), 0.0], [((333, 418), (364, 440)), 0.0], [((189, 490), (220, 494)), 1.0], [((756, 571), (787, 602)), 0.0], [((1224, 652), (1246, 683)), 0.0], [((1071, 445), (1093, 476)), 0.0], [((909, 427), (956, 463)), 0.0], [((837, 616), (868, 638)), 0.0], [((266, 661), (292, 672)), 1.0], [((63, 625), (103, 665)), 0.0], [((396, 454), (427, 485)), 1], [((576, 400), (598, 431)), 1]]\n",
      "[[((9, 517), (40, 539)), 23.0], [((810, 400), (904, 482)), 567.0], [((1159, 400), (1260, 512)), 1467.0], [((468, 634), (499, 656)), 0.0], [((152, 419), (196, 482)), 5.0], [((1017, 616), (1048, 647)), 1.0], [((1170, 652), (1192, 683)), 0.0], [((648, 517), (679, 539)), 6.0], [((810, 616), (832, 629)), 2.0], [((1233, 652), (1237, 665)), 0.0], [((405, 409), (436, 440)), 4.0], [((504, 562), (535, 584)), 1.0], [((756, 517), (804, 558)), 0.0], [((963, 508), (985, 539)), 1.0], [((27, 553), (31, 584)), 0.0], [((135, 499), (139, 530)), 0.0], [((513, 400), (544, 431)), 1.0], [((603, 625), (634, 656)), 1.0], [((1215, 427), (1260, 458)), 0.0], [((333, 418), (364, 440)), 0.0], [((189, 490), (220, 494)), 1.0], [((756, 571), (787, 602)), 0.0], [((1224, 652), (1246, 683)), 0.0], [((1071, 445), (1093, 476)), 0.0], [((909, 427), (956, 463)), 0.0], [((837, 616), (868, 638)), 0.0], [((266, 661), (292, 672)), 1.0], [((63, 625), (103, 665)), 0.0], [((396, 454), (427, 485)), 1], [((576, 400), (598, 431)), 1]]\n",
      "[[((27, 526), (58, 557)), 21.0], [((810, 400), (904, 482)), 568.0], [((1179, 409), (1260, 521)), 1470.0], [((468, 634), (499, 656)), 0.0], [((152, 419), (196, 482)), 3.0], [((1017, 616), (1048, 647)), 1.0], [((1170, 652), (1192, 683)), 0.0], [((675, 544), (706, 575)), 10.0], [((729, 616), (760, 647)), 0.0], [((1233, 652), (1237, 665)), 0.0], [((396, 409), (418, 440)), 5.0], [((504, 562), (535, 584)), 1.0], [((756, 517), (804, 558)), 0.0], [((963, 508), (985, 539)), 1.0], [((27, 553), (31, 584)), 0.0], [((135, 499), (139, 530)), 0.0], [((513, 400), (544, 431)), 1.0], [((603, 625), (634, 656)), 1.0], [((1215, 427), (1260, 458)), 0.0], [((333, 418), (364, 440)), 0.0], [((189, 490), (220, 494)), 1.0], [((756, 571), (787, 602)), 0.0], [((1224, 652), (1246, 683)), 0.0], [((1071, 445), (1093, 476)), 0.0], [((909, 427), (956, 463)), 0.0], [((837, 616), (868, 638)), 0.0], [((266, 661), (292, 672)), 1.0], [((63, 625), (103, 665)), 0.0], [((396, 454), (427, 485)), 1], [((576, 400), (598, 431)), 1]]\n",
      "[[((27, 526), (58, 557)), 22.0], [((798, 400), (899, 482)), 569.0], [((1179, 400), (1260, 467)), 1472.0], [((468, 634), (499, 656)), 0.0], [((152, 419), (196, 482)), 4.0], [((1017, 616), (1048, 647)), 1.0], [((1170, 652), (1192, 683)), 0.0], [((603, 616), (661, 656)), 8.0], [((729, 616), (760, 647)), 1.0], [((1233, 652), (1237, 665)), 0.0], [((324, 436), (346, 467)), 6.0], [((504, 562), (535, 584)), 1.0], [((756, 517), (804, 558)), 0.0], [((963, 508), (985, 539)), 1.0], [((27, 553), (31, 584)), 0.0], [((135, 499), (139, 530)), 0.0], [((513, 400), (544, 431)), 1.0], [((603, 625), (634, 656)), 1.0], [((1215, 427), (1260, 458)), 0.0], [((333, 418), (364, 440)), 0.0], [((189, 490), (220, 494)), 1.0], [((756, 571), (787, 602)), 0.0], [((1224, 652), (1246, 683)), 0.0], [((1071, 445), (1093, 476)), 0.0], [((909, 427), (956, 463)), 0.0], [((837, 616), (868, 638)), 0.0], [((266, 661), (292, 672)), 1.0], [((63, 625), (103, 665)), 0.0], [((396, 454), (427, 485)), 1], [((576, 400), (598, 431)), 1]]\n"
     ]
    },
    {
     "name": "stderr",
     "output_type": "stream",
     "text": [
      "\u001b[A\u001b[A\u001b[A\n",
      "\n",
      "\n",
      " 88%|████████▊ | 999/1136 [04:04<00:13,  9.87it/s]\u001b[A\u001b[A\u001b[A\n",
      "\n",
      "\n",
      " 89%|████████▊ | 1007/1136 [04:05<00:09, 13.23it/s]"
     ]
    },
    {
     "name": "stdout",
     "output_type": "stream",
     "text": [
      "[[((54, 427), (94, 458)), 20.0], [((817, 400), (904, 482)), 570.0], [((1178, 400), (1260, 520)), 1474.0], [((468, 634), (499, 656)), 0.0], [((171, 481), (193, 503)), 2.0], [((1017, 616), (1048, 647)), 1.0], [((1170, 652), (1192, 683)), 0.0], [((603, 616), (661, 656)), 10.0], [((792, 598), (823, 620)), 2.0], [((1233, 652), (1237, 665)), 0.0], [((360, 409), (400, 440)), 4.0], [((504, 562), (535, 584)), 1.0], [((756, 517), (804, 558)), 0.0], [((963, 508), (985, 539)), 1.0], [((27, 553), (31, 584)), 0.0], [((135, 499), (139, 530)), 0.0], [((513, 400), (544, 431)), 1.0], [((603, 625), (634, 656)), 1.0], [((1215, 427), (1260, 458)), 0.0], [((333, 418), (364, 440)), 0.0], [((189, 490), (220, 494)), 1.0], [((756, 571), (787, 602)), 0.0], [((1224, 652), (1246, 683)), 0.0], [((1071, 445), (1093, 476)), 0.0], [((909, 427), (956, 463)), 0.0], [((837, 616), (868, 638)), 0.0], [((266, 661), (292, 672)), 1.0], [((63, 625), (103, 665)), 0.0], [((396, 454), (427, 485)), 1], [((576, 400), (598, 431)), 1]]\n",
      "[[((54, 427), (94, 458)), 23.0], [((810, 400), (904, 485)), 571.0], [((1179, 400), (1260, 467)), 1475.0], [((468, 634), (499, 656)), 0.0], [((171, 481), (193, 503)), 0.0], [((1017, 616), (1048, 647)), 1.0], [((1170, 652), (1192, 683)), 0.0], [((756, 616), (787, 656)), 8.0], [((792, 616), (814, 638)), 0.0], [((1233, 652), (1237, 665)), 0.0], [((360, 409), (400, 440)), 2.0], [((504, 562), (535, 584)), 1.0], [((756, 517), (804, 558)), 0.0], [((963, 508), (985, 539)), 1.0], [((27, 553), (31, 584)), 0.0], [((135, 499), (139, 530)), 0.0], [((513, 400), (544, 431)), 1.0], [((603, 625), (634, 656)), 1.0], [((1215, 427), (1260, 458)), 0.0], [((333, 418), (364, 440)), 0.0], [((189, 490), (220, 494)), 1.0], [((756, 571), (787, 602)), 0.0], [((1224, 652), (1246, 683)), 0.0], [((1071, 445), (1093, 476)), 0.0], [((909, 427), (956, 463)), 0.0], [((837, 616), (868, 638)), 0.0], [((266, 661), (292, 672)), 1.0], [((63, 625), (103, 665)), 0.0], [((396, 454), (427, 485)), 1], [((576, 400), (598, 431)), 1]]\n",
      "[[((63, 419), (120, 482)), 25.0], [((810, 400), (904, 482)), 572.0], [((1179, 400), (1260, 467)), 1478.0], [((468, 634), (499, 656)), 1.0], [((171, 481), (193, 503)), 0.0], [((1017, 616), (1048, 647)), 1.0], [((1170, 652), (1192, 683)), 0.0], [((756, 616), (787, 656)), 10.0], [((792, 616), (814, 638)), 0.0], [((1233, 652), (1237, 665)), 0.0], [((360, 409), (400, 440)), 0.0], [((504, 562), (535, 584)), 1.0], [((756, 517), (804, 558)), 0.0], [((963, 508), (985, 539)), 1.0], [((27, 553), (31, 584)), 0.0], [((135, 499), (139, 530)), 0.0], [((513, 400), (544, 431)), 1.0], [((603, 625), (634, 656)), 1.0], [((1215, 427), (1260, 458)), 0.0], [((333, 418), (364, 440)), 0.0], [((189, 490), (220, 494)), 1.0], [((756, 571), (787, 602)), 0.0], [((1224, 652), (1246, 683)), 0.0], [((1071, 445), (1093, 476)), 0.0], [((909, 427), (956, 463)), 0.0], [((837, 616), (868, 638)), 0.0], [((266, 661), (292, 672)), 1.0], [((63, 625), (103, 665)), 0.0], [((396, 454), (427, 485)), 1], [((576, 400), (598, 431)), 1]]\n",
      "[[((38, 419), (148, 485)), 26.0], [((810, 400), (904, 482)), 573.0], [((1215, 409), (1264, 458)), 1479.0], [((603, 607), (634, 665)), 4.0], [((171, 481), (193, 503)), 0.0], [((1017, 616), (1048, 647)), 1.0], [((1170, 652), (1192, 683)), 0.0], [((729, 490), (787, 539)), 11.0], [((792, 616), (814, 638)), 0.0], [((1233, 652), (1237, 665)), 0.0], [((360, 409), (400, 440)), 1.0], [((504, 562), (535, 584)), 2.0], [((756, 517), (804, 558)), 0.0], [((963, 508), (985, 539)), 1.0], [((27, 553), (31, 584)), 0.0], [((135, 499), (139, 530)), 0.0], [((513, 400), (544, 431)), 1.0], [((603, 625), (634, 656)), 1.0], [((1215, 427), (1260, 458)), 0.0], [((333, 418), (364, 440)), 0.0], [((189, 490), (220, 494)), 1.0], [((756, 571), (787, 602)), 0.0], [((1224, 652), (1246, 683)), 0.0], [((1071, 445), (1093, 476)), 0.0], [((909, 427), (956, 463)), 0.0], [((837, 616), (868, 638)), 0.0], [((266, 661), (292, 672)), 1.0], [((63, 625), (103, 665)), 0.0], [((396, 454), (427, 485)), 1], [((576, 400), (598, 431)), 1]]\n",
      "[[((54, 427), (76, 458)), 24.0], [((798, 400), (904, 482)), 574.0], [((1188, 409), (1264, 467)), 1480.0], [((594, 616), (625, 647)), 5.0], [((171, 481), (193, 503)), 0.0], [((1017, 616), (1048, 647)), 1.0], [((1170, 652), (1192, 683)), 0.0], [((774, 499), (778, 530)), 14.0], [((792, 616), (814, 638)), 1.0], [((1233, 652), (1237, 665)), 0.0], [((288, 427), (310, 458)), 1.0], [((432, 625), (463, 638)), 0.0], [((756, 517), (804, 558)), 0.0], [((963, 508), (985, 539)), 1.0], [((27, 553), (31, 584)), 0.0], [((135, 499), (139, 530)), 0.0], [((513, 400), (544, 431)), 1.0], [((603, 625), (634, 656)), 1.0], [((1215, 427), (1260, 458)), 0.0], [((333, 418), (364, 440)), 0.0], [((189, 490), (220, 494)), 1.0], [((756, 571), (787, 602)), 0.0], [((1224, 652), (1246, 683)), 0.0], [((1071, 445), (1093, 476)), 0.0], [((909, 427), (956, 463)), 0.0], [((837, 616), (868, 638)), 0.0], [((266, 661), (292, 672)), 1.0], [((63, 625), (103, 665)), 0.0], [((396, 454), (427, 485)), 1], [((576, 400), (598, 431)), 1]]\n",
      "[[((54, 427), (76, 458)), 25.0], [((798, 400), (904, 485)), 575.0], [((1179, 400), (1260, 463)), 1482.0], [((612, 607), (679, 647)), 8.0], [((171, 481), (193, 503)), 2.0], [((1017, 616), (1048, 647)), 1.0], [((1170, 652), (1192, 683)), 0.0], [((711, 481), (742, 503)), 16.0], [((810, 616), (841, 647)), 1.0], [((1233, 652), (1237, 665)), 0.0], [((288, 427), (310, 458)), 1.0], [((432, 625), (463, 638)), 0.0], [((756, 517), (804, 558)), 0.0], [((963, 508), (985, 539)), 1.0], [((27, 553), (31, 584)), 0.0], [((135, 499), (139, 530)), 0.0], [((513, 400), (544, 431)), 1.0], [((603, 625), (634, 656)), 1.0], [((1215, 427), (1260, 458)), 0.0], [((333, 418), (364, 440)), 0.0], [((189, 490), (220, 494)), 1.0], [((756, 571), (787, 602)), 0.0], [((1224, 652), (1246, 683)), 0.0], [((1071, 445), (1093, 476)), 0.0], [((909, 427), (956, 463)), 0.0], [((837, 616), (868, 638)), 0.0], [((266, 661), (292, 672)), 1.0], [((63, 625), (103, 665)), 0.0], [((396, 454), (427, 485)), 1], [((576, 400), (598, 431)), 1]]\n",
      "[[((54, 427), (76, 458)), 23.0], [((798, 400), (904, 482)), 576.0], [((1188, 400), (1260, 467)), 1486.0], [((702, 598), (778, 647)), 9.0], [((180, 481), (220, 521)), 3.0], [((1017, 616), (1048, 647)), 1.0], [((1170, 652), (1192, 683)), 0.0], [((729, 481), (742, 503)), 14.0], [((810, 616), (841, 647)), 1.0], [((1233, 652), (1237, 665)), 0.0], [((288, 427), (310, 458)), 1.0], [((432, 625), (463, 638)), 0.0], [((756, 517), (804, 558)), 0.0], [((963, 508), (985, 539)), 1.0], [((27, 553), (31, 584)), 0.0], [((135, 499), (139, 530)), 0.0], [((513, 400), (544, 431)), 1.0], [((603, 625), (634, 656)), 1.0], [((1215, 427), (1260, 458)), 0.0], [((333, 418), (364, 440)), 0.0], [((189, 490), (220, 494)), 1.0], [((756, 571), (787, 602)), 0.0], [((1224, 652), (1246, 683)), 0.0], [((1071, 445), (1093, 476)), 0.0], [((909, 427), (956, 463)), 0.0], [((837, 616), (868, 638)), 0.0], [((266, 661), (292, 672)), 1.0], [((63, 625), (103, 665)), 0.0], [((396, 454), (427, 485)), 1], [((576, 400), (598, 431)), 1]]\n",
      "[[((54, 427), (76, 458)), 25.0], [((810, 400), (904, 482)), 577.0], [((1188, 400), (1260, 467)), 1488.0], [((693, 544), (724, 584)), 14.0], [((252, 427), (274, 458)), 4.0], [((1017, 616), (1048, 647)), 1.0], [((1170, 652), (1192, 683)), 0.0], [((729, 481), (742, 503)), 12.0], [((810, 616), (841, 647)), 2.0], [((1233, 652), (1237, 665)), 0.0], [((288, 427), (310, 458)), 1.0], [((432, 625), (463, 638)), 0.0], [((756, 517), (804, 558)), 0.0], [((963, 508), (985, 539)), 1.0], [((27, 553), (31, 584)), 0.0], [((135, 499), (139, 530)), 0.0], [((513, 400), (544, 431)), 1.0], [((603, 625), (634, 656)), 1.0], [((1215, 427), (1260, 458)), 0.0], [((333, 418), (364, 440)), 0.0], [((189, 490), (220, 494)), 1.0], [((756, 571), (787, 602)), 0.0], [((1224, 652), (1246, 683)), 0.0], [((1071, 445), (1093, 476)), 0.0], [((909, 427), (956, 463)), 0.0], [((837, 616), (868, 638)), 0.0], [((266, 661), (292, 672)), 1.0], [((63, 625), (103, 665)), 0.0], [((396, 454), (427, 485)), 1], [((576, 400), (598, 431)), 1]]\n",
      "[[((81, 490), (112, 521)), 26.0], [((810, 400), (904, 482)), 578.0], [((1197, 409), (1264, 463)), 1492.0], [((729, 535), (778, 584)), 15.0], [((216, 427), (247, 449)), 2.0], [((1017, 616), (1048, 647)), 1.0], [((1170, 652), (1192, 683)), 0.0], [((729, 481), (742, 503)), 10.0], [((810, 607), (814, 629)), 0.0], [((1233, 652), (1237, 665)), 0.0], [((288, 427), (310, 458)), 1.0], [((432, 625), (463, 638)), 0.0], [((756, 517), (804, 558)), 0.0], [((963, 508), (985, 539)), 1.0], [((27, 553), (31, 584)), 0.0], [((135, 499), (139, 530)), 0.0], [((513, 400), (544, 431)), 1.0], [((603, 625), (634, 656)), 1.0], [((1215, 427), (1260, 458)), 0.0], [((333, 418), (364, 440)), 0.0], [((189, 490), (220, 494)), 1.0], [((756, 571), (787, 602)), 0.0], [((1224, 652), (1246, 683)), 0.0], [((1071, 445), (1093, 476)), 0.0], [((909, 427), (956, 463)), 0.0], [((837, 616), (868, 638)), 0.0], [((266, 661), (292, 672)), 1.0], [((63, 625), (103, 665)), 0.0], [((396, 454), (427, 485)), 1], [((576, 400), (598, 431)), 1]]\n",
      "[[((133, 419), (211, 482)), 27.0], [((810, 400), (904, 485)), 579.0], [((1143, 454), (1210, 512)), 1495.0], [((648, 598), (688, 647)), 17.0], [((216, 427), (247, 449)), 0.0], [((1017, 616), (1048, 647)), 1.0], [((1170, 652), (1192, 683)), 0.0], [((729, 481), (742, 503)), 11.0], [((810, 607), (814, 629)), 0.0], [((1233, 652), (1237, 665)), 0.0], [((288, 427), (310, 458)), 1.0], [((432, 625), (463, 638)), 0.0], [((756, 517), (804, 558)), 0.0], [((963, 508), (985, 539)), 1.0], [((27, 553), (31, 584)), 0.0], [((135, 499), (139, 530)), 0.0], [((513, 400), (544, 431)), 1.0], [((603, 625), (634, 656)), 1.0], [((1215, 427), (1260, 458)), 0.0], [((333, 418), (364, 440)), 0.0], [((189, 490), (220, 494)), 1.0], [((756, 571), (787, 602)), 0.0], [((1224, 652), (1246, 683)), 0.0], [((1071, 445), (1093, 476)), 0.0], [((909, 427), (956, 463)), 0.0], [((837, 616), (868, 638)), 0.0], [((266, 661), (292, 672)), 1.0], [((63, 625), (103, 665)), 0.0], [((396, 454), (427, 485)), 1], [((576, 400), (598, 431)), 1]]\n",
      "[[((95, 419), (175, 482)), 29.0], [((798, 400), (899, 482)), 580.0], [((1179, 400), (1264, 467)), 1497.0], [((729, 598), (769, 638)), 21.0], [((216, 427), (247, 449)), 1.0], [((1017, 616), (1048, 647)), 1.0], [((1170, 652), (1192, 683)), 0.0], [((738, 499), (760, 512)), 9.0], [((810, 607), (814, 629)), 0.0], [((1233, 652), (1237, 665)), 0.0], [((288, 427), (310, 458)), 1.0], [((432, 625), (463, 638)), 0.0], [((756, 517), (804, 558)), 0.0], [((963, 508), (985, 539)), 1.0], [((27, 553), (31, 584)), 0.0], [((135, 499), (139, 530)), 0.0], [((513, 400), (544, 431)), 1.0], [((603, 625), (634, 656)), 1.0], [((1215, 427), (1260, 458)), 0.0], [((333, 418), (364, 440)), 0.0], [((189, 490), (220, 494)), 1.0], [((756, 571), (787, 602)), 0.0], [((1224, 652), (1246, 683)), 0.0], [((1071, 445), (1093, 476)), 0.0], [((909, 427), (956, 463)), 0.0], [((837, 616), (868, 638)), 0.0], [((266, 661), (292, 672)), 1.0], [((63, 625), (103, 665)), 0.0], [((396, 454), (427, 485)), 1], [((576, 400), (598, 431)), 1]]\n",
      "[[((57, 419), (139, 482)), 30.0], [((810, 400), (899, 482)), 581.0], [((1216, 409), (1279, 463)), 1499.0], [((738, 598), (769, 629)), 23.0], [((297, 463), (310, 494)), 1.0], [((1017, 616), (1048, 647)), 1.0], [((1170, 652), (1192, 683)), 0.0], [((738, 499), (760, 512)), 7.0], [((810, 607), (814, 629)), 0.0], [((1233, 652), (1237, 665)), 0.0], [((288, 427), (310, 458)), 1.0], [((432, 625), (463, 638)), 0.0], [((756, 517), (804, 558)), 0.0], [((963, 508), (985, 539)), 1.0], [((27, 553), (31, 584)), 0.0], [((135, 499), (139, 530)), 0.0], [((513, 400), (544, 431)), 1.0], [((603, 625), (634, 656)), 1.0], [((1215, 427), (1260, 458)), 0.0], [((333, 418), (364, 440)), 0.0], [((189, 490), (220, 494)), 1.0], [((756, 571), (787, 602)), 0.0], [((1224, 652), (1246, 683)), 0.0], [((1071, 445), (1093, 476)), 0.0], [((909, 427), (956, 463)), 0.0], [((837, 616), (868, 638)), 0.0], [((266, 661), (292, 672)), 1.0], [((63, 625), (103, 665)), 0.0], [((396, 454), (427, 485)), 1], [((576, 400), (598, 431)), 1]]\n",
      "[[((18, 419), (103, 482)), 31.0], [((801, 400), (899, 482)), 582.0], [((1197, 400), (1264, 463)), 1501.0], [((666, 607), (697, 647)), 26.0], [((297, 463), (310, 494)), 1.0], [((1017, 616), (1048, 647)), 1.0], [((1170, 652), (1192, 683)), 0.0], [((738, 499), (760, 512)), 8.0], [((810, 607), (814, 629)), 0.0], [((1233, 652), (1237, 665)), 0.0], [((288, 427), (310, 458)), 1.0], [((432, 625), (463, 638)), 0.0], [((756, 517), (804, 558)), 0.0], [((963, 508), (985, 539)), 1.0], [((27, 553), (31, 584)), 0.0], [((135, 499), (139, 530)), 0.0], [((513, 400), (544, 431)), 1.0], [((603, 625), (634, 656)), 1.0], [((1215, 427), (1260, 458)), 0.0], [((333, 418), (364, 440)), 0.0], [((189, 490), (220, 494)), 1.0], [((756, 571), (787, 602)), 0.0], [((1224, 652), (1246, 683)), 0.0], [((1071, 445), (1093, 476)), 0.0], [((909, 427), (956, 463)), 0.0], [((837, 616), (868, 638)), 0.0], [((266, 661), (292, 672)), 1.0], [((63, 625), (103, 665)), 0.0], [((396, 454), (427, 485)), 1], [((576, 400), (598, 431)), 1]]\n"
     ]
    },
    {
     "name": "stderr",
     "output_type": "stream",
     "text": [
      "\u001b[A\u001b[A\u001b[A\n",
      "\n",
      "\n",
      " 89%|████████▉ | 1013/1136 [04:05<00:07, 16.56it/s]\u001b[A\u001b[A\u001b[A"
     ]
    },
    {
     "name": "stdout",
     "output_type": "stream",
     "text": [
      "[[((9, 427), (31, 458)), 29.0], [((798, 400), (899, 485)), 583.0], [((1216, 409), (1279, 463)), 1503.0], [((702, 589), (760, 638)), 29.0], [((297, 463), (310, 494)), 2.0], [((1017, 616), (1048, 647)), 1.0], [((1170, 652), (1192, 683)), 0.0], [((729, 481), (760, 503)), 6.0], [((810, 607), (814, 629)), 0.0], [((1233, 652), (1237, 665)), 0.0], [((288, 427), (310, 458)), 2.0], [((432, 625), (463, 638)), 0.0], [((756, 517), (804, 558)), 0.0], [((963, 508), (985, 539)), 1.0], [((27, 553), (31, 584)), 0.0], [((135, 499), (139, 530)), 0.0], [((513, 400), (544, 431)), 1.0], [((603, 625), (634, 656)), 1.0], [((1215, 427), (1260, 458)), 0.0], [((333, 418), (364, 440)), 0.0], [((189, 490), (220, 494)), 1.0], [((756, 571), (787, 602)), 0.0], [((1224, 652), (1246, 683)), 0.0], [((1071, 445), (1093, 476)), 0.0], [((909, 427), (956, 463)), 0.0], [((837, 616), (868, 638)), 0.0], [((266, 661), (292, 672)), 1.0], [((63, 625), (103, 665)), 0.0], [((396, 454), (427, 485)), 1], [((576, 400), (598, 431)), 1]]\n",
      "[[((9, 427), (31, 458)), 27.0], [((801, 400), (904, 482)), 584.0], [((1216, 409), (1279, 463)), 1506.0], [((729, 481), (760, 503)), 32.0], [((315, 454), (346, 485)), 3.0], [((1017, 616), (1048, 647)), 1.0], [((1170, 652), (1192, 683)), 0.0], [((729, 481), (760, 503)), 4.0], [((810, 607), (814, 629)), 1.0], [((1233, 652), (1237, 665)), 0.0], [((171, 409), (202, 440)), 4.0], [((432, 625), (463, 638)), 1.0], [((756, 517), (804, 558)), 0.0], [((963, 508), (985, 539)), 1.0], [((27, 553), (31, 584)), 0.0], [((135, 499), (139, 530)), 0.0], [((513, 400), (544, 431)), 1.0], [((603, 625), (634, 656)), 1.0], [((1215, 427), (1260, 458)), 0.0], [((333, 418), (364, 440)), 0.0], [((189, 490), (220, 494)), 1.0], [((756, 571), (787, 602)), 0.0], [((1224, 652), (1246, 683)), 0.0], [((1071, 445), (1093, 476)), 0.0], [((909, 427), (956, 463)), 0.0], [((837, 616), (868, 638)), 0.0], [((266, 661), (292, 672)), 1.0], [((63, 625), (103, 665)), 0.0], [((396, 454), (427, 485)), 1], [((576, 400), (598, 431)), 1]]\n",
      "[[((9, 427), (31, 458)), 25.0], [((801, 400), (899, 485)), 585.0], [((1188, 409), (1246, 476)), 1508.0], [((729, 607), (760, 647)), 34.0], [((297, 463), (328, 476)), 1.0], [((1017, 616), (1048, 647)), 1.0], [((1170, 652), (1192, 683)), 0.0], [((729, 481), (760, 503)), 2.0], [((666, 625), (697, 647)), 1.0], [((1233, 652), (1237, 665)), 0.0], [((171, 418), (193, 440)), 5.0], [((351, 652), (373, 683)), 2.0], [((756, 517), (804, 558)), 0.0], [((963, 508), (985, 539)), 1.0], [((27, 553), (31, 584)), 0.0], [((135, 499), (139, 530)), 0.0], [((513, 400), (544, 431)), 1.0], [((603, 625), (634, 656)), 1.0], [((1215, 427), (1260, 458)), 0.0], [((333, 418), (364, 440)), 0.0], [((189, 490), (220, 494)), 1.0], [((756, 571), (787, 602)), 0.0], [((1224, 652), (1246, 683)), 0.0], [((1071, 445), (1093, 476)), 0.0], [((909, 427), (956, 463)), 0.0], [((837, 616), (868, 638)), 0.0], [((266, 661), (292, 672)), 1.0], [((63, 625), (103, 665)), 0.0], [((396, 454), (427, 485)), 1], [((576, 400), (598, 431)), 1]]\n",
      "[[((9, 427), (31, 458)), 23.0], [((801, 400), (904, 485)), 586.0], [((1178, 419), (1279, 521)), 1509.0], [((729, 607), (760, 647)), 35.0], [((297, 463), (328, 476)), 1.0], [((1017, 616), (1048, 647)), 1.0], [((1170, 652), (1192, 683)), 0.0], [((729, 481), (760, 503)), 0.0], [((666, 625), (697, 647)), 1.0], [((1233, 652), (1237, 665)), 0.0], [((162, 419), (193, 440)), 6.0], [((441, 634), (463, 647)), 3.0], [((756, 517), (804, 558)), 0.0], [((963, 508), (985, 539)), 1.0], [((27, 553), (31, 584)), 0.0], [((135, 499), (139, 530)), 0.0], [((513, 400), (544, 431)), 1.0], [((603, 625), (634, 656)), 1.0], [((1215, 427), (1260, 458)), 0.0], [((333, 418), (364, 440)), 0.0], [((189, 490), (220, 494)), 1.0], [((756, 571), (787, 602)), 0.0], [((1224, 652), (1246, 683)), 0.0], [((1071, 445), (1093, 476)), 0.0], [((909, 427), (956, 463)), 0.0], [((837, 616), (868, 638)), 0.0], [((266, 661), (292, 672)), 1.0], [((63, 625), (103, 665)), 0.0], [((396, 454), (427, 485)), 1], [((576, 400), (598, 431)), 1]]\n",
      "[[((9, 427), (31, 458)), 21.0], [((801, 418), (899, 482)), 587.0], [((1188, 436), (1273, 501)), 1511.0], [((603, 625), (634, 647)), 33.0], [((297, 463), (328, 476)), 1.0], [((1017, 616), (1048, 647)), 1.0], [((1170, 652), (1192, 683)), 0.0], [((729, 481), (760, 503)), 0.0], [((666, 625), (697, 647)), 1.0], [((1233, 652), (1237, 665)), 0.0], [((171, 418), (184, 440)), 7.0], [((441, 634), (472, 656)), 1.0], [((756, 517), (804, 558)), 0.0], [((963, 508), (985, 539)), 1.0], [((27, 553), (31, 584)), 0.0], [((135, 499), (139, 530)), 0.0], [((513, 400), (544, 431)), 1.0], [((603, 625), (634, 656)), 1.0], [((1215, 427), (1260, 458)), 0.0], [((333, 418), (364, 440)), 0.0], [((189, 490), (220, 494)), 1.0], [((756, 571), (787, 602)), 0.0], [((1224, 652), (1246, 683)), 0.0], [((1071, 445), (1093, 476)), 0.0], [((909, 427), (956, 463)), 0.0], [((837, 616), (868, 638)), 0.0], [((266, 661), (292, 672)), 1.0], [((63, 625), (103, 665)), 0.0], [((396, 454), (427, 485)), 1], [((576, 400), (598, 431)), 1]]\n",
      "[[((9, 427), (31, 458)), 22.0], [((836, 418), (895, 482)), 588.0], [((1188, 436), (1273, 501)), 1512.0], [((603, 625), (634, 647)), 31.0], [((297, 463), (328, 476)), 1.0], [((1017, 616), (1048, 647)), 1.0], [((1170, 652), (1192, 683)), 0.0], [((729, 481), (760, 503)), 0.0], [((666, 625), (697, 647)), 1.0], [((1233, 652), (1237, 665)), 0.0], [((153, 409), (184, 431)), 5.0], [((441, 634), (472, 656)), 1.0], [((756, 517), (804, 558)), 0.0], [((963, 508), (985, 539)), 1.0], [((27, 553), (31, 584)), 0.0], [((135, 499), (139, 530)), 0.0], [((513, 400), (544, 431)), 1.0], [((603, 625), (634, 656)), 1.0], [((1215, 427), (1260, 458)), 0.0], [((333, 418), (364, 440)), 0.0], [((189, 490), (220, 494)), 1.0], [((756, 571), (787, 602)), 0.0], [((1224, 652), (1246, 683)), 0.0], [((1071, 445), (1093, 476)), 0.0], [((909, 427), (956, 463)), 0.0], [((837, 616), (868, 638)), 0.0], [((266, 661), (292, 672)), 1.0], [((63, 625), (103, 665)), 0.0], [((396, 454), (427, 485)), 1], [((576, 400), (598, 431)), 1]]\n",
      "[[((144, 409), (157, 440)), 25.0], [((817, 418), (895, 482)), 589.0], [((1188, 427), (1273, 476)), 1514.0], [((603, 625), (634, 647)), 29.0], [((297, 463), (328, 476)), 2.0], [((1017, 616), (1048, 647)), 1.0], [((1170, 652), (1192, 683)), 0.0], [((729, 481), (760, 503)), 0.0], [((666, 625), (697, 647)), 1.0], [((1233, 652), (1237, 665)), 0.0], [((153, 409), (184, 431)), 3.0], [((441, 634), (472, 656)), 1.0], [((756, 517), (804, 558)), 0.0], [((963, 508), (985, 539)), 1.0], [((27, 553), (31, 584)), 0.0], [((135, 499), (139, 530)), 0.0], [((513, 400), (544, 431)), 1.0], [((603, 625), (634, 656)), 1.0], [((1215, 427), (1260, 458)), 0.0], [((333, 418), (364, 440)), 0.0], [((189, 490), (220, 494)), 1.0], [((756, 571), (787, 602)), 0.0], [((1224, 652), (1246, 683)), 0.0], [((1071, 445), (1093, 476)), 1.0], [((909, 427), (956, 463)), 0.0], [((837, 616), (868, 638)), 0.0], [((266, 661), (292, 672)), 1.0], [((63, 625), (103, 665)), 0.0], [((396, 454), (427, 485)), 1], [((576, 400), (598, 431)), 1]]\n"
     ]
    },
    {
     "name": "stderr",
     "output_type": "stream",
     "text": [
      "\n",
      "\n",
      "\n",
      " 90%|████████▉ | 1018/1136 [04:05<00:05, 19.86it/s]\u001b[A\u001b[A\u001b[A\n",
      "\n",
      "\n",
      " 90%|█████████ | 1025/1136 [04:05<00:04, 25.24it/s]\u001b[A\u001b[A\u001b[A"
     ]
    },
    {
     "name": "stdout",
     "output_type": "stream",
     "text": [
      "[[((72, 490), (94, 512)), 23.0], [((817, 418), (895, 482)), 590.0], [((1188, 427), (1273, 476)), 1515.0], [((603, 625), (634, 647)), 30.0], [((306, 427), (337, 431)), 3.0], [((1017, 616), (1048, 647)), 1.0], [((1170, 652), (1192, 683)), 0.0], [((729, 481), (760, 503)), 0.0], [((666, 625), (697, 647)), 1.0], [((1233, 652), (1237, 665)), 0.0], [((153, 409), (184, 431)), 1.0], [((441, 634), (472, 656)), 1.0], [((756, 517), (804, 558)), 0.0], [((963, 508), (985, 539)), 1.0], [((27, 553), (31, 584)), 0.0], [((135, 499), (139, 530)), 0.0], [((513, 400), (544, 431)), 1.0], [((603, 625), (634, 656)), 1.0], [((1215, 427), (1260, 458)), 0.0], [((333, 418), (364, 440)), 0.0], [((189, 490), (220, 494)), 1.0], [((756, 571), (787, 602)), 0.0], [((1224, 652), (1246, 683)), 0.0], [((1053, 409), (1057, 440)), 1.0], [((909, 427), (956, 463)), 0.0], [((837, 616), (868, 638)), 0.0], [((266, 661), (292, 672)), 1.0], [((63, 625), (103, 665)), 0.0], [((396, 454), (427, 485)), 1], [((576, 400), (598, 431)), 1]]\n",
      "[[((72, 490), (94, 512)), 24.0], [((801, 418), (895, 482)), 592.0], [((1188, 427), (1273, 476)), 1516.0], [((657, 607), (706, 647)), 31.0], [((306, 418), (310, 431)), 5.0], [((1017, 616), (1048, 647)), 1.0], [((1170, 652), (1192, 683)), 0.0], [((729, 481), (760, 503)), 0.0], [((666, 625), (697, 647)), 1.0], [((1233, 652), (1237, 665)), 0.0], [((153, 409), (184, 431)), 1.0], [((441, 634), (472, 656)), 1.0], [((756, 517), (804, 558)), 0.0], [((963, 508), (985, 539)), 1.0], [((27, 553), (31, 584)), 0.0], [((135, 499), (139, 530)), 0.0], [((513, 400), (544, 431)), 1.0], [((603, 625), (634, 656)), 1.0], [((1215, 427), (1260, 458)), 0.0], [((333, 418), (364, 440)), 0.0], [((189, 490), (220, 494)), 1.0], [((756, 571), (787, 602)), 0.0], [((1224, 652), (1246, 683)), 0.0], [((1053, 409), (1057, 440)), 1.0], [((909, 427), (956, 463)), 0.0], [((837, 616), (868, 638)), 0.0], [((266, 661), (292, 672)), 1.0], [((63, 625), (103, 665)), 0.0], [((396, 454), (427, 485)), 1], [((576, 400), (598, 431)), 1]]\n",
      "[[((117, 427), (139, 431)), 22.0], [((817, 418), (899, 482)), 593.0], [((1188, 427), (1273, 476)), 1518.0], [((666, 607), (706, 647)), 29.0], [((234, 481), (265, 503)), 3.0], [((1017, 616), (1048, 647)), 1.0], [((1170, 652), (1192, 683)), 0.0], [((729, 481), (760, 503)), 1.0], [((666, 625), (697, 647)), 1.0], [((1233, 652), (1237, 665)), 0.0], [((153, 409), (184, 431)), 1.0], [((441, 634), (472, 656)), 1.0], [((756, 517), (804, 558)), 0.0], [((963, 508), (985, 539)), 1.0], [((27, 553), (31, 584)), 0.0], [((135, 499), (139, 530)), 0.0], [((513, 400), (544, 431)), 1.0], [((603, 625), (634, 656)), 1.0], [((1215, 427), (1260, 458)), 0.0], [((333, 418), (364, 440)), 0.0], [((189, 490), (220, 494)), 1.0], [((756, 571), (787, 602)), 0.0], [((1224, 652), (1246, 683)), 0.0], [((1053, 409), (1057, 440)), 1.0], [((909, 427), (956, 463)), 0.0], [((837, 616), (868, 638)), 0.0], [((266, 661), (292, 672)), 1.0], [((63, 625), (103, 665)), 0.0], [((396, 454), (427, 485)), 1], [((576, 400), (598, 431)), 1]]\n",
      "[[((117, 427), (139, 431)), 24.0], [((801, 409), (899, 482)), 594.0], [((1188, 427), (1273, 476)), 1519.0], [((666, 607), (706, 647)), 30.0], [((234, 481), (265, 503)), 1.0], [((1017, 616), (1048, 647)), 1.0], [((1170, 652), (1192, 683)), 0.0], [((603, 508), (634, 512)), 1.0], [((666, 625), (697, 647)), 1.0], [((1233, 652), (1237, 665)), 0.0], [((153, 409), (184, 431)), 1.0], [((441, 634), (472, 656)), 1.0], [((756, 517), (804, 558)), 0.0], [((963, 508), (985, 539)), 1.0], [((27, 553), (31, 584)), 0.0], [((135, 499), (139, 530)), 0.0], [((513, 400), (544, 431)), 1.0], [((603, 625), (634, 656)), 1.0], [((1215, 427), (1260, 458)), 0.0], [((333, 418), (364, 440)), 0.0], [((189, 490), (220, 494)), 1.0], [((756, 571), (787, 602)), 0.0], [((1224, 652), (1246, 683)), 0.0], [((1053, 409), (1057, 440)), 1.0], [((909, 427), (956, 463)), 0.0], [((837, 616), (868, 638)), 0.0], [((266, 661), (292, 672)), 1.0], [((63, 625), (103, 665)), 0.0], [((396, 454), (427, 485)), 1], [((576, 400), (598, 431)), 1]]\n",
      "[[((90, 490), (112, 512)), 25.0], [((801, 418), (895, 482)), 595.0], [((1178, 436), (1264, 501)), 1521.0], [((729, 553), (760, 575)), 31.0], [((234, 481), (265, 503)), 2.0], [((1017, 616), (1048, 647)), 1.0], [((1170, 652), (1192, 683)), 0.0], [((603, 508), (634, 512)), 1.0], [((666, 625), (697, 647)), 1.0], [((1233, 652), (1237, 665)), 0.0], [((153, 409), (184, 431)), 1.0], [((441, 634), (472, 656)), 1.0], [((756, 517), (804, 558)), 0.0], [((963, 508), (985, 539)), 1.0], [((27, 553), (31, 584)), 0.0], [((135, 499), (139, 530)), 0.0], [((513, 400), (544, 431)), 1.0], [((603, 625), (634, 656)), 1.0], [((1215, 427), (1260, 458)), 0.0], [((333, 418), (364, 440)), 0.0], [((189, 490), (220, 494)), 1.0], [((756, 571), (787, 602)), 0.0], [((1224, 652), (1246, 683)), 0.0], [((1053, 409), (1057, 440)), 1.0], [((909, 427), (956, 463)), 0.0], [((837, 616), (868, 638)), 0.0], [((266, 661), (292, 672)), 1.0], [((63, 625), (103, 665)), 0.0], [((396, 454), (427, 485)), 1], [((576, 400), (598, 431)), 1]]\n",
      "[[((108, 472), (139, 503)), 23.0], [((801, 418), (886, 482)), 596.0], [((1197, 427), (1273, 501)), 1519.0], [((657, 526), (688, 548)), 32.0], [((279, 409), (310, 431)), 0.0], [((1017, 616), (1048, 647)), 1.0], [((1170, 652), (1192, 683)), 0.0], [((603, 508), (634, 512)), 1.0], [((666, 625), (697, 647)), 1.0], [((1233, 652), (1237, 665)), 0.0], [((153, 409), (184, 431)), 1.0], [((441, 634), (472, 656)), 1.0], [((756, 517), (804, 558)), 0.0], [((963, 508), (985, 539)), 1.0], [((27, 553), (31, 584)), 0.0], [((135, 499), (139, 530)), 0.0], [((513, 400), (544, 431)), 1.0], [((603, 625), (634, 656)), 1.0], [((1215, 427), (1260, 458)), 0.0], [((333, 418), (364, 440)), 0.0], [((189, 490), (220, 494)), 1.0], [((756, 571), (787, 602)), 0.0], [((1224, 652), (1246, 683)), 0.0], [((1053, 409), (1057, 440)), 1.0], [((909, 427), (956, 463)), 0.0], [((837, 616), (868, 638)), 0.0], [((266, 661), (292, 672)), 1.0], [((63, 625), (103, 665)), 0.0], [((396, 454), (427, 485)), 1], [((576, 400), (598, 431)), 1]]\n",
      "[[((108, 472), (139, 503)), 25.0], [((801, 418), (895, 485)), 597.0], [((1197, 427), (1273, 501)), 1521.0], [((666, 553), (697, 575)), 33.0], [((279, 409), (310, 431)), 1.0], [((1017, 616), (1048, 647)), 2.0], [((1170, 652), (1192, 683)), 1.0], [((603, 508), (634, 512)), 1.0], [((666, 625), (697, 647)), 1.0], [((1233, 652), (1237, 665)), 0.0], [((153, 409), (184, 431)), 1.0], [((441, 634), (472, 656)), 1.0], [((756, 517), (804, 558)), 0.0], [((963, 508), (985, 539)), 1.0], [((27, 553), (31, 584)), 0.0], [((135, 499), (139, 530)), 0.0], [((513, 400), (544, 431)), 1.0], [((603, 625), (634, 656)), 1.0], [((1215, 427), (1260, 458)), 0.0], [((333, 418), (364, 440)), 0.0], [((189, 490), (220, 494)), 1.0], [((756, 571), (787, 602)), 0.0], [((1224, 652), (1246, 683)), 0.0], [((1053, 409), (1057, 440)), 1.0], [((909, 427), (956, 463)), 0.0], [((837, 616), (868, 638)), 0.0], [((266, 661), (292, 672)), 1.0], [((63, 625), (103, 665)), 0.0], [((396, 454), (427, 485)), 1], [((576, 400), (598, 431)), 1]]\n",
      "[[((27, 418), (40, 440)), 27.0], [((801, 418), (886, 482)), 598.0], [((1178, 436), (1241, 501)), 1523.0], [((666, 499), (679, 503)), 31.0], [((243, 409), (265, 440)), 2.0], [((918, 607), (949, 629)), 0.0], [((1242, 598), (1273, 620)), 1.0], [((603, 508), (634, 512)), 1.0], [((666, 625), (697, 647)), 1.0], [((1233, 652), (1237, 665)), 0.0], [((153, 409), (184, 431)), 1.0], [((441, 634), (472, 656)), 1.0], [((756, 517), (804, 558)), 0.0], [((963, 508), (985, 539)), 1.0], [((27, 553), (31, 584)), 0.0], [((135, 499), (139, 530)), 0.0], [((513, 400), (544, 431)), 1.0], [((603, 625), (634, 656)), 1.0], [((1215, 427), (1260, 458)), 0.0], [((333, 418), (364, 440)), 0.0], [((189, 490), (220, 494)), 1.0], [((756, 571), (787, 602)), 0.0], [((1224, 652), (1246, 683)), 0.0], [((1053, 409), (1057, 440)), 1.0], [((909, 427), (956, 463)), 0.0], [((837, 616), (868, 638)), 0.0], [((266, 661), (292, 672)), 1.0], [((63, 625), (103, 665)), 0.0], [((396, 454), (427, 485)), 1], [((576, 400), (598, 431)), 1]]\n",
      "[[((9, 526), (31, 548)), 25.0], [((801, 418), (895, 485)), 599.0], [((1178, 436), (1241, 501)), 1525.0], [((666, 499), (679, 503)), 32.0], [((180, 490), (211, 521)), 0.0], [((918, 607), (949, 629)), 0.0], [((1242, 598), (1273, 620)), 1.0], [((603, 508), (634, 512)), 1.0], [((666, 625), (697, 647)), 1.0], [((1233, 652), (1237, 665)), 0.0], [((153, 409), (184, 431)), 2.0], [((441, 634), (472, 656)), 1.0], [((756, 517), (804, 558)), 0.0], [((963, 508), (985, 539)), 1.0], [((27, 553), (31, 584)), 0.0], [((135, 499), (139, 530)), 0.0], [((513, 400), (544, 431)), 1.0], [((603, 625), (634, 656)), 1.0], [((1215, 427), (1260, 458)), 0.0], [((333, 418), (364, 440)), 0.0], [((189, 490), (220, 494)), 1.0], [((756, 571), (787, 602)), 0.0], [((1224, 652), (1246, 683)), 0.0], [((1053, 409), (1057, 440)), 1.0], [((909, 427), (956, 463)), 0.0], [((837, 616), (868, 638)), 0.0], [((266, 661), (292, 672)), 1.0], [((63, 625), (103, 665)), 0.0], [((396, 454), (427, 485)), 1], [((576, 400), (598, 431)), 1]]\n",
      "[[((9, 526), (31, 548)), 23.0], [((801, 418), (895, 482)), 600.0], [((1178, 436), (1241, 501)), 1530.0], [((648, 499), (670, 521)), 33.0], [((180, 490), (211, 521)), 0.0], [((918, 607), (949, 629)), 0.0], [((1242, 598), (1273, 620)), 1.0], [((603, 508), (634, 512)), 1.0], [((666, 625), (697, 647)), 1.0], [((1233, 652), (1237, 665)), 0.0], [((252, 409), (274, 431)), 0.0], [((441, 634), (472, 656)), 1.0], [((756, 517), (804, 558)), 0.0], [((963, 508), (985, 539)), 1.0], [((27, 553), (31, 584)), 0.0], [((135, 499), (139, 530)), 0.0], [((513, 400), (544, 431)), 1.0], [((603, 625), (634, 656)), 1.0], [((1215, 427), (1260, 458)), 0.0], [((333, 418), (364, 440)), 0.0], [((189, 490), (220, 494)), 1.0], [((756, 571), (787, 602)), 0.0], [((1224, 652), (1246, 683)), 0.0], [((1053, 409), (1057, 440)), 1.0], [((909, 427), (956, 463)), 0.0], [((837, 616), (868, 638)), 0.0], [((266, 661), (292, 672)), 1.0], [((63, 625), (103, 665)), 0.0], [((396, 454), (427, 485)), 1], [((576, 400), (598, 431)), 1]]\n",
      "[[((9, 526), (31, 548)), 24.0], [((801, 418), (895, 485)), 602.0], [((1178, 436), (1241, 501)), 1532.0], [((603, 517), (625, 530)), 31.0], [((180, 490), (211, 521)), 1.0], [((918, 607), (949, 629)), 0.0], [((1242, 598), (1273, 620)), 1.0], [((603, 508), (634, 512)), 1.0], [((666, 625), (697, 647)), 2.0], [((1233, 652), (1237, 665)), 0.0], [((252, 409), (274, 431)), 0.0], [((441, 634), (472, 656)), 1.0], [((756, 517), (804, 558)), 0.0], [((963, 508), (985, 539)), 1.0], [((27, 553), (31, 584)), 0.0], [((135, 499), (139, 530)), 0.0], [((513, 400), (544, 431)), 1.0], [((603, 625), (634, 656)), 1.0], [((1215, 427), (1260, 458)), 0.0], [((333, 418), (364, 440)), 0.0], [((189, 490), (220, 494)), 1.0], [((756, 571), (787, 602)), 0.0], [((1224, 652), (1246, 683)), 0.0], [((1053, 409), (1057, 440)), 1.0], [((909, 427), (956, 463)), 0.0], [((837, 616), (868, 638)), 0.0], [((266, 661), (292, 672)), 1.0], [((63, 625), (103, 665)), 0.0], [((396, 454), (427, 485)), 1], [((576, 400), (598, 431)), 1]]\n",
      "[[((18, 481), (40, 512)), 22.0], [((836, 400), (895, 482)), 603.0], [((1178, 436), (1241, 501)), 1535.0], [((603, 517), (625, 530)), 33.0], [((252, 418), (283, 449)), 2.0], [((918, 607), (949, 629)), 0.0], [((1242, 598), (1273, 620)), 1.0], [((603, 508), (634, 512)), 1.0], [((540, 598), (571, 656)), 0.0], [((1233, 652), (1237, 665)), 0.0], [((252, 409), (274, 431)), 0.0], [((441, 634), (472, 656)), 1.0], [((756, 517), (804, 558)), 0.0], [((963, 508), (985, 539)), 1.0], [((27, 553), (31, 584)), 0.0], [((135, 499), (139, 530)), 0.0], [((513, 400), (544, 431)), 1.0], [((603, 625), (634, 656)), 1.0], [((1215, 427), (1260, 458)), 0.0], [((333, 418), (364, 440)), 0.0], [((189, 490), (220, 494)), 1.0], [((756, 571), (787, 602)), 0.0], [((1224, 652), (1246, 683)), 0.0], [((1053, 409), (1057, 440)), 1.0], [((909, 427), (956, 463)), 0.0], [((837, 616), (868, 638)), 0.0], [((266, 661), (292, 672)), 1.0], [((63, 625), (103, 665)), 0.0], [((396, 454), (427, 485)), 1], [((576, 400), (598, 431)), 1]]\n",
      "[[((18, 481), (40, 512)), 23.0], [((801, 409), (895, 482)), 604.0], [((1178, 436), (1241, 501)), 1536.0], [((639, 490), (679, 539)), 34.0], [((234, 427), (274, 458)), 4.0], [((918, 607), (949, 629)), 0.0], [((1242, 598), (1273, 620)), 1.0], [((603, 508), (634, 512)), 1.0], [((540, 598), (571, 656)), 0.0], [((1233, 652), (1237, 665)), 0.0], [((252, 409), (274, 431)), 0.0], [((441, 634), (472, 656)), 1.0], [((756, 517), (804, 558)), 0.0], [((963, 508), (985, 539)), 1.0], [((27, 553), (31, 584)), 0.0], [((135, 499), (139, 530)), 0.0], [((513, 400), (544, 431)), 1.0], [((603, 625), (634, 656)), 1.0], [((1215, 427), (1260, 458)), 0.0], [((333, 418), (364, 440)), 0.0], [((189, 490), (220, 494)), 1.0], [((756, 571), (787, 602)), 0.0], [((1224, 652), (1246, 683)), 0.0], [((1053, 409), (1057, 440)), 1.0], [((909, 427), (956, 463)), 0.0], [((837, 616), (868, 638)), 0.0], [((266, 661), (292, 672)), 1.0], [((63, 625), (103, 665)), 0.0], [((396, 454), (427, 485)), 1], [((576, 400), (598, 431)), 1]]\n",
      "[[((153, 490), (175, 521)), 24.0], [((801, 400), (895, 482)), 605.0], [((1178, 436), (1241, 501)), 1534.0], [((648, 499), (670, 530)), 35.0], [((216, 418), (247, 449)), 2.0], [((918, 607), (949, 629)), 0.0], [((1242, 598), (1273, 620)), 1.0], [((603, 508), (634, 512)), 1.0], [((540, 598), (571, 656)), 1.0], [((1233, 652), (1237, 665)), 0.0], [((252, 409), (274, 431)), 0.0], [((441, 634), (472, 656)), 1.0], [((756, 517), (804, 558)), 0.0], [((963, 508), (985, 539)), 1.0], [((27, 553), (31, 584)), 0.0], [((135, 499), (139, 530)), 0.0], [((513, 400), (544, 431)), 1.0], [((603, 625), (634, 656)), 1.0], [((1215, 427), (1260, 458)), 0.0], [((333, 418), (364, 440)), 0.0], [((189, 490), (220, 494)), 1.0], [((756, 571), (787, 602)), 0.0], [((1224, 652), (1246, 683)), 0.0], [((1053, 409), (1057, 440)), 1.0], [((909, 427), (956, 463)), 0.0], [((837, 616), (868, 638)), 0.0], [((266, 661), (292, 672)), 1.0], [((63, 625), (103, 665)), 0.0], [((396, 454), (427, 485)), 1], [((576, 400), (598, 431)), 1]]\n",
      "[[((162, 436), (184, 467)), 22.0], [((801, 400), (899, 482)), 606.0], [((1178, 436), (1241, 501)), 1535.0], [((747, 526), (769, 530)), 33.0], [((216, 418), (247, 449)), 0.0], [((918, 607), (949, 629)), 0.0], [((1242, 598), (1273, 620)), 1.0], [((603, 508), (634, 512)), 1.0], [((558, 616), (580, 647)), 1.0], [((1233, 652), (1237, 665)), 0.0], [((252, 409), (274, 431)), 0.0], [((441, 634), (472, 656)), 1.0], [((756, 517), (804, 558)), 0.0], [((963, 508), (985, 539)), 1.0], [((27, 553), (31, 584)), 0.0], [((135, 499), (139, 530)), 0.0], [((513, 400), (544, 431)), 1.0], [((603, 625), (634, 656)), 1.0], [((1215, 427), (1260, 458)), 0.0], [((333, 418), (364, 440)), 0.0], [((189, 490), (220, 494)), 1.0], [((756, 571), (787, 602)), 0.0], [((1224, 652), (1246, 683)), 0.0], [((1053, 409), (1057, 440)), 1.0], [((909, 427), (956, 463)), 0.0], [((837, 616), (868, 638)), 0.0], [((266, 661), (292, 672)), 1.0], [((63, 625), (103, 665)), 0.0], [((396, 454), (427, 485)), 1], [((576, 400), (598, 431)), 1], [((1098, 616), (1120, 647)), 1]]"
     ]
    },
    {
     "name": "stderr",
     "output_type": "stream",
     "text": [
      "\n",
      "\n",
      "\n",
      " 91%|█████████ | 1033/1136 [04:05<00:03, 31.44it/s]\u001b[A\u001b[A\u001b[A\n",
      "\n",
      "\n",
      " 91%|█████████▏| 1039/1136 [04:05<00:02, 32.79it/s]\u001b[A\u001b[A\u001b[A"
     ]
    },
    {
     "name": "stdout",
     "output_type": "stream",
     "text": [
      "\n",
      "[[((162, 436), (184, 467)), 24.0], [((798, 400), (895, 482)), 607.0], [((1178, 436), (1241, 501)), 1536.0], [((747, 526), (769, 530)), 34.0], [((216, 418), (247, 449)), 0.0], [((918, 607), (949, 629)), 0.0], [((1242, 598), (1273, 620)), 1.0], [((603, 508), (634, 512)), 1.0], [((558, 616), (580, 647)), 1.0], [((1233, 652), (1237, 665)), 0.0], [((252, 409), (274, 431)), 0.0], [((441, 634), (472, 656)), 1.0], [((756, 517), (804, 558)), 0.0], [((963, 508), (985, 539)), 1.0], [((27, 553), (31, 584)), 0.0], [((135, 499), (139, 530)), 0.0], [((513, 400), (544, 431)), 1.0], [((603, 625), (634, 656)), 1.0], [((1215, 427), (1260, 458)), 0.0], [((333, 418), (364, 440)), 0.0], [((189, 490), (220, 494)), 1.0], [((756, 571), (787, 602)), 0.0], [((1224, 652), (1246, 683)), 0.0], [((1053, 409), (1057, 440)), 1.0], [((909, 427), (956, 463)), 0.0], [((837, 616), (868, 638)), 0.0], [((266, 661), (292, 672)), 1.0], [((63, 625), (103, 665)), 0.0], [((396, 454), (427, 485)), 1], [((576, 400), (598, 431)), 1], [((1098, 616), (1120, 647)), 1]]\n",
      "[[((207, 409), (238, 440)), 25.0], [((801, 400), (895, 482)), 608.0], [((1178, 436), (1241, 501)), 1539.0], [((747, 517), (778, 539)), 32.0], [((216, 418), (247, 449)), 0.0], [((918, 607), (949, 629)), 0.0], [((1242, 598), (1273, 620)), 1.0], [((603, 508), (634, 512)), 1.0], [((558, 616), (580, 647)), 1.0], [((1233, 652), (1237, 665)), 0.0], [((252, 409), (274, 431)), 0.0], [((441, 634), (472, 656)), 1.0], [((756, 517), (804, 558)), 0.0], [((963, 508), (985, 539)), 1.0], [((27, 553), (31, 584)), 0.0], [((135, 499), (139, 530)), 0.0], [((513, 400), (544, 431)), 1.0], [((603, 625), (634, 656)), 1.0], [((1215, 427), (1260, 458)), 0.0], [((333, 418), (364, 440)), 0.0], [((189, 490), (220, 494)), 1.0], [((756, 571), (787, 602)), 0.0], [((1224, 652), (1246, 683)), 0.0], [((1053, 409), (1057, 440)), 1.0], [((909, 427), (956, 463)), 0.0], [((837, 616), (868, 638)), 0.0], [((266, 661), (292, 672)), 1.0], [((63, 625), (103, 665)), 0.0], [((396, 454), (427, 485)), 1], [((576, 400), (598, 431)), 1], [((1098, 616), (1120, 647)), 1]]\n",
      "[[((144, 418), (184, 449)), 27.0], [((817, 400), (895, 482)), 610.0], [((1178, 436), (1241, 501)), 1541.0], [((747, 517), (778, 539)), 30.0], [((216, 418), (247, 449)), 0.0], [((918, 607), (949, 629)), 2.0], [((1242, 598), (1273, 620)), 1.0], [((603, 508), (634, 512)), 1.0], [((558, 616), (580, 647)), 1.0], [((1233, 652), (1237, 665)), 0.0], [((252, 409), (274, 431)), 0.0], [((441, 634), (472, 656)), 1.0], [((756, 517), (804, 558)), 0.0], [((963, 508), (985, 539)), 1.0], [((27, 553), (31, 584)), 0.0], [((135, 499), (139, 530)), 0.0], [((513, 400), (544, 431)), 1.0], [((603, 625), (634, 656)), 1.0], [((1215, 427), (1260, 458)), 0.0], [((333, 418), (364, 440)), 0.0], [((189, 490), (220, 494)), 1.0], [((756, 571), (787, 602)), 0.0], [((1224, 652), (1246, 683)), 0.0], [((1053, 409), (1057, 440)), 1.0], [((909, 427), (956, 463)), 0.0], [((837, 616), (868, 638)), 0.0], [((266, 661), (292, 672)), 1.0], [((63, 625), (103, 665)), 0.0], [((396, 454), (427, 485)), 1], [((576, 400), (598, 431)), 1], [((1098, 616), (1120, 647)), 1]]\n",
      "[[((189, 418), (220, 440)), 32.0], [((801, 409), (899, 482)), 611.0], [((1178, 436), (1241, 501)), 1542.0], [((747, 517), (778, 539)), 28.0], [((216, 418), (247, 449)), 0.0], [((837, 625), (868, 647)), 0.0], [((1242, 598), (1273, 620)), 1.0], [((603, 508), (634, 512)), 1.0], [((558, 616), (580, 647)), 1.0], [((1233, 652), (1237, 665)), 0.0], [((252, 409), (274, 431)), 0.0], [((441, 634), (472, 656)), 1.0], [((756, 517), (804, 558)), 0.0], [((963, 508), (985, 539)), 1.0], [((27, 553), (31, 584)), 0.0], [((135, 499), (139, 530)), 0.0], [((513, 400), (544, 431)), 1.0], [((603, 625), (634, 656)), 1.0], [((1215, 427), (1260, 458)), 0.0], [((333, 418), (364, 440)), 0.0], [((189, 490), (220, 494)), 1.0], [((756, 571), (787, 602)), 0.0], [((1224, 652), (1246, 683)), 0.0], [((1053, 409), (1057, 440)), 1.0], [((909, 427), (956, 463)), 0.0], [((837, 616), (868, 638)), 0.0], [((266, 661), (292, 672)), 1.0], [((63, 625), (103, 665)), 0.0], [((396, 454), (427, 485)), 1], [((576, 400), (598, 431)), 1], [((1098, 616), (1120, 647)), 1]]\n",
      "[[((180, 409), (211, 449)), 33.0], [((801, 400), (895, 482)), 612.0], [((1170, 419), (1260, 503)), 1540.0], [((747, 517), (778, 539)), 26.0], [((216, 418), (247, 449)), 0.0], [((837, 625), (868, 647)), 0.0], [((1242, 598), (1273, 620)), 1.0], [((603, 508), (634, 512)), 1.0], [((558, 616), (580, 647)), 2.0], [((1233, 652), (1237, 665)), 0.0], [((252, 409), (274, 431)), 0.0], [((441, 634), (472, 656)), 1.0], [((756, 517), (804, 558)), 0.0], [((963, 508), (985, 539)), 1.0], [((27, 553), (31, 584)), 0.0], [((135, 499), (139, 530)), 0.0], [((513, 400), (544, 431)), 1.0], [((603, 625), (634, 656)), 1.0], [((1215, 427), (1260, 458)), 0.0], [((333, 418), (364, 440)), 0.0], [((189, 490), (220, 494)), 1.0], [((756, 571), (787, 602)), 0.0], [((1224, 652), (1246, 683)), 0.0], [((1053, 409), (1057, 440)), 1.0], [((909, 427), (956, 463)), 0.0], [((837, 616), (868, 638)), 0.0], [((266, 661), (292, 672)), 1.0], [((63, 625), (103, 665)), 0.0], [((396, 454), (427, 485)), 1], [((576, 400), (598, 431)), 1], [((1098, 616), (1120, 647)), 1]]\n",
      "[[((117, 481), (148, 494)), 34.0], [((801, 400), (899, 482)), 613.0], [((1170, 419), (1260, 503)), 1541.0], [((747, 517), (778, 539)), 27.0], [((216, 418), (247, 449)), 0.0], [((837, 625), (868, 647)), 0.0], [((1242, 598), (1273, 620)), 1.0], [((603, 508), (634, 512)), 1.0], [((675, 607), (697, 629)), 0.0], [((1233, 652), (1237, 665)), 0.0], [((252, 409), (274, 431)), 0.0], [((441, 634), (472, 656)), 1.0], [((756, 517), (804, 558)), 0.0], [((963, 508), (985, 539)), 1.0], [((27, 553), (31, 584)), 0.0], [((135, 499), (139, 530)), 0.0], [((513, 400), (544, 431)), 1.0], [((603, 625), (634, 656)), 1.0], [((1215, 427), (1260, 458)), 0.0], [((333, 418), (364, 440)), 0.0], [((189, 490), (220, 494)), 1.0], [((756, 571), (787, 602)), 0.0], [((1224, 652), (1246, 683)), 0.0], [((1053, 409), (1057, 440)), 1.0], [((909, 427), (956, 463)), 0.0], [((837, 616), (868, 638)), 0.0], [((266, 661), (292, 672)), 1.0], [((63, 625), (103, 665)), 0.0], [((396, 454), (427, 485)), 1], [((576, 400), (598, 431)), 1], [((1098, 616), (1120, 647)), 1]]\n",
      "[[((144, 418), (175, 440)), 35.0], [((801, 418), (886, 482)), 614.0], [((1170, 419), (1260, 503)), 1542.0], [((729, 598), (733, 620)), 25.0], [((216, 418), (247, 449)), 0.0], [((837, 625), (868, 647)), 0.0], [((1242, 598), (1273, 620)), 1.0], [((603, 508), (634, 512)), 1.0], [((675, 607), (697, 629)), 0.0], [((1233, 652), (1237, 665)), 0.0], [((252, 409), (274, 431)), 0.0], [((441, 634), (472, 656)), 1.0], [((756, 517), (804, 558)), 0.0], [((963, 508), (985, 539)), 1.0], [((27, 553), (31, 584)), 0.0], [((135, 499), (139, 530)), 0.0], [((513, 400), (544, 431)), 1.0], [((603, 625), (634, 656)), 1.0], [((1215, 427), (1260, 458)), 0.0], [((333, 418), (364, 440)), 0.0], [((189, 490), (220, 494)), 1.0], [((756, 571), (787, 602)), 0.0], [((1224, 652), (1246, 683)), 0.0], [((1053, 409), (1057, 440)), 1.0], [((909, 427), (956, 463)), 0.0], [((837, 616), (868, 638)), 0.0], [((266, 661), (292, 672)), 1.0], [((63, 625), (103, 665)), 0.0], [((396, 454), (427, 485)), 1], [((576, 400), (598, 431)), 1], [((1098, 616), (1120, 647)), 1]]\n",
      "[[((162, 418), (166, 449)), 33.0], [((783, 418), (895, 485)), 615.0], [((1170, 419), (1260, 503)), 1540.0], [((729, 598), (733, 620)), 23.0], [((216, 418), (247, 449)), 0.0], [((837, 625), (868, 647)), 0.0], [((1242, 598), (1273, 620)), 1.0], [((603, 508), (634, 512)), 1.0], [((675, 607), (697, 629)), 0.0], [((1233, 652), (1237, 665)), 0.0], [((252, 409), (274, 431)), 0.0], [((441, 634), (472, 656)), 1.0], [((756, 517), (804, 558)), 0.0], [((963, 508), (985, 539)), 1.0], [((27, 553), (31, 584)), 0.0], [((135, 499), (139, 530)), 0.0], [((513, 400), (544, 431)), 1.0], [((603, 625), (634, 656)), 1.0], [((1215, 427), (1260, 458)), 0.0], [((333, 418), (364, 440)), 0.0], [((189, 490), (220, 494)), 1.0], [((756, 571), (787, 602)), 0.0], [((1224, 652), (1246, 683)), 0.0], [((1053, 409), (1057, 440)), 1.0], [((909, 427), (956, 463)), 0.0], [((837, 616), (868, 638)), 0.0], [((266, 661), (292, 672)), 1.0], [((63, 625), (103, 665)), 0.0], [((396, 454), (427, 485)), 1], [((576, 400), (598, 431)), 1], [((1098, 616), (1120, 647)), 1]]\n",
      "[[((162, 418), (166, 449)), 34.0], [((801, 418), (895, 482)), 616.0], [((1170, 419), (1260, 503)), 1541.0], [((729, 598), (733, 620)), 21.0], [((216, 418), (247, 449)), 0.0], [((837, 625), (868, 647)), 0.0], [((1242, 598), (1273, 620)), 1.0], [((603, 508), (634, 512)), 1.0], [((675, 607), (697, 629)), 0.0], [((1233, 652), (1237, 665)), 0.0], [((252, 409), (274, 431)), 0.0], [((441, 634), (472, 656)), 1.0], [((756, 517), (804, 558)), 0.0], [((963, 508), (985, 539)), 1.0], [((27, 553), (31, 584)), 0.0], [((135, 499), (139, 530)), 0.0], [((513, 400), (544, 431)), 1.0], [((603, 625), (634, 656)), 1.0], [((1215, 427), (1260, 458)), 0.0], [((333, 418), (364, 440)), 0.0], [((189, 490), (220, 494)), 1.0], [((756, 571), (787, 602)), 0.0], [((1224, 652), (1246, 683)), 0.0], [((1053, 409), (1057, 440)), 1.0], [((909, 427), (956, 463)), 0.0], [((837, 616), (868, 638)), 0.0], [((266, 661), (292, 672)), 1.0], [((63, 625), (103, 665)), 0.0], [((396, 454), (427, 485)), 1], [((576, 400), (598, 431)), 1], [((1098, 616), (1120, 647)), 1]]\n"
     ]
    },
    {
     "name": "stdout",
     "output_type": "stream",
     "text": [
      "[[((27, 445), (40, 449)), 32.0], [((801, 400), (899, 482)), 617.0], [((1170, 419), (1260, 503)), 1544.0], [((729, 598), (733, 620)), 19.0], [((216, 418), (247, 449)), 1.0], [((837, 625), (868, 647)), 0.0], [((1242, 598), (1273, 620)), 1.0], [((603, 508), (634, 512)), 1.0], [((675, 607), (697, 629)), 0.0], [((1233, 652), (1237, 665)), 0.0], [((252, 409), (274, 431)), 0.0], [((441, 634), (472, 656)), 1.0], [((756, 517), (804, 558)), 0.0], [((963, 508), (985, 539)), 1.0], [((27, 553), (31, 584)), 0.0], [((135, 499), (139, 530)), 0.0], [((513, 400), (544, 431)), 1.0], [((603, 625), (634, 656)), 1.0], [((1215, 427), (1260, 458)), 0.0], [((333, 418), (364, 440)), 0.0], [((189, 490), (220, 494)), 1.0], [((756, 571), (787, 602)), 0.0], [((1224, 652), (1246, 683)), 0.0], [((1053, 409), (1057, 440)), 1.0], [((909, 427), (956, 463)), 0.0], [((837, 616), (868, 638)), 0.0], [((266, 661), (292, 672)), 1.0], [((63, 625), (103, 665)), 0.0], [((396, 454), (427, 485)), 1], [((576, 400), (598, 431)), 1], [((1098, 616), (1120, 647)), 1]]\n",
      "[[((27, 445), (40, 449)), 33.0], [((801, 409), (899, 482)), 618.0], [((1170, 419), (1260, 503)), 1545.0], [((729, 598), (733, 620)), 21.0], [((261, 400), (292, 431)), 1.0], [((837, 625), (868, 647)), 0.0], [((1242, 598), (1273, 620)), 1.0], [((603, 508), (634, 512)), 1.0], [((675, 607), (697, 629)), 0.0], [((1233, 652), (1237, 665)), 0.0], [((252, 409), (274, 431)), 0.0], [((441, 634), (472, 656)), 1.0], [((756, 517), (804, 558)), 0.0], [((963, 508), (985, 539)), 1.0], [((27, 553), (31, 584)), 0.0], [((135, 499), (139, 530)), 0.0], [((513, 400), (544, 431)), 1.0], [((603, 625), (634, 656)), 1.0], [((1215, 427), (1260, 458)), 0.0], [((333, 418), (364, 440)), 0.0], [((189, 490), (220, 494)), 1.0], [((756, 571), (787, 602)), 0.0], [((1224, 652), (1246, 683)), 0.0], [((1053, 409), (1057, 440)), 1.0], [((909, 427), (956, 463)), 0.0], [((837, 616), (868, 638)), 0.0], [((266, 661), (292, 672)), 1.0], [((63, 625), (103, 665)), 0.0], [((396, 454), (427, 485)), 1], [((576, 400), (598, 431)), 1], [((1098, 616), (1120, 647)), 1]]\n"
     ]
    },
    {
     "name": "stderr",
     "output_type": "stream",
     "text": [
      "\n",
      "\n",
      "\n",
      " 92%|█████████▏| 1045/1136 [04:06<00:07, 11.74it/s]\u001b[A\u001b[A\u001b[A\n",
      "\n",
      "\n",
      " 92%|█████████▏| 1049/1136 [04:07<00:06, 13.92it/s]"
     ]
    },
    {
     "name": "stdout",
     "output_type": "stream",
     "text": [
      "[[((72, 499), (94, 512)), 35.0], [((801, 400), (895, 482)), 619.0], [((1170, 419), (1260, 503)), 1547.0], [((648, 535), (679, 548)), 19.0], [((261, 400), (292, 431)), 1.0], [((837, 625), (868, 647)), 0.0], [((1242, 598), (1273, 620)), 1.0], [((603, 508), (634, 512)), 1.0], [((675, 607), (697, 629)), 0.0], [((1233, 652), (1237, 665)), 0.0], [((252, 409), (274, 431)), 0.0], [((441, 634), (472, 656)), 1.0], [((756, 517), (804, 558)), 0.0], [((963, 508), (985, 539)), 1.0], [((27, 553), (31, 584)), 0.0], [((135, 499), (139, 530)), 0.0], [((513, 400), (544, 431)), 1.0], [((603, 625), (634, 656)), 1.0], [((1215, 427), (1260, 458)), 0.0], [((333, 418), (364, 440)), 0.0], [((189, 490), (220, 494)), 1.0], [((756, 571), (787, 602)), 0.0], [((1224, 652), (1246, 683)), 0.0], [((1053, 409), (1057, 440)), 1.0], [((909, 427), (956, 463)), 0.0], [((837, 616), (868, 638)), 0.0], [((266, 661), (292, 672)), 1.0], [((63, 625), (103, 665)), 0.0], [((396, 454), (427, 485)), 1], [((576, 400), (598, 431)), 1], [((1098, 616), (1120, 647)), 1]]\n",
      "[[((36, 409), (67, 440)), 36.0], [((801, 400), (899, 482)), 620.0], [((1216, 438), (1279, 482)), 1550.0], [((648, 535), (679, 548)), 17.0], [((261, 400), (292, 431)), 1.0], [((837, 625), (868, 647)), 0.0], [((1242, 598), (1273, 620)), 1.0], [((603, 508), (634, 512)), 1.0], [((675, 607), (697, 629)), 0.0], [((1233, 652), (1237, 665)), 0.0], [((252, 409), (274, 431)), 0.0], [((441, 634), (472, 656)), 1.0], [((756, 517), (804, 558)), 0.0], [((963, 508), (985, 539)), 1.0], [((27, 553), (31, 584)), 0.0], [((135, 499), (139, 530)), 0.0], [((513, 400), (544, 431)), 1.0], [((603, 625), (634, 656)), 1.0], [((1215, 427), (1260, 458)), 0.0], [((333, 418), (364, 440)), 0.0], [((189, 490), (220, 494)), 1.0], [((756, 571), (787, 602)), 0.0], [((1224, 652), (1246, 683)), 0.0], [((1053, 409), (1057, 440)), 1.0], [((909, 427), (956, 463)), 0.0], [((837, 616), (868, 638)), 0.0], [((266, 661), (292, 672)), 1.0], [((63, 625), (103, 665)), 0.0], [((396, 454), (427, 485)), 1], [((576, 400), (598, 431)), 1], [((1098, 616), (1120, 647)), 1]]\n",
      "[[((27, 427), (49, 431)), 34.0], [((801, 409), (886, 482)), 621.0], [((1224, 436), (1273, 476)), 1552.0], [((648, 535), (679, 548)), 15.0], [((261, 400), (292, 431)), 1.0], [((837, 625), (868, 647)), 0.0], [((1242, 598), (1273, 620)), 1.0], [((603, 508), (634, 512)), 1.0], [((675, 607), (697, 629)), 0.0], [((1233, 652), (1237, 665)), 0.0], [((252, 409), (274, 431)), 0.0], [((441, 634), (472, 656)), 1.0], [((756, 517), (804, 558)), 0.0], [((963, 508), (985, 539)), 1.0], [((27, 553), (31, 584)), 0.0], [((135, 499), (139, 530)), 0.0], [((513, 400), (544, 431)), 1.0], [((603, 625), (634, 656)), 1.0], [((1215, 427), (1260, 458)), 0.0], [((333, 418), (364, 440)), 0.0], [((189, 490), (220, 494)), 1.0], [((756, 571), (787, 602)), 0.0], [((1224, 652), (1246, 683)), 0.0], [((1053, 409), (1057, 440)), 1.0], [((909, 427), (956, 463)), 0.0], [((837, 616), (868, 638)), 0.0], [((266, 661), (292, 672)), 1.0], [((63, 625), (103, 665)), 0.0], [((396, 454), (427, 485)), 1], [((576, 400), (598, 431)), 1], [((1098, 616), (1120, 647)), 1]]\n",
      "[[((27, 427), (49, 431)), 32.0], [((801, 409), (886, 482)), 622.0], [((1224, 438), (1273, 476)), 1557.0], [((648, 535), (679, 548)), 13.0], [((261, 400), (292, 431)), 2.0], [((837, 625), (868, 647)), 2.0], [((1242, 598), (1273, 620)), 1.0], [((603, 508), (634, 512)), 1.0], [((675, 607), (697, 629)), 0.0], [((1233, 652), (1237, 665)), 0.0], [((252, 409), (274, 431)), 0.0], [((441, 634), (472, 656)), 1.0], [((756, 517), (804, 558)), 0.0], [((963, 508), (985, 539)), 1.0], [((27, 553), (31, 584)), 0.0], [((135, 499), (139, 530)), 0.0], [((513, 400), (544, 431)), 1.0], [((603, 625), (634, 656)), 1.0], [((1215, 427), (1260, 458)), 0.0], [((333, 418), (364, 440)), 0.0], [((189, 490), (220, 494)), 1.0], [((756, 571), (787, 602)), 0.0], [((1224, 652), (1246, 683)), 0.0], [((1053, 409), (1057, 440)), 1.0], [((909, 427), (956, 463)), 0.0], [((837, 616), (868, 638)), 0.0], [((266, 661), (292, 672)), 1.0], [((63, 625), (103, 665)), 0.0], [((396, 454), (427, 485)), 1], [((576, 400), (598, 431)), 1], [((1098, 616), (1120, 647)), 1]]\n",
      "[[((27, 427), (49, 431)), 33.0], [((801, 400), (886, 482)), 623.0], [((1224, 438), (1273, 476)), 1560.0], [((648, 535), (679, 548)), 11.0], [((225, 409), (247, 440)), 0.0], [((891, 625), (922, 656)), 0.0], [((1242, 598), (1273, 620)), 1.0], [((603, 508), (634, 512)), 1.0], [((675, 607), (697, 629)), 0.0], [((1233, 652), (1237, 665)), 0.0], [((252, 409), (274, 431)), 0.0], [((441, 634), (472, 656)), 1.0], [((756, 517), (804, 558)), 0.0], [((963, 508), (985, 539)), 1.0], [((27, 553), (31, 584)), 0.0], [((135, 499), (139, 530)), 0.0], [((513, 400), (544, 431)), 2.0], [((603, 625), (634, 656)), 1.0], [((1215, 427), (1260, 458)), 0.0], [((333, 418), (364, 440)), 0.0], [((189, 490), (220, 494)), 1.0], [((756, 571), (787, 602)), 0.0], [((1224, 652), (1246, 683)), 0.0], [((1053, 409), (1057, 440)), 1.0], [((909, 427), (956, 463)), 0.0], [((837, 616), (868, 638)), 0.0], [((266, 661), (292, 672)), 1.0], [((63, 625), (103, 665)), 0.0], [((396, 454), (427, 485)), 1], [((576, 400), (598, 431)), 1], [((1098, 616), (1120, 647)), 1]]\n",
      "[[((9, 418), (40, 449)), 35.0], [((801, 400), (895, 482)), 624.0], [((1224, 438), (1273, 476)), 1561.0], [((648, 535), (679, 548)), 9.0], [((225, 409), (247, 440)), 2.0], [((891, 625), (922, 656)), 0.0], [((1242, 598), (1273, 620)), 1.0], [((603, 508), (634, 512)), 1.0], [((675, 607), (697, 629)), 0.0], [((1233, 652), (1237, 665)), 0.0], [((252, 409), (274, 431)), 0.0], [((441, 634), (472, 656)), 1.0], [((756, 517), (804, 558)), 0.0], [((963, 508), (985, 539)), 1.0], [((27, 553), (31, 584)), 0.0], [((135, 499), (139, 530)), 0.0], [((405, 400), (418, 431)), 0.0], [((603, 625), (634, 656)), 1.0], [((1215, 427), (1260, 458)), 0.0], [((333, 418), (364, 440)), 0.0], [((189, 490), (220, 494)), 1.0], [((756, 571), (787, 602)), 0.0], [((1224, 652), (1246, 683)), 0.0], [((1053, 409), (1057, 440)), 1.0], [((909, 427), (956, 463)), 0.0], [((837, 616), (868, 638)), 0.0], [((266, 661), (292, 672)), 1.0], [((63, 625), (103, 665)), 0.0], [((396, 454), (427, 485)), 1], [((576, 400), (598, 431)), 1], [((1098, 616), (1120, 647)), 1]]\n",
      "[[((36, 409), (67, 440)), 36.0], [((801, 400), (886, 482)), 625.0], [((1224, 438), (1273, 476)), 1563.0], [((648, 535), (679, 548)), 7.0], [((207, 409), (229, 440)), 3.0], [((891, 625), (922, 656)), 0.0], [((1242, 598), (1273, 620)), 1.0], [((603, 508), (634, 512)), 1.0], [((675, 607), (697, 629)), 0.0], [((1233, 652), (1237, 665)), 0.0], [((252, 409), (274, 431)), 0.0], [((441, 634), (472, 656)), 1.0], [((756, 517), (804, 558)), 0.0], [((963, 508), (985, 539)), 1.0], [((27, 553), (31, 584)), 0.0], [((135, 499), (139, 530)), 0.0], [((405, 400), (418, 431)), 0.0], [((603, 625), (634, 656)), 1.0], [((1215, 427), (1260, 458)), 0.0], [((333, 418), (364, 440)), 0.0], [((189, 490), (220, 494)), 1.0], [((756, 571), (787, 602)), 0.0], [((1224, 652), (1246, 683)), 0.0], [((1053, 409), (1057, 440)), 1.0], [((909, 427), (956, 463)), 0.0], [((837, 616), (868, 638)), 0.0], [((266, 661), (292, 672)), 1.0], [((63, 625), (103, 665)), 0.0], [((396, 454), (427, 485)), 1], [((576, 400), (598, 431)), 1], [((1098, 616), (1120, 647)), 1]]\n",
      "[[((126, 409), (148, 440)), 38.0], [((801, 400), (895, 482)), 626.0], [((1224, 438), (1273, 476)), 1565.0], [((648, 535), (679, 548)), 8.0], [((270, 418), (292, 449)), 1.0], [((891, 625), (922, 656)), 0.0], [((1242, 598), (1273, 620)), 1.0], [((603, 508), (634, 512)), 1.0], [((675, 607), (697, 629)), 0.0], [((1233, 652), (1237, 665)), 0.0], [((252, 409), (274, 431)), 0.0], [((441, 634), (472, 656)), 1.0], [((756, 517), (804, 558)), 0.0], [((963, 508), (985, 539)), 1.0], [((27, 553), (31, 584)), 0.0], [((135, 499), (139, 530)), 0.0], [((405, 400), (418, 431)), 0.0], [((603, 625), (634, 656)), 1.0], [((1215, 427), (1260, 458)), 0.0], [((333, 418), (364, 440)), 0.0], [((189, 490), (220, 494)), 1.0], [((756, 571), (787, 602)), 0.0], [((1224, 652), (1246, 683)), 0.0], [((1053, 409), (1057, 440)), 1.0], [((909, 427), (956, 463)), 0.0], [((837, 616), (868, 638)), 0.0], [((266, 661), (292, 672)), 1.0], [((63, 625), (103, 665)), 0.0], [((396, 454), (427, 485)), 1], [((576, 400), (598, 431)), 1], [((1098, 616), (1120, 647)), 1]]\n"
     ]
    },
    {
     "name": "stderr",
     "output_type": "stream",
     "text": [
      "\u001b[A\u001b[A\u001b[A\n",
      "\n",
      "\n",
      " 93%|█████████▎| 1056/1136 [04:07<00:04, 18.25it/s]\u001b[A\u001b[A\u001b[A"
     ]
    },
    {
     "name": "stdout",
     "output_type": "stream",
     "text": [
      "[[((108, 418), (139, 449)), 36.0], [((801, 409), (895, 482)), 627.0], [((1224, 438), (1273, 476)), 1563.0], [((666, 526), (706, 566)), 9.0], [((270, 418), (292, 449)), 1.0], [((891, 625), (922, 656)), 1.0], [((1242, 598), (1273, 620)), 1.0], [((603, 508), (634, 512)), 1.0], [((675, 607), (697, 629)), 1.0], [((1233, 652), (1237, 665)), 0.0], [((252, 409), (274, 431)), 0.0], [((441, 634), (472, 656)), 1.0], [((756, 517), (804, 558)), 0.0], [((963, 508), (985, 539)), 1.0], [((27, 553), (31, 584)), 0.0], [((135, 499), (139, 530)), 0.0], [((405, 400), (418, 431)), 0.0], [((603, 625), (634, 656)), 1.0], [((1215, 427), (1260, 458)), 0.0], [((333, 418), (364, 440)), 0.0], [((189, 490), (220, 494)), 1.0], [((756, 571), (787, 602)), 0.0], [((1224, 652), (1246, 683)), 0.0], [((1053, 409), (1057, 440)), 1.0], [((909, 427), (956, 463)), 0.0], [((837, 616), (868, 638)), 0.0], [((266, 661), (292, 672)), 1.0], [((63, 625), (103, 665)), 0.0], [((396, 454), (427, 485)), 1], [((576, 400), (598, 431)), 1], [((1098, 616), (1120, 647)), 1]]\n",
      "[[((108, 418), (139, 449)), 37.0], [((801, 400), (899, 482)), 628.0], [((1224, 438), (1273, 476)), 1564.0], [((666, 535), (697, 557)), 11.0], [((270, 418), (292, 449)), 1.0], [((909, 535), (940, 566)), 2.0], [((1242, 598), (1273, 620)), 2.0], [((603, 508), (634, 512)), 1.0], [((522, 607), (553, 629)), 1.0], [((1233, 652), (1237, 665)), 0.0], [((252, 409), (274, 431)), 0.0], [((441, 634), (472, 656)), 1.0], [((756, 517), (804, 558)), 0.0], [((963, 508), (985, 539)), 1.0], [((27, 553), (31, 584)), 0.0], [((135, 499), (139, 530)), 0.0], [((405, 400), (418, 431)), 0.0], [((603, 625), (634, 656)), 1.0], [((1215, 427), (1260, 458)), 0.0], [((333, 418), (364, 440)), 0.0], [((189, 490), (220, 494)), 1.0], [((756, 571), (787, 602)), 0.0], [((1224, 652), (1246, 683)), 0.0], [((1053, 409), (1057, 440)), 1.0], [((909, 427), (956, 463)), 0.0], [((837, 616), (868, 638)), 0.0], [((266, 661), (292, 672)), 1.0], [((63, 625), (103, 665)), 0.0], [((396, 454), (427, 485)), 1], [((576, 400), (598, 431)), 1], [((1098, 616), (1120, 647)), 1]]\n",
      "[[((152, 418), (229, 503)), 40.0], [((801, 400), (895, 482)), 629.0], [((1224, 438), (1273, 476)), 1569.0], [((666, 535), (697, 566)), 12.0], [((270, 418), (292, 449)), 1.0], [((909, 544), (940, 566)), 0.0], [((1143, 616), (1174, 638)), 0.0], [((603, 508), (634, 512)), 1.0], [((522, 607), (553, 629)), 1.0], [((1233, 652), (1237, 665)), 0.0], [((252, 409), (274, 431)), 0.0], [((441, 634), (472, 656)), 1.0], [((756, 517), (804, 558)), 0.0], [((963, 508), (985, 539)), 1.0], [((27, 553), (31, 584)), 0.0], [((135, 499), (139, 530)), 0.0], [((405, 400), (418, 431)), 0.0], [((603, 625), (634, 656)), 1.0], [((1215, 427), (1260, 458)), 0.0], [((333, 418), (364, 440)), 0.0], [((189, 490), (220, 494)), 1.0], [((756, 571), (787, 602)), 0.0], [((1224, 652), (1246, 683)), 0.0], [((1053, 409), (1057, 440)), 1.0], [((909, 427), (956, 463)), 0.0], [((837, 616), (868, 638)), 0.0], [((266, 661), (292, 672)), 1.0], [((63, 625), (103, 665)), 0.0], [((396, 454), (427, 485)), 1], [((576, 400), (598, 431)), 1], [((1098, 616), (1120, 647)), 1]]\n",
      "[[((99, 419), (166, 482)), 43.0], [((801, 400), (899, 482)), 630.0], [((1224, 438), (1273, 476)), 1572.0], [((666, 535), (697, 575)), 13.0], [((270, 418), (292, 449)), 1.0], [((909, 544), (940, 566)), 1.0], [((1143, 616), (1174, 638)), 0.0], [((603, 508), (634, 512)), 1.0], [((522, 607), (553, 629)), 1.0], [((1233, 652), (1237, 665)), 0.0], [((252, 409), (274, 431)), 0.0], [((441, 634), (472, 656)), 1.0], [((756, 517), (804, 558)), 0.0], [((963, 508), (985, 539)), 1.0], [((27, 553), (31, 584)), 0.0], [((135, 499), (139, 530)), 0.0], [((405, 400), (418, 431)), 0.0], [((603, 625), (634, 656)), 1.0], [((1215, 427), (1260, 458)), 0.0], [((333, 418), (364, 440)), 0.0], [((189, 490), (220, 494)), 1.0], [((756, 571), (787, 602)), 0.0], [((1224, 652), (1246, 683)), 0.0], [((1053, 409), (1057, 440)), 1.0], [((909, 427), (956, 463)), 0.0], [((837, 616), (868, 638)), 0.0], [((266, 661), (292, 672)), 1.0], [((63, 625), (103, 665)), 0.0], [((396, 454), (427, 485)), 1], [((576, 400), (598, 431)), 1], [((1098, 616), (1120, 647)), 1]]\n",
      "[[((153, 419), (196, 458)), 46.0], [((817, 400), (895, 482)), 631.0], [((1224, 438), (1273, 476)), 1574.0], [((675, 553), (697, 557)), 14.0], [((270, 418), (292, 449)), 1.0], [((999, 553), (1030, 566)), 1.0], [((1143, 616), (1174, 638)), 0.0], [((603, 508), (634, 512)), 1.0], [((522, 607), (553, 629)), 1.0], [((1233, 652), (1237, 665)), 0.0], [((252, 409), (274, 431)), 0.0], [((441, 634), (472, 656)), 1.0], [((756, 517), (804, 558)), 0.0], [((963, 508), (985, 539)), 1.0], [((27, 553), (31, 584)), 0.0], [((135, 499), (139, 530)), 0.0], [((405, 400), (418, 431)), 0.0], [((603, 625), (634, 656)), 1.0], [((1215, 427), (1260, 458)), 0.0], [((333, 418), (364, 440)), 0.0], [((189, 490), (220, 494)), 1.0], [((756, 571), (787, 602)), 0.0], [((1224, 652), (1246, 683)), 0.0], [((1053, 409), (1057, 440)), 1.0], [((909, 427), (956, 463)), 0.0], [((837, 616), (868, 638)), 0.0], [((266, 661), (292, 672)), 1.0], [((63, 625), (103, 665)), 0.0], [((396, 454), (427, 485)), 1], [((576, 400), (598, 431)), 1], [((1098, 616), (1120, 647)), 1]]\n",
      "[[((27, 427), (58, 458)), 49.0], [((801, 400), (895, 482)), 632.0], [((1224, 438), (1273, 476)), 1575.0], [((666, 553), (697, 566)), 12.0], [((270, 418), (292, 449)), 1.0], [((999, 553), (1030, 566)), 1.0], [((1143, 616), (1174, 638)), 0.0], [((603, 508), (634, 512)), 1.0], [((522, 607), (553, 629)), 1.0], [((1233, 652), (1237, 665)), 0.0], [((252, 409), (274, 431)), 0.0], [((441, 634), (472, 656)), 1.0], [((756, 517), (804, 558)), 0.0], [((963, 508), (985, 539)), 1.0], [((27, 553), (31, 584)), 0.0], [((135, 499), (139, 530)), 0.0], [((405, 400), (418, 431)), 0.0], [((603, 625), (634, 656)), 1.0], [((1215, 427), (1260, 458)), 0.0], [((333, 418), (364, 440)), 0.0], [((189, 490), (220, 494)), 1.0], [((756, 571), (787, 602)), 0.0], [((1224, 652), (1246, 683)), 0.0], [((1053, 409), (1057, 440)), 1.0], [((909, 427), (956, 463)), 0.0], [((837, 616), (868, 638)), 0.0], [((266, 661), (292, 672)), 1.0], [((63, 625), (103, 665)), 0.0], [((396, 454), (427, 485)), 1], [((576, 400), (598, 431)), 1], [((1098, 616), (1120, 647)), 1]]\n",
      "[[((99, 427), (130, 458)), 52.0], [((817, 400), (895, 482)), 633.0], [((1224, 438), (1273, 476)), 1576.0], [((666, 553), (697, 566)), 14.0], [((270, 418), (292, 449)), 1.0], [((999, 553), (1030, 566)), 1.0], [((1143, 616), (1174, 638)), 0.0], [((603, 508), (634, 512)), 1.0], [((522, 607), (553, 629)), 1.0], [((1233, 652), (1237, 665)), 0.0], [((252, 409), (274, 431)), 0.0], [((441, 634), (472, 656)), 1.0], [((756, 517), (804, 558)), 0.0], [((963, 508), (985, 539)), 1.0], [((27, 553), (31, 584)), 0.0], [((135, 499), (139, 530)), 0.0], [((405, 400), (418, 431)), 0.0], [((603, 625), (634, 656)), 1.0], [((1215, 427), (1260, 458)), 0.0], [((333, 418), (364, 440)), 0.0], [((189, 490), (220, 494)), 1.0], [((756, 571), (787, 602)), 0.0], [((1224, 652), (1246, 683)), 0.0], [((1053, 409), (1057, 440)), 1.0], [((909, 427), (956, 463)), 0.0], [((837, 616), (868, 638)), 0.0], [((266, 661), (292, 672)), 1.0], [((63, 625), (103, 665)), 0.0], [((396, 454), (427, 485)), 1], [((576, 400), (598, 431)), 1], [((1098, 616), (1120, 647)), 1]]\n"
     ]
    },
    {
     "name": "stderr",
     "output_type": "stream",
     "text": [
      "\n",
      "\n",
      "\n",
      " 93%|█████████▎| 1061/1136 [04:08<00:06, 11.22it/s]\u001b[A\u001b[A\u001b[A\n",
      "\n",
      "\n",
      " 94%|█████████▍| 1069/1136 [04:08<00:04, 15.02it/s]"
     ]
    },
    {
     "name": "stdout",
     "output_type": "stream",
     "text": [
      "[[((57, 419), (82, 482)), 54.0], [((817, 400), (899, 482)), 634.0], [((1224, 438), (1273, 476)), 1574.0], [((729, 607), (760, 638)), 12.0], [((270, 418), (292, 449)), 1.0], [((999, 553), (1030, 566)), 1.0], [((1143, 616), (1174, 638)), 1.0], [((603, 508), (634, 512)), 1.0], [((522, 607), (553, 629)), 1.0], [((1233, 652), (1237, 665)), 0.0], [((252, 409), (274, 431)), 0.0], [((441, 634), (472, 656)), 1.0], [((756, 517), (804, 558)), 0.0], [((963, 508), (985, 539)), 1.0], [((27, 553), (31, 584)), 0.0], [((135, 499), (139, 530)), 0.0], [((405, 400), (418, 431)), 0.0], [((603, 625), (634, 656)), 1.0], [((1215, 427), (1260, 458)), 0.0], [((333, 418), (364, 440)), 0.0], [((189, 490), (220, 494)), 1.0], [((756, 571), (787, 602)), 0.0], [((1224, 652), (1246, 683)), 0.0], [((1053, 409), (1057, 440)), 1.0], [((909, 427), (956, 463)), 0.0], [((837, 616), (868, 638)), 0.0], [((266, 661), (292, 672)), 1.0], [((63, 625), (103, 665)), 0.0], [((396, 454), (427, 485)), 1], [((576, 400), (598, 431)), 1], [((1098, 616), (1120, 647)), 1]]\n",
      "[[((36, 436), (67, 467)), 55.0], [((810, 400), (899, 482)), 635.0], [((1224, 438), (1273, 476)), 1575.0], [((729, 607), (760, 638)), 10.0], [((270, 418), (292, 449)), 1.0], [((999, 553), (1030, 566)), 1.0], [((1179, 607), (1210, 647)), 2.0], [((603, 508), (634, 512)), 1.0], [((522, 607), (553, 629)), 1.0], [((1233, 652), (1237, 665)), 0.0], [((252, 409), (274, 431)), 0.0], [((441, 634), (472, 656)), 1.0], [((756, 517), (804, 558)), 0.0], [((963, 508), (985, 539)), 1.0], [((27, 553), (31, 584)), 0.0], [((135, 499), (139, 530)), 0.0], [((405, 400), (418, 431)), 0.0], [((603, 625), (634, 656)), 1.0], [((1215, 427), (1260, 458)), 0.0], [((333, 418), (364, 440)), 0.0], [((189, 490), (220, 494)), 1.0], [((756, 571), (787, 602)), 0.0], [((1224, 652), (1246, 683)), 0.0], [((1053, 409), (1057, 440)), 1.0], [((909, 427), (956, 463)), 0.0], [((837, 616), (868, 638)), 0.0], [((266, 661), (292, 672)), 1.0], [((63, 625), (103, 665)), 0.0], [((396, 454), (427, 485)), 1], [((576, 400), (598, 431)), 1], [((1098, 616), (1120, 647)), 1]]\n",
      "[[((108, 409), (139, 440)), 53.0], [((817, 400), (899, 482)), 637.0], [((1224, 438), (1273, 476)), 1576.0], [((729, 607), (760, 638)), 8.0], [((270, 418), (292, 449)), 1.0], [((999, 553), (1030, 566)), 1.0], [((1179, 616), (1210, 620)), 0.0], [((603, 508), (634, 512)), 1.0], [((522, 607), (553, 629)), 1.0], [((1233, 652), (1237, 665)), 0.0], [((252, 409), (274, 431)), 0.0], [((441, 634), (472, 656)), 1.0], [((756, 517), (804, 558)), 0.0], [((963, 508), (985, 539)), 1.0], [((27, 553), (31, 584)), 0.0], [((135, 499), (139, 530)), 0.0], [((405, 400), (418, 431)), 0.0], [((603, 625), (634, 656)), 1.0], [((1215, 427), (1260, 458)), 0.0], [((333, 418), (364, 440)), 0.0], [((189, 490), (220, 494)), 1.0], [((756, 571), (787, 602)), 0.0], [((1224, 652), (1246, 683)), 0.0], [((1053, 409), (1057, 440)), 1.0], [((909, 427), (956, 463)), 0.0], [((837, 616), (868, 638)), 0.0], [((266, 661), (292, 672)), 1.0], [((63, 625), (103, 665)), 0.0], [((396, 454), (427, 485)), 1], [((576, 400), (598, 431)), 1], [((1098, 616), (1120, 647)), 1]]\n",
      "[[((108, 409), (139, 440)), 51.0], [((817, 400), (899, 482)), 638.0], [((1224, 438), (1273, 476)), 1577.0], [((729, 607), (760, 638)), 9.0], [((270, 418), (292, 449)), 1.0], [((999, 553), (1030, 566)), 1.0], [((1179, 616), (1210, 620)), 0.0], [((603, 508), (634, 512)), 1.0], [((522, 607), (553, 629)), 1.0], [((1233, 652), (1237, 665)), 0.0], [((252, 409), (274, 431)), 0.0], [((441, 634), (472, 656)), 1.0], [((756, 517), (804, 558)), 0.0], [((963, 508), (985, 539)), 1.0], [((27, 553), (31, 584)), 0.0], [((135, 499), (139, 530)), 0.0], [((405, 400), (418, 431)), 0.0], [((603, 625), (634, 656)), 1.0], [((1215, 427), (1260, 458)), 0.0], [((333, 418), (364, 440)), 0.0], [((189, 490), (220, 494)), 1.0], [((756, 571), (787, 602)), 0.0], [((1224, 652), (1246, 683)), 0.0], [((1053, 409), (1057, 440)), 1.0], [((909, 427), (956, 463)), 0.0], [((837, 616), (868, 638)), 0.0], [((266, 661), (292, 672)), 1.0], [((63, 625), (103, 665)), 0.0], [((396, 454), (427, 485)), 1], [((576, 400), (598, 431)), 1], [((1098, 616), (1120, 647)), 1]]\n",
      "[[((108, 409), (139, 440)), 53.0], [((817, 400), (899, 482)), 639.0], [((1224, 438), (1273, 476)), 1578.0], [((756, 625), (760, 656)), 7.0], [((270, 418), (292, 449)), 1.0], [((999, 553), (1030, 566)), 1.0], [((1179, 616), (1210, 620)), 0.0], [((603, 508), (634, 512)), 1.0], [((522, 607), (553, 629)), 1.0], [((1233, 652), (1237, 665)), 0.0], [((252, 409), (274, 431)), 0.0], [((441, 634), (472, 656)), 1.0], [((756, 517), (804, 558)), 0.0], [((963, 508), (985, 539)), 1.0], [((27, 553), (31, 584)), 0.0], [((135, 499), (139, 530)), 0.0], [((405, 400), (418, 431)), 0.0], [((603, 625), (634, 656)), 1.0], [((1215, 427), (1260, 458)), 0.0], [((333, 418), (364, 440)), 0.0], [((189, 490), (220, 494)), 1.0], [((756, 571), (787, 602)), 0.0], [((1224, 652), (1246, 683)), 0.0], [((1053, 409), (1057, 440)), 1.0], [((909, 427), (956, 463)), 0.0], [((837, 616), (868, 638)), 0.0], [((266, 661), (292, 672)), 1.0], [((63, 625), (103, 665)), 0.0], [((396, 454), (427, 485)), 1], [((576, 400), (598, 431)), 1], [((1098, 616), (1120, 647)), 1]]\n",
      "[[((36, 418), (67, 440)), 54.0], [((817, 400), (899, 482)), 640.0], [((1224, 438), (1273, 476)), 1579.0], [((756, 625), (760, 656)), 5.0], [((270, 418), (292, 449)), 1.0], [((999, 553), (1030, 566)), 1.0], [((1179, 616), (1210, 620)), 0.0], [((603, 508), (634, 512)), 1.0], [((522, 607), (553, 629)), 1.0], [((1233, 652), (1237, 665)), 0.0], [((252, 409), (274, 431)), 0.0], [((441, 634), (472, 656)), 1.0], [((756, 517), (804, 558)), 0.0], [((963, 508), (985, 539)), 1.0], [((27, 553), (31, 584)), 0.0], [((135, 499), (139, 530)), 0.0], [((405, 400), (418, 431)), 0.0], [((603, 625), (634, 656)), 1.0], [((1215, 427), (1260, 458)), 0.0], [((333, 418), (364, 440)), 0.0], [((189, 490), (220, 494)), 1.0], [((756, 571), (787, 602)), 0.0], [((1224, 652), (1246, 683)), 0.0], [((1053, 409), (1057, 440)), 1.0], [((909, 427), (956, 463)), 0.0], [((837, 616), (868, 638)), 0.0], [((266, 661), (292, 672)), 1.0], [((63, 625), (103, 665)), 0.0], [((396, 454), (427, 485)), 1], [((576, 400), (598, 431)), 1], [((1098, 616), (1120, 647)), 1]]\n",
      "[[((27, 418), (85, 449)), 55.0], [((817, 400), (899, 482)), 641.0], [((1224, 438), (1273, 476)), 1580.0], [((756, 625), (760, 656)), 3.0], [((270, 418), (292, 449)), 1.0], [((999, 553), (1030, 566)), 1.0], [((1179, 616), (1210, 620)), 0.0], [((603, 508), (634, 512)), 1.0], [((522, 607), (553, 629)), 1.0], [((1233, 652), (1237, 665)), 0.0], [((252, 409), (274, 431)), 0.0], [((441, 634), (472, 656)), 1.0], [((756, 517), (804, 558)), 0.0], [((963, 508), (985, 539)), 1.0], [((27, 553), (31, 584)), 0.0], [((135, 499), (139, 530)), 0.0], [((405, 400), (418, 431)), 0.0], [((603, 625), (634, 656)), 1.0], [((1215, 427), (1260, 458)), 0.0], [((333, 418), (364, 440)), 0.0], [((189, 490), (220, 494)), 1.0], [((756, 571), (787, 602)), 0.0], [((1224, 652), (1246, 683)), 0.0], [((1053, 409), (1057, 440)), 1.0], [((909, 427), (956, 463)), 0.0], [((837, 616), (868, 638)), 0.0], [((266, 661), (292, 672)), 1.0], [((63, 625), (103, 665)), 0.0], [((396, 454), (427, 485)), 1], [((576, 400), (598, 431)), 1], [((1098, 616), (1120, 647)), 1]]\n",
      "[[((27, 427), (40, 449)), 53.0], [((817, 400), (899, 482)), 642.0], [((1224, 438), (1273, 476)), 1578.0], [((756, 625), (760, 656)), 4.0], [((270, 418), (292, 449)), 2.0], [((999, 553), (1030, 566)), 2.0], [((1179, 616), (1210, 620)), 0.0], [((603, 508), (634, 512)), 1.0], [((522, 607), (553, 629)), 1.0], [((1233, 652), (1237, 665)), 0.0], [((252, 409), (274, 431)), 0.0], [((441, 634), (472, 656)), 1.0], [((756, 517), (804, 558)), 0.0], [((963, 508), (985, 539)), 1.0], [((27, 553), (31, 584)), 0.0], [((135, 499), (139, 530)), 0.0], [((405, 400), (418, 431)), 0.0], [((603, 625), (634, 656)), 1.0], [((1215, 427), (1260, 458)), 0.0], [((333, 418), (364, 440)), 0.0], [((189, 490), (220, 494)), 1.0], [((756, 571), (787, 602)), 0.0], [((1224, 652), (1246, 683)), 0.0], [((1053, 409), (1057, 440)), 1.0], [((909, 427), (956, 463)), 0.0], [((837, 616), (868, 638)), 0.0], [((266, 661), (292, 672)), 1.0], [((63, 625), (103, 665)), 0.0], [((396, 454), (427, 485)), 1], [((576, 400), (598, 431)), 1], [((1098, 616), (1120, 647)), 1]]\n",
      "[[((27, 427), (40, 449)), 55.0], [((810, 400), (899, 482)), 643.0], [((1224, 438), (1273, 476)), 1579.0], [((675, 616), (706, 638)), 2.0], [((207, 418), (229, 449)), 0.0], [((999, 553), (1003, 566)), 0.0], [((1179, 616), (1210, 620)), 0.0], [((603, 508), (634, 512)), 1.0], [((522, 607), (553, 629)), 1.0], [((1233, 652), (1237, 665)), 0.0], [((252, 409), (274, 431)), 0.0], [((441, 634), (472, 656)), 1.0], [((756, 517), (804, 558)), 0.0], [((963, 508), (985, 539)), 1.0], [((27, 553), (31, 584)), 0.0], [((135, 499), (139, 530)), 0.0], [((405, 400), (418, 431)), 0.0], [((603, 625), (634, 656)), 1.0], [((1215, 427), (1260, 458)), 0.0], [((333, 418), (364, 440)), 0.0], [((189, 490), (220, 494)), 1.0], [((756, 571), (787, 602)), 0.0], [((1224, 652), (1246, 683)), 0.0], [((1053, 409), (1057, 440)), 1.0], [((909, 427), (956, 463)), 0.0], [((837, 616), (868, 638)), 0.0], [((266, 661), (292, 672)), 1.0], [((63, 625), (103, 665)), 0.0], [((396, 454), (427, 485)), 1], [((576, 400), (598, 431)), 1], [((1098, 616), (1120, 647)), 1]]\n",
      "[[((63, 418), (94, 440)), 56.0], [((801, 400), (899, 482)), 644.0], [((1224, 438), (1273, 476)), 1580.0], [((675, 616), (706, 638)), 0.0], [((207, 418), (229, 449)), 2.0], [((999, 553), (1003, 566)), 0.0], [((1179, 616), (1210, 620)), 0.0], [((603, 508), (634, 512)), 1.0], [((522, 607), (553, 629)), 1.0], [((1233, 652), (1237, 665)), 0.0], [((252, 409), (274, 431)), 0.0], [((441, 634), (472, 656)), 1.0], [((756, 517), (804, 558)), 0.0], [((963, 508), (985, 539)), 1.0], [((27, 553), (31, 584)), 0.0], [((135, 499), (139, 530)), 0.0], [((405, 400), (418, 431)), 0.0], [((603, 625), (634, 656)), 1.0], [((1215, 427), (1260, 458)), 0.0], [((333, 418), (364, 440)), 0.0], [((189, 490), (220, 494)), 1.0], [((756, 571), (787, 602)), 0.0], [((1224, 652), (1246, 683)), 0.0], [((1053, 409), (1057, 440)), 1.0], [((909, 427), (956, 463)), 0.0], [((837, 616), (868, 638)), 0.0], [((266, 661), (292, 672)), 1.0], [((63, 625), (103, 665)), 0.0], [((396, 454), (427, 485)), 1], [((576, 400), (598, 431)), 1], [((1098, 616), (1120, 647)), 1]]\n",
      "[[((54, 427), (85, 431)), 58.0], [((801, 400), (899, 482)), 645.0], [((1224, 438), (1273, 476)), 1578.0], [((675, 616), (706, 638)), 0.0], [((153, 481), (184, 503)), 0.0], [((999, 553), (1003, 566)), 0.0], [((1179, 616), (1210, 620)), 0.0], [((603, 508), (634, 512)), 1.0], [((522, 607), (553, 629)), 1.0], [((1233, 652), (1237, 665)), 0.0], [((252, 409), (274, 431)), 1.0], [((441, 634), (472, 656)), 1.0], [((756, 517), (804, 558)), 0.0], [((963, 508), (985, 539)), 1.0], [((27, 553), (31, 584)), 0.0], [((135, 499), (139, 530)), 0.0], [((405, 400), (418, 431)), 0.0], [((603, 625), (634, 656)), 1.0], [((1215, 427), (1260, 458)), 0.0], [((333, 418), (364, 440)), 0.0], [((189, 490), (220, 494)), 1.0], [((756, 571), (787, 602)), 0.0], [((1224, 652), (1246, 683)), 0.0], [((1053, 409), (1057, 440)), 1.0], [((909, 427), (956, 463)), 0.0], [((837, 616), (868, 638)), 0.0], [((266, 661), (292, 672)), 1.0], [((63, 625), (103, 665)), 0.0], [((396, 454), (427, 485)), 1], [((576, 400), (598, 431)), 1], [((1098, 616), (1120, 647)), 1]]\n",
      "[[((36, 427), (76, 458)), 59.0], [((801, 400), (899, 482)), 647.0], [((1224, 438), (1273, 476)), 1576.0], [((675, 616), (706, 638)), 0.0], [((153, 481), (184, 503)), 0.0], [((999, 553), (1003, 566)), 0.0], [((1179, 616), (1210, 620)), 0.0], [((603, 508), (634, 512)), 1.0], [((522, 607), (553, 629)), 1.0], [((1233, 652), (1237, 665)), 0.0], [((351, 427), (373, 440)), 2.0], [((441, 634), (472, 656)), 1.0], [((756, 517), (804, 558)), 0.0], [((963, 508), (985, 539)), 1.0], [((27, 553), (31, 584)), 0.0], [((135, 499), (139, 530)), 0.0], [((405, 400), (418, 431)), 0.0], [((603, 625), (634, 656)), 1.0], [((1215, 427), (1260, 458)), 0.0], [((333, 418), (364, 440)), 0.0], [((189, 490), (220, 494)), 1.0], [((756, 571), (787, 602)), 0.0], [((1224, 652), (1246, 683)), 0.0], [((1053, 409), (1057, 440)), 1.0], [((909, 427), (956, 463)), 0.0], [((837, 616), (868, 638)), 0.0], [((266, 661), (292, 672)), 1.0], [((63, 625), (103, 665)), 0.0], [((396, 454), (427, 485)), 1], [((576, 400), (598, 431)), 1], [((1098, 616), (1120, 647)), 1]]\n",
      "[[((45, 409), (76, 440)), 60.0], [((801, 400), (899, 482)), 648.0], [((1224, 438), (1273, 476)), 1577.0], [((675, 616), (706, 638)), 0.0], [((153, 481), (184, 503)), 0.0], [((999, 553), (1003, 566)), 0.0], [((1179, 616), (1210, 620)), 0.0], [((603, 508), (634, 512)), 1.0], [((522, 607), (553, 629)), 1.0], [((1233, 652), (1237, 665)), 0.0], [((333, 427), (355, 458)), 3.0], [((441, 634), (472, 656)), 1.0], [((756, 517), (804, 558)), 0.0], [((963, 508), (985, 539)), 1.0], [((27, 553), (31, 584)), 0.0], [((135, 499), (139, 530)), 0.0], [((405, 400), (418, 431)), 0.0], [((603, 625), (634, 656)), 1.0], [((1215, 427), (1260, 458)), 0.0], [((333, 418), (364, 440)), 0.0], [((189, 490), (220, 494)), 1.0], [((756, 571), (787, 602)), 0.0], [((1224, 652), (1246, 683)), 0.0], [((1053, 409), (1057, 440)), 1.0], [((909, 427), (956, 463)), 0.0], [((837, 616), (868, 638)), 0.0], [((266, 661), (292, 672)), 1.0], [((63, 625), (103, 665)), 0.0], [((396, 454), (427, 485)), 1], [((576, 400), (598, 431)), 1], [((1098, 616), (1120, 647)), 1]]\n",
      "[[((9, 409), (40, 440)), 58.0], [((801, 400), (899, 482)), 650.0], [((1224, 438), (1273, 476)), 1575.0], [((675, 616), (706, 638)), 2.0], [((153, 481), (184, 503)), 0.0], [((999, 553), (1003, 566)), 0.0], [((1179, 616), (1210, 620)), 0.0], [((603, 508), (634, 512)), 1.0], [((522, 607), (553, 629)), 1.0], [((1233, 652), (1237, 665)), 0.0], [((315, 427), (346, 449)), 4.0], [((441, 634), (472, 656)), 1.0], [((756, 517), (804, 558)), 0.0], [((963, 508), (985, 539)), 1.0], [((27, 553), (31, 584)), 0.0], [((135, 499), (139, 530)), 0.0], [((405, 400), (418, 431)), 0.0], [((603, 625), (634, 656)), 1.0], [((1215, 427), (1260, 458)), 0.0], [((333, 418), (364, 440)), 0.0], [((189, 490), (220, 494)), 1.0], [((756, 571), (787, 602)), 0.0], [((1224, 652), (1246, 683)), 0.0], [((1053, 409), (1057, 440)), 1.0], [((909, 427), (956, 463)), 0.0], [((837, 616), (868, 638)), 0.0], [((266, 661), (292, 672)), 1.0], [((63, 625), (103, 665)), 0.0], [((396, 454), (427, 485)), 1], [((576, 400), (598, 431)), 1], [((1098, 616), (1120, 647)), 1]]\n",
      "[[((9, 409), (40, 440)), 60.0], [((801, 400), (899, 482)), 651.0], [((1224, 438), (1273, 476)), 1573.0], [((738, 616), (769, 647)), 3.0], [((153, 481), (184, 503)), 0.0], [((999, 553), (1003, 566)), 0.0], [((1179, 616), (1210, 620)), 0.0], [((603, 508), (634, 512)), 1.0], [((522, 607), (553, 629)), 1.0], [((1233, 652), (1237, 665)), 0.0], [((297, 418), (328, 449)), 2.0], [((441, 634), (472, 656)), 1.0], [((756, 517), (804, 558)), 0.0], [((963, 508), (985, 539)), 1.0], [((27, 553), (31, 584)), 0.0], [((135, 499), (139, 530)), 0.0], [((405, 400), (418, 431)), 0.0], [((603, 625), (634, 656)), 1.0], [((1215, 427), (1260, 458)), 0.0], [((333, 418), (364, 440)), 0.0], [((189, 490), (220, 494)), 1.0], [((756, 571), (787, 602)), 0.0], [((1224, 652), (1246, 683)), 0.0], [((1053, 409), (1057, 440)), 1.0], [((909, 427), (956, 463)), 0.0], [((837, 616), (868, 638)), 0.0], [((266, 661), (292, 672)), 1.0], [((63, 625), (103, 665)), 0.0], [((396, 454), (427, 485)), 1], [((576, 400), (598, 431)), 1], [((1098, 616), (1120, 647)), 1]]\n"
     ]
    },
    {
     "name": "stderr",
     "output_type": "stream",
     "text": [
      "\u001b[A\u001b[A\u001b[A\n",
      "\n",
      "\n",
      " 95%|█████████▍| 1076/1136 [04:08<00:03, 19.40it/s]\u001b[A\u001b[A\u001b[A"
     ]
    },
    {
     "name": "stdout",
     "output_type": "stream",
     "text": [
      "[[((0, 409), (31, 431)), 61.0], [((801, 400), (899, 482)), 652.0], [((1224, 438), (1273, 476)), 1571.0], [((675, 616), (706, 638)), 4.0], [((153, 481), (184, 503)), 0.0], [((999, 553), (1003, 566)), 0.0], [((1179, 616), (1210, 620)), 0.0], [((603, 508), (634, 512)), 1.0], [((522, 607), (553, 629)), 1.0], [((1233, 652), (1237, 665)), 0.0], [((297, 418), (328, 449)), 3.0], [((441, 634), (472, 656)), 1.0], [((756, 517), (804, 558)), 0.0], [((963, 508), (985, 539)), 1.0], [((27, 553), (31, 584)), 0.0], [((135, 499), (139, 530)), 0.0], [((405, 400), (418, 431)), 0.0], [((603, 625), (634, 656)), 1.0], [((1215, 427), (1260, 458)), 0.0], [((333, 418), (364, 440)), 0.0], [((189, 490), (220, 494)), 1.0], [((756, 571), (787, 602)), 0.0], [((1224, 652), (1246, 683)), 0.0], [((1053, 409), (1057, 440)), 1.0], [((909, 427), (956, 463)), 0.0], [((837, 616), (868, 638)), 0.0], [((266, 661), (292, 672)), 1.0], [((63, 625), (103, 665)), 0.0], [((396, 454), (427, 485)), 1], [((576, 400), (598, 431)), 1], [((1098, 616), (1120, 647)), 1]]\n",
      "[[((126, 418), (148, 449)), 59.0], [((801, 400), (895, 476)), 653.0], [((1224, 438), (1273, 476)), 1569.0], [((756, 553), (778, 584)), 2.0], [((153, 481), (184, 503)), 0.0], [((999, 553), (1003, 566)), 0.0], [((1179, 616), (1210, 620)), 0.0], [((603, 508), (634, 512)), 1.0], [((522, 607), (553, 629)), 1.0], [((1233, 652), (1237, 665)), 0.0], [((288, 418), (319, 449)), 1.0], [((441, 634), (472, 656)), 1.0], [((756, 517), (804, 558)), 0.0], [((963, 508), (985, 539)), 1.0], [((27, 553), (31, 584)), 0.0], [((135, 499), (139, 530)), 0.0], [((405, 400), (418, 431)), 0.0], [((603, 625), (634, 656)), 1.0], [((1215, 427), (1260, 458)), 0.0], [((333, 418), (364, 440)), 0.0], [((189, 490), (220, 494)), 1.0], [((756, 571), (787, 602)), 0.0], [((1224, 652), (1246, 683)), 0.0], [((1053, 409), (1057, 440)), 1.0], [((909, 427), (956, 463)), 0.0], [((837, 616), (868, 638)), 0.0], [((266, 661), (292, 672)), 1.0], [((63, 625), (103, 665)), 0.0], [((396, 454), (427, 485)), 1], [((576, 400), (598, 431)), 1], [((1098, 616), (1120, 647)), 1]]\n",
      "[[((126, 418), (148, 449)), 57.0], [((798, 400), (899, 482)), 654.0], [((1224, 438), (1273, 476)), 1570.0], [((756, 553), (778, 584)), 0.0], [((153, 481), (184, 503)), 0.0], [((999, 553), (1003, 566)), 0.0], [((1179, 616), (1210, 620)), 0.0], [((603, 508), (634, 512)), 1.0], [((522, 607), (553, 629)), 1.0], [((1233, 652), (1237, 665)), 0.0], [((288, 418), (319, 449)), 1.0], [((441, 634), (472, 656)), 1.0], [((756, 517), (804, 558)), 0.0], [((963, 508), (985, 539)), 1.0], [((27, 553), (31, 584)), 0.0], [((135, 499), (139, 530)), 0.0], [((405, 400), (418, 431)), 0.0], [((603, 625), (634, 656)), 1.0], [((1215, 427), (1260, 458)), 0.0], [((333, 418), (364, 440)), 0.0], [((189, 490), (220, 494)), 1.0], [((756, 571), (787, 602)), 0.0], [((1224, 652), (1246, 683)), 0.0], [((1053, 409), (1057, 440)), 1.0], [((909, 427), (956, 463)), 0.0], [((837, 616), (868, 638)), 0.0], [((266, 661), (292, 672)), 1.0], [((63, 625), (103, 665)), 0.0], [((396, 454), (427, 485)), 1], [((576, 400), (598, 431)), 1], [((1098, 616), (1120, 647)), 1]]\n"
     ]
    },
    {
     "name": "stderr",
     "output_type": "stream",
     "text": [
      "\n",
      "\n",
      "\n",
      " 95%|█████████▌| 1081/1136 [04:09<00:04, 11.99it/s]\u001b[A\u001b[A\u001b[A\n",
      "\n",
      "\n",
      " 96%|█████████▌| 1090/1136 [04:09<00:02, 16.14it/s]"
     ]
    },
    {
     "name": "stdout",
     "output_type": "stream",
     "text": [
      "[[((126, 418), (148, 449)), 55.0], [((801, 400), (899, 482)), 655.0], [((1224, 438), (1273, 476)), 1571.0], [((756, 553), (778, 584)), 2.0], [((153, 481), (184, 503)), 0.0], [((999, 553), (1003, 566)), 0.0], [((1179, 616), (1210, 620)), 0.0], [((603, 508), (634, 512)), 2.0], [((522, 607), (553, 629)), 1.0], [((1233, 652), (1237, 665)), 0.0], [((288, 418), (319, 449)), 1.0], [((441, 634), (472, 656)), 1.0], [((756, 517), (804, 558)), 0.0], [((963, 508), (985, 539)), 1.0], [((27, 553), (31, 584)), 0.0], [((135, 499), (139, 530)), 0.0], [((405, 400), (418, 431)), 0.0], [((603, 625), (634, 656)), 1.0], [((1215, 427), (1260, 458)), 0.0], [((333, 418), (364, 440)), 0.0], [((189, 490), (220, 494)), 1.0], [((756, 571), (787, 602)), 0.0], [((1224, 652), (1246, 683)), 0.0], [((1053, 409), (1057, 440)), 1.0], [((909, 427), (956, 463)), 0.0], [((837, 616), (868, 638)), 0.0], [((266, 661), (292, 672)), 1.0], [((63, 625), (103, 665)), 0.0], [((396, 454), (427, 485)), 1], [((576, 400), (598, 431)), 1], [((1098, 616), (1120, 647)), 1]]\n",
      "[[((126, 418), (148, 449)), 53.0], [((798, 400), (899, 482)), 656.0], [((1224, 438), (1273, 476)), 1572.0], [((666, 616), (697, 647)), 3.0], [((153, 481), (184, 503)), 0.0], [((999, 553), (1003, 566)), 0.0], [((1179, 616), (1210, 620)), 0.0], [((585, 607), (616, 629)), 0.0], [((522, 607), (553, 629)), 1.0], [((1233, 652), (1237, 665)), 0.0], [((288, 418), (319, 449)), 1.0], [((441, 634), (472, 656)), 1.0], [((756, 517), (804, 558)), 0.0], [((963, 508), (985, 539)), 1.0], [((27, 553), (31, 584)), 0.0], [((135, 499), (139, 530)), 0.0], [((405, 400), (418, 431)), 0.0], [((603, 625), (634, 656)), 1.0], [((1215, 427), (1260, 458)), 0.0], [((333, 418), (364, 440)), 0.0], [((189, 490), (220, 494)), 1.0], [((756, 571), (787, 602)), 0.0], [((1224, 652), (1246, 683)), 0.0], [((1053, 409), (1057, 440)), 1.0], [((909, 427), (956, 463)), 0.0], [((837, 616), (868, 638)), 0.0], [((266, 661), (292, 672)), 1.0], [((63, 625), (103, 665)), 0.0], [((396, 454), (427, 485)), 1], [((576, 400), (598, 431)), 1], [((1098, 616), (1120, 647)), 1]]\n",
      "[[((126, 418), (148, 449)), 51.0], [((801, 400), (895, 482)), 657.0], [((1224, 438), (1273, 476)), 1570.0], [((729, 643), (760, 656)), 1.0], [((153, 481), (184, 503)), 0.0], [((999, 553), (1003, 566)), 1.0], [((1179, 616), (1210, 620)), 0.0], [((585, 607), (616, 629)), 0.0], [((522, 607), (553, 629)), 1.0], [((1233, 652), (1237, 665)), 0.0], [((288, 418), (319, 449)), 1.0], [((441, 634), (472, 656)), 1.0], [((756, 517), (804, 558)), 0.0], [((963, 508), (985, 539)), 1.0], [((27, 553), (31, 584)), 0.0], [((135, 499), (139, 530)), 0.0], [((405, 400), (418, 431)), 0.0], [((603, 625), (634, 656)), 1.0], [((1215, 427), (1260, 458)), 0.0], [((333, 418), (364, 440)), 0.0], [((189, 490), (220, 494)), 1.0], [((756, 571), (787, 602)), 0.0], [((1224, 652), (1246, 683)), 0.0], [((1053, 409), (1057, 440)), 1.0], [((909, 427), (956, 463)), 0.0], [((837, 616), (868, 638)), 0.0], [((266, 661), (292, 672)), 1.0], [((63, 625), (103, 665)), 0.0], [((396, 454), (427, 485)), 1], [((576, 400), (598, 431)), 1], [((1098, 616), (1120, 647)), 1]]\n",
      "[[((126, 418), (148, 449)), 55.0], [((801, 400), (895, 482)), 658.0], [((1224, 438), (1273, 476)), 1568.0], [((729, 643), (760, 656)), 2.0], [((153, 481), (184, 503)), 0.0], [((873, 553), (904, 575)), 2.0], [((1179, 616), (1210, 620)), 0.0], [((585, 607), (616, 629)), 0.0], [((522, 607), (553, 629)), 1.0], [((1233, 652), (1237, 665)), 0.0], [((288, 418), (319, 449)), 2.0], [((441, 634), (472, 656)), 1.0], [((756, 517), (804, 558)), 0.0], [((963, 508), (985, 539)), 1.0], [((27, 553), (31, 584)), 0.0], [((135, 499), (139, 530)), 0.0], [((405, 400), (418, 431)), 0.0], [((603, 625), (634, 656)), 1.0], [((1215, 427), (1260, 458)), 0.0], [((333, 418), (364, 440)), 0.0], [((189, 490), (220, 494)), 1.0], [((756, 571), (787, 602)), 0.0], [((1224, 652), (1246, 683)), 0.0], [((1053, 409), (1057, 440)), 1.0], [((909, 427), (956, 463)), 0.0], [((837, 616), (868, 638)), 0.0], [((266, 661), (292, 672)), 1.0], [((63, 625), (103, 665)), 0.0], [((396, 454), (427, 485)), 1], [((576, 400), (598, 431)), 1], [((1098, 616), (1120, 647)), 1]]\n",
      "[[((126, 436), (157, 467)), 56.0], [((801, 400), (899, 482)), 659.0], [((1224, 438), (1273, 476)), 1566.0], [((810, 607), (841, 629)), 0.0], [((153, 481), (184, 503)), 0.0], [((801, 553), (832, 584)), 0.0], [((1179, 616), (1210, 620)), 0.0], [((585, 607), (616, 629)), 0.0], [((522, 607), (553, 629)), 1.0], [((1233, 652), (1237, 665)), 0.0], [((306, 409), (310, 440)), 0.0], [((441, 634), (472, 656)), 1.0], [((756, 517), (804, 558)), 0.0], [((963, 508), (985, 539)), 1.0], [((27, 553), (31, 584)), 0.0], [((135, 499), (139, 530)), 0.0], [((405, 400), (418, 431)), 0.0], [((603, 625), (634, 656)), 1.0], [((1215, 427), (1260, 458)), 0.0], [((333, 418), (364, 440)), 0.0], [((189, 490), (220, 494)), 1.0], [((756, 571), (787, 602)), 0.0], [((1224, 652), (1246, 683)), 0.0], [((1053, 409), (1057, 440)), 1.0], [((909, 427), (956, 463)), 0.0], [((837, 616), (868, 638)), 0.0], [((266, 661), (292, 672)), 1.0], [((63, 625), (103, 665)), 0.0], [((396, 454), (427, 485)), 1], [((576, 400), (598, 431)), 1], [((1098, 616), (1120, 647)), 1]]\n",
      "[[((90, 436), (112, 467)), 57.0], [((817, 400), (899, 482)), 660.0], [((1224, 438), (1273, 476)), 1564.0], [((810, 607), (841, 629)), 0.0], [((153, 481), (184, 503)), 0.0], [((801, 553), (832, 584)), 0.0], [((1179, 616), (1210, 620)), 0.0], [((585, 607), (616, 629)), 0.0], [((522, 607), (553, 629)), 1.0], [((1233, 652), (1237, 665)), 0.0], [((306, 409), (310, 440)), 0.0], [((441, 634), (472, 656)), 1.0], [((756, 517), (804, 558)), 0.0], [((963, 508), (985, 539)), 1.0], [((27, 553), (31, 584)), 0.0], [((135, 499), (139, 530)), 0.0], [((405, 400), (418, 431)), 0.0], [((603, 625), (634, 656)), 1.0], [((1215, 427), (1260, 458)), 0.0], [((333, 418), (364, 440)), 0.0], [((189, 490), (220, 494)), 1.0], [((756, 571), (787, 602)), 0.0], [((1224, 652), (1246, 683)), 0.0], [((1053, 409), (1057, 440)), 1.0], [((909, 427), (956, 463)), 0.0], [((837, 616), (868, 638)), 0.0], [((266, 661), (292, 672)), 1.0], [((63, 625), (103, 665)), 0.0], [((396, 454), (427, 485)), 1], [((576, 400), (598, 431)), 1], [((1098, 616), (1120, 647)), 1]]\n",
      "[[((19, 427), (82, 482)), 55.0], [((801, 400), (899, 482)), 661.0], [((1224, 438), (1273, 476)), 1562.0], [((810, 607), (841, 629)), 1.0], [((153, 481), (184, 503)), 1.0], [((801, 553), (832, 584)), 0.0], [((1179, 616), (1210, 620)), 0.0], [((585, 607), (616, 629)), 0.0], [((522, 607), (553, 629)), 1.0], [((1233, 652), (1237, 665)), 0.0], [((306, 409), (310, 440)), 0.0], [((441, 634), (472, 656)), 1.0], [((756, 517), (804, 558)), 0.0], [((963, 508), (985, 539)), 1.0], [((27, 553), (31, 584)), 0.0], [((135, 499), (139, 530)), 0.0], [((405, 400), (418, 431)), 0.0], [((603, 625), (634, 656)), 1.0], [((1215, 427), (1260, 458)), 0.0], [((333, 418), (364, 440)), 0.0], [((189, 490), (220, 494)), 1.0], [((756, 571), (787, 602)), 0.0], [((1224, 652), (1246, 683)), 0.0], [((1053, 409), (1057, 440)), 1.0], [((909, 427), (956, 463)), 0.0], [((837, 616), (868, 638)), 0.0], [((266, 661), (292, 672)), 1.0], [((63, 625), (103, 665)), 0.0], [((396, 454), (427, 485)), 1], [((576, 400), (598, 431)), 1], [((1098, 616), (1120, 647)), 1]]\n",
      "[[((19, 427), (82, 482)), 57.0], [((801, 400), (899, 482)), 662.0], [((1224, 438), (1273, 476)), 1560.0], [((747, 598), (778, 620)), 2.0], [((180, 508), (211, 539)), 1.0], [((801, 553), (832, 584)), 0.0], [((1179, 616), (1210, 620)), 0.0], [((585, 607), (616, 629)), 0.0], [((522, 607), (553, 629)), 1.0], [((1233, 652), (1237, 665)), 0.0], [((306, 409), (310, 440)), 0.0], [((441, 634), (472, 656)), 1.0], [((756, 517), (804, 558)), 0.0], [((963, 508), (985, 539)), 1.0], [((27, 553), (31, 584)), 0.0], [((135, 499), (139, 530)), 0.0], [((405, 400), (418, 431)), 0.0], [((603, 625), (634, 656)), 1.0], [((1215, 427), (1260, 458)), 0.0], [((333, 418), (364, 440)), 0.0], [((189, 490), (220, 494)), 1.0], [((756, 571), (787, 602)), 0.0], [((1224, 652), (1246, 683)), 0.0], [((1053, 409), (1057, 440)), 1.0], [((909, 427), (956, 463)), 0.0], [((837, 616), (868, 638)), 0.0], [((266, 661), (292, 672)), 1.0], [((63, 625), (103, 665)), 0.0], [((396, 454), (427, 485)), 1], [((576, 400), (598, 431)), 1], [((1098, 616), (1120, 647)), 1]]\n",
      "[[((0, 427), (31, 458)), 55.0], [((801, 400), (899, 482)), 663.0], [((1224, 438), (1273, 476)), 1558.0], [((738, 616), (760, 629)), 0.0], [((180, 508), (211, 539)), 1.0], [((801, 553), (832, 584)), 0.0], [((1179, 616), (1210, 620)), 0.0], [((585, 607), (616, 629)), 1.0], [((522, 607), (553, 629)), 1.0], [((1233, 652), (1237, 665)), 0.0], [((306, 409), (310, 440)), 0.0], [((441, 634), (472, 656)), 1.0], [((756, 517), (804, 558)), 0.0], [((963, 508), (985, 539)), 1.0], [((27, 553), (31, 584)), 0.0], [((135, 499), (139, 530)), 0.0], [((405, 400), (418, 431)), 0.0], [((603, 625), (634, 656)), 1.0], [((1215, 427), (1260, 458)), 0.0], [((333, 418), (364, 440)), 0.0], [((189, 490), (220, 494)), 1.0], [((756, 571), (787, 602)), 0.0], [((1224, 652), (1246, 683)), 0.0], [((1053, 409), (1057, 440)), 1.0], [((909, 427), (956, 463)), 0.0], [((837, 616), (868, 638)), 0.0], [((266, 661), (292, 672)), 1.0], [((63, 625), (103, 665)), 0.0], [((396, 454), (427, 485)), 1], [((576, 400), (598, 431)), 1], [((1098, 616), (1120, 647)), 1]]\n",
      "[[((0, 427), (31, 458)), 56.0], [((801, 400), (899, 482)), 664.0], [((1224, 438), (1273, 476)), 1556.0], [((738, 616), (760, 629)), 0.0], [((180, 508), (211, 539)), 1.0], [((801, 553), (832, 584)), 0.0], [((1179, 616), (1210, 620)), 0.0], [((585, 616), (616, 647)), 1.0], [((522, 607), (553, 629)), 1.0], [((1233, 652), (1237, 665)), 0.0], [((306, 409), (310, 440)), 0.0], [((441, 634), (472, 656)), 1.0], [((756, 517), (804, 558)), 0.0], [((963, 508), (985, 539)), 1.0], [((27, 553), (31, 584)), 0.0], [((135, 499), (139, 530)), 0.0], [((405, 400), (418, 431)), 0.0], [((603, 625), (634, 656)), 1.0], [((1215, 427), (1260, 458)), 0.0], [((333, 418), (364, 440)), 0.0], [((189, 490), (220, 494)), 1.0], [((756, 571), (787, 602)), 0.0], [((1224, 652), (1246, 683)), 0.0], [((1053, 409), (1057, 440)), 1.0], [((909, 427), (956, 463)), 0.0], [((837, 616), (868, 638)), 0.0], [((266, 661), (292, 672)), 1.0], [((63, 625), (103, 665)), 0.0], [((396, 454), (427, 485)), 1], [((576, 400), (598, 431)), 1], [((1098, 616), (1120, 647)), 1]]\n",
      "[[((9, 418), (31, 431)), 57.0], [((801, 400), (899, 482)), 665.0], [((1224, 438), (1273, 476)), 1554.0], [((738, 616), (760, 629)), 0.0], [((180, 508), (211, 539)), 1.0], [((801, 553), (832, 584)), 0.0], [((1179, 616), (1210, 620)), 0.0], [((585, 616), (616, 647)), 1.0], [((522, 607), (553, 629)), 1.0], [((1233, 652), (1237, 665)), 0.0], [((306, 409), (310, 440)), 0.0], [((441, 634), (472, 656)), 1.0], [((756, 517), (804, 558)), 0.0], [((963, 508), (985, 539)), 1.0], [((27, 553), (31, 584)), 0.0], [((135, 499), (139, 530)), 0.0], [((405, 400), (418, 431)), 0.0], [((603, 625), (634, 656)), 1.0], [((1215, 427), (1260, 458)), 0.0], [((333, 418), (364, 440)), 0.0], [((189, 490), (220, 494)), 1.0], [((756, 571), (787, 602)), 0.0], [((1224, 652), (1246, 683)), 0.0], [((1053, 409), (1057, 440)), 1.0], [((909, 427), (956, 463)), 0.0], [((837, 616), (868, 638)), 0.0], [((266, 661), (292, 672)), 1.0], [((63, 625), (103, 665)), 0.0], [((396, 454), (427, 485)), 1], [((576, 400), (598, 431)), 1], [((1098, 616), (1120, 647)), 1]]\n",
      "[[((126, 427), (157, 449)), 55.0], [((801, 400), (895, 482)), 666.0], [((1224, 438), (1273, 476)), 1552.0], [((738, 616), (760, 629)), 0.0], [((180, 508), (211, 539)), 1.0], [((801, 553), (832, 584)), 0.0], [((1179, 616), (1210, 620)), 0.0], [((585, 616), (616, 647)), 1.0], [((522, 607), (553, 629)), 1.0], [((1233, 652), (1237, 665)), 0.0], [((306, 409), (310, 440)), 0.0], [((441, 634), (472, 656)), 1.0], [((756, 517), (804, 558)), 0.0], [((963, 508), (985, 539)), 1.0], [((27, 553), (31, 584)), 0.0], [((135, 499), (139, 530)), 0.0], [((405, 400), (418, 431)), 0.0], [((603, 625), (634, 656)), 1.0], [((1215, 427), (1260, 458)), 0.0], [((333, 418), (364, 440)), 0.0], [((189, 490), (220, 494)), 1.0], [((756, 571), (787, 602)), 0.0], [((1224, 652), (1246, 683)), 0.0], [((1053, 409), (1057, 440)), 1.0], [((909, 427), (956, 463)), 0.0], [((837, 616), (868, 638)), 0.0], [((266, 661), (292, 672)), 1.0], [((63, 625), (103, 665)), 0.0], [((396, 454), (427, 485)), 1], [((576, 400), (598, 431)), 1], [((1098, 616), (1120, 647)), 1]]\n",
      "[[((126, 427), (157, 449)), 53.0], [((798, 400), (899, 482)), 667.0], [((1224, 438), (1273, 476)), 1550.0], [((738, 616), (760, 629)), 0.0], [((180, 508), (211, 539)), 1.0], [((801, 553), (832, 584)), 0.0], [((1179, 616), (1210, 620)), 0.0], [((585, 616), (616, 647)), 1.0], [((522, 607), (553, 629)), 1.0], [((1233, 652), (1237, 665)), 0.0], [((306, 409), (310, 440)), 0.0], [((441, 634), (472, 656)), 1.0], [((756, 517), (804, 558)), 0.0], [((963, 508), (985, 539)), 1.0], [((27, 553), (31, 584)), 0.0], [((135, 499), (139, 530)), 0.0], [((405, 400), (418, 431)), 0.0], [((603, 625), (634, 656)), 1.0], [((1215, 427), (1260, 458)), 0.0], [((333, 418), (364, 440)), 0.0], [((189, 490), (220, 494)), 1.0], [((756, 571), (787, 602)), 0.0], [((1224, 652), (1246, 683)), 0.0], [((1053, 409), (1057, 440)), 1.0], [((909, 427), (956, 463)), 0.0], [((837, 616), (868, 638)), 0.0], [((266, 661), (292, 672)), 1.0], [((63, 625), (103, 665)), 0.0], [((396, 454), (427, 485)), 1], [((576, 400), (598, 431)), 1], [((1098, 616), (1120, 647)), 1]]\n",
      "[[((126, 427), (157, 449)), 51.0], [((801, 400), (899, 482)), 668.0], [((1224, 438), (1273, 476)), 1548.0], [((738, 616), (760, 629)), 1.0], [((180, 508), (211, 539)), 1.0], [((801, 553), (832, 584)), 0.0], [((1179, 616), (1210, 620)), 0.0], [((585, 616), (616, 647)), 1.0], [((522, 607), (553, 629)), 1.0], [((1233, 652), (1237, 665)), 0.0], [((306, 409), (310, 440)), 0.0], [((441, 634), (472, 656)), 1.0], [((756, 517), (804, 558)), 0.0], [((963, 508), (985, 539)), 1.0], [((27, 553), (31, 584)), 0.0], [((135, 499), (139, 530)), 0.0], [((405, 400), (418, 431)), 0.0], [((603, 625), (634, 656)), 1.0], [((1215, 427), (1260, 458)), 0.0], [((333, 418), (364, 440)), 0.0], [((189, 490), (220, 494)), 1.0], [((756, 571), (787, 602)), 0.0], [((1224, 652), (1246, 683)), 0.0], [((1053, 409), (1057, 440)), 1.0], [((909, 427), (956, 463)), 0.0], [((837, 616), (868, 638)), 0.0], [((266, 661), (292, 672)), 1.0], [((63, 625), (103, 665)), 0.0], [((396, 454), (427, 485)), 1], [((576, 400), (598, 431)), 1], [((1098, 616), (1120, 647)), 1]]\n",
      "[[((126, 427), (157, 449)), 49.0], [((801, 400), (886, 482)), 669.0], [((1224, 438), (1273, 476)), 1546.0], [((846, 616), (850, 647)), 1.0], [((180, 508), (211, 539)), 1.0], [((801, 553), (832, 584)), 0.0], [((1179, 616), (1210, 620)), 0.0], [((585, 616), (616, 647)), 1.0], [((522, 607), (553, 629)), 1.0], [((1233, 652), (1237, 665)), 0.0], [((306, 409), (310, 440)), 0.0], [((441, 634), (472, 656)), 1.0], [((756, 517), (804, 558)), 0.0], [((963, 508), (985, 539)), 1.0], [((27, 553), (31, 584)), 0.0], [((135, 499), (139, 530)), 0.0], [((405, 400), (418, 431)), 0.0], [((603, 625), (634, 656)), 1.0], [((1215, 427), (1260, 458)), 0.0], [((333, 418), (364, 440)), 0.0], [((189, 490), (220, 494)), 1.0], [((756, 571), (787, 602)), 0.0], [((1224, 652), (1246, 683)), 0.0], [((1053, 409), (1057, 440)), 1.0], [((909, 427), (956, 463)), 0.0], [((837, 616), (868, 638)), 0.0], [((266, 661), (292, 672)), 1.0], [((63, 625), (103, 665)), 0.0], [((396, 454), (427, 485)), 1], [((576, 400), (598, 431)), 1], [((1098, 616), (1120, 647)), 1]]\n",
      "[[((126, 427), (157, 449)), 50.0], [((798, 400), (899, 482)), 670.0], [((1224, 438), (1273, 476)), 1544.0], [((846, 616), (850, 647)), 1.0], [((180, 508), (211, 539)), 1.0], [((801, 553), (832, 584)), 0.0], [((1179, 616), (1210, 620)), 0.0], [((585, 616), (616, 647)), 2.0], [((522, 607), (553, 629)), 1.0], [((1233, 652), (1237, 665)), 0.0], [((306, 409), (310, 440)), 0.0], [((441, 634), (472, 656)), 1.0], [((756, 517), (804, 558)), 0.0], [((963, 508), (985, 539)), 1.0], [((27, 553), (31, 584)), 0.0], [((135, 499), (139, 530)), 0.0], [((405, 400), (418, 431)), 0.0], [((603, 625), (634, 656)), 1.0], [((1215, 427), (1260, 458)), 0.0], [((333, 418), (364, 440)), 0.0], [((189, 490), (220, 494)), 1.0], [((756, 571), (787, 602)), 0.0], [((1224, 652), (1246, 683)), 0.0], [((1053, 409), (1057, 440)), 1.0], [((909, 427), (956, 463)), 0.0], [((837, 616), (868, 638)), 0.0], [((266, 661), (292, 672)), 1.0], [((63, 625), (103, 665)), 0.0], [((396, 454), (427, 485)), 1], [((576, 400), (598, 431)), 1], [((1098, 616), (1120, 647)), 1]]\n",
      "[[((144, 409), (175, 440)), 52.0], [((801, 400), (886, 476)), 671.0], [((1224, 438), (1273, 476)), 1542.0], [((846, 616), (850, 647)), 1.0], [((180, 508), (211, 539)), 1.0], [((801, 553), (832, 584)), 0.0], [((1179, 616), (1210, 620)), 0.0], [((693, 625), (697, 647)), 3.0], [((522, 607), (553, 629)), 1.0], [((1233, 652), (1237, 665)), 0.0], [((306, 409), (310, 440)), 0.0], [((441, 634), (472, 656)), 1.0], [((756, 517), (804, 558)), 0.0], [((963, 508), (985, 539)), 1.0], [((27, 553), (31, 584)), 0.0], [((135, 499), (139, 530)), 0.0], [((405, 400), (418, 431)), 0.0], [((603, 625), (634, 656)), 1.0], [((1215, 427), (1260, 458)), 0.0], [((333, 418), (364, 440)), 0.0], [((189, 490), (220, 494)), 1.0], [((756, 571), (787, 602)), 0.0], [((1224, 652), (1246, 683)), 0.0], [((1053, 409), (1057, 440)), 1.0], [((909, 427), (956, 463)), 0.0], [((837, 616), (868, 638)), 0.0], [((266, 661), (292, 672)), 1.0], [((63, 625), (103, 665)), 0.0], [((396, 454), (427, 485)), 1], [((576, 400), (598, 431)), 1], [((1098, 616), (1120, 647)), 1]]\n",
      "[[((54, 436), (85, 467)), 53.0], [((798, 400), (886, 482)), 672.0], [((1224, 438), (1273, 476)), 1540.0], [((846, 616), (850, 647)), 1.0], [((180, 508), (211, 539)), 1.0], [((801, 553), (832, 584)), 0.0], [((1179, 616), (1210, 620)), 0.0], [((666, 616), (697, 647)), 4.0], [((522, 607), (553, 629)), 1.0], [((1233, 652), (1237, 665)), 0.0], [((306, 409), (310, 440)), 0.0], [((441, 634), (472, 656)), 1.0], [((756, 517), (804, 558)), 0.0], [((963, 508), (985, 539)), 1.0], [((27, 553), (31, 584)), 0.0], [((135, 499), (139, 530)), 0.0], [((405, 400), (418, 431)), 0.0], [((603, 625), (634, 656)), 1.0], [((1215, 427), (1260, 458)), 0.0], [((333, 418), (364, 440)), 0.0], [((189, 490), (220, 494)), 1.0], [((756, 571), (787, 602)), 0.0], [((1224, 652), (1246, 683)), 0.0], [((1053, 409), (1057, 440)), 1.0], [((909, 427), (956, 463)), 0.0], [((837, 616), (868, 638)), 0.0], [((266, 661), (292, 672)), 1.0], [((63, 625), (103, 665)), 0.0], [((396, 454), (427, 485)), 1], [((576, 400), (598, 431)), 1], [((1098, 616), (1120, 647)), 1]]\n"
     ]
    },
    {
     "name": "stderr",
     "output_type": "stream",
     "text": [
      "\u001b[A\u001b[A\u001b[A\n",
      "\n",
      "\n",
      " 96%|█████████▋| 1096/1136 [04:09<00:02, 19.98it/s]\u001b[A\u001b[A\u001b[A\n",
      "\n",
      "\n",
      " 97%|█████████▋| 1103/1136 [04:09<00:01, 25.15it/s]"
     ]
    },
    {
     "name": "stdout",
     "output_type": "stream",
     "text": [
      "[[((126, 427), (148, 431)), 55.0], [((798, 400), (886, 482)), 673.0], [((1224, 438), (1273, 476)), 1538.0], [((846, 616), (850, 647)), 1.0], [((180, 508), (211, 539)), 1.0], [((801, 553), (832, 584)), 0.0], [((1179, 616), (1210, 620)), 0.0], [((666, 625), (697, 647)), 2.0], [((522, 607), (553, 629)), 1.0], [((1233, 652), (1237, 665)), 0.0], [((306, 409), (310, 440)), 0.0], [((441, 634), (472, 656)), 1.0], [((756, 517), (804, 558)), 0.0], [((963, 508), (985, 539)), 1.0], [((27, 553), (31, 584)), 0.0], [((135, 499), (139, 530)), 0.0], [((405, 400), (418, 431)), 0.0], [((603, 625), (634, 656)), 1.0], [((1215, 427), (1260, 458)), 0.0], [((333, 418), (364, 440)), 0.0], [((189, 490), (220, 494)), 1.0], [((756, 571), (787, 602)), 0.0], [((1224, 652), (1246, 683)), 0.0], [((1053, 409), (1057, 440)), 1.0], [((909, 427), (956, 463)), 0.0], [((837, 616), (868, 638)), 0.0], [((266, 661), (292, 672)), 1.0], [((63, 625), (103, 665)), 0.0], [((396, 454), (427, 485)), 1], [((576, 400), (598, 431)), 1], [((1098, 616), (1120, 647)), 1]]\n",
      "[[((27, 418), (58, 449)), 56.0], [((798, 400), (886, 482)), 674.0], [((1224, 438), (1273, 476)), 1536.0], [((846, 616), (850, 647)), 1.0], [((180, 508), (211, 539)), 1.0], [((801, 553), (832, 584)), 0.0], [((1179, 616), (1210, 620)), 0.0], [((666, 625), (697, 647)), 0.0], [((522, 607), (553, 629)), 1.0], [((1233, 652), (1237, 665)), 0.0], [((306, 409), (310, 440)), 0.0], [((441, 634), (472, 656)), 1.0], [((756, 517), (804, 558)), 0.0], [((963, 508), (985, 539)), 1.0], [((27, 553), (31, 584)), 0.0], [((135, 499), (139, 530)), 0.0], [((405, 400), (418, 431)), 0.0], [((603, 625), (634, 656)), 1.0], [((1215, 427), (1260, 458)), 0.0], [((333, 418), (364, 440)), 0.0], [((189, 490), (220, 494)), 1.0], [((756, 571), (787, 602)), 0.0], [((1224, 652), (1246, 683)), 0.0], [((1053, 409), (1057, 440)), 1.0], [((909, 427), (956, 463)), 0.0], [((837, 616), (868, 638)), 0.0], [((266, 661), (292, 672)), 1.0], [((63, 625), (103, 665)), 0.0], [((396, 454), (427, 485)), 1], [((576, 400), (598, 431)), 1], [((1098, 616), (1120, 647)), 1]]\n",
      "[[((108, 409), (139, 440)), 57.0], [((798, 400), (886, 482)), 675.0], [((1224, 438), (1273, 476)), 1534.0], [((846, 616), (850, 647)), 1.0], [((180, 508), (211, 539)), 1.0], [((801, 553), (832, 584)), 0.0], [((1179, 616), (1210, 620)), 0.0], [((666, 625), (697, 647)), 0.0], [((522, 607), (553, 629)), 1.0], [((1233, 652), (1237, 665)), 0.0], [((306, 409), (310, 440)), 0.0], [((441, 634), (472, 656)), 1.0], [((756, 517), (804, 558)), 0.0], [((963, 508), (985, 539)), 1.0], [((27, 553), (31, 584)), 0.0], [((135, 499), (139, 530)), 0.0], [((405, 400), (418, 431)), 0.0], [((603, 625), (634, 656)), 1.0], [((1215, 427), (1260, 458)), 0.0], [((333, 418), (364, 440)), 0.0], [((189, 490), (220, 494)), 1.0], [((756, 571), (787, 602)), 0.0], [((1224, 652), (1246, 683)), 0.0], [((1053, 409), (1057, 440)), 1.0], [((909, 427), (956, 463)), 0.0], [((837, 616), (868, 638)), 0.0], [((266, 661), (292, 672)), 1.0], [((63, 625), (103, 665)), 0.0], [((396, 454), (427, 485)), 1], [((576, 400), (598, 431)), 1], [((1098, 616), (1120, 647)), 1]]\n",
      "[[((54, 436), (85, 449)), 55.0], [((798, 400), (899, 482)), 676.0], [((1224, 438), (1273, 476)), 1532.0], [((846, 616), (850, 647)), 1.0], [((180, 508), (211, 539)), 1.0], [((801, 553), (832, 584)), 0.0], [((1179, 616), (1210, 620)), 0.0], [((666, 625), (697, 647)), 2.0], [((522, 607), (553, 629)), 1.0], [((1233, 652), (1237, 665)), 0.0], [((306, 409), (310, 440)), 0.0], [((441, 634), (472, 656)), 1.0], [((756, 517), (804, 558)), 0.0], [((963, 508), (985, 539)), 1.0], [((27, 553), (31, 584)), 0.0], [((135, 499), (139, 530)), 0.0], [((405, 400), (418, 431)), 0.0], [((603, 625), (634, 656)), 1.0], [((1215, 427), (1260, 458)), 0.0], [((333, 418), (364, 440)), 0.0], [((189, 490), (220, 494)), 1.0], [((756, 571), (787, 602)), 0.0], [((1224, 652), (1246, 683)), 0.0], [((1053, 409), (1057, 440)), 1.0], [((909, 427), (956, 463)), 0.0], [((837, 616), (868, 638)), 0.0], [((266, 661), (292, 672)), 1.0], [((63, 625), (103, 665)), 0.0], [((396, 454), (427, 485)), 1], [((576, 400), (598, 431)), 1], [((1098, 616), (1120, 647)), 1]]\n",
      "[[((54, 436), (85, 449)), 53.0], [((798, 400), (899, 482)), 677.0], [((1224, 438), (1273, 476)), 1530.0], [((846, 616), (850, 647)), 2.0], [((180, 508), (211, 539)), 2.0], [((801, 553), (832, 584)), 0.0], [((1179, 616), (1210, 620)), 0.0], [((585, 625), (616, 647)), 0.0], [((522, 607), (553, 629)), 1.0], [((1233, 652), (1237, 665)), 0.0], [((306, 409), (310, 440)), 0.0], [((441, 634), (472, 656)), 1.0], [((756, 517), (804, 558)), 0.0], [((963, 508), (985, 539)), 1.0], [((27, 553), (31, 584)), 0.0], [((135, 499), (139, 530)), 0.0], [((405, 400), (418, 431)), 0.0], [((603, 625), (634, 656)), 1.0], [((1215, 427), (1260, 458)), 0.0], [((333, 418), (364, 440)), 0.0], [((189, 490), (220, 494)), 1.0], [((756, 571), (787, 602)), 0.0], [((1224, 652), (1246, 683)), 0.0], [((1053, 409), (1057, 440)), 1.0], [((909, 427), (956, 463)), 0.0], [((837, 616), (868, 638)), 0.0], [((266, 661), (292, 672)), 1.0], [((63, 625), (103, 665)), 0.0], [((396, 454), (427, 485)), 1], [((576, 400), (598, 431)), 1], [((1098, 616), (1120, 647)), 1]]\n",
      "[[((54, 436), (85, 449)), 55.0], [((798, 400), (886, 482)), 678.0], [((1224, 438), (1273, 476)), 1528.0], [((756, 607), (778, 620)), 0.0], [((243, 481), (274, 503)), 0.0], [((801, 553), (832, 584)), 1.0], [((1179, 616), (1210, 620)), 0.0], [((585, 625), (616, 647)), 0.0], [((522, 607), (553, 629)), 1.0], [((1233, 652), (1237, 665)), 0.0], [((306, 409), (310, 440)), 0.0], [((441, 634), (472, 656)), 1.0], [((756, 517), (804, 558)), 0.0], [((963, 508), (985, 539)), 1.0], [((27, 553), (31, 584)), 0.0], [((135, 499), (139, 530)), 0.0], [((405, 400), (418, 431)), 0.0], [((603, 625), (634, 656)), 1.0], [((1215, 427), (1260, 458)), 0.0], [((333, 418), (364, 440)), 0.0], [((189, 490), (220, 494)), 1.0], [((756, 571), (787, 602)), 0.0], [((1224, 652), (1246, 683)), 0.0], [((1053, 409), (1057, 440)), 1.0], [((909, 427), (956, 463)), 0.0], [((837, 616), (868, 638)), 0.0], [((266, 661), (292, 672)), 1.0], [((63, 625), (103, 665)), 0.0], [((396, 454), (427, 485)), 1], [((576, 400), (598, 431)), 1], [((1098, 616), (1120, 647)), 1]]\n",
      "[[((9, 427), (40, 458)), 56.0], [((798, 400), (880, 482)), 679.0], [((1224, 438), (1273, 476)), 1526.0], [((756, 607), (778, 620)), 0.0], [((243, 481), (274, 503)), 0.0], [((891, 571), (904, 584)), 1.0], [((1179, 616), (1210, 620)), 0.0], [((585, 625), (616, 647)), 0.0], [((522, 607), (553, 629)), 1.0], [((1233, 652), (1237, 665)), 0.0], [((306, 409), (310, 440)), 0.0], [((441, 634), (472, 656)), 1.0], [((756, 517), (804, 558)), 0.0], [((963, 508), (985, 539)), 1.0], [((27, 553), (31, 584)), 0.0], [((135, 499), (139, 530)), 0.0], [((405, 400), (418, 431)), 0.0], [((603, 625), (634, 656)), 1.0], [((1215, 427), (1260, 458)), 0.0], [((333, 418), (364, 440)), 0.0], [((189, 490), (220, 494)), 1.0], [((756, 571), (787, 602)), 0.0], [((1224, 652), (1246, 683)), 0.0], [((1053, 409), (1057, 440)), 1.0], [((909, 427), (956, 463)), 0.0], [((837, 616), (868, 638)), 0.0], [((266, 661), (292, 672)), 1.0], [((63, 625), (103, 665)), 0.0], [((396, 454), (427, 485)), 1], [((576, 400), (598, 431)), 1], [((1098, 616), (1120, 647)), 1]]\n",
      "[[((45, 409), (76, 440)), 54.0], [((801, 418), (880, 476)), 680.0], [((1224, 438), (1273, 476)), 1524.0], [((756, 607), (778, 620)), 0.0], [((243, 481), (274, 503)), 0.0], [((891, 571), (904, 584)), 1.0], [((1179, 616), (1210, 620)), 0.0], [((585, 625), (616, 647)), 0.0], [((522, 607), (553, 629)), 1.0], [((1233, 652), (1237, 665)), 0.0], [((306, 409), (310, 440)), 0.0], [((441, 634), (472, 656)), 1.0], [((756, 517), (804, 558)), 0.0], [((963, 508), (985, 539)), 1.0], [((27, 553), (31, 584)), 0.0], [((135, 499), (139, 530)), 0.0], [((405, 400), (418, 431)), 0.0], [((603, 625), (634, 656)), 1.0], [((1215, 427), (1260, 458)), 0.0], [((333, 418), (364, 440)), 0.0], [((189, 490), (220, 494)), 1.0], [((756, 571), (787, 602)), 0.0], [((1224, 652), (1246, 683)), 0.0], [((1053, 409), (1057, 440)), 1.0], [((909, 427), (956, 463)), 0.0], [((837, 616), (868, 638)), 0.0], [((266, 661), (292, 672)), 1.0], [((63, 625), (103, 665)), 0.0], [((396, 454), (427, 485)), 1], [((576, 400), (598, 431)), 1], [((1098, 616), (1120, 647)), 1]]\n",
      "[[((45, 409), (76, 440)), 55.0], [((798, 418), (880, 482)), 681.0], [((1224, 438), (1273, 476)), 1522.0], [((756, 607), (778, 620)), 0.0], [((243, 481), (274, 503)), 0.0], [((891, 571), (904, 584)), 1.0], [((1179, 616), (1210, 620)), 0.0], [((585, 625), (616, 647)), 0.0], [((522, 607), (553, 629)), 1.0], [((1233, 652), (1237, 665)), 0.0], [((306, 409), (310, 440)), 0.0], [((441, 634), (472, 656)), 1.0], [((756, 517), (804, 558)), 0.0], [((963, 508), (985, 539)), 1.0], [((27, 553), (31, 584)), 0.0], [((135, 499), (139, 530)), 0.0], [((405, 400), (418, 431)), 0.0], [((603, 625), (634, 656)), 1.0], [((1215, 427), (1260, 458)), 0.0], [((333, 418), (364, 440)), 0.0], [((189, 490), (220, 494)), 1.0], [((756, 571), (787, 602)), 0.0], [((1224, 652), (1246, 683)), 0.0], [((1053, 409), (1057, 440)), 1.0], [((909, 427), (956, 463)), 0.0], [((837, 616), (868, 638)), 0.0], [((266, 661), (292, 672)), 1.0], [((63, 625), (103, 665)), 0.0], [((396, 454), (427, 485)), 1], [((576, 400), (598, 431)), 1], [((1098, 616), (1120, 647)), 1]]\n",
      "[[((18, 409), (49, 431)), 56.0], [((798, 400), (880, 482)), 682.0], [((1224, 438), (1273, 476)), 1520.0], [((756, 607), (778, 620)), 0.0], [((243, 481), (274, 503)), 1.0], [((891, 571), (904, 584)), 1.0], [((1179, 616), (1210, 620)), 0.0], [((585, 625), (616, 647)), 0.0], [((522, 607), (553, 629)), 1.0], [((1233, 652), (1237, 665)), 0.0], [((306, 409), (310, 440)), 0.0], [((441, 634), (472, 656)), 1.0], [((756, 517), (804, 558)), 0.0], [((963, 508), (985, 539)), 1.0], [((27, 553), (31, 584)), 0.0], [((135, 499), (139, 530)), 0.0], [((405, 400), (418, 431)), 0.0], [((603, 625), (634, 656)), 1.0], [((1215, 427), (1260, 458)), 0.0], [((333, 418), (364, 440)), 0.0], [((189, 490), (220, 494)), 1.0], [((756, 571), (787, 602)), 0.0], [((1224, 652), (1246, 683)), 0.0], [((1053, 409), (1057, 440)), 1.0], [((909, 427), (956, 463)), 0.0], [((837, 616), (868, 638)), 0.0], [((266, 661), (292, 672)), 1.0], [((63, 625), (103, 665)), 0.0], [((396, 454), (427, 485)), 1], [((576, 400), (598, 431)), 1], [((1098, 616), (1120, 647)), 1]]\n"
     ]
    },
    {
     "name": "stderr",
     "output_type": "stream",
     "text": [
      "\u001b[A\u001b[A\u001b[A\n",
      "\n",
      "\n",
      " 98%|█████████▊| 1110/1136 [04:09<00:00, 30.86it/s]\u001b[A\u001b[A\u001b[A\n",
      "\n",
      "\n",
      " 98%|█████████▊| 1116/1136 [04:09<00:00, 35.09it/s]"
     ]
    },
    {
     "name": "stdout",
     "output_type": "stream",
     "text": [
      "[[((9, 418), (31, 431)), 54.0], [((798, 400), (877, 482)), 683.0], [((1224, 438), (1273, 476)), 1518.0], [((756, 607), (778, 620)), 0.0], [((243, 418), (274, 440)), 1.0], [((891, 571), (904, 584)), 1.0], [((1179, 616), (1210, 620)), 0.0], [((585, 625), (616, 647)), 0.0], [((522, 607), (553, 629)), 1.0], [((1233, 652), (1237, 665)), 0.0], [((306, 409), (310, 440)), 0.0], [((441, 634), (472, 656)), 1.0], [((756, 517), (804, 558)), 0.0], [((963, 508), (985, 539)), 1.0], [((27, 553), (31, 584)), 0.0], [((135, 499), (139, 530)), 0.0], [((405, 400), (418, 431)), 0.0], [((603, 625), (634, 656)), 1.0], [((1215, 427), (1260, 458)), 0.0], [((333, 418), (364, 440)), 0.0], [((189, 490), (220, 494)), 1.0], [((756, 571), (787, 602)), 0.0], [((1224, 652), (1246, 683)), 0.0], [((1053, 409), (1057, 440)), 1.0], [((909, 427), (956, 463)), 0.0], [((837, 616), (868, 638)), 0.0], [((266, 661), (292, 672)), 1.0], [((63, 625), (103, 665)), 0.0], [((396, 454), (427, 485)), 1], [((576, 400), (598, 431)), 1], [((1098, 616), (1120, 647)), 1]]\n",
      "[[((9, 418), (31, 431)), 52.0], [((792, 400), (868, 476)), 684.0], [((1224, 438), (1273, 476)), 1516.0], [((756, 607), (778, 620)), 0.0], [((243, 418), (274, 440)), 2.0], [((891, 571), (904, 584)), 1.0], [((1179, 616), (1210, 620)), 0.0], [((585, 625), (616, 647)), 0.0], [((522, 607), (553, 629)), 1.0], [((1233, 652), (1237, 665)), 0.0], [((306, 409), (310, 440)), 0.0], [((441, 634), (472, 656)), 1.0], [((756, 517), (804, 558)), 0.0], [((963, 508), (985, 539)), 1.0], [((27, 553), (31, 584)), 0.0], [((135, 499), (139, 530)), 0.0], [((405, 400), (418, 431)), 0.0], [((603, 625), (634, 656)), 1.0], [((1215, 427), (1260, 458)), 0.0], [((333, 418), (364, 440)), 0.0], [((189, 490), (220, 494)), 1.0], [((756, 571), (787, 602)), 0.0], [((1224, 652), (1246, 683)), 0.0], [((1053, 409), (1057, 440)), 1.0], [((909, 427), (956, 463)), 0.0], [((837, 616), (868, 638)), 0.0], [((266, 661), (292, 672)), 1.0], [((63, 625), (103, 665)), 0.0], [((396, 454), (427, 485)), 1], [((576, 400), (598, 431)), 1], [((1098, 616), (1120, 647)), 1]]\n",
      "[[((9, 418), (31, 431)), 53.0], [((792, 400), (880, 476)), 685.0], [((1224, 438), (1273, 476)), 1514.0], [((756, 607), (778, 620)), 0.0], [((207, 499), (229, 503)), 0.0], [((891, 571), (904, 584)), 1.0], [((1179, 616), (1210, 620)), 0.0], [((585, 625), (616, 647)), 0.0], [((522, 607), (553, 629)), 1.0], [((1233, 652), (1237, 665)), 0.0], [((306, 409), (310, 440)), 0.0], [((441, 634), (472, 656)), 1.0], [((756, 517), (804, 558)), 0.0], [((963, 508), (985, 539)), 1.0], [((27, 553), (31, 584)), 1.0], [((135, 499), (139, 530)), 0.0], [((405, 400), (418, 431)), 0.0], [((603, 625), (634, 656)), 1.0], [((1215, 427), (1260, 458)), 0.0], [((333, 418), (364, 440)), 0.0], [((189, 490), (220, 494)), 1.0], [((756, 571), (787, 602)), 0.0], [((1224, 652), (1246, 683)), 0.0], [((1053, 409), (1057, 440)), 1.0], [((909, 427), (956, 463)), 0.0], [((837, 616), (868, 638)), 0.0], [((266, 661), (292, 672)), 1.0], [((63, 625), (103, 665)), 0.0], [((396, 454), (427, 485)), 1], [((576, 400), (598, 431)), 1], [((1098, 616), (1120, 647)), 1]]\n",
      "[[((27, 418), (49, 449)), 51.0], [((792, 400), (880, 482)), 686.0], [((1224, 438), (1273, 476)), 1512.0], [((756, 607), (778, 620)), 0.0], [((207, 499), (229, 503)), 0.0], [((891, 571), (904, 584)), 1.0], [((1179, 616), (1210, 620)), 0.0], [((585, 625), (616, 647)), 0.0], [((522, 607), (553, 629)), 1.0], [((1233, 652), (1237, 665)), 0.0], [((306, 409), (310, 440)), 0.0], [((441, 634), (472, 656)), 1.0], [((756, 517), (804, 558)), 0.0], [((963, 508), (985, 539)), 1.0], [((72, 508), (112, 548)), 1.0], [((135, 499), (139, 530)), 0.0], [((405, 400), (418, 431)), 0.0], [((603, 625), (634, 656)), 1.0], [((1215, 427), (1260, 458)), 0.0], [((333, 418), (364, 440)), 0.0], [((189, 490), (220, 494)), 1.0], [((756, 571), (787, 602)), 0.0], [((1224, 652), (1246, 683)), 0.0], [((1053, 409), (1057, 440)), 1.0], [((909, 427), (956, 463)), 0.0], [((837, 616), (868, 638)), 0.0], [((266, 661), (292, 672)), 1.0], [((63, 625), (103, 665)), 0.0], [((396, 454), (427, 485)), 1], [((576, 400), (598, 431)), 1], [((1098, 616), (1120, 647)), 1]]\n",
      "[[((27, 418), (49, 449)), 49.0], [((798, 418), (861, 476)), 687.0], [((1224, 438), (1273, 476)), 1510.0], [((756, 607), (778, 620)), 0.0], [((207, 499), (229, 503)), 0.0], [((891, 571), (904, 584)), 1.0], [((1179, 616), (1210, 620)), 0.0], [((585, 625), (616, 647)), 0.0], [((522, 607), (553, 629)), 1.0], [((1233, 652), (1237, 665)), 0.0], [((306, 409), (310, 440)), 0.0], [((441, 634), (472, 656)), 1.0], [((756, 517), (804, 558)), 0.0], [((963, 508), (985, 539)), 1.0], [((72, 508), (112, 548)), 1.0], [((135, 499), (139, 530)), 0.0], [((405, 400), (418, 431)), 0.0], [((603, 625), (634, 656)), 1.0], [((1215, 427), (1260, 458)), 0.0], [((333, 418), (364, 440)), 0.0], [((189, 490), (220, 494)), 1.0], [((756, 571), (787, 602)), 0.0], [((1224, 652), (1246, 683)), 0.0], [((1053, 409), (1057, 440)), 1.0], [((909, 427), (956, 463)), 0.0], [((837, 616), (868, 638)), 0.0], [((266, 661), (292, 672)), 1.0], [((63, 625), (103, 665)), 0.0], [((396, 454), (427, 485)), 1], [((576, 400), (598, 431)), 1], [((1098, 616), (1120, 647)), 1]]\n",
      "[[((27, 418), (49, 449)), 50.0], [((792, 400), (880, 476)), 688.0], [((1224, 438), (1273, 476)), 1508.0], [((756, 607), (778, 620)), 0.0], [((207, 499), (229, 503)), 0.0], [((891, 571), (904, 584)), 1.0], [((1179, 616), (1210, 620)), 0.0], [((585, 625), (616, 647)), 0.0], [((522, 607), (553, 629)), 1.0], [((1233, 652), (1237, 665)), 0.0], [((306, 409), (310, 440)), 0.0], [((441, 634), (472, 656)), 1.0], [((756, 517), (804, 558)), 0.0], [((963, 508), (985, 539)), 1.0], [((72, 508), (112, 548)), 1.0], [((135, 499), (139, 530)), 0.0], [((405, 400), (418, 431)), 0.0], [((603, 625), (634, 656)), 1.0], [((1215, 427), (1260, 458)), 0.0], [((333, 418), (364, 440)), 0.0], [((189, 490), (220, 494)), 1.0], [((756, 571), (787, 602)), 0.0], [((1224, 652), (1246, 683)), 0.0], [((1053, 409), (1057, 440)), 1.0], [((909, 427), (956, 463)), 0.0], [((837, 616), (868, 638)), 0.0], [((266, 661), (292, 672)), 1.0], [((63, 625), (103, 665)), 0.0], [((396, 454), (427, 485)), 1], [((576, 400), (598, 431)), 1], [((1098, 616), (1120, 647)), 1]]\n",
      "[[((27, 499), (58, 521)), 48.0], [((792, 418), (868, 476)), 689.0], [((1224, 438), (1273, 476)), 1506.0], [((756, 607), (778, 620)), 0.0], [((207, 499), (229, 503)), 0.0], [((891, 571), (904, 584)), 1.0], [((1179, 616), (1210, 620)), 0.0], [((585, 625), (616, 647)), 0.0], [((522, 607), (553, 629)), 1.0], [((1233, 652), (1237, 665)), 0.0], [((306, 409), (310, 440)), 0.0], [((441, 634), (472, 656)), 1.0], [((756, 517), (804, 558)), 0.0], [((963, 508), (985, 539)), 1.0], [((72, 508), (112, 548)), 1.0], [((135, 499), (139, 530)), 0.0], [((405, 400), (418, 431)), 0.0], [((603, 625), (634, 656)), 1.0], [((1215, 427), (1260, 458)), 0.0], [((333, 418), (364, 440)), 0.0], [((189, 490), (220, 494)), 1.0], [((756, 571), (787, 602)), 0.0], [((1224, 652), (1246, 683)), 0.0], [((1053, 409), (1057, 440)), 1.0], [((909, 427), (956, 463)), 0.0], [((837, 616), (868, 638)), 0.0], [((266, 661), (292, 672)), 1.0], [((63, 625), (103, 665)), 0.0], [((396, 454), (427, 485)), 1], [((576, 400), (598, 431)), 1], [((1098, 616), (1120, 647)), 1]]\n",
      "[[((27, 499), (58, 521)), 46.0], [((792, 400), (877, 463)), 690.0], [((1224, 438), (1273, 476)), 1504.0], [((756, 607), (778, 620)), 0.0], [((207, 499), (229, 503)), 1.0], [((891, 571), (904, 584)), 1.0], [((1179, 616), (1210, 620)), 0.0], [((585, 625), (616, 647)), 0.0], [((522, 607), (553, 629)), 1.0], [((1233, 652), (1237, 665)), 0.0], [((306, 409), (310, 440)), 0.0], [((441, 634), (472, 656)), 1.0], [((756, 517), (804, 558)), 0.0], [((963, 508), (985, 539)), 1.0], [((72, 508), (112, 548)), 1.0], [((135, 499), (139, 530)), 0.0], [((405, 400), (418, 431)), 0.0], [((603, 625), (634, 656)), 1.0], [((1215, 427), (1260, 458)), 0.0], [((333, 418), (364, 440)), 0.0], [((189, 490), (220, 494)), 1.0], [((756, 571), (787, 602)), 0.0], [((1224, 652), (1246, 683)), 0.0], [((1053, 409), (1057, 440)), 1.0], [((909, 427), (956, 463)), 0.0], [((837, 616), (868, 638)), 0.0], [((266, 661), (292, 672)), 1.0], [((63, 625), (103, 665)), 0.0], [((396, 454), (427, 485)), 1], [((576, 400), (598, 431)), 1], [((1098, 616), (1120, 647)), 1]]\n",
      "[[((27, 499), (58, 521)), 44.0], [((783, 400), (868, 482)), 691.0], [((1224, 438), (1273, 476)), 1502.0], [((756, 607), (778, 620)), 0.0], [((180, 409), (211, 431)), 1.0], [((891, 571), (904, 584)), 1.0], [((1179, 616), (1210, 620)), 0.0], [((585, 625), (616, 647)), 0.0], [((522, 607), (553, 629)), 1.0], [((1233, 652), (1237, 665)), 0.0], [((306, 409), (310, 440)), 0.0], [((441, 634), (472, 656)), 1.0], [((756, 517), (804, 558)), 0.0], [((963, 508), (985, 539)), 1.0], [((72, 508), (112, 548)), 1.0], [((135, 499), (139, 530)), 0.0], [((405, 400), (418, 431)), 0.0], [((603, 625), (634, 656)), 1.0], [((1215, 427), (1260, 458)), 0.0], [((333, 418), (364, 440)), 0.0], [((189, 490), (220, 494)), 1.0], [((756, 571), (787, 602)), 0.0], [((1224, 652), (1246, 683)), 0.0], [((1053, 409), (1057, 440)), 1.0], [((909, 427), (956, 463)), 0.0], [((837, 616), (868, 638)), 0.0], [((266, 661), (292, 672)), 1.0], [((63, 625), (103, 665)), 0.0], [((396, 454), (427, 485)), 1], [((576, 400), (598, 431)), 1], [((1098, 616), (1120, 647)), 1]]\n",
      "[[((27, 499), (58, 521)), 42.0], [((798, 400), (868, 476)), 692.0], [((1224, 438), (1273, 476)), 1500.0], [((756, 607), (778, 620)), 0.0], [((180, 409), (211, 431)), 1.0], [((891, 571), (904, 584)), 2.0], [((1179, 616), (1210, 620)), 0.0], [((585, 625), (616, 647)), 0.0], [((522, 607), (553, 629)), 1.0], [((1233, 652), (1237, 665)), 0.0], [((306, 409), (310, 440)), 0.0], [((441, 634), (472, 656)), 1.0], [((756, 517), (804, 558)), 0.0], [((963, 508), (985, 539)), 1.0], [((72, 508), (112, 548)), 1.0], [((135, 499), (139, 530)), 0.0], [((405, 400), (418, 431)), 0.0], [((603, 625), (634, 656)), 1.0], [((1215, 427), (1260, 458)), 0.0], [((333, 418), (364, 440)), 0.0], [((189, 490), (220, 494)), 1.0], [((756, 571), (787, 602)), 0.0], [((1224, 652), (1246, 683)), 0.0], [((1053, 409), (1057, 440)), 1.0], [((909, 427), (956, 463)), 0.0], [((837, 616), (868, 638)), 0.0], [((266, 661), (292, 672)), 1.0], [((63, 625), (103, 665)), 0.0], [((396, 454), (427, 485)), 1], [((576, 400), (598, 431)), 1], [((1098, 616), (1120, 647)), 1]]\n",
      "[[((27, 499), (58, 521)), 40.0], [((783, 400), (868, 482)), 693.0], [((1224, 438), (1273, 476)), 1498.0], [((756, 607), (778, 620)), 0.0], [((180, 409), (211, 431)), 1.0], [((891, 625), (922, 647)), 0.0], [((1179, 616), (1210, 620)), 0.0], [((585, 625), (616, 647)), 0.0], [((522, 607), (553, 629)), 1.0], [((1233, 652), (1237, 665)), 0.0], [((306, 409), (310, 440)), 0.0], [((441, 634), (472, 656)), 1.0], [((756, 517), (804, 558)), 0.0], [((963, 508), (985, 539)), 1.0], [((72, 508), (112, 548)), 1.0], [((135, 499), (139, 530)), 0.0], [((405, 400), (418, 431)), 0.0], [((603, 625), (634, 656)), 1.0], [((1215, 427), (1260, 458)), 0.0], [((333, 418), (364, 440)), 0.0], [((189, 490), (220, 494)), 1.0], [((756, 571), (787, 602)), 0.0], [((1224, 652), (1246, 683)), 0.0], [((1053, 409), (1057, 440)), 1.0], [((909, 427), (956, 463)), 0.0], [((837, 616), (868, 638)), 0.0], [((266, 661), (292, 672)), 1.0], [((63, 625), (103, 665)), 0.0], [((396, 454), (427, 485)), 1], [((576, 400), (598, 431)), 1], [((1098, 616), (1120, 647)), 1]]\n",
      "[[((27, 499), (58, 521)), 38.0], [((783, 400), (868, 476)), 694.0], [((1224, 438), (1273, 476)), 1496.0], [((756, 607), (778, 620)), 0.0], [((180, 409), (211, 431)), 1.0], [((891, 625), (922, 647)), 0.0], [((1179, 616), (1210, 620)), 0.0], [((585, 625), (616, 647)), 0.0], [((522, 607), (553, 629)), 1.0], [((1233, 652), (1237, 665)), 0.0], [((306, 409), (310, 440)), 0.0], [((441, 634), (472, 656)), 1.0], [((756, 517), (804, 558)), 0.0], [((963, 508), (985, 539)), 1.0], [((72, 508), (112, 548)), 1.0], [((135, 499), (139, 530)), 0.0], [((405, 400), (418, 431)), 0.0], [((603, 625), (634, 656)), 1.0], [((1215, 427), (1260, 458)), 0.0], [((333, 418), (364, 440)), 0.0], [((189, 490), (220, 494)), 1.0], [((756, 571), (787, 602)), 0.0], [((1224, 652), (1246, 683)), 0.0], [((1053, 409), (1057, 440)), 1.0], [((909, 427), (956, 463)), 0.0], [((837, 616), (868, 638)), 0.0], [((266, 661), (292, 672)), 1.0], [((63, 625), (103, 665)), 0.0], [((396, 454), (427, 485)), 1], [((576, 400), (598, 431)), 1], [((1098, 616), (1120, 647)), 1]]\n",
      "[[((27, 499), (58, 521)), 36.0], [((783, 400), (868, 476)), 695.0], [((1224, 438), (1273, 476)), 1494.0], [((756, 607), (778, 620)), 0.0], [((180, 409), (211, 431)), 1.0], [((891, 625), (922, 647)), 0.0], [((1179, 616), (1210, 620)), 0.0], [((585, 625), (616, 647)), 0.0], [((522, 607), (553, 629)), 1.0], [((1233, 652), (1237, 665)), 0.0], [((306, 409), (310, 440)), 0.0], [((441, 634), (472, 656)), 1.0], [((756, 517), (804, 558)), 0.0], [((963, 508), (985, 539)), 1.0], [((72, 508), (112, 548)), 1.0], [((135, 499), (139, 530)), 0.0], [((405, 400), (418, 431)), 0.0], [((603, 625), (634, 656)), 1.0], [((1215, 427), (1260, 458)), 0.0], [((333, 418), (364, 440)), 0.0], [((189, 490), (220, 494)), 1.0], [((756, 571), (787, 602)), 0.0], [((1224, 652), (1246, 683)), 0.0], [((1053, 409), (1057, 440)), 1.0], [((909, 427), (956, 463)), 0.0], [((837, 616), (868, 638)), 0.0], [((266, 661), (292, 672)), 1.0], [((63, 625), (103, 665)), 0.0], [((396, 454), (427, 485)), 1], [((576, 400), (598, 431)), 1], [((1098, 616), (1120, 647)), 1]]\n"
     ]
    },
    {
     "name": "stderr",
     "output_type": "stream",
     "text": [
      "\u001b[A\u001b[A\u001b[A\n",
      "\n",
      "\n",
      " 99%|█████████▉| 1123/1136 [04:09<00:00, 41.16it/s]\u001b[A\u001b[A\u001b[A\n",
      "\n",
      "\n",
      " 99%|█████████▉| 1129/1136 [04:09<00:00, 45.27it/s]"
     ]
    },
    {
     "name": "stdout",
     "output_type": "stream",
     "text": [
      "[[((27, 499), (58, 521)), 34.0], [((783, 400), (868, 482)), 696.0], [((1224, 438), (1273, 476)), 1492.0], [((756, 607), (778, 620)), 0.0], [((180, 409), (211, 431)), 2.0], [((891, 625), (922, 647)), 0.0], [((1179, 616), (1210, 620)), 0.0], [((585, 625), (616, 647)), 0.0], [((522, 607), (553, 629)), 1.0], [((1233, 652), (1237, 665)), 0.0], [((306, 409), (310, 440)), 0.0], [((441, 634), (472, 656)), 1.0], [((756, 517), (804, 558)), 0.0], [((963, 508), (985, 539)), 1.0], [((72, 508), (112, 548)), 1.0], [((135, 499), (139, 530)), 0.0], [((405, 400), (418, 431)), 0.0], [((603, 625), (634, 656)), 1.0], [((1215, 427), (1260, 458)), 0.0], [((333, 418), (364, 440)), 0.0], [((189, 490), (220, 494)), 1.0], [((756, 571), (787, 602)), 0.0], [((1224, 652), (1246, 683)), 0.0], [((1053, 409), (1057, 440)), 1.0], [((909, 427), (956, 463)), 0.0], [((837, 616), (868, 638)), 0.0], [((266, 661), (292, 672)), 1.0], [((63, 625), (103, 665)), 0.0], [((396, 454), (427, 485)), 1], [((576, 400), (598, 431)), 1], [((1098, 616), (1120, 647)), 1]]\n",
      "[[((27, 499), (58, 521)), 32.0], [((783, 400), (861, 476)), 697.0], [((1224, 438), (1273, 476)), 1490.0], [((756, 607), (778, 620)), 1.0], [((126, 409), (157, 431)), 3.0], [((891, 625), (922, 647)), 0.0], [((1179, 616), (1210, 620)), 0.0], [((585, 625), (616, 647)), 0.0], [((522, 607), (553, 629)), 1.0], [((1233, 652), (1237, 665)), 0.0], [((306, 409), (310, 440)), 0.0], [((441, 634), (472, 656)), 1.0], [((756, 517), (804, 558)), 0.0], [((963, 508), (985, 539)), 1.0], [((72, 508), (112, 548)), 1.0], [((135, 499), (139, 530)), 0.0], [((405, 400), (418, 431)), 0.0], [((603, 625), (634, 656)), 1.0], [((1215, 427), (1260, 458)), 0.0], [((333, 418), (364, 440)), 0.0], [((189, 490), (220, 494)), 1.0], [((756, 571), (787, 602)), 0.0], [((1224, 652), (1246, 683)), 0.0], [((1053, 409), (1057, 440)), 1.0], [((909, 427), (956, 463)), 0.0], [((837, 616), (868, 638)), 0.0], [((266, 661), (292, 672)), 1.0], [((63, 625), (103, 665)), 0.0], [((396, 454), (427, 485)), 1], [((576, 400), (598, 431)), 1], [((1098, 616), (1120, 647)), 1]]\n",
      "[[((27, 499), (58, 521)), 30.0], [((779, 418), (861, 482)), 698.0], [((1224, 438), (1273, 476)), 1488.0], [((675, 625), (706, 647)), 1.0], [((108, 418), (139, 449)), 1.0], [((891, 625), (922, 647)), 0.0], [((1179, 616), (1210, 620)), 0.0], [((585, 625), (616, 647)), 0.0], [((522, 607), (553, 629)), 1.0], [((1233, 652), (1237, 665)), 0.0], [((306, 409), (310, 440)), 0.0], [((441, 634), (472, 656)), 1.0], [((756, 517), (804, 558)), 0.0], [((963, 508), (985, 539)), 1.0], [((72, 508), (112, 548)), 1.0], [((135, 499), (139, 530)), 0.0], [((405, 400), (418, 431)), 0.0], [((603, 625), (634, 656)), 1.0], [((1215, 427), (1260, 458)), 0.0], [((333, 418), (364, 440)), 0.0], [((189, 490), (220, 494)), 1.0], [((756, 571), (787, 602)), 0.0], [((1224, 652), (1246, 683)), 0.0], [((1053, 409), (1057, 440)), 1.0], [((909, 427), (956, 463)), 0.0], [((837, 616), (868, 638)), 0.0], [((266, 661), (292, 672)), 1.0], [((63, 625), (103, 665)), 0.0], [((396, 454), (427, 485)), 1], [((576, 400), (598, 431)), 1], [((1098, 616), (1120, 647)), 1]]\n",
      "[[((27, 499), (58, 521)), 28.0], [((779, 400), (861, 482)), 699.0], [((1224, 438), (1273, 476)), 1489.0], [((675, 625), (706, 647)), 1.0], [((108, 418), (139, 449)), 1.0], [((891, 625), (922, 647)), 0.0], [((1179, 616), (1210, 620)), 0.0], [((585, 625), (616, 647)), 0.0], [((522, 607), (553, 629)), 1.0], [((1233, 652), (1237, 665)), 0.0], [((306, 409), (310, 440)), 0.0], [((441, 634), (472, 656)), 1.0], [((756, 517), (804, 558)), 0.0], [((963, 508), (985, 539)), 1.0], [((72, 508), (112, 548)), 1.0], [((135, 499), (139, 530)), 0.0], [((405, 400), (418, 431)), 0.0], [((603, 625), (634, 656)), 1.0], [((1215, 427), (1260, 458)), 0.0], [((333, 418), (364, 440)), 0.0], [((189, 490), (220, 494)), 1.0], [((756, 571), (787, 602)), 0.0], [((1224, 652), (1246, 683)), 0.0], [((1053, 409), (1057, 440)), 1.0], [((909, 427), (956, 463)), 0.0], [((837, 616), (868, 638)), 0.0], [((266, 661), (292, 672)), 1.0], [((63, 625), (103, 665)), 0.0], [((396, 454), (427, 485)), 1], [((576, 400), (598, 431)), 1], [((1098, 616), (1120, 647)), 1]]\n",
      "[[((27, 499), (58, 521)), 29.0], [((779, 400), (861, 482)), 700.0], [((1224, 438), (1273, 476)), 1487.0], [((675, 625), (706, 647)), 1.0], [((108, 418), (139, 449)), 1.0], [((891, 625), (922, 647)), 0.0], [((1179, 616), (1210, 620)), 0.0], [((585, 625), (616, 647)), 0.0], [((522, 607), (553, 629)), 1.0], [((1233, 652), (1237, 665)), 0.0], [((306, 409), (310, 440)), 0.0], [((441, 634), (472, 656)), 1.0], [((756, 517), (804, 558)), 0.0], [((963, 508), (985, 539)), 1.0], [((72, 508), (112, 548)), 1.0], [((135, 499), (139, 530)), 0.0], [((405, 400), (418, 431)), 0.0], [((603, 625), (634, 656)), 1.0], [((1215, 427), (1260, 458)), 0.0], [((333, 418), (364, 440)), 0.0], [((189, 490), (220, 494)), 1.0], [((756, 571), (787, 602)), 0.0], [((1224, 652), (1246, 683)), 0.0], [((1053, 409), (1057, 440)), 1.0], [((909, 427), (956, 463)), 0.0], [((837, 616), (868, 638)), 0.0], [((266, 661), (292, 672)), 1.0], [((63, 625), (103, 665)), 0.0], [((396, 454), (427, 485)), 1], [((576, 400), (598, 431)), 1], [((1098, 616), (1120, 647)), 1]]\n",
      "[[((27, 544), (58, 557)), 27.0], [((779, 400), (861, 482)), 702.0], [((1224, 438), (1273, 476)), 1488.0], [((675, 625), (706, 647)), 1.0], [((108, 418), (139, 449)), 1.0], [((891, 625), (922, 647)), 0.0], [((1179, 616), (1210, 620)), 0.0], [((585, 625), (616, 647)), 0.0], [((522, 607), (553, 629)), 2.0], [((1233, 652), (1237, 665)), 0.0], [((306, 409), (310, 440)), 0.0], [((441, 634), (472, 656)), 1.0], [((756, 517), (804, 558)), 0.0], [((963, 508), (985, 539)), 1.0], [((72, 508), (112, 548)), 1.0], [((135, 499), (139, 530)), 0.0], [((405, 400), (418, 431)), 0.0], [((603, 625), (634, 656)), 1.0], [((1215, 427), (1260, 458)), 0.0], [((333, 418), (364, 440)), 0.0], [((189, 490), (220, 494)), 1.0], [((756, 571), (787, 602)), 0.0], [((1224, 652), (1246, 683)), 0.0], [((1053, 409), (1057, 440)), 1.0], [((909, 427), (956, 463)), 0.0], [((837, 616), (868, 638)), 0.0], [((266, 661), (292, 672)), 1.0], [((63, 625), (103, 665)), 0.0], [((396, 454), (427, 485)), 1], [((576, 400), (598, 431)), 1], [((1098, 616), (1120, 647)), 1]]\n",
      "[[((27, 544), (58, 557)), 28.0], [((779, 400), (861, 482)), 703.0], [((1216, 419), (1279, 482)), 1489.0], [((675, 625), (706, 647)), 2.0], [((108, 418), (139, 449)), 1.0], [((891, 625), (922, 647)), 0.0], [((1179, 616), (1210, 620)), 0.0], [((585, 625), (616, 647)), 2.0], [((486, 571), (508, 602)), 0.0], [((1233, 652), (1237, 665)), 0.0], [((306, 409), (310, 440)), 0.0], [((441, 634), (472, 656)), 1.0], [((756, 517), (804, 558)), 0.0], [((963, 508), (985, 539)), 1.0], [((72, 508), (112, 548)), 1.0], [((135, 499), (139, 530)), 0.0], [((405, 400), (418, 431)), 0.0], [((603, 625), (634, 656)), 1.0], [((1215, 427), (1260, 458)), 0.0], [((333, 418), (364, 440)), 0.0], [((189, 490), (220, 494)), 1.0], [((756, 571), (787, 602)), 0.0], [((1224, 652), (1246, 683)), 0.0], [((1053, 409), (1057, 440)), 1.0], [((909, 427), (956, 463)), 0.0], [((837, 616), (868, 638)), 0.0], [((266, 661), (292, 672)), 1.0], [((63, 625), (103, 665)), 0.0], [((396, 454), (427, 485)), 1], [((576, 400), (598, 431)), 1], [((1098, 616), (1120, 647)), 1]]\n",
      "[[((54, 427), (58, 449)), 26.0], [((779, 400), (861, 482)), 704.0], [((1216, 400), (1279, 463)), 1490.0], [((693, 634), (697, 656)), 0.0], [((108, 418), (139, 449)), 1.0], [((891, 625), (922, 647)), 0.0], [((1179, 616), (1210, 620)), 0.0], [((486, 571), (517, 602)), 0.0], [((486, 571), (508, 602)), 0.0], [((1233, 652), (1237, 665)), 0.0], [((306, 409), (310, 440)), 0.0], [((441, 634), (472, 656)), 1.0], [((756, 517), (804, 558)), 0.0], [((963, 508), (985, 539)), 1.0], [((72, 508), (112, 548)), 1.0], [((135, 499), (139, 530)), 0.0], [((405, 400), (418, 431)), 0.0], [((603, 625), (634, 656)), 1.0], [((1215, 427), (1260, 458)), 0.0], [((333, 418), (364, 440)), 0.0], [((189, 490), (220, 494)), 1.0], [((756, 571), (787, 602)), 0.0], [((1224, 652), (1246, 683)), 0.0], [((1053, 409), (1057, 440)), 1.0], [((909, 427), (956, 463)), 0.0], [((837, 616), (868, 638)), 0.0], [((266, 661), (292, 672)), 1.0], [((63, 625), (103, 665)), 0.0], [((396, 454), (427, 485)), 1], [((576, 400), (598, 431)), 1], [((1098, 616), (1120, 647)), 1]]\n",
      "[[((54, 427), (58, 449)), 24.0], [((779, 409), (850, 482)), 706.0], [((1216, 400), (1279, 463)), 1491.0], [((693, 634), (697, 656)), 0.0], [((108, 418), (139, 449)), 1.0], [((891, 625), (922, 647)), 0.0], [((1179, 616), (1210, 620)), 0.0], [((486, 571), (517, 602)), 0.0], [((486, 571), (508, 602)), 0.0], [((1233, 652), (1237, 665)), 0.0], [((306, 409), (310, 440)), 0.0], [((441, 634), (472, 656)), 1.0], [((756, 517), (804, 558)), 1.0], [((963, 508), (985, 539)), 1.0], [((72, 508), (112, 548)), 1.0], [((135, 499), (139, 530)), 0.0], [((405, 400), (418, 431)), 0.0], [((603, 625), (634, 656)), 1.0], [((1215, 427), (1260, 458)), 0.0], [((333, 418), (364, 440)), 0.0], [((189, 490), (220, 494)), 1.0], [((756, 571), (787, 602)), 0.0], [((1224, 652), (1246, 683)), 0.0], [((1053, 409), (1057, 440)), 1.0], [((909, 427), (956, 463)), 0.0], [((837, 616), (868, 638)), 0.0], [((266, 661), (292, 672)), 1.0], [((63, 625), (103, 665)), 0.0], [((396, 454), (427, 485)), 1], [((576, 400), (598, 431)), 1], [((1098, 616), (1120, 647)), 1]]\n",
      "[[((54, 427), (58, 449)), 25.0], [((779, 400), (861, 482)), 707.0], [((1197, 400), (1264, 476)), 1492.0], [((693, 634), (697, 656)), 0.0], [((108, 418), (139, 449)), 1.0], [((891, 625), (922, 647)), 0.0], [((1179, 616), (1210, 620)), 0.0], [((486, 571), (517, 602)), 0.0], [((486, 571), (508, 602)), 0.0], [((1233, 652), (1237, 665)), 0.0], [((306, 409), (310, 440)), 0.0], [((441, 634), (472, 656)), 1.0], [((657, 499), (688, 521)), 1.0], [((963, 508), (985, 539)), 1.0], [((72, 508), (112, 548)), 1.0], [((135, 499), (139, 530)), 0.0], [((405, 400), (418, 431)), 0.0], [((603, 625), (634, 656)), 1.0], [((1215, 427), (1260, 458)), 0.0], [((333, 418), (364, 440)), 0.0], [((189, 490), (220, 494)), 1.0], [((756, 571), (787, 602)), 0.0], [((1224, 652), (1246, 683)), 0.0], [((1053, 409), (1057, 440)), 1.0], [((909, 427), (956, 463)), 0.0], [((837, 616), (868, 638)), 0.0], [((266, 661), (292, 672)), 1.0], [((63, 625), (103, 665)), 0.0], [((396, 454), (427, 485)), 1], [((576, 400), (598, 431)), 1], [((1098, 616), (1120, 647)), 1]]\n",
      "[[((9, 418), (49, 449)), 23.0], [((774, 409), (850, 482)), 708.0], [((1188, 400), (1260, 485)), 1493.0], [((693, 634), (697, 656)), 0.0], [((108, 418), (139, 449)), 1.0], [((891, 625), (922, 647)), 0.0], [((1179, 616), (1210, 620)), 0.0], [((486, 571), (517, 602)), 0.0], [((486, 571), (508, 602)), 0.0], [((1233, 652), (1237, 665)), 0.0], [((306, 409), (310, 440)), 0.0], [((441, 634), (472, 656)), 1.0], [((657, 499), (688, 521)), 2.0], [((963, 508), (985, 539)), 1.0], [((72, 508), (112, 548)), 1.0], [((135, 499), (139, 530)), 0.0], [((405, 400), (418, 431)), 0.0], [((603, 625), (634, 656)), 1.0], [((1215, 427), (1260, 458)), 0.0], [((333, 418), (364, 440)), 0.0], [((189, 490), (220, 494)), 1.0], [((756, 571), (787, 602)), 0.0], [((1224, 652), (1246, 683)), 0.0], [((1053, 409), (1057, 440)), 1.0], [((909, 427), (956, 463)), 0.0], [((837, 616), (868, 638)), 0.0], [((266, 661), (292, 672)), 1.0], [((63, 625), (103, 665)), 0.0], [((396, 454), (427, 485)), 1], [((576, 400), (598, 431)), 1], [((1098, 616), (1120, 647)), 1]]\n",
      "[[((9, 418), (49, 449)), 21.0], [((774, 400), (861, 482)), 709.0], [((1178, 400), (1260, 482)), 1494.0], [((693, 634), (697, 656)), 0.0], [((108, 418), (139, 449)), 1.0], [((891, 625), (922, 647)), 0.0], [((1179, 616), (1210, 620)), 0.0], [((486, 571), (517, 602)), 0.0], [((486, 571), (508, 602)), 0.0], [((1233, 652), (1237, 665)), 0.0], [((306, 409), (310, 440)), 0.0], [((441, 634), (472, 656)), 1.0], [((648, 499), (679, 521)), 0.0], [((963, 508), (985, 539)), 1.0], [((72, 508), (112, 548)), 1.0], [((135, 499), (139, 530)), 0.0], [((405, 400), (418, 431)), 0.0], [((603, 625), (634, 656)), 1.0], [((1215, 427), (1260, 458)), 0.0], [((333, 418), (364, 440)), 0.0], [((189, 490), (220, 494)), 1.0], [((756, 571), (787, 602)), 0.0], [((1224, 652), (1246, 683)), 0.0], [((1053, 409), (1057, 440)), 1.0], [((909, 427), (956, 463)), 0.0], [((837, 616), (868, 638)), 0.0], [((266, 661), (292, 672)), 1.0], [((63, 625), (103, 665)), 0.0], [((396, 454), (427, 485)), 1], [((576, 400), (598, 431)), 1], [((1098, 616), (1120, 647)), 1]]\n",
      "[[((9, 418), (49, 449)), 19.0], [((774, 409), (850, 482)), 710.0], [((1178, 400), (1260, 485)), 1496.0], [((693, 634), (697, 656)), 0.0], [((108, 418), (139, 449)), 1.0], [((891, 625), (922, 647)), 0.0], [((1179, 616), (1210, 620)), 0.0], [((486, 571), (517, 602)), 0.0], [((486, 571), (508, 602)), 0.0], [((1233, 652), (1237, 665)), 0.0], [((306, 409), (310, 440)), 0.0], [((441, 634), (472, 656)), 1.0], [((648, 499), (679, 521)), 0.0], [((963, 508), (985, 539)), 1.0], [((72, 508), (112, 548)), 1.0], [((135, 499), (139, 530)), 0.0], [((405, 400), (418, 431)), 0.0], [((603, 625), (634, 656)), 1.0], [((1215, 427), (1260, 458)), 0.0], [((333, 418), (364, 440)), 0.0], [((189, 490), (220, 494)), 1.0], [((756, 571), (787, 602)), 0.0], [((1224, 652), (1246, 683)), 0.0], [((1053, 409), (1057, 440)), 1.0], [((909, 427), (956, 463)), 0.0], [((837, 616), (868, 638)), 0.0], [((266, 661), (292, 672)), 1.0], [((63, 625), (103, 665)), 0.0], [((396, 454), (427, 485)), 1], [((576, 400), (598, 431)), 1], [((1098, 616), (1120, 647)), 1]]\n"
     ]
    },
    {
     "name": "stderr",
     "output_type": "stream",
     "text": [
      "\u001b[A\u001b[A\u001b[A\n",
      "\n",
      "\n",
      "100%|█████████▉| 1135/1136 [04:10<00:00, 45.13it/s]\u001b[A\u001b[A\u001b[A\n",
      "\n",
      "\n",
      "\u001b[A\u001b[A\u001b[A"
     ]
    },
    {
     "name": "stdout",
     "output_type": "stream",
     "text": [
      "[[((9, 418), (49, 449)), 17.0], [((774, 409), (850, 482)), 711.0], [((1170, 400), (1264, 482)), 1497.0], [((693, 634), (697, 656)), 0.0], [((108, 418), (139, 449)), 1.0], [((891, 625), (922, 647)), 0.0], [((1179, 616), (1210, 620)), 0.0], [((486, 571), (517, 602)), 0.0], [((486, 571), (508, 602)), 0.0], [((1233, 652), (1237, 665)), 0.0], [((306, 409), (310, 440)), 0.0], [((441, 634), (472, 656)), 1.0], [((648, 499), (679, 521)), 0.0], [((963, 508), (985, 539)), 1.0], [((72, 508), (112, 548)), 1.0], [((135, 499), (139, 530)), 0.0], [((405, 400), (418, 431)), 0.0], [((603, 625), (634, 656)), 1.0], [((1215, 427), (1260, 458)), 0.0], [((333, 418), (364, 440)), 0.0], [((189, 490), (220, 494)), 1.0], [((756, 571), (787, 602)), 0.0], [((1224, 652), (1246, 683)), 0.0], [((1053, 409), (1057, 440)), 1.0], [((909, 427), (956, 463)), 0.0], [((837, 616), (868, 638)), 0.0], [((266, 661), (292, 672)), 1.0], [((63, 625), (103, 665)), 0.0], [((396, 454), (427, 485)), 1], [((576, 400), (598, 431)), 1], [((1098, 616), (1120, 647)), 1]]\n",
      "[[((9, 418), (49, 449)), 15.0], [((765, 409), (850, 482)), 712.0], [((1159, 400), (1273, 482)), 1498.0], [((693, 634), (697, 656)), 0.0], [((108, 418), (139, 449)), 1.0], [((891, 625), (922, 647)), 0.0], [((1179, 616), (1210, 620)), 0.0], [((486, 571), (517, 602)), 0.0], [((486, 571), (508, 602)), 0.0], [((1233, 652), (1237, 665)), 0.0], [((306, 409), (310, 440)), 0.0], [((441, 634), (472, 656)), 1.0], [((648, 499), (679, 521)), 0.0], [((963, 508), (985, 539)), 1.0], [((72, 508), (112, 548)), 1.0], [((135, 499), (139, 530)), 0.0], [((405, 400), (418, 431)), 0.0], [((603, 625), (634, 656)), 1.0], [((1215, 427), (1260, 458)), 0.0], [((333, 418), (364, 440)), 0.0], [((189, 490), (220, 494)), 1.0], [((756, 571), (787, 602)), 0.0], [((1224, 652), (1246, 683)), 0.0], [((1053, 409), (1057, 440)), 1.0], [((909, 427), (956, 463)), 0.0], [((837, 616), (868, 638)), 0.0], [((266, 661), (292, 672)), 1.0], [((63, 625), (103, 665)), 0.0], [((396, 454), (427, 485)), 1], [((576, 400), (598, 431)), 1], [((1098, 616), (1120, 647)), 1]]\n",
      "[[((9, 418), (49, 449)), 13.0], [((774, 400), (861, 482)), 713.0], [((1159, 400), (1246, 463)), 1499.0], [((693, 634), (697, 656)), 0.0], [((108, 418), (139, 449)), 1.0], [((891, 625), (922, 647)), 0.0], [((1179, 616), (1210, 620)), 0.0], [((486, 571), (517, 602)), 0.0], [((486, 571), (508, 602)), 0.0], [((1233, 652), (1237, 665)), 0.0], [((306, 409), (310, 440)), 0.0], [((441, 634), (472, 656)), 1.0], [((648, 499), (679, 521)), 0.0], [((963, 508), (985, 539)), 1.0], [((72, 508), (112, 548)), 1.0], [((135, 499), (139, 530)), 0.0], [((405, 400), (418, 431)), 0.0], [((603, 625), (634, 656)), 1.0], [((1215, 427), (1260, 458)), 0.0], [((333, 418), (364, 440)), 0.0], [((189, 490), (220, 494)), 1.0], [((756, 571), (787, 602)), 0.0], [((1224, 652), (1246, 683)), 0.0], [((1053, 409), (1057, 440)), 1.0], [((909, 427), (956, 463)), 0.0], [((837, 616), (868, 638)), 0.0], [((266, 661), (292, 672)), 1.0], [((63, 625), (103, 665)), 0.0], [((396, 454), (427, 485)), 1], [((576, 400), (598, 431)), 1], [((1098, 616), (1120, 647)), 1]]\n",
      "[[((9, 418), (49, 449)), 11.0], [((765, 418), (850, 482)), 714.0], [((1159, 400), (1273, 482)), 1500.0], [((693, 634), (697, 656)), 0.0], [((108, 418), (139, 449)), 1.0], [((891, 625), (922, 647)), 0.0], [((1179, 616), (1210, 620)), 0.0], [((486, 571), (517, 602)), 0.0], [((486, 571), (508, 602)), 0.0], [((1233, 652), (1237, 665)), 0.0], [((306, 409), (310, 440)), 0.0], [((441, 634), (472, 656)), 1.0], [((648, 499), (679, 521)), 0.0], [((963, 508), (985, 539)), 1.0], [((72, 508), (112, 548)), 1.0], [((135, 499), (139, 530)), 0.0], [((405, 400), (418, 431)), 0.0], [((603, 625), (634, 656)), 1.0], [((1215, 427), (1260, 458)), 0.0], [((333, 418), (364, 440)), 0.0], [((189, 490), (220, 494)), 1.0], [((756, 571), (787, 602)), 0.0], [((1224, 652), (1246, 683)), 0.0], [((1053, 409), (1057, 440)), 1.0], [((909, 427), (956, 463)), 0.0], [((837, 616), (868, 638)), 0.0], [((266, 661), (292, 672)), 1.0], [((63, 625), (103, 665)), 0.0], [((396, 454), (427, 485)), 1], [((576, 400), (598, 431)), 1], [((1098, 616), (1120, 647)), 1]]\n",
      "[MoviePy] Done.\n",
      "[MoviePy] >>>> Video ready: out.mp4 \n",
      "\n"
     ]
    }
   ],
   "source": [
    "from moviepy.editor import VideoFileClip, CompositeVideoClip\n",
    "from IPython.display import HTML\n",
    "\n",
    "output = 'out.mp4'\n",
    "clip = VideoFileClip(\"project_video.mp4\").subclip(5,)\n",
    "detected   = clip.fl_image(new_draw)\n",
    "detected.write_videofile(output, audio=False)"
   ]
  },
  {
   "cell_type": "code",
   "execution_count": 54,
   "metadata": {},
   "outputs": [
    {
     "data": {
      "text/html": [
       "\n",
       "<video width=\"640\" controls>\n",
       "  <source src=\"out.mp4\">\n",
       "</video>\"\n"
      ],
      "text/plain": [
       "<IPython.core.display.HTML object>"
      ]
     },
     "execution_count": 54,
     "metadata": {},
     "output_type": "execute_result"
    }
   ],
   "source": [
    "HTML(\"\"\"\n",
    "<video width=\"640\" controls>\n",
    "  <source src=\"{0}\">\n",
    "</video>\"\n",
    "\"\"\".format(output))"
   ]
  },
  {
   "cell_type": "code",
   "execution_count": null,
   "metadata": {
    "collapsed": true
   },
   "outputs": [],
   "source": []
  },
  {
   "cell_type": "code",
   "execution_count": null,
   "metadata": {
    "collapsed": true
   },
   "outputs": [],
   "source": []
  },
  {
   "cell_type": "code",
   "execution_count": null,
   "metadata": {
    "collapsed": true
   },
   "outputs": [],
   "source": []
  }
 ],
 "metadata": {
  "kernelspec": {
   "display_name": "Python 3",
   "language": "python",
   "name": "python3"
  },
  "language_info": {
   "codemirror_mode": {
    "name": "ipython",
    "version": 3
   },
   "file_extension": ".py",
   "mimetype": "text/x-python",
   "name": "python",
   "nbconvert_exporter": "python",
   "pygments_lexer": "ipython3",
   "version": "3.6.1"
  }
 },
 "nbformat": 4,
 "nbformat_minor": 2
}
