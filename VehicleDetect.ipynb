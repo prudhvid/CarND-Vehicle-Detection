{
 "cells": [
  {
   "cell_type": "code",
   "execution_count": 1,
   "metadata": {
    "collapsed": false
   },
   "outputs": [
    {
     "name": "stderr",
     "output_type": "stream",
     "text": [
      "C:\\Users\\prudha\\AppData\\Local\\Continuum\\Anaconda3\\lib\\site-packages\\sklearn\\cross_validation.py:44: DeprecationWarning: This module was deprecated in version 0.18 in favor of the model_selection module into which all the refactored classes and functions are moved. Also note that the interface of the new CV iterators are different from that of this module. This module will be removed in 0.20.\n",
      "  \"This module will be removed in 0.20.\", DeprecationWarning)\n"
     ]
    }
   ],
   "source": [
    "%matplotlib inline\n",
    "import matplotlib.image as mpimg\n",
    "import os\n",
    "from glob import iglob\n",
    "import matplotlib.pyplot as plt\n",
    "import numpy as np\n",
    "import cv2\n",
    "import glob\n",
    "import time\n",
    "from skimage.feature import hog\n",
    "from sklearn.svm import LinearSVC, SVC\n",
    "from sklearn.tree import DecisionTreeClassifier\n",
    "from sklearn.preprocessing import StandardScaler\n",
    "from sklearn.cross_validation import train_test_split\n",
    "from scipy.ndimage.measurements import label\n",
    "import math\n",
    "from collections import defaultdict"
   ]
  },
  {
   "cell_type": "code",
   "execution_count": 2,
   "metadata": {
    "collapsed": false
   },
   "outputs": [],
   "source": [
    "def get_hog_features(img, orient, pix_per_cell, cell_per_block, \n",
    "                        vis=False, feature_vec=True):\n",
    "    # Call with two outputs if vis==True\n",
    "    if vis == True:\n",
    "        features, hog_image = hog(img, orientations=orient, \n",
    "                                  pixels_per_cell=(pix_per_cell, pix_per_cell),\n",
    "                                  cells_per_block=(cell_per_block, cell_per_block), \n",
    "                                  transform_sqrt=True, \n",
    "                                  visualise=vis, feature_vector=feature_vec)\n",
    "        return features, hog_image\n",
    "    # Otherwise call with one output\n",
    "    else:\n",
    "        features = hog(img, orientations=orient, \n",
    "                       pixels_per_cell=(pix_per_cell, pix_per_cell),\n",
    "                       cells_per_block=(cell_per_block, cell_per_block), \n",
    "                       transform_sqrt=True, \n",
    "                       visualise=vis, feature_vector=feature_vec)\n",
    "        return features\n",
    "\n",
    "# Define a function to compute binned color features  \n",
    "def bin_spatial(img, size=(32, 32)):\n",
    "    # Use cv2.resize().ravel() to create the feature vector\n",
    "    features = cv2.resize(img, size).ravel() \n",
    "    # Return the feature vector\n",
    "    return features\n",
    "\n",
    "# Define a function to compute color histogram features \n",
    "# NEED TO CHANGE bins_range if reading .png files with mpimg!\n",
    "def color_hist(img, nbins=32, bins_range=(0, 255)):\n",
    "    # Compute the histogram of the color channels separately\n",
    "    channel1_hist = np.histogram(img[:,:,0], bins=nbins, range=bins_range)\n",
    "    channel2_hist = np.histogram(img[:,:,1], bins=nbins, range=bins_range)\n",
    "    channel3_hist = np.histogram(img[:,:,2], bins=nbins, range=bins_range)\n",
    "    # Concatenate the histograms into a single feature vector\n",
    "    hist_features = np.concatenate((channel1_hist[0], channel2_hist[0], channel3_hist[0]))\n",
    "    # Return the individual histograms, bin_centers and feature vector\n",
    "    return hist_features\n",
    "\n",
    "# Define a function to extract features from a list of images\n",
    "# Have this function call bin_spatial() and color_hist()\n",
    "def extract_features(imgs, color_space='RGB', spatial_size=(32, 32),\n",
    "                        hist_bins=32, orient=9,\n",
    "                        pix_per_cell=8, cell_per_block=2, hog_channel=0,\n",
    "                        spatial_feat=True, hist_feat=True, hog_feat=True):\n",
    "    # Create a list to append feature vectors to\n",
    "    features = []\n",
    "    # Iterate through the list of images\n",
    "    for file in imgs:\n",
    "        file_features = []\n",
    "        # Read in each one by one\n",
    "        image = mpimg.imread(file)\n",
    "        if(file.endswith('.png')):\n",
    "            image = (image * 255).astype(np.uint8)\n",
    "            \n",
    "        # apply color conversion if other than 'RGB'\n",
    "        if color_space != 'RGB':\n",
    "            if color_space == 'HSV':\n",
    "                feature_image = cv2.cvtColor(image, cv2.COLOR_RGB2HSV)\n",
    "            elif color_space == 'LUV':\n",
    "                feature_image = cv2.cvtColor(image, cv2.COLOR_RGB2LUV)\n",
    "            elif color_space == 'HLS':\n",
    "                feature_image = cv2.cvtColor(image, cv2.COLOR_RGB2HLS)\n",
    "            elif color_space == 'YUV':\n",
    "                feature_image = cv2.cvtColor(image, cv2.COLOR_RGB2YUV)\n",
    "            elif color_space == 'YCrCb':\n",
    "                feature_image = cv2.cvtColor(image, cv2.COLOR_RGB2YCrCb)\n",
    "        else: feature_image = np.copy(image)\n",
    "\n",
    "        if spatial_feat == True:\n",
    "            spatial_features = bin_spatial(feature_image, size=spatial_size)\n",
    "            file_features.append(spatial_features)\n",
    "        if hist_feat == True:\n",
    "            # Apply color_hist()\n",
    "            hist_features = color_hist(feature_image, nbins=hist_bins)\n",
    "            file_features.append(hist_features)\n",
    "        if hog_feat == True:\n",
    "        # Call get_hog_features() with vis=False, feature_vec=True\n",
    "            if hog_channel == 'ALL':\n",
    "                hog_features = []\n",
    "                for channel in range(feature_image.shape[2]):\n",
    "                    hog_features.append(get_hog_features(feature_image[:,:,channel], \n",
    "                                        orient, pix_per_cell, cell_per_block, \n",
    "                                        vis=False, feature_vec=True))\n",
    "                hog_features = np.ravel(hog_features)        \n",
    "            else:\n",
    "                hog_features = get_hog_features(feature_image[:,:,hog_channel], orient, \n",
    "                            pix_per_cell, cell_per_block, vis=False, feature_vec=True)\n",
    "            # Append the new feature vector to the features list\n",
    "            file_features.append(hog_features)\n",
    "        features.append(np.concatenate(file_features))\n",
    "    # Return list of feature vectors\n",
    "    return features\n",
    "    \n",
    "# Define a function that takes an image,\n",
    "# start and stop positions in both x and y, \n",
    "# window size (x and y dimensions),  \n",
    "# and overlap fraction (for both x and y)\n",
    "def slide_window(img, x_start_stop=[None, None], y_start_stop=[None, None], \n",
    "                    xy_window=(64, 64), xy_overlap=(0.5, 0.5)):\n",
    "    # If x and/or y start/stop positions not defined, set to image size\n",
    "    if x_start_stop[0] == None:\n",
    "        x_start_stop[0] = 0\n",
    "    if x_start_stop[1] == None:\n",
    "        x_start_stop[1] = img.shape[1]\n",
    "    if y_start_stop[0] == None:\n",
    "        y_start_stop[0] = 0\n",
    "    if y_start_stop[1] == None:\n",
    "        y_start_stop[1] = img.shape[0]\n",
    "    # Compute the span of the region to be searched    \n",
    "    xspan = x_start_stop[1] - x_start_stop[0]\n",
    "    yspan = y_start_stop[1] - y_start_stop[0]\n",
    "    # Compute the number of pixels per step in x/y\n",
    "    nx_pix_per_step = np.int(xy_window[0]*(1 - xy_overlap[0]))\n",
    "    ny_pix_per_step = np.int(xy_window[1]*(1 - xy_overlap[1]))\n",
    "    # Compute the number of windows in x/y\n",
    "    nx_buffer = np.int(xy_window[0]*(xy_overlap[0]))\n",
    "    ny_buffer = np.int(xy_window[1]*(xy_overlap[1]))\n",
    "    nx_windows = np.int((xspan-nx_buffer)/nx_pix_per_step) \n",
    "    ny_windows = np.int((yspan-ny_buffer)/ny_pix_per_step) \n",
    "    # Initialize a list to append window positions to\n",
    "    window_list = []\n",
    "    # Loop through finding x and y window positions\n",
    "    # Note: you could vectorize this step, but in practice\n",
    "    # you'll be considering windows one by one with your\n",
    "    # classifier, so looping makes sense\n",
    "    for ys in range(ny_windows):\n",
    "        for xs in range(nx_windows):\n",
    "            # Calculate window position\n",
    "            startx = xs*nx_pix_per_step + x_start_stop[0]\n",
    "            endx = startx + xy_window[0]\n",
    "            starty = ys*ny_pix_per_step + y_start_stop[0]\n",
    "            endy = starty + xy_window[1]\n",
    "            \n",
    "            # Append window position to list\n",
    "            window_list.append(((startx, starty), (endx, endy)))\n",
    "    # Return the list of windows\n",
    "    return window_list\n",
    "\n",
    "# Define a function to draw bounding boxes\n",
    "def draw_boxes(img, bboxes, color=(0, 0, 255), thick=6):\n",
    "    # Make a copy of the image\n",
    "    imcopy = np.copy(img)\n",
    "    # Iterate through the bounding boxes\n",
    "    for bbox in bboxes:\n",
    "        # Draw a rectangle given bbox coordinates\n",
    "        cv2.rectangle(imcopy, bbox[0], bbox[1], color, thick)\n",
    "    # Return the image copy with boxes drawn\n",
    "    return imcopy\n",
    "\n",
    "\n",
    "\n",
    "# Define a function to extract features from a single image window\n",
    "# This function is very similar to extract_features()\n",
    "# just for a single image rather than list of images\n",
    "def single_img_features(img, color_space='RGB', spatial_size=(32, 32),\n",
    "                        hist_bins=32, orient=9, \n",
    "                        pix_per_cell=8, cell_per_block=2, hog_channel=0,\n",
    "                        spatial_feat=True, hist_feat=True, hog_feat=True):    \n",
    "    #1) Define an empty list to receive features\n",
    "    img_features = []\n",
    "    #2) Apply color conversion if other than 'RGB'\n",
    "    if color_space != 'RGB':\n",
    "        if color_space == 'HSV':\n",
    "            feature_image = cv2.cvtColor(img, cv2.COLOR_RGB2HSV)\n",
    "        elif color_space == 'LUV':\n",
    "            feature_image = cv2.cvtColor(img, cv2.COLOR_RGB2LUV)\n",
    "        elif color_space == 'HLS':\n",
    "            feature_image = cv2.cvtColor(img, cv2.COLOR_RGB2HLS)\n",
    "        elif color_space == 'YUV':\n",
    "            feature_image = cv2.cvtColor(img, cv2.COLOR_RGB2YUV)\n",
    "        elif color_space == 'YCrCb':\n",
    "            feature_image = cv2.cvtColor(img, cv2.COLOR_RGB2YCrCb)\n",
    "    else: feature_image = np.copy(img)      \n",
    "    #3) Compute spatial features if flag is set\n",
    "    if spatial_feat == True:\n",
    "        spatial_features = bin_spatial(feature_image, size=spatial_size)\n",
    "        #4) Append features to list\n",
    "        img_features.append(spatial_features)\n",
    "    #5) Compute histogram features if flag is set\n",
    "    if hist_feat == True:\n",
    "        hist_features = color_hist(feature_image, nbins=hist_bins)\n",
    "        #6) Append features to list\n",
    "        img_features.append(hist_features)\n",
    "    #7) Compute HOG features if flag is set\n",
    "    if hog_feat == True:\n",
    "        if hog_channel == 'ALL':\n",
    "            hog_features = []\n",
    "            for channel in range(feature_image.shape[2]):\n",
    "                hog_features.extend(get_hog_features(feature_image[:,:,channel], \n",
    "                                    orient, pix_per_cell, cell_per_block, \n",
    "                                    vis=False, feature_vec=True))      \n",
    "        else:\n",
    "            hog_features = get_hog_features(feature_image[:,:,hog_channel], orient, \n",
    "                        pix_per_cell, cell_per_block, vis=False, feature_vec=True)\n",
    "        #8) Append features to list\n",
    "        img_features.append(hog_features)\n",
    "\n",
    "    #9) Return concatenated array of features\n",
    "    return np.concatenate(img_features)\n",
    "\n",
    "# Define a function you will pass an image \n",
    "# and the list of windows to be searched (output of slide_windows())\n",
    "def search_windows(img, windows, clf, scaler, color_space='RGB', \n",
    "                    spatial_size=(32, 32), hist_bins=32, \n",
    "                    hist_range=(0, 256), orient=9, \n",
    "                    pix_per_cell=8, cell_per_block=2, \n",
    "                    hog_channel=0, spatial_feat=True, \n",
    "                    hist_feat=True, hog_feat=True):\n",
    "\n",
    "    #1) Create an empty list to receive positive detection windows\n",
    "    on_windows = []\n",
    "    #2) Iterate over all windows in the list\n",
    "    for window in windows:\n",
    "        #3) Extract the test window from original image\n",
    "        test_img = cv2.resize(img[window[0][1]:window[1][1], window[0][0]:window[1][0]], (64, 64))      \n",
    "        #4) Extract features for that window using single_img_features()\n",
    "        features = single_img_features(test_img, color_space=color_space, \n",
    "                            spatial_size=spatial_size, hist_bins=hist_bins, \n",
    "                            orient=orient, pix_per_cell=pix_per_cell, \n",
    "                            cell_per_block=cell_per_block, \n",
    "                            hog_channel=hog_channel, spatial_feat=spatial_feat, \n",
    "                            hist_feat=hist_feat, hog_feat=hog_feat)\n",
    "        #5) Scale extracted features to be fed to classifier\n",
    "        test_features = scaler.transform(np.array(features).reshape(1, -1))\n",
    "        #6) Predict using your classifier\n",
    "        prediction = clf.predict(test_features)\n",
    "        #7) If positive (prediction == 1) then save the window\n",
    "        if prediction == 1:\n",
    "            on_windows.append(window)\n",
    "    #8) Return windows for positive detections\n",
    "    return on_windows\n"
   ]
  },
  {
   "cell_type": "code",
   "execution_count": 3,
   "metadata": {
    "collapsed": false
   },
   "outputs": [
    {
     "name": "stdout",
     "output_type": "stream",
     "text": [
      "8792 8968\n"
     ]
    }
   ],
   "source": [
    "cars = []\n",
    "not_cars = []\n",
    "\n",
    "car_images = 'vehicles/vehicles/**/*.png'\n",
    "noncar_images = 'non-vehicles/non-vehicles/**/*.png'\n",
    "\n",
    "for file in iglob(car_images, recursive=True):\n",
    "    cars.append(file)\n",
    "\n",
    "for file in iglob(noncar_images, recursive=True):\n",
    "    not_cars.append(file)\n",
    "\n",
    "print(len(cars), len(not_cars))"
   ]
  },
  {
   "cell_type": "code",
   "execution_count": 4,
   "metadata": {
    "collapsed": true
   },
   "outputs": [],
   "source": [
    "color_space = 'YUV' # Can be RGB, HSV, LUV, HLS, YUV, YCrCb\n",
    "orient = 9  # HOG orientations\n",
    "pix_per_cell = 8 # HOG pixels per cell\n",
    "cell_per_block = 2 # HOG cells per block\n",
    "hog_channel = \"ALL\" # Can be 0, 1, 2, or \"ALL\"\n",
    "spatial_size = (16, 16) # Spatial binning dimensions\n",
    "hist_bins = 64    # Number of histogram bins\n",
    "spatial_feat = True # Spatial features on or off\n",
    "hist_feat = True # Histogram features on or off\n",
    "hog_feat = True # HOG features on or off\n",
    "y_start_stop = [400, 700] # Min and max in y to search in slide_window()"
   ]
  },
  {
   "cell_type": "code",
   "execution_count": null,
   "metadata": {
    "collapsed": false
   },
   "outputs": [],
   "source": [
    "# def train():\n",
    "car_features = extract_features(cars, color_space=color_space, \n",
    "                        spatial_size=spatial_size, hist_bins=hist_bins, \n",
    "                        orient=orient, pix_per_cell=pix_per_cell, \n",
    "                        cell_per_block=cell_per_block, \n",
    "                        hog_channel=hog_channel, spatial_feat=spatial_feat, \n",
    "                        hist_feat=hist_feat, hog_feat=hog_feat)\n",
    "notcar_features = extract_features(not_cars, color_space=color_space, \n",
    "                        spatial_size=spatial_size, hist_bins=hist_bins, \n",
    "                        orient=orient, pix_per_cell=pix_per_cell, \n",
    "                        cell_per_block=cell_per_block, \n",
    "                        hog_channel=hog_channel, spatial_feat=spatial_feat, \n",
    "                        hist_feat=hist_feat, hog_feat=hog_feat)\n",
    "\n",
    "X = np.vstack((car_features, notcar_features)).astype(np.float64)                        \n",
    "# Fit a per-column scaler\n",
    "X_scaler = StandardScaler().fit(X)\n",
    "# Apply the scaler to X\n",
    "scaled_X = X_scaler.transform(X)\n",
    "\n",
    "# Define the labels vector\n",
    "y = np.hstack((np.ones(len(car_features)), np.zeros(len(notcar_features))))\n",
    "\n",
    "# Split up data into randomized training and test sets\n",
    "rand_state = np.random.randint(0, 100)\n",
    "X_train, X_test, y_train, y_test = train_test_split(\n",
    "    scaled_X, y, test_size=0.2, random_state=rand_state)\n",
    "\n",
    "print('Using:',orient,'orientations',pix_per_cell,\n",
    "    'pixels per cell and', cell_per_block,'cells per block')\n",
    "print('Feature vector length:', len(X_train[0]))\n",
    "# Use a linear SVC \n",
    "svc = LinearSVC()\n",
    "# svc = SVC(kernel = 'rbf')\n",
    "# svc = DecisionTreeClassifier(min_samples_split = 10, min_samples_leaf = 5, max_features = 'auto')\n",
    "# Check the training time for the SVC\n",
    "t=time.time()\n",
    "svc.fit(X_train, y_train)\n",
    "t2 = time.time()\n",
    "print(round(t2-t, 2), 'Seconds to train SVC...')\n",
    "\n",
    "print('Test Accuracy of SVC = ', round(svc.score(X_test, y_test), 4))\n",
    "# Check the prediction time for a single sample\n",
    "t=time.time()\n"
   ]
  },
  {
   "cell_type": "code",
   "execution_count": 5,
   "metadata": {
    "collapsed": false
   },
   "outputs": [],
   "source": [
    "def add_heat(heatmap, bbox_list):\n",
    "    # Iterate through list of bboxes\n",
    "    for box in bbox_list:\n",
    "        # Add += 1 for all pixels inside each bbox\n",
    "        # Assuming each \"box\" takes the form ((x1, y1), (x2, y2))\n",
    "        heatmap[box[0][1]:box[1][1], box[0][0]:box[1][0]] += 1\n",
    "\n",
    "    # Return updated heatmap\n",
    "    return heatmap# Iterate through list of bboxes\n",
    "    \n",
    "def apply_threshold(heatmap, threshold):\n",
    "    # Zero out pixels below the threshold\n",
    "    heatmap[heatmap <= threshold] = 0\n",
    "    # Return thresholded map\n",
    "    return heatmap\n",
    "\n",
    "def area(bbox):\n",
    "    return abs((bbox[0][0] - bbox[1][0]) * (bbox[0][1] - bbox[1][1]))\n",
    "\n",
    "bboxes = []\n",
    "def draw_labeled_bboxes(img, labels):\n",
    "    maxArea = defaultdict(lambda: ((0,0),(0,0)))\n",
    "    # Iterate through all detected cars\n",
    "    for car_number in range(1, labels[1]+1):\n",
    "        # Find pixels with each car_number label value\n",
    "        nonzero = (labels[0] == car_number).nonzero()\n",
    "        # Identify x and y values of those pixels\n",
    "        nonzeroy = np.array(nonzero[0])\n",
    "        nonzerox = np.array(nonzero[1])\n",
    "        # Define a bounding box based on min/max x and y\n",
    "        bbox = ((np.min(nonzerox), np.min(nonzeroy)), (np.max(nonzerox), np.max(nonzeroy)))\n",
    "        # Draw the box on the image\n",
    "#         cv2.rectangle(img, bbox[0], bbox[1], (0,255,0), 8)\n",
    "        \n",
    "        for (ind,(box, count)) in enumerate(bboxes):\n",
    "            mid = [(box[0][0] + box[1][0])/2, (box[0][1] + box[1][1])/2]\n",
    "            bmid = [(bbox[0][0] + bbox[1][0])/2, (bbox[0][1] + bbox[1][1])/2]\n",
    "            print(mid, bmid)\n",
    "            if abs(mid[0] - bmid[0]) + abs(mid[1] - bmid[1]) < 300:\n",
    "                if area(bbox) > area(maxArea[ind]):\n",
    "                    maxArea[ind] = bbox\n",
    "                bboxes[ind][1] += 1\n",
    "                break\n",
    "        else:\n",
    "            maxArea[len(bboxes)] = bbox    \n",
    "            bboxes.append([bbox,1])\n",
    "    \n",
    "    for (ind,(box, count)) in enumerate(bboxes):\n",
    "        if area(maxArea[ind]) is 0 and bboxes[ind][1] > 0.3:\n",
    "            bboxes[ind][1] -= 0.3\n",
    "    \n",
    "    print(bboxes)\n",
    "    for (ind, (bbox, count)) in enumerate(bboxes):\n",
    "        fbox = maxArea[ind] if area(maxArea[ind]) > 500 else bbox\n",
    "        if (area(maxArea[ind]) > bboxes[ind][1]) or (area(maxArea[ind]) > 1500):\n",
    "            bboxes[ind][0] = maxArea[ind]\n",
    "        if (count > 10) and area(fbox) > 400:\n",
    "            cv2.rectangle(img, fbox[0], fbox[1], (255,0,0), 8)\n",
    "#         elif count > 0.3:\n",
    "#             bboxes[ind][1] = float(count) - 0.3\n",
    "    # Return the image\n",
    "    return img\n",
    "\n",
    "def draw(image):\n",
    "    image = np.array(image)\n",
    "    draw_image = np.copy(image)\n",
    "    \n",
    "    windows = slide_window(image, x_start_stop=[None, None], y_start_stop=y_start_stop, \n",
    "                    xy_window=(64, 64), xy_overlap=(0.7, 0.7))\n",
    "    windows += slide_window(image, x_start_stop=[None, None], y_start_stop=y_start_stop, \n",
    "                    xy_window=(32, 32), xy_overlap=(0.7, 0.7))\n",
    "    \n",
    "    hot_windows = search_windows(image, windows, svc, X_scaler, color_space=color_space, \n",
    "                        spatial_size=spatial_size, hist_bins=hist_bins, \n",
    "                        orient=orient, pix_per_cell=pix_per_cell, \n",
    "                        cell_per_block=cell_per_block, \n",
    "                        hog_channel=hog_channel, spatial_feat=spatial_feat, \n",
    "                        hist_feat=hist_feat, hog_feat=hog_feat)                       \n",
    "    \n",
    "#     window_img = draw_boxes(draw_image, hot_windows, color=(0, 0, 255), thick=6)                    \n",
    "#     return window_img\n",
    "    \n",
    "    \n",
    "    heat = np.zeros_like(image[:,:,0]).astype(np.float)\n",
    "    # Add heat to each box in box list\n",
    "    heat = add_heat(heat, hot_windows)\n",
    "\n",
    "    # Apply threshold to help remove false positives\n",
    "    heat = apply_threshold(heat, 1)\n",
    "\n",
    "    # Visualize the heatmap when displaying    \n",
    "    heatmap = np.clip(heat, 0, 255)\n",
    "\n",
    "    # Find final boxes from heatmap using label function\n",
    "    labels = label(heatmap)\n",
    "    draw_img = draw_labeled_bboxes(np.copy(image), labels)\n",
    "    \n",
    "    return draw_img\n",
    "    \n",
    "from sklearn.externals import joblib\n",
    "def loadclf(path):\n",
    "    return joblib.load(path)\n",
    "\n",
    "def saveclf(clf, path):\n",
    "    joblib.dump(clf, path)\n",
    "    \n",
    "def savescaler(scaler,path):\n",
    "    joblib.dump(scaler, path)\n",
    "def loadscaler(path):\n",
    "    return joblib.load(path)"
   ]
  },
  {
   "cell_type": "code",
   "execution_count": null,
   "metadata": {
    "collapsed": false,
    "scrolled": true
   },
   "outputs": [],
   "source": [
    "for file in iglob('test_images/*.jpg'):\n",
    "    img = mpimg.imread(file)\n",
    "    img = np.array(img)\n",
    "    plt.figure()\n",
    "    plt.imshow(draw(img))"
   ]
  },
  {
   "cell_type": "code",
   "execution_count": null,
   "metadata": {
    "collapsed": false,
    "scrolled": true
   },
   "outputs": [],
   "source": [
    "def convert_color(img, conv='RGB2YCrCb'):\n",
    "    if conv == 'RGB2YCrCb':\n",
    "        return cv2.cvtColor(img, cv2.COLOR_RGB2YCrCb)\n",
    "    if conv == 'BGR2YCrCb':\n",
    "        return cv2.cvtColor(img, cv2.COLOR_BGR2YCrCb)\n",
    "    if conv == 'RGB2LUV':\n",
    "        return cv2.cvtColor(img, cv2.COLOR_RGB2LUV)\n",
    "    if conv == 'HLS':\n",
    "        return cv2.cvtColor(img, cv2.COLOR_RGB2HLS)\n",
    "    return img\n",
    "\n",
    "def find_cars(img, ystart, ystop, scale, svc, X_scaler, orient, pix_per_cell, cell_per_block, spatial_size, hist_bins):\n",
    "    \n",
    "    draw_img = np.copy(img)\n",
    "    img = img.astype(np.float32)/255\n",
    "    \n",
    "    img_tosearch = img[ystart:ystop,:,:]\n",
    "    ctrans_tosearch = convert_color(img_tosearch, conv='HLS')\n",
    "    if scale != 1:\n",
    "        imshape = ctrans_tosearch.shape\n",
    "        ctrans_tosearch = cv2.resize(ctrans_tosearch, (np.int(imshape[1]/scale), np.int(imshape[0]/scale)))\n",
    "        \n",
    "    ch1 = ctrans_tosearch[:,:,0]\n",
    "    ch2 = ctrans_tosearch[:,:,1]\n",
    "    ch3 = ctrans_tosearch[:,:,2]\n",
    "#     print(ch1,ch2,ch3)\n",
    "    # Define blocks and steps as above\n",
    "    nxblocks = (ch1.shape[1] // pix_per_cell) - cell_per_block + 1\n",
    "    nyblocks = (ch1.shape[0] // pix_per_cell) - cell_per_block + 1 \n",
    "    nfeat_per_block = orient*cell_per_block**2\n",
    "    \n",
    "    # 64 was the orginal sampling rate, with 8 cells and 8 pix per cell\n",
    "    window = 64\n",
    "    nblocks_per_window = (window // pix_per_cell) - cell_per_block + 1\n",
    "    cells_per_step = 2  # Instead of overlap, define how many cells to step\n",
    "    nxsteps = (nxblocks - nblocks_per_window) // cells_per_step\n",
    "    nysteps = (nyblocks - nblocks_per_window) // cells_per_step\n",
    "    \n",
    "    # Compute individual channel HOG features for the entire image\n",
    "    hog1 = get_hog_features(ch1, orient, pix_per_cell, cell_per_block, feature_vec=False)\n",
    "    hog2 = get_hog_features(ch2, orient, pix_per_cell, cell_per_block, feature_vec=False)\n",
    "    hog3 = get_hog_features(ch3, orient, pix_per_cell, cell_per_block, feature_vec=False)\n",
    "\n",
    "    for xb in range(nxsteps):\n",
    "        for yb in range(nysteps):\n",
    "            ypos = yb*cells_per_step\n",
    "            xpos = xb*cells_per_step\n",
    "#             Extract HOG for this patch\n",
    "            hog_feat1 = hog1[ypos:ypos+nblocks_per_window, xpos:xpos+nblocks_per_window].ravel() \n",
    "            hog_feat2 = hog2[ypos:ypos+nblocks_per_window, xpos:xpos+nblocks_per_window].ravel() \n",
    "            hog_feat3 = hog3[ypos:ypos+nblocks_per_window, xpos:xpos+nblocks_per_window].ravel() \n",
    "            hog_features = np.hstack((hog_feat1, hog_feat2, hog_feat3))\n",
    "#             hog_features = np.hstack((hog1, hog2, hog3))\n",
    "#             print(len(hog_features))\n",
    "            xleft = xpos*pix_per_cell\n",
    "            ytop = ypos*pix_per_cell\n",
    "\n",
    "            # Extract the image patch\n",
    "            subimg = cv2.resize(ctrans_tosearch[ytop:ytop+window, xleft:xleft+window], (64,64))\n",
    "          \n",
    "            # Get color features\n",
    "            if spatial_feat:\n",
    "                spatial_features = bin_spatial(subimg, size=spatial_size)\n",
    "            else:\n",
    "                spatial_features = []\n",
    "                \n",
    "            if hist_feat:\n",
    "                hist_features = color_hist(subimg, nbins=hist_bins)\n",
    "            else:\n",
    "                hist_features = []\n",
    "\n",
    "            # Scale features and make a prediction\n",
    "            test_features = X_scaler.transform(np.hstack((spatial_features, hist_features, hog_features)).reshape(1, -1))    \n",
    "#             test_features = X_scaler.transform(np.hstack((shape_feat, hist_feat)).reshape(1, -1))    \n",
    "            test_prediction = svc.predict(test_features)\n",
    "            \n",
    "            if test_prediction == 1:\n",
    "                xbox_left = np.int(xleft*scale)\n",
    "                ytop_draw = np.int(ytop*scale)\n",
    "                win_draw = np.int(window*scale)\n",
    "                cv2.rectangle(draw_img,(xbox_left, ytop_draw+ystart),(xbox_left+win_draw,ytop_draw+win_draw+ystart),(0,0,255),6) \n",
    "                \n",
    "    return draw_img\n",
    "\n",
    "scale = 1.0\n",
    "\n",
    "\n",
    "for file in iglob('test_images/*.jpg'):\n",
    "    img = mpimg.imread(file)\n",
    "    img = np.array(img)\n",
    "    plt.figure()\n",
    "    out_img = find_cars(img, y_start_stop[0], y_start_stop[1], scale, svc, X_scaler, orient, pix_per_cell, cell_per_block, spatial_size, hist_bins)\n",
    "    plt.imshow(out_img)\n"
   ]
  },
  {
   "cell_type": "code",
   "execution_count": null,
   "metadata": {
    "collapsed": false
   },
   "outputs": [],
   "source": [
    "saveclf(svc, 'model.pkl')\n",
    "savescaler(X_scaler, \"scaler.pkl\")"
   ]
  },
  {
   "cell_type": "code",
   "execution_count": 6,
   "metadata": {
    "collapsed": false
   },
   "outputs": [],
   "source": [
    "svc = loadclf('model.pkl')\n",
    "X_scaler = loadscaler(\"scaler.pkl\")"
   ]
  },
  {
   "cell_type": "code",
   "execution_count": null,
   "metadata": {
    "collapsed": false
   },
   "outputs": [],
   "source": []
  },
  {
   "cell_type": "code",
   "execution_count": 7,
   "metadata": {
    "collapsed": false,
    "scrolled": true
   },
   "outputs": [
    {
     "name": "stdout",
     "output_type": "stream",
     "text": [
      "[[((900, 400), (1013, 482)), 1]]\n",
      "[MoviePy] >>>> Building video out.mp4\n",
      "[MoviePy] Writing video out.mp4\n"
     ]
    },
    {
     "name": "stderr",
     "output_type": "stream",
     "text": [
      "\r",
      "  0%|                                                                                          | 0/251 [00:00<?, ?it/s]"
     ]
    },
    {
     "name": "stdout",
     "output_type": "stream",
     "text": [
      "[956.5, 441.0] [956.5, 441.0]\n",
      "[[((900, 400), (1013, 482)), 2]]\n"
     ]
    },
    {
     "name": "stderr",
     "output_type": "stream",
     "text": [
      "\r",
      "  0%|▎                                                                               | 1/251 [00:21<1:29:35, 21.50s/it]"
     ]
    },
    {
     "name": "stdout",
     "output_type": "stream",
     "text": [
      "[956.5, 441.0] [956.5, 441.0]\n",
      "[[((900, 400), (1013, 482)), 3]]\n"
     ]
    },
    {
     "name": "stderr",
     "output_type": "stream",
     "text": [
      "\r",
      "  1%|▋                                                                               | 2/251 [00:42<1:28:59, 21.44s/it]"
     ]
    },
    {
     "name": "stdout",
     "output_type": "stream",
     "text": [
      "[956.5, 441.0] [956.5, 441.0]\n",
      "[[((900, 400), (1013, 482)), 4]]\n"
     ]
    },
    {
     "name": "stderr",
     "output_type": "stream",
     "text": [
      "\r",
      "  1%|▉                                                                               | 3/251 [01:04<1:28:36, 21.44s/it]"
     ]
    },
    {
     "name": "stdout",
     "output_type": "stream",
     "text": [
      "[956.5, 441.0] [953.0, 441.0]\n",
      "[[((900, 400), (1013, 482)), 5]]\n"
     ]
    },
    {
     "name": "stderr",
     "output_type": "stream",
     "text": [
      "\r",
      "  2%|█▎                                                                              | 4/251 [01:25<1:28:06, 21.40s/it]"
     ]
    },
    {
     "name": "stdout",
     "output_type": "stream",
     "text": [
      "[953.0, 441.0] [953.0, 441.0]\n",
      "[[((893, 400), (1013, 482)), 6]]\n"
     ]
    },
    {
     "name": "stderr",
     "output_type": "stream",
     "text": [
      "\r",
      "  2%|█▌                                                                              | 5/251 [01:47<1:27:54, 21.44s/it]"
     ]
    },
    {
     "name": "stdout",
     "output_type": "stream",
     "text": [
      "[953.0, 441.0] [953.0, 433.5]\n",
      "[[((893, 400), (1013, 482)), 7]]\n"
     ]
    },
    {
     "name": "stderr",
     "output_type": "stream",
     "text": [
      "\r",
      "  2%|█▉                                                                              | 6/251 [02:08<1:27:29, 21.43s/it]"
     ]
    },
    {
     "name": "stdout",
     "output_type": "stream",
     "text": [
      "[953.0, 433.5] [953.0, 433.5]\n",
      "[[((893, 400), (1013, 467)), 8]]\n"
     ]
    },
    {
     "name": "stderr",
     "output_type": "stream",
     "text": [
      "\r",
      "  3%|██▏                                                                             | 7/251 [02:30<1:27:32, 21.53s/it]"
     ]
    },
    {
     "name": "stdout",
     "output_type": "stream",
     "text": [
      "[953.0, 433.5] [953.0, 441.0]\n",
      "[953.0, 433.5] [551.0, 442.5]\n",
      "[953.0, 433.5] [708.5, 555.0]\n",
      "[551.0, 442.5] [708.5, 555.0]\n",
      "[[((893, 400), (1013, 467)), 9], [((540, 427), (562, 458)), 2]]\n"
     ]
    },
    {
     "name": "stderr",
     "output_type": "stream",
     "text": [
      "\r",
      "  3%|██▌                                                                             | 8/251 [02:53<1:28:58, 21.97s/it]"
     ]
    },
    {
     "name": "stdout",
     "output_type": "stream",
     "text": [
      "[953.0, 441.0] [953.0, 441.0]\n",
      "[[((893, 400), (1013, 482)), 10], [((540, 427), (562, 458)), 1.0]]\n"
     ]
    },
    {
     "name": "stderr",
     "output_type": "stream",
     "text": [
      "\r",
      "  4%|██▊                                                                             | 9/251 [03:15<1:28:45, 22.01s/it]"
     ]
    },
    {
     "name": "stdout",
     "output_type": "stream",
     "text": [
      "[953.0, 441.0] [953.0, 441.0]\n",
      "[[((893, 400), (1013, 482)), 11], [((540, 427), (562, 458)), 1.0]]\n"
     ]
    },
    {
     "name": "stderr",
     "output_type": "stream",
     "text": [
      "\r",
      "  4%|███▏                                                                           | 10/251 [03:36<1:27:30, 21.79s/it]"
     ]
    },
    {
     "name": "stdout",
     "output_type": "stream",
     "text": [
      "[953.0, 441.0] [915.5, 438.0]\n",
      "[953.0, 441.0] [981.5, 443.0]\n",
      "[[((893, 400), (1013, 482)), 13], [((540, 427), (562, 458)), 1.0]]\n"
     ]
    },
    {
     "name": "stderr",
     "output_type": "stream",
     "text": [
      "\r",
      "  4%|███▍                                                                           | 11/251 [03:58<1:26:45, 21.69s/it]"
     ]
    },
    {
     "name": "stdout",
     "output_type": "stream",
     "text": [
      "[981.5, 443.0] [943.5, 433.5]\n",
      "[[((950, 419), (1013, 467)), 14], [((540, 427), (562, 458)), 1.0]]\n"
     ]
    },
    {
     "name": "stderr",
     "output_type": "stream",
     "text": [
      "\r",
      "  5%|███▊                                                                           | 12/251 [04:19<1:26:14, 21.65s/it]"
     ]
    },
    {
     "name": "stdout",
     "output_type": "stream",
     "text": [
      "[943.5, 433.5] [951.5, 445.5]\n",
      "[[((893, 400), (994, 467)), 15], [((540, 427), (562, 458)), 1.0]]\n"
     ]
    },
    {
     "name": "stderr",
     "output_type": "stream",
     "text": [
      "\r",
      "  5%|████                                                                           | 13/251 [04:41<1:25:33, 21.57s/it]"
     ]
    },
    {
     "name": "stdout",
     "output_type": "stream",
     "text": [
      "[951.5, 445.5] [951.5, 436.0]\n",
      "[951.5, 445.5] [762.5, 622.5]\n",
      "[551.0, 442.5] [762.5, 622.5]\n",
      "[[((900, 409), (1003, 482)), 16], [((540, 427), (562, 458)), 1.0], [((747, 616), (778, 629)), 1]]\n"
     ]
    },
    {
     "name": "stderr",
     "output_type": "stream",
     "text": [
      "\r",
      "  6%|████▍                                                                          | 14/251 [05:02<1:24:56, 21.51s/it]"
     ]
    },
    {
     "name": "stdout",
     "output_type": "stream",
     "text": [
      "[951.5, 436.0] [947.0, 445.5]\n",
      "[[((900, 409), (1003, 463)), 17], [((540, 427), (562, 458)), 1.0], [((747, 616), (778, 629)), 1]]\n"
     ]
    },
    {
     "name": "stderr",
     "output_type": "stream",
     "text": [
      "\r",
      "  6%|████▋                                                                          | 15/251 [05:23<1:24:35, 21.51s/it]"
     ]
    },
    {
     "name": "stdout",
     "output_type": "stream",
     "text": [
      "[947.0, 445.5] [942.5, 433.5]\n",
      "[947.0, 445.5] [906.5, 640.5]\n",
      "[[((900, 409), (994, 482)), 19], [((540, 427), (562, 458)), 1.0], [((747, 616), (778, 629)), 1]]\n"
     ]
    },
    {
     "name": "stderr",
     "output_type": "stream",
     "text": [
      "\r",
      "  6%|█████                                                                          | 16/251 [05:47<1:26:23, 22.06s/it]"
     ]
    },
    {
     "name": "stdout",
     "output_type": "stream",
     "text": [
      "[942.5, 433.5] [967.0, 431.5]\n",
      "[942.5, 433.5] [907.5, 442.5]\n",
      "[[((891, 400), (994, 467)), 21], [((540, 427), (562, 458)), 1.0], [((747, 616), (778, 629)), 1]]\n"
     ]
    },
    {
     "name": "stderr",
     "output_type": "stream",
     "text": [
      "\r",
      "  7%|█████▎                                                                         | 17/251 [06:10<1:27:47, 22.51s/it]"
     ]
    },
    {
     "name": "stdout",
     "output_type": "stream",
     "text": [
      "[967.0, 431.5] [942.5, 436.0]\n",
      "[[((931, 400), (1003, 463)), 22], [((540, 427), (562, 458)), 1.0], [((747, 616), (778, 629)), 1]]\n"
     ]
    },
    {
     "name": "stderr",
     "output_type": "stream",
     "text": [
      "\r",
      "  7%|█████▋                                                                         | 18/251 [06:32<1:26:12, 22.20s/it]"
     ]
    },
    {
     "name": "stdout",
     "output_type": "stream",
     "text": [
      "[942.5, 436.0] [981.5, 433.5]\n",
      "[942.5, 436.0] [915.5, 433.5]\n",
      "[942.5, 436.0] [695.0, 573.0]\n",
      "[551.0, 442.5] [695.0, 573.0]\n",
      "[[((891, 409), (994, 463)), 24], [((540, 427), (562, 458)), 2.0], [((747, 616), (778, 629)), 1]]\n"
     ]
    },
    {
     "name": "stderr",
     "output_type": "stream",
     "text": [
      "\r",
      "  8%|█████▉                                                                         | 19/251 [06:53<1:24:41, 21.90s/it]"
     ]
    },
    {
     "name": "stdout",
     "output_type": "stream",
     "text": [
      "[981.5, 433.5] [981.5, 431.5]\n",
      "[981.5, 433.5] [749.0, 609.0]\n",
      "[695.0, 573.0] [749.0, 609.0]\n",
      "[[((950, 400), (1013, 467)), 25], [((693, 562), (697, 584)), 3.0], [((747, 616), (778, 629)), 1]]\n"
     ]
    },
    {
     "name": "stderr",
     "output_type": "stream",
     "text": [
      "\r",
      "  8%|██████▎                                                                        | 20/251 [07:14<1:23:50, 21.78s/it]"
     ]
    },
    {
     "name": "stdout",
     "output_type": "stream",
     "text": [
      "[981.5, 431.5] [981.5, 431.5]\n",
      "[981.5, 431.5] [906.5, 438.0]\n",
      "[981.5, 431.5] [213.5, 501.0]\n",
      "[749.0, 609.0] [213.5, 501.0]\n",
      "[762.5, 622.5] [213.5, 501.0]\n",
      "[[((950, 400), (1013, 463)), 27], [((738, 598), (760, 620)), 2.0], [((747, 616), (778, 629)), 1], [((198, 490), (229, 512)), 1]]\n"
     ]
    },
    {
     "name": "stderr",
     "output_type": "stream",
     "text": [
      "\r",
      "  8%|██████▌                                                                        | 21/251 [07:36<1:23:13, 21.71s/it]"
     ]
    },
    {
     "name": "stdout",
     "output_type": "stream",
     "text": [
      "[981.5, 431.5] [981.5, 431.5]\n",
      "[981.5, 431.5] [906.5, 438.0]\n",
      "[981.5, 431.5] [600.5, 622.5]\n",
      "[749.0, 609.0] [600.5, 622.5]\n",
      "[[((950, 400), (1013, 463)), 29], [((738, 598), (760, 620)), 3.0], [((747, 616), (778, 629)), 1], [((198, 490), (229, 512)), 1]]\n"
     ]
    },
    {
     "name": "stderr",
     "output_type": "stream",
     "text": [
      "\r",
      "  9%|██████▉                                                                        | 22/251 [07:57<1:22:23, 21.59s/it]"
     ]
    },
    {
     "name": "stdout",
     "output_type": "stream",
     "text": [
      "[981.5, 431.5] [981.5, 431.5]\n",
      "[981.5, 431.5] [906.5, 447.0]\n",
      "[981.5, 431.5] [515.0, 460.5]\n",
      "[600.5, 622.5] [515.0, 460.5]\n",
      "[981.5, 431.5] [789.5, 627.0]\n",
      "[600.5, 622.5] [789.5, 627.0]\n",
      "[981.5, 431.5] [744.5, 627.0]\n",
      "[600.5, 622.5] [744.5, 627.0]\n",
      "[[((950, 400), (1013, 463)), 31], [((585, 616), (616, 629)), 6.0], [((747, 616), (778, 629)), 1], [((198, 490), (229, 512)), 1]]\n"
     ]
    },
    {
     "name": "stderr",
     "output_type": "stream",
     "text": [
      "\r",
      "  9%|███████▏                                                                       | 23/251 [08:20<1:23:39, 22.01s/it]"
     ]
    },
    {
     "name": "stdout",
     "output_type": "stream",
     "text": [
      "[981.5, 431.5] [952.0, 441.0]\n",
      "[981.5, 431.5] [753.5, 622.5]\n",
      "[789.5, 627.0] [753.5, 622.5]\n",
      "[[((950, 400), (1013, 463)), 32], [((774, 607), (805, 647)), 7.0], [((747, 616), (778, 629)), 1], [((198, 490), (229, 512)), 1]]\n"
     ]
    },
    {
     "name": "stderr",
     "output_type": "stream",
     "text": [
      "\r",
      " 10%|███████▌                                                                       | 24/251 [08:42<1:23:18, 22.02s/it]"
     ]
    },
    {
     "name": "stdout",
     "output_type": "stream",
     "text": [
      "[952.0, 441.0] [952.0, 441.0]\n",
      "[[((891, 400), (1013, 482)), 33], [((729, 598), (778, 647)), 6.0], [((747, 616), (778, 629)), 1], [((198, 490), (229, 512)), 1]]\n"
     ]
    },
    {
     "name": "stderr",
     "output_type": "stream",
     "text": [
      "\r",
      " 10%|███████▊                                                                       | 25/251 [09:07<1:26:27, 22.95s/it]"
     ]
    },
    {
     "name": "stdout",
     "output_type": "stream",
     "text": [
      "[952.0, 441.0] [942.5, 441.0]\n",
      "[952.0, 441.0] [150.5, 496.5]\n",
      "[753.5, 622.5] [150.5, 496.5]\n",
      "[762.5, 622.5] [150.5, 496.5]\n",
      "[213.5, 501.0] [150.5, 496.5]\n",
      "[952.0, 441.0] [231.5, 492.0]\n",
      "[753.5, 622.5] [231.5, 492.0]\n",
      "[762.5, 622.5] [231.5, 492.0]\n",
      "[213.5, 501.0] [231.5, 492.0]\n",
      "[[((891, 400), (1013, 482)), 34], [((729, 598), (778, 647)), 5.0], [((747, 616), (778, 629)), 1], [((198, 490), (229, 512)), 3]]\n"
     ]
    },
    {
     "name": "stderr",
     "output_type": "stream",
     "text": [
      "\r",
      " 10%|████████▏                                                                      | 26/251 [09:29<1:24:23, 22.50s/it]"
     ]
    },
    {
     "name": "stdout",
     "output_type": "stream",
     "text": [
      "[942.5, 441.0] [942.5, 441.0]\n",
      "[942.5, 441.0] [497.0, 478.5]\n",
      "[753.5, 622.5] [497.0, 478.5]\n",
      "[762.5, 622.5] [497.0, 478.5]\n",
      "[150.5, 496.5] [497.0, 478.5]\n",
      "[942.5, 441.0] [411.5, 505.5]\n",
      "[753.5, 622.5] [411.5, 505.5]\n",
      "[762.5, 622.5] [411.5, 505.5]\n",
      "[150.5, 496.5] [411.5, 505.5]\n",
      "[942.5, 441.0] [744.5, 541.5]\n",
      "[942.5, 441.0] [744.5, 564.0]\n",
      "[753.5, 622.5] [744.5, 564.0]\n",
      "[942.5, 441.0] [780.5, 622.5]\n",
      "[753.5, 622.5] [780.5, 622.5]\n",
      "[[((891, 400), (994, 482)), 36], [((729, 598), (778, 647)), 7.0], [((747, 616), (778, 629)), 1], [((135, 481), (166, 512)), 4], [((477, 463), (517, 494)), 1]]\n"
     ]
    },
    {
     "name": "stderr",
     "output_type": "stream",
     "text": [
      "\r",
      " 11%|████████▍                                                                      | 27/251 [09:50<1:22:45, 22.17s/it]"
     ]
    },
    {
     "name": "stdout",
     "output_type": "stream",
     "text": [
      "[942.5, 441.0] [942.5, 441.0]\n",
      "[942.5, 441.0] [461.0, 465.0]\n",
      "[780.5, 622.5] [461.0, 465.0]\n",
      "[762.5, 622.5] [461.0, 465.0]\n",
      "[411.5, 505.5] [461.0, 465.0]\n",
      "[942.5, 441.0] [749.0, 591.0]\n",
      "[780.5, 622.5] [749.0, 591.0]\n",
      "[942.5, 441.0] [762.5, 627.0]\n",
      "[780.5, 622.5] [762.5, 627.0]\n",
      "[942.5, 441.0] [807.5, 609.0]\n",
      "[780.5, 622.5] [807.5, 609.0]\n",
      "[942.5, 441.0] [825.5, 618.0]\n",
      "[[((891, 400), (994, 482)), 38], [((765, 598), (796, 647)), 10.0], [((747, 616), (778, 629)), 1], [((405, 499), (418, 512)), 5], [((477, 463), (517, 494)), 1]]\n"
     ]
    },
    {
     "name": "stderr",
     "output_type": "stream",
     "text": [
      "\r",
      " 11%|████████▊                                                                      | 28/251 [10:12<1:21:36, 21.96s/it]"
     ]
    },
    {
     "name": "stdout",
     "output_type": "stream",
     "text": [
      "[942.5, 441.0] [952.0, 441.0]\n",
      "[942.5, 441.0] [497.0, 469.5]\n",
      "[762.5, 627.0] [497.0, 469.5]\n",
      "[762.5, 622.5] [497.0, 469.5]\n",
      "[461.0, 465.0] [497.0, 469.5]\n",
      "[[((891, 400), (994, 482)), 39], [((747, 607), (778, 647)), 9.0], [((747, 616), (778, 629)), 1], [((450, 454), (472, 476)), 6], [((477, 463), (517, 494)), 1]]\n"
     ]
    },
    {
     "name": "stderr",
     "output_type": "stream",
     "text": [
      "\r",
      " 12%|█████████▏                                                                     | 29/251 [10:34<1:21:11, 21.94s/it]"
     ]
    },
    {
     "name": "stdout",
     "output_type": "stream",
     "text": [
      "[952.0, 441.0] [947.0, 445.5]\n",
      "[952.0, 441.0] [564.5, 492.0]\n",
      "[762.5, 627.0] [564.5, 492.0]\n",
      "[762.5, 622.5] [564.5, 492.0]\n",
      "[497.0, 469.5] [564.5, 492.0]\n",
      "[952.0, 441.0] [785.0, 631.5]\n",
      "[762.5, 627.0] [785.0, 631.5]\n",
      "[[((891, 400), (1013, 482)), 40], [((747, 607), (778, 647)), 10.0], [((747, 616), (778, 629)), 1], [((495, 454), (499, 485)), 7], [((477, 463), (517, 494)), 1]]\n"
     ]
    },
    {
     "name": "stderr",
     "output_type": "stream",
     "text": [
      "\r",
      " 12%|█████████▍                                                                     | 30/251 [10:55<1:20:15, 21.79s/it]"
     ]
    },
    {
     "name": "stdout",
     "output_type": "stream",
     "text": [
      "[947.0, 445.5] [951.5, 441.0]\n",
      "[947.0, 445.5] [474.5, 483.0]\n",
      "[785.0, 631.5] [474.5, 483.0]\n",
      "[762.5, 622.5] [474.5, 483.0]\n",
      "[564.5, 492.0] [474.5, 483.0]\n",
      "[947.0, 445.5] [447.5, 501.0]\n",
      "[785.0, 631.5] [447.5, 501.0]\n",
      "[762.5, 622.5] [447.5, 501.0]\n",
      "[564.5, 492.0] [447.5, 501.0]\n",
      "[947.0, 445.5] [465.5, 505.5]\n",
      "[785.0, 631.5] [465.5, 505.5]\n",
      "[762.5, 622.5] [465.5, 505.5]\n",
      "[564.5, 492.0] [465.5, 505.5]\n",
      "[947.0, 445.5] [447.5, 519.0]\n",
      "[785.0, 631.5] [447.5, 519.0]\n",
      "[762.5, 622.5] [447.5, 519.0]\n",
      "[564.5, 492.0] [447.5, 519.0]\n",
      "[947.0, 445.5] [798.5, 631.5]\n",
      "[785.0, 631.5] [798.5, 631.5]\n",
      "[[((900, 409), (994, 482)), 41], [((774, 616), (796, 647)), 11.0], [((747, 616), (778, 629)), 1], [((549, 481), (580, 503)), 11], [((477, 463), (517, 494)), 1]]\n"
     ]
    },
    {
     "name": "stderr",
     "output_type": "stream",
     "text": [
      "\r",
      " 12%|█████████▊                                                                     | 31/251 [11:17<1:19:42, 21.74s/it]"
     ]
    },
    {
     "name": "stdout",
     "output_type": "stream",
     "text": [
      "[951.5, 441.0] [951.5, 450.0]\n",
      "[951.5, 441.0] [470.0, 492.0]\n",
      "[798.5, 631.5] [470.0, 492.0]\n",
      "[762.5, 622.5] [470.0, 492.0]\n",
      "[447.5, 519.0] [470.0, 492.0]\n",
      "[951.5, 441.0] [798.5, 622.5]\n",
      "[798.5, 631.5] [798.5, 622.5]\n",
      "[[((909, 400), (994, 482)), 42], [((783, 607), (814, 656)), 12.0], [((747, 616), (778, 629)), 1], [((441, 508), (454, 530)), 12], [((477, 463), (517, 494)), 1]]\n"
     ]
    },
    {
     "name": "stderr",
     "output_type": "stream",
     "text": [
      "\r",
      " 13%|██████████                                                                     | 32/251 [11:38<1:19:10, 21.69s/it]"
     ]
    },
    {
     "name": "stdout",
     "output_type": "stream",
     "text": [
      "[951.5, 450.0] [951.5, 450.0]\n",
      "[951.5, 450.0] [438.5, 501.0]\n",
      "[798.5, 622.5] [438.5, 501.0]\n",
      "[762.5, 622.5] [438.5, 501.0]\n",
      "[470.0, 492.0] [438.5, 501.0]\n",
      "[[((909, 418), (994, 482)), 43], [((783, 607), (814, 638)), 11.0], [((747, 616), (778, 629)), 1], [((432, 463), (508, 521)), 13], [((477, 463), (517, 494)), 1]]\n"
     ]
    },
    {
     "name": "stderr",
     "output_type": "stream",
     "text": [
      "\r",
      " 13%|██████████▍                                                                    | 33/251 [12:03<1:21:32, 22.44s/it]"
     ]
    },
    {
     "name": "stdout",
     "output_type": "stream",
     "text": [
      "[951.5, 450.0] [951.5, 447.0]\n",
      "[951.5, 450.0] [447.5, 505.5]\n",
      "[798.5, 622.5] [447.5, 505.5]\n",
      "[762.5, 622.5] [447.5, 505.5]\n",
      "[438.5, 501.0] [447.5, 505.5]\n",
      "[951.5, 450.0] [290.0, 568.5]\n",
      "[798.5, 622.5] [290.0, 568.5]\n",
      "[762.5, 622.5] [290.0, 568.5]\n",
      "[438.5, 501.0] [290.0, 568.5]\n",
      "[[((909, 418), (994, 482)), 44], [((783, 607), (814, 638)), 10.0], [((747, 616), (778, 629)), 1], [((432, 490), (445, 512)), 15], [((477, 463), (517, 494)), 1]]\n"
     ]
    },
    {
     "name": "stderr",
     "output_type": "stream",
     "text": [
      "\r",
      " 14%|██████████▋                                                                    | 34/251 [12:24<1:20:32, 22.27s/it]"
     ]
    },
    {
     "name": "stdout",
     "output_type": "stream",
     "text": [
      "[951.5, 447.0] [942.0, 447.0]\n",
      "[951.5, 447.0] [447.5, 505.5]\n",
      "[798.5, 622.5] [447.5, 505.5]\n",
      "[762.5, 622.5] [447.5, 505.5]\n",
      "[447.5, 505.5] [447.5, 505.5]\n",
      "[951.5, 447.0] [290.0, 577.5]\n",
      "[798.5, 622.5] [290.0, 577.5]\n",
      "[762.5, 622.5] [290.0, 577.5]\n",
      "[447.5, 505.5] [290.0, 577.5]\n",
      "[951.5, 447.0] [330.5, 586.5]\n",
      "[798.5, 622.5] [330.5, 586.5]\n",
      "[762.5, 622.5] [330.5, 586.5]\n",
      "[447.5, 505.5] [330.5, 586.5]\n",
      "[[((909, 418), (994, 476)), 45], [((783, 607), (814, 638)), 9.0], [((747, 616), (778, 629)), 1], [((441, 499), (454, 512)), 18], [((477, 463), (517, 494)), 1]]\n"
     ]
    },
    {
     "name": "stderr",
     "output_type": "stream",
     "text": [
      "\r",
      " 14%|███████████                                                                    | 35/251 [12:47<1:20:58, 22.49s/it]"
     ]
    },
    {
     "name": "stdout",
     "output_type": "stream",
     "text": [
      "[942.0, 447.0] [956.0, 441.0]\n",
      "[942.0, 447.0] [501.5, 478.5]\n",
      "[798.5, 622.5] [501.5, 478.5]\n",
      "[762.5, 622.5] [501.5, 478.5]\n",
      "[290.0, 577.5] [501.5, 478.5]\n",
      "[497.0, 478.5] [501.5, 478.5]\n",
      "[942.0, 447.0] [744.5, 510.0]\n",
      "[942.0, 447.0] [155.0, 604.5]\n",
      "[798.5, 622.5] [155.0, 604.5]\n",
      "[762.5, 622.5] [155.0, 604.5]\n",
      "[290.0, 577.5] [155.0, 604.5]\n",
      "[942.0, 447.0] [65.0, 609.0]\n",
      "[798.5, 622.5] [65.0, 609.0]\n",
      "[762.5, 622.5] [65.0, 609.0]\n",
      "[290.0, 577.5] [65.0, 609.0]\n",
      "[[((909, 418), (975, 476)), 47], [((783, 607), (814, 638)), 8.0], [((747, 616), (778, 629)), 1], [((270, 553), (310, 602)), 20], [((477, 463), (517, 494)), 2]]\n"
     ]
    },
    {
     "name": "stderr",
     "output_type": "stream",
     "text": [
      "\r",
      " 14%|███████████▎                                                                   | 36/251 [13:09<1:19:13, 22.11s/it]"
     ]
    },
    {
     "name": "stdout",
     "output_type": "stream",
     "text": [
      "[956.0, 441.0] [953.0, 431.5]\n",
      "[956.0, 441.0] [366.5, 532.5]\n",
      "[798.5, 622.5] [366.5, 532.5]\n",
      "[762.5, 622.5] [366.5, 532.5]\n",
      "[155.0, 604.5] [366.5, 532.5]\n",
      "[956.0, 441.0] [402.5, 532.5]\n",
      "[798.5, 622.5] [402.5, 532.5]\n",
      "[762.5, 622.5] [402.5, 532.5]\n",
      "[155.0, 604.5] [402.5, 532.5]\n",
      "[501.5, 478.5] [402.5, 532.5]\n",
      "[956.0, 441.0] [749.0, 528.0]\n",
      "[956.0, 441.0] [744.5, 550.5]\n",
      "[798.5, 622.5] [744.5, 550.5]\n",
      "[956.0, 441.0] [47.0, 645.0]\n",
      "[798.5, 622.5] [47.0, 645.0]\n",
      "[762.5, 622.5] [47.0, 645.0]\n",
      "[155.0, 604.5] [47.0, 645.0]\n",
      "[956.0, 441.0] [141.5, 649.5]\n",
      "[798.5, 622.5] [141.5, 649.5]\n",
      "[762.5, 622.5] [141.5, 649.5]\n",
      "[155.0, 604.5] [141.5, 649.5]\n",
      "[956.0, 441.0] [218.0, 649.5]\n",
      "[798.5, 622.5] [218.0, 649.5]\n",
      "[762.5, 622.5] [218.0, 649.5]\n",
      "[155.0, 604.5] [218.0, 649.5]\n",
      "[[((909, 400), (1003, 482)), 49], [((783, 607), (814, 638)), 9.0], [((747, 616), (778, 629)), 1], [((99, 562), (211, 647)), 24], [((486, 463), (517, 494)), 3]]\n"
     ]
    },
    {
     "name": "stderr",
     "output_type": "stream",
     "text": [
      "\r",
      " 15%|███████████▋                                                                   | 37/251 [13:30<1:17:47, 21.81s/it]"
     ]
    },
    {
     "name": "stdout",
     "output_type": "stream",
     "text": [
      "[953.0, 431.5] [953.0, 441.0]\n",
      "[953.0, 431.5] [465.5, 496.5]\n",
      "[744.5, 550.5] [465.5, 496.5]\n",
      "[762.5, 622.5] [465.5, 496.5]\n",
      "[47.0, 645.0] [465.5, 496.5]\n",
      "[402.5, 532.5] [465.5, 496.5]\n",
      "[953.0, 431.5] [380.0, 546.0]\n",
      "[744.5, 550.5] [380.0, 546.0]\n",
      "[762.5, 622.5] [380.0, 546.0]\n",
      "[47.0, 645.0] [380.0, 546.0]\n",
      "[402.5, 532.5] [380.0, 546.0]\n",
      "[953.0, 431.5] [231.5, 586.5]\n",
      "[744.5, 550.5] [231.5, 586.5]\n",
      "[762.5, 622.5] [231.5, 586.5]\n",
      "[47.0, 645.0] [231.5, 586.5]\n",
      "[953.0, 431.5] [866.0, 636.0]\n",
      "[953.0, 431.5] [888.5, 640.5]\n",
      "[953.0, 431.5] [150.5, 649.5]\n",
      "[744.5, 550.5] [150.5, 649.5]\n",
      "[762.5, 622.5] [150.5, 649.5]\n",
      "[47.0, 645.0] [150.5, 649.5]\n",
      "[953.0, 431.5] [29.0, 654.0]\n",
      "[744.5, 550.5] [29.0, 654.0]\n",
      "[762.5, 622.5] [29.0, 654.0]\n",
      "[47.0, 645.0] [29.0, 654.0]\n",
      "[953.0, 431.5] [209.0, 658.5]\n",
      "[744.5, 550.5] [209.0, 658.5]\n",
      "[762.5, 622.5] [209.0, 658.5]\n",
      "[47.0, 645.0] [209.0, 658.5]\n",
      "[[((912, 400), (994, 463)), 52], [((729, 544), (760, 557)), 8.0], [((747, 616), (778, 629)), 1], [((18, 625), (76, 665)), 28], [((387, 517), (418, 548)), 5]]\n"
     ]
    },
    {
     "name": "stderr",
     "output_type": "stream",
     "text": [
      "\r",
      " 15%|███████████▉                                                                   | 38/251 [13:51<1:16:47, 21.63s/it]"
     ]
    },
    {
     "name": "stdout",
     "output_type": "stream",
     "text": [
      "[953.0, 441.0] [953.0, 441.0]\n",
      "[953.0, 441.0] [483.5, 496.5]\n",
      "[744.5, 550.5] [483.5, 496.5]\n",
      "[762.5, 622.5] [483.5, 496.5]\n",
      "[231.5, 586.5] [483.5, 496.5]\n",
      "[465.5, 496.5] [483.5, 496.5]\n",
      "[953.0, 441.0] [272.0, 577.5]\n",
      "[744.5, 550.5] [272.0, 577.5]\n",
      "[762.5, 622.5] [272.0, 577.5]\n",
      "[231.5, 586.5] [272.0, 577.5]\n",
      "[953.0, 441.0] [245.0, 568.5]\n",
      "[744.5, 550.5] [245.0, 568.5]\n",
      "[762.5, 622.5] [245.0, 568.5]\n",
      "[231.5, 586.5] [245.0, 568.5]\n",
      "[953.0, 441.0] [186.5, 591.0]\n",
      "[744.5, 550.5] [186.5, 591.0]\n",
      "[762.5, 622.5] [186.5, 591.0]\n",
      "[231.5, 586.5] [186.5, 591.0]\n",
      "[953.0, 441.0] [218.0, 573.0]\n",
      "[744.5, 550.5] [218.0, 573.0]\n",
      "[762.5, 622.5] [218.0, 573.0]\n",
      "[231.5, 586.5] [218.0, 573.0]\n",
      "[953.0, 441.0] [24.5, 649.5]\n",
      "[744.5, 550.5] [24.5, 649.5]\n",
      "[762.5, 622.5] [24.5, 649.5]\n",
      "[231.5, 586.5] [24.5, 649.5]\n",
      "[[((912, 400), (994, 482)), 53], [((729, 544), (760, 557)), 7.0], [((747, 616), (778, 629)), 1], [((216, 571), (247, 602)), 33], [((450, 481), (481, 512)), 6]]\n"
     ]
    },
    {
     "name": "stderr",
     "output_type": "stream",
     "text": [
      "\r",
      " 16%|████████████▎                                                                  | 39/251 [14:12<1:15:59, 21.51s/it]"
     ]
    },
    {
     "name": "stdout",
     "output_type": "stream",
     "text": [
      "[953.0, 441.0] [943.5, 441.0]\n",
      "[953.0, 441.0] [213.5, 577.5]\n",
      "[744.5, 550.5] [213.5, 577.5]\n",
      "[762.5, 622.5] [213.5, 577.5]\n",
      "[272.0, 577.5] [213.5, 577.5]\n",
      "[953.0, 441.0] [335.0, 577.5]\n",
      "[744.5, 550.5] [335.0, 577.5]\n",
      "[762.5, 622.5] [335.0, 577.5]\n",
      "[272.0, 577.5] [335.0, 577.5]\n",
      "[[((912, 400), (994, 482)), 54], [((729, 544), (760, 557)), 6.0], [((747, 616), (778, 629)), 1], [((252, 553), (292, 602)), 35], [((468, 481), (499, 512)), 5.0]]\n"
     ]
    },
    {
     "name": "stderr",
     "output_type": "stream",
     "text": [
      "\r",
      " 16%|████████████▌                                                                  | 40/251 [14:33<1:15:01, 21.34s/it]"
     ]
    },
    {
     "name": "stdout",
     "output_type": "stream",
     "text": [
      "[943.5, 441.0] [920.0, 433.5]\n",
      "[943.5, 441.0] [456.5, 505.5]\n",
      "[744.5, 550.5] [456.5, 505.5]\n",
      "[762.5, 622.5] [456.5, 505.5]\n",
      "[335.0, 577.5] [456.5, 505.5]\n",
      "[[((893, 400), (994, 482)), 55], [((729, 544), (760, 557)), 5.0], [((747, 616), (778, 629)), 1], [((306, 553), (364, 602)), 36], [((468, 481), (499, 512)), 4.0]]\n"
     ]
    },
    {
     "name": "stderr",
     "output_type": "stream",
     "text": [
      "\r",
      " 16%|████████████▉                                                                  | 41/251 [14:56<1:16:33, 21.87s/it]"
     ]
    },
    {
     "name": "stdout",
     "output_type": "stream",
     "text": [
      "[920.0, 433.5] [924.5, 438.0]\n",
      "[920.0, 433.5] [429.5, 519.0]\n",
      "[744.5, 550.5] [429.5, 519.0]\n",
      "[762.5, 622.5] [429.5, 519.0]\n",
      "[456.5, 505.5] [429.5, 519.0]\n",
      "[920.0, 433.5] [222.5, 609.0]\n",
      "[744.5, 550.5] [222.5, 609.0]\n",
      "[762.5, 622.5] [222.5, 609.0]\n",
      "[456.5, 505.5] [222.5, 609.0]\n",
      "[483.5, 496.5] [222.5, 609.0]\n",
      "[920.0, 433.5] [213.5, 627.0]\n",
      "[744.5, 550.5] [213.5, 627.0]\n",
      "[762.5, 622.5] [213.5, 627.0]\n",
      "[456.5, 505.5] [213.5, 627.0]\n",
      "[483.5, 496.5] [213.5, 627.0]\n",
      "[222.5, 609.0] [213.5, 627.0]\n",
      "[920.0, 433.5] [231.5, 627.0]\n",
      "[744.5, 550.5] [231.5, 627.0]\n",
      "[762.5, 622.5] [231.5, 627.0]\n",
      "[456.5, 505.5] [231.5, 627.0]\n",
      "[483.5, 496.5] [231.5, 627.0]\n",
      "[222.5, 609.0] [231.5, 627.0]\n",
      "[920.0, 433.5] [78.5, 649.5]\n",
      "[744.5, 550.5] [78.5, 649.5]\n",
      "[762.5, 622.5] [78.5, 649.5]\n",
      "[456.5, 505.5] [78.5, 649.5]\n",
      "[483.5, 496.5] [78.5, 649.5]\n",
      "[222.5, 609.0] [78.5, 649.5]\n",
      "[920.0, 433.5] [254.0, 645.0]\n",
      "[744.5, 550.5] [254.0, 645.0]\n",
      "[762.5, 622.5] [254.0, 645.0]\n",
      "[456.5, 505.5] [254.0, 645.0]\n",
      "[483.5, 496.5] [254.0, 645.0]\n",
      "[222.5, 609.0] [254.0, 645.0]\n",
      "[920.0, 433.5] [272.0, 645.0]\n",
      "[744.5, 550.5] [272.0, 645.0]\n",
      "[762.5, 622.5] [272.0, 645.0]\n",
      "[456.5, 505.5] [272.0, 645.0]\n",
      "[483.5, 496.5] [272.0, 645.0]\n",
      "[222.5, 609.0] [272.0, 645.0]\n",
      "[[((891, 409), (949, 458)), 56], [((729, 544), (760, 557)), 4.0], [((747, 616), (778, 629)), 1], [((441, 490), (472, 521)), 37], [((468, 481), (499, 512)), 3.0], [((207, 598), (238, 620)), 6]]\n"
     ]
    },
    {
     "name": "stderr",
     "output_type": "stream",
     "text": [
      "\r",
      " 17%|█████████████▏                                                                 | 42/251 [15:18<1:16:07, 21.85s/it]"
     ]
    },
    {
     "name": "stdout",
     "output_type": "stream",
     "text": [
      "[924.5, 438.0] [924.5, 431.5]\n",
      "[924.5, 438.0] [416.0, 523.5]\n",
      "[744.5, 550.5] [416.0, 523.5]\n",
      "[762.5, 622.5] [416.0, 523.5]\n",
      "[429.5, 519.0] [416.0, 523.5]\n",
      "[924.5, 438.0] [137.0, 645.0]\n",
      "[744.5, 550.5] [137.0, 645.0]\n",
      "[762.5, 622.5] [137.0, 645.0]\n",
      "[429.5, 519.0] [137.0, 645.0]\n",
      "[483.5, 496.5] [137.0, 645.0]\n",
      "[78.5, 649.5] [137.0, 645.0]\n",
      "[924.5, 438.0] [276.5, 636.0]\n",
      "[744.5, 550.5] [276.5, 636.0]\n",
      "[762.5, 622.5] [276.5, 636.0]\n",
      "[429.5, 519.0] [276.5, 636.0]\n",
      "[924.5, 438.0] [258.5, 658.5]\n",
      "[744.5, 550.5] [258.5, 658.5]\n",
      "[762.5, 622.5] [258.5, 658.5]\n",
      "[429.5, 519.0] [258.5, 658.5]\n",
      "[483.5, 496.5] [258.5, 658.5]\n",
      "[78.5, 649.5] [258.5, 658.5]\n",
      "[[((900, 418), (949, 458)), 57], [((729, 544), (760, 557)), 3.0], [((747, 616), (778, 629)), 1], [((378, 499), (481, 539)), 39], [((468, 481), (499, 512)), 2.0], [((63, 634), (94, 665)), 8]]\n"
     ]
    },
    {
     "name": "stderr",
     "output_type": "stream",
     "text": [
      "\r",
      " 17%|█████████████▌                                                                 | 43/251 [15:39<1:15:07, 21.67s/it]"
     ]
    },
    {
     "name": "stdout",
     "output_type": "stream",
     "text": [
      "[924.5, 431.5] [924.5, 431.5]\n",
      "[924.5, 431.5] [353.0, 541.5]\n",
      "[744.5, 550.5] [353.0, 541.5]\n",
      "[762.5, 622.5] [353.0, 541.5]\n",
      "[416.0, 523.5] [353.0, 541.5]\n",
      "[924.5, 431.5] [402.5, 528.0]\n",
      "[744.5, 550.5] [402.5, 528.0]\n",
      "[762.5, 622.5] [402.5, 528.0]\n",
      "[416.0, 523.5] [402.5, 528.0]\n",
      "[924.5, 431.5] [258.5, 577.5]\n",
      "[744.5, 550.5] [258.5, 577.5]\n",
      "[762.5, 622.5] [258.5, 577.5]\n",
      "[416.0, 523.5] [258.5, 577.5]\n",
      "[924.5, 431.5] [60.5, 658.5]\n",
      "[744.5, 550.5] [60.5, 658.5]\n",
      "[762.5, 622.5] [60.5, 658.5]\n",
      "[416.0, 523.5] [60.5, 658.5]\n",
      "[483.5, 496.5] [60.5, 658.5]\n",
      "[137.0, 645.0] [60.5, 658.5]\n",
      "[[((891, 400), (958, 463)), 58], [((729, 544), (760, 557)), 2.0], [((747, 616), (778, 629)), 1], [((378, 508), (454, 539)), 42], [((468, 481), (499, 512)), 1.0], [((117, 625), (157, 665)), 9]]\n"
     ]
    },
    {
     "name": "stderr",
     "output_type": "stream",
     "text": [
      "\r",
      " 18%|█████████████▊                                                                 | 44/251 [16:00<1:14:10, 21.50s/it]"
     ]
    },
    {
     "name": "stdout",
     "output_type": "stream",
     "text": [
      "[924.5, 431.5] [924.5, 431.5]\n",
      "[924.5, 431.5] [380.0, 541.5]\n",
      "[744.5, 550.5] [380.0, 541.5]\n",
      "[762.5, 622.5] [380.0, 541.5]\n",
      "[258.5, 577.5] [380.0, 541.5]\n",
      "[924.5, 431.5] [366.5, 564.0]\n",
      "[744.5, 550.5] [366.5, 564.0]\n",
      "[762.5, 622.5] [366.5, 564.0]\n",
      "[258.5, 577.5] [366.5, 564.0]\n",
      "[[((893, 400), (956, 463)), 59], [((729, 544), (760, 557)), 1.0], [((747, 616), (778, 629)), 1], [((252, 562), (265, 593)), 44], [((468, 481), (499, 512)), 1.0], [((45, 643), (76, 674)), 8.0]]\n"
     ]
    },
    {
     "name": "stderr",
     "output_type": "stream",
     "text": [
      "\r",
      " 18%|██████████████▏                                                                | 45/251 [16:22<1:13:42, 21.47s/it]"
     ]
    },
    {
     "name": "stdout",
     "output_type": "stream",
     "text": [
      "[924.5, 431.5] [924.5, 431.5]\n",
      "[924.5, 431.5] [983.0, 449.5]\n",
      "[924.5, 431.5] [357.5, 568.5]\n",
      "[744.5, 550.5] [357.5, 568.5]\n",
      "[762.5, 622.5] [357.5, 568.5]\n",
      "[380.0, 541.5] [357.5, 568.5]\n",
      "[924.5, 431.5] [38.0, 582.0]\n",
      "[744.5, 550.5] [38.0, 582.0]\n",
      "[762.5, 622.5] [38.0, 582.0]\n",
      "[380.0, 541.5] [38.0, 582.0]\n",
      "[483.5, 496.5] [38.0, 582.0]\n",
      "[60.5, 658.5] [38.0, 582.0]\n",
      "[924.5, 431.5] [254.0, 577.5]\n",
      "[744.5, 550.5] [254.0, 577.5]\n",
      "[762.5, 622.5] [254.0, 577.5]\n",
      "[380.0, 541.5] [254.0, 577.5]\n",
      "[924.5, 431.5] [155.0, 586.5]\n",
      "[744.5, 550.5] [155.0, 586.5]\n",
      "[762.5, 622.5] [155.0, 586.5]\n",
      "[380.0, 541.5] [155.0, 586.5]\n",
      "[924.5, 431.5] [177.5, 595.5]\n",
      "[744.5, 550.5] [177.5, 595.5]\n",
      "[762.5, 622.5] [177.5, 595.5]\n",
      "[380.0, 541.5] [177.5, 595.5]\n",
      "[924.5, 431.5] [204.5, 595.5]\n",
      "[744.5, 550.5] [204.5, 595.5]\n",
      "[762.5, 622.5] [204.5, 595.5]\n",
      "[380.0, 541.5] [204.5, 595.5]\n",
      "[[((893, 400), (956, 463)), 61], [((729, 544), (760, 557)), 1.0], [((747, 616), (778, 629)), 1], [((360, 526), (400, 557)), 49], [((468, 481), (499, 512)), 1.0], [((45, 643), (76, 674)), 9.0]]\n"
     ]
    },
    {
     "name": "stderr",
     "output_type": "stream",
     "text": [
      "\r",
      " 18%|██████████████▍                                                                | 46/251 [16:43<1:13:02, 21.38s/it]"
     ]
    },
    {
     "name": "stdout",
     "output_type": "stream",
     "text": [
      "[924.5, 431.5] [924.5, 431.5]\n",
      "[924.5, 431.5] [753.5, 586.5]\n",
      "[744.5, 550.5] [753.5, 586.5]\n",
      "[924.5, 431.5] [326.0, 582.0]\n",
      "[744.5, 550.5] [326.0, 582.0]\n",
      "[762.5, 622.5] [326.0, 582.0]\n",
      "[357.5, 568.5] [326.0, 582.0]\n",
      "[[((893, 400), (956, 463)), 62], [((729, 544), (760, 557)), 2.0], [((747, 616), (778, 629)), 1], [((342, 553), (373, 584)), 50], [((468, 481), (499, 512)), 1.0], [((18, 562), (58, 602)), 8.0]]\n"
     ]
    },
    {
     "name": "stderr",
     "output_type": "stream",
     "text": [
      "\r",
      " 19%|██████████████▊                                                                | 47/251 [17:04<1:12:13, 21.24s/it]"
     ]
    },
    {
     "name": "stdout",
     "output_type": "stream",
     "text": [
      "[924.5, 431.5] [925.5, 431.5]\n",
      "[924.5, 431.5] [141.5, 586.5]\n",
      "[753.5, 586.5] [141.5, 586.5]\n",
      "[762.5, 622.5] [141.5, 586.5]\n",
      "[326.0, 582.0] [141.5, 586.5]\n",
      "[[((893, 400), (956, 463)), 63], [((738, 571), (769, 602)), 1.0], [((747, 616), (778, 629)), 1], [((315, 580), (337, 584)), 51], [((468, 481), (499, 512)), 1.0], [((18, 562), (58, 602)), 7.0]]\n"
     ]
    },
    {
     "name": "stderr",
     "output_type": "stream",
     "text": [
      "\r",
      " 19%|███████████████                                                                | 48/251 [17:25<1:12:00, 21.28s/it]"
     ]
    },
    {
     "name": "stdout",
     "output_type": "stream",
     "text": [
      "[925.5, 431.5] [924.5, 431.5]\n",
      "[[((893, 400), (958, 463)), 64], [((738, 571), (769, 602)), 1.0], [((747, 616), (778, 629)), 1], [((126, 571), (157, 602)), 50.0], [((468, 481), (499, 512)), 1.0], [((18, 562), (58, 602)), 6.0]]\n"
     ]
    },
    {
     "name": "stderr",
     "output_type": "stream",
     "text": [
      "\r",
      " 20%|███████████████▍                                                               | 49/251 [17:47<1:12:03, 21.40s/it]"
     ]
    },
    {
     "name": "stdout",
     "output_type": "stream",
     "text": [
      "[924.5, 431.5] [934.5, 431.5]\n",
      "[924.5, 431.5] [362.0, 528.0]\n",
      "[753.5, 586.5] [362.0, 528.0]\n",
      "[762.5, 622.5] [362.0, 528.0]\n",
      "[141.5, 586.5] [362.0, 528.0]\n",
      "[924.5, 431.5] [60.5, 658.5]\n",
      "[753.5, 586.5] [60.5, 658.5]\n",
      "[762.5, 622.5] [60.5, 658.5]\n",
      "[141.5, 586.5] [60.5, 658.5]\n",
      "[[((893, 400), (956, 463)), 65], [((738, 571), (769, 602)), 1.0], [((747, 616), (778, 629)), 1], [((126, 571), (157, 602)), 52.0], [((468, 481), (499, 512)), 1.0], [((18, 562), (58, 602)), 5.0]]\n"
     ]
    },
    {
     "name": "stderr",
     "output_type": "stream",
     "text": [
      "\r",
      " 20%|███████████████▋                                                               | 50/251 [18:11<1:14:25, 22.22s/it]"
     ]
    },
    {
     "name": "stdout",
     "output_type": "stream",
     "text": [
      "[934.5, 431.5] [962.5, 442.5]\n",
      "[934.5, 431.5] [65.0, 573.0]\n",
      "[753.5, 586.5] [65.0, 573.0]\n",
      "[762.5, 622.5] [65.0, 573.0]\n",
      "[60.5, 658.5] [65.0, 573.0]\n",
      "[[((893, 400), (976, 463)), 66], [((738, 571), (769, 602)), 1.0], [((747, 616), (778, 629)), 1], [((45, 643), (76, 674)), 53.0], [((468, 481), (499, 512)), 1.0], [((18, 562), (58, 602)), 4.0]]\n"
     ]
    },
    {
     "name": "stderr",
     "output_type": "stream",
     "text": [
      "\r",
      " 20%|████████████████                                                               | 51/251 [18:32<1:13:01, 21.91s/it]"
     ]
    },
    {
     "name": "stdout",
     "output_type": "stream",
     "text": [
      "[962.5, 442.5] [925.5, 431.5]\n",
      "[962.5, 442.5] [983.0, 442.5]\n",
      "[[((931, 418), (994, 467)), 68], [((738, 571), (769, 602)), 1.0], [((747, 616), (778, 629)), 1], [((63, 562), (67, 584)), 52.0], [((468, 481), (499, 512)), 1.0], [((18, 562), (58, 602)), 3.0]]\n"
     ]
    },
    {
     "name": "stderr",
     "output_type": "stream",
     "text": [
      "\r",
      " 21%|████████████████▎                                                              | 52/251 [18:57<1:15:26, 22.74s/it]"
     ]
    },
    {
     "name": "stdout",
     "output_type": "stream",
     "text": [
      "[925.5, 431.5] [933.5, 431.5]\n",
      "[[((893, 400), (958, 463)), 69], [((738, 571), (769, 602)), 1.0], [((747, 616), (778, 629)), 1], [((63, 562), (67, 584)), 51.0], [((468, 481), (499, 512)), 1.0], [((18, 562), (58, 602)), 2.0]]\n"
     ]
    },
    {
     "name": "stderr",
     "output_type": "stream",
     "text": [
      "\r",
      " 21%|████████████████▋                                                              | 53/251 [19:19<1:14:33, 22.59s/it]"
     ]
    },
    {
     "name": "stdout",
     "output_type": "stream",
     "text": [
      "[933.5, 431.5] [942.0, 431.5]\n",
      "[[((909, 400), (958, 463)), 70], [((738, 571), (769, 602)), 1.0], [((747, 616), (778, 629)), 1], [((63, 562), (67, 584)), 50.0], [((468, 481), (499, 512)), 1.0], [((18, 562), (58, 602)), 1.0]]\n"
     ]
    },
    {
     "name": "stderr",
     "output_type": "stream",
     "text": [
      "\r",
      " 22%|████████████████▉                                                              | 54/251 [19:42<1:13:59, 22.54s/it]"
     ]
    },
    {
     "name": "stdout",
     "output_type": "stream",
     "text": [
      "[942.0, 431.5] [942.0, 431.5]\n",
      "[942.0, 431.5] [173.0, 433.5]\n",
      "[753.5, 586.5] [173.0, 433.5]\n",
      "[762.5, 622.5] [173.0, 433.5]\n",
      "[65.0, 573.0] [173.0, 433.5]\n",
      "[[((909, 400), (975, 463)), 71], [((738, 571), (769, 602)), 1.0], [((747, 616), (778, 629)), 1], [((63, 562), (67, 584)), 51.0], [((468, 481), (499, 512)), 1.0], [((18, 562), (58, 602)), 1.0]]\n"
     ]
    },
    {
     "name": "stderr",
     "output_type": "stream",
     "text": [
      "\r",
      " 22%|█████████████████▎                                                             | 55/251 [20:03<1:13:01, 22.35s/it]"
     ]
    },
    {
     "name": "stdout",
     "output_type": "stream",
     "text": [
      "[942.0, 431.5] [932.5, 431.5]\n",
      "[942.0, 431.5] [983.0, 442.5]\n",
      "[942.0, 431.5] [150.5, 649.5]\n",
      "[753.5, 586.5] [150.5, 649.5]\n",
      "[762.5, 622.5] [150.5, 649.5]\n",
      "[173.0, 433.5] [150.5, 649.5]\n",
      "[[((909, 400), (975, 463)), 73], [((738, 571), (769, 602)), 1.0], [((747, 616), (778, 629)), 1], [((162, 418), (184, 449)), 52.0], [((468, 481), (499, 512)), 1.0], [((18, 562), (58, 602)), 1.0]]\n"
     ]
    },
    {
     "name": "stderr",
     "output_type": "stream",
     "text": [
      "\r",
      " 22%|█████████████████▋                                                             | 56/251 [20:26<1:12:23, 22.28s/it]"
     ]
    },
    {
     "name": "stdout",
     "output_type": "stream",
     "text": [
      "[932.5, 431.5] [933.5, 429.0]\n",
      "[932.5, 431.5] [983.0, 442.5]\n",
      "[[((909, 400), (956, 463)), 75], [((738, 571), (769, 602)), 1.0], [((747, 616), (778, 629)), 1], [((135, 634), (166, 665)), 51.0], [((468, 481), (499, 512)), 1.0], [((18, 562), (58, 602)), 1.0]]\n"
     ]
    },
    {
     "name": "stderr",
     "output_type": "stream",
     "text": [
      "\r",
      " 23%|█████████████████▉                                                             | 57/251 [20:49<1:13:36, 22.76s/it]"
     ]
    },
    {
     "name": "stdout",
     "output_type": "stream",
     "text": [
      "[933.5, 429.0] [942.0, 431.5]\n",
      "[[((918, 409), (949, 449)), 76], [((738, 571), (769, 602)), 1.0], [((747, 616), (778, 629)), 1], [((135, 634), (166, 665)), 50.0], [((468, 481), (499, 512)), 1.0], [((18, 562), (58, 602)), 1.0]]\n"
     ]
    },
    {
     "name": "stderr",
     "output_type": "stream",
     "text": [
      "\r",
      " 23%|██████████████████▎                                                            | 58/251 [21:15<1:16:16, 23.71s/it]"
     ]
    },
    {
     "name": "stdout",
     "output_type": "stream",
     "text": [
      "[942.0, 431.5] [933.0, 431.5]\n",
      "[[((909, 400), (975, 463)), 77], [((738, 571), (769, 602)), 1.0], [((747, 616), (778, 629)), 1], [((135, 634), (166, 665)), 49.0], [((468, 481), (499, 512)), 1.0], [((18, 562), (58, 602)), 1.0]]\n"
     ]
    },
    {
     "name": "stderr",
     "output_type": "stream",
     "text": [
      "\r",
      " 24%|██████████████████▌                                                            | 59/251 [21:39<1:15:47, 23.68s/it]"
     ]
    },
    {
     "name": "stdout",
     "output_type": "stream",
     "text": [
      "[933.0, 431.5] [942.0, 431.5]\n",
      "[[((891, 400), (975, 463)), 78], [((738, 571), (769, 602)), 1.0], [((747, 616), (778, 629)), 1], [((135, 634), (166, 665)), 48.0], [((468, 481), (499, 512)), 1.0], [((18, 562), (58, 602)), 1.0]]\n"
     ]
    },
    {
     "name": "stderr",
     "output_type": "stream",
     "text": [
      "\r",
      " 24%|██████████████████▉                                                            | 60/251 [22:01<1:13:45, 23.17s/it]"
     ]
    },
    {
     "name": "stdout",
     "output_type": "stream",
     "text": [
      "[942.0, 431.5] [943.5, 431.5]\n",
      "[942.0, 431.5] [128.0, 433.5]\n",
      "[753.5, 586.5] [128.0, 433.5]\n",
      "[762.5, 622.5] [128.0, 433.5]\n",
      "[150.5, 649.5] [128.0, 433.5]\n",
      "[[((909, 400), (975, 463)), 79], [((738, 571), (769, 602)), 1.0], [((747, 616), (778, 629)), 1], [((135, 634), (166, 665)), 49.0], [((468, 481), (499, 512)), 1.0], [((18, 562), (58, 602)), 1.0]]\n"
     ]
    },
    {
     "name": "stderr",
     "output_type": "stream",
     "text": [
      "\r",
      " 24%|███████████████████▏                                                           | 61/251 [22:23<1:12:19, 22.84s/it]"
     ]
    },
    {
     "name": "stdout",
     "output_type": "stream",
     "text": [
      "[943.5, 431.5] [937.5, 431.5]\n",
      "[[((912, 400), (975, 463)), 80], [((738, 571), (769, 602)), 1.0], [((747, 616), (778, 629)), 1], [((117, 418), (139, 449)), 48.0], [((468, 481), (499, 512)), 1.0], [((18, 562), (58, 602)), 1.0]]\n"
     ]
    },
    {
     "name": "stderr",
     "output_type": "stream",
     "text": [
      "\r",
      " 25%|███████████████████▌                                                           | 62/251 [22:45<1:11:10, 22.60s/it]"
     ]
    },
    {
     "name": "stdout",
     "output_type": "stream",
     "text": [
      "[937.5, 431.5] [939.0, 431.5]\n",
      "[[((900, 400), (975, 463)), 81], [((738, 571), (769, 602)), 1.0], [((747, 616), (778, 629)), 1], [((117, 418), (139, 449)), 47.0], [((468, 481), (499, 512)), 1.0], [((18, 562), (58, 602)), 1.0]]\n"
     ]
    },
    {
     "name": "stderr",
     "output_type": "stream",
     "text": [
      "\r",
      " 25%|███████████████████▊                                                           | 63/251 [23:07<1:10:14, 22.42s/it]"
     ]
    },
    {
     "name": "stdout",
     "output_type": "stream",
     "text": [
      "[939.0, 431.5] [953.0, 433.5]\n",
      "[[((893, 400), (985, 463)), 82], [((738, 571), (769, 602)), 1.0], [((747, 616), (778, 629)), 1], [((117, 418), (139, 449)), 46.0], [((468, 481), (499, 512)), 1.0], [((18, 562), (58, 602)), 1.0]]\n"
     ]
    },
    {
     "name": "stderr",
     "output_type": "stream",
     "text": [
      "\r",
      " 25%|████████████████████▏                                                          | 64/251 [23:29<1:09:39, 22.35s/it]"
     ]
    },
    {
     "name": "stdout",
     "output_type": "stream",
     "text": [
      "[953.0, 433.5] [942.5, 431.5]\n",
      "[953.0, 433.5] [186.5, 465.0]\n",
      "[753.5, 586.5] [186.5, 465.0]\n",
      "[762.5, 622.5] [186.5, 465.0]\n",
      "[128.0, 433.5] [186.5, 465.0]\n",
      "[[((912, 400), (994, 467)), 83], [((738, 571), (769, 602)), 1.0], [((747, 616), (778, 629)), 1], [((117, 418), (139, 449)), 47.0], [((468, 481), (499, 512)), 1.0], [((18, 562), (58, 602)), 1.0]]\n"
     ]
    },
    {
     "name": "stderr",
     "output_type": "stream",
     "text": [
      "\r",
      " 26%|████████████████████▍                                                          | 65/251 [23:52<1:09:47, 22.52s/it]"
     ]
    },
    {
     "name": "stdout",
     "output_type": "stream",
     "text": [
      "[942.5, 431.5] [933.0, 438.0]\n",
      "[[((909, 400), (976, 463)), 84], [((738, 571), (769, 602)), 1.0], [((747, 616), (778, 629)), 1], [((171, 454), (202, 476)), 46.0], [((468, 481), (499, 512)), 1.0], [((18, 562), (58, 602)), 1.0]]\n"
     ]
    },
    {
     "name": "stderr",
     "output_type": "stream",
     "text": [
      "\r",
      " 26%|████████████████████▊                                                          | 66/251 [24:17<1:11:17, 23.12s/it]"
     ]
    },
    {
     "name": "stdout",
     "output_type": "stream",
     "text": [
      "[933.0, 438.0] [933.0, 438.0]\n",
      "[[((891, 409), (975, 467)), 85], [((738, 571), (769, 602)), 1.0], [((747, 616), (778, 629)), 1], [((171, 454), (202, 476)), 45.0], [((468, 481), (499, 512)), 1.0], [((18, 562), (58, 602)), 1.0]]\n"
     ]
    },
    {
     "name": "stderr",
     "output_type": "stream",
     "text": [
      "\r",
      " 27%|█████████████████████                                                          | 67/251 [24:42<1:12:27, 23.63s/it]"
     ]
    },
    {
     "name": "stdout",
     "output_type": "stream",
     "text": [
      "[933.0, 438.0] [254.0, 433.5]\n",
      "[753.5, 586.5] [254.0, 433.5]\n",
      "[762.5, 622.5] [254.0, 433.5]\n",
      "[186.5, 465.0] [254.0, 433.5]\n",
      "[933.0, 438.0] [933.0, 436.0]\n",
      "[933.0, 438.0] [636.5, 429.0]\n",
      "[753.5, 586.5] [636.5, 429.0]\n",
      "[[((891, 409), (975, 467)), 86], [((738, 571), (769, 602)), 2.0], [((747, 616), (778, 629)), 1], [((171, 454), (202, 476)), 46.0], [((468, 481), (499, 512)), 1.0], [((18, 562), (58, 602)), 1.0]]\n"
     ]
    },
    {
     "name": "stderr",
     "output_type": "stream",
     "text": [
      "\r",
      " 27%|█████████████████████▍                                                         | 68/251 [25:05<1:12:02, 23.62s/it]"
     ]
    },
    {
     "name": "stdout",
     "output_type": "stream",
     "text": [
      "[933.0, 436.0] [933.0, 431.5]\n",
      "[[((891, 409), (975, 463)), 87], [((621, 418), (652, 440)), 1.0], [((747, 616), (778, 629)), 1], [((234, 409), (274, 458)), 45.0], [((468, 481), (499, 512)), 1.0], [((18, 562), (58, 602)), 1.0]]\n"
     ]
    },
    {
     "name": "stderr",
     "output_type": "stream",
     "text": [
      "\r",
      " 27%|█████████████████████▋                                                         | 69/251 [25:27<1:10:18, 23.18s/it]"
     ]
    },
    {
     "name": "stdout",
     "output_type": "stream",
     "text": [
      "[933.0, 431.5] [933.5, 431.5]\n",
      "[[((891, 400), (975, 463)), 88], [((621, 418), (652, 440)), 1.0], [((747, 616), (778, 629)), 1], [((234, 409), (274, 458)), 44.0], [((468, 481), (499, 512)), 1.0], [((18, 562), (58, 602)), 1.0]]\n"
     ]
    },
    {
     "name": "stderr",
     "output_type": "stream",
     "text": [
      "\r",
      " 28%|██████████████████████                                                         | 70/251 [25:49<1:08:49, 22.82s/it]"
     ]
    },
    {
     "name": "stdout",
     "output_type": "stream",
     "text": [
      "[933.5, 431.5] [951.5, 433.5]\n",
      "[[((891, 400), (976, 463)), 89], [((621, 418), (652, 440)), 1.0], [((747, 616), (778, 629)), 1], [((234, 409), (274, 458)), 43.0], [((468, 481), (499, 512)), 1.0], [((18, 562), (58, 602)), 1.0]]\n"
     ]
    },
    {
     "name": "stderr",
     "output_type": "stream",
     "text": [
      "\r",
      " 28%|██████████████████████▎                                                        | 71/251 [26:11<1:07:50, 22.62s/it]"
     ]
    },
    {
     "name": "stdout",
     "output_type": "stream",
     "text": [
      "[951.5, 433.5] [951.5, 433.5]\n",
      "[[((909, 400), (994, 467)), 90], [((621, 418), (652, 440)), 1.0], [((747, 616), (778, 629)), 1], [((234, 409), (274, 458)), 42.0], [((468, 481), (499, 512)), 1.0], [((18, 562), (58, 602)), 1.0]]\n"
     ]
    },
    {
     "name": "stderr",
     "output_type": "stream",
     "text": [
      "\r",
      " 29%|██████████████████████▋                                                        | 72/251 [26:33<1:06:43, 22.37s/it]"
     ]
    },
    {
     "name": "stdout",
     "output_type": "stream",
     "text": [
      "[951.5, 433.5] [942.5, 431.5]\n",
      "[951.5, 433.5] [636.5, 420.0]\n",
      "[636.5, 429.0] [636.5, 420.0]\n",
      "[[((909, 400), (994, 467)), 91], [((621, 418), (652, 440)), 2.0], [((747, 616), (778, 629)), 1], [((234, 409), (274, 458)), 41.0], [((468, 481), (499, 512)), 1.0], [((18, 562), (58, 602)), 1.0]]\n"
     ]
    },
    {
     "name": "stderr",
     "output_type": "stream",
     "text": [
      "\r",
      " 29%|██████████████████████▉                                                        | 73/251 [26:59<1:09:30, 23.43s/it]"
     ]
    },
    {
     "name": "stdout",
     "output_type": "stream",
     "text": [
      "[942.5, 431.5] [942.5, 431.5]\n",
      "[[((891, 400), (994, 463)), 92], [((621, 409), (652, 431)), 1.0], [((747, 616), (778, 629)), 1], [((234, 409), (274, 458)), 40.0], [((468, 481), (499, 512)), 1.0], [((18, 562), (58, 602)), 1.0]]\n"
     ]
    },
    {
     "name": "stderr",
     "output_type": "stream",
     "text": [
      "\r",
      " 29%|███████████████████████▎                                                       | 74/251 [27:21<1:07:51, 23.00s/it]"
     ]
    },
    {
     "name": "stdout",
     "output_type": "stream",
     "text": [
      "[942.5, 431.5] [951.5, 431.5]\n",
      "[[((891, 400), (994, 463)), 93], [((621, 409), (652, 431)), 1.0], [((747, 616), (778, 629)), 1], [((234, 409), (274, 458)), 39.0], [((468, 481), (499, 512)), 1.0], [((18, 562), (58, 602)), 1.0]]\n"
     ]
    },
    {
     "name": "stderr",
     "output_type": "stream",
     "text": [
      "\r",
      " 30%|███████████████████████▌                                                       | 75/251 [27:42<1:05:57, 22.49s/it]"
     ]
    },
    {
     "name": "stdout",
     "output_type": "stream",
     "text": [
      "[951.5, 431.5] [953.0, 433.5]\n",
      "[951.5, 431.5] [227.0, 442.5]\n",
      "[636.5, 420.0] [227.0, 442.5]\n",
      "[762.5, 622.5] [227.0, 442.5]\n",
      "[254.0, 433.5] [227.0, 442.5]\n",
      "[[((909, 400), (994, 463)), 94], [((621, 409), (652, 431)), 1.0], [((747, 616), (778, 629)), 1], [((234, 409), (274, 458)), 40.0], [((468, 481), (499, 512)), 1.0], [((18, 562), (58, 602)), 1.0]]\n"
     ]
    },
    {
     "name": "stderr",
     "output_type": "stream",
     "text": [
      "\r",
      " 30%|███████████████████████▉                                                       | 76/251 [28:04<1:04:53, 22.25s/it]"
     ]
    },
    {
     "name": "stdout",
     "output_type": "stream",
     "text": [
      "[953.0, 433.5] [944.0, 431.5]\n",
      "[953.0, 433.5] [96.5, 442.5]\n",
      "[636.5, 420.0] [96.5, 442.5]\n",
      "[762.5, 622.5] [96.5, 442.5]\n",
      "[227.0, 442.5] [96.5, 442.5]\n",
      "[953.0, 433.5] [218.0, 451.5]\n",
      "[636.5, 420.0] [218.0, 451.5]\n",
      "[762.5, 622.5] [218.0, 451.5]\n",
      "[227.0, 442.5] [218.0, 451.5]\n",
      "[[((912, 400), (994, 467)), 95], [((621, 409), (652, 431)), 1.0], [((747, 616), (778, 629)), 1], [((216, 427), (238, 458)), 42.0], [((468, 481), (499, 512)), 1.0], [((18, 562), (58, 602)), 1.0]]\n"
     ]
    },
    {
     "name": "stderr",
     "output_type": "stream",
     "text": [
      "\r",
      " 31%|████████████████████████▏                                                      | 77/251 [28:28<1:05:49, 22.70s/it]"
     ]
    },
    {
     "name": "stdout",
     "output_type": "stream",
     "text": [
      "[944.0, 431.5] [933.5, 433.5]\n",
      "[[((912, 400), (976, 463)), 96], [((621, 409), (652, 431)), 1.0], [((747, 616), (778, 629)), 1], [((81, 427), (112, 458)), 41.0], [((468, 481), (499, 512)), 1.0], [((18, 562), (58, 602)), 1.0]]\n"
     ]
    },
    {
     "name": "stderr",
     "output_type": "stream",
     "text": [
      "\r",
      " 31%|████████████████████████▌                                                      | 78/251 [28:51<1:05:35, 22.75s/it]"
     ]
    },
    {
     "name": "stdout",
     "output_type": "stream",
     "text": [
      "[933.5, 433.5] [942.5, 433.5]\n",
      "[933.5, 433.5] [222.5, 442.5]\n",
      "[636.5, 420.0] [222.5, 442.5]\n",
      "[762.5, 622.5] [222.5, 442.5]\n",
      "[96.5, 442.5] [222.5, 442.5]\n",
      "[[((891, 409), (976, 458)), 97], [((621, 409), (652, 431)), 1.0], [((747, 616), (778, 629)), 1], [((81, 427), (112, 458)), 42.0], [((468, 481), (499, 512)), 1.0], [((18, 562), (58, 602)), 1.0]]\n"
     ]
    },
    {
     "name": "stderr",
     "output_type": "stream",
     "text": [
      "\r",
      " 31%|████████████████████████▊                                                      | 79/251 [29:12<1:04:12, 22.40s/it]"
     ]
    },
    {
     "name": "stdout",
     "output_type": "stream",
     "text": [
      "[942.5, 433.5] [947.0, 433.5]\n",
      "[942.5, 433.5] [56.0, 586.5]\n",
      "[636.5, 420.0] [56.0, 586.5]\n",
      "[762.5, 622.5] [56.0, 586.5]\n",
      "[222.5, 442.5] [56.0, 586.5]\n",
      "[483.5, 496.5] [56.0, 586.5]\n",
      "[38.0, 582.0] [56.0, 586.5]\n",
      "[[((891, 400), (994, 467)), 98], [((621, 409), (652, 431)), 1.0], [((747, 616), (778, 629)), 1], [((207, 427), (238, 458)), 41.0], [((468, 481), (499, 512)), 1.0], [((18, 562), (58, 602)), 2.0]]\n"
     ]
    },
    {
     "name": "stderr",
     "output_type": "stream",
     "text": [
      "\r",
      " 32%|█████████████████████████▏                                                     | 80/251 [29:34<1:02:52, 22.06s/it]"
     ]
    },
    {
     "name": "stdout",
     "output_type": "stream",
     "text": [
      "[947.0, 433.5] [951.5, 433.5]\n",
      "[947.0, 433.5] [636.5, 429.0]\n",
      "[636.5, 420.0] [636.5, 429.0]\n",
      "[947.0, 433.5] [110.0, 460.5]\n",
      "[636.5, 420.0] [110.0, 460.5]\n",
      "[762.5, 622.5] [110.0, 460.5]\n",
      "[222.5, 442.5] [110.0, 460.5]\n",
      "[947.0, 433.5] [87.5, 582.0]\n",
      "[636.5, 420.0] [87.5, 582.0]\n",
      "[762.5, 622.5] [87.5, 582.0]\n",
      "[222.5, 442.5] [87.5, 582.0]\n",
      "[[((909, 400), (985, 467)), 99], [((621, 409), (652, 431)), 2.0], [((747, 616), (778, 629)), 1], [((207, 427), (238, 458)), 43.0], [((468, 481), (499, 512)), 1.0], [((45, 571), (67, 602)), 1.0]]\n"
     ]
    },
    {
     "name": "stderr",
     "output_type": "stream",
     "text": [
      "\r",
      " 32%|█████████████████████████▍                                                     | 81/251 [29:57<1:03:45, 22.50s/it]"
     ]
    },
    {
     "name": "stdout",
     "output_type": "stream",
     "text": [
      "[951.5, 433.5] [951.5, 433.5]\n",
      "[[((909, 400), (994, 467)), 100], [((621, 418), (652, 440)), 1.0], [((747, 616), (778, 629)), 1], [((72, 571), (103, 593)), 42.0], [((468, 481), (499, 512)), 1.0], [((45, 571), (67, 602)), 1.0]]\n"
     ]
    },
    {
     "name": "stderr",
     "output_type": "stream",
     "text": [
      "\r",
      " 33%|█████████████████████████▊                                                     | 82/251 [30:18<1:02:22, 22.15s/it]"
     ]
    },
    {
     "name": "stdout",
     "output_type": "stream",
     "text": [
      "[951.5, 433.5] [951.5, 441.0]\n",
      "[951.5, 433.5] [51.5, 447.0]\n",
      "[636.5, 429.0] [51.5, 447.0]\n",
      "[762.5, 622.5] [51.5, 447.0]\n",
      "[87.5, 582.0] [51.5, 447.0]\n",
      "[[((909, 400), (994, 467)), 101], [((621, 418), (652, 440)), 1.0], [((747, 616), (778, 629)), 1], [((72, 571), (103, 593)), 43.0], [((468, 481), (499, 512)), 1.0], [((45, 571), (67, 602)), 1.0]]\n"
     ]
    },
    {
     "name": "stderr",
     "output_type": "stream",
     "text": [
      "\r",
      " 33%|██████████████████████████                                                     | 83/251 [30:40<1:01:08, 21.83s/it]"
     ]
    },
    {
     "name": "stdout",
     "output_type": "stream",
     "text": [
      "[951.5, 441.0] [951.5, 431.5]\n",
      "[[((909, 400), (994, 482)), 102], [((621, 418), (652, 440)), 1.0], [((747, 616), (778, 629)), 1], [((45, 436), (58, 458)), 42.0], [((468, 481), (499, 512)), 1.0], [((45, 571), (67, 602)), 1.0]]\n"
     ]
    },
    {
     "name": "stderr",
     "output_type": "stream",
     "text": [
      "\r",
      " 33%|██████████████████████████▍                                                    | 84/251 [31:01<1:00:03, 21.58s/it]"
     ]
    },
    {
     "name": "stdout",
     "output_type": "stream",
     "text": [
      "[951.5, 431.5] [943.5, 431.5]\n",
      "[[((909, 400), (994, 463)), 103], [((621, 418), (652, 440)), 1.0], [((747, 616), (778, 629)), 1], [((45, 436), (58, 458)), 41.0], [((468, 481), (499, 512)), 1.0], [((45, 571), (67, 602)), 1.0]]\n"
     ]
    },
    {
     "name": "stderr",
     "output_type": "stream",
     "text": [
      "\r",
      " 34%|███████████████████████████▍                                                     | 85/251 [31:22<59:18, 21.44s/it]"
     ]
    },
    {
     "name": "stdout",
     "output_type": "stream",
     "text": [
      "[943.5, 431.5] [943.5, 431.5]\n",
      "[943.5, 431.5] [38.0, 451.5]\n",
      "[636.5, 429.0] [38.0, 451.5]\n",
      "[762.5, 622.5] [38.0, 451.5]\n",
      "[51.5, 447.0] [38.0, 451.5]\n",
      "[943.5, 431.5] [51.5, 582.0]\n",
      "[636.5, 429.0] [51.5, 582.0]\n",
      "[762.5, 622.5] [51.5, 582.0]\n",
      "[51.5, 447.0] [51.5, 582.0]\n",
      "[[((912, 400), (975, 463)), 104], [((621, 418), (652, 440)), 1.0], [((747, 616), (778, 629)), 1], [((45, 436), (58, 458)), 43.0], [((468, 481), (499, 512)), 1.0], [((45, 571), (67, 602)), 1.0]]\n"
     ]
    },
    {
     "name": "stderr",
     "output_type": "stream",
     "text": [
      "\r",
      " 34%|███████████████████████████▊                                                     | 86/251 [31:43<58:44, 21.36s/it]"
     ]
    },
    {
     "name": "stdout",
     "output_type": "stream",
     "text": [
      "[943.5, 431.5] [926.0, 433.5]\n",
      "[943.5, 431.5] [42.5, 447.0]\n",
      "[636.5, 429.0] [42.5, 447.0]\n",
      "[762.5, 622.5] [42.5, 447.0]\n",
      "[38.0, 451.5] [42.5, 447.0]\n",
      "[943.5, 431.5] [38.0, 591.0]\n",
      "[636.5, 429.0] [38.0, 591.0]\n",
      "[762.5, 622.5] [38.0, 591.0]\n",
      "[38.0, 451.5] [38.0, 591.0]\n",
      "[[((912, 400), (975, 463)), 105], [((621, 418), (652, 440)), 1.0], [((747, 616), (778, 629)), 1], [((27, 436), (49, 467)), 45.0], [((468, 481), (499, 512)), 1.0], [((45, 571), (67, 602)), 1.0]]\n"
     ]
    },
    {
     "name": "stderr",
     "output_type": "stream",
     "text": [
      "\r",
      " 35%|████████████████████████████                                                     | 87/251 [32:04<57:57, 21.20s/it]"
     ]
    },
    {
     "name": "stdout",
     "output_type": "stream",
     "text": [
      "[[((912, 418), (940, 449)), 104.0], [((621, 418), (652, 440)), 1.0], [((747, 616), (778, 629)), 1], [((27, 580), (49, 602)), 44.0], [((468, 481), (499, 512)), 1.0], [((45, 571), (67, 602)), 1.0]]\n"
     ]
    },
    {
     "name": "stderr",
     "output_type": "stream",
     "text": [
      "\r",
      " 35%|████████████████████████████▍                                                    | 88/251 [32:25<57:49, 21.29s/it]"
     ]
    },
    {
     "name": "stdout",
     "output_type": "stream",
     "text": [
      "[926.0, 433.5] [943.5, 440.5]\n",
      "[926.0, 433.5] [288.0, 450.5]\n",
      "[636.5, 429.0] [288.0, 450.5]\n",
      "[762.5, 622.5] [288.0, 450.5]\n",
      "[38.0, 591.0] [288.0, 450.5]\n",
      "[483.5, 496.5] [288.0, 450.5]\n",
      "[[((912, 418), (940, 449)), 105.0], [((621, 418), (652, 440)), 1.0], [((747, 616), (778, 629)), 1], [((27, 580), (49, 602)), 43.0], [((468, 481), (499, 512)), 2.0], [((45, 571), (67, 602)), 1.0]]\n"
     ]
    },
    {
     "name": "stderr",
     "output_type": "stream",
     "text": [
      "\r",
      " 35%|████████████████████████████▋                                                    | 89/251 [32:47<57:44, 21.39s/it]"
     ]
    },
    {
     "name": "stdout",
     "output_type": "stream",
     "text": [
      "[943.5, 440.5] [953.0, 431.5]\n",
      "[943.5, 440.5] [636.5, 420.0]\n",
      "[636.5, 429.0] [636.5, 420.0]\n",
      "[943.5, 440.5] [42.5, 591.0]\n",
      "[636.5, 429.0] [42.5, 591.0]\n",
      "[762.5, 622.5] [42.5, 591.0]\n",
      "[38.0, 591.0] [42.5, 591.0]\n",
      "[[((912, 418), (975, 463)), 106.0], [((621, 418), (652, 440)), 2.0], [((747, 616), (778, 629)), 1], [((27, 580), (49, 602)), 44.0], [((266, 419), (310, 482)), 1.0], [((45, 571), (67, 602)), 1.0]]\n"
     ]
    },
    {
     "name": "stderr",
     "output_type": "stream",
     "text": [
      "\r",
      " 36%|█████████████████████████████                                                    | 90/251 [33:10<59:01, 22.00s/it]"
     ]
    },
    {
     "name": "stdout",
     "output_type": "stream",
     "text": [
      "[953.0, 431.5] [962.5, 431.5]\n",
      "[953.0, 431.5] [38.0, 591.0]\n",
      "[636.5, 420.0] [38.0, 591.0]\n",
      "[762.5, 622.5] [38.0, 591.0]\n",
      "[42.5, 591.0] [38.0, 591.0]\n",
      "[953.0, 431.5] [56.0, 591.0]\n",
      "[636.5, 420.0] [56.0, 591.0]\n",
      "[762.5, 622.5] [56.0, 591.0]\n",
      "[42.5, 591.0] [56.0, 591.0]\n",
      "[[((912, 400), (994, 463)), 107.0], [((621, 409), (652, 431)), 1.0], [((747, 616), (778, 629)), 1], [((27, 580), (58, 602)), 46.0], [((266, 419), (310, 482)), 1.0], [((45, 571), (67, 602)), 1.0]]\n"
     ]
    },
    {
     "name": "stderr",
     "output_type": "stream",
     "text": [
      "\r",
      " 36%|█████████████████████████████▎                                                   | 91/251 [33:31<57:57, 21.73s/it]"
     ]
    },
    {
     "name": "stdout",
     "output_type": "stream",
     "text": [
      "[962.5, 431.5] [953.0, 431.5]\n",
      "[[((931, 400), (994, 463)), 108.0], [((621, 409), (652, 431)), 1.0], [((747, 616), (778, 629)), 1], [((45, 580), (67, 602)), 45.0], [((266, 419), (310, 482)), 1.0], [((45, 571), (67, 602)), 1.0]]\n"
     ]
    },
    {
     "name": "stderr",
     "output_type": "stream",
     "text": [
      "\r",
      " 37%|█████████████████████████████▋                                                   | 92/251 [33:52<57:06, 21.55s/it]"
     ]
    },
    {
     "name": "stdout",
     "output_type": "stream",
     "text": [
      "[953.0, 431.5] [962.5, 433.5]\n",
      "[953.0, 431.5] [917.0, 442.5]\n",
      "[953.0, 431.5] [78.5, 586.5]\n",
      "[636.5, 420.0] [78.5, 586.5]\n",
      "[762.5, 622.5] [78.5, 586.5]\n",
      "[56.0, 591.0] [78.5, 586.5]\n",
      "[[((912, 400), (994, 463)), 110.0], [((621, 409), (652, 431)), 1.0], [((747, 616), (778, 629)), 1], [((45, 580), (67, 602)), 46.0], [((266, 419), (310, 482)), 1.0], [((45, 571), (67, 602)), 1.0]]\n"
     ]
    },
    {
     "name": "stderr",
     "output_type": "stream",
     "text": [
      "\r",
      " 37%|██████████████████████████████                                                   | 93/251 [34:14<56:40, 21.52s/it]"
     ]
    },
    {
     "name": "stdout",
     "output_type": "stream",
     "text": [
      "[962.5, 433.5] [953.0, 441.0]\n",
      "[962.5, 433.5] [105.5, 442.5]\n",
      "[636.5, 420.0] [105.5, 442.5]\n",
      "[762.5, 622.5] [105.5, 442.5]\n",
      "[78.5, 586.5] [105.5, 442.5]\n",
      "[962.5, 433.5] [218.0, 442.5]\n",
      "[636.5, 420.0] [218.0, 442.5]\n",
      "[762.5, 622.5] [218.0, 442.5]\n",
      "[78.5, 586.5] [218.0, 442.5]\n",
      "[[((931, 400), (994, 467)), 111.0], [((621, 409), (652, 431)), 1.0], [((747, 616), (778, 629)), 1], [((63, 571), (94, 602)), 48.0], [((266, 419), (310, 482)), 1.0], [((45, 571), (67, 602)), 1.0]]\n"
     ]
    },
    {
     "name": "stderr",
     "output_type": "stream",
     "text": [
      "\r",
      " 37%|██████████████████████████████▎                                                  | 94/251 [34:35<56:12, 21.48s/it]"
     ]
    },
    {
     "name": "stdout",
     "output_type": "stream",
     "text": [
      "[953.0, 441.0] [953.0, 441.0]\n",
      "[[((912, 400), (994, 482)), 112.0], [((621, 409), (652, 431)), 1.0], [((747, 616), (778, 629)), 1], [((90, 427), (121, 458)), 47.0], [((266, 419), (310, 482)), 1.0], [((45, 571), (67, 602)), 1.0]]\n"
     ]
    },
    {
     "name": "stderr",
     "output_type": "stream",
     "text": [
      "\r",
      " 38%|██████████████████████████████▋                                                  | 95/251 [34:56<55:40, 21.41s/it]"
     ]
    },
    {
     "name": "stdout",
     "output_type": "stream",
     "text": [
      "[953.0, 441.0] [962.5, 438.0]\n",
      "[953.0, 441.0] [146.0, 429.0]\n",
      "[636.5, 420.0] [146.0, 429.0]\n",
      "[762.5, 622.5] [146.0, 429.0]\n",
      "[105.5, 442.5] [146.0, 429.0]\n",
      "[953.0, 441.0] [173.0, 438.0]\n",
      "[636.5, 420.0] [173.0, 438.0]\n",
      "[762.5, 622.5] [173.0, 438.0]\n",
      "[105.5, 442.5] [173.0, 438.0]\n",
      "[[((912, 400), (994, 482)), 113.0], [((621, 409), (652, 431)), 1.0], [((747, 616), (778, 629)), 1], [((90, 427), (121, 458)), 49.0], [((266, 419), (310, 482)), 1.0], [((45, 571), (67, 602)), 1.0]]\n"
     ]
    },
    {
     "name": "stderr",
     "output_type": "stream",
     "text": [
      "\r",
      " 38%|██████████████████████████████▉                                                  | 96/251 [35:18<55:08, 21.34s/it]"
     ]
    },
    {
     "name": "stdout",
     "output_type": "stream",
     "text": [
      "[962.5, 438.0] [953.0, 441.0]\n",
      "[[((931, 400), (994, 476)), 114.0], [((621, 409), (652, 431)), 1.0], [((747, 616), (778, 629)), 1], [((144, 418), (148, 440)), 48.0], [((266, 419), (310, 482)), 1.0], [((45, 571), (67, 602)), 1.0]]\n"
     ]
    },
    {
     "name": "stderr",
     "output_type": "stream",
     "text": [
      "\r",
      " 39%|███████████████████████████████▎                                                 | 97/251 [35:39<54:34, 21.26s/it]"
     ]
    },
    {
     "name": "stdout",
     "output_type": "stream",
     "text": [
      "[953.0, 441.0] [953.0, 441.0]\n",
      "[953.0, 441.0] [150.5, 447.0]\n",
      "[636.5, 420.0] [150.5, 447.0]\n",
      "[762.5, 622.5] [150.5, 447.0]\n",
      "[146.0, 429.0] [150.5, 447.0]\n",
      "[953.0, 441.0] [122.0, 451.5]\n",
      "[636.5, 420.0] [122.0, 451.5]\n",
      "[762.5, 622.5] [122.0, 451.5]\n",
      "[146.0, 429.0] [122.0, 451.5]\n",
      "[953.0, 441.0] [42.5, 465.0]\n",
      "[636.5, 420.0] [42.5, 465.0]\n",
      "[762.5, 622.5] [42.5, 465.0]\n",
      "[146.0, 429.0] [42.5, 465.0]\n",
      "[[((912, 400), (994, 482)), 115.0], [((621, 409), (652, 431)), 1.0], [((747, 616), (778, 629)), 1], [((144, 418), (148, 440)), 51.0], [((266, 419), (310, 482)), 1.0], [((45, 571), (67, 602)), 1.0]]\n"
     ]
    },
    {
     "name": "stderr",
     "output_type": "stream",
     "text": [
      "\r",
      " 39%|███████████████████████████████▋                                                 | 98/251 [36:03<56:27, 22.14s/it]"
     ]
    },
    {
     "name": "stdout",
     "output_type": "stream",
     "text": [
      "[953.0, 441.0] [953.0, 441.0]\n",
      "[[((912, 400), (994, 482)), 116.0], [((621, 409), (652, 431)), 1.0], [((747, 616), (778, 629)), 1], [((135, 427), (166, 467)), 50.0], [((266, 419), (310, 482)), 1.0], [((45, 571), (67, 602)), 1.0]]\n"
     ]
    },
    {
     "name": "stderr",
     "output_type": "stream",
     "text": [
      "\r",
      " 39%|███████████████████████████████▉                                                 | 99/251 [36:24<55:37, 21.96s/it]"
     ]
    },
    {
     "name": "stdout",
     "output_type": "stream",
     "text": [
      "[953.0, 441.0] [236.0, 415.5]\n",
      "[636.5, 420.0] [236.0, 415.5]\n",
      "[762.5, 622.5] [236.0, 415.5]\n",
      "[150.5, 447.0] [236.0, 415.5]\n",
      "[953.0, 441.0] [962.5, 433.5]\n",
      "[953.0, 441.0] [114.5, 443.0]\n",
      "[636.5, 420.0] [114.5, 443.0]\n",
      "[762.5, 622.5] [114.5, 443.0]\n",
      "[150.5, 447.0] [114.5, 443.0]\n",
      "[[((912, 400), (994, 482)), 117.0], [((621, 409), (652, 431)), 1.0], [((747, 616), (778, 629)), 1], [((135, 427), (166, 467)), 52.0], [((266, 419), (310, 482)), 1.0], [((45, 571), (67, 602)), 1.0]]\n"
     ]
    },
    {
     "name": "stderr",
     "output_type": "stream",
     "text": [
      "\r",
      " 40%|███████████████████████████████▊                                                | 100/251 [36:46<54:45, 21.76s/it]"
     ]
    },
    {
     "name": "stdout",
     "output_type": "stream",
     "text": [
      "[962.5, 433.5] [69.5, 451.5]\n",
      "[636.5, 420.0] [69.5, 451.5]\n",
      "[762.5, 622.5] [69.5, 451.5]\n",
      "[114.5, 443.0] [69.5, 451.5]\n",
      "[[((931, 400), (994, 467)), 116.0], [((621, 409), (652, 431)), 1.0], [((747, 616), (778, 629)), 1], [((90, 419), (139, 467)), 53.0], [((266, 419), (310, 482)), 1.0], [((45, 571), (67, 602)), 1.0]]\n"
     ]
    },
    {
     "name": "stderr",
     "output_type": "stream",
     "text": [
      "\r",
      " 40%|████████████████████████████████▏                                               | 101/251 [37:07<53:44, 21.50s/it]"
     ]
    },
    {
     "name": "stdout",
     "output_type": "stream",
     "text": [
      "[962.5, 433.5] [953.0, 431.5]\n",
      "[962.5, 433.5] [105.5, 433.5]\n",
      "[636.5, 420.0] [105.5, 433.5]\n",
      "[762.5, 622.5] [105.5, 433.5]\n",
      "[69.5, 451.5] [105.5, 433.5]\n",
      "[962.5, 433.5] [917.0, 442.5]\n",
      "[962.5, 433.5] [29.0, 451.5]\n",
      "[636.5, 420.0] [29.0, 451.5]\n",
      "[762.5, 622.5] [29.0, 451.5]\n",
      "[69.5, 451.5] [29.0, 451.5]\n",
      "[962.5, 433.5] [51.5, 451.5]\n",
      "[636.5, 420.0] [51.5, 451.5]\n",
      "[762.5, 622.5] [51.5, 451.5]\n",
      "[69.5, 451.5] [51.5, 451.5]\n",
      "[[((931, 400), (994, 467)), 118.0], [((621, 409), (652, 431)), 1.0], [((747, 616), (778, 629)), 1], [((54, 436), (85, 467)), 56.0], [((266, 419), (310, 482)), 1.0], [((45, 571), (67, 602)), 1.0]]\n"
     ]
    },
    {
     "name": "stderr",
     "output_type": "stream",
     "text": [
      "\r",
      " 41%|████████████████████████████████▌                                               | 102/251 [37:28<53:35, 21.58s/it]"
     ]
    },
    {
     "name": "stdout",
     "output_type": "stream",
     "text": [
      "[953.0, 431.5] [953.0, 431.5]\n",
      "[953.0, 431.5] [123.5, 442.5]\n",
      "[636.5, 420.0] [123.5, 442.5]\n",
      "[762.5, 622.5] [123.5, 442.5]\n",
      "[105.5, 433.5] [123.5, 442.5]\n",
      "[953.0, 431.5] [917.0, 442.5]\n",
      "[953.0, 431.5] [20.0, 451.5]\n",
      "[636.5, 420.0] [20.0, 451.5]\n",
      "[762.5, 622.5] [20.0, 451.5]\n",
      "[105.5, 433.5] [20.0, 451.5]\n",
      "[953.0, 431.5] [38.0, 451.5]\n",
      "[636.5, 420.0] [38.0, 451.5]\n",
      "[762.5, 622.5] [38.0, 451.5]\n",
      "[105.5, 433.5] [38.0, 451.5]\n",
      "[953.0, 431.5] [56.0, 447.0]\n",
      "[636.5, 420.0] [56.0, 447.0]\n",
      "[762.5, 622.5] [56.0, 447.0]\n",
      "[105.5, 433.5] [56.0, 447.0]\n",
      "[[((931, 400), (975, 463)), 120.0], [((621, 409), (652, 431)), 1.0], [((747, 616), (778, 629)), 1], [((90, 418), (121, 449)), 60.0], [((266, 419), (310, 482)), 1.0], [((45, 571), (67, 602)), 1.0]]\n"
     ]
    },
    {
     "name": "stderr",
     "output_type": "stream",
     "text": [
      "\r",
      " 41%|████████████████████████████████▊                                               | 103/251 [37:50<53:16, 21.59s/it]"
     ]
    },
    {
     "name": "stdout",
     "output_type": "stream",
     "text": [
      "[953.0, 431.5] [958.0, 431.5]\n",
      "[953.0, 431.5] [47.0, 447.0]\n",
      "[636.5, 420.0] [47.0, 447.0]\n",
      "[762.5, 622.5] [47.0, 447.0]\n",
      "[123.5, 442.5] [47.0, 447.0]\n",
      "[953.0, 431.5] [917.0, 442.5]\n",
      "[[((931, 400), (975, 463)), 122.0], [((621, 409), (652, 431)), 1.0], [((747, 616), (778, 629)), 1], [((108, 427), (139, 458)), 61.0], [((266, 419), (310, 482)), 1.0], [((45, 571), (67, 602)), 1.0]]\n"
     ]
    },
    {
     "name": "stderr",
     "output_type": "stream",
     "text": [
      "\r",
      " 41%|█████████████████████████████████▏                                              | 104/251 [38:11<52:27, 21.41s/it]"
     ]
    },
    {
     "name": "stdout",
     "output_type": "stream",
     "text": [
      "[958.0, 431.5] [47.0, 451.5]\n",
      "[636.5, 420.0] [47.0, 451.5]\n",
      "[762.5, 622.5] [47.0, 451.5]\n",
      "[47.0, 447.0] [47.0, 451.5]\n",
      "[958.0, 431.5] [906.5, 447.0]\n",
      "[958.0, 431.5] [974.0, 451.5]\n",
      "[[((931, 400), (985, 463)), 124.0], [((621, 409), (652, 431)), 1.0], [((747, 616), (778, 629)), 1], [((18, 427), (76, 467)), 62.0], [((266, 419), (310, 482)), 1.0], [((45, 571), (67, 602)), 1.0]]\n"
     ]
    },
    {
     "name": "stderr",
     "output_type": "stream",
     "text": [
      "\r",
      " 42%|█████████████████████████████████▍                                              | 105/251 [38:32<51:56, 21.34s/it]"
     ]
    },
    {
     "name": "stdout",
     "output_type": "stream",
     "text": [
      "[974.0, 451.5] [960.5, 442.5]\n",
      "[974.0, 451.5] [33.5, 451.5]\n",
      "[636.5, 420.0] [33.5, 451.5]\n",
      "[762.5, 622.5] [33.5, 451.5]\n",
      "[47.0, 451.5] [33.5, 451.5]\n",
      "[974.0, 451.5] [195.5, 447.0]\n",
      "[636.5, 420.0] [195.5, 447.0]\n",
      "[762.5, 622.5] [195.5, 447.0]\n",
      "[47.0, 451.5] [195.5, 447.0]\n",
      "[974.0, 451.5] [906.5, 447.0]\n",
      "[[((954, 436), (994, 467)), 126.0], [((621, 409), (652, 431)), 1.0], [((747, 616), (778, 629)), 1], [((27, 436), (67, 467)), 64.0], [((266, 419), (310, 482)), 1.0], [((45, 571), (67, 602)), 1.0]]\n"
     ]
    },
    {
     "name": "stderr",
     "output_type": "stream",
     "text": [
      "\r",
      " 42%|█████████████████████████████████▊                                              | 106/251 [38:56<53:03, 21.96s/it]"
     ]
    },
    {
     "name": "stdout",
     "output_type": "stream",
     "text": [
      "[960.5, 442.5] [969.5, 434.0]\n",
      "[960.5, 442.5] [42.5, 451.5]\n",
      "[636.5, 420.0] [42.5, 451.5]\n",
      "[762.5, 622.5] [42.5, 451.5]\n",
      "[33.5, 451.5] [42.5, 451.5]\n",
      "[960.5, 442.5] [128.0, 447.0]\n",
      "[636.5, 420.0] [128.0, 447.0]\n",
      "[762.5, 622.5] [128.0, 447.0]\n",
      "[33.5, 451.5] [128.0, 447.0]\n",
      "[[((945, 427), (976, 458)), 127.0], [((621, 409), (652, 431)), 1.0], [((747, 616), (778, 629)), 1], [((18, 436), (49, 467)), 66.0], [((266, 419), (310, 482)), 1.0], [((45, 571), (67, 602)), 1.0]]\n"
     ]
    },
    {
     "name": "stderr",
     "output_type": "stream",
     "text": [
      "\r",
      " 43%|██████████████████████████████████                                              | 107/251 [39:17<52:27, 21.85s/it]"
     ]
    },
    {
     "name": "stdout",
     "output_type": "stream",
     "text": [
      "[969.5, 434.0] [29.0, 451.5]\n",
      "[636.5, 420.0] [29.0, 451.5]\n",
      "[762.5, 622.5] [29.0, 451.5]\n",
      "[42.5, 451.5] [29.0, 451.5]\n",
      "[969.5, 434.0] [969.5, 460.5]\n",
      "[[((954, 419), (985, 449)), 128.0], [((621, 409), (652, 431)), 1.0], [((747, 616), (778, 629)), 1], [((18, 436), (67, 467)), 67.0], [((266, 419), (310, 482)), 1.0], [((45, 571), (67, 602)), 1.0]]\n"
     ]
    },
    {
     "name": "stderr",
     "output_type": "stream",
     "text": [
      "\r",
      " 43%|██████████████████████████████████▍                                             | 108/251 [39:38<51:29, 21.60s/it]"
     ]
    },
    {
     "name": "stdout",
     "output_type": "stream",
     "text": [
      "[969.5, 460.5] [956.0, 438.5]\n",
      "[969.5, 460.5] [33.5, 447.0]\n",
      "[636.5, 420.0] [33.5, 447.0]\n",
      "[762.5, 622.5] [33.5, 447.0]\n",
      "[29.0, 451.5] [33.5, 447.0]\n",
      "[[((954, 445), (985, 476)), 129.0], [((621, 409), (652, 431)), 1.0], [((747, 616), (778, 629)), 1], [((0, 427), (58, 476)), 68.0], [((266, 419), (310, 482)), 1.0], [((45, 571), (67, 602)), 1.0]]\n"
     ]
    },
    {
     "name": "stderr",
     "output_type": "stream",
     "text": [
      "\r",
      " 43%|██████████████████████████████████▋                                             | 109/251 [39:59<50:46, 21.46s/it]"
     ]
    },
    {
     "name": "stdout",
     "output_type": "stream",
     "text": [
      "[956.0, 438.5] [960.5, 434.0]\n",
      "[956.0, 438.5] [20.0, 447.0]\n",
      "[636.5, 420.0] [20.0, 447.0]\n",
      "[762.5, 622.5] [20.0, 447.0]\n",
      "[33.5, 447.0] [20.0, 447.0]\n",
      "[956.0, 438.5] [150.5, 429.0]\n",
      "[636.5, 420.0] [150.5, 429.0]\n",
      "[762.5, 622.5] [150.5, 429.0]\n",
      "[33.5, 447.0] [150.5, 429.0]\n",
      "[956.0, 438.5] [47.0, 442.5]\n",
      "[636.5, 420.0] [47.0, 442.5]\n",
      "[762.5, 622.5] [47.0, 442.5]\n",
      "[33.5, 447.0] [47.0, 442.5]\n",
      "[956.0, 438.5] [65.0, 451.5]\n",
      "[636.5, 420.0] [65.0, 451.5]\n",
      "[762.5, 622.5] [65.0, 451.5]\n",
      "[33.5, 447.0] [65.0, 451.5]\n",
      "[956.0, 438.5] [83.0, 447.0]\n",
      "[636.5, 420.0] [83.0, 447.0]\n",
      "[762.5, 622.5] [83.0, 447.0]\n",
      "[33.5, 447.0] [83.0, 447.0]\n",
      "[[((936, 419), (976, 458)), 130.0], [((621, 409), (652, 431)), 1.0], [((747, 616), (778, 629)), 1], [((9, 427), (58, 467)), 73.0], [((266, 419), (310, 482)), 1.0], [((45, 571), (67, 602)), 1.0]]\n"
     ]
    },
    {
     "name": "stderr",
     "output_type": "stream",
     "text": [
      "\r",
      " 44%|███████████████████████████████████                                             | 110/251 [40:20<50:10, 21.35s/it]"
     ]
    },
    {
     "name": "stdout",
     "output_type": "stream",
     "text": [
      "[960.5, 434.0] [375.5, 420.0]\n",
      "[636.5, 420.0] [375.5, 420.0]\n",
      "[960.5, 434.0] [24.5, 438.0]\n",
      "[636.5, 420.0] [24.5, 438.0]\n",
      "[762.5, 622.5] [24.5, 438.0]\n",
      "[20.0, 447.0] [24.5, 438.0]\n",
      "[[((945, 419), (976, 449)), 129.0], [((621, 409), (652, 431)), 2.0], [((747, 616), (778, 629)), 1], [((0, 427), (40, 467)), 74.0], [((266, 419), (310, 482)), 1.0], [((45, 571), (67, 602)), 1.0]]\n"
     ]
    },
    {
     "name": "stderr",
     "output_type": "stream",
     "text": [
      "\r",
      " 44%|███████████████████████████████████▍                                            | 111/251 [40:42<49:47, 21.34s/it]"
     ]
    },
    {
     "name": "stdout",
     "output_type": "stream",
     "text": [
      "[960.5, 434.0] [956.0, 438.5]\n",
      "[960.5, 434.0] [51.5, 442.5]\n",
      "[375.5, 420.0] [51.5, 442.5]\n",
      "[762.5, 622.5] [51.5, 442.5]\n",
      "[24.5, 438.0] [51.5, 442.5]\n",
      "[960.5, 434.0] [83.0, 442.5]\n",
      "[375.5, 420.0] [83.0, 442.5]\n",
      "[762.5, 622.5] [83.0, 442.5]\n",
      "[24.5, 438.0] [83.0, 442.5]\n",
      "[960.5, 434.0] [29.0, 586.5]\n",
      "[375.5, 420.0] [29.0, 586.5]\n",
      "[762.5, 622.5] [29.0, 586.5]\n",
      "[24.5, 438.0] [29.0, 586.5]\n",
      "[[((945, 419), (976, 449)), 130.0], [((360, 409), (391, 431)), 1.0], [((747, 616), (778, 629)), 1], [((9, 427), (40, 449)), 77.0], [((266, 419), (310, 482)), 1.0], [((45, 571), (67, 602)), 1.0]]\n"
     ]
    },
    {
     "name": "stderr",
     "output_type": "stream",
     "text": [
      "\r",
      " 45%|███████████████████████████████████▋                                            | 112/251 [41:03<49:28, 21.35s/it]"
     ]
    },
    {
     "name": "stdout",
     "output_type": "stream",
     "text": [
      "[956.0, 438.5] [947.0, 438.0]\n",
      "[[((936, 419), (976, 458)), 131.0], [((360, 409), (391, 431)), 1.0], [((747, 616), (778, 629)), 1], [((36, 427), (67, 458)), 76.0], [((266, 419), (310, 482)), 1.0], [((45, 571), (67, 602)), 1.0]]\n"
     ]
    },
    {
     "name": "stderr",
     "output_type": "stream",
     "text": [
      "\r",
      " 45%|████████████████████████████████████                                            | 113/251 [41:25<49:21, 21.46s/it]"
     ]
    },
    {
     "name": "stdout",
     "output_type": "stream",
     "text": [
      "[947.0, 438.0] [946.5, 440.5]\n",
      "[947.0, 438.0] [29.0, 460.5]\n",
      "[375.5, 420.0] [29.0, 460.5]\n",
      "[762.5, 622.5] [29.0, 460.5]\n",
      "[51.5, 442.5] [29.0, 460.5]\n",
      "[947.0, 438.0] [51.5, 465.0]\n",
      "[375.5, 420.0] [51.5, 465.0]\n",
      "[762.5, 622.5] [51.5, 465.0]\n",
      "[51.5, 442.5] [51.5, 465.0]\n",
      "[947.0, 438.0] [15.5, 478.5]\n",
      "[375.5, 420.0] [15.5, 478.5]\n",
      "[762.5, 622.5] [15.5, 478.5]\n",
      "[51.5, 442.5] [15.5, 478.5]\n",
      "[[((918, 418), (976, 458)), 132.0], [((360, 409), (391, 431)), 1.0], [((747, 616), (778, 629)), 1], [((36, 427), (67, 458)), 79.0], [((266, 419), (310, 482)), 1.0], [((45, 571), (67, 602)), 1.0]]\n"
     ]
    },
    {
     "name": "stderr",
     "output_type": "stream",
     "text": [
      "\r",
      " 45%|████████████████████████████████████▎                                           | 114/251 [41:46<49:04, 21.49s/it]"
     ]
    },
    {
     "name": "stdout",
     "output_type": "stream",
     "text": [
      "[946.5, 440.5] [946.5, 440.5]\n",
      "[[((918, 418), (975, 463)), 133.0], [((360, 409), (391, 431)), 1.0], [((747, 616), (778, 629)), 1], [((0, 472), (31, 485)), 78.0], [((266, 419), (310, 482)), 1.0], [((45, 571), (67, 602)), 1.0]]\n"
     ]
    },
    {
     "name": "stderr",
     "output_type": "stream",
     "text": [
      "\r",
      " 46%|████████████████████████████████████▋                                           | 115/251 [42:10<49:50, 21.99s/it]"
     ]
    },
    {
     "name": "stdout",
     "output_type": "stream",
     "text": [
      "[946.5, 440.5] [944.0, 445.5]\n",
      "[[((918, 418), (975, 463)), 134.0], [((360, 409), (391, 431)), 1.0], [((747, 616), (778, 629)), 1], [((0, 472), (31, 485)), 77.0], [((266, 419), (310, 482)), 1.0], [((45, 571), (67, 602)), 1.0]]\n"
     ]
    },
    {
     "name": "stderr",
     "output_type": "stream",
     "text": [
      "\r",
      " 46%|████████████████████████████████████▉                                           | 116/251 [42:31<49:04, 21.81s/it]"
     ]
    },
    {
     "name": "stdout",
     "output_type": "stream",
     "text": [
      "[944.0, 445.5] [948.5, 450.0]\n",
      "[944.0, 445.5] [326.0, 438.0]\n",
      "[375.5, 420.0] [326.0, 438.0]\n",
      "[944.0, 445.5] [344.0, 451.5]\n",
      "[375.5, 420.0] [344.0, 451.5]\n",
      "[944.0, 445.5] [51.5, 478.5]\n",
      "[375.5, 420.0] [51.5, 478.5]\n",
      "[762.5, 622.5] [51.5, 478.5]\n",
      "[15.5, 478.5] [51.5, 478.5]\n",
      "[[((912, 409), (976, 482)), 135.0], [((360, 409), (391, 431)), 3.0], [((747, 616), (778, 629)), 1], [((0, 472), (31, 485)), 78.0], [((266, 419), (310, 482)), 1.0], [((45, 571), (67, 602)), 1.0]]\n"
     ]
    },
    {
     "name": "stderr",
     "output_type": "stream",
     "text": [
      "\r",
      " 47%|█████████████████████████████████████▎                                          | 117/251 [42:52<48:31, 21.72s/it]"
     ]
    },
    {
     "name": "stdout",
     "output_type": "stream",
     "text": [
      "[948.5, 450.0] [944.0, 450.0]\n",
      "[948.5, 450.0] [33.5, 456.0]\n",
      "[344.0, 451.5] [33.5, 456.0]\n",
      "[762.5, 622.5] [33.5, 456.0]\n",
      "[51.5, 478.5] [33.5, 456.0]\n",
      "[948.5, 450.0] [821.0, 573.0]\n",
      "[[((912, 418), (985, 482)), 137.0], [((333, 436), (355, 467)), 2.0], [((747, 616), (778, 629)), 1], [((45, 472), (58, 485)), 79.0], [((266, 419), (310, 482)), 1.0], [((45, 571), (67, 602)), 1.0]]\n"
     ]
    },
    {
     "name": "stderr",
     "output_type": "stream",
     "text": [
      "\r",
      " 47%|█████████████████████████████████████▌                                          | 118/251 [43:14<47:42, 21.52s/it]"
     ]
    },
    {
     "name": "stdout",
     "output_type": "stream",
     "text": [
      "[944.0, 450.0] [947.0, 450.0]\n",
      "[944.0, 450.0] [38.0, 577.5]\n",
      "[344.0, 451.5] [38.0, 577.5]\n",
      "[762.5, 622.5] [38.0, 577.5]\n",
      "[51.5, 478.5] [38.0, 577.5]\n",
      "[944.0, 450.0] [848.0, 591.0]\n",
      "[944.0, 450.0] [762.5, 600.0]\n",
      "[344.0, 451.5] [762.5, 600.0]\n",
      "[762.5, 622.5] [762.5, 600.0]\n",
      "[944.0, 450.0] [875.0, 600.0]\n",
      "[944.0, 450.0] [888.5, 618.0]\n",
      "[[((912, 418), (976, 482)), 141.0], [((333, 436), (355, 467)), 1.0], [((747, 616), (778, 629)), 2], [((45, 472), (58, 485)), 80.0], [((266, 419), (310, 482)), 1.0], [((45, 571), (67, 602)), 1.0]]\n"
     ]
    },
    {
     "name": "stderr",
     "output_type": "stream",
     "text": [
      "\r",
      " 47%|█████████████████████████████████████▉                                          | 119/251 [43:35<47:04, 21.40s/it]"
     ]
    },
    {
     "name": "stdout",
     "output_type": "stream",
     "text": [
      "[947.0, 450.0] [942.5, 450.5]\n",
      "[[((909, 418), (985, 482)), 142.0], [((333, 436), (355, 467)), 1.0], [((747, 589), (778, 611)), 1.0], [((27, 562), (49, 593)), 79.0], [((266, 419), (310, 482)), 1.0], [((45, 571), (67, 602)), 1.0]]\n"
     ]
    },
    {
     "name": "stderr",
     "output_type": "stream",
     "text": [
      "\r",
      " 48%|██████████████████████████████████████▏                                         | 120/251 [43:56<46:35, 21.34s/it]"
     ]
    },
    {
     "name": "stdout",
     "output_type": "stream",
     "text": [
      "[942.5, 450.5] [944.0, 450.0]\n",
      "[942.5, 450.5] [888.5, 640.5]\n",
      "[[((909, 419), (976, 482)), 144.0], [((333, 436), (355, 467)), 1.0], [((747, 589), (778, 611)), 1.0], [((27, 562), (49, 593)), 78.0], [((266, 419), (310, 482)), 1.0], [((45, 571), (67, 602)), 1.0]]\n"
     ]
    },
    {
     "name": "stderr",
     "output_type": "stream",
     "text": [
      "\r",
      " 48%|██████████████████████████████████████▌                                         | 121/251 [44:17<46:02, 21.25s/it]"
     ]
    },
    {
     "name": "stdout",
     "output_type": "stream",
     "text": [
      "[944.0, 450.0] [942.5, 441.0]\n",
      "[944.0, 450.0] [231.5, 447.0]\n",
      "[344.0, 451.5] [231.5, 447.0]\n",
      "[944.0, 450.0] [744.5, 546.0]\n",
      "[944.0, 450.0] [744.5, 564.0]\n",
      "[344.0, 451.5] [744.5, 564.0]\n",
      "[762.5, 600.0] [744.5, 564.0]\n",
      "[[((912, 418), (976, 482)), 146.0], [((333, 436), (355, 467)), 2.0], [((747, 589), (778, 611)), 2.0], [((27, 562), (49, 593)), 77.0], [((266, 419), (310, 482)), 1.0], [((45, 571), (67, 602)), 1.0]]\n"
     ]
    },
    {
     "name": "stderr",
     "output_type": "stream",
     "text": [
      "\r",
      " 49%|██████████████████████████████████████▉                                         | 122/251 [44:38<45:29, 21.16s/it]"
     ]
    },
    {
     "name": "stdout",
     "output_type": "stream",
     "text": [
      "[942.5, 441.0] [942.5, 441.0]\n",
      "[942.5, 441.0] [182.0, 433.5]\n",
      "[231.5, 447.0] [182.0, 433.5]\n",
      "[942.5, 441.0] [744.5, 532.5]\n",
      "[942.5, 441.0] [803.0, 582.0]\n",
      "[[((909, 400), (976, 482)), 149.0], [((216, 418), (247, 476)), 3.0], [((729, 553), (760, 575)), 1.0], [((27, 562), (49, 593)), 76.0], [((266, 419), (310, 482)), 1.0], [((45, 571), (67, 602)), 1.0]]\n"
     ]
    },
    {
     "name": "stderr",
     "output_type": "stream",
     "text": [
      "\r",
      " 49%|███████████████████████████████████████▏                                        | 123/251 [45:02<46:56, 22.00s/it]"
     ]
    },
    {
     "name": "stdout",
     "output_type": "stream",
     "text": [
      "[942.5, 441.0] [942.0, 431.5]\n",
      "[[((909, 400), (976, 482)), 150.0], [((162, 418), (202, 449)), 2.0], [((729, 553), (760, 575)), 1.0], [((27, 562), (49, 593)), 75.0], [((266, 419), (310, 482)), 1.0], [((45, 571), (67, 602)), 1.0]]\n"
     ]
    },
    {
     "name": "stderr",
     "output_type": "stream",
     "text": [
      "\r",
      " 49%|███████████████████████████████████████▌                                        | 124/251 [45:23<45:55, 21.69s/it]"
     ]
    },
    {
     "name": "stdout",
     "output_type": "stream",
     "text": [
      "[942.0, 431.5] [944.0, 450.0]\n",
      "[942.0, 431.5] [33.5, 442.5]\n",
      "[182.0, 433.5] [33.5, 442.5]\n",
      "[942.0, 431.5] [78.5, 478.5]\n",
      "[182.0, 433.5] [78.5, 478.5]\n",
      "[942.0, 431.5] [600.5, 505.5]\n",
      "[182.0, 433.5] [600.5, 505.5]\n",
      "[744.5, 564.0] [600.5, 505.5]\n",
      "[942.0, 431.5] [20.0, 586.5]\n",
      "[182.0, 433.5] [20.0, 586.5]\n",
      "[744.5, 564.0] [20.0, 586.5]\n",
      "[38.0, 577.5] [20.0, 586.5]\n",
      "[942.0, 431.5] [74.0, 586.5]\n",
      "[182.0, 433.5] [74.0, 586.5]\n",
      "[[((909, 400), (975, 463)), 151.0], [((162, 418), (202, 449)), 5.0], [((729, 553), (760, 575)), 2.0], [((27, 562), (49, 593)), 76.0], [((266, 419), (310, 482)), 1.0], [((45, 571), (67, 602)), 1.0]]\n"
     ]
    },
    {
     "name": "stderr",
     "output_type": "stream",
     "text": [
      "\r",
      " 50%|███████████████████████████████████████▊                                        | 125/251 [45:44<45:01, 21.44s/it]"
     ]
    },
    {
     "name": "stdout",
     "output_type": "stream",
     "text": [
      "[944.0, 450.0] [944.0, 450.0]\n",
      "[944.0, 450.0] [825.5, 573.0]\n",
      "[[((912, 418), (976, 482)), 153.0], [((18, 427), (49, 458)), 4.0], [((585, 499), (616, 512)), 1.0], [((9, 571), (31, 602)), 75.0], [((266, 419), (310, 482)), 1.0], [((45, 571), (67, 602)), 1.0]]\n"
     ]
    },
    {
     "name": "stderr",
     "output_type": "stream",
     "text": [
      "\r",
      " 50%|████████████████████████████████████████▏                                       | 126/251 [46:04<44:17, 21.26s/it]"
     ]
    },
    {
     "name": "stdout",
     "output_type": "stream",
     "text": [
      "[944.0, 450.0] [944.0, 450.0]\n",
      "[944.0, 450.0] [861.5, 595.5]\n",
      "[944.0, 450.0] [744.5, 609.0]\n",
      "[33.5, 442.5] [744.5, 609.0]\n",
      "[600.5, 505.5] [744.5, 609.0]\n",
      "[[((912, 418), (976, 482)), 155.0], [((18, 427), (49, 458)), 3.0], [((585, 499), (616, 512)), 2.0], [((9, 571), (31, 602)), 74.0], [((266, 419), (310, 482)), 1.0], [((45, 571), (67, 602)), 1.0]]\n"
     ]
    },
    {
     "name": "stderr",
     "output_type": "stream",
     "text": [
      "\r",
      " 51%|████████████████████████████████████████▍                                       | 127/251 [46:26<43:52, 21.23s/it]"
     ]
    },
    {
     "name": "stdout",
     "output_type": "stream",
     "text": [
      "[944.0, 450.0] [944.0, 450.5]\n",
      "[944.0, 450.0] [380.0, 478.5]\n",
      "[33.5, 442.5] [380.0, 478.5]\n",
      "[744.5, 609.0] [380.0, 478.5]\n",
      "[20.0, 586.5] [380.0, 478.5]\n",
      "[288.0, 450.5] [380.0, 478.5]\n",
      "[944.0, 450.0] [888.5, 645.0]\n",
      "[[((912, 418), (976, 482)), 157.0], [((18, 427), (49, 458)), 2.0], [((729, 598), (760, 620)), 1.0], [((9, 571), (31, 602)), 73.0], [((266, 419), (310, 482)), 2.0], [((45, 571), (67, 602)), 1.0]]\n"
     ]
    },
    {
     "name": "stderr",
     "output_type": "stream",
     "text": [
      "\r",
      " 51%|████████████████████████████████████████▊                                       | 128/251 [46:46<43:12, 21.08s/it]"
     ]
    },
    {
     "name": "stdout",
     "output_type": "stream",
     "text": [
      "[944.0, 450.5] [939.5, 440.5]\n",
      "[944.0, 450.5] [681.5, 564.0]\n",
      "[33.5, 442.5] [681.5, 564.0]\n",
      "[744.5, 609.0] [681.5, 564.0]\n",
      "[[((912, 419), (976, 482)), 158.0], [((18, 427), (49, 458)), 1.0], [((729, 598), (760, 620)), 2.0], [((9, 571), (31, 602)), 72.0], [((369, 463), (391, 494)), 1.0], [((45, 571), (67, 602)), 1.0]]\n"
     ]
    },
    {
     "name": "stderr",
     "output_type": "stream",
     "text": [
      "\r",
      " 51%|█████████████████████████████████████████                                       | 129/251 [47:07<42:46, 21.04s/it]"
     ]
    },
    {
     "name": "stdout",
     "output_type": "stream",
     "text": [
      "[939.5, 440.5] [943.5, 440.5]\n",
      "[939.5, 440.5] [762.5, 546.0]\n",
      "[939.5, 440.5] [681.5, 564.0]\n",
      "[33.5, 442.5] [681.5, 564.0]\n",
      "[681.5, 564.0] [681.5, 564.0]\n",
      "[939.5, 440.5] [839.0, 672.0]\n",
      "[33.5, 442.5] [839.0, 672.0]\n",
      "[681.5, 564.0] [839.0, 672.0]\n",
      "[[((912, 418), (967, 463)), 160.0], [((18, 427), (49, 458)), 1.0], [((666, 553), (697, 575)), 4.0], [((9, 571), (31, 602)), 71.0], [((369, 463), (391, 494)), 1.0], [((45, 571), (67, 602)), 1.0]]\n"
     ]
    },
    {
     "name": "stderr",
     "output_type": "stream",
     "text": [
      "\r",
      " 52%|█████████████████████████████████████████▍                                      | 130/251 [47:28<42:20, 20.99s/it]"
     ]
    },
    {
     "name": "stdout",
     "output_type": "stream",
     "text": [
      "[943.5, 440.5] [938.0, 438.0]\n",
      "[[((912, 418), (975, 463)), 161.0], [((18, 427), (49, 458)), 1.0], [((666, 553), (697, 575)), 3.0], [((9, 571), (31, 602)), 70.0], [((369, 463), (391, 494)), 1.0], [((45, 571), (67, 602)), 1.0]]\n"
     ]
    },
    {
     "name": "stderr",
     "output_type": "stream",
     "text": [
      "\r",
      " 52%|█████████████████████████████████████████▊                                      | 131/251 [47:50<42:28, 21.23s/it]"
     ]
    },
    {
     "name": "stdout",
     "output_type": "stream",
     "text": [
      "[938.0, 438.0] [924.5, 438.0]\n",
      "[938.0, 438.0] [852.5, 582.0]\n",
      "[[((909, 418), (967, 458)), 163.0], [((18, 427), (49, 458)), 1.0], [((666, 553), (697, 575)), 2.0], [((9, 571), (31, 602)), 69.0], [((369, 463), (391, 494)), 1.0], [((45, 571), (67, 602)), 1.0]]\n"
     ]
    },
    {
     "name": "stderr",
     "output_type": "stream",
     "text": [
      "\r",
      " 53%|██████████████████████████████████████████                                      | 132/251 [48:13<43:10, 21.77s/it]"
     ]
    },
    {
     "name": "stdout",
     "output_type": "stream",
     "text": [
      "[924.5, 438.0] [921.5, 433.5]\n",
      "[[((909, 418), (940, 458)), 164.0], [((18, 427), (49, 458)), 1.0], [((666, 553), (697, 575)), 1.0], [((9, 571), (31, 602)), 68.0], [((369, 463), (391, 494)), 1.0], [((45, 571), (67, 602)), 1.0]]\n"
     ]
    },
    {
     "name": "stderr",
     "output_type": "stream",
     "text": [
      "\r",
      " 53%|██████████████████████████████████████████▍                                     | 133/251 [48:34<42:11, 21.45s/it]"
     ]
    },
    {
     "name": "stdout",
     "output_type": "stream",
     "text": [
      "[921.5, 433.5] [921.5, 434.0]\n",
      "[921.5, 433.5] [951.5, 434.0]\n",
      "[921.5, 433.5] [888.5, 622.5]\n",
      "[[((912, 418), (931, 449)), 167.0], [((18, 427), (49, 458)), 1.0], [((666, 553), (697, 575)), 1.0], [((9, 571), (31, 602)), 67.0], [((369, 463), (391, 494)), 1.0], [((45, 571), (67, 602)), 1.0]]\n"
     ]
    },
    {
     "name": "stderr",
     "output_type": "stream",
     "text": [
      "\r",
      " 53%|██████████████████████████████████████████▋                                     | 134/251 [48:55<41:33, 21.31s/it]"
     ]
    },
    {
     "name": "stdout",
     "output_type": "stream",
     "text": [
      "[888.5, 622.5] [939.5, 447.5]\n",
      "[888.5, 622.5] [182.0, 505.5]\n",
      "[33.5, 442.5] [182.0, 505.5]\n",
      "[888.5, 622.5] [717.5, 555.0]\n",
      "[888.5, 622.5] [762.5, 564.0]\n",
      "[[((873, 607), (904, 638)), 170.0], [((18, 427), (49, 458)), 2.0], [((666, 553), (697, 575)), 1.0], [((9, 571), (31, 602)), 66.0], [((369, 463), (391, 494)), 1.0], [((45, 571), (67, 602)), 1.0]]\n"
     ]
    },
    {
     "name": "stderr",
     "output_type": "stream",
     "text": [
      "\r",
      " 54%|███████████████████████████████████████████                                     | 135/251 [49:16<40:57, 21.18s/it]"
     ]
    },
    {
     "name": "stdout",
     "output_type": "stream",
     "text": [
      "[939.5, 447.5] [935.0, 451.5]\n",
      "[939.5, 447.5] [762.5, 627.0]\n",
      "[182.0, 505.5] [762.5, 627.0]\n",
      "[681.5, 564.0] [762.5, 627.0]\n",
      "[[((912, 419), (967, 476)), 171.0], [((171, 490), (193, 521)), 1.0], [((666, 553), (697, 575)), 2.0], [((9, 571), (31, 602)), 65.0], [((369, 463), (391, 494)), 1.0], [((45, 571), (67, 602)), 1.0]]\n"
     ]
    },
    {
     "name": "stderr",
     "output_type": "stream",
     "text": [
      "\r",
      " 54%|███████████████████████████████████████████▎                                    | 136/251 [49:36<40:22, 21.06s/it]"
     ]
    },
    {
     "name": "stdout",
     "output_type": "stream",
     "text": [
      "[935.0, 451.5] [924.5, 450.5]\n",
      "[935.0, 451.5] [137.0, 466.5]\n",
      "[182.0, 505.5] [137.0, 466.5]\n",
      "[935.0, 451.5] [753.5, 618.0]\n",
      "[182.0, 505.5] [753.5, 618.0]\n",
      "[762.5, 627.0] [753.5, 618.0]\n",
      "[[((912, 427), (958, 476)), 172.0], [((171, 490), (193, 521)), 2.0], [((747, 616), (778, 638)), 3.0], [((9, 571), (31, 602)), 64.0], [((369, 463), (391, 494)), 1.0], [((45, 571), (67, 602)), 1.0]]\n"
     ]
    },
    {
     "name": "stderr",
     "output_type": "stream",
     "text": [
      "\r",
      " 55%|███████████████████████████████████████████▋                                    | 137/251 [49:57<39:51, 20.98s/it]"
     ]
    },
    {
     "name": "stdout",
     "output_type": "stream",
     "text": [
      "[924.5, 450.5] [924.5, 450.5]\n",
      "[924.5, 450.5] [776.0, 586.5]\n",
      "[[((891, 419), (958, 482)), 174.0], [((135, 457), (139, 476)), 1.0], [((729, 598), (778, 638)), 2.0], [((9, 571), (31, 602)), 63.0], [((369, 463), (391, 494)), 1.0], [((45, 571), (67, 602)), 1.0]]\n"
     ]
    },
    {
     "name": "stderr",
     "output_type": "stream",
     "text": [
      "\r",
      " 55%|███████████████████████████████████████████▉                                    | 138/251 [50:18<39:23, 20.92s/it]"
     ]
    },
    {
     "name": "stdout",
     "output_type": "stream",
     "text": [
      "[924.5, 450.5] [929.0, 450.5]\n",
      "[924.5, 450.5] [65.0, 433.5]\n",
      "[137.0, 466.5] [65.0, 433.5]\n",
      "[[((891, 419), (958, 482)), 175.0], [((135, 457), (139, 476)), 2.0], [((729, 598), (778, 638)), 1.0], [((9, 571), (31, 602)), 62.0], [((369, 463), (391, 494)), 1.0], [((45, 571), (67, 602)), 1.0]]\n"
     ]
    },
    {
     "name": "stderr",
     "output_type": "stream",
     "text": [
      "\r",
      " 55%|████████████████████████████████████████████▎                                   | 139/251 [50:39<39:01, 20.90s/it]"
     ]
    },
    {
     "name": "stdout",
     "output_type": "stream",
     "text": [
      "[929.0, 450.5] [600.5, 429.0]\n",
      "[65.0, 433.5] [600.5, 429.0]\n",
      "[753.5, 618.0] [600.5, 429.0]\n",
      "[20.0, 586.5] [600.5, 429.0]\n",
      "[380.0, 478.5] [600.5, 429.0]\n",
      "[929.0, 450.5] [930.0, 450.0]\n",
      "[929.0, 450.5] [812.0, 627.0]\n",
      "[[((891, 419), (967, 482)), 177.0], [((54, 427), (76, 440)), 1.0], [((729, 598), (778, 638)), 1.0], [((9, 571), (31, 602)), 61.0], [((369, 463), (391, 494)), 2.0], [((45, 571), (67, 602)), 1.0]]\n"
     ]
    },
    {
     "name": "stderr",
     "output_type": "stream",
     "text": [
      "\r",
      " 56%|████████████████████████████████████████████▌                                   | 140/251 [51:03<40:14, 21.76s/it]"
     ]
    },
    {
     "name": "stdout",
     "output_type": "stream",
     "text": [
      "[930.0, 450.0] [930.0, 442.5]\n",
      "[930.0, 450.0] [114.5, 501.0]\n",
      "[65.0, 433.5] [114.5, 501.0]\n",
      "[[((893, 418), (967, 482)), 178.0], [((54, 427), (76, 440)), 2.0], [((729, 598), (778, 638)), 1.0], [((9, 571), (31, 602)), 60.0], [((585, 418), (616, 440)), 1.0], [((45, 571), (67, 602)), 1.0]]\n"
     ]
    },
    {
     "name": "stderr",
     "output_type": "stream",
     "text": [
      "\r",
      " 56%|████████████████████████████████████████████▉                                   | 141/251 [51:23<39:20, 21.46s/it]"
     ]
    },
    {
     "name": "stdout",
     "output_type": "stream",
     "text": [
      "[930.0, 442.5] [930.0, 445.5]\n",
      "[930.0, 442.5] [240.5, 505.5]\n",
      "[114.5, 501.0] [240.5, 505.5]\n",
      "[930.0, 442.5] [362.0, 523.5]\n",
      "[114.5, 501.0] [362.0, 523.5]\n",
      "[930.0, 442.5] [789.5, 550.5]\n",
      "[930.0, 442.5] [1194.5, 586.5]\n",
      "[114.5, 501.0] [1194.5, 586.5]\n",
      "[753.5, 618.0] [1194.5, 586.5]\n",
      "[20.0, 586.5] [1194.5, 586.5]\n",
      "[600.5, 429.0] [1194.5, 586.5]\n",
      "[56.0, 586.5] [1194.5, 586.5]\n",
      "[[((893, 418), (967, 467)), 180.0], [((99, 490), (130, 512)), 4.0], [((729, 598), (778, 638)), 1.0], [((9, 571), (31, 602)), 59.0], [((585, 418), (616, 440)), 1.0], [((45, 571), (67, 602)), 1.0], [((1179, 580), (1210, 593)), 1]]\n"
     ]
    },
    {
     "name": "stderr",
     "output_type": "stream",
     "text": [
      "\r",
      " 57%|█████████████████████████████████████████████▎                                  | 142/251 [51:44<38:38, 21.27s/it]"
     ]
    },
    {
     "name": "stdout",
     "output_type": "stream",
     "text": [
      "[930.0, 445.5] [930.0, 450.0]\n",
      "[930.0, 445.5] [339.5, 532.5]\n",
      "[240.5, 505.5] [339.5, 532.5]\n",
      "[[((893, 409), (967, 482)), 181.0], [((225, 490), (256, 521)), 5.0], [((729, 598), (778, 638)), 1.0], [((9, 571), (31, 602)), 58.0], [((585, 418), (616, 440)), 1.0], [((45, 571), (67, 602)), 1.0], [((1179, 580), (1210, 593)), 1]]\n"
     ]
    },
    {
     "name": "stderr",
     "output_type": "stream",
     "text": [
      "\r",
      " 57%|█████████████████████████████████████████████▌                                  | 143/251 [52:05<37:56, 21.08s/it]"
     ]
    },
    {
     "name": "stdout",
     "output_type": "stream",
     "text": [
      "[930.0, 450.0] [925.5, 450.0]\n",
      "[[((893, 418), (967, 482)), 182.0], [((333, 517), (346, 548)), 4.0], [((729, 598), (778, 638)), 1.0], [((9, 571), (31, 602)), 57.0], [((585, 418), (616, 440)), 1.0], [((45, 571), (67, 602)), 1.0], [((1179, 580), (1210, 593)), 1]]\n"
     ]
    },
    {
     "name": "stderr",
     "output_type": "stream",
     "text": [
      "\r",
      " 57%|█████████████████████████████████████████████▉                                  | 144/251 [52:26<37:38, 21.11s/it]"
     ]
    },
    {
     "name": "stdout",
     "output_type": "stream",
     "text": [
      "[925.5, 450.0] [924.5, 450.0]\n",
      "[925.5, 450.0] [137.0, 577.5]\n",
      "[339.5, 532.5] [137.0, 577.5]\n",
      "[[((893, 418), (958, 482)), 183.0], [((333, 517), (346, 548)), 5.0], [((729, 598), (778, 638)), 1.0], [((9, 571), (31, 602)), 56.0], [((585, 418), (616, 440)), 1.0], [((45, 571), (67, 602)), 1.0], [((1179, 580), (1210, 593)), 1]]\n"
     ]
    },
    {
     "name": "stderr",
     "output_type": "stream",
     "text": [
      "\r",
      " 58%|██████████████████████████████████████████████▏                                 | 145/251 [52:47<37:06, 21.01s/it]"
     ]
    },
    {
     "name": "stdout",
     "output_type": "stream",
     "text": [
      "[924.5, 450.0] [925.5, 440.5]\n",
      "[924.5, 450.0] [123.5, 582.0]\n",
      "[137.0, 577.5] [123.5, 582.0]\n",
      "[924.5, 450.0] [141.5, 586.5]\n",
      "[137.0, 577.5] [141.5, 586.5]\n",
      "[924.5, 450.0] [285.5, 582.0]\n",
      "[137.0, 577.5] [285.5, 582.0]\n",
      "[924.5, 450.0] [47.0, 582.0]\n",
      "[137.0, 577.5] [47.0, 582.0]\n",
      "[924.5, 450.0] [65.0, 595.5]\n",
      "[137.0, 577.5] [65.0, 595.5]\n",
      "[[((891, 418), (958, 482)), 184.0], [((126, 562), (148, 593)), 10.0], [((729, 598), (778, 638)), 1.0], [((9, 571), (31, 602)), 55.0], [((585, 418), (616, 440)), 1.0], [((45, 571), (67, 602)), 1.0], [((1179, 580), (1210, 593)), 1]]\n"
     ]
    },
    {
     "name": "stderr",
     "output_type": "stream",
     "text": [
      "\r",
      " 58%|██████████████████████████████████████████████▌                                 | 146/251 [53:08<36:42, 20.98s/it]"
     ]
    },
    {
     "name": "stdout",
     "output_type": "stream",
     "text": [
      "[925.5, 440.5] [925.5, 450.0]\n",
      "[[((893, 418), (958, 463)), 185.0], [((270, 571), (301, 593)), 9.0], [((729, 598), (778, 638)), 1.0], [((9, 571), (31, 602)), 54.0], [((585, 418), (616, 440)), 1.0], [((45, 571), (67, 602)), 1.0], [((1179, 580), (1210, 593)), 1]]\n"
     ]
    },
    {
     "name": "stderr",
     "output_type": "stream",
     "text": [
      "\r",
      " 59%|██████████████████████████████████████████████▊                                 | 147/251 [53:29<36:40, 21.16s/it]"
     ]
    },
    {
     "name": "stdout",
     "output_type": "stream",
     "text": [
      "[925.5, 450.0] [916.0, 450.0]\n",
      "[925.5, 450.0] [834.5, 568.5]\n",
      "[[((893, 418), (958, 482)), 187.0], [((270, 571), (301, 593)), 8.0], [((729, 598), (778, 638)), 1.0], [((9, 571), (31, 602)), 53.0], [((585, 418), (616, 440)), 1.0], [((45, 571), (67, 602)), 1.0], [((1179, 580), (1210, 593)), 1]]\n"
     ]
    },
    {
     "name": "stderr",
     "output_type": "stream",
     "text": [
      "\r",
      " 59%|███████████████████████████████████████████████▏                                | 148/251 [53:52<36:57, 21.53s/it]"
     ]
    },
    {
     "name": "stdout",
     "output_type": "stream",
     "text": [
      "[916.0, 450.0] [925.5, 450.0]\n",
      "[[((874, 418), (958, 482)), 188.0], [((270, 571), (301, 593)), 7.0], [((729, 598), (778, 638)), 1.0], [((9, 571), (31, 602)), 52.0], [((585, 418), (616, 440)), 1.0], [((45, 571), (67, 602)), 1.0], [((1179, 580), (1210, 593)), 1]]\n"
     ]
    },
    {
     "name": "stderr",
     "output_type": "stream",
     "text": [
      "\r",
      " 59%|███████████████████████████████████████████████▍                                | 149/251 [54:14<37:17, 21.93s/it]"
     ]
    },
    {
     "name": "stdout",
     "output_type": "stream",
     "text": [
      "[925.5, 450.0] [924.5, 450.0]\n",
      "[[((893, 418), (958, 482)), 189.0], [((270, 571), (301, 593)), 6.0], [((729, 598), (778, 638)), 1.0], [((9, 571), (31, 602)), 51.0], [((585, 418), (616, 440)), 1.0], [((45, 571), (67, 602)), 1.0], [((1179, 580), (1210, 593)), 1]]\n"
     ]
    },
    {
     "name": "stderr",
     "output_type": "stream",
     "text": [
      "\r",
      " 60%|███████████████████████████████████████████████▊                                | 150/251 [54:35<36:19, 21.58s/it]"
     ]
    },
    {
     "name": "stdout",
     "output_type": "stream",
     "text": [
      "[924.5, 450.0] [924.5, 450.0]\n",
      "[[((893, 418), (956, 482)), 190.0], [((270, 571), (301, 593)), 5.0], [((729, 598), (778, 638)), 1.0], [((9, 571), (31, 602)), 50.0], [((585, 418), (616, 440)), 1.0], [((45, 571), (67, 602)), 1.0], [((1179, 580), (1210, 593)), 1]]\n"
     ]
    },
    {
     "name": "stderr",
     "output_type": "stream",
     "text": [
      "\r",
      " 60%|████████████████████████████████████████████████▏                               | 151/251 [54:56<35:38, 21.39s/it]"
     ]
    },
    {
     "name": "stdout",
     "output_type": "stream",
     "text": [
      "[924.5, 450.0] [924.5, 450.0]\n",
      "[[((893, 418), (956, 482)), 191.0], [((270, 571), (301, 593)), 4.0], [((729, 598), (778, 638)), 1.0], [((9, 571), (31, 602)), 49.0], [((585, 418), (616, 440)), 1.0], [((45, 571), (67, 602)), 1.0], [((1179, 580), (1210, 593)), 1]]\n"
     ]
    },
    {
     "name": "stderr",
     "output_type": "stream",
     "text": [
      "\r",
      " 61%|████████████████████████████████████████████████▍                               | 152/251 [55:17<34:59, 21.21s/it]"
     ]
    },
    {
     "name": "stdout",
     "output_type": "stream",
     "text": [
      "[924.5, 450.0] [923.5, 450.0]\n",
      "[924.5, 450.0] [744.5, 631.5]\n",
      "[285.5, 582.0] [744.5, 631.5]\n",
      "[753.5, 618.0] [744.5, 631.5]\n",
      "[[((891, 418), (958, 482)), 192.0], [((270, 571), (301, 593)), 3.0], [((729, 598), (778, 638)), 2.0], [((9, 571), (31, 602)), 48.0], [((585, 418), (616, 440)), 1.0], [((45, 571), (67, 602)), 1.0], [((1179, 580), (1210, 593)), 1]]\n"
     ]
    },
    {
     "name": "stderr",
     "output_type": "stream",
     "text": [
      "\r",
      " 61%|████████████████████████████████████████████████▊                               | 153/251 [55:38<34:32, 21.15s/it]"
     ]
    },
    {
     "name": "stdout",
     "output_type": "stream",
     "text": [
      "[923.5, 450.0] [924.5, 450.0]\n",
      "[923.5, 450.0] [681.5, 622.5]\n",
      "[285.5, 582.0] [681.5, 622.5]\n",
      "[744.5, 631.5] [681.5, 622.5]\n",
      "[[((891, 418), (956, 482)), 193.0], [((270, 571), (301, 593)), 2.0], [((729, 616), (760, 647)), 3.0], [((9, 571), (31, 602)), 47.0], [((585, 418), (616, 440)), 1.0], [((45, 571), (67, 602)), 1.0], [((1179, 580), (1210, 593)), 1]]\n"
     ]
    },
    {
     "name": "stderr",
     "output_type": "stream",
     "text": [
      "\r",
      " 61%|█████████████████████████████████████████████████                               | 154/251 [55:59<33:55, 20.99s/it]"
     ]
    },
    {
     "name": "stdout",
     "output_type": "stream",
     "text": [
      "[924.5, 450.0] [923.5, 450.0]\n",
      "[[((891, 418), (958, 482)), 194.0], [((270, 571), (301, 593)), 1.0], [((666, 616), (697, 629)), 2.0], [((9, 571), (31, 602)), 46.0], [((585, 418), (616, 440)), 1.0], [((45, 571), (67, 602)), 1.0], [((1179, 580), (1210, 593)), 1]]\n"
     ]
    },
    {
     "name": "stderr",
     "output_type": "stream",
     "text": [
      "\r",
      " 62%|█████████████████████████████████████████████████▍                              | 155/251 [56:19<33:32, 20.96s/it]"
     ]
    },
    {
     "name": "stdout",
     "output_type": "stream",
     "text": [
      "[923.5, 450.0] [920.0, 450.0]\n",
      "[[((891, 418), (956, 482)), 195.0], [((270, 571), (301, 593)), 1.0], [((666, 616), (697, 629)), 1.0], [((9, 571), (31, 602)), 45.0], [((585, 418), (616, 440)), 1.0], [((45, 571), (67, 602)), 1.0], [((1179, 580), (1210, 593)), 1]]\n"
     ]
    },
    {
     "name": "stderr",
     "output_type": "stream",
     "text": [
      "\r",
      " 62%|█████████████████████████████████████████████████▋                              | 156/251 [56:40<33:10, 20.95s/it]"
     ]
    },
    {
     "name": "stdout",
     "output_type": "stream",
     "text": [
      "[920.0, 450.0] [915.5, 450.0]\n",
      "[[((882, 418), (958, 482)), 196.0], [((270, 571), (301, 593)), 1.0], [((666, 616), (697, 629)), 1.0], [((9, 571), (31, 602)), 44.0], [((585, 418), (616, 440)), 1.0], [((45, 571), (67, 602)), 1.0], [((1179, 580), (1210, 593)), 1]]\n"
     ]
    },
    {
     "name": "stderr",
     "output_type": "stream",
     "text": [
      "\r",
      " 63%|██████████████████████████████████████████████████                              | 157/251 [57:04<34:12, 21.83s/it]"
     ]
    },
    {
     "name": "stdout",
     "output_type": "stream",
     "text": [
      "[915.5, 450.0] [924.5, 450.0]\n",
      "[915.5, 450.0] [87.5, 492.0]\n",
      "[285.5, 582.0] [87.5, 492.0]\n",
      "[[((873, 418), (958, 482)), 197.0], [((270, 571), (301, 593)), 2.0], [((666, 616), (697, 629)), 1.0], [((9, 571), (31, 602)), 43.0], [((585, 418), (616, 440)), 1.0], [((45, 571), (67, 602)), 1.0], [((1179, 580), (1210, 593)), 1]]\n"
     ]
    },
    {
     "name": "stderr",
     "output_type": "stream",
     "text": [
      "\r",
      " 63%|██████████████████████████████████████████████████▎                             | 158/251 [57:26<33:34, 21.66s/it]"
     ]
    },
    {
     "name": "stdout",
     "output_type": "stream",
     "text": [
      "[924.5, 450.0] [911.0, 438.0]\n",
      "[[((891, 418), (958, 482)), 198.0], [((72, 481), (103, 503)), 1.0], [((666, 616), (697, 629)), 1.0], [((9, 571), (31, 602)), 42.0], [((585, 418), (616, 440)), 1.0], [((45, 571), (67, 602)), 1.0], [((1179, 580), (1210, 593)), 1]]\n"
     ]
    },
    {
     "name": "stderr",
     "output_type": "stream",
     "text": [
      "\r",
      " 63%|██████████████████████████████████████████████████▋                             | 159/251 [57:46<32:48, 21.40s/it]"
     ]
    },
    {
     "name": "stdout",
     "output_type": "stream",
     "text": [
      "[911.0, 438.0] [910.0, 442.5]\n",
      "[911.0, 438.0] [168.5, 496.5]\n",
      "[87.5, 492.0] [168.5, 496.5]\n",
      "[[((882, 418), (940, 458)), 199.0], [((72, 481), (103, 503)), 2.0], [((666, 616), (697, 629)), 1.0], [((9, 571), (31, 602)), 41.0], [((585, 418), (616, 440)), 1.0], [((45, 571), (67, 602)), 1.0], [((1179, 580), (1210, 593)), 1]]\n"
     ]
    },
    {
     "name": "stderr",
     "output_type": "stream",
     "text": [
      "\r",
      " 64%|██████████████████████████████████████████████████▉                             | 160/251 [58:07<32:16, 21.28s/it]"
     ]
    },
    {
     "name": "stdout",
     "output_type": "stream",
     "text": [
      "[910.0, 442.5] [924.5, 442.5]\n",
      "[[((864, 418), (956, 467)), 200.0], [((153, 481), (184, 512)), 1.0], [((666, 616), (697, 629)), 1.0], [((9, 571), (31, 602)), 40.0], [((585, 418), (616, 440)), 1.0], [((45, 571), (67, 602)), 1.0], [((1179, 580), (1210, 593)), 1]]\n"
     ]
    },
    {
     "name": "stderr",
     "output_type": "stream",
     "text": [
      "\r",
      " 64%|███████████████████████████████████████████████████▎                            | 161/251 [58:30<32:24, 21.60s/it]"
     ]
    },
    {
     "name": "stdout",
     "output_type": "stream",
     "text": [
      "[924.5, 442.5] [923.5, 438.0]\n",
      "[924.5, 442.5] [978.5, 564.0]\n",
      "[[((893, 418), (956, 467)), 202.0], [((153, 481), (184, 512)), 1.0], [((666, 616), (697, 629)), 1.0], [((9, 571), (31, 602)), 39.0], [((585, 418), (616, 440)), 1.0], [((45, 571), (67, 602)), 1.0], [((1179, 580), (1210, 593)), 1]]\n"
     ]
    },
    {
     "name": "stderr",
     "output_type": "stream",
     "text": [
      "\r",
      " 65%|███████████████████████████████████████████████████▋                            | 162/251 [58:51<31:55, 21.53s/it]"
     ]
    },
    {
     "name": "stdout",
     "output_type": "stream",
     "text": [
      "[923.5, 438.0] [555.5, 420.0]\n",
      "[168.5, 496.5] [555.5, 420.0]\n",
      "[681.5, 622.5] [555.5, 420.0]\n",
      "[20.0, 586.5] [555.5, 420.0]\n",
      "[600.5, 429.0] [555.5, 420.0]\n",
      "[923.5, 438.0] [924.5, 442.5]\n",
      "[923.5, 438.0] [150.5, 501.0]\n",
      "[168.5, 496.5] [150.5, 501.0]\n",
      "[[((891, 409), (956, 467)), 203.0], [((153, 481), (184, 512)), 2.0], [((666, 616), (697, 629)), 1.0], [((9, 571), (31, 602)), 38.0], [((585, 418), (616, 440)), 2.0], [((45, 571), (67, 602)), 1.0], [((1179, 580), (1210, 593)), 1]]\n"
     ]
    },
    {
     "name": "stderr",
     "output_type": "stream",
     "text": [
      "\r",
      " 65%|███████████████████████████████████████████████████▉                            | 163/251 [59:12<31:25, 21.42s/it]"
     ]
    },
    {
     "name": "stdout",
     "output_type": "stream",
     "text": [
      "[924.5, 442.5] [924.5, 438.0]\n",
      "[[((893, 418), (956, 467)), 204.0], [((135, 490), (166, 512)), 1.0], [((666, 616), (697, 629)), 1.0], [((9, 571), (31, 602)), 37.0], [((540, 409), (571, 431)), 1.0], [((45, 571), (67, 602)), 1.0], [((1179, 580), (1210, 593)), 1]]\n"
     ]
    },
    {
     "name": "stderr",
     "output_type": "stream",
     "text": [
      "\r",
      " 65%|████████████████████████████████████████████████████▎                           | 164/251 [59:33<30:45, 21.21s/it]"
     ]
    },
    {
     "name": "stdout",
     "output_type": "stream",
     "text": [
      "[924.5, 438.0] [924.5, 438.0]\n",
      "[924.5, 438.0] [789.5, 627.0]\n",
      "[150.5, 501.0] [789.5, 627.0]\n",
      "[681.5, 622.5] [789.5, 627.0]\n",
      "[[((893, 409), (956, 467)), 205.0], [((135, 490), (166, 512)), 1.0], [((666, 616), (697, 629)), 2.0], [((9, 571), (31, 602)), 36.0], [((540, 409), (571, 431)), 1.0], [((45, 571), (67, 602)), 1.0], [((1179, 580), (1210, 593)), 1]]\n"
     ]
    },
    {
     "name": "stderr",
     "output_type": "stream",
     "text": [
      "\r",
      " 66%|████████████████████████████████████████████████████▌                           | 165/251 [59:58<31:52, 22.24s/it]"
     ]
    },
    {
     "name": "stdout",
     "output_type": "stream",
     "text": [
      "[924.5, 438.0] [915.0, 441.0]\n",
      "[[((893, 409), (956, 467)), 206.0], [((135, 490), (166, 512)), 1.0], [((774, 625), (805, 629)), 1.0], [((9, 571), (31, 602)), 35.0], [((540, 409), (571, 431)), 1.0], [((45, 571), (67, 602)), 1.0], [((1179, 580), (1210, 593)), 1]]\n"
     ]
    },
    {
     "name": "stderr",
     "output_type": "stream",
     "text": [
      "\r",
      " 66%|███████████████████████████████████████████████████▌                          | 166/251 [1:00:19<31:08, 21.98s/it]"
     ]
    },
    {
     "name": "stdout",
     "output_type": "stream",
     "text": [
      "[915.0, 441.0] [914.5, 450.0]\n",
      "[[((874, 400), (956, 482)), 207.0], [((135, 490), (166, 512)), 1.0], [((774, 625), (805, 629)), 1.0], [((9, 571), (31, 602)), 34.0], [((540, 409), (571, 431)), 1.0], [((45, 571), (67, 602)), 1.0], [((1179, 580), (1210, 593)), 1]]\n"
     ]
    },
    {
     "name": "stderr",
     "output_type": "stream",
     "text": [
      "\r",
      " 67%|███████████████████████████████████████████████████▉                          | 167/251 [1:00:40<30:15, 21.61s/it]"
     ]
    },
    {
     "name": "stdout",
     "output_type": "stream",
     "text": [
      "[914.5, 450.0] [915.0, 433.5]\n",
      "[[((873, 418), (956, 482)), 208.0], [((135, 490), (166, 512)), 1.0], [((774, 625), (805, 629)), 1.0], [((9, 571), (31, 602)), 33.0], [((540, 409), (571, 431)), 1.0], [((45, 571), (67, 602)), 1.0], [((1179, 580), (1210, 593)), 1]]\n"
     ]
    },
    {
     "name": "stderr",
     "output_type": "stream",
     "text": [
      "\r",
      " 67%|████████████████████████████████████████████████████▏                         | 168/251 [1:01:00<29:30, 21.34s/it]"
     ]
    },
    {
     "name": "stdout",
     "output_type": "stream",
     "text": [
      "[915.0, 433.5] [911.5, 433.5]\n",
      "[915.0, 433.5] [677.0, 577.5]\n",
      "[150.5, 501.0] [677.0, 577.5]\n",
      "[789.5, 627.0] [677.0, 577.5]\n",
      "[[((874, 400), (956, 467)), 209.0], [((135, 490), (166, 512)), 1.0], [((774, 625), (805, 629)), 2.0], [((9, 571), (31, 602)), 32.0], [((540, 409), (571, 431)), 1.0], [((45, 571), (67, 602)), 1.0], [((1179, 580), (1210, 593)), 1]]\n"
     ]
    },
    {
     "name": "stderr",
     "output_type": "stream",
     "text": [
      "\r",
      " 67%|████████████████████████████████████████████████████▌                         | 169/251 [1:01:21<28:58, 21.20s/it]"
     ]
    },
    {
     "name": "stdout",
     "output_type": "stream",
     "text": [
      "[911.5, 433.5] [915.0, 441.0]\n",
      "[911.5, 433.5] [681.5, 568.5]\n",
      "[150.5, 501.0] [681.5, 568.5]\n",
      "[677.0, 577.5] [681.5, 568.5]\n",
      "[[((874, 400), (949, 467)), 210.0], [((135, 490), (166, 512)), 1.0], [((666, 562), (688, 593)), 3.0], [((9, 571), (31, 602)), 31.0], [((540, 409), (571, 431)), 1.0], [((45, 571), (67, 602)), 1.0], [((1179, 580), (1210, 593)), 1]]\n"
     ]
    },
    {
     "name": "stderr",
     "output_type": "stream",
     "text": [
      "\r",
      " 68%|████████████████████████████████████████████████████▊                         | 170/251 [1:01:42<28:30, 21.12s/it]"
     ]
    },
    {
     "name": "stdout",
     "output_type": "stream",
     "text": [
      "[915.0, 441.0] [907.0, 431.5]\n",
      "[[((874, 400), (956, 482)), 211.0], [((135, 490), (166, 512)), 1.0], [((666, 553), (697, 584)), 2.0], [((9, 571), (31, 602)), 30.0], [((540, 409), (571, 431)), 1.0], [((45, 571), (67, 602)), 1.0], [((1179, 580), (1210, 593)), 1]]\n"
     ]
    },
    {
     "name": "stderr",
     "output_type": "stream",
     "text": [
      "\r",
      " 68%|█████████████████████████████████████████████████████▏                        | 171/251 [1:02:03<28:00, 21.01s/it]"
     ]
    },
    {
     "name": "stdout",
     "output_type": "stream",
     "text": [
      "[907.0, 431.5] [911.5, 433.5]\n",
      "[[((874, 400), (940, 463)), 212.0], [((135, 490), (166, 512)), 1.0], [((666, 553), (697, 584)), 1.0], [((9, 571), (31, 602)), 29.0], [((540, 409), (571, 431)), 1.0], [((45, 571), (67, 602)), 1.0], [((1179, 580), (1210, 593)), 1]]\n"
     ]
    },
    {
     "name": "stderr",
     "output_type": "stream",
     "text": [
      "\r",
      " 69%|█████████████████████████████████████████████████████▍                        | 172/251 [1:02:24<27:39, 21.01s/it]"
     ]
    },
    {
     "name": "stdout",
     "output_type": "stream",
     "text": [
      "[911.5, 433.5] [911.5, 433.5]\n",
      "[[((874, 400), (949, 467)), 213.0], [((135, 490), (166, 512)), 1.0], [((666, 553), (697, 584)), 1.0], [((9, 571), (31, 602)), 28.0], [((540, 409), (571, 431)), 1.0], [((45, 571), (67, 602)), 1.0], [((1179, 580), (1210, 593)), 1]]\n"
     ]
    },
    {
     "name": "stderr",
     "output_type": "stream",
     "text": [
      "\r",
      " 69%|█████████████████████████████████████████████████████▊                        | 173/251 [1:02:45<27:30, 21.16s/it]"
     ]
    },
    {
     "name": "stdout",
     "output_type": "stream",
     "text": [
      "[911.5, 433.5] [911.5, 433.5]\n",
      "[[((874, 400), (949, 467)), 214.0], [((135, 490), (166, 512)), 1.0], [((666, 553), (697, 584)), 1.0], [((9, 571), (31, 602)), 27.0], [((540, 409), (571, 431)), 1.0], [((45, 571), (67, 602)), 1.0], [((1179, 580), (1210, 593)), 1]]\n"
     ]
    },
    {
     "name": "stderr",
     "output_type": "stream",
     "text": [
      "\r",
      " 69%|██████████████████████████████████████████████████████                        | 174/251 [1:03:09<27:54, 21.75s/it]"
     ]
    },
    {
     "name": "stdout",
     "output_type": "stream",
     "text": [
      "[911.5, 433.5] [911.5, 433.5]\n",
      "[[((874, 400), (949, 467)), 215.0], [((135, 490), (166, 512)), 1.0], [((666, 553), (697, 584)), 1.0], [((9, 571), (31, 602)), 26.0], [((540, 409), (571, 431)), 1.0], [((45, 571), (67, 602)), 1.0], [((1179, 580), (1210, 593)), 1]]\n"
     ]
    },
    {
     "name": "stderr",
     "output_type": "stream",
     "text": [
      "\r",
      " 70%|██████████████████████████████████████████████████████▍                       | 175/251 [1:03:29<27:11, 21.47s/it]"
     ]
    },
    {
     "name": "stdout",
     "output_type": "stream",
     "text": [
      "[911.5, 433.5] [907.0, 442.5]\n",
      "[[((874, 400), (949, 467)), 216.0], [((135, 490), (166, 512)), 1.0], [((666, 553), (697, 584)), 1.0], [((9, 571), (31, 602)), 25.0], [((540, 409), (571, 431)), 1.0], [((45, 571), (67, 602)), 1.0], [((1179, 580), (1210, 593)), 1]]\n"
     ]
    },
    {
     "name": "stderr",
     "output_type": "stream",
     "text": [
      "\r",
      " 70%|██████████████████████████████████████████████████████▋                       | 176/251 [1:03:50<26:40, 21.34s/it]"
     ]
    },
    {
     "name": "stdout",
     "output_type": "stream",
     "text": [
      "[907.0, 442.5] [907.0, 442.5]\n",
      "[907.0, 442.5] [744.5, 501.0]\n",
      "[907.0, 442.5] [744.5, 519.0]\n",
      "[[((874, 418), (940, 467)), 219.0], [((135, 490), (166, 512)), 1.0], [((666, 553), (697, 584)), 1.0], [((9, 571), (31, 602)), 24.0], [((540, 409), (571, 431)), 1.0], [((45, 571), (67, 602)), 1.0], [((1179, 580), (1210, 593)), 1]]\n"
     ]
    },
    {
     "name": "stderr",
     "output_type": "stream",
     "text": [
      "\r",
      " 71%|███████████████████████████████████████████████████████                       | 177/251 [1:04:12<26:14, 21.28s/it]"
     ]
    },
    {
     "name": "stdout",
     "output_type": "stream",
     "text": [
      "[907.0, 442.5] [907.0, 442.5]\n",
      "[[((874, 418), (940, 467)), 220.0], [((135, 490), (166, 512)), 1.0], [((666, 553), (697, 584)), 1.0], [((9, 571), (31, 602)), 23.0], [((540, 409), (571, 431)), 1.0], [((45, 571), (67, 602)), 1.0], [((1179, 580), (1210, 593)), 1]]\n"
     ]
    },
    {
     "name": "stderr",
     "output_type": "stream",
     "text": [
      "\r",
      " 71%|███████████████████████████████████████████████████████▎                      | 178/251 [1:04:32<25:45, 21.17s/it]"
     ]
    },
    {
     "name": "stdout",
     "output_type": "stream",
     "text": [
      "[907.0, 442.5] [911.5, 433.5]\n",
      "[907.0, 442.5] [668.0, 631.5]\n",
      "[150.5, 501.0] [668.0, 631.5]\n",
      "[681.5, 568.5] [668.0, 631.5]\n",
      "[[((874, 418), (940, 467)), 221.0], [((135, 490), (166, 512)), 1.0], [((666, 553), (697, 584)), 2.0], [((9, 571), (31, 602)), 22.0], [((540, 409), (571, 431)), 1.0], [((45, 571), (67, 602)), 1.0], [((1179, 580), (1210, 593)), 1]]\n"
     ]
    },
    {
     "name": "stderr",
     "output_type": "stream",
     "text": [
      "\r",
      " 71%|███████████████████████████████████████████████████████▋                      | 179/251 [1:04:53<25:17, 21.08s/it]"
     ]
    },
    {
     "name": "stdout",
     "output_type": "stream",
     "text": [
      "[911.5, 433.5] [907.0, 433.5]\n",
      "[[((874, 400), (949, 467)), 222.0], [((135, 490), (166, 512)), 1.0], [((666, 625), (670, 638)), 1.0], [((9, 571), (31, 602)), 21.0], [((540, 409), (571, 431)), 1.0], [((45, 571), (67, 602)), 1.0], [((1179, 580), (1210, 593)), 1]]\n"
     ]
    },
    {
     "name": "stderr",
     "output_type": "stream",
     "text": [
      "\r",
      " 72%|███████████████████████████████████████████████████████▉                      | 180/251 [1:05:14<24:56, 21.07s/it]"
     ]
    },
    {
     "name": "stdout",
     "output_type": "stream",
     "text": [
      "[907.0, 433.5] [911.5, 450.0]\n",
      "[907.0, 433.5] [834.5, 591.0]\n",
      "[[((874, 400), (940, 467)), 224.0], [((135, 490), (166, 512)), 1.0], [((666, 625), (670, 638)), 1.0], [((9, 571), (31, 602)), 20.0], [((540, 409), (571, 431)), 1.0], [((45, 571), (67, 602)), 1.0], [((1179, 580), (1210, 593)), 1]]\n"
     ]
    },
    {
     "name": "stderr",
     "output_type": "stream",
     "text": [
      "\r",
      " 72%|████████████████████████████████████████████████████████▏                     | 181/251 [1:05:35<24:29, 21.00s/it]"
     ]
    },
    {
     "name": "stdout",
     "output_type": "stream",
     "text": [
      "[911.5, 450.0] [905.5, 442.5]\n",
      "[[((874, 418), (949, 482)), 225.0], [((135, 490), (166, 512)), 1.0], [((666, 625), (670, 638)), 1.0], [((9, 571), (31, 602)), 19.0], [((540, 409), (571, 431)), 1.0], [((45, 571), (67, 602)), 1.0], [((1179, 580), (1210, 593)), 1]]\n"
     ]
    },
    {
     "name": "stderr",
     "output_type": "stream",
     "text": [
      "\r",
      " 73%|████████████████████████████████████████████████████████▌                     | 182/251 [1:05:59<25:06, 21.83s/it]"
     ]
    },
    {
     "name": "stdout",
     "output_type": "stream",
     "text": [
      "[905.5, 442.5] [911.5, 442.5]\n",
      "[[((874, 418), (937, 467)), 226.0], [((135, 490), (166, 512)), 1.0], [((666, 625), (670, 638)), 1.0], [((9, 571), (31, 602)), 18.0], [((540, 409), (571, 431)), 1.0], [((45, 571), (67, 602)), 1.0], [((1179, 580), (1210, 593)), 1]]\n"
     ]
    },
    {
     "name": "stderr",
     "output_type": "stream",
     "text": [
      "\r",
      " 73%|████████████████████████████████████████████████████████▊                     | 183/251 [1:06:20<24:27, 21.57s/it]"
     ]
    },
    {
     "name": "stdout",
     "output_type": "stream",
     "text": [
      "[911.5, 442.5] [911.5, 442.5]\n",
      "[[((874, 418), (949, 467)), 227.0], [((135, 490), (166, 512)), 1.0], [((666, 625), (670, 638)), 1.0], [((9, 571), (31, 602)), 17.0], [((540, 409), (571, 431)), 1.0], [((45, 571), (67, 602)), 1.0], [((1179, 580), (1210, 593)), 1]]\n"
     ]
    },
    {
     "name": "stderr",
     "output_type": "stream",
     "text": [
      "\r",
      " 73%|█████████████████████████████████████████████████████████▏                    | 184/251 [1:06:41<23:57, 21.45s/it]"
     ]
    },
    {
     "name": "stdout",
     "output_type": "stream",
     "text": [
      "[911.5, 442.5] [905.5, 442.5]\n",
      "[911.5, 442.5] [101.0, 496.5]\n",
      "[150.5, 501.0] [101.0, 496.5]\n",
      "[911.5, 442.5] [1203.5, 564.0]\n",
      "[150.5, 501.0] [1203.5, 564.0]\n",
      "[668.0, 631.5] [1203.5, 564.0]\n",
      "[20.0, 586.5] [1203.5, 564.0]\n",
      "[555.5, 420.0] [1203.5, 564.0]\n",
      "[56.0, 586.5] [1203.5, 564.0]\n",
      "[1194.5, 586.5] [1203.5, 564.0]\n",
      "[911.5, 442.5] [1244.0, 631.5]\n",
      "[150.5, 501.0] [1244.0, 631.5]\n",
      "[668.0, 631.5] [1244.0, 631.5]\n",
      "[20.0, 586.5] [1244.0, 631.5]\n",
      "[555.5, 420.0] [1244.0, 631.5]\n",
      "[56.0, 586.5] [1244.0, 631.5]\n",
      "[1194.5, 586.5] [1244.0, 631.5]\n",
      "[[((874, 418), (949, 467)), 228.0], [((135, 490), (166, 512)), 2.0], [((666, 625), (670, 638)), 1.0], [((9, 571), (31, 602)), 16.0], [((540, 409), (571, 431)), 1.0], [((45, 571), (67, 602)), 1.0], [((1179, 580), (1210, 593)), 3]]\n"
     ]
    },
    {
     "name": "stderr",
     "output_type": "stream",
     "text": [
      "\r",
      " 74%|█████████████████████████████████████████████████████████▍                    | 185/251 [1:07:02<23:26, 21.30s/it]"
     ]
    },
    {
     "name": "stdout",
     "output_type": "stream",
     "text": [
      "[905.5, 442.5] [907.0, 442.5]\n",
      "[[((874, 418), (937, 467)), 229.0], [((90, 481), (112, 512)), 1.0], [((666, 625), (670, 638)), 1.0], [((9, 571), (31, 602)), 15.0], [((540, 409), (571, 431)), 1.0], [((45, 571), (67, 602)), 1.0], [((1188, 553), (1219, 575)), 2.0]]\n"
     ]
    },
    {
     "name": "stderr",
     "output_type": "stream",
     "text": [
      "\r",
      " 74%|█████████████████████████████████████████████████████████▊                    | 186/251 [1:07:23<22:57, 21.19s/it]"
     ]
    },
    {
     "name": "stdout",
     "output_type": "stream",
     "text": [
      "[907.0, 442.5] [905.5, 442.5]\n",
      "[[((874, 418), (940, 467)), 230.0], [((90, 481), (112, 512)), 1.0], [((666, 625), (670, 638)), 1.0], [((9, 571), (31, 602)), 14.0], [((540, 409), (571, 431)), 1.0], [((45, 571), (67, 602)), 1.0], [((1188, 553), (1219, 575)), 1.0]]\n"
     ]
    },
    {
     "name": "stderr",
     "output_type": "stream",
     "text": [
      "\r",
      " 75%|██████████████████████████████████████████████████████████                    | 187/251 [1:07:44<22:32, 21.13s/it]"
     ]
    },
    {
     "name": "stdout",
     "output_type": "stream",
     "text": [
      "[905.5, 442.5] [905.5, 442.5]\n",
      "[[((874, 418), (937, 467)), 231.0], [((90, 481), (112, 512)), 1.0], [((666, 625), (670, 638)), 1.0], [((9, 571), (31, 602)), 13.0], [((540, 409), (571, 431)), 1.0], [((45, 571), (67, 602)), 1.0], [((1188, 553), (1219, 575)), 1.0]]\n"
     ]
    },
    {
     "name": "stderr",
     "output_type": "stream",
     "text": [
      "\r",
      " 75%|██████████████████████████████████████████████████████████▍                   | 188/251 [1:08:05<22:04, 21.02s/it]"
     ]
    },
    {
     "name": "stdout",
     "output_type": "stream",
     "text": [
      "[905.5, 442.5] [905.5, 442.5]\n",
      "[905.5, 442.5] [857.0, 586.5]\n",
      "[[((874, 418), (937, 467)), 233.0], [((90, 481), (112, 512)), 1.0], [((666, 625), (670, 638)), 1.0], [((9, 571), (31, 602)), 12.0], [((540, 409), (571, 431)), 1.0], [((45, 571), (67, 602)), 1.0], [((1188, 553), (1219, 575)), 1.0]]\n"
     ]
    },
    {
     "name": "stderr",
     "output_type": "stream",
     "text": [
      "\r",
      " 75%|██████████████████████████████████████████████████████████▋                   | 189/251 [1:08:26<21:40, 20.98s/it]"
     ]
    },
    {
     "name": "stdout",
     "output_type": "stream",
     "text": [
      "[905.5, 442.5] [907.0, 442.5]\n",
      "[905.5, 442.5] [1248.5, 494.0]\n",
      "[101.0, 496.5] [1248.5, 494.0]\n",
      "[668.0, 631.5] [1248.5, 494.0]\n",
      "[20.0, 586.5] [1248.5, 494.0]\n",
      "[555.5, 420.0] [1248.5, 494.0]\n",
      "[56.0, 586.5] [1248.5, 494.0]\n",
      "[1203.5, 564.0] [1248.5, 494.0]\n",
      "[[((874, 418), (937, 467)), 234.0], [((90, 481), (112, 512)), 1.0], [((666, 625), (670, 638)), 1.0], [((9, 571), (31, 602)), 11.0], [((540, 409), (571, 431)), 1.0], [((45, 571), (67, 602)), 1.0], [((1188, 553), (1219, 575)), 2.0]]\n"
     ]
    },
    {
     "name": "stderr",
     "output_type": "stream",
     "text": [
      "\r",
      " 76%|███████████████████████████████████████████████████████████                   | 190/251 [1:08:47<21:25, 21.08s/it]"
     ]
    },
    {
     "name": "stdout",
     "output_type": "stream",
     "text": [
      "[907.0, 442.5] [897.5, 440.5]\n",
      "[[((874, 418), (940, 467)), 235.0], [((90, 481), (112, 512)), 1.0], [((666, 625), (670, 638)), 1.0], [((9, 571), (31, 602)), 10.0], [((540, 409), (571, 431)), 1.0], [((45, 571), (67, 602)), 1.0], [((1233, 476), (1264, 512)), 1.0]]\n"
     ]
    },
    {
     "name": "stderr",
     "output_type": "stream",
     "text": [
      "\r",
      " 76%|███████████████████████████████████████████████████████████▎                  | 191/251 [1:09:09<21:20, 21.35s/it]"
     ]
    },
    {
     "name": "stdout",
     "output_type": "stream",
     "text": [
      "[897.5, 440.5] [905.0, 438.0]\n",
      "[897.5, 440.5] [1230.5, 465.0]\n",
      "[101.0, 496.5] [1230.5, 465.0]\n",
      "[668.0, 631.5] [1230.5, 465.0]\n",
      "[20.0, 586.5] [1230.5, 465.0]\n",
      "[555.5, 420.0] [1230.5, 465.0]\n",
      "[56.0, 586.5] [1230.5, 465.0]\n",
      "[1248.5, 494.0] [1230.5, 465.0]\n",
      "[897.5, 440.5] [1244.0, 483.0]\n",
      "[101.0, 496.5] [1244.0, 483.0]\n",
      "[668.0, 631.5] [1244.0, 483.0]\n",
      "[20.0, 586.5] [1244.0, 483.0]\n",
      "[555.5, 420.0] [1244.0, 483.0]\n",
      "[56.0, 586.5] [1244.0, 483.0]\n",
      "[1248.5, 494.0] [1244.0, 483.0]\n",
      "[[((873, 418), (922, 463)), 236.0], [((90, 481), (112, 512)), 1.0], [((666, 625), (670, 638)), 1.0], [((9, 571), (31, 602)), 9.0], [((540, 409), (571, 431)), 1.0], [((45, 571), (67, 602)), 1.0], [((1233, 476), (1264, 512)), 3.0]]\n"
     ]
    },
    {
     "name": "stderr",
     "output_type": "stream",
     "text": [
      "\r",
      " 76%|███████████████████████████████████████████████████████████▋                  | 192/251 [1:09:31<21:17, 21.66s/it]"
     ]
    },
    {
     "name": "stdout",
     "output_type": "stream",
     "text": [
      "[905.0, 438.0] [911.0, 438.0]\n",
      "[905.0, 438.0] [1257.5, 474.0]\n",
      "[101.0, 496.5] [1257.5, 474.0]\n",
      "[668.0, 631.5] [1257.5, 474.0]\n",
      "[20.0, 586.5] [1257.5, 474.0]\n",
      "[555.5, 420.0] [1257.5, 474.0]\n",
      "[56.0, 586.5] [1257.5, 474.0]\n",
      "[1230.5, 465.0] [1257.5, 474.0]\n",
      "[[((873, 409), (937, 467)), 237.0], [((90, 481), (112, 512)), 1.0], [((666, 625), (670, 638)), 1.0], [((9, 571), (31, 602)), 8.0], [((540, 409), (571, 431)), 1.0], [((45, 571), (67, 602)), 1.0], [((1215, 454), (1246, 476)), 4.0]]\n"
     ]
    },
    {
     "name": "stderr",
     "output_type": "stream",
     "text": [
      "\r",
      " 77%|███████████████████████████████████████████████████████████▉                  | 193/251 [1:09:56<21:40, 22.42s/it]"
     ]
    },
    {
     "name": "stdout",
     "output_type": "stream",
     "text": [
      "[911.0, 438.0] [911.0, 438.0]\n",
      "[911.0, 438.0] [1226.0, 474.0]\n",
      "[101.0, 496.5] [1226.0, 474.0]\n",
      "[668.0, 631.5] [1226.0, 474.0]\n",
      "[20.0, 586.5] [1226.0, 474.0]\n",
      "[555.5, 420.0] [1226.0, 474.0]\n",
      "[56.0, 586.5] [1226.0, 474.0]\n",
      "[1257.5, 474.0] [1226.0, 474.0]\n",
      "[911.0, 438.0] [1167.5, 604.5]\n",
      "[101.0, 496.5] [1167.5, 604.5]\n",
      "[668.0, 631.5] [1167.5, 604.5]\n",
      "[20.0, 586.5] [1167.5, 604.5]\n",
      "[555.5, 420.0] [1167.5, 604.5]\n",
      "[56.0, 586.5] [1167.5, 604.5]\n",
      "[1257.5, 474.0] [1167.5, 604.5]\n",
      "[[((873, 409), (949, 467)), 238.0], [((90, 481), (112, 512)), 1.0], [((666, 625), (670, 638)), 1.0], [((9, 571), (31, 602)), 7.0], [((540, 409), (571, 431)), 1.0], [((45, 571), (67, 602)), 1.0], [((1242, 463), (1273, 485)), 6.0]]\n"
     ]
    },
    {
     "name": "stderr",
     "output_type": "stream",
     "text": [
      "\r",
      " 77%|████████████████████████████████████████████████████████████▎                 | 194/251 [1:10:17<20:55, 22.03s/it]"
     ]
    },
    {
     "name": "stdout",
     "output_type": "stream",
     "text": [
      "[911.0, 438.0] [906.5, 442.5]\n",
      "[911.0, 438.0] [1228.5, 482.5]\n",
      "[101.0, 496.5] [1228.5, 482.5]\n",
      "[668.0, 631.5] [1228.5, 482.5]\n",
      "[20.0, 586.5] [1228.5, 482.5]\n",
      "[555.5, 420.0] [1228.5, 482.5]\n",
      "[56.0, 586.5] [1228.5, 482.5]\n",
      "[1226.0, 474.0] [1228.5, 482.5]\n",
      "[[((873, 409), (949, 467)), 239.0], [((90, 481), (112, 512)), 1.0], [((666, 625), (670, 638)), 1.0], [((9, 571), (31, 602)), 6.0], [((540, 409), (571, 431)), 1.0], [((45, 571), (67, 602)), 1.0], [((1197, 454), (1255, 494)), 7.0]]\n"
     ]
    },
    {
     "name": "stderr",
     "output_type": "stream",
     "text": [
      "\r",
      " 78%|████████████████████████████████████████████████████████████▌                 | 195/251 [1:10:37<20:13, 21.67s/it]"
     ]
    },
    {
     "name": "stdout",
     "output_type": "stream",
     "text": [
      "[906.5, 442.5] [902.5, 438.0]\n",
      "[906.5, 442.5] [1212.5, 487.0]\n",
      "[101.0, 496.5] [1212.5, 487.0]\n",
      "[668.0, 631.5] [1212.5, 487.0]\n",
      "[20.0, 586.5] [1212.5, 487.0]\n",
      "[555.5, 420.0] [1212.5, 487.0]\n",
      "[56.0, 586.5] [1212.5, 487.0]\n",
      "[1228.5, 482.5] [1212.5, 487.0]\n",
      "[906.5, 442.5] [1195.5, 537.0]\n",
      "[101.0, 496.5] [1195.5, 537.0]\n",
      "[668.0, 631.5] [1195.5, 537.0]\n",
      "[20.0, 586.5] [1195.5, 537.0]\n",
      "[555.5, 420.0] [1195.5, 537.0]\n",
      "[56.0, 586.5] [1195.5, 537.0]\n",
      "[1228.5, 482.5] [1195.5, 537.0]\n",
      "[906.5, 442.5] [816.5, 582.0]\n",
      "[906.5, 442.5] [609.5, 636.0]\n",
      "[101.0, 496.5] [609.5, 636.0]\n",
      "[668.0, 631.5] [609.5, 636.0]\n",
      "[[((873, 418), (940, 467)), 241.0], [((90, 481), (112, 512)), 1.0], [((666, 625), (670, 638)), 2.0], [((9, 571), (31, 602)), 5.0], [((540, 409), (571, 431)), 1.0], [((45, 571), (67, 602)), 1.0], [((1178, 445), (1279, 520)), 9.0]]\n"
     ]
    },
    {
     "name": "stderr",
     "output_type": "stream",
     "text": [
      "\r",
      " 78%|████████████████████████████████████████████████████████████▉                 | 196/251 [1:10:59<19:42, 21.49s/it]"
     ]
    },
    {
     "name": "stdout",
     "output_type": "stream",
     "text": [
      "[902.5, 438.0] [905.5, 443.0]\n",
      "[902.5, 438.0] [1209.5, 482.5]\n",
      "[101.0, 496.5] [1209.5, 482.5]\n",
      "[609.5, 636.0] [1209.5, 482.5]\n",
      "[20.0, 586.5] [1209.5, 482.5]\n",
      "[555.5, 420.0] [1209.5, 482.5]\n",
      "[56.0, 586.5] [1209.5, 482.5]\n",
      "[1212.5, 487.0] [1209.5, 482.5]\n",
      "[[((874, 409), (931, 467)), 242.0], [((90, 481), (112, 512)), 1.0], [((594, 625), (625, 647)), 1.0], [((9, 571), (31, 602)), 4.0], [((540, 409), (571, 431)), 1.0], [((45, 571), (67, 602)), 1.0], [((1170, 454), (1255, 520)), 10.0]]\n"
     ]
    },
    {
     "name": "stderr",
     "output_type": "stream",
     "text": [
      "\r",
      " 78%|█████████████████████████████████████████████████████████████▏                | 197/251 [1:11:19<19:08, 21.27s/it]"
     ]
    },
    {
     "name": "stdout",
     "output_type": "stream",
     "text": [
      "[905.5, 443.0] [900.5, 442.5]\n",
      "[905.5, 443.0] [1212.5, 479.5]\n",
      "[101.0, 496.5] [1212.5, 479.5]\n",
      "[609.5, 636.0] [1212.5, 479.5]\n",
      "[20.0, 586.5] [1212.5, 479.5]\n",
      "[555.5, 420.0] [1212.5, 479.5]\n",
      "[56.0, 586.5] [1212.5, 479.5]\n",
      "[1209.5, 482.5] [1212.5, 479.5]\n",
      "[905.5, 443.0] [618.5, 627.0]\n",
      "[101.0, 496.5] [618.5, 627.0]\n",
      "[609.5, 636.0] [618.5, 627.0]\n",
      "[[((874, 419), (937, 467)), 243.0], [((90, 481), (112, 512)), 1.0], [((594, 625), (625, 647)), 2.0], [((9, 571), (31, 602)), 3.0], [((540, 409), (571, 431)), 1.0], [((45, 571), (67, 602)), 1.0], [((1159, 445), (1260, 520)), 11.0]]\n"
     ]
    },
    {
     "name": "stderr",
     "output_type": "stream",
     "text": [
      "\r",
      " 79%|█████████████████████████████████████████████████████████████▌                | 198/251 [1:11:40<18:37, 21.09s/it]"
     ]
    },
    {
     "name": "stdout",
     "output_type": "stream",
     "text": [
      "[900.5, 442.5] [905.0, 442.5]\n",
      "[900.5, 442.5] [1215.5, 465.5]\n",
      "[101.0, 496.5] [1215.5, 465.5]\n",
      "[618.5, 627.0] [1215.5, 465.5]\n",
      "[20.0, 586.5] [1215.5, 465.5]\n",
      "[555.5, 420.0] [1215.5, 465.5]\n",
      "[56.0, 586.5] [1215.5, 465.5]\n",
      "[1212.5, 479.5] [1215.5, 465.5]\n",
      "[900.5, 442.5] [213.5, 492.0]\n",
      "[101.0, 496.5] [213.5, 492.0]\n",
      "[900.5, 442.5] [1244.0, 541.5]\n",
      "[101.0, 496.5] [1244.0, 541.5]\n",
      "[618.5, 627.0] [1244.0, 541.5]\n",
      "[20.0, 586.5] [1244.0, 541.5]\n",
      "[555.5, 420.0] [1244.0, 541.5]\n",
      "[56.0, 586.5] [1244.0, 541.5]\n",
      "[1212.5, 479.5] [1244.0, 541.5]\n",
      "[900.5, 442.5] [677.0, 609.0]\n",
      "[101.0, 496.5] [677.0, 609.0]\n",
      "[618.5, 627.0] [677.0, 609.0]\n",
      "[900.5, 442.5] [618.5, 622.5]\n",
      "[101.0, 496.5] [618.5, 622.5]\n",
      "[618.5, 627.0] [618.5, 622.5]\n",
      "[[((864, 418), (937, 467)), 244.0], [((90, 481), (112, 512)), 2.0], [((603, 607), (634, 647)), 4.0], [((9, 571), (31, 602)), 2.0], [((540, 409), (571, 431)), 1.0], [((45, 571), (67, 602)), 1.0], [((1161, 438), (1264, 521)), 13.0]]\n"
     ]
    },
    {
     "name": "stderr",
     "output_type": "stream",
     "text": [
      "\r",
      " 79%|█████████████████████████████████████████████████████████████▊                | 199/251 [1:12:04<18:58, 21.88s/it]"
     ]
    },
    {
     "name": "stdout",
     "output_type": "stream",
     "text": [
      "[905.0, 442.5] [907.0, 442.5]\n",
      "[905.0, 442.5] [1193.0, 479.0]\n",
      "[213.5, 492.0] [1193.0, 479.0]\n",
      "[677.0, 609.0] [1193.0, 479.0]\n",
      "[20.0, 586.5] [1193.0, 479.0]\n",
      "[555.5, 420.0] [1193.0, 479.0]\n",
      "[56.0, 586.5] [1193.0, 479.0]\n",
      "[1215.5, 465.5] [1193.0, 479.0]\n",
      "[905.0, 442.5] [699.5, 622.5]\n",
      "[213.5, 492.0] [699.5, 622.5]\n",
      "[677.0, 609.0] [699.5, 622.5]\n",
      "[[((873, 418), (937, 467)), 245.0], [((198, 481), (229, 503)), 1.0], [((666, 598), (688, 620)), 5.0], [((9, 571), (31, 602)), 1.0], [((540, 409), (571, 431)), 1.0], [((45, 571), (67, 602)), 1.0], [((1152, 419), (1279, 512)), 14.0]]\n"
     ]
    },
    {
     "name": "stderr",
     "output_type": "stream",
     "text": [
      "\r",
      " 80%|██████████████████████████████████████████████████████████████▏               | 200/251 [1:12:25<18:24, 21.66s/it]"
     ]
    },
    {
     "name": "stdout",
     "output_type": "stream",
     "text": [
      "[907.0, 442.5] [907.0, 442.5]\n",
      "[907.0, 442.5] [1188.5, 482.5]\n",
      "[213.5, 492.0] [1188.5, 482.5]\n",
      "[699.5, 622.5] [1188.5, 482.5]\n",
      "[20.0, 586.5] [1188.5, 482.5]\n",
      "[555.5, 420.0] [1188.5, 482.5]\n",
      "[56.0, 586.5] [1188.5, 482.5]\n",
      "[1193.0, 479.0] [1188.5, 482.5]\n",
      "[907.0, 442.5] [1257.5, 468.0]\n",
      "[213.5, 492.0] [1257.5, 468.0]\n",
      "[699.5, 622.5] [1257.5, 468.0]\n",
      "[20.0, 586.5] [1257.5, 468.0]\n",
      "[555.5, 420.0] [1257.5, 468.0]\n",
      "[56.0, 586.5] [1257.5, 468.0]\n",
      "[1193.0, 479.0] [1257.5, 468.0]\n",
      "[[((874, 418), (940, 467)), 246.0], [((198, 481), (229, 503)), 1.0], [((684, 616), (715, 629)), 4.0], [((9, 571), (31, 602)), 1.0], [((540, 409), (571, 431)), 1.0], [((45, 571), (67, 602)), 1.0], [((1140, 438), (1246, 520)), 16.0]]\n"
     ]
    },
    {
     "name": "stderr",
     "output_type": "stream",
     "text": [
      "\r",
      " 80%|██████████████████████████████████████████████████████████████▍               | 201/251 [1:12:46<17:54, 21.49s/it]"
     ]
    },
    {
     "name": "stdout",
     "output_type": "stream",
     "text": [
      "[907.0, 442.5] [907.0, 442.5]\n",
      "[907.0, 442.5] [1200.0, 469.5]\n",
      "[213.5, 492.0] [1200.0, 469.5]\n",
      "[699.5, 622.5] [1200.0, 469.5]\n",
      "[20.0, 586.5] [1200.0, 469.5]\n",
      "[555.5, 420.0] [1200.0, 469.5]\n",
      "[56.0, 586.5] [1200.0, 469.5]\n",
      "[1188.5, 482.5] [1200.0, 469.5]\n",
      "[907.0, 442.5] [681.5, 622.5]\n",
      "[213.5, 492.0] [681.5, 622.5]\n",
      "[699.5, 622.5] [681.5, 622.5]\n",
      "[[((874, 418), (940, 467)), 247.0], [((198, 481), (229, 503)), 1.0], [((684, 616), (715, 629)), 5.0], [((9, 571), (31, 602)), 1.0], [((540, 409), (571, 431)), 1.0], [((45, 571), (67, 602)), 1.0], [((1140, 445), (1237, 520)), 17.0]]\n"
     ]
    },
    {
     "name": "stderr",
     "output_type": "stream",
     "text": [
      "\r",
      " 80%|██████████████████████████████████████████████████████████████▊               | 202/251 [1:13:07<17:24, 21.32s/it]"
     ]
    },
    {
     "name": "stdout",
     "output_type": "stream",
     "text": [
      "[907.0, 442.5] [905.5, 442.5]\n",
      "[907.0, 442.5] [1238.0, 460.0]\n",
      "[213.5, 492.0] [1238.0, 460.0]\n",
      "[681.5, 622.5] [1238.0, 460.0]\n",
      "[20.0, 586.5] [1238.0, 460.0]\n",
      "[555.5, 420.0] [1238.0, 460.0]\n",
      "[56.0, 586.5] [1238.0, 460.0]\n",
      "[1200.0, 469.5] [1238.0, 460.0]\n",
      "[907.0, 442.5] [1156.5, 487.0]\n",
      "[907.0, 442.5] [1086.5, 514.5]\n",
      "[[((874, 418), (940, 467)), 250.0], [((198, 481), (229, 503)), 1.0], [((666, 616), (697, 629)), 4.0], [((9, 571), (31, 602)), 1.0], [((540, 409), (571, 431)), 1.0], [((45, 571), (67, 602)), 1.0], [((1121, 419), (1279, 520)), 18.0]]\n"
     ]
    },
    {
     "name": "stderr",
     "output_type": "stream",
     "text": [
      "\r",
      " 81%|███████████████████████████████████████████████████████████████               | 203/251 [1:13:28<16:57, 21.19s/it]"
     ]
    },
    {
     "name": "stdout",
     "output_type": "stream",
     "text": [
      "[1156.5, 487.0] [907.0, 442.5]\n",
      "[1156.5, 487.0] [1238.0, 479.0]\n",
      "[1156.5, 487.0] [1149.5, 474.0]\n",
      "[[((1121, 454), (1192, 520)), 253.0], [((198, 481), (229, 503)), 1.0], [((666, 616), (697, 629)), 3.0], [((9, 571), (31, 602)), 1.0], [((540, 409), (571, 431)), 1.0], [((45, 571), (67, 602)), 1.0], [((1197, 419), (1279, 501)), 17.0]]\n"
     ]
    },
    {
     "name": "stderr",
     "output_type": "stream",
     "text": [
      "\r",
      " 81%|███████████████████████████████████████████████████████████████▍              | 204/251 [1:13:49<16:33, 21.15s/it]"
     ]
    },
    {
     "name": "stdout",
     "output_type": "stream",
     "text": [
      "[1238.0, 479.0] [907.0, 450.0]\n",
      "[213.5, 492.0] [907.0, 450.0]\n",
      "[681.5, 622.5] [907.0, 450.0]\n",
      "[20.0, 586.5] [907.0, 450.0]\n",
      "[555.5, 420.0] [907.0, 450.0]\n",
      "[56.0, 586.5] [907.0, 450.0]\n",
      "[1238.0, 460.0] [907.0, 450.0]\n",
      "[1238.0, 479.0] [1188.0, 469.5]\n",
      "[1238.0, 479.0] [1077.5, 505.5]\n",
      "[[((1197, 438), (1279, 520)), 255.0], [((198, 481), (229, 503)), 1.0], [((666, 616), (697, 629)), 2.0], [((9, 571), (31, 602)), 1.0], [((540, 409), (571, 431)), 1.0], [((45, 571), (67, 602)), 1.0], [((1197, 419), (1279, 501)), 16.0], [((874, 418), (940, 482)), 1]]\n"
     ]
    },
    {
     "name": "stderr",
     "output_type": "stream",
     "text": [
      "\r",
      " 82%|███████████████████████████████████████████████████████████████▋              | 205/251 [1:14:10<16:14, 21.18s/it]"
     ]
    },
    {
     "name": "stdout",
     "output_type": "stream",
     "text": [
      "[1188.0, 469.5] [1183.5, 460.0]\n",
      "[1188.0, 469.5] [905.5, 450.0]\n",
      "[213.5, 492.0] [905.5, 450.0]\n",
      "[681.5, 622.5] [905.5, 450.0]\n",
      "[20.0, 586.5] [905.5, 450.0]\n",
      "[555.5, 420.0] [905.5, 450.0]\n",
      "[56.0, 586.5] [905.5, 450.0]\n",
      "[1238.0, 460.0] [905.5, 450.0]\n",
      "[907.0, 450.0] [905.5, 450.0]\n",
      "[1188.0, 469.5] [1176.5, 604.5]\n",
      "[[((1116, 419), (1260, 520)), 257.0], [((198, 481), (229, 503)), 1.0], [((666, 616), (697, 629)), 1.0], [((9, 571), (31, 602)), 1.0], [((540, 409), (571, 431)), 1.0], [((45, 571), (67, 602)), 1.0], [((1197, 419), (1279, 501)), 15.0], [((874, 418), (940, 482)), 2]]\n"
     ]
    },
    {
     "name": "stderr",
     "output_type": "stream",
     "text": [
      "\r",
      " 82%|████████████████████████████████████████████████████████████████              | 206/251 [1:14:31<15:51, 21.14s/it]"
     ]
    },
    {
     "name": "stdout",
     "output_type": "stream",
     "text": [
      "[1183.5, 460.0] [1219.0, 456.0]\n",
      "[1183.5, 460.0] [905.5, 438.0]\n",
      "[213.5, 492.0] [905.5, 438.0]\n",
      "[681.5, 622.5] [905.5, 438.0]\n",
      "[20.0, 586.5] [905.5, 438.0]\n",
      "[555.5, 420.0] [905.5, 438.0]\n",
      "[56.0, 586.5] [905.5, 438.0]\n",
      "[1238.0, 460.0] [905.5, 438.0]\n",
      "[905.5, 450.0] [905.5, 438.0]\n",
      "[1183.5, 460.0] [1131.5, 478.5]\n",
      "[1183.5, 460.0] [1232.5, 518.5]\n",
      "[[((1107, 400), (1260, 520)), 260.0], [((198, 481), (229, 503)), 1.0], [((666, 616), (697, 629)), 1.0], [((9, 571), (31, 602)), 1.0], [((540, 409), (571, 431)), 1.0], [((45, 571), (67, 602)), 1.0], [((1197, 419), (1279, 501)), 14.0], [((874, 418), (937, 482)), 3]]\n"
     ]
    },
    {
     "name": "stderr",
     "output_type": "stream",
     "text": [
      "\r",
      " 82%|████████████████████████████████████████████████████████████████▎             | 207/251 [1:14:54<15:58, 21.78s/it]"
     ]
    },
    {
     "name": "stdout",
     "output_type": "stream",
     "text": [
      "[1219.0, 456.0] [1174.5, 460.0]\n",
      "[1219.0, 456.0] [905.5, 442.5]\n",
      "[213.5, 492.0] [905.5, 442.5]\n",
      "[681.5, 622.5] [905.5, 442.5]\n",
      "[20.0, 586.5] [905.5, 442.5]\n",
      "[555.5, 420.0] [905.5, 442.5]\n",
      "[56.0, 586.5] [905.5, 442.5]\n",
      "[1238.0, 460.0] [905.5, 442.5]\n",
      "[905.5, 438.0] [905.5, 442.5]\n",
      "[1219.0, 456.0] [1257.5, 582.0]\n",
      "[[((1178, 400), (1260, 512)), 262.0], [((198, 481), (229, 503)), 1.0], [((666, 616), (697, 629)), 1.0], [((9, 571), (31, 602)), 1.0], [((540, 409), (571, 431)), 1.0], [((45, 571), (67, 602)), 1.0], [((1197, 419), (1279, 501)), 13.0], [((874, 409), (937, 467)), 4]]\n"
     ]
    },
    {
     "name": "stderr",
     "output_type": "stream",
     "text": [
      "\r",
      " 83%|████████████████████████████████████████████████████████████████▋             | 208/251 [1:15:16<15:36, 21.78s/it]"
     ]
    },
    {
     "name": "stdout",
     "output_type": "stream",
     "text": [
      "[1174.5, 460.0] [1200.0, 460.0]\n",
      "[1174.5, 460.0] [905.5, 442.5]\n",
      "[1174.5, 460.0] [1118.0, 474.0]\n",
      "[[((1089, 400), (1260, 520)), 265.0], [((198, 481), (229, 503)), 1.0], [((666, 616), (697, 629)), 1.0], [((9, 571), (31, 602)), 1.0], [((540, 409), (571, 431)), 1.0], [((45, 571), (67, 602)), 1.0], [((1197, 419), (1279, 501)), 12.0], [((874, 418), (937, 467)), 3.0]]\n"
     ]
    },
    {
     "name": "stderr",
     "output_type": "stream",
     "text": [
      "\r",
      " 83%|████████████████████████████████████████████████████████████████▉             | 209/251 [1:15:38<15:10, 21.68s/it]"
     ]
    },
    {
     "name": "stdout",
     "output_type": "stream",
     "text": [
      "[1200.0, 460.0] [1200.0, 450.5]\n",
      "[1200.0, 460.0] [907.0, 442.5]\n",
      "[213.5, 492.0] [907.0, 442.5]\n",
      "[681.5, 622.5] [907.0, 442.5]\n",
      "[20.0, 586.5] [907.0, 442.5]\n",
      "[555.5, 420.0] [907.0, 442.5]\n",
      "[56.0, 586.5] [907.0, 442.5]\n",
      "[1238.0, 460.0] [907.0, 442.5]\n",
      "[905.5, 442.5] [907.0, 442.5]\n",
      "[1200.0, 460.0] [1095.5, 469.5]\n",
      "[1200.0, 460.0] [1127.0, 469.5]\n",
      "[1200.0, 460.0] [1143.5, 469.5]\n",
      "[1200.0, 460.0] [1230.5, 568.5]\n",
      "[[((1159, 400), (1241, 520)), 270.0], [((198, 481), (229, 503)), 1.0], [((666, 616), (697, 629)), 1.0], [((9, 571), (31, 602)), 1.0], [((540, 409), (571, 431)), 1.0], [((45, 571), (67, 602)), 1.0], [((1197, 419), (1279, 501)), 11.0], [((874, 418), (937, 467)), 4.0]]\n"
     ]
    },
    {
     "name": "stderr",
     "output_type": "stream",
     "text": [
      "\r",
      " 84%|█████████████████████████████████████████████████████████████████▎            | 210/251 [1:15:59<14:42, 21.53s/it]"
     ]
    },
    {
     "name": "stdout",
     "output_type": "stream",
     "text": [
      "[1200.0, 450.5] [907.0, 442.5]\n",
      "[213.5, 492.0] [907.0, 442.5]\n",
      "[681.5, 622.5] [907.0, 442.5]\n",
      "[20.0, 586.5] [907.0, 442.5]\n",
      "[555.5, 420.0] [907.0, 442.5]\n",
      "[56.0, 586.5] [907.0, 442.5]\n",
      "[1238.0, 460.0] [907.0, 442.5]\n",
      "[907.0, 442.5] [907.0, 442.5]\n",
      "[1200.0, 450.5] [1171.5, 465.5]\n",
      "[1200.0, 450.5] [1109.0, 465.0]\n",
      "[[((1159, 400), (1241, 501)), 272.0], [((198, 481), (229, 503)), 1.0], [((666, 616), (697, 629)), 1.0], [((9, 571), (31, 602)), 1.0], [((540, 409), (571, 431)), 1.0], [((45, 571), (67, 602)), 1.0], [((1197, 419), (1279, 501)), 10.0], [((874, 418), (940, 467)), 5.0]]\n"
     ]
    },
    {
     "name": "stderr",
     "output_type": "stream",
     "text": [
      "\r",
      " 84%|█████████████████████████████████████████████████████████████████▌            | 211/251 [1:16:20<14:18, 21.46s/it]"
     ]
    },
    {
     "name": "stdout",
     "output_type": "stream",
     "text": [
      "[1171.5, 465.5] [1178.0, 451.5]\n",
      "[1171.5, 465.5] [905.5, 442.5]\n",
      "[1171.5, 465.5] [1100.0, 465.0]\n",
      "[1171.5, 465.5] [1125.0, 469.5]\n",
      "[[((1121, 419), (1222, 512)), 276.0], [((198, 481), (229, 503)), 1.0], [((666, 616), (697, 629)), 1.0], [((9, 571), (31, 602)), 1.0], [((540, 409), (571, 431)), 1.0], [((45, 571), (67, 602)), 1.0], [((1197, 419), (1279, 501)), 9.0], [((874, 418), (940, 467)), 4.0]]\n"
     ]
    },
    {
     "name": "stderr",
     "output_type": "stream",
     "text": [
      "\r",
      " 84%|█████████████████████████████████████████████████████████████████▉            | 212/251 [1:16:41<13:52, 21.34s/it]"
     ]
    },
    {
     "name": "stdout",
     "output_type": "stream",
     "text": [
      "[1178.0, 451.5] [905.5, 438.0]\n",
      "[1178.0, 451.5] [1146.5, 460.0]\n",
      "[1178.0, 451.5] [1028.0, 528.0]\n",
      "[[((1134, 400), (1222, 503)), 279.0], [((198, 481), (229, 503)), 1.0], [((666, 616), (697, 629)), 1.0], [((9, 571), (31, 602)), 1.0], [((540, 409), (571, 431)), 1.0], [((45, 571), (67, 602)), 1.0], [((1197, 419), (1279, 501)), 8.0], [((874, 418), (940, 467)), 3.0]]\n"
     ]
    },
    {
     "name": "stderr",
     "output_type": "stream",
     "text": [
      "\r",
      " 85%|██████████████████████████████████████████████████████████████████▏           | 213/251 [1:17:02<13:27, 21.24s/it]"
     ]
    },
    {
     "name": "stdout",
     "output_type": "stream",
     "text": [
      "[1146.5, 460.0] [907.0, 447.0]\n",
      "[1146.5, 460.0] [1142.0, 460.0]\n",
      "[[((1071, 419), (1222, 501)), 281.0], [((198, 481), (229, 503)), 1.0], [((666, 616), (697, 629)), 1.0], [((9, 571), (31, 602)), 1.0], [((540, 409), (571, 431)), 1.0], [((45, 571), (67, 602)), 1.0], [((1197, 419), (1279, 501)), 7.0], [((874, 418), (940, 467)), 2.0]]\n"
     ]
    },
    {
     "name": "stderr",
     "output_type": "stream",
     "text": [
      "\r",
      " 85%|██████████████████████████████████████████████████████████████████▌           | 214/251 [1:17:23<13:01, 21.12s/it]"
     ]
    },
    {
     "name": "stdout",
     "output_type": "stream",
     "text": [
      "[1142.0, 460.0] [907.0, 450.0]\n",
      "[1142.0, 460.0] [1132.5, 460.0]\n",
      "[[((1062, 419), (1222, 501)), 283.0], [((198, 481), (229, 503)), 1.0], [((666, 616), (697, 629)), 1.0], [((9, 571), (31, 602)), 1.0], [((540, 409), (571, 431)), 1.0], [((45, 571), (67, 602)), 1.0], [((1197, 419), (1279, 501)), 6.0], [((874, 418), (940, 467)), 1.0]]\n"
     ]
    },
    {
     "name": "stderr",
     "output_type": "stream",
     "text": [
      "\r",
      " 86%|██████████████████████████████████████████████████████████████████▊           | 215/251 [1:17:45<12:46, 21.29s/it]"
     ]
    },
    {
     "name": "stdout",
     "output_type": "stream",
     "text": [
      "[1132.5, 460.0] [1159.5, 451.5]\n",
      "[1132.5, 460.0] [907.0, 450.0]\n",
      "[1132.5, 460.0] [1095.5, 474.0]\n",
      "[1132.5, 460.0] [38.0, 577.5]\n",
      "[213.5, 492.0] [38.0, 577.5]\n",
      "[[((1062, 419), (1203, 501)), 286.0], [((198, 481), (229, 503)), 2.0], [((666, 616), (697, 629)), 1.0], [((9, 571), (31, 602)), 1.0], [((540, 409), (571, 431)), 1.0], [((45, 571), (67, 602)), 1.0], [((1197, 419), (1279, 501)), 5.0], [((874, 418), (940, 467)), 1.0]]\n"
     ]
    },
    {
     "name": "stderr",
     "output_type": "stream",
     "text": [
      "\r",
      " 86%|███████████████████████████████████████████████████████████████████           | 216/251 [1:18:08<12:47, 21.94s/it]"
     ]
    },
    {
     "name": "stdout",
     "output_type": "stream",
     "text": [
      "[1159.5, 451.5] [1158.5, 455.0]\n",
      "[1159.5, 451.5] [911.5, 450.0]\n",
      "[1159.5, 451.5] [1082.0, 465.0]\n",
      "[[((1116, 400), (1203, 503)), 289.0], [((27, 562), (49, 593)), 1.0], [((666, 616), (697, 629)), 1.0], [((9, 571), (31, 602)), 1.0], [((540, 409), (571, 431)), 1.0], [((45, 571), (67, 602)), 1.0], [((1197, 419), (1279, 501)), 4.0], [((874, 418), (940, 467)), 1.0]]\n"
     ]
    },
    {
     "name": "stderr",
     "output_type": "stream",
     "text": [
      "\r",
      " 86%|███████████████████████████████████████████████████████████████████▍          | 217/251 [1:18:29<12:16, 21.67s/it]"
     ]
    },
    {
     "name": "stdout",
     "output_type": "stream",
     "text": [
      "[1158.5, 455.0] [1122.5, 450.5]\n",
      "[1158.5, 455.0] [905.5, 442.5]\n",
      "[1158.5, 455.0] [681.5, 496.5]\n",
      "[38.0, 577.5] [681.5, 496.5]\n",
      "[681.5, 622.5] [681.5, 496.5]\n",
      "[1158.5, 455.0] [1257.5, 496.5]\n",
      "[1158.5, 455.0] [677.0, 564.0]\n",
      "[38.0, 577.5] [677.0, 564.0]\n",
      "[681.5, 622.5] [677.0, 564.0]\n",
      "[[((1116, 409), (1201, 501)), 292.0], [((27, 562), (49, 593)), 1.0], [((666, 616), (697, 629)), 3.0], [((9, 571), (31, 602)), 1.0], [((540, 409), (571, 431)), 1.0], [((45, 571), (67, 602)), 1.0], [((1197, 419), (1279, 501)), 3.0], [((874, 418), (940, 467)), 1.0]]\n"
     ]
    },
    {
     "name": "stderr",
     "output_type": "stream",
     "text": [
      "\r",
      " 87%|███████████████████████████████████████████████████████████████████▋          | 218/251 [1:18:50<11:50, 21.52s/it]"
     ]
    },
    {
     "name": "stdout",
     "output_type": "stream",
     "text": [
      "[1122.5, 450.5] [1113.5, 450.5]\n",
      "[1122.5, 450.5] [905.5, 442.5]\n",
      "[1122.5, 450.5] [672.5, 492.0]\n",
      "[38.0, 577.5] [672.5, 492.0]\n",
      "[681.5, 496.5] [672.5, 492.0]\n",
      "[1122.5, 450.5] [1248.5, 492.0]\n",
      "[[((1062, 400), (1183, 501)), 295.0], [((27, 562), (49, 593)), 1.0], [((666, 481), (697, 512)), 4.0], [((9, 571), (31, 602)), 1.0], [((540, 409), (571, 431)), 1.0], [((45, 571), (67, 602)), 1.0], [((1197, 419), (1279, 501)), 2.0], [((874, 418), (940, 467)), 1.0]]\n"
     ]
    },
    {
     "name": "stderr",
     "output_type": "stream",
     "text": [
      "\r",
      " 87%|████████████████████████████████████████████████████████████████████          | 219/251 [1:19:11<11:23, 21.36s/it]"
     ]
    },
    {
     "name": "stdout",
     "output_type": "stream",
     "text": [
      "[1113.5, 450.5] [905.5, 440.5]\n",
      "[1113.5, 450.5] [1109.5, 456.0]\n",
      "[1113.5, 450.5] [1237.5, 492.0]\n",
      "[1113.5, 450.5] [1248.5, 573.0]\n",
      "[[((1044, 400), (1183, 501)), 299.0], [((27, 562), (49, 593)), 1.0], [((648, 472), (697, 512)), 3.0], [((9, 571), (31, 602)), 1.0], [((540, 409), (571, 431)), 1.0], [((45, 571), (67, 602)), 1.0], [((1197, 419), (1279, 501)), 1.0], [((874, 418), (940, 467)), 1.0]]\n"
     ]
    },
    {
     "name": "stderr",
     "output_type": "stream",
     "text": [
      "\r",
      " 88%|████████████████████████████████████████████████████████████████████▎         | 220/251 [1:19:32<10:58, 21.25s/it]"
     ]
    },
    {
     "name": "stdout",
     "output_type": "stream",
     "text": [
      "[1109.5, 456.0] [898.0, 442.5]\n",
      "[1109.5, 456.0] [1073.0, 460.5]\n",
      "[1109.5, 456.0] [1104.5, 465.0]\n",
      "[1109.5, 456.0] [1230.5, 496.5]\n",
      "[1109.5, 456.0] [1239.5, 568.5]\n",
      "[1109.5, 456.0] [1253.0, 622.5]\n",
      "[38.0, 577.5] [1253.0, 622.5]\n",
      "[672.5, 492.0] [1253.0, 622.5]\n",
      "[20.0, 586.5] [1253.0, 622.5]\n",
      "[555.5, 420.0] [1253.0, 622.5]\n",
      "[56.0, 586.5] [1253.0, 622.5]\n",
      "[1238.0, 460.0] [1253.0, 622.5]\n",
      "[[((1035, 418), (1184, 494)), 304.0], [((27, 562), (49, 593)), 1.0], [((648, 472), (697, 512)), 2.0], [((9, 571), (31, 602)), 1.0], [((540, 409), (571, 431)), 1.0], [((45, 571), (67, 602)), 1.0], [((1197, 419), (1279, 501)), 2.0], [((874, 418), (940, 467)), 1.0]]\n"
     ]
    },
    {
     "name": "stderr",
     "output_type": "stream",
     "text": [
      "\r",
      " 88%|████████████████████████████████████████████████████████████████████▋         | 221/251 [1:19:54<10:37, 21.26s/it]"
     ]
    },
    {
     "name": "stdout",
     "output_type": "stream",
     "text": [
      "[898.0, 442.5] [898.0, 436.0]\n",
      "[898.0, 442.5] [1239.5, 424.5]\n",
      "[38.0, 577.5] [1239.5, 424.5]\n",
      "[672.5, 492.0] [1239.5, 424.5]\n",
      "[20.0, 586.5] [1239.5, 424.5]\n",
      "[555.5, 420.0] [1239.5, 424.5]\n",
      "[56.0, 586.5] [1239.5, 424.5]\n",
      "[1253.0, 622.5] [1239.5, 424.5]\n",
      "[898.0, 442.5] [1108.5, 464.0]\n",
      "[898.0, 442.5] [1226.0, 492.0]\n",
      "[38.0, 577.5] [1226.0, 492.0]\n",
      "[672.5, 492.0] [1226.0, 492.0]\n",
      "[20.0, 586.5] [1226.0, 492.0]\n",
      "[555.5, 420.0] [1226.0, 492.0]\n",
      "[56.0, 586.5] [1226.0, 492.0]\n",
      "[1253.0, 622.5] [1226.0, 492.0]\n",
      "[898.0, 442.5] [1032.5, 555.0]\n",
      "[898.0, 442.5] [744.5, 573.0]\n",
      "[898.0, 442.5] [1238.0, 602.5]\n",
      "[38.0, 577.5] [1238.0, 602.5]\n",
      "[672.5, 492.0] [1238.0, 602.5]\n",
      "[20.0, 586.5] [1238.0, 602.5]\n",
      "[555.5, 420.0] [1238.0, 602.5]\n",
      "[56.0, 586.5] [1238.0, 602.5]\n",
      "[1253.0, 622.5] [1238.0, 602.5]\n",
      "[[((874, 418), (922, 467)), 308.0], [((27, 562), (49, 593)), 1.0], [((648, 472), (697, 512)), 1.0], [((9, 571), (31, 602)), 1.0], [((540, 409), (571, 431)), 1.0], [((45, 571), (67, 602)), 1.0], [((1233, 607), (1273, 638)), 5.0], [((874, 418), (940, 467)), 1.0]]\n"
     ]
    },
    {
     "name": "stderr",
     "output_type": "stream",
     "text": [
      "\r",
      " 88%|████████████████████████████████████████████████████████████████████▉         | 222/251 [1:20:15<10:13, 21.16s/it]"
     ]
    },
    {
     "name": "stdout",
     "output_type": "stream",
     "text": [
      "[1108.5, 464.0] [1118.0, 438.0]\n",
      "[1108.5, 464.0] [1226.0, 415.5]\n",
      "[1108.5, 464.0] [898.0, 440.5]\n",
      "[1108.5, 464.0] [1055.0, 469.5]\n",
      "[[((1071, 427), (1146, 501)), 312.0], [((27, 562), (49, 593)), 1.0], [((648, 472), (697, 512)), 1.0], [((9, 571), (31, 602)), 1.0], [((540, 409), (571, 431)), 1.0], [((45, 571), (67, 602)), 1.0], [((1216, 571), (1260, 634)), 4.0], [((874, 418), (940, 467)), 1.0]]\n"
     ]
    },
    {
     "name": "stderr",
     "output_type": "stream",
     "text": [
      "\r",
      " 89%|█████████████████████████████████████████████████████████████████████▎        | 223/251 [1:20:35<09:49, 21.06s/it]"
     ]
    },
    {
     "name": "stdout",
     "output_type": "stream",
     "text": [
      "[1118.0, 438.0] [898.0, 440.5]\n",
      "[1118.0, 438.0] [1085.5, 456.5]\n",
      "[1118.0, 438.0] [1121.5, 495.5]\n",
      "[1118.0, 438.0] [1239.5, 613.5]\n",
      "[[((1071, 400), (1165, 476)), 316.0], [((27, 562), (49, 593)), 1.0], [((648, 472), (697, 512)), 1.0], [((9, 571), (31, 602)), 1.0], [((540, 409), (571, 431)), 1.0], [((45, 571), (67, 602)), 1.0], [((1216, 571), (1260, 634)), 3.0], [((874, 418), (940, 467)), 1.0]]\n"
     ]
    },
    {
     "name": "stderr",
     "output_type": "stream",
     "text": [
      "\r",
      " 89%|█████████████████████████████████████████████████████████████████████▌        | 224/251 [1:20:59<09:49, 21.83s/it]"
     ]
    },
    {
     "name": "stdout",
     "output_type": "stream",
     "text": [
      "[1085.5, 456.5] [898.0, 440.5]\n",
      "[1085.5, 456.5] [1226.0, 424.5]\n",
      "[1085.5, 456.5] [1228.5, 460.5]\n",
      "[1085.5, 456.5] [1085.5, 468.5]\n",
      "[[((1044, 419), (1127, 494)), 320.0], [((27, 562), (49, 593)), 1.0], [((648, 472), (697, 512)), 1.0], [((9, 571), (31, 602)), 1.0], [((540, 409), (571, 431)), 1.0], [((45, 571), (67, 602)), 1.0], [((1216, 571), (1260, 634)), 2.0], [((874, 418), (940, 467)), 1.0]]\n"
     ]
    },
    {
     "name": "stderr",
     "output_type": "stream",
     "text": [
      "\r",
      " 90%|█████████████████████████████████████████████████████████████████████▉        | 225/251 [1:21:20<09:21, 21.58s/it]"
     ]
    },
    {
     "name": "stdout",
     "output_type": "stream",
     "text": [
      "[1085.5, 468.5] [898.0, 440.5]\n",
      "[1085.5, 468.5] [1091.0, 459.5]\n",
      "[1085.5, 468.5] [1221.5, 475.5]\n",
      "[1085.5, 468.5] [1109.0, 546.0]\n",
      "[1085.5, 468.5] [1257.5, 559.5]\n",
      "[[((1044, 436), (1127, 501)), 325.0], [((27, 562), (49, 593)), 1.0], [((648, 472), (697, 512)), 1.0], [((9, 571), (31, 602)), 1.0], [((540, 409), (571, 431)), 1.0], [((45, 571), (67, 602)), 1.0], [((1216, 571), (1260, 634)), 1.0], [((874, 418), (940, 467)), 1.0]]\n"
     ]
    },
    {
     "name": "stderr",
     "output_type": "stream",
     "text": [
      "\r",
      " 90%|██████████████████████████████████████████████████████████████████████▏       | 226/251 [1:21:41<08:55, 21.41s/it]"
     ]
    },
    {
     "name": "stdout",
     "output_type": "stream",
     "text": [
      "[1091.0, 459.5] [898.0, 440.5]\n",
      "[1091.0, 459.5] [1095.0, 460.0]\n",
      "[1091.0, 459.5] [1248.5, 451.5]\n",
      "[1091.0, 459.5] [1194.5, 478.5]\n",
      "[1091.0, 459.5] [191.0, 510.0]\n",
      "[38.0, 577.5] [191.0, 510.0]\n",
      "[1091.0, 459.5] [1208.0, 559.5]\n",
      "[1091.0, 459.5] [1235.0, 546.0]\n",
      "[1091.0, 459.5] [1244.0, 604.5]\n",
      "[[((1035, 418), (1147, 501)), 332.0], [((27, 562), (49, 593)), 2.0], [((648, 472), (697, 512)), 1.0], [((9, 571), (31, 602)), 1.0], [((540, 409), (571, 431)), 1.0], [((45, 571), (67, 602)), 1.0], [((1216, 571), (1260, 634)), 1.0], [((874, 418), (940, 467)), 1.0]]\n"
     ]
    },
    {
     "name": "stderr",
     "output_type": "stream",
     "text": [
      "\r",
      " 90%|██████████████████████████████████████████████████████████████████████▌       | 227/251 [1:22:02<08:29, 21.24s/it]"
     ]
    },
    {
     "name": "stdout",
     "output_type": "stream",
     "text": [
      "[1095.0, 460.0] [898.0, 440.5]\n",
      "[1095.0, 460.0] [1091.5, 450.0]\n",
      "[1095.0, 460.0] [1239.5, 460.5]\n",
      "[1095.0, 460.0] [1185.5, 483.0]\n",
      "[1095.0, 460.0] [1248.5, 540.5]\n",
      "[[((1044, 419), (1146, 501)), 337.0], [((180, 499), (202, 521)), 1.0], [((648, 472), (697, 512)), 1.0], [((9, 571), (31, 602)), 1.0], [((540, 409), (571, 431)), 1.0], [((45, 571), (67, 602)), 1.0], [((1216, 571), (1260, 634)), 1.0], [((874, 418), (940, 467)), 1.0]]\n"
     ]
    },
    {
     "name": "stderr",
     "output_type": "stream",
     "text": [
      "\r",
      " 91%|██████████████████████████████████████████████████████████████████████▊       | 228/251 [1:22:23<08:07, 21.21s/it]"
     ]
    },
    {
     "name": "stdout",
     "output_type": "stream",
     "text": [
      "[1091.5, 450.0] [905.5, 442.5]\n",
      "[1091.5, 450.0] [1091.5, 451.5]\n",
      "[1091.5, 450.0] [1230.5, 460.5]\n",
      "[1091.5, 450.0] [1176.5, 478.5]\n",
      "[1091.5, 450.0] [1014.5, 501.0]\n",
      "[1091.5, 450.0] [1194.5, 573.0]\n",
      "[1091.5, 450.0] [1212.5, 591.0]\n",
      "[[((1045, 418), (1138, 482)), 344.0], [((180, 499), (202, 521)), 1.0], [((648, 472), (697, 512)), 1.0], [((9, 571), (31, 602)), 1.0], [((540, 409), (571, 431)), 1.0], [((45, 571), (67, 602)), 1.0], [((1216, 571), (1260, 634)), 1.0], [((874, 418), (940, 467)), 1.0]]\n"
     ]
    },
    {
     "name": "stderr",
     "output_type": "stream",
     "text": [
      "\r",
      " 91%|███████████████████████████████████████████████████████████████████████▏      | 229/251 [1:22:44<07:46, 21.21s/it]"
     ]
    },
    {
     "name": "stdout",
     "output_type": "stream",
     "text": [
      "[1091.5, 451.5] [1217.0, 464.5]\n",
      "[1091.5, 451.5] [893.5, 438.0]\n",
      "[1091.5, 451.5] [1063.0, 459.5]\n",
      "[1091.5, 451.5] [1143.0, 469.5]\n",
      "[1091.5, 451.5] [1214.0, 595.5]\n",
      "[[((1045, 418), (1138, 485)), 349.0], [((180, 499), (202, 521)), 1.0], [((648, 472), (697, 512)), 1.0], [((9, 571), (31, 602)), 1.0], [((540, 409), (571, 431)), 1.0], [((45, 571), (67, 602)), 1.0], [((1216, 571), (1260, 634)), 1.0], [((874, 418), (940, 467)), 1.0]]\n"
     ]
    },
    {
     "name": "stderr",
     "output_type": "stream",
     "text": [
      "\r",
      " 92%|███████████████████████████████████████████████████████████████████████▍      | 230/251 [1:23:05<07:24, 21.17s/it]"
     ]
    },
    {
     "name": "stdout",
     "output_type": "stream",
     "text": [
      "[1063.0, 459.5] [1244.5, 433.5]\n",
      "[1063.0, 459.5] [1203.5, 424.5]\n",
      "[1063.0, 459.5] [907.0, 442.5]\n",
      "[1063.0, 459.5] [1096.5, 450.0]\n",
      "[1063.0, 459.5] [1048.0, 469.5]\n",
      "[1063.0, 459.5] [1136.0, 523.5]\n",
      "[1063.0, 459.5] [1176.5, 568.0]\n",
      "[1063.0, 459.5] [1226.0, 595.5]\n",
      "[[((988, 418), (1138, 501)), 357.0], [((180, 499), (202, 521)), 1.0], [((648, 472), (697, 512)), 1.0], [((9, 571), (31, 602)), 1.0], [((540, 409), (571, 431)), 1.0], [((45, 571), (67, 602)), 1.0], [((1216, 571), (1260, 634)), 1.0], [((874, 418), (940, 467)), 1.0]]\n"
     ]
    },
    {
     "name": "stderr",
     "output_type": "stream",
     "text": [
      "\r",
      " 92%|███████████████████████████████████████████████████████████████████████▊      | 231/251 [1:23:26<07:02, 21.14s/it]"
     ]
    },
    {
     "name": "stdout",
     "output_type": "stream",
     "text": [
      "[1096.5, 450.0] [1246.5, 424.5]\n",
      "[1096.5, 450.0] [915.5, 442.5]\n",
      "[1096.5, 450.0] [1076.5, 450.0]\n",
      "[1096.5, 450.0] [1230.5, 460.5]\n",
      "[1096.5, 450.0] [1163.0, 478.5]\n",
      "[1096.5, 450.0] [1201.0, 573.0]\n",
      "[1096.5, 450.0] [672.5, 636.0]\n",
      "[191.0, 510.0] [672.5, 636.0]\n",
      "[672.5, 492.0] [672.5, 636.0]\n",
      "[[((1064, 418), (1129, 482)), 363.0], [((180, 499), (202, 521)), 1.0], [((648, 472), (697, 512)), 2.0], [((9, 571), (31, 602)), 1.0], [((540, 409), (571, 431)), 1.0], [((45, 571), (67, 602)), 1.0], [((1216, 571), (1260, 634)), 1.0], [((874, 418), (940, 467)), 1.0]]\n"
     ]
    },
    {
     "name": "stderr",
     "output_type": "stream",
     "text": [
      "\r",
      " 92%|████████████████████████████████████████████████████████████████████████      | 232/251 [1:23:48<06:45, 21.35s/it]"
     ]
    },
    {
     "name": "stdout",
     "output_type": "stream",
     "text": [
      "[1076.5, 450.0] [1196.0, 436.0]\n",
      "[1076.5, 450.0] [1239.5, 424.5]\n",
      "[1076.5, 450.0] [897.5, 433.5]\n",
      "[1076.5, 450.0] [1086.0, 459.5]\n",
      "[1076.5, 450.0] [933.5, 445.0]\n",
      "[1076.5, 450.0] [1029.0, 469.5]\n",
      "[1076.5, 450.0] [1242.0, 460.5]\n",
      "[1076.5, 450.0] [1144.5, 478.5]\n",
      "[1076.5, 450.0] [1167.5, 478.5]\n",
      "[1076.5, 450.0] [1005.5, 500.0]\n",
      "[1076.5, 450.0] [1167.5, 559.0]\n",
      "[1076.5, 450.0] [825.5, 604.5]\n",
      "[191.0, 510.0] [825.5, 604.5]\n",
      "[672.5, 636.0] [825.5, 604.5]\n",
      "[[((1026, 418), (1127, 482)), 374.0], [((180, 499), (202, 521)), 1.0], [((657, 625), (688, 647)), 3.0], [((9, 571), (31, 602)), 1.0], [((540, 409), (571, 431)), 1.0], [((45, 571), (67, 602)), 1.0], [((1216, 571), (1260, 634)), 1.0], [((874, 418), (940, 467)), 1.0]]\n"
     ]
    },
    {
     "name": "stderr",
     "output_type": "stream",
     "text": [
      "\r",
      " 93%|████████████████████████████████████████████████████████████████████████▍     | 233/251 [1:24:11<06:34, 21.93s/it]"
     ]
    },
    {
     "name": "stdout",
     "output_type": "stream",
     "text": [
      "[1086.0, 459.5] [1181.0, 464.5]\n",
      "[1086.0, 459.5] [920.0, 440.5]\n",
      "[1086.0, 459.5] [1073.0, 468.5]\n",
      "[1086.0, 459.5] [672.5, 510.0]\n",
      "[191.0, 510.0] [672.5, 510.0]\n",
      "[825.5, 604.5] [672.5, 510.0]\n",
      "[1086.0, 459.5] [1167.5, 564.0]\n",
      "[1086.0, 459.5] [1158.5, 586.5]\n",
      "[[((1045, 418), (1127, 501)), 379.0], [((180, 499), (202, 521)), 1.0], [((810, 589), (841, 620)), 4.0], [((9, 571), (31, 602)), 1.0], [((540, 409), (571, 431)), 1.0], [((45, 571), (67, 602)), 1.0], [((1216, 571), (1260, 634)), 1.0], [((874, 418), (940, 467)), 1.0]]\n"
     ]
    },
    {
     "name": "stderr",
     "output_type": "stream",
     "text": [
      "\r",
      " 93%|████████████████████████████████████████████████████████████████████████▋     | 234/251 [1:24:32<06:07, 21.64s/it]"
     ]
    },
    {
     "name": "stdout",
     "output_type": "stream",
     "text": [
      "[1181.0, 464.5] [1212.0, 438.0]\n",
      "[1181.0, 464.5] [915.5, 442.5]\n",
      "[1181.0, 464.5] [1068.5, 459.5]\n",
      "[1181.0, 464.5] [659.0, 523.5]\n",
      "[191.0, 510.0] [659.0, 523.5]\n",
      "[672.5, 510.0] [659.0, 523.5]\n",
      "[1181.0, 464.5] [1109.0, 577.5]\n",
      "[[((1107, 409), (1255, 520)), 383.0], [((180, 499), (202, 521)), 1.0], [((657, 490), (688, 530)), 5.0], [((9, 571), (31, 602)), 1.0], [((540, 409), (571, 431)), 1.0], [((45, 571), (67, 602)), 1.0], [((1216, 571), (1260, 634)), 1.0], [((874, 418), (940, 467)), 1.0]]\n"
     ]
    },
    {
     "name": "stderr",
     "output_type": "stream",
     "text": [
      "\r",
      " 94%|█████████████████████████████████████████████████████████████████████████     | 235/251 [1:24:53<05:43, 21.45s/it]"
     ]
    },
    {
     "name": "stdout",
     "output_type": "stream",
     "text": [
      "[1068.5, 459.5] [919.0, 442.5]\n",
      "[1068.5, 459.5] [1205.5, 447.0]\n",
      "[1068.5, 459.5] [1059.5, 450.5]\n",
      "[1068.5, 459.5] [1145.0, 475.5]\n",
      "[1068.5, 459.5] [65.0, 573.0]\n",
      "[191.0, 510.0] [65.0, 573.0]\n",
      "[[((1026, 418), (1111, 501)), 387.0], [((180, 499), (202, 521)), 2.0], [((648, 508), (670, 539)), 4.0], [((9, 571), (31, 602)), 1.0], [((540, 409), (571, 431)), 1.0], [((45, 571), (67, 602)), 1.0], [((1216, 571), (1260, 634)), 1.0], [((874, 418), (940, 467)), 1.0]]\n"
     ]
    },
    {
     "name": "stderr",
     "output_type": "stream",
     "text": [
      "\r",
      " 94%|█████████████████████████████████████████████████████████████████████████▎    | 236/251 [1:25:15<05:20, 21.37s/it]"
     ]
    },
    {
     "name": "stdout",
     "output_type": "stream",
     "text": [
      "[1059.5, 450.5] [915.5, 442.5]\n",
      "[1059.5, 450.5] [1109.5, 460.0]\n",
      "[1059.5, 450.5] [1190.5, 441.0]\n",
      "[1059.5, 450.5] [1010.0, 469.5]\n",
      "[1059.5, 450.5] [1028.0, 468.0]\n",
      "[1059.5, 450.5] [1195.5, 477.0]\n",
      "[1059.5, 450.5] [1248.5, 492.0]\n",
      "[[((1008, 419), (1111, 482)), 394.0], [((54, 562), (76, 584)), 1.0], [((648, 508), (670, 539)), 3.0], [((9, 571), (31, 602)), 1.0], [((540, 409), (571, 431)), 1.0], [((45, 571), (67, 602)), 1.0], [((1216, 571), (1260, 634)), 1.0], [((874, 418), (940, 467)), 1.0]]\n"
     ]
    },
    {
     "name": "stderr",
     "output_type": "stream",
     "text": [
      "\r",
      " 94%|█████████████████████████████████████████████████████████████████████████▋    | 237/251 [1:25:37<05:02, 21.58s/it]"
     ]
    },
    {
     "name": "stdout",
     "output_type": "stream",
     "text": [
      "[1109.5, 460.0] [1181.0, 442.5]\n",
      "[1109.5, 460.0] [924.5, 442.5]\n",
      "[1109.5, 460.0] [1073.5, 450.5]\n",
      "[1109.5, 460.0] [1248.5, 451.5]\n",
      "[1109.5, 460.0] [1143.0, 550.5]\n",
      "[1109.5, 460.0] [1190.0, 573.0]\n",
      "[1109.5, 460.0] [1244.0, 564.0]\n",
      "[1109.5, 460.0] [1217.0, 573.0]\n",
      "[[((1045, 419), (1174, 501)), 402.0], [((54, 562), (76, 584)), 1.0], [((648, 508), (670, 539)), 2.0], [((9, 571), (31, 602)), 1.0], [((540, 409), (571, 431)), 1.0], [((45, 571), (67, 602)), 1.0], [((1216, 571), (1260, 634)), 1.0], [((874, 418), (940, 467)), 1.0]]\n"
     ]
    },
    {
     "name": "stderr",
     "output_type": "stream",
     "text": [
      "\r",
      " 95%|█████████████████████████████████████████████████████████████████████████▉    | 238/251 [1:25:58<04:38, 21.43s/it]"
     ]
    },
    {
     "name": "stdout",
     "output_type": "stream",
     "text": [
      "[1181.0, 442.5] [1172.0, 447.0]\n",
      "[1181.0, 442.5] [923.5, 438.0]\n",
      "[1181.0, 442.5] [1059.5, 454.5]\n",
      "[1181.0, 442.5] [1237.0, 449.5]\n",
      "[1181.0, 442.5] [1032.5, 465.0]\n",
      "[1181.0, 442.5] [1095.5, 469.5]\n",
      "[[((1134, 400), (1228, 485)), 408.0], [((54, 562), (76, 584)), 1.0], [((648, 508), (670, 539)), 1.0], [((9, 571), (31, 602)), 1.0], [((540, 409), (571, 431)), 1.0], [((45, 571), (67, 602)), 1.0], [((1216, 571), (1260, 634)), 1.0], [((874, 418), (940, 467)), 1.0]]\n"
     ]
    },
    {
     "name": "stderr",
     "output_type": "stream",
     "text": [
      "\r",
      " 95%|██████████████████████████████████████████████████████████████████████████▎   | 239/251 [1:26:19<04:15, 21.30s/it]"
     ]
    },
    {
     "name": "stdout",
     "output_type": "stream",
     "text": [
      "[1172.0, 447.0] [1183.5, 447.0]\n",
      "[1172.0, 447.0] [924.5, 442.5]\n",
      "[1172.0, 447.0] [1228.5, 496.0]\n",
      "[1172.0, 447.0] [1097.0, 509.5]\n",
      "[1172.0, 447.0] [1140.5, 561.0]\n",
      "[1172.0, 447.0] [1200.0, 536.0]\n",
      "[[((1116, 400), (1228, 494)), 414.0], [((54, 562), (76, 584)), 1.0], [((648, 508), (670, 539)), 1.0], [((9, 571), (31, 602)), 1.0], [((540, 409), (571, 431)), 1.0], [((45, 571), (67, 602)), 1.0], [((1216, 571), (1260, 634)), 1.0], [((874, 418), (940, 467)), 1.0]]\n"
     ]
    },
    {
     "name": "stderr",
     "output_type": "stream",
     "text": [
      "\r",
      " 96%|██████████████████████████████████████████████████████████████████████████▌   | 240/251 [1:26:40<03:52, 21.18s/it]"
     ]
    },
    {
     "name": "stdout",
     "output_type": "stream",
     "text": [
      "[1183.5, 447.0] [1143.0, 464.5]\n",
      "[1183.5, 447.0] [924.5, 450.0]\n",
      "[1183.5, 447.0] [1242.0, 451.5]\n",
      "[1183.5, 447.0] [1078.5, 443.5]\n",
      "[1183.5, 447.0] [997.0, 469.5]\n",
      "[1183.5, 447.0] [1221.5, 487.5]\n",
      "[1183.5, 447.0] [1131.5, 545.0]\n",
      "[1183.5, 447.0] [1181.0, 577.5]\n",
      "[1183.5, 447.0] [1102.0, 568.5]\n",
      "[1183.5, 447.0] [636.5, 627.0]\n",
      "[65.0, 573.0] [636.5, 627.0]\n",
      "[659.0, 523.5] [636.5, 627.0]\n",
      "[[((1107, 400), (1260, 494)), 423.0], [((54, 562), (76, 584)), 1.0], [((648, 508), (670, 539)), 2.0], [((9, 571), (31, 602)), 1.0], [((540, 409), (571, 431)), 1.0], [((45, 571), (67, 602)), 1.0], [((1216, 571), (1260, 634)), 1.0], [((874, 418), (940, 467)), 1.0]]\n"
     ]
    },
    {
     "name": "stderr",
     "output_type": "stream",
     "text": [
      "\r",
      " 96%|██████████████████████████████████████████████████████████████████████████▉   | 241/251 [1:27:07<03:51, 23.11s/it]"
     ]
    },
    {
     "name": "stdout",
     "output_type": "stream",
     "text": [
      "[1143.0, 464.5] [1118.0, 493.0]\n",
      "[1143.0, 464.5] [923.5, 442.5]\n",
      "[1143.0, 464.5] [1218.5, 449.5]\n",
      "[1143.0, 464.5] [1235.0, 451.5]\n",
      "[1143.0, 464.5] [1001.0, 469.5]\n",
      "[[((1064, 409), (1222, 520)), 428.0], [((54, 562), (76, 584)), 1.0], [((621, 616), (652, 638)), 1.0], [((9, 571), (31, 602)), 1.0], [((540, 409), (571, 431)), 1.0], [((45, 571), (67, 602)), 1.0], [((1216, 571), (1260, 634)), 1.0], [((874, 418), (940, 467)), 1.0]]\n"
     ]
    },
    {
     "name": "stderr",
     "output_type": "stream",
     "text": [
      "\r",
      " 96%|███████████████████████████████████████████████████████████████████████████▏  | 242/251 [1:27:30<03:25, 22.89s/it]"
     ]
    },
    {
     "name": "stdout",
     "output_type": "stream",
     "text": [
      "[1118.0, 493.0] [1127.5, 483.0]\n",
      "[1118.0, 493.0] [924.5, 450.0]\n",
      "[1118.0, 493.0] [1230.5, 451.5]\n",
      "[1118.0, 493.0] [987.5, 486.5]\n",
      "[1118.0, 493.0] [1235.5, 487.5]\n",
      "[[((1026, 409), (1210, 577)), 433.0], [((54, 562), (76, 584)), 1.0], [((621, 616), (652, 638)), 1.0], [((9, 571), (31, 602)), 1.0], [((540, 409), (571, 431)), 1.0], [((45, 571), (67, 602)), 1.0], [((1216, 571), (1260, 634)), 1.0], [((874, 418), (940, 467)), 1.0]]\n"
     ]
    },
    {
     "name": "stderr",
     "output_type": "stream",
     "text": [
      "\r",
      " 97%|███████████████████████████████████████████████████████████████████████████▌  | 243/251 [1:27:52<03:02, 22.76s/it]"
     ]
    },
    {
     "name": "stdout",
     "output_type": "stream",
     "text": [
      "[1127.5, 483.0] [1114.5, 465.0]\n",
      "[1127.5, 483.0] [923.5, 442.5]\n",
      "[1127.5, 483.0] [1226.0, 451.5]\n",
      "[1127.5, 483.0] [1120.0, 541.5]\n",
      "[[((1045, 409), (1210, 557)), 437.0], [((54, 562), (76, 584)), 1.0], [((621, 616), (652, 638)), 1.0], [((9, 571), (31, 602)), 1.0], [((540, 409), (571, 431)), 1.0], [((45, 571), (67, 602)), 1.0], [((1216, 571), (1260, 634)), 1.0], [((874, 418), (940, 467)), 1.0]]\n"
     ]
    },
    {
     "name": "stderr",
     "output_type": "stream",
     "text": [
      "\r",
      " 97%|███████████████████████████████████████████████████████████████████████████▊  | 244/251 [1:28:15<02:39, 22.77s/it]"
     ]
    },
    {
     "name": "stdout",
     "output_type": "stream",
     "text": [
      "[1114.5, 465.0] [1146.0, 460.0]\n",
      "[1114.5, 465.0] [923.5, 450.0]\n",
      "[1114.5, 465.0] [1221.5, 478.0]\n",
      "[1114.5, 465.0] [1011.5, 469.5]\n",
      "[1114.5, 465.0] [1067.0, 469.5]\n",
      "[1114.5, 465.0] [1078.5, 509.5]\n",
      "[1114.5, 465.0] [1208.0, 559.5]\n",
      "[1114.5, 465.0] [1073.0, 559.5]\n",
      "[1114.5, 465.0] [1226.0, 564.0]\n",
      "[[((1026, 400), (1203, 530)), 446.0], [((54, 562), (76, 584)), 1.0], [((621, 616), (652, 638)), 1.0], [((9, 571), (31, 602)), 1.0], [((540, 409), (571, 431)), 1.0], [((45, 571), (67, 602)), 1.0], [((1216, 571), (1260, 634)), 1.0], [((874, 418), (940, 467)), 1.0]]\n"
     ]
    },
    {
     "name": "stderr",
     "output_type": "stream",
     "text": [
      "\r",
      " 98%|████████████████████████████████████████████████████████████████████████████▏ | 245/251 [1:28:37<02:15, 22.64s/it]"
     ]
    },
    {
     "name": "stdout",
     "output_type": "stream",
     "text": [
      "[1146.0, 460.0] [1095.5, 487.5]\n",
      "[1146.0, 460.0] [923.5, 442.5]\n",
      "[1146.0, 460.0] [1242.5, 488.5]\n",
      "[1146.0, 460.0] [1046.5, 537.0]\n",
      "[1146.0, 460.0] [1083.5, 565.0]\n",
      "[[((1089, 400), (1203, 520)), 451.0], [((54, 562), (76, 584)), 1.0], [((621, 616), (652, 638)), 1.0], [((9, 571), (31, 602)), 1.0], [((540, 409), (571, 431)), 1.0], [((45, 571), (67, 602)), 1.0], [((1216, 571), (1260, 634)), 1.0], [((874, 418), (940, 467)), 1.0]]\n"
     ]
    },
    {
     "name": "stderr",
     "output_type": "stream",
     "text": [
      "\r",
      " 98%|████████████████████████████████████████████████████████████████████████████▍ | 246/251 [1:29:00<01:53, 22.66s/it]"
     ]
    },
    {
     "name": "stdout",
     "output_type": "stream",
     "text": [
      "[1095.5, 487.5] [1141.0, 478.5]\n",
      "[1095.5, 487.5] [924.5, 442.5]\n",
      "[1095.5, 487.5] [1228.0, 514.0]\n",
      "[1095.5, 487.5] [1190.0, 559.5]\n",
      "[1095.5, 487.5] [1140.5, 568.5]\n",
      "[1095.5, 487.5] [1172.0, 564.0]\n",
      "[[((988, 400), (1203, 575)), 457.0], [((54, 562), (76, 584)), 1.0], [((621, 616), (652, 638)), 1.0], [((9, 571), (31, 602)), 1.0], [((540, 409), (571, 431)), 1.0], [((45, 571), (67, 602)), 1.0], [((1216, 571), (1260, 634)), 1.0], [((874, 418), (940, 467)), 1.0]]\n"
     ]
    },
    {
     "name": "stderr",
     "output_type": "stream",
     "text": [
      "\r",
      " 98%|████████████████████████████████████████████████████████████████████████████▊ | 247/251 [1:29:23<01:30, 22.65s/it]"
     ]
    },
    {
     "name": "stdout",
     "output_type": "stream",
     "text": [
      "[1141.0, 478.5] [1143.0, 460.0]\n",
      "[1141.0, 478.5] [924.5, 450.0]\n",
      "[1141.0, 478.5] [1014.0, 454.0]\n",
      "[1141.0, 478.5] [1120.0, 532.5]\n",
      "[1141.0, 478.5] [24.5, 568.5]\n",
      "[65.0, 573.0] [24.5, 568.5]\n",
      "[[((1045, 400), (1237, 557)), 461.0], [((54, 562), (76, 584)), 2.0], [((621, 616), (652, 638)), 1.0], [((9, 571), (31, 602)), 1.0], [((540, 409), (571, 431)), 1.0], [((45, 571), (67, 602)), 1.0], [((1216, 571), (1260, 634)), 1.0], [((874, 418), (940, 467)), 1.0]]\n"
     ]
    },
    {
     "name": "stderr",
     "output_type": "stream",
     "text": [
      "\r",
      " 99%|█████████████████████████████████████████████████████████████████████████████ | 248/251 [1:29:46<01:08, 22.83s/it]"
     ]
    },
    {
     "name": "stdout",
     "output_type": "stream",
     "text": [
      "[1143.0, 460.0] [1165.0, 460.0]\n",
      "[1143.0, 460.0] [924.5, 442.5]\n",
      "[1143.0, 460.0] [1053.0, 450.5]\n",
      "[1143.0, 460.0] [1105.0, 469.5]\n",
      "[1143.0, 460.0] [1246.5, 496.5]\n",
      "[1143.0, 460.0] [1078.0, 528.0]\n",
      "[[((1026, 400), (1260, 520)), 467.0], [((9, 553), (40, 584)), 1.0], [((621, 616), (652, 638)), 1.0], [((9, 571), (31, 602)), 1.0], [((540, 409), (571, 431)), 1.0], [((45, 571), (67, 602)), 1.0], [((1216, 571), (1260, 634)), 1.0], [((874, 418), (940, 467)), 1.0]]\n"
     ]
    },
    {
     "name": "stderr",
     "output_type": "stream",
     "text": [
      "\r",
      " 99%|█████████████████████████████████████████████████████████████████████████████▍| 249/251 [1:30:11<00:47, 23.54s/it]"
     ]
    },
    {
     "name": "stdout",
     "output_type": "stream",
     "text": [
      "[1165.0, 460.0] [923.5, 433.5]\n",
      "[1165.0, 460.0] [1152.5, 478.5]\n",
      "[1165.0, 460.0] [1043.5, 441.0]\n",
      "[1165.0, 460.0] [1067.0, 479.0]\n",
      "[1165.0, 460.0] [1212.5, 537.0]\n",
      "[[((1102, 400), (1228, 520)), 472.0], [((9, 553), (40, 584)), 1.0], [((621, 616), (652, 638)), 1.0], [((9, 571), (31, 602)), 1.0], [((540, 409), (571, 431)), 1.0], [((45, 571), (67, 602)), 1.0], [((1216, 571), (1260, 634)), 1.0], [((874, 418), (940, 467)), 1.0]]\n"
     ]
    },
    {
     "name": "stderr",
     "output_type": "stream",
     "text": [
      "100%|█████████████████████████████████████████████████████████████████████████████▋| 250/251 [1:30:32<00:22, 22.91s/it]\n"
     ]
    },
    {
     "name": "stdout",
     "output_type": "stream",
     "text": [
      "[MoviePy] Done.\n",
      "[MoviePy] >>>> Video ready: out.mp4 \n",
      "\n"
     ]
    }
   ],
   "source": [
    "from moviepy.editor import VideoFileClip, CompositeVideoClip\n",
    "from IPython.display import HTML\n",
    "\n",
    "output = 'out.mp4'\n",
    "clip = VideoFileClip(\"project_video.mp4\").subclip(20,30)\n",
    "detected   = clip.fl_image(draw)\n",
    "detected.write_videofile(output, audio=False)"
   ]
  },
  {
   "cell_type": "code",
   "execution_count": 8,
   "metadata": {
    "collapsed": false
   },
   "outputs": [
    {
     "data": {
      "text/html": [
       "\n",
       "<video width=\"640\" controls>\n",
       "  <source src=\"out.mp4\">\n",
       "</video>\"\n"
      ],
      "text/plain": [
       "<IPython.core.display.HTML object>"
      ]
     },
     "execution_count": 8,
     "metadata": {},
     "output_type": "execute_result"
    }
   ],
   "source": [
    "HTML(\"\"\"\n",
    "<video width=\"640\" controls>\n",
    "  <source src=\"{0}\">\n",
    "</video>\"\n",
    "\"\"\".format(output))"
   ]
  },
  {
   "cell_type": "code",
   "execution_count": null,
   "metadata": {
    "collapsed": true
   },
   "outputs": [],
   "source": []
  },
  {
   "cell_type": "code",
   "execution_count": null,
   "metadata": {
    "collapsed": true
   },
   "outputs": [],
   "source": []
  }
 ],
 "metadata": {
  "kernelspec": {
   "display_name": "Python 3",
   "language": "python",
   "name": "python3"
  },
  "language_info": {
   "codemirror_mode": {
    "name": "ipython",
    "version": 3
   },
   "file_extension": ".py",
   "mimetype": "text/x-python",
   "name": "python",
   "nbconvert_exporter": "python",
   "pygments_lexer": "ipython3",
   "version": "3.5.3"
  }
 },
 "nbformat": 4,
 "nbformat_minor": 2
}
